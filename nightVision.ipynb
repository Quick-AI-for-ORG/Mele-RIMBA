{
 "cells": [
  {
   "cell_type": "code",
   "execution_count": 11,
   "metadata": {},
   "outputs": [],
   "source": [
    "import cv2 as cv \n",
    "import numpy as np"
   ]
  },
  {
   "cell_type": "markdown",
   "metadata": {},
   "source": [
    "## Night vision"
   ]
  },
  {
   "cell_type": "code",
   "execution_count": 12,
   "metadata": {},
   "outputs": [],
   "source": [
    "def simulate_night_vision(image_path):\n",
    "    image = cv.imread(image_path)\n",
    "    if image is None:\n",
    "        raise ValueError(f\"Image not found at {image_path}\")\n",
    "\n",
    "    gray_image = cv.cvtColor(image, cv.COLOR_BGR2GRAY)\n",
    "\n",
    "    green_tint = np.zeros_like(image)\n",
    "    green_tint[:, :, 1] = gray_image \n",
    "    night_vision_image = cv.addWeighted(green_tint, 0.8, image, 0.2, 0)\n",
    "\n",
    "    alpha = 1.5  # Contrast\n",
    "    beta = -50   # Brightness\n",
    "    night_vision_image = cv.convertScaleAbs(night_vision_image, alpha=alpha, beta=beta)\n",
    "\n",
    "    noise = np.random.normal(0, 25, night_vision_image.shape).astype(np.uint8)\n",
    "    noisy_image = cv.add(night_vision_image, noise)\n",
    "\n",
    "    blurred_image = cv.GaussianBlur(noisy_image, (5, 5), 0)\n",
    "    kernel = np.array([[0, -1, 0],\n",
    "                       [-1, 5, -1],\n",
    "                       [0, -1, 0]])\n",
    "    sharpened_image = cv.filter2D(blurred_image, -1, kernel)\n",
    "\n",
    "    return sharpened_image\n"
   ]
  },
  {
   "cell_type": "markdown",
   "metadata": {},
   "source": [
    "## night camera"
   ]
  },
  {
   "cell_type": "code",
   "execution_count": 13,
   "metadata": {},
   "outputs": [],
   "source": [
    "\n",
    "def simulate_normal_night(image_path):\n",
    "    image = cv.imread(image_path)\n",
    "    if image is None:\n",
    "        raise ValueError(f\"Image not found at {image_path}\")\n",
    "    \n",
    "    alpha = 1.2  # Contrast control (1.0-3.0)\n",
    "    beta = -60   # Brightness control (-100 to 100)\n",
    "    night_image = cv.convertScaleAbs(image, alpha=alpha, beta=beta)\n",
    "\n",
    "    noise = np.random.normal(0, 15, night_image.shape).astype(np.uint8)\n",
    "    noisy_image = cv.add(night_image, noise)\n",
    "\n",
    "    blurred_image = cv.GaussianBlur(noisy_image, (3, 3), 0)\n",
    "\n",
    "    return blurred_image"
   ]
  },
  {
   "cell_type": "markdown",
   "metadata": {},
   "source": [
    "## Testing night vision"
   ]
  },
  {
   "cell_type": "code",
   "execution_count": 20,
   "metadata": {},
   "outputs": [],
   "source": [
    "image_path = 'Classifiers/Datasets/train/bee/bee00001_jpg.rf.13c40f6659e49cdd8b3d1b3aeb0a6e6b.jpg'\n",
    "night_vision_output = simulate_night_vision(image_path)\n",
    "\n",
    "cv.imshow('Simulated Night Vision', night_vision_output)\n",
    "cv.waitKey(0)\n",
    "cv.destroyAllWindows()"
   ]
  },
  {
   "cell_type": "markdown",
   "metadata": {},
   "source": [
    "## Testing night camera"
   ]
  },
  {
   "cell_type": "code",
   "execution_count": 19,
   "metadata": {},
   "outputs": [],
   "source": [
    "normal_night_output = simulate_normal_night(image_path)\n",
    "\n",
    "cv.imshow('Simulated Normal Night Camera', normal_night_output)\n",
    "cv.waitKey(0)\n",
    "cv.destroyAllWindows()"
   ]
  },
  {
   "cell_type": "code",
   "execution_count": null,
   "metadata": {},
   "outputs": [],
   "source": []
  }
 ],
 "metadata": {
  "kernelspec": {
   "display_name": "Python 3",
   "language": "python",
   "name": "python3"
  },
  "language_info": {
   "codemirror_mode": {
    "name": "ipython",
    "version": 3
   },
   "file_extension": ".py",
   "mimetype": "text/x-python",
   "name": "python",
   "nbconvert_exporter": "python",
   "pygments_lexer": "ipython3",
   "version": "3.10.6"
  }
 },
 "nbformat": 4,
 "nbformat_minor": 2
}
