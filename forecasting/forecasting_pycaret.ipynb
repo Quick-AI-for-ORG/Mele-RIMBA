{
 "cells": [
  {
   "cell_type": "code",
   "execution_count": null,
   "metadata": {},
   "outputs": [],
   "source": [
    "import numpy as np\n",
    "import pandas as pd\n",
    "import matplotlib.pyplot as plt\n",
    "from pycaret.time_series import TSForecastingExperiment"
   ]
  },
  {
   "cell_type": "markdown",
   "metadata": {},
   "source": [
    "### Load and preprocess data"
   ]
  },
  {
   "cell_type": "code",
   "execution_count": null,
   "metadata": {},
   "outputs": [],
   "source": [
    "def loadAndPreprocessData(filePath):\n",
    "    data = pd.read_csv(filePath)\n",
    "    data['Date_Time'] = pd.to_datetime(data['Date_Time'])\n",
    "    data = data.sort_values(by='Date_Time').reset_index(drop=True)\n",
    "    \n",
    "    data['Date'] = data['Date_Time'].dt.date\n",
    "    dailyData = data.groupby('Date').agg({\n",
    "        'Temperature_C': 'mean'\n",
    "    }).reset_index()\n",
    "\n",
    "    dailyData['Date'] = pd.to_datetime(dailyData['Date'])\n",
    "    dailyData = dailyData.set_index('Date').asfreq('D')\n",
    "    dailyData = dailyData.interpolate(method='time') \n",
    "    \n",
    "    return dailyData"
   ]
  },
  {
   "cell_type": "markdown",
   "metadata": {},
   "source": [
    "### Splitting the data into training & testing "
   ]
  },
  {
   "cell_type": "code",
   "execution_count": null,
   "metadata": {},
   "outputs": [],
   "source": [
    "def splitData(data, splitRatio=0.8):\n",
    "    splitIndex = int(len(data) * splitRatio)\n",
    "    trainData = data.iloc[:splitIndex].copy()\n",
    "    testData = data.iloc[splitIndex:].copy()\n",
    "    return trainData, testData"
   ]
  },
  {
   "cell_type": "markdown",
   "metadata": {},
   "source": [
    "### Train pycaret ARIMA Model "
   ]
  },
  {
   "cell_type": "code",
   "execution_count": null,
   "metadata": {},
   "outputs": [],
   "source": [
    "def setupPycaretExperiment(trainData, targetColumn='Temperature_C'):\n",
    "    exp = TSForecastingExperiment()\n",
    "    exp.setup(\n",
    "        data=trainData,\n",
    "        target=targetColumn,\n",
    "        numeric_imputation_target='mean',  \n",
    "        session_id=123\n",
    "    )\n",
    "    return exp"
   ]
  },
  {
   "cell_type": "code",
   "execution_count": null,
   "metadata": {},
   "outputs": [],
   "source": [
    "def trainArimaModel(exp):\n",
    "    bestModel = exp.create_model('arima')  \n",
    "    return bestModel"
   ]
  },
  {
   "cell_type": "markdown",
   "metadata": {},
   "source": [
    "### Printing evaluation metrics"
   ]
  },
  {
   "cell_type": "code",
   "execution_count": null,
   "metadata": {},
   "outputs": [],
   "source": [
    "def evaluateForecast(exp, model, forecastHorizon):\n",
    "    forecast = exp.predict_model(model, fh=forecastHorizon)\n",
    "    return forecast"
   ]
  },
  {
   "cell_type": "markdown",
   "metadata": {},
   "source": [
    "### Plotting actual vs forecasted values"
   ]
  },
  {
   "cell_type": "code",
   "execution_count": 24,
   "metadata": {},
   "outputs": [],
   "source": [
    "def plotForecastsVsActual(dates, actual, forecasted, modelName=\"ARIMA\", temp_min=-19.97, temp_max=40.00):\n",
    "    plt.figure(figsize=(10, 5))\n",
    "    plt.plot(dates, actual, marker='o', linestyle='-', label='Actual')\n",
    "    plt.plot(dates, forecasted, marker='o', linestyle='-', label='Forecasted')\n",
    "    \n",
    "    plt.axhline(y=temp_min, color='red', linestyle='--', linewidth=1, label=f'Min Temp: {temp_min:.2f}°C')\n",
    "    plt.axhline(y=temp_max, color='green', linestyle='--', linewidth=1, label=f'Max Temp: {temp_max:.2f}°C')\n",
    "    \n",
    "    plt.title(f'Actual vs Forecasted using {modelName}')\n",
    "    plt.xlabel('Date')\n",
    "    plt.ylabel('Temperature (°C)')\n",
    "    plt.xticks(rotation=45)\n",
    "    plt.legend()\n",
    "    plt.tight_layout()\n",
    "    plt.show()"
   ]
  },
  {
   "cell_type": "code",
   "execution_count": 18,
   "metadata": {},
   "outputs": [
    {
     "data": {
      "text/html": [
       "<style type=\"text/css\">\n",
       "#T_c005d_row31_col1 {\n",
       "  background-color: lightgreen;\n",
       "}\n",
       "</style>\n",
       "<table id=\"T_c005d\">\n",
       "  <thead>\n",
       "    <tr>\n",
       "      <th class=\"blank level0\" >&nbsp;</th>\n",
       "      <th id=\"T_c005d_level0_col0\" class=\"col_heading level0 col0\" >Description</th>\n",
       "      <th id=\"T_c005d_level0_col1\" class=\"col_heading level0 col1\" >Value</th>\n",
       "    </tr>\n",
       "  </thead>\n",
       "  <tbody>\n",
       "    <tr>\n",
       "      <th id=\"T_c005d_level0_row0\" class=\"row_heading level0 row0\" >0</th>\n",
       "      <td id=\"T_c005d_row0_col0\" class=\"data row0 col0\" >session_id</td>\n",
       "      <td id=\"T_c005d_row0_col1\" class=\"data row0 col1\" >123</td>\n",
       "    </tr>\n",
       "    <tr>\n",
       "      <th id=\"T_c005d_level0_row1\" class=\"row_heading level0 row1\" >1</th>\n",
       "      <td id=\"T_c005d_row1_col0\" class=\"data row1 col0\" >Target</td>\n",
       "      <td id=\"T_c005d_row1_col1\" class=\"data row1 col1\" >Temperature_C</td>\n",
       "    </tr>\n",
       "    <tr>\n",
       "      <th id=\"T_c005d_level0_row2\" class=\"row_heading level0 row2\" >2</th>\n",
       "      <td id=\"T_c005d_row2_col0\" class=\"data row2 col0\" >Approach</td>\n",
       "      <td id=\"T_c005d_row2_col1\" class=\"data row2 col1\" >Univariate</td>\n",
       "    </tr>\n",
       "    <tr>\n",
       "      <th id=\"T_c005d_level0_row3\" class=\"row_heading level0 row3\" >3</th>\n",
       "      <td id=\"T_c005d_row3_col0\" class=\"data row3 col0\" >Exogenous Variables</td>\n",
       "      <td id=\"T_c005d_row3_col1\" class=\"data row3 col1\" >Not Present</td>\n",
       "    </tr>\n",
       "    <tr>\n",
       "      <th id=\"T_c005d_level0_row4\" class=\"row_heading level0 row4\" >4</th>\n",
       "      <td id=\"T_c005d_row4_col0\" class=\"data row4 col0\" >Original data shape</td>\n",
       "      <td id=\"T_c005d_row4_col1\" class=\"data row4 col1\" >(111, 1)</td>\n",
       "    </tr>\n",
       "    <tr>\n",
       "      <th id=\"T_c005d_level0_row5\" class=\"row_heading level0 row5\" >5</th>\n",
       "      <td id=\"T_c005d_row5_col0\" class=\"data row5 col0\" >Transformed data shape</td>\n",
       "      <td id=\"T_c005d_row5_col1\" class=\"data row5 col1\" >(111, 1)</td>\n",
       "    </tr>\n",
       "    <tr>\n",
       "      <th id=\"T_c005d_level0_row6\" class=\"row_heading level0 row6\" >6</th>\n",
       "      <td id=\"T_c005d_row6_col0\" class=\"data row6 col0\" >Transformed train set shape</td>\n",
       "      <td id=\"T_c005d_row6_col1\" class=\"data row6 col1\" >(110, 1)</td>\n",
       "    </tr>\n",
       "    <tr>\n",
       "      <th id=\"T_c005d_level0_row7\" class=\"row_heading level0 row7\" >7</th>\n",
       "      <td id=\"T_c005d_row7_col0\" class=\"data row7 col0\" >Transformed test set shape</td>\n",
       "      <td id=\"T_c005d_row7_col1\" class=\"data row7 col1\" >(1, 1)</td>\n",
       "    </tr>\n",
       "    <tr>\n",
       "      <th id=\"T_c005d_level0_row8\" class=\"row_heading level0 row8\" >8</th>\n",
       "      <td id=\"T_c005d_row8_col0\" class=\"data row8 col0\" >Rows with missing values</td>\n",
       "      <td id=\"T_c005d_row8_col1\" class=\"data row8 col1\" >0.0%</td>\n",
       "    </tr>\n",
       "    <tr>\n",
       "      <th id=\"T_c005d_level0_row9\" class=\"row_heading level0 row9\" >9</th>\n",
       "      <td id=\"T_c005d_row9_col0\" class=\"data row9 col0\" >Fold Generator</td>\n",
       "      <td id=\"T_c005d_row9_col1\" class=\"data row9 col1\" >ExpandingWindowSplitter</td>\n",
       "    </tr>\n",
       "    <tr>\n",
       "      <th id=\"T_c005d_level0_row10\" class=\"row_heading level0 row10\" >10</th>\n",
       "      <td id=\"T_c005d_row10_col0\" class=\"data row10 col0\" >Fold Number</td>\n",
       "      <td id=\"T_c005d_row10_col1\" class=\"data row10 col1\" >3</td>\n",
       "    </tr>\n",
       "    <tr>\n",
       "      <th id=\"T_c005d_level0_row11\" class=\"row_heading level0 row11\" >11</th>\n",
       "      <td id=\"T_c005d_row11_col0\" class=\"data row11 col0\" >Enforce Prediction Interval</td>\n",
       "      <td id=\"T_c005d_row11_col1\" class=\"data row11 col1\" >False</td>\n",
       "    </tr>\n",
       "    <tr>\n",
       "      <th id=\"T_c005d_level0_row12\" class=\"row_heading level0 row12\" >12</th>\n",
       "      <td id=\"T_c005d_row12_col0\" class=\"data row12 col0\" >Splits used for hyperparameters</td>\n",
       "      <td id=\"T_c005d_row12_col1\" class=\"data row12 col1\" >all</td>\n",
       "    </tr>\n",
       "    <tr>\n",
       "      <th id=\"T_c005d_level0_row13\" class=\"row_heading level0 row13\" >13</th>\n",
       "      <td id=\"T_c005d_row13_col0\" class=\"data row13 col0\" >User Defined Seasonal Period(s)</td>\n",
       "      <td id=\"T_c005d_row13_col1\" class=\"data row13 col1\" >None</td>\n",
       "    </tr>\n",
       "    <tr>\n",
       "      <th id=\"T_c005d_level0_row14\" class=\"row_heading level0 row14\" >14</th>\n",
       "      <td id=\"T_c005d_row14_col0\" class=\"data row14 col0\" >Ignore Seasonality Test</td>\n",
       "      <td id=\"T_c005d_row14_col1\" class=\"data row14 col1\" >False</td>\n",
       "    </tr>\n",
       "    <tr>\n",
       "      <th id=\"T_c005d_level0_row15\" class=\"row_heading level0 row15\" >15</th>\n",
       "      <td id=\"T_c005d_row15_col0\" class=\"data row15 col0\" >Seasonality Detection Algo</td>\n",
       "      <td id=\"T_c005d_row15_col1\" class=\"data row15 col1\" >auto</td>\n",
       "    </tr>\n",
       "    <tr>\n",
       "      <th id=\"T_c005d_level0_row16\" class=\"row_heading level0 row16\" >16</th>\n",
       "      <td id=\"T_c005d_row16_col0\" class=\"data row16 col0\" >Max Period to Consider</td>\n",
       "      <td id=\"T_c005d_row16_col1\" class=\"data row16 col1\" >60</td>\n",
       "    </tr>\n",
       "    <tr>\n",
       "      <th id=\"T_c005d_level0_row17\" class=\"row_heading level0 row17\" >17</th>\n",
       "      <td id=\"T_c005d_row17_col0\" class=\"data row17 col0\" >Seasonal Period(s) Tested</td>\n",
       "      <td id=\"T_c005d_row17_col1\" class=\"data row17 col1\" >[]</td>\n",
       "    </tr>\n",
       "    <tr>\n",
       "      <th id=\"T_c005d_level0_row18\" class=\"row_heading level0 row18\" >18</th>\n",
       "      <td id=\"T_c005d_row18_col0\" class=\"data row18 col0\" >Significant Seasonal Period(s)</td>\n",
       "      <td id=\"T_c005d_row18_col1\" class=\"data row18 col1\" >[1]</td>\n",
       "    </tr>\n",
       "    <tr>\n",
       "      <th id=\"T_c005d_level0_row19\" class=\"row_heading level0 row19\" >19</th>\n",
       "      <td id=\"T_c005d_row19_col0\" class=\"data row19 col0\" >Significant Seasonal Period(s) without Harmonics</td>\n",
       "      <td id=\"T_c005d_row19_col1\" class=\"data row19 col1\" >[1]</td>\n",
       "    </tr>\n",
       "    <tr>\n",
       "      <th id=\"T_c005d_level0_row20\" class=\"row_heading level0 row20\" >20</th>\n",
       "      <td id=\"T_c005d_row20_col0\" class=\"data row20 col0\" >Remove Harmonics</td>\n",
       "      <td id=\"T_c005d_row20_col1\" class=\"data row20 col1\" >False</td>\n",
       "    </tr>\n",
       "    <tr>\n",
       "      <th id=\"T_c005d_level0_row21\" class=\"row_heading level0 row21\" >21</th>\n",
       "      <td id=\"T_c005d_row21_col0\" class=\"data row21 col0\" >Harmonics Order Method</td>\n",
       "      <td id=\"T_c005d_row21_col1\" class=\"data row21 col1\" >harmonic_max</td>\n",
       "    </tr>\n",
       "    <tr>\n",
       "      <th id=\"T_c005d_level0_row22\" class=\"row_heading level0 row22\" >22</th>\n",
       "      <td id=\"T_c005d_row22_col0\" class=\"data row22 col0\" >Num Seasonalities to Use</td>\n",
       "      <td id=\"T_c005d_row22_col1\" class=\"data row22 col1\" >1</td>\n",
       "    </tr>\n",
       "    <tr>\n",
       "      <th id=\"T_c005d_level0_row23\" class=\"row_heading level0 row23\" >23</th>\n",
       "      <td id=\"T_c005d_row23_col0\" class=\"data row23 col0\" >All Seasonalities to Use</td>\n",
       "      <td id=\"T_c005d_row23_col1\" class=\"data row23 col1\" >[1]</td>\n",
       "    </tr>\n",
       "    <tr>\n",
       "      <th id=\"T_c005d_level0_row24\" class=\"row_heading level0 row24\" >24</th>\n",
       "      <td id=\"T_c005d_row24_col0\" class=\"data row24 col0\" >Primary Seasonality</td>\n",
       "      <td id=\"T_c005d_row24_col1\" class=\"data row24 col1\" >1</td>\n",
       "    </tr>\n",
       "    <tr>\n",
       "      <th id=\"T_c005d_level0_row25\" class=\"row_heading level0 row25\" >25</th>\n",
       "      <td id=\"T_c005d_row25_col0\" class=\"data row25 col0\" >Seasonality Present</td>\n",
       "      <td id=\"T_c005d_row25_col1\" class=\"data row25 col1\" >False</td>\n",
       "    </tr>\n",
       "    <tr>\n",
       "      <th id=\"T_c005d_level0_row26\" class=\"row_heading level0 row26\" >26</th>\n",
       "      <td id=\"T_c005d_row26_col0\" class=\"data row26 col0\" >Seasonality Type</td>\n",
       "      <td id=\"T_c005d_row26_col1\" class=\"data row26 col1\" >None</td>\n",
       "    </tr>\n",
       "    <tr>\n",
       "      <th id=\"T_c005d_level0_row27\" class=\"row_heading level0 row27\" >27</th>\n",
       "      <td id=\"T_c005d_row27_col0\" class=\"data row27 col0\" >Target Strictly Positive</td>\n",
       "      <td id=\"T_c005d_row27_col1\" class=\"data row27 col1\" >True</td>\n",
       "    </tr>\n",
       "    <tr>\n",
       "      <th id=\"T_c005d_level0_row28\" class=\"row_heading level0 row28\" >28</th>\n",
       "      <td id=\"T_c005d_row28_col0\" class=\"data row28 col0\" >Target White Noise</td>\n",
       "      <td id=\"T_c005d_row28_col1\" class=\"data row28 col1\" >No</td>\n",
       "    </tr>\n",
       "    <tr>\n",
       "      <th id=\"T_c005d_level0_row29\" class=\"row_heading level0 row29\" >29</th>\n",
       "      <td id=\"T_c005d_row29_col0\" class=\"data row29 col0\" >Recommended d</td>\n",
       "      <td id=\"T_c005d_row29_col1\" class=\"data row29 col1\" >1</td>\n",
       "    </tr>\n",
       "    <tr>\n",
       "      <th id=\"T_c005d_level0_row30\" class=\"row_heading level0 row30\" >30</th>\n",
       "      <td id=\"T_c005d_row30_col0\" class=\"data row30 col0\" >Recommended Seasonal D</td>\n",
       "      <td id=\"T_c005d_row30_col1\" class=\"data row30 col1\" >0</td>\n",
       "    </tr>\n",
       "    <tr>\n",
       "      <th id=\"T_c005d_level0_row31\" class=\"row_heading level0 row31\" >31</th>\n",
       "      <td id=\"T_c005d_row31_col0\" class=\"data row31 col0\" >Preprocess</td>\n",
       "      <td id=\"T_c005d_row31_col1\" class=\"data row31 col1\" >True</td>\n",
       "    </tr>\n",
       "    <tr>\n",
       "      <th id=\"T_c005d_level0_row32\" class=\"row_heading level0 row32\" >32</th>\n",
       "      <td id=\"T_c005d_row32_col0\" class=\"data row32 col0\" >Numerical Imputation (Target)</td>\n",
       "      <td id=\"T_c005d_row32_col1\" class=\"data row32 col1\" >mean</td>\n",
       "    </tr>\n",
       "    <tr>\n",
       "      <th id=\"T_c005d_level0_row33\" class=\"row_heading level0 row33\" >33</th>\n",
       "      <td id=\"T_c005d_row33_col0\" class=\"data row33 col0\" >Transformation (Target)</td>\n",
       "      <td id=\"T_c005d_row33_col1\" class=\"data row33 col1\" >None</td>\n",
       "    </tr>\n",
       "    <tr>\n",
       "      <th id=\"T_c005d_level0_row34\" class=\"row_heading level0 row34\" >34</th>\n",
       "      <td id=\"T_c005d_row34_col0\" class=\"data row34 col0\" >Scaling (Target)</td>\n",
       "      <td id=\"T_c005d_row34_col1\" class=\"data row34 col1\" >None</td>\n",
       "    </tr>\n",
       "    <tr>\n",
       "      <th id=\"T_c005d_level0_row35\" class=\"row_heading level0 row35\" >35</th>\n",
       "      <td id=\"T_c005d_row35_col0\" class=\"data row35 col0\" >Feature Engineering (Target) - Reduced Regression</td>\n",
       "      <td id=\"T_c005d_row35_col1\" class=\"data row35 col1\" >False</td>\n",
       "    </tr>\n",
       "    <tr>\n",
       "      <th id=\"T_c005d_level0_row36\" class=\"row_heading level0 row36\" >36</th>\n",
       "      <td id=\"T_c005d_row36_col0\" class=\"data row36 col0\" >CPU Jobs</td>\n",
       "      <td id=\"T_c005d_row36_col1\" class=\"data row36 col1\" >-1</td>\n",
       "    </tr>\n",
       "    <tr>\n",
       "      <th id=\"T_c005d_level0_row37\" class=\"row_heading level0 row37\" >37</th>\n",
       "      <td id=\"T_c005d_row37_col0\" class=\"data row37 col0\" >Use GPU</td>\n",
       "      <td id=\"T_c005d_row37_col1\" class=\"data row37 col1\" >False</td>\n",
       "    </tr>\n",
       "    <tr>\n",
       "      <th id=\"T_c005d_level0_row38\" class=\"row_heading level0 row38\" >38</th>\n",
       "      <td id=\"T_c005d_row38_col0\" class=\"data row38 col0\" >Log Experiment</td>\n",
       "      <td id=\"T_c005d_row38_col1\" class=\"data row38 col1\" >False</td>\n",
       "    </tr>\n",
       "    <tr>\n",
       "      <th id=\"T_c005d_level0_row39\" class=\"row_heading level0 row39\" >39</th>\n",
       "      <td id=\"T_c005d_row39_col0\" class=\"data row39 col0\" >Experiment Name</td>\n",
       "      <td id=\"T_c005d_row39_col1\" class=\"data row39 col1\" >ts-default-name</td>\n",
       "    </tr>\n",
       "    <tr>\n",
       "      <th id=\"T_c005d_level0_row40\" class=\"row_heading level0 row40\" >40</th>\n",
       "      <td id=\"T_c005d_row40_col0\" class=\"data row40 col0\" >USI</td>\n",
       "      <td id=\"T_c005d_row40_col1\" class=\"data row40 col1\" >d500</td>\n",
       "    </tr>\n",
       "  </tbody>\n",
       "</table>\n"
      ],
      "text/plain": [
       "<pandas.io.formats.style.Styler at 0x22e070d6020>"
      ]
     },
     "metadata": {},
     "output_type": "display_data"
    },
    {
     "data": {
      "text/html": [],
      "text/plain": [
       "<IPython.core.display.HTML object>"
      ]
     },
     "metadata": {},
     "output_type": "display_data"
    },
    {
     "data": {
      "text/html": [
       "<style type=\"text/css\">\n",
       "#T_a87c7_row3_col0, #T_a87c7_row3_col1, #T_a87c7_row3_col2, #T_a87c7_row3_col3, #T_a87c7_row3_col4, #T_a87c7_row3_col5, #T_a87c7_row3_col6 {\n",
       "  background: yellow;\n",
       "}\n",
       "</style>\n",
       "<table id=\"T_a87c7\">\n",
       "  <thead>\n",
       "    <tr>\n",
       "      <th class=\"blank level0\" >&nbsp;</th>\n",
       "      <th id=\"T_a87c7_level0_col0\" class=\"col_heading level0 col0\" >cutoff</th>\n",
       "      <th id=\"T_a87c7_level0_col1\" class=\"col_heading level0 col1\" >MASE</th>\n",
       "      <th id=\"T_a87c7_level0_col2\" class=\"col_heading level0 col2\" >RMSSE</th>\n",
       "      <th id=\"T_a87c7_level0_col3\" class=\"col_heading level0 col3\" >MAE</th>\n",
       "      <th id=\"T_a87c7_level0_col4\" class=\"col_heading level0 col4\" >RMSE</th>\n",
       "      <th id=\"T_a87c7_level0_col5\" class=\"col_heading level0 col5\" >MAPE</th>\n",
       "      <th id=\"T_a87c7_level0_col6\" class=\"col_heading level0 col6\" >SMAPE</th>\n",
       "    </tr>\n",
       "  </thead>\n",
       "  <tbody>\n",
       "    <tr>\n",
       "      <th id=\"T_a87c7_level0_row0\" class=\"row_heading level0 row0\" >0</th>\n",
       "      <td id=\"T_a87c7_row0_col0\" class=\"data row0 col0\" >2024-04-16</td>\n",
       "      <td id=\"T_a87c7_row0_col1\" class=\"data row0 col1\" >0.0160</td>\n",
       "      <td id=\"T_a87c7_row0_col2\" class=\"data row0 col2\" >0.0131</td>\n",
       "      <td id=\"T_a87c7_row0_col3\" class=\"data row0 col3\" >0.0037</td>\n",
       "      <td id=\"T_a87c7_row0_col4\" class=\"data row0 col4\" >0.0037</td>\n",
       "      <td id=\"T_a87c7_row0_col5\" class=\"data row0 col5\" >0.0002</td>\n",
       "      <td id=\"T_a87c7_row0_col6\" class=\"data row0 col6\" >0.0002</td>\n",
       "    </tr>\n",
       "    <tr>\n",
       "      <th id=\"T_a87c7_level0_row1\" class=\"row_heading level0 row1\" >1</th>\n",
       "      <td id=\"T_a87c7_row1_col0\" class=\"data row1 col0\" >2024-04-17</td>\n",
       "      <td id=\"T_a87c7_row1_col1\" class=\"data row1 col1\" >0.0131</td>\n",
       "      <td id=\"T_a87c7_row1_col2\" class=\"data row1 col2\" >0.0108</td>\n",
       "      <td id=\"T_a87c7_row1_col3\" class=\"data row1 col3\" >0.0030</td>\n",
       "      <td id=\"T_a87c7_row1_col4\" class=\"data row1 col4\" >0.0030</td>\n",
       "      <td id=\"T_a87c7_row1_col5\" class=\"data row1 col5\" >0.0002</td>\n",
       "      <td id=\"T_a87c7_row1_col6\" class=\"data row1 col6\" >0.0002</td>\n",
       "    </tr>\n",
       "    <tr>\n",
       "      <th id=\"T_a87c7_level0_row2\" class=\"row_heading level0 row2\" >2</th>\n",
       "      <td id=\"T_a87c7_row2_col0\" class=\"data row2 col0\" >2024-04-18</td>\n",
       "      <td id=\"T_a87c7_row2_col1\" class=\"data row2 col1\" >0.1168</td>\n",
       "      <td id=\"T_a87c7_row2_col2\" class=\"data row2 col2\" >0.0960</td>\n",
       "      <td id=\"T_a87c7_row2_col3\" class=\"data row2 col3\" >0.0268</td>\n",
       "      <td id=\"T_a87c7_row2_col4\" class=\"data row2 col4\" >0.0268</td>\n",
       "      <td id=\"T_a87c7_row2_col5\" class=\"data row2 col5\" >0.0018</td>\n",
       "      <td id=\"T_a87c7_row2_col6\" class=\"data row2 col6\" >0.0018</td>\n",
       "    </tr>\n",
       "    <tr>\n",
       "      <th id=\"T_a87c7_level0_row3\" class=\"row_heading level0 row3\" >Mean</th>\n",
       "      <td id=\"T_a87c7_row3_col0\" class=\"data row3 col0\" >NaT</td>\n",
       "      <td id=\"T_a87c7_row3_col1\" class=\"data row3 col1\" >0.0486</td>\n",
       "      <td id=\"T_a87c7_row3_col2\" class=\"data row3 col2\" >0.0400</td>\n",
       "      <td id=\"T_a87c7_row3_col3\" class=\"data row3 col3\" >0.0112</td>\n",
       "      <td id=\"T_a87c7_row3_col4\" class=\"data row3 col4\" >0.0112</td>\n",
       "      <td id=\"T_a87c7_row3_col5\" class=\"data row3 col5\" >0.0008</td>\n",
       "      <td id=\"T_a87c7_row3_col6\" class=\"data row3 col6\" >0.0008</td>\n",
       "    </tr>\n",
       "    <tr>\n",
       "      <th id=\"T_a87c7_level0_row4\" class=\"row_heading level0 row4\" >SD</th>\n",
       "      <td id=\"T_a87c7_row4_col0\" class=\"data row4 col0\" >NaT</td>\n",
       "      <td id=\"T_a87c7_row4_col1\" class=\"data row4 col1\" >0.0482</td>\n",
       "      <td id=\"T_a87c7_row4_col2\" class=\"data row4 col2\" >0.0396</td>\n",
       "      <td id=\"T_a87c7_row4_col3\" class=\"data row4 col3\" >0.0111</td>\n",
       "      <td id=\"T_a87c7_row4_col4\" class=\"data row4 col4\" >0.0111</td>\n",
       "      <td id=\"T_a87c7_row4_col5\" class=\"data row4 col5\" >0.0007</td>\n",
       "      <td id=\"T_a87c7_row4_col6\" class=\"data row4 col6\" >0.0007</td>\n",
       "    </tr>\n",
       "  </tbody>\n",
       "</table>\n"
      ],
      "text/plain": [
       "<pandas.io.formats.style.Styler at 0x22e04f9ef80>"
      ]
     },
     "metadata": {},
     "output_type": "display_data"
    },
    {
     "data": {
      "text/html": [],
      "text/plain": [
       "<IPython.core.display.HTML object>"
      ]
     },
     "metadata": {},
     "output_type": "display_data"
    }
   ],
   "source": [
    "weatherData = loadAndPreprocessData('weather_data.csv')\n",
    "trainData, testData = splitData(weatherData)\n",
    "forecastHorizon = list(range(1, len(testData) + 1))\n",
    "\n",
    "exp = setupPycaretExperiment(trainData)\n",
    "arimaModel = trainArimaModel(exp)\n",
    "\n",
    "forecast = evaluateForecast(exp, arimaModel, forecastHorizon)"
   ]
  },
  {
   "cell_type": "code",
   "execution_count": 25,
   "metadata": {},
   "outputs": [
    {
     "data": {
      "image/png": "[encoded data removed]",
      "text/plain": [
       "<Figure size 1000x500 with 1 Axes>"
      ]
     },
     "metadata": {},
     "output_type": "display_data"
    }
   ],
   "source": [
    "plotForecastsVsActual(testData.index, testData['Temperature_C'], forecast, \"ARIMA\")"
   ]
  },
  {
   "cell_type": "code",
   "execution_count": null,
   "metadata": {},
   "outputs": [],
   "source": []
  }
 ],
 "metadata": {
  "kernelspec": {
   "display_name": "Python 3",
   "language": "python",
   "name": "python3"
  },
  "language_info": {
   "codemirror_mode": {
    "name": "ipython",
    "version": 3
   },
   "file_extension": ".py",
   "mimetype": "text/x-python",
   "name": "python",
   "nbconvert_exporter": "python",
   "pygments_lexer": "ipython3",
   "version": "3.10.6"
  }
 },
 "nbformat": 4,
 "nbformat_minor": 2
}
