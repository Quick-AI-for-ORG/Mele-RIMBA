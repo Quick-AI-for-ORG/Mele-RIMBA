{
 "cells": [
  {
   "cell_type": "code",
   "execution_count": 44,
   "metadata": {},
   "outputs": [],
   "source": [
    "import numpy as np\n",
    "import pandas as pd\n",
    "import lightgbm as lgb\n",
    "import matplotlib.pyplot as plt\n",
    "from sklearn.model_selection import train_test_split\n",
    "from sklearn.linear_model import HuberRegressor, Ridge\n",
    "from sklearn.metrics import mean_squared_error, mean_absolute_error"
   ]
  },
  {
   "cell_type": "code",
   "execution_count": 45,
   "metadata": {},
   "outputs": [],
   "source": [
    "\n",
    "weather_data = pd.read_csv('weather_data.csv')\n",
    "\n",
    "weather_data['Date_Time'] = pd.to_datetime(weather_data['Date_Time'])\n",
    "\n",
    "weather_data = weather_data.sort_values(by='Date_Time').reset_index(drop=True)\n",
    "\n",
    "X = weather_data[['Humidity_pct', 'Precipitation_mm', 'Wind_Speed_kmh']]\n",
    "y = weather_data['Temperature_C']"
   ]
  },
  {
   "cell_type": "code",
   "execution_count": 46,
   "metadata": {},
   "outputs": [],
   "source": [
    "split_ratio = 0.8\n",
    "split_index = int(len(weather_data) * split_ratio)\n",
    "\n",
    "X_train, X_test = X[:split_index], X[split_index:]\n",
    "y_train, y_test = y[:split_index], y[split_index:]"
   ]
  },
  {
   "cell_type": "code",
   "execution_count": 47,
   "metadata": {},
   "outputs": [
    {
     "name": "stdout",
     "output_type": "stream",
     "text": [
      "800000     2\n",
      "800001     2\n",
      "800002     2\n",
      "800003     2\n",
      "800004     2\n",
      "          ..\n",
      "999995    19\n",
      "999996    19\n",
      "999997    19\n",
      "999998    19\n",
      "999999    19\n",
      "Name: Date_Time, Length: 200000, dtype: int64\n"
     ]
    }
   ],
   "source": [
    "date_time_test = weather_data['Date_Time'][split_index:]\n",
    "\n",
    "hours_extracted = date_time_test.dt.hour\n",
    "\n",
    "print(hours_extracted)"
   ]
  },
  {
   "cell_type": "code",
   "execution_count": 48,
   "metadata": {},
   "outputs": [],
   "source": [
    "def smape(actual, forecast):\n",
    "    actual = np.array(actual)\n",
    "    forecast = np.array(forecast)\n",
    "    numerator = np.abs(forecast - actual)\n",
    "    denominator = (np.abs(actual) + np.abs(forecast)) / 2\n",
    "    return 100 * np.mean(numerator / denominator)"
   ]
  },
  {
   "cell_type": "code",
   "execution_count": 49,
   "metadata": {},
   "outputs": [],
   "source": [
    "def print_metrics(model, mse, mad, smape_val):\n",
    "    print(f\"\\nMetrics for {model}:\")\n",
    "    print(f\"\\tMean Squared Error (MSE): {mse:.5f}\")\n",
    "    print(f\"\\tMean Absolute Deviation (MAD): {mad:.5f}\")\n",
    "    print(f\"\\tRoot Mean Squared Error (RMSE): {np.sqrt(mse):.5f}\")\n",
    "    print(f\"\\tSymmetric Mean Absolute Percentage Error (SMAPE): {smape_val:.5f}\")"
   ]
  },
  {
   "cell_type": "code",
   "execution_count": 50,
   "metadata": {},
   "outputs": [],
   "source": [
    "def plot_forecasts_vs_actual(dates, actual, forecasted, model, data_frame_name):\n",
    "    hours = dates.dt.hour\n",
    "    \n",
    "    y_min = min(actual.min(), forecasted.min())\n",
    "    y_max = max(actual.max(), forecasted.max())\n",
    "    y_range = y_max - y_min\n",
    "    min_range = 1e-2\n",
    "    effective_range = max(y_range, min_range)\n",
    "    y_padding = effective_range * 0.1\n",
    "    y_min_adjusted = y_min - y_padding\n",
    "    y_max_adjusted = y_max + y_padding\n",
    "\n",
    "    plt.figure(figsize=(10, 5))\n",
    "    plt.plot(dates, actual.values, marker='o', linestyle='-', label='Actual')\n",
    "    plt.plot(dates, forecasted, marker='o', linestyle='-', label='Forecasted')\n",
    "    \n",
    "    plt.title(f'Actual vs Forecasted using {model} for {data_frame_name}')\n",
    "    plt.xlabel('Hour (from Date_Time)')\n",
    "    plt.ylabel('Temperature (C)')\n",
    "    plt.ylim(y_min_adjusted, y_max_adjusted)\n",
    "    \n",
    "    plt.xticks(ticks=dates, labels=hours, rotation=45)\n",
    "    \n",
    "    plt.legend()\n",
    "    plt.show()\n"
   ]
  },
  {
   "cell_type": "code",
   "execution_count": 51,
   "metadata": {},
   "outputs": [],
   "source": [
    "def train_and_evaluate_model(model, model_name):\n",
    "    model.fit(X_train, y_train)\n",
    "    \n",
    "    y_pred = model.predict(X_test)\n",
    "    \n",
    "    mse = mean_squared_error(y_test, y_pred)\n",
    "    mad = mean_absolute_error(y_test, y_pred)\n",
    "    smape_val = smape(y_test, y_pred)\n",
    "    \n",
    "    print_metrics(model_name, mse, mad, smape_val)\n",
    "    \n",
    "    plot_forecasts_vs_actual(date_time_test, y_test, y_pred, model_name, 'Weather Data')"
   ]
  },
  {
   "cell_type": "code",
   "execution_count": null,
   "metadata": {},
   "outputs": [
    {
     "name": "stdout",
     "output_type": "stream",
     "text": [
      "\n",
      "Metrics for Huber Regressor:\n",
      "\tMean Squared Error (MSE): 208.50815\n",
      "\tMean Absolute Deviation (MAD): 12.50851\n",
      "\tRoot Mean Squared Error (RMSE): 14.43981\n",
      "\tSymmetric Mean Absolute Percentage Error (SMAPE): 90.90884\n"
     ]
    }
   ],
   "source": [
    "\n",
    "models = [\n",
    "    (HuberRegressor(), 'Huber Regressor'),\n",
    "    (lgb.LGBMRegressor(), 'LightGBM Regressor'),\n",
    "    (Ridge(), 'Ridge Regressor')\n",
    "]\n",
    "\n",
    "for model, name in models:\n",
    "    train_and_evaluate_model(model, name)\n"
   ]
  }
 ],
 "metadata": {
  "kernelspec": {
   "display_name": "Python 3",
   "language": "python",
   "name": "python3"
  },
  "language_info": {
   "codemirror_mode": {
    "name": "ipython",
    "version": 3
   },
   "file_extension": ".py",
   "mimetype": "text/x-python",
   "name": "python",
   "nbconvert_exporter": "python",
   "pygments_lexer": "ipython3",
   "version": "3.10.6"
  }
 },
 "nbformat": 4,
 "nbformat_minor": 2
}
