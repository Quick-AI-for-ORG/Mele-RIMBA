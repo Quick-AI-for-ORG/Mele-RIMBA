{
 "cells": [
  {
   "cell_type": "code",
   "execution_count": null,
   "metadata": {},
   "outputs": [
    {
     "name": "stdout",
     "output_type": "stream",
     "text": [
      "Hourly Weather Data for Tanta, Egypt:\n",
      "Time: 2024-11-18T00:00, Temperature: 15.4°C, Humidity: 91%\n",
      "Time: 2024-11-18T01:00, Temperature: 15.0°C, Humidity: 93%\n",
      "Time: 2024-11-18T02:00, Temperature: 14.8°C, Humidity: 93%\n",
      "Time: 2024-11-18T03:00, Temperature: 14.6°C, Humidity: 94%\n",
      "Time: 2024-11-18T04:00, Temperature: 14.4°C, Humidity: 95%\n",
      "Time: 2024-11-18T05:00, Temperature: 14.1°C, Humidity: 95%\n",
      "Time: 2024-11-18T06:00, Temperature: 14.1°C, Humidity: 95%\n",
      "Time: 2024-11-18T07:00, Temperature: 14.3°C, Humidity: 93%\n",
      "Time: 2024-11-18T08:00, Temperature: 16.5°C, Humidity: 81%\n",
      "Time: 2024-11-18T09:00, Temperature: 18.9°C, Humidity: 69%\n",
      "Time: 2024-11-18T10:00, Temperature: 20.9°C, Humidity: 59%\n",
      "Time: 2024-11-18T11:00, Temperature: 22.2°C, Humidity: 54%\n",
      "Time: 2024-11-18T12:00, Temperature: 23.1°C, Humidity: 48%\n",
      "Time: 2024-11-18T13:00, Temperature: 23.2°C, Humidity: 47%\n",
      "Time: 2024-11-18T14:00, Temperature: 23.6°C, Humidity: 44%\n",
      "Time: 2024-11-18T15:00, Temperature: 23.3°C, Humidity: 45%\n",
      "Time: 2024-11-18T16:00, Temperature: 22.3°C, Humidity: 50%\n",
      "Time: 2024-11-18T17:00, Temperature: 21.2°C, Humidity: 53%\n",
      "Time: 2024-11-18T18:00, Temperature: 19.6°C, Humidity: 59%\n",
      "Time: 2024-11-18T19:00, Temperature: 18.3°C, Humidity: 68%\n",
      "Time: 2024-11-18T20:00, Temperature: 17.2°C, Humidity: 77%\n",
      "Time: 2024-11-18T21:00, Temperature: 16.4°C, Humidity: 84%\n",
      "Time: 2024-11-18T22:00, Temperature: 15.7°C, Humidity: 89%\n",
      "Time: 2024-11-18T23:00, Temperature: 15.3°C, Humidity: 92%\n"
     ]
    }
   ],
   "source": [
    "import requests\n",
    "\n",
    "def get_weather_data(lat, lon, start_date, end_date):\n",
    "  \n",
    "    url = \"https://api.open-meteo.com/v1/forecast\"\n",
    "    \n",
    "    params = {\n",
    "        \"latitude\": lat,\n",
    "        \"longitude\": lon,\n",
    "        \"hourly\": \"temperature_2m,relative_humidity_2m\",\n",
    "        \"start_date\": start_date,\n",
    "        \"end_date\": end_date,\n",
    "        \"timezone\": \"auto\"\n",
    "    }\n",
    "    \n",
    "    \n",
    "    response = requests.get(url, params=params)\n",
    "    \n",
    "   \n",
    "    if response.status_code == 200:\n",
    "        data = response.json()\n",
    "        return data.get(\"hourly\", {})\n",
    "    else:\n",
    "        print(f\"Failed to fetch data: {response.status_code}\")\n",
    "        return None\n",
    "\n",
    "# Location: Tanta, Egypt\n",
    "latitude = 30.7916\n",
    "longitude = 31.0013\n",
    "\n",
    "# Specify the date range\n",
    "start_date = \"2024-11-18\"  # Today's date\n",
    "end_date = \"2024-11-18\"    # Same date for hourly data\n",
    "\n",
    "weather_data = get_weather_data(latitude, longitude, start_date, end_date)\n",
    "\n",
    "if weather_data:\n",
    "    hours = weather_data[\"time\"]\n",
    "    temperatures = weather_data[\"temperature_2m\"]\n",
    "    humidities = weather_data[\"relative_humidity_2m\"]\n",
    "    \n",
    "    print(\"Hourly Weather Data for Tanta, Egypt:\")\n",
    "    for hour, temp, humidity in zip(hours, temperatures, humidities):\n",
    "        print(f\"Time: {hour}, Temperature: {temp}°C, Humidity: {humidity}%\")\n"
   ]
  }
 ],
 "metadata": {
  "kernelspec": {
   "display_name": "Python 3",
   "language": "python",
   "name": "python3"
  },
  "language_info": {
   "codemirror_mode": {
    "name": "ipython",
    "version": 3
   },
   "file_extension": ".py",
   "mimetype": "text/x-python",
   "name": "python",
   "nbconvert_exporter": "python",
   "pygments_lexer": "ipython3",
   "version": "3.12.7"
  }
 },
 "nbformat": 4,
 "nbformat_minor": 2
}
