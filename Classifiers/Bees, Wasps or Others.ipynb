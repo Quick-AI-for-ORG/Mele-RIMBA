{
 "cells": [
  {
   "cell_type": "markdown",
   "metadata": {},
   "source": [
    "<h1 align=\"center\" style=\"font-family:'Georgia'; font-weight:bold;padding:2%; font-size:50px\">Bees, Wasps or Other Insects</h1>\n",
    "<hr>\n",
    "<h1 style=\"font-family:'Georgia'; font-weight:bold;padding:1%\">Imports</h1>\n"
   ]
  },
  {
   "cell_type": "code",
   "execution_count": 21,
   "metadata": {},
   "outputs": [],
   "source": [
    "import os\n",
    "import PIL\n",
    "import cv2\n",
    "import math\n",
    "import time\n",
    "import random\n",
    "import librosa\n",
    "import zipfile\n",
    "import numpy as np\n",
    "import pandas as pd\n",
    "import seaborn as sns\n",
    "import tensorflow as tf\n",
    "from tensorflow import keras\n",
    "from ultralytics import YOLO\n",
    "import matplotlib.pyplot as plt\n",
    "from tensorflow.keras import layers\n",
    "from tensorflow.keras.models import Sequential\n",
    "from sklearn.model_selection import train_test_split\n",
    "from sklearn.metrics import accuracy_score, precision_score, \\\n",
    "recall_score, f1_score, confusion_matrix, roc_auc_score, roc_curve, \\\n",
    "classification_report, log_loss ,precision_recall_curve, balanced_accuracy_score"
   ]
  },
  {
   "cell_type": "markdown",
   "metadata": {
    "notebookRunGroups": {
     "groupValue": "1"
    }
   },
   "source": [
    "<h1 style=\"font-family:'Georgia'; font-weight:bold;padding:1%\">Constants and Global Variables</h1>\n"
   ]
  },
  {
   "cell_type": "code",
   "execution_count": 22,
   "metadata": {},
   "outputs": [],
   "source": [
    "DATASET_PATH = '../Datasets/On Door/'\n",
    "IMAGE_SIZE = (224, 224)\n",
    "BATCH_SIZE = 32\n",
    "EPOCHS = 10\n",
    "SAMPLE_RATE = 22050"
   ]
  },
  {
   "cell_type": "code",
   "execution_count": 23,
   "metadata": {},
   "outputs": [],
   "source": [
    "models = {\n",
    "    'buzzingDetection':layers.SimpleRNN, \n",
    "    'insectDetection': None, \n",
    "    'beeOrNot': None, \n",
    "    'waspOrNot': None, \n",
    "    'decisionMaking': None\n",
    "    }\n",
    "datasets = ['BuzzOrNot', 'BeeOrNot', 'WaspOrNot']"
   ]
  },
  {
   "cell_type": "markdown",
   "metadata": {},
   "source": [
    "<h1 style=\"font-family:'Georgia'; font-weight:bold;padding:1%\">Evaluation</h1>\n"
   ]
  },
  {
   "cell_type": "code",
   "execution_count": 24,
   "metadata": {},
   "outputs": [],
   "source": [
    "def evaluateModel(yTrue, yPred, yProb=None):\n",
    "    accuracy = accuracy_score(yTrue, yPred)\n",
    "    print(f\"Accuracy: {accuracy:.4f}\")\n",
    "    \n",
    "    balancedAcc = balanced_accuracy_score(yTrue, yPred)\n",
    "    print(f\"Balanced Accuracy: {balancedAcc:.4f}\")\n",
    "    \n",
    "    precision = precision_score(yTrue, yPred)\n",
    "    print(f\"Precision: {precision:.4f}\")\n",
    "    \n",
    "    recall = recall_score(yTrue, yPred)\n",
    "    print(f\"Recall: {recall:.4f}\")\n",
    "    \n",
    "    f1 = f1_score(yTrue, yPred)\n",
    "    print(f\"F1 Score: {f1:.4f}\")\n",
    "    \n",
    "    cm = confusion_matrix(yTrue, yPred)\n",
    "    print(f\"Confusion Matrix:\\n{cm}\")\n",
    "    \n",
    "    plt.figure(figsize=(6, 4))\n",
    "    sns.heatmap(cm, annot=True, fmt='d', cmap='Blues', cbar=False)\n",
    "    plt.title('Confusion Matrix')\n",
    "    plt.xlabel('Predicted')\n",
    "    plt.ylabel('Actual')\n",
    "    plt.show()\n",
    "\n",
    "    if yProb is not None:\n",
    "        rocAuc = roc_auc_score(yTrue, yProb)\n",
    "        print(f\"ROC AUC Score: {rocAuc:.4f}\")\n",
    "        \n",
    "        fpr, tpr, _ = roc_curve(yTrue, yProb)\n",
    "        plt.figure(figsize=(6, 4))\n",
    "        plt.plot(fpr, tpr, label=f\"ROC Curve (AUC = {rocAuc:.4f})\")\n",
    "        plt.plot([0, 1], [0, 1], 'k--', label=\"Random Guess\")\n",
    "        plt.xlabel(\"False Positive Rate\")\n",
    "        plt.ylabel(\"True Positive Rate (Recall)\")\n",
    "        plt.title(\"ROC Curve\")\n",
    "        plt.legend(loc=\"lower right\")\n",
    "        plt.show()\n",
    "        \n",
    "        precisionCurve, recallCurve, _ = precision_recall_curve(yTrue, yProb)\n",
    "        plt.figure(figsize=(6, 4))\n",
    "        plt.plot(recallCurve, precisionCurve, label=\"Precision-Recall Curve\")\n",
    "        plt.xlabel(\"Recall\")\n",
    "        plt.ylabel(\"Precision\")\n",
    "        plt.title(\"Precision-Recall Curve\")\n",
    "        plt.legend(loc=\"lower left\")\n",
    "        plt.show()\n",
    "\n",
    "    if yProb is not None:\n",
    "        logloss = log_loss(yTrue, yProb)\n",
    "        print(f\"Log Loss: {logloss:.4f}\")"
   ]
  },
  {
   "cell_type": "markdown",
   "metadata": {},
   "source": [
    "<h1 align=\"center\" style=\"font-family:'Georgia'; font-weight:bold;padding:1%\">Buzz Detection (Sound Classification)</h1>\n"
   ]
  },
  {
   "cell_type": "markdown",
   "metadata": {},
   "source": [
    "---\n"
   ]
  },
  {
   "cell_type": "markdown",
   "metadata": {},
   "source": [
    "<h2 style=\"font-family:'Georgia'; font-weight:bold;padding:1%\">Audio Segmentation</h2>\n"
   ]
  },
  {
   "cell_type": "code",
   "execution_count": 25,
   "metadata": {},
   "outputs": [],
   "source": [
    "def loadAudio(sub='/train'):\n",
    "    print(f\"\\nLoading audio data from {DATASET_PATH + datasets[0] + sub}...\")\n",
    "    PATH = DATASET_PATH + datasets[0] + sub\n",
    "    segments = []\n",
    "    targets = []\n",
    "    \n",
    "    for filename in os.listdir(PATH):\n",
    "        if filename.endswith('.wav'):\n",
    "            audio = os.path.join(PATH, filename)\n",
    "            label = filename.split('.')[0].split('_')[0]\n",
    "            try:\n",
    "                audio, sampleRate = librosa.load(audio)\n",
    "                segments.append(audio)\n",
    "                targets.append('Buzzing' if filename.startswith( 'Bee') else 'No Buzzing')\n",
    "            except:\n",
    "                os.remove(audio)\n",
    "  \n",
    "    return segments, np.array(targets)       "
   ]
  },
  {
   "cell_type": "markdown",
   "metadata": {},
   "source": [
    "<h2 style=\"font-family:'Georgia'; font-weight:bold;padding:1%\">Audio Pre-Proccessing</h2>\n"
   ]
  },
  {
   "cell_type": "code",
   "execution_count": 26,
   "metadata": {},
   "outputs": [],
   "source": [
    "def extractMFCC(segments, n_mfcc=12):\n",
    "    print(f\"\\nPadded MFCC extraction for {len(segments)} segments...\")\n",
    "    mfccs = []\n",
    "    mfccs = [librosa.feature.mfcc(y=segment, sr=SAMPLE_RATE, n_mfcc=n_mfcc) for segment in segments]\n",
    "    return mfccs, max([mfcc.shape[1] for mfcc in mfccs])\n"
   ]
  },
  {
   "cell_type": "code",
   "execution_count": 27,
   "metadata": {},
   "outputs": [],
   "source": [
    "def pad(mfccs, maxLength):\n",
    "    features = [\n",
    "        np.pad(mfcc, ((0, 0), (0, maxLength - mfcc.shape[1])), mode='constant') \n",
    "        for mfcc in mfccs\n",
    "    ]\n",
    "    return np.array(features)"
   ]
  },
  {
   "cell_type": "markdown",
   "metadata": {},
   "source": [
    "<h2 style=\"font-family:'Georgia'; font-weight:bold;padding:1%\">Audio PipeLine</h2>\n"
   ]
  },
  {
   "cell_type": "code",
   "execution_count": 28,
   "metadata": {},
   "outputs": [],
   "source": [
    "def audioPipeline():\n",
    "    xTrain, yTrain = loadAudio('/train/')\n",
    "    xTest, yTest = loadAudio('/test/')\n",
    "    xTrain, maxTrainLength = extractMFCC(xTrain)\n",
    "    xTest, maxTestLength = extractMFCC(xTest)\n",
    "    xTrain = pad(xTrain, max(maxTrainLength, maxTestLength))\n",
    "    xTest = pad(xTest, max(maxTrainLength, maxTestLength))\n",
    "    yTrain = np.array([1 if label == 'Buzzing' else 0 for label in yTrain])\n",
    "    yTest = np.array([1 if label == 'Buzzing' else 0 for label in yTest])\n",
    "    xTrain, xVal, yTrain, yVal = train_test_split(xTrain, yTrain, test_size=0.2, random_state=42)\n",
    "    return xTrain, yTrain, xVal, yVal, xTest, yTest"
   ]
  },
  {
   "cell_type": "markdown",
   "metadata": {},
   "source": [
    "<h1 align=\"center\" style=\"font-family:'Georgia'; font-weight:bold;padding:1%\">Bee Detection (Image Classification)</h1>\n",
    "<hr>\n",
    "<h2 style=\"font-family:'Georgia'; font-weight:bold;padding:1%\">Loading Images</h2>\n"
   ]
  },
  {
   "cell_type": "code",
   "execution_count": 29,
   "metadata": {},
   "outputs": [],
   "source": [
    "def loadImages(index, sub, positive):\n",
    "    print(f\"\\nLoading image data from {DATASET_PATH + datasets[index] + sub}...\")\n",
    "    PATH = DATASET_PATH + datasets[index] + sub\n",
    "    subDirs = [d for d in os.listdir(PATH) if os.path.isdir(os.path.join(PATH, d))]\n",
    "    targets = []\n",
    "    images = []\n",
    "    \n",
    "    for target in subDirs:\n",
    "        targetPath = os.path.join(PATH, target)   \n",
    "        \n",
    "        for filename in os.listdir(targetPath):\n",
    "            if filename.endswith(('.jpg', '.png')): \n",
    "                image = os.path.join(targetPath, filename)\n",
    "                img = cv2.imread(image)\n",
    "                img = cv2.resize(img, IMAGE_SIZE) \n",
    "                targets.append(target)\n",
    "                images.append(img)\n",
    "    targets = np.array([1 if target == positive else 0 for target in targets])            \n",
    "    return np.array(images), np.array(targets)"
   ]
  },
  {
   "cell_type": "code",
   "execution_count": 30,
   "metadata": {},
   "outputs": [],
   "source": [
    "def extractImages(index, positive):\n",
    "    xTrain, yTrain = loadImages(index, '/train/', positive)\n",
    "    xTest, yTest = loadImages(index, '/test/', positive)\n",
    "    xTrain, xVal, yTrain, yVal = train_test_split(xTrain, yTrain, test_size=0.2, random_state=42)\n",
    "    \n",
    "    return xTrain, yTrain, xVal, yVal, xTest, yTest"
   ]
  },
  {
   "cell_type": "markdown",
   "metadata": {},
   "source": [
    "<h1 style=\"font-family:'Georgia'; font-weight:bold;padding:1%\">Model Building</h1>\n"
   ]
  },
  {
   "cell_type": "code",
   "execution_count": 31,
   "metadata": {},
   "outputs": [],
   "source": [
    "def buildForBuzz(shape, modelType):  \n",
    "        print(f\"\\nBuilding {modelType.__name__} with input shape {shape}...\")\n",
    "        model = Sequential()\n",
    "        model.add(layers.Input(shape=shape))\n",
    "        \n",
    "        model.add(modelType(128, return_sequences=True))\n",
    "        model.add(modelType(64))\n",
    "        #model.add(layers.Dense(64, activation='tanh'))\n",
    "\n",
    "        \n",
    "        model.add(layers.Dense(1, activation='sigmoid'))\n",
    "        model.compile(optimizer='adam', loss='binary_crossentropy', metrics=['accuracy'])\n",
    "        \n",
    "        return model"
   ]
  },
  {
   "cell_type": "code",
   "execution_count": 32,
   "metadata": {},
   "outputs": [],
   "source": [
    "def buildForInsects():\n",
    "    model = Sequential()\n",
    "    resnet = tf.keras.applications.ResNet50(weights='imagenet', include_top=False,\n",
    "        input_shape=(IMAGE_SIZE[0], IMAGE_SIZE[1], 3),pooling='avg')\n",
    "    \n",
    "    for layer in resnet.layers:\n",
    "        layer.trainable=False\n",
    "        \n",
    "    model.add(resnet)\n",
    "    model.add(layers.Flatten())\n",
    "    model.add(layers.Dense(512, activation='relu'))\n",
    "    model.add(layers.Dense(1, activation='sigmoid'))\n",
    "    \n",
    "    model.compile(optimizer='adam', loss='binary_crossentropy', metrics=['accuracy'])\n",
    "    return model"
   ]
  },
  {
   "cell_type": "code",
   "execution_count": 33,
   "metadata": {},
   "outputs": [],
   "source": [
    "def train(model, xTrain, yTrain, xVal, yVal):\n",
    "    print(f\"\\nTraining {model.layers[0].__class__.__name__} model...\")\n",
    "    model.fit(xTrain, yTrain, validation_data=(xVal, yVal), epochs=EPOCHS, batch_size=BATCH_SIZE, verbose=True)\n",
    "    predictions = model.predict(xVal)\n",
    "    predictions = np.array([1 if pred > 0.5 else 0 for pred in predictions])\n",
    "    evaluateModel(yVal, predictions)\n",
    "    return model"
   ]
  },
  {
   "cell_type": "code",
   "execution_count": 34,
   "metadata": {},
   "outputs": [],
   "source": [
    "def test(model, xTest, yTest):\n",
    "    predictions = model.predict(xTest)\n",
    "    predictions = np.array([1 if pred > 0.5 else 0 for pred in predictions])\n",
    "    evaluateModel(yTest, predictions)"
   ]
  },
  {
   "cell_type": "markdown",
   "metadata": {},
   "source": [
    "<h1 align=\"center\" style=\"font-family:'Georgia'; font-weight:bold;padding:2%; font-size:50px\">Main</h1>\n"
   ]
  },
  {
   "cell_type": "code",
   "execution_count": 35,
   "metadata": {},
   "outputs": [],
   "source": [
    "def compareAudioModels(): \n",
    "    xTrain, yTrain, xVal, yVal, xTest, yTest = audioPipeline()\n",
    "    models = [layers.LSTM, layers.GRU, layers.SimpleRNN]\n",
    "    bestModel = None\n",
    "    \n",
    "    for model in models:\n",
    "        model = buildForBuzz(xTrain.shape[1:], model)\n",
    "        model = train(model, xTrain, yTrain, xVal, yVal)\n",
    "        test(model, xTest, yTest)\n",
    "        \n",
    "        if model.layers[0].__class__.__name__ == 'SimpleRNN': \n",
    "            bestModel = model\n",
    "            \n",
    "    return bestModel\n",
    "        \n",
    "# buzzOrNot = compareAudioModels()"
   ]
  },
  {
   "cell_type": "code",
   "execution_count": 36,
   "metadata": {},
   "outputs": [],
   "source": [
    "def classifyInsects(index=1, positive=\"Bee\"):\n",
    "    xTrain, yTrain, xVal, yVal, xTest, yTest = extractImages(index, positive)\n",
    "    model = buildForInsects();\n",
    "    model = train(model, xTrain, yTrain, xVal, yVal)\n",
    "    test(model, xTest, yTest)\n",
    "    return model"
   ]
  },
  {
   "cell_type": "code",
   "execution_count": 37,
   "metadata": {},
   "outputs": [],
   "source": [
    "def show(model, image, label, positive, negative):\n",
    "    reshapedImg = np.expand_dims(image, axis=0)\n",
    "    prediction = model.predict(reshapedImg)\n",
    "    print(prediction)\n",
    "    print('Predicted:', positive if prediction[0][0] > 0.5 else negative)\n",
    "    print('True label:', positive if label == 1 else negative)\n",
    "    cv2.imshow('Test Image', image)\n",
    "    cv2.waitKey(0)\n",
    "    cv2.destroyAllWindows()\n",
    "    \n",
    "def demo(beeModel, waspModel, image, label):\n",
    "    show(beeModel, image, label, \"Bee\", \"Not Bee\") \n",
    "    reshapedImg = np.expand_dims(image, axis=0)\n",
    "    prediction = beeModel.predict(reshapedImg)\n",
    "    \n",
    "    if prediction[0][0] <= 0.5: \n",
    "        show(waspModel, image, label, \"Wasp\", \"Other Insects\")"
   ]
  },
  {
   "cell_type": "code",
   "execution_count": 38,
   "metadata": {},
   "outputs": [
    {
     "name": "stdout",
     "output_type": "stream",
     "text": [
      "\n",
      "Loading image data from ../Datasets/On Door/BeeOrNot/train/...\n",
      "\n",
      "Loading image data from ../Datasets/On Door/BeeOrNot/test/...\n",
      "\n",
      "Training Functional model...\n",
      "Epoch 1/10\n",
      "\u001b[1m253/253\u001b[0m \u001b[32m━━━━━━━━━━━━━━━━━━━━\u001b[0m\u001b[37m\u001b[0m \u001b[1m338s\u001b[0m 1s/step - accuracy: 0.8135 - loss: 0.4305 - val_accuracy: 0.8450 - val_loss: 0.3539\n",
      "Epoch 2/10\n",
      "\u001b[1m253/253\u001b[0m \u001b[32m━━━━━━━━━━━━━━━━━━━━\u001b[0m\u001b[37m\u001b[0m \u001b[1m340s\u001b[0m 1s/step - accuracy: 0.8869 - loss: 0.2594 - val_accuracy: 0.8767 - val_loss: 0.2694\n",
      "Epoch 3/10\n",
      "\u001b[1m253/253\u001b[0m \u001b[32m━━━━━━━━━━━━━━━━━━━━\u001b[0m\u001b[37m\u001b[0m \u001b[1m348s\u001b[0m 1s/step - accuracy: 0.9020 - loss: 0.2289 - val_accuracy: 0.8757 - val_loss: 0.2730\n",
      "Epoch 4/10\n",
      "\u001b[1m253/253\u001b[0m \u001b[32m━━━━━━━━━━━━━━━━━━━━\u001b[0m\u001b[37m\u001b[0m \u001b[1m326s\u001b[0m 1s/step - accuracy: 0.9069 - loss: 0.2145 - val_accuracy: 0.8881 - val_loss: 0.2563\n",
      "Epoch 5/10\n",
      "\u001b[1m253/253\u001b[0m \u001b[32m━━━━━━━━━━━━━━━━━━━━\u001b[0m\u001b[37m\u001b[0m \u001b[1m297s\u001b[0m 1s/step - accuracy: 0.9150 - loss: 0.1961 - val_accuracy: 0.8634 - val_loss: 0.3032\n",
      "Epoch 6/10\n",
      "\u001b[1m253/253\u001b[0m \u001b[32m━━━━━━━━━━━━━━━━━━━━\u001b[0m\u001b[37m\u001b[0m \u001b[1m297s\u001b[0m 1s/step - accuracy: 0.9136 - loss: 0.1933 - val_accuracy: 0.8950 - val_loss: 0.2638\n",
      "Epoch 7/10\n",
      "\u001b[1m253/253\u001b[0m \u001b[32m━━━━━━━━━━━━━━━━━━━━\u001b[0m\u001b[37m\u001b[0m \u001b[1m317s\u001b[0m 1s/step - accuracy: 0.9242 - loss: 0.1781 - val_accuracy: 0.9015 - val_loss: 0.2514\n",
      "Epoch 8/10\n",
      "\u001b[1m253/253\u001b[0m \u001b[32m━━━━━━━━━━━━━━━━━━━━\u001b[0m\u001b[37m\u001b[0m \u001b[1m321s\u001b[0m 1s/step - accuracy: 0.9244 - loss: 0.1765 - val_accuracy: 0.8970 - val_loss: 0.2598\n",
      "Epoch 9/10\n",
      "\u001b[1m253/253\u001b[0m \u001b[32m━━━━━━━━━━━━━━━━━━━━\u001b[0m\u001b[37m\u001b[0m \u001b[1m296s\u001b[0m 1s/step - accuracy: 0.9207 - loss: 0.1764 - val_accuracy: 0.8931 - val_loss: 0.2785\n",
      "Epoch 10/10\n",
      "\u001b[1m253/253\u001b[0m \u001b[32m━━━━━━━━━━━━━━━━━━━━\u001b[0m\u001b[37m\u001b[0m \u001b[1m297s\u001b[0m 1s/step - accuracy: 0.9324 - loss: 0.1596 - val_accuracy: 0.8941 - val_loss: 0.2758\n",
      "\u001b[1m64/64\u001b[0m \u001b[32m━━━━━━━━━━━━━━━━━━━━\u001b[0m\u001b[37m\u001b[0m \u001b[1m62s\u001b[0m 951ms/step\n",
      "Accuracy: 0.8941\n",
      "Balanced Accuracy: 0.8948\n",
      "Precision: 0.9190\n",
      "Recall: 0.8879\n",
      "F1 Score: 0.9032\n",
      "Confusion Matrix:\n",
      "[[808  88]\n",
      " [126 998]]\n"
     ]
    },
    {
     "data": {
      "image/png": "[encoded data removed]",
      "text/plain": [
       "<Figure size 600x400 with 1 Axes>"
      ]
     },
     "metadata": {},
     "output_type": "display_data"
    },
    {
     "name": "stdout",
     "output_type": "stream",
     "text": [
      "\u001b[1m66/66\u001b[0m \u001b[32m━━━━━━━━━━━━━━━━━━━━\u001b[0m\u001b[37m\u001b[0m \u001b[1m62s\u001b[0m 940ms/step\n",
      "Accuracy: 0.9015\n",
      "Balanced Accuracy: 0.9015\n",
      "Precision: 0.9049\n",
      "Recall: 0.8998\n",
      "F1 Score: 0.9023\n",
      "Confusion Matrix:\n",
      "[[943 101]\n",
      " [107 961]]\n"
     ]
    },
    {
     "data": {
      "image/png": "[encoded data removed]",
      "text/plain": [
       "<Figure size 600x400 with 1 Axes>"
      ]
     },
     "metadata": {},
     "output_type": "display_data"
    },
    {
     "name": "stdout",
     "output_type": "stream",
     "text": [
      "\n",
      "Loading image data from ../Datasets/On Door/WaspOrNot/train/...\n",
      "\n",
      "Loading image data from ../Datasets/On Door/WaspOrNot/test/...\n",
      "\n",
      "Training Functional model...\n",
      "Epoch 1/10\n",
      "\u001b[1m433/433\u001b[0m \u001b[32m━━━━━━━━━━━━━━━━━━━━\u001b[0m\u001b[37m\u001b[0m \u001b[1m567s\u001b[0m 1s/step - accuracy: 0.7987 - loss: 0.4456 - val_accuracy: 0.8187 - val_loss: 0.3752\n",
      "Epoch 2/10\n",
      "\u001b[1m433/433\u001b[0m \u001b[32m━━━━━━━━━━━━━━━━━━━━\u001b[0m\u001b[37m\u001b[0m \u001b[1m575s\u001b[0m 1s/step - accuracy: 0.8485 - loss: 0.3119 - val_accuracy: 0.8422 - val_loss: 0.3296\n",
      "Epoch 3/10\n",
      "\u001b[1m433/433\u001b[0m \u001b[32m━━━━━━━━━━━━━━━━━━━━\u001b[0m\u001b[37m\u001b[0m \u001b[1m570s\u001b[0m 1s/step - accuracy: 0.8721 - loss: 0.2748 - val_accuracy: 0.8294 - val_loss: 0.3437\n",
      "Epoch 4/10\n",
      "\u001b[1m433/433\u001b[0m \u001b[32m━━━━━━━━━━━━━━━━━━━━\u001b[0m\u001b[37m\u001b[0m \u001b[1m584s\u001b[0m 1s/step - accuracy: 0.8796 - loss: 0.2588 - val_accuracy: 0.8393 - val_loss: 0.3433\n",
      "Epoch 5/10\n",
      "\u001b[1m433/433\u001b[0m \u001b[32m━━━━━━━━━━━━━━━━━━━━\u001b[0m\u001b[37m\u001b[0m \u001b[1m596s\u001b[0m 1s/step - accuracy: 0.8907 - loss: 0.2349 - val_accuracy: 0.8517 - val_loss: 0.3262\n",
      "Epoch 6/10\n",
      "\u001b[1m433/433\u001b[0m \u001b[32m━━━━━━━━━━━━━━━━━━━━\u001b[0m\u001b[37m\u001b[0m \u001b[1m559s\u001b[0m 1s/step - accuracy: 0.9002 - loss: 0.2129 - val_accuracy: 0.8465 - val_loss: 0.3275\n",
      "Epoch 7/10\n",
      "\u001b[1m433/433\u001b[0m \u001b[32m━━━━━━━━━━━━━━━━━━━━\u001b[0m\u001b[37m\u001b[0m \u001b[1m569s\u001b[0m 1s/step - accuracy: 0.9032 - loss: 0.2059 - val_accuracy: 0.8563 - val_loss: 0.3347\n",
      "Epoch 8/10\n",
      "\u001b[1m433/433\u001b[0m \u001b[32m━━━━━━━━━━━━━━━━━━━━\u001b[0m\u001b[37m\u001b[0m \u001b[1m559s\u001b[0m 1s/step - accuracy: 0.9016 - loss: 0.1999 - val_accuracy: 0.8618 - val_loss: 0.3326\n",
      "Epoch 9/10\n",
      "\u001b[1m433/433\u001b[0m \u001b[32m━━━━━━━━━━━━━━━━━━━━\u001b[0m\u001b[37m\u001b[0m \u001b[1m576s\u001b[0m 1s/step - accuracy: 0.9067 - loss: 0.1875 - val_accuracy: 0.8607 - val_loss: 0.3528\n",
      "Epoch 10/10\n",
      "\u001b[1m433/433\u001b[0m \u001b[32m━━━━━━━━━━━━━━━━━━━━\u001b[0m\u001b[37m\u001b[0m \u001b[1m571s\u001b[0m 1s/step - accuracy: 0.9111 - loss: 0.1874 - val_accuracy: 0.8589 - val_loss: 0.4015\n",
      "\u001b[1m109/109\u001b[0m \u001b[32m━━━━━━━━━━━━━━━━━━━━\u001b[0m\u001b[37m\u001b[0m \u001b[1m116s\u001b[0m 1s/step\n",
      "Accuracy: 0.8589\n",
      "Balanced Accuracy: 0.8604\n",
      "Precision: 0.8970\n",
      "Recall: 0.8232\n",
      "F1 Score: 0.8586\n",
      "Confusion Matrix:\n",
      "[[1490  170]\n",
      " [ 318 1481]]\n"
     ]
    },
    {
     "data": {
      "image/png": "[encoded data removed]",
      "text/plain": [
       "<Figure size 600x400 with 1 Axes>"
      ]
     },
     "metadata": {},
     "output_type": "display_data"
    },
    {
     "name": "stdout",
     "output_type": "stream",
     "text": [
      "\u001b[1m261/261\u001b[0m \u001b[32m━━━━━━━━━━━━━━━━━━━━\u001b[0m\u001b[37m\u001b[0m \u001b[1m275s\u001b[0m 1s/step\n",
      "Accuracy: 0.9283\n",
      "Balanced Accuracy: 0.9061\n",
      "Precision: 0.9556\n",
      "Recall: 0.9493\n",
      "F1 Score: 0.9524\n",
      "Confusion Matrix:\n",
      "[[1748  278]\n",
      " [ 319 5979]]\n"
     ]
    },
    {
     "data": {
      "image/png": "[encoded data removed]",
      "text/plain": [
       "<Figure size 600x400 with 1 Axes>"
      ]
     },
     "metadata": {},
     "output_type": "display_data"
    },
    {
     "name": "stdout",
     "output_type": "stream",
     "text": [
      "\n",
      "Loading image data from ../Datasets/On Door/BeeOrNot/test/...\n",
      "\n",
      "Loading image data from ../Datasets/On Door/WaspOrNot/test/...\n"
     ]
    }
   ],
   "source": [
    "numSamples = 10\n",
    "tester = []\n",
    "\n",
    "beeOrNot = classifyInsects(1, \"Bee\")\n",
    "waspOrNot = classifyInsects(2, \"Wasp\")\n",
    "\n",
    "    \n",
    "images, labels = loadImages(1, '/test/', \"Bee\")\n",
    "sample = random.sample(range(len(images)), numSamples)\n",
    "for index in sample:\n",
    "    tester.append((images[index], labels[index]))\n",
    "    \n",
    "images, labels = loadImages(2, '/test/', \"Wasp\")\n",
    "sample = random.sample(range(len(images)), numSamples)\n",
    "for index in sample:\n",
    "    tester.append((images[index], labels[index]))\n",
    "\n"
   ]
  },
  {
   "cell_type": "markdown",
   "metadata": {},
   "source": [
    "<h1 style=\"font-family:'Georgia'; font-weight:bold;padding:1%\">Models Saving and Loading</h1>"
   ]
  },
  {
   "cell_type": "code",
   "execution_count": 39,
   "metadata": {},
   "outputs": [
    {
     "name": "stdout",
     "output_type": "stream",
     "text": [
      "Extracting Models...\n",
      "Loading Model: Buzz or Not...\n",
      "Loading Model: Bee or Not...\n",
      "Loading Model: Wasp or Not...\n",
      "Removing Old Files...\n"
     ]
    }
   ],
   "source": [
    "def save():\n",
    "    print(\"Saving Models...\")\n",
    "    \n",
    "    try:\n",
    "        remove()\n",
    "        time.sleep(1)\n",
    "    except:\n",
    "        pass\n",
    "    \n",
    "    buzzOrNot.save('buzzOrNot.keras')\n",
    "    beeOrNot.save('beeOrNot.keras')\n",
    "    waspOrNot.save('waspOrNot.keras')\n",
    "    zip()\n",
    " \n",
    "def load():\n",
    "    extract()\n",
    "    time.sleep(1)\n",
    "    print(\"Loading Model: Buzz or Not...\")\n",
    "    buzzOrNot = keras.models.load_model('buzzOrNot.keras', compile=False)\n",
    "    buzzOrNot.compile(optimizer='adam', loss='binary_crossentropy', metrics=['accuracy'])\n",
    "    \n",
    "    print(\"Loading Model: Bee or Not...\")\n",
    "    beeOrNot = keras.models.load_model('beeOrNot.keras', compile=False)\n",
    "    beeOrNot.compile(optimizer='adam', loss='binary_crossentropy', metrics=['accuracy'])\n",
    "    \n",
    "    print(\"Loading Model: Wasp or Not...\")\n",
    "    waspOrNot = keras.models.load_model('waspOrNot.keras', compile=False)\n",
    "    waspOrNot.compile(optimizer='adam', loss='binary_crossentropy', metrics=['accuracy'])\n",
    "    \n",
    "    time.sleep(1)\n",
    "    remove()\n",
    "    return buzzOrNot, beeOrNot, waspOrNot\n",
    "\n",
    "def remove():\n",
    "    print(\"Removing Old Files...\")\n",
    "    \n",
    "    os.remove('buzzOrNot.keras')\n",
    "    os.remove('beeOrNot.keras')\n",
    "    os.remove('waspOrNot.keras')\n",
    "        \n",
    "\n",
    "def zip():\n",
    "    print(\"Ziping Models...\")\n",
    "    \n",
    "    with zipfile.ZipFile('classifiers.zip', 'w') as zipf:\n",
    "        zipf.write('buzzOrNot.keras')\n",
    "        zipf.write('beeOrNot.keras')\n",
    "        zipf.write('waspOrNot.keras')\n",
    "        zipf.close()\n",
    "        \n",
    "    remove()\n",
    "    return 'models.zip'\n",
    "\n",
    "\n",
    "def extract():\n",
    "    print(\"Extracting Models...\")\n",
    "    with zipfile.ZipFile('classifiers.zip', 'r') as zipf:\n",
    "        zipf.extractall()\n",
    "\n",
    "# save()\n",
    "buzz, bee, wasp = load()"
   ]
  },
  {
   "cell_type": "code",
   "execution_count": 40,
   "metadata": {},
   "outputs": [
    {
     "name": "stdout",
     "output_type": "stream",
     "text": [
      "\u001b[1m1/1\u001b[0m \u001b[32m━━━━━━━━━━━━━━━━━━━━\u001b[0m\u001b[37m\u001b[0m \u001b[1m2s\u001b[0m 2s/step\n",
      "[[ 5.1271e-05]]\n",
      "Predicted: Not Bee\n",
      "True label: Not Bee\n",
      "\u001b[1m1/1\u001b[0m \u001b[32m━━━━━━━━━━━━━━━━━━━━\u001b[0m\u001b[37m\u001b[0m \u001b[1m0s\u001b[0m 86ms/step\n",
      "\u001b[1m1/1\u001b[0m \u001b[32m━━━━━━━━━━━━━━━━━━━━\u001b[0m\u001b[37m\u001b[0m \u001b[1m2s\u001b[0m 2s/step\n",
      "[[ 2.0425e-05]]\n",
      "Predicted: Other Insects\n",
      "True label: Other Insects\n",
      "\u001b[1m1/1\u001b[0m \u001b[32m━━━━━━━━━━━━━━━━━━━━\u001b[0m\u001b[37m\u001b[0m \u001b[1m0s\u001b[0m 93ms/step\n",
      "[[ 1.8284e-07]]\n",
      "Predicted: Not Bee\n",
      "True label: Not Bee\n",
      "\u001b[1m1/1\u001b[0m \u001b[32m━━━━━━━━━━━━━━━━━━━━\u001b[0m\u001b[37m\u001b[0m \u001b[1m0s\u001b[0m 94ms/step\n",
      "\u001b[1m1/1\u001b[0m \u001b[32m━━━━━━━━━━━━━━━━━━━━\u001b[0m\u001b[37m\u001b[0m \u001b[1m0s\u001b[0m 84ms/step\n",
      "[[  0.0025075]]\n",
      "Predicted: Other Insects\n",
      "True label: Other Insects\n",
      "\u001b[1m1/1\u001b[0m \u001b[32m━━━━━━━━━━━━━━━━━━━━\u001b[0m\u001b[37m\u001b[0m \u001b[1m0s\u001b[0m 94ms/step\n",
      "[[    0.99993]]\n",
      "Predicted: Bee\n",
      "True label: Bee\n",
      "\u001b[1m1/1\u001b[0m \u001b[32m━━━━━━━━━━━━━━━━━━━━\u001b[0m\u001b[37m\u001b[0m \u001b[1m0s\u001b[0m 91ms/step\n",
      "\u001b[1m1/1\u001b[0m \u001b[32m━━━━━━━━━━━━━━━━━━━━\u001b[0m\u001b[37m\u001b[0m \u001b[1m0s\u001b[0m 83ms/step\n",
      "[[   0.028573]]\n",
      "Predicted: Not Bee\n",
      "True label: Not Bee\n",
      "\u001b[1m1/1\u001b[0m \u001b[32m━━━━━━━━━━━━━━━━━━━━\u001b[0m\u001b[37m\u001b[0m \u001b[1m0s\u001b[0m 93ms/step\n",
      "\u001b[1m1/1\u001b[0m \u001b[32m━━━━━━━━━━━━━━━━━━━━\u001b[0m\u001b[37m\u001b[0m \u001b[1m0s\u001b[0m 84ms/step\n",
      "[[   0.034434]]\n",
      "Predicted: Other Insects\n",
      "True label: Other Insects\n",
      "\u001b[1m1/1\u001b[0m \u001b[32m━━━━━━━━━━━━━━━━━━━━\u001b[0m\u001b[37m\u001b[0m \u001b[1m0s\u001b[0m 94ms/step\n",
      "[[    0.73649]]\n",
      "Predicted: Bee\n",
      "True label: Not Bee\n",
      "\u001b[1m1/1\u001b[0m \u001b[32m━━━━━━━━━━━━━━━━━━━━\u001b[0m\u001b[37m\u001b[0m \u001b[1m0s\u001b[0m 93ms/step\n",
      "\u001b[1m1/1\u001b[0m \u001b[32m━━━━━━━━━━━━━━━━━━━━\u001b[0m\u001b[37m\u001b[0m \u001b[1m0s\u001b[0m 86ms/step\n",
      "[[    0.99995]]\n",
      "Predicted: Bee\n",
      "True label: Bee\n",
      "\u001b[1m1/1\u001b[0m \u001b[32m━━━━━━━━━━━━━━━━━━━━\u001b[0m\u001b[37m\u001b[0m \u001b[1m0s\u001b[0m 92ms/step\n",
      "\u001b[1m1/1\u001b[0m \u001b[32m━━━━━━━━━━━━━━━━━━━━\u001b[0m\u001b[37m\u001b[0m \u001b[1m0s\u001b[0m 85ms/step\n",
      "[[ 4.2378e-06]]\n",
      "Predicted: Not Bee\n",
      "True label: Not Bee\n",
      "\u001b[1m1/1\u001b[0m \u001b[32m━━━━━━━━━━━━━━━━━━━━\u001b[0m\u001b[37m\u001b[0m \u001b[1m0s\u001b[0m 89ms/step\n",
      "\u001b[1m1/1\u001b[0m \u001b[32m━━━━━━━━━━━━━━━━━━━━\u001b[0m\u001b[37m\u001b[0m \u001b[1m0s\u001b[0m 82ms/step\n",
      "[[ 3.1834e-05]]\n",
      "Predicted: Other Insects\n",
      "True label: Other Insects\n",
      "\u001b[1m1/1\u001b[0m \u001b[32m━━━━━━━━━━━━━━━━━━━━\u001b[0m\u001b[37m\u001b[0m \u001b[1m0s\u001b[0m 89ms/step\n",
      "[[    0.84661]]\n",
      "Predicted: Bee\n",
      "True label: Bee\n",
      "\u001b[1m1/1\u001b[0m \u001b[32m━━━━━━━━━━━━━━━━━━━━\u001b[0m\u001b[37m\u001b[0m \u001b[1m0s\u001b[0m 91ms/step\n",
      "\u001b[1m1/1\u001b[0m \u001b[32m━━━━━━━━━━━━━━━━━━━━\u001b[0m\u001b[37m\u001b[0m \u001b[1m0s\u001b[0m 88ms/step\n",
      "[[    0.94283]]\n",
      "Predicted: Bee\n",
      "True label: Bee\n",
      "\u001b[1m1/1\u001b[0m \u001b[32m━━━━━━━━━━━━━━━━━━━━\u001b[0m\u001b[37m\u001b[0m \u001b[1m0s\u001b[0m 93ms/step\n",
      "\u001b[1m1/1\u001b[0m \u001b[32m━━━━━━━━━━━━━━━━━━━━\u001b[0m\u001b[37m\u001b[0m \u001b[1m0s\u001b[0m 84ms/step\n",
      "[[ 0.00017708]]\n",
      "Predicted: Not Bee\n",
      "True label: Not Bee\n",
      "\u001b[1m1/1\u001b[0m \u001b[32m━━━━━━━━━━━━━━━━━━━━\u001b[0m\u001b[37m\u001b[0m \u001b[1m0s\u001b[0m 91ms/step\n",
      "\u001b[1m1/1\u001b[0m \u001b[32m━━━━━━━━━━━━━━━━━━━━\u001b[0m\u001b[37m\u001b[0m \u001b[1m0s\u001b[0m 86ms/step\n",
      "[[ 2.7764e-05]]\n",
      "Predicted: Other Insects\n",
      "True label: Other Insects\n",
      "\u001b[1m1/1\u001b[0m \u001b[32m━━━━━━━━━━━━━━━━━━━━\u001b[0m\u001b[37m\u001b[0m \u001b[1m0s\u001b[0m 85ms/step\n",
      "[[   0.010716]]\n",
      "Predicted: Not Bee\n",
      "True label: Bee\n",
      "\u001b[1m1/1\u001b[0m \u001b[32m━━━━━━━━━━━━━━━━━━━━\u001b[0m\u001b[37m\u001b[0m \u001b[1m0s\u001b[0m 88ms/step\n",
      "\u001b[1m1/1\u001b[0m \u001b[32m━━━━━━━━━━━━━━━━━━━━\u001b[0m\u001b[37m\u001b[0m \u001b[1m0s\u001b[0m 84ms/step\n",
      "[[          1]]\n",
      "Predicted: Wasp\n",
      "True label: Wasp\n",
      "\u001b[1m1/1\u001b[0m \u001b[32m━━━━━━━━━━━━━━━━━━━━\u001b[0m\u001b[37m\u001b[0m \u001b[1m0s\u001b[0m 90ms/step\n",
      "[[  0.0084572]]\n",
      "Predicted: Not Bee\n",
      "True label: Not Bee\n",
      "\u001b[1m1/1\u001b[0m \u001b[32m━━━━━━━━━━━━━━━━━━━━\u001b[0m\u001b[37m\u001b[0m \u001b[1m0s\u001b[0m 94ms/step\n",
      "\u001b[1m1/1\u001b[0m \u001b[32m━━━━━━━━━━━━━━━━━━━━\u001b[0m\u001b[37m\u001b[0m \u001b[1m0s\u001b[0m 70ms/step\n",
      "[[   0.020199]]\n",
      "Predicted: Other Insects\n",
      "True label: Other Insects\n",
      "\u001b[1m1/1\u001b[0m \u001b[32m━━━━━━━━━━━━━━━━━━━━\u001b[0m\u001b[37m\u001b[0m \u001b[1m0s\u001b[0m 91ms/step\n",
      "[[   0.037203]]\n",
      "Predicted: Not Bee\n",
      "True label: Bee\n",
      "\u001b[1m1/1\u001b[0m \u001b[32m━━━━━━━━━━━━━━━━━━━━\u001b[0m\u001b[37m\u001b[0m \u001b[1m0s\u001b[0m 90ms/step\n",
      "\u001b[1m1/1\u001b[0m \u001b[32m━━━━━━━━━━━━━━━━━━━━\u001b[0m\u001b[37m\u001b[0m \u001b[1m0s\u001b[0m 83ms/step\n",
      "[[    0.99967]]\n",
      "Predicted: Wasp\n",
      "True label: Wasp\n",
      "\u001b[1m1/1\u001b[0m \u001b[32m━━━━━━━━━━━━━━━━━━━━\u001b[0m\u001b[37m\u001b[0m \u001b[1m0s\u001b[0m 92ms/step\n",
      "[[    0.50313]]\n",
      "Predicted: Bee\n",
      "True label: Bee\n",
      "\u001b[1m1/1\u001b[0m \u001b[32m━━━━━━━━━━━━━━━━━━━━\u001b[0m\u001b[37m\u001b[0m \u001b[1m0s\u001b[0m 92ms/step\n",
      "\u001b[1m1/1\u001b[0m \u001b[32m━━━━━━━━━━━━━━━━━━━━\u001b[0m\u001b[37m\u001b[0m \u001b[1m0s\u001b[0m 87ms/step\n",
      "[[    0.99999]]\n",
      "Predicted: Bee\n",
      "True label: Not Bee\n",
      "\u001b[1m1/1\u001b[0m \u001b[32m━━━━━━━━━━━━━━━━━━━━\u001b[0m\u001b[37m\u001b[0m \u001b[1m0s\u001b[0m 94ms/step\n",
      "\u001b[1m1/1\u001b[0m \u001b[32m━━━━━━━━━━━━━━━━━━━━\u001b[0m\u001b[37m\u001b[0m \u001b[1m0s\u001b[0m 87ms/step\n",
      "[[    0.99832]]\n",
      "Predicted: Bee\n",
      "True label: Bee\n",
      "\u001b[1m1/1\u001b[0m \u001b[32m━━━━━━━━━━━━━━━━━━━━\u001b[0m\u001b[37m\u001b[0m \u001b[1m0s\u001b[0m 88ms/step\n",
      "\u001b[1m1/1\u001b[0m \u001b[32m━━━━━━━━━━━━━━━━━━━━\u001b[0m\u001b[37m\u001b[0m \u001b[1m0s\u001b[0m 88ms/step\n",
      "[[          1]]\n",
      "Predicted: Bee\n",
      "True label: Not Bee\n",
      "\u001b[1m1/1\u001b[0m \u001b[32m━━━━━━━━━━━━━━━━━━━━\u001b[0m\u001b[37m\u001b[0m \u001b[1m0s\u001b[0m 93ms/step\n",
      "\u001b[1m1/1\u001b[0m \u001b[32m━━━━━━━━━━━━━━━━━━━━\u001b[0m\u001b[37m\u001b[0m \u001b[1m0s\u001b[0m 87ms/step\n",
      "[[ 0.00019241]]\n",
      "Predicted: Not Bee\n",
      "True label: Bee\n",
      "\u001b[1m1/1\u001b[0m \u001b[32m━━━━━━━━━━━━━━━━━━━━\u001b[0m\u001b[37m\u001b[0m \u001b[1m0s\u001b[0m 93ms/step\n",
      "\u001b[1m1/1\u001b[0m \u001b[32m━━━━━━━━━━━━━━━━━━━━\u001b[0m\u001b[37m\u001b[0m \u001b[1m0s\u001b[0m 86ms/step\n",
      "[[          1]]\n",
      "Predicted: Wasp\n",
      "True label: Wasp\n",
      "\u001b[1m1/1\u001b[0m \u001b[32m━━━━━━━━━━━━━━━━━━━━\u001b[0m\u001b[37m\u001b[0m \u001b[1m0s\u001b[0m 94ms/step\n",
      "[[    0.20089]]\n",
      "Predicted: Not Bee\n",
      "True label: Bee\n",
      "\u001b[1m1/1\u001b[0m \u001b[32m━━━━━━━━━━━━━━━━━━━━\u001b[0m\u001b[37m\u001b[0m \u001b[1m0s\u001b[0m 99ms/step\n",
      "\u001b[1m1/1\u001b[0m \u001b[32m━━━━━━━━━━━━━━━━━━━━\u001b[0m\u001b[37m\u001b[0m \u001b[1m0s\u001b[0m 77ms/step\n",
      "[[          1]]\n",
      "Predicted: Wasp\n",
      "True label: Wasp\n",
      "\u001b[1m1/1\u001b[0m \u001b[32m━━━━━━━━━━━━━━━━━━━━\u001b[0m\u001b[37m\u001b[0m \u001b[1m0s\u001b[0m 114ms/step\n",
      "[[ 3.9698e-05]]\n",
      "Predicted: Not Bee\n",
      "True label: Bee\n",
      "\u001b[1m1/1\u001b[0m \u001b[32m━━━━━━━━━━━━━━━━━━━━\u001b[0m\u001b[37m\u001b[0m \u001b[1m0s\u001b[0m 90ms/step\n",
      "\u001b[1m1/1\u001b[0m \u001b[32m━━━━━━━━━━━━━━━━━━━━\u001b[0m\u001b[37m\u001b[0m \u001b[1m0s\u001b[0m 82ms/step\n",
      "[[          1]]\n",
      "Predicted: Wasp\n",
      "True label: Wasp\n"
     ]
    }
   ],
   "source": [
    "for image, label in tester:\n",
    "    demo(bee, wasp, image, label)"
   ]
  },
  {
   "cell_type": "code",
   "execution_count": null,
   "metadata": {},
   "outputs": [],
   "source": []
  }
 ],
 "metadata": {
  "kernelspec": {
   "display_name": "Python 3",
   "language": "python",
   "name": "python3"
  },
  "language_info": {
   "codemirror_mode": {
    "name": "ipython",
    "version": 3
   },
   "file_extension": ".py",
   "mimetype": "text/x-python",
   "name": "python",
   "nbconvert_exporter": "python",
   "pygments_lexer": "ipython3",
   "version": "3.10.16"
  }
 },
 "nbformat": 4,
 "nbformat_minor": 2
}
