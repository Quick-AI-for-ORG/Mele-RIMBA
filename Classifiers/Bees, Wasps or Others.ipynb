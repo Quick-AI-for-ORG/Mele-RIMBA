{
 "cells": [
  {
   "cell_type": "markdown",
   "metadata": {},
   "source": [
    "<h1 align=\"center\" style=\"font-family:'Georgia'; font-weight:bold;padding:2%; font-size:50px\">Bees, Wasps or Other Insects</h1>\n",
    "<hr>\n",
    "<h1 style=\"font-family:'Georgia'; font-weight:bold;padding:1%\">Imports</h1>\n"
   ]
  },
  {
   "cell_type": "code",
   "execution_count": 1,
   "metadata": {},
   "outputs": [],
   "source": [
    "import os\n",
    "import PIL\n",
    "import cv2\n",
    "import math\n",
    "import random\n",
    "import librosa\n",
    "import numpy as np\n",
    "import pandas as pd\n",
    "import seaborn as sns\n",
    "import tensorflow as tf\n",
    "from tensorflow import keras\n",
    "from ultralytics import YOLO\n",
    "import matplotlib.pyplot as plt\n",
    "from tensorflow.keras import layers\n",
    "from tensorflow.keras.models import Sequential\n",
    "from sklearn.model_selection import train_test_split\n",
    "from sklearn.metrics import accuracy_score, precision_score, \\\n",
    "recall_score, f1_score, confusion_matrix, roc_auc_score, roc_curve, \\\n",
    "classification_report, log_loss ,precision_recall_curve, balanced_accuracy_score"
   ]
  },
  {
   "cell_type": "markdown",
   "metadata": {
    "notebookRunGroups": {
     "groupValue": "1"
    }
   },
   "source": [
    "<h1 style=\"font-family:'Georgia'; font-weight:bold;padding:1%\">Constants and Global Variables</h1>\n"
   ]
  },
  {
   "cell_type": "code",
   "execution_count": 2,
   "metadata": {},
   "outputs": [],
   "source": [
    "DATASET_PATH = '../Datasets/On Door/'\n",
    "IMAGE_SIZE = (224, 224)\n",
    "BATCH_SIZE = 32\n",
    "EPOCHS = 10\n",
    "SAMPLE_RATE = 22050"
   ]
  },
  {
   "cell_type": "code",
   "execution_count": 3,
   "metadata": {},
   "outputs": [],
   "source": [
    "models = {\n",
    "    'buzzingDetection':layers.SimpleRNN, \n",
    "    'insectDetection': None, \n",
    "    'beeOrNot': None, \n",
    "    'waspOrNot': None, \n",
    "    'decisionMaking': None\n",
    "    }\n",
    "datasets = ['BuzzOrNot', 'BeeOrNot', 'WaspOrNot']"
   ]
  },
  {
   "cell_type": "markdown",
   "metadata": {},
   "source": [
    "<h1 style=\"font-family:'Georgia'; font-weight:bold;padding:1%\">Evaluation</h1>\n"
   ]
  },
  {
   "cell_type": "code",
   "execution_count": 4,
   "metadata": {},
   "outputs": [],
   "source": [
    "def evaluateModel(yTrue, yPred, yProb=None):\n",
    "    accuracy = accuracy_score(yTrue, yPred)\n",
    "    print(f\"Accuracy: {accuracy:.4f}\")\n",
    "    \n",
    "    balancedAcc = balanced_accuracy_score(yTrue, yPred)\n",
    "    print(f\"Balanced Accuracy: {balancedAcc:.4f}\")\n",
    "    \n",
    "    precision = precision_score(yTrue, yPred)\n",
    "    print(f\"Precision: {precision:.4f}\")\n",
    "    \n",
    "    recall = recall_score(yTrue, yPred)\n",
    "    print(f\"Recall: {recall:.4f}\")\n",
    "    \n",
    "    f1 = f1_score(yTrue, yPred)\n",
    "    print(f\"F1 Score: {f1:.4f}\")\n",
    "    \n",
    "    cm = confusion_matrix(yTrue, yPred)\n",
    "    print(f\"Confusion Matrix:\\n{cm}\")\n",
    "    \n",
    "    plt.figure(figsize=(6, 4))\n",
    "    sns.heatmap(cm, annot=True, fmt='d', cmap='Blues', cbar=False)\n",
    "    plt.title('Confusion Matrix')\n",
    "    plt.xlabel('Predicted')\n",
    "    plt.ylabel('Actual')\n",
    "    plt.show()\n",
    "\n",
    "    if yProb is not None:\n",
    "        rocAuc = roc_auc_score(yTrue, yProb)\n",
    "        print(f\"ROC AUC Score: {rocAuc:.4f}\")\n",
    "        \n",
    "        fpr, tpr, _ = roc_curve(yTrue, yProb)\n",
    "        plt.figure(figsize=(6, 4))\n",
    "        plt.plot(fpr, tpr, label=f\"ROC Curve (AUC = {rocAuc:.4f})\")\n",
    "        plt.plot([0, 1], [0, 1], 'k--', label=\"Random Guess\")\n",
    "        plt.xlabel(\"False Positive Rate\")\n",
    "        plt.ylabel(\"True Positive Rate (Recall)\")\n",
    "        plt.title(\"ROC Curve\")\n",
    "        plt.legend(loc=\"lower right\")\n",
    "        plt.show()\n",
    "        \n",
    "        precisionCurve, recallCurve, _ = precision_recall_curve(yTrue, yProb)\n",
    "        plt.figure(figsize=(6, 4))\n",
    "        plt.plot(recallCurve, precisionCurve, label=\"Precision-Recall Curve\")\n",
    "        plt.xlabel(\"Recall\")\n",
    "        plt.ylabel(\"Precision\")\n",
    "        plt.title(\"Precision-Recall Curve\")\n",
    "        plt.legend(loc=\"lower left\")\n",
    "        plt.show()\n",
    "\n",
    "    if yProb is not None:\n",
    "        logloss = log_loss(yTrue, yProb)\n",
    "        print(f\"Log Loss: {logloss:.4f}\")"
   ]
  },
  {
   "cell_type": "markdown",
   "metadata": {},
   "source": [
    "<h1 align=\"center\" style=\"font-family:'Georgia'; font-weight:bold;padding:1%\">Buzz Detection (Sound Classification)</h1>\n"
   ]
  },
  {
   "cell_type": "markdown",
   "metadata": {},
   "source": [
    "---\n"
   ]
  },
  {
   "cell_type": "markdown",
   "metadata": {},
   "source": [
    "<h2 style=\"font-family:'Georgia'; font-weight:bold;padding:1%\">Audio Segmentation</h2>\n"
   ]
  },
  {
   "cell_type": "code",
   "execution_count": 5,
   "metadata": {},
   "outputs": [],
   "source": [
    "def loadAudio(sub='/train'):\n",
    "    print(f\"\\nLoading audio data from {DATASET_PATH + datasets[0] + sub}...\")\n",
    "    PATH = DATASET_PATH + datasets[0] + sub\n",
    "    segments = []\n",
    "    targets = []\n",
    "    \n",
    "    for filename in os.listdir(PATH):\n",
    "        if filename.endswith('.wav'):\n",
    "            audio = os.path.join(PATH, filename)\n",
    "            label = filename.split('.')[0].split('_')[0]\n",
    "            try:\n",
    "                audio, sampleRate = librosa.load(audio)\n",
    "                segments.append(audio)\n",
    "                targets.append('Buzzing' if filename.startswith( 'Bee') else 'No Buzzing')\n",
    "            except:\n",
    "                os.remove(audio)\n",
    "  \n",
    "    return segments, np.array(targets)       "
   ]
  },
  {
   "cell_type": "markdown",
   "metadata": {},
   "source": [
    "<h2 style=\"font-family:'Georgia'; font-weight:bold;padding:1%\">Audio Pre-Proccessing</h2>\n"
   ]
  },
  {
   "cell_type": "code",
   "execution_count": 6,
   "metadata": {},
   "outputs": [],
   "source": [
    "def extractMFCC(segments, n_mfcc=12):\n",
    "    print(f\"\\nPadded MFCC extraction for {len(segments)} segments...\")\n",
    "    mfccs = []\n",
    "    mfccs = [librosa.feature.mfcc(y=segment, sr=SAMPLE_RATE, n_mfcc=n_mfcc) for segment in segments]\n",
    "    return mfccs, max([mfcc.shape[1] for mfcc in mfccs])\n"
   ]
  },
  {
   "cell_type": "code",
   "execution_count": 7,
   "metadata": {},
   "outputs": [],
   "source": [
    "def pad(mfccs, maxLength):\n",
    "    features = [\n",
    "        np.pad(mfcc, ((0, 0), (0, maxLength - mfcc.shape[1])), mode='constant') \n",
    "        for mfcc in mfccs\n",
    "    ]\n",
    "    return np.array(features)"
   ]
  },
  {
   "cell_type": "markdown",
   "metadata": {},
   "source": [
    "<h2 style=\"font-family:'Georgia'; font-weight:bold;padding:1%\">Audio PipeLine</h2>\n"
   ]
  },
  {
   "cell_type": "code",
   "execution_count": 8,
   "metadata": {},
   "outputs": [],
   "source": [
    "def audioPipeline():\n",
    "    xTrain, yTrain = loadAudio('/train/')\n",
    "    xTest, yTest = loadAudio('/test/')\n",
    "    xTrain, maxTrainLength = extractMFCC(xTrain)\n",
    "    xTest, maxTestLength = extractMFCC(xTest)\n",
    "    xTrain = pad(xTrain, max(maxTrainLength, maxTestLength))\n",
    "    xTest = pad(xTest, max(maxTrainLength, maxTestLength))\n",
    "    yTrain = np.array([1 if label == 'Buzzing' else 0 for label in yTrain])\n",
    "    yTest = np.array([1 if label == 'Buzzing' else 0 for label in yTest])\n",
    "    xTrain, xVal, yTrain, yVal = train_test_split(xTrain, yTrain, test_size=0.2, random_state=42)\n",
    "    return xTrain, yTrain, xVal, yVal, xTest, yTest"
   ]
  },
  {
   "cell_type": "markdown",
   "metadata": {},
   "source": [
    "<h1 align=\"center\" style=\"font-family:'Georgia'; font-weight:bold;padding:1%\">Bee Detection (Image Classification)</h1>\n",
    "<hr>\n",
    "<h2 style=\"font-family:'Georgia'; font-weight:bold;padding:1%\">Loading Images</h2>\n"
   ]
  },
  {
   "cell_type": "code",
   "execution_count": 9,
   "metadata": {},
   "outputs": [],
   "source": [
    "def loadImages(index, sub, positive):\n",
    "    print(f\"\\nLoading image data from {DATASET_PATH + datasets[index] + sub}...\")\n",
    "    PATH = DATASET_PATH + datasets[index] + sub\n",
    "    subDirs = [d for d in os.listdir(PATH) if os.path.isdir(os.path.join(PATH, d))]\n",
    "    targets = []\n",
    "    images = []\n",
    "    \n",
    "    for target in subDirs:\n",
    "        targetPath = os.path.join(PATH, target)   \n",
    "        \n",
    "        for filename in os.listdir(targetPath):\n",
    "            if filename.endswith(('.jpg', '.png')): \n",
    "                image = os.path.join(targetPath, filename)\n",
    "                img = cv2.imread(image)\n",
    "                img = cv2.resize(img, IMAGE_SIZE) \n",
    "                targets.append(target)\n",
    "                images.append(img)\n",
    "    targets = np.array([1 if target == positive else 0 for target in targets])            \n",
    "    return np.array(images), np.array(targets)"
   ]
  },
  {
   "cell_type": "code",
   "execution_count": 10,
   "metadata": {},
   "outputs": [],
   "source": [
    "def extractImages(index, positive):\n",
    "    xTrain, yTrain = loadImages(index, '/train/', positive)\n",
    "    xTest, yTest = loadImages(index, '/test/', positive)\n",
    "    xTrain, xVal, yTrain, yVal = train_test_split(xTrain, yTrain, test_size=0.2, random_state=42)\n",
    "    \n",
    "    return xTrain, yTrain, xVal, yVal, xTest, yTest"
   ]
  },
  {
   "cell_type": "markdown",
   "metadata": {},
   "source": [
    "<h1 style=\"font-family:'Georgia'; font-weight:bold;padding:1%\">Model Building</h1>\n"
   ]
  },
  {
   "cell_type": "code",
   "execution_count": 11,
   "metadata": {},
   "outputs": [],
   "source": [
    "def buildForBuzz(shape, modelType):  \n",
    "        print(f\"\\nBuilding {modelType.__name__} with input shape {shape}...\")\n",
    "        model = Sequential()\n",
    "        model.add(layers.Input(shape=shape))\n",
    "        \n",
    "        model.add(modelType(128, return_sequences=True))\n",
    "        model.add(modelType(64))\n",
    "        #model.add(layers.Dense(64, activation='tanh'))\n",
    "\n",
    "        \n",
    "        model.add(layers.Dense(1, activation='sigmoid'))\n",
    "        model.compile(optimizer='adam', loss='binary_crossentropy', metrics=['accuracy'])\n",
    "        \n",
    "        return model"
   ]
  },
  {
   "cell_type": "code",
   "execution_count": 12,
   "metadata": {},
   "outputs": [],
   "source": [
    "def buildForInsects():\n",
    "    model = Sequential()\n",
    "    resnet = tf.keras.applications.ResNet50(weights='imagenet', include_top=False,\n",
    "        input_shape=(IMAGE_SIZE[0], IMAGE_SIZE[1], 3),pooling='avg')\n",
    "    \n",
    "    for layer in resnet.layers:\n",
    "        layer.trainable=False\n",
    "        \n",
    "    model.add(resnet)\n",
    "    model.add(layers.Flatten())\n",
    "    model.add(layers.Dense(512, activation='relu'))\n",
    "    model.add(layers.Dense(1, activation='sigmoid'))\n",
    "    \n",
    "    model.compile(optimizer='adam', loss='binary_crossentropy', metrics=['accuracy'])\n",
    "    return model"
   ]
  },
  {
   "cell_type": "code",
   "execution_count": 13,
   "metadata": {},
   "outputs": [],
   "source": [
    "def train(model, xTrain, yTrain, xVal, yVal):\n",
    "    print(f\"\\nTraining {model.layers[0].__class__.__name__} model...\")\n",
    "    model.fit(xTrain, yTrain, validation_data=(xVal, yVal), epochs=EPOCHS, batch_size=BATCH_SIZE, verbose=True)\n",
    "    predictions = model.predict(xVal)\n",
    "    predictions = np.array([1 if pred > 0.5 else 0 for pred in predictions])\n",
    "    evaluateModel(yVal, predictions)\n",
    "    return model"
   ]
  },
  {
   "cell_type": "code",
   "execution_count": 14,
   "metadata": {},
   "outputs": [],
   "source": [
    "def test(model, xTest, yTest):\n",
    "    predictions = model.predict(xTest)\n",
    "    predictions = np.array([1 if pred > 0.5 else 0 for pred in predictions])\n",
    "    evaluateModel(yTest, predictions)"
   ]
  },
  {
   "cell_type": "markdown",
   "metadata": {},
   "source": [
    "<h1 align=\"center\" style=\"font-family:'Georgia'; font-weight:bold;padding:2%\">Main</h1>\n"
   ]
  },
  {
   "cell_type": "code",
   "execution_count": 20,
   "metadata": {},
   "outputs": [
    {
     "name": "stdout",
     "output_type": "stream",
     "text": [
      "\n",
      "Loading audio data from ../Datasets/On Door/BuzzOrNot/train/...\n",
      "\n",
      "Loading audio data from ../Datasets/On Door/BuzzOrNot/test/...\n",
      "\n",
      "Padded MFCC extraction for 1984 segments...\n",
      "\n",
      "Padded MFCC extraction for 853 segments...\n",
      "\n",
      "Building LSTM with input shape (12, 432)...\n",
      "\n",
      "Training LSTM model...\n",
      "Epoch 1/10\n",
      "\u001b[1m50/50\u001b[0m \u001b[32m━━━━━━━━━━━━━━━━━━━━\u001b[0m\u001b[37m\u001b[0m \u001b[1m3s\u001b[0m 18ms/step - accuracy: 0.7863 - loss: 0.4535 - val_accuracy: 0.9471 - val_loss: 0.1595\n",
      "Epoch 2/10\n",
      "\u001b[1m50/50\u001b[0m \u001b[32m━━━━━━━━━━━━━━━━━━━━\u001b[0m\u001b[37m\u001b[0m \u001b[1m1s\u001b[0m 11ms/step - accuracy: 0.9594 - loss: 0.1301 - val_accuracy: 0.9622 - val_loss: 0.1234\n",
      "Epoch 3/10\n",
      "\u001b[1m50/50\u001b[0m \u001b[32m━━━━━━━━━━━━━━━━━━━━\u001b[0m\u001b[37m\u001b[0m \u001b[1m1s\u001b[0m 11ms/step - accuracy: 0.9813 - loss: 0.0762 - val_accuracy: 0.9496 - val_loss: 0.1298\n",
      "Epoch 4/10\n",
      "\u001b[1m50/50\u001b[0m \u001b[32m━━━━━━━━━━━━━━━━━━━━\u001b[0m\u001b[37m\u001b[0m \u001b[1m1s\u001b[0m 11ms/step - accuracy: 0.9910 - loss: 0.0420 - val_accuracy: 0.9647 - val_loss: 0.1044\n",
      "Epoch 5/10\n",
      "\u001b[1m50/50\u001b[0m \u001b[32m━━━━━━━━━━━━━━━━━━━━\u001b[0m\u001b[37m\u001b[0m \u001b[1m1s\u001b[0m 10ms/step - accuracy: 0.9985 - loss: 0.0103 - val_accuracy: 0.9622 - val_loss: 0.0965\n",
      "Epoch 6/10\n",
      "\u001b[1m50/50\u001b[0m \u001b[32m━━━━━━━━━━━━━━━━━━━━\u001b[0m\u001b[37m\u001b[0m \u001b[1m1s\u001b[0m 11ms/step - accuracy: 0.9987 - loss: 0.0073 - val_accuracy: 0.9647 - val_loss: 0.0992\n",
      "Epoch 7/10\n",
      "\u001b[1m50/50\u001b[0m \u001b[32m━━━━━━━━━━━━━━━━━━━━\u001b[0m\u001b[37m\u001b[0m \u001b[1m1s\u001b[0m 12ms/step - accuracy: 0.9946 - loss: 0.0163 - val_accuracy: 0.8640 - val_loss: 0.2603\n",
      "Epoch 8/10\n",
      "\u001b[1m50/50\u001b[0m \u001b[32m━━━━━━━━━━━━━━━━━━━━\u001b[0m\u001b[37m\u001b[0m \u001b[1m1s\u001b[0m 12ms/step - accuracy: 0.9817 - loss: 0.0562 - val_accuracy: 0.9395 - val_loss: 0.1822\n",
      "Epoch 9/10\n",
      "\u001b[1m50/50\u001b[0m \u001b[32m━━━━━━━━━━━━━━━━━━━━\u001b[0m\u001b[37m\u001b[0m \u001b[1m1s\u001b[0m 12ms/step - accuracy: 0.9952 - loss: 0.0141 - val_accuracy: 0.9572 - val_loss: 0.1222\n",
      "Epoch 10/10\n",
      "\u001b[1m50/50\u001b[0m \u001b[32m━━━━━━━━━━━━━━━━━━━━\u001b[0m\u001b[37m\u001b[0m \u001b[1m1s\u001b[0m 12ms/step - accuracy: 0.9999 - loss: 0.0047 - val_accuracy: 0.9521 - val_loss: 0.1648\n",
      "\u001b[1m13/13\u001b[0m \u001b[32m━━━━━━━━━━━━━━━━━━━━\u001b[0m\u001b[37m\u001b[0m \u001b[1m1s\u001b[0m 25ms/step\n",
      "Accuracy: 0.9521\n",
      "Balanced Accuracy: 0.9507\n",
      "Precision: 0.9775\n",
      "Recall: 0.9206\n",
      "F1 Score: 0.9482\n",
      "Confusion Matrix:\n",
      "[[204   4]\n",
      " [ 15 174]]\n"
     ]
    },
    {
     "data": {
      "image/png": "[encoded data removed]",
      "text/plain": [
       "<Figure size 600x400 with 1 Axes>"
      ]
     },
     "metadata": {},
     "output_type": "display_data"
    },
    {
     "name": "stdout",
     "output_type": "stream",
     "text": [
      "\u001b[1m27/27\u001b[0m \u001b[32m━━━━━━━━━━━━━━━━━━━━\u001b[0m\u001b[37m\u001b[0m \u001b[1m0s\u001b[0m 5ms/step\n",
      "Accuracy: 0.9484\n",
      "Balanced Accuracy: 0.9484\n",
      "Precision: 0.9775\n",
      "Recall: 0.9178\n",
      "F1 Score: 0.9467\n",
      "Confusion Matrix:\n",
      "[[418   9]\n",
      " [ 35 391]]\n"
     ]
    },
    {
     "data": {
      "image/png": "[encoded data removed]",
      "text/plain": [
       "<Figure size 600x400 with 1 Axes>"
      ]
     },
     "metadata": {},
     "output_type": "display_data"
    },
    {
     "name": "stdout",
     "output_type": "stream",
     "text": [
      "\n",
      "Building GRU with input shape (12, 432)...\n",
      "\n",
      "Training GRU model...\n",
      "Epoch 1/10\n",
      "\u001b[1m50/50\u001b[0m \u001b[32m━━━━━━━━━━━━━━━━━━━━\u001b[0m\u001b[37m\u001b[0m \u001b[1m4s\u001b[0m 21ms/step - accuracy: 0.7636 - loss: 0.4403 - val_accuracy: 0.9244 - val_loss: 0.2030\n",
      "Epoch 2/10\n",
      "\u001b[1m50/50\u001b[0m \u001b[32m━━━━━━━━━━━━━━━━━━━━\u001b[0m\u001b[37m\u001b[0m \u001b[1m1s\u001b[0m 11ms/step - accuracy: 0.9544 - loss: 0.1393 - val_accuracy: 0.9345 - val_loss: 0.1782\n",
      "Epoch 3/10\n",
      "\u001b[1m50/50\u001b[0m \u001b[32m━━━━━━━━━━━━━━━━━━━━\u001b[0m\u001b[37m\u001b[0m \u001b[1m1s\u001b[0m 11ms/step - accuracy: 0.9876 - loss: 0.0597 - val_accuracy: 0.9345 - val_loss: 0.1758\n",
      "Epoch 4/10\n",
      "\u001b[1m50/50\u001b[0m \u001b[32m━━━━━━━━━━━━━━━━━━━━\u001b[0m\u001b[37m\u001b[0m \u001b[1m1s\u001b[0m 11ms/step - accuracy: 0.9883 - loss: 0.0416 - val_accuracy: 0.9194 - val_loss: 0.2253\n",
      "Epoch 5/10\n",
      "\u001b[1m50/50\u001b[0m \u001b[32m━━━━━━━━━━━━━━━━━━━━\u001b[0m\u001b[37m\u001b[0m \u001b[1m1s\u001b[0m 11ms/step - accuracy: 0.9846 - loss: 0.0541 - val_accuracy: 0.9093 - val_loss: 0.2835\n",
      "Epoch 6/10\n",
      "\u001b[1m50/50\u001b[0m \u001b[32m━━━━━━━━━━━━━━━━━━━━\u001b[0m\u001b[37m\u001b[0m \u001b[1m1s\u001b[0m 12ms/step - accuracy: 0.9709 - loss: 0.0806 - val_accuracy: 0.9395 - val_loss: 0.1801\n",
      "Epoch 7/10\n",
      "\u001b[1m50/50\u001b[0m \u001b[32m━━━━━━━━━━━━━━━━━━━━\u001b[0m\u001b[37m\u001b[0m \u001b[1m1s\u001b[0m 11ms/step - accuracy: 0.9897 - loss: 0.0309 - val_accuracy: 0.9395 - val_loss: 0.2345\n",
      "Epoch 8/10\n",
      "\u001b[1m50/50\u001b[0m \u001b[32m━━━━━━━━━━━━━━━━━━━━\u001b[0m\u001b[37m\u001b[0m \u001b[1m1s\u001b[0m 11ms/step - accuracy: 0.9905 - loss: 0.0260 - val_accuracy: 0.9295 - val_loss: 0.2925\n",
      "Epoch 9/10\n",
      "\u001b[1m50/50\u001b[0m \u001b[32m━━━━━━━━━━━━━━━━━━━━\u001b[0m\u001b[37m\u001b[0m \u001b[1m1s\u001b[0m 11ms/step - accuracy: 0.9987 - loss: 0.0133 - val_accuracy: 0.9421 - val_loss: 0.2696\n",
      "Epoch 10/10\n",
      "\u001b[1m50/50\u001b[0m \u001b[32m━━━━━━━━━━━━━━━━━━━━\u001b[0m\u001b[37m\u001b[0m \u001b[1m1s\u001b[0m 11ms/step - accuracy: 0.9989 - loss: 0.0089 - val_accuracy: 0.9421 - val_loss: 0.2507\n",
      "\u001b[1m13/13\u001b[0m \u001b[32m━━━━━━━━━━━━━━━━━━━━\u001b[0m\u001b[37m\u001b[0m \u001b[1m1s\u001b[0m 26ms/step\n",
      "Accuracy: 0.9421\n",
      "Balanced Accuracy: 0.9416\n",
      "Precision: 0.9462\n",
      "Recall: 0.9312\n",
      "F1 Score: 0.9387\n",
      "Confusion Matrix:\n",
      "[[198  10]\n",
      " [ 13 176]]\n"
     ]
    },
    {
     "data": {
      "image/png": "[encoded data removed]",
      "text/plain": [
       "<Figure size 600x400 with 1 Axes>"
      ]
     },
     "metadata": {},
     "output_type": "display_data"
    },
    {
     "name": "stdout",
     "output_type": "stream",
     "text": [
      "\u001b[1m27/27\u001b[0m \u001b[32m━━━━━━━━━━━━━━━━━━━━\u001b[0m\u001b[37m\u001b[0m \u001b[1m0s\u001b[0m 4ms/step\n",
      "Accuracy: 0.9039\n",
      "Balanced Accuracy: 0.9039\n",
      "Precision: 0.8945\n",
      "Recall: 0.9155\n",
      "F1 Score: 0.9049\n",
      "Confusion Matrix:\n",
      "[[381  46]\n",
      " [ 36 390]]\n"
     ]
    },
    {
     "data": {
      "image/png": "[encoded data removed]",
      "text/plain": [
       "<Figure size 600x400 with 1 Axes>"
      ]
     },
     "metadata": {},
     "output_type": "display_data"
    },
    {
     "name": "stdout",
     "output_type": "stream",
     "text": [
      "\n",
      "Building SimpleRNN with input shape (12, 432)...\n",
      "\n",
      "Training SimpleRNN model...\n",
      "Epoch 1/10\n",
      "\u001b[1m50/50\u001b[0m \u001b[32m━━━━━━━━━━━━━━━━━━━━\u001b[0m\u001b[37m\u001b[0m \u001b[1m3s\u001b[0m 12ms/step - accuracy: 0.7485 - loss: 0.5053 - val_accuracy: 0.9521 - val_loss: 0.2354\n",
      "Epoch 2/10\n",
      "\u001b[1m50/50\u001b[0m \u001b[32m━━━━━━━━━━━━━━━━━━━━\u001b[0m\u001b[37m\u001b[0m \u001b[1m0s\u001b[0m 5ms/step - accuracy: 0.9587 - loss: 0.1680 - val_accuracy: 0.9572 - val_loss: 0.1414\n",
      "Epoch 3/10\n",
      "\u001b[1m50/50\u001b[0m \u001b[32m━━━━━━━━━━━━━━━━━━━━\u001b[0m\u001b[37m\u001b[0m \u001b[1m0s\u001b[0m 5ms/step - accuracy: 0.9873 - loss: 0.0666 - val_accuracy: 0.9547 - val_loss: 0.1508\n",
      "Epoch 4/10\n",
      "\u001b[1m50/50\u001b[0m \u001b[32m━━━━━━━━━━━━━━━━━━━━\u001b[0m\u001b[37m\u001b[0m \u001b[1m0s\u001b[0m 6ms/step - accuracy: 0.9939 - loss: 0.0385 - val_accuracy: 0.9622 - val_loss: 0.1299\n",
      "Epoch 5/10\n",
      "\u001b[1m50/50\u001b[0m \u001b[32m━━━━━━━━━━━━━━━━━━━━\u001b[0m\u001b[37m\u001b[0m \u001b[1m0s\u001b[0m 5ms/step - accuracy: 0.9945 - loss: 0.0231 - val_accuracy: 0.9673 - val_loss: 0.1304\n",
      "Epoch 6/10\n",
      "\u001b[1m50/50\u001b[0m \u001b[32m━━━━━━━━━━━━━━━━━━━━\u001b[0m\u001b[37m\u001b[0m \u001b[1m0s\u001b[0m 6ms/step - accuracy: 0.9946 - loss: 0.0272 - val_accuracy: 0.9421 - val_loss: 0.1551\n",
      "Epoch 7/10\n",
      "\u001b[1m50/50\u001b[0m \u001b[32m━━━━━━━━━━━━━━━━━━━━\u001b[0m\u001b[37m\u001b[0m \u001b[1m0s\u001b[0m 5ms/step - accuracy: 0.9974 - loss: 0.0187 - val_accuracy: 0.9572 - val_loss: 0.1283\n",
      "Epoch 8/10\n",
      "\u001b[1m50/50\u001b[0m \u001b[32m━━━━━━━━━━━━━━━━━━━━\u001b[0m\u001b[37m\u001b[0m \u001b[1m0s\u001b[0m 5ms/step - accuracy: 0.9998 - loss: 0.0066 - val_accuracy: 0.9572 - val_loss: 0.1408\n",
      "Epoch 9/10\n",
      "\u001b[1m50/50\u001b[0m \u001b[32m━━━━━━━━━━━━━━━━━━━━\u001b[0m\u001b[37m\u001b[0m \u001b[1m0s\u001b[0m 6ms/step - accuracy: 0.9992 - loss: 0.0041 - val_accuracy: 0.9673 - val_loss: 0.1336\n",
      "Epoch 10/10\n",
      "\u001b[1m50/50\u001b[0m \u001b[32m━━━━━━━━━━━━━━━━━━━━\u001b[0m\u001b[37m\u001b[0m \u001b[1m0s\u001b[0m 6ms/step - accuracy: 1.0000 - loss: 0.0018 - val_accuracy: 0.9673 - val_loss: 0.1345\n",
      "\u001b[1m13/13\u001b[0m \u001b[32m━━━━━━━━━━━━━━━━━━━━\u001b[0m\u001b[37m\u001b[0m \u001b[1m0s\u001b[0m 18ms/step\n",
      "Accuracy: 0.9673\n",
      "Balanced Accuracy: 0.9671\n",
      "Precision: 0.9681\n",
      "Recall: 0.9630\n",
      "F1 Score: 0.9655\n",
      "Confusion Matrix:\n",
      "[[202   6]\n",
      " [  7 182]]\n"
     ]
    },
    {
     "data": {
      "image/png": "[encoded data removed]",
      "text/plain": [
       "<Figure size 600x400 with 1 Axes>"
      ]
     },
     "metadata": {},
     "output_type": "display_data"
    },
    {
     "name": "stdout",
     "output_type": "stream",
     "text": [
      "\u001b[1m27/27\u001b[0m \u001b[32m━━━━━━━━━━━━━━━━━━━━\u001b[0m\u001b[37m\u001b[0m \u001b[1m0s\u001b[0m 2ms/step\n",
      "Accuracy: 0.9719\n",
      "Balanced Accuracy: 0.9719\n",
      "Precision: 0.9741\n",
      "Recall: 0.9695\n",
      "F1 Score: 0.9718\n",
      "Confusion Matrix:\n",
      "[[416  11]\n",
      " [ 13 413]]\n"
     ]
    },
    {
     "data": {
      "image/png": "[encoded data removed]",
      "text/plain": [
       "<Figure size 600x400 with 1 Axes>"
      ]
     },
     "metadata": {},
     "output_type": "display_data"
    }
   ],
   "source": [
    "def compareAudioModels(): \n",
    "    xTrain, yTrain, xVal, yVal, xTest, yTest = audioPipeline()\n",
    "    models = [layers.LSTM, layers.GRU, layers.SimpleRNN]\n",
    "    for model in models:\n",
    "        model = buildForBuzz(xTrain.shape[1:], model)\n",
    "        model = train(model, xTrain, yTrain, xVal, yVal)\n",
    "        test(model, xTest, yTest)\n",
    "        \n",
    "compareAudioModels()"
   ]
  },
  {
   "cell_type": "code",
   "execution_count": 16,
   "metadata": {},
   "outputs": [],
   "source": [
    "def classifyInsects(index=1, positive=\"Bee\"):\n",
    "    xTrain, yTrain, xVal, yVal, xTest, yTest = extractImages(index, positive)\n",
    "    model = buildForInsects();\n",
    "    model = train(model, xTrain, yTrain, xVal, yVal)\n",
    "    test(model, xTest, yTest)\n",
    "    return model, xTest, yTest"
   ]
  },
  {
   "cell_type": "code",
   "execution_count": 17,
   "metadata": {},
   "outputs": [],
   "source": [
    "def show(model, image, label, positive, negative):\n",
    "    reshapedImg = np.expand_dims(image, axis=0)\n",
    "    prediction = model.predict(reshapedImg)\n",
    "    print(prediction)\n",
    "    print('Predicted:', positive if prediction[0][0] > 0.5 else negative)\n",
    "    print('True label:', positive if label == 1 else negative)\n",
    "    cv2.imshow('Test Image', image)\n",
    "    cv2.waitKey(0)\n",
    "    cv2.destroyAllWindows()\n",
    "    \n",
    "def demo(beeModel, waspModel, image, label):\n",
    "    show(beeModel, image, label, \"Bee\", \"Not Bee\") \n",
    "    reshapedImg = np.expand_dims(image, axis=0)\n",
    "    prediction = beeModel.predict(reshapedImg)\n",
    "    \n",
    "    if prediction[0][0] <= 0.5: \n",
    "        show(waspModel, image, label, \"Wasp\", \"Other Insects\")"
   ]
  },
  {
   "cell_type": "code",
   "execution_count": 18,
   "metadata": {},
   "outputs": [
    {
     "name": "stdout",
     "output_type": "stream",
     "text": [
      "\n",
      "Loading image data from ../Datasets/On Door/BeeOrNot/train/...\n",
      "\n",
      "Loading image data from ../Datasets/On Door/BeeOrNot/test/...\n",
      "\n",
      "Training Functional model...\n",
      "Epoch 1/10\n",
      "\u001b[1m253/253\u001b[0m \u001b[32m━━━━━━━━━━━━━━━━━━━━\u001b[0m\u001b[37m\u001b[0m \u001b[1m304s\u001b[0m 1s/step - accuracy: 0.8015 - loss: 0.4800 - val_accuracy: 0.8673 - val_loss: 0.2806\n",
      "Epoch 2/10\n",
      "\u001b[1m253/253\u001b[0m \u001b[32m━━━━━━━━━━━━━━━━━━━━\u001b[0m\u001b[37m\u001b[0m \u001b[1m320s\u001b[0m 1s/step - accuracy: 0.8820 - loss: 0.2665 - val_accuracy: 0.8911 - val_loss: 0.2612\n",
      "Epoch 3/10\n",
      "\u001b[1m253/253\u001b[0m \u001b[32m━━━━━━━━━━━━━━━━━━━━\u001b[0m\u001b[37m\u001b[0m \u001b[1m320s\u001b[0m 1s/step - accuracy: 0.8861 - loss: 0.2486 - val_accuracy: 0.8782 - val_loss: 0.2758\n",
      "Epoch 4/10\n",
      "\u001b[1m253/253\u001b[0m \u001b[32m━━━━━━━━━━━━━━━━━━━━\u001b[0m\u001b[37m\u001b[0m \u001b[1m314s\u001b[0m 1s/step - accuracy: 0.8956 - loss: 0.2329 - val_accuracy: 0.8906 - val_loss: 0.2572\n",
      "Epoch 5/10\n",
      "\u001b[1m253/253\u001b[0m \u001b[32m━━━━━━━━━━━━━━━━━━━━\u001b[0m\u001b[37m\u001b[0m \u001b[1m312s\u001b[0m 1s/step - accuracy: 0.9188 - loss: 0.1946 - val_accuracy: 0.8797 - val_loss: 0.2920\n",
      "Epoch 6/10\n",
      "\u001b[1m253/253\u001b[0m \u001b[32m━━━━━━━━━━━━━━━━━━━━\u001b[0m\u001b[37m\u001b[0m \u001b[1m314s\u001b[0m 1s/step - accuracy: 0.9086 - loss: 0.2062 - val_accuracy: 0.8782 - val_loss: 0.2848\n",
      "Epoch 7/10\n",
      "\u001b[1m253/253\u001b[0m \u001b[32m━━━━━━━━━━━━━━━━━━━━\u001b[0m\u001b[37m\u001b[0m \u001b[1m323s\u001b[0m 1s/step - accuracy: 0.9263 - loss: 0.1773 - val_accuracy: 0.8772 - val_loss: 0.2890\n",
      "Epoch 8/10\n",
      "\u001b[1m253/253\u001b[0m \u001b[32m━━━━━━━━━━━━━━━━━━━━\u001b[0m\u001b[37m\u001b[0m \u001b[1m320s\u001b[0m 1s/step - accuracy: 0.9158 - loss: 0.1924 - val_accuracy: 0.8975 - val_loss: 0.2520\n",
      "Epoch 9/10\n",
      "\u001b[1m253/253\u001b[0m \u001b[32m━━━━━━━━━━━━━━━━━━━━\u001b[0m\u001b[37m\u001b[0m \u001b[1m319s\u001b[0m 1s/step - accuracy: 0.9375 - loss: 0.1533 - val_accuracy: 0.8767 - val_loss: 0.2990\n",
      "Epoch 10/10\n",
      "\u001b[1m253/253\u001b[0m \u001b[32m━━━━━━━━━━━━━━━━━━━━\u001b[0m\u001b[37m\u001b[0m \u001b[1m317s\u001b[0m 1s/step - accuracy: 0.9333 - loss: 0.1620 - val_accuracy: 0.8748 - val_loss: 0.3008\n",
      "\u001b[1m64/64\u001b[0m \u001b[32m━━━━━━━━━━━━━━━━━━━━\u001b[0m\u001b[37m\u001b[0m \u001b[1m63s\u001b[0m 955ms/step\n",
      "Accuracy: 0.8748\n",
      "Balanced Accuracy: 0.8658\n",
      "Precision: 0.8476\n",
      "Recall: 0.9448\n",
      "F1 Score: 0.8936\n",
      "Confusion Matrix:\n",
      "[[ 705  191]\n",
      " [  62 1062]]\n"
     ]
    },
    {
     "data": {
      "image/png": "[encoded data removed]",
      "text/plain": [
       "<Figure size 600x400 with 1 Axes>"
      ]
     },
     "metadata": {},
     "output_type": "display_data"
    },
    {
     "name": "stdout",
     "output_type": "stream",
     "text": [
      "\u001b[1m66/66\u001b[0m \u001b[32m━━━━━━━━━━━━━━━━━━━━\u001b[0m\u001b[37m\u001b[0m \u001b[1m66s\u001b[0m 1s/step\n",
      "Accuracy: 0.8859\n",
      "Balanced Accuracy: 0.8852\n",
      "Precision: 0.8443\n",
      "Recall: 0.9494\n",
      "F1 Score: 0.8938\n",
      "Confusion Matrix:\n",
      "[[ 857  187]\n",
      " [  54 1014]]\n"
     ]
    },
    {
     "data": {
      "image/png": "[encoded data removed]",
      "text/plain": [
       "<Figure size 600x400 with 1 Axes>"
      ]
     },
     "metadata": {},
     "output_type": "display_data"
    },
    {
     "name": "stdout",
     "output_type": "stream",
     "text": [
      "\n",
      "Loading image data from ../Datasets/On Door/WaspOrNot/train/...\n",
      "\n",
      "Loading image data from ../Datasets/On Door/WaspOrNot/test/...\n",
      "\n",
      "Training Functional model...\n",
      "Epoch 1/10\n",
      "\u001b[1m433/433\u001b[0m \u001b[32m━━━━━━━━━━━━━━━━━━━━\u001b[0m\u001b[37m\u001b[0m \u001b[1m544s\u001b[0m 1s/step - accuracy: 0.7903 - loss: 0.4678 - val_accuracy: 0.8118 - val_loss: 0.3782\n",
      "Epoch 2/10\n",
      "\u001b[1m433/433\u001b[0m \u001b[32m━━━━━━━━━━━━━━━━━━━━\u001b[0m\u001b[37m\u001b[0m \u001b[1m540s\u001b[0m 1s/step - accuracy: 0.8528 - loss: 0.3080 - val_accuracy: 0.8424 - val_loss: 0.3152\n",
      "Epoch 3/10\n",
      "\u001b[1m433/433\u001b[0m \u001b[32m━━━━━━━━━━━━━━━━━━━━\u001b[0m\u001b[37m\u001b[0m \u001b[1m546s\u001b[0m 1s/step - accuracy: 0.8674 - loss: 0.2721 - val_accuracy: 0.8520 - val_loss: 0.3118\n",
      "Epoch 4/10\n",
      "\u001b[1m433/433\u001b[0m \u001b[32m━━━━━━━━━━━━━━━━━━━━\u001b[0m\u001b[37m\u001b[0m \u001b[1m544s\u001b[0m 1s/step - accuracy: 0.8777 - loss: 0.2517 - val_accuracy: 0.8419 - val_loss: 0.3380\n",
      "Epoch 5/10\n",
      "\u001b[1m433/433\u001b[0m \u001b[32m━━━━━━━━━━━━━━━━━━━━\u001b[0m\u001b[37m\u001b[0m \u001b[1m541s\u001b[0m 1s/step - accuracy: 0.8878 - loss: 0.2303 - val_accuracy: 0.8500 - val_loss: 0.3203\n",
      "Epoch 6/10\n",
      "\u001b[1m433/433\u001b[0m \u001b[32m━━━━━━━━━━━━━━━━━━━━\u001b[0m\u001b[37m\u001b[0m \u001b[1m545s\u001b[0m 1s/step - accuracy: 0.8894 - loss: 0.2214 - val_accuracy: 0.8453 - val_loss: 0.3367\n",
      "Epoch 7/10\n",
      "\u001b[1m433/433\u001b[0m \u001b[32m━━━━━━━━━━━━━━━━━━━━\u001b[0m\u001b[37m\u001b[0m \u001b[1m540s\u001b[0m 1s/step - accuracy: 0.8945 - loss: 0.2097 - val_accuracy: 0.8436 - val_loss: 0.3486\n",
      "Epoch 8/10\n",
      "\u001b[1m433/433\u001b[0m \u001b[32m━━━━━━━━━━━━━━━━━━━━\u001b[0m\u001b[37m\u001b[0m \u001b[1m543s\u001b[0m 1s/step - accuracy: 0.8964 - loss: 0.2013 - val_accuracy: 0.8491 - val_loss: 0.3511\n",
      "Epoch 9/10\n",
      "\u001b[1m433/433\u001b[0m \u001b[32m━━━━━━━━━━━━━━━━━━━━\u001b[0m\u001b[37m\u001b[0m \u001b[1m544s\u001b[0m 1s/step - accuracy: 0.9057 - loss: 0.1913 - val_accuracy: 0.8609 - val_loss: 0.3419\n",
      "Epoch 10/10\n",
      "\u001b[1m433/433\u001b[0m \u001b[32m━━━━━━━━━━━━━━━━━━━━\u001b[0m\u001b[37m\u001b[0m \u001b[1m541s\u001b[0m 1s/step - accuracy: 0.9104 - loss: 0.1795 - val_accuracy: 0.8598 - val_loss: 0.3627\n",
      "\u001b[1m109/109\u001b[0m \u001b[32m━━━━━━━━━━━━━━━━━━━━\u001b[0m\u001b[37m\u001b[0m \u001b[1m110s\u001b[0m 999ms/step\n",
      "Accuracy: 0.8598\n",
      "Balanced Accuracy: 0.8622\n",
      "Precision: 0.9174\n",
      "Recall: 0.8027\n",
      "F1 Score: 0.8562\n",
      "Confusion Matrix:\n",
      "[[1530  130]\n",
      " [ 355 1444]]\n"
     ]
    },
    {
     "data": {
      "image/png": "[encoded data removed]",
      "text/plain": [
       "<Figure size 600x400 with 1 Axes>"
      ]
     },
     "metadata": {},
     "output_type": "display_data"
    },
    {
     "name": "stdout",
     "output_type": "stream",
     "text": [
      "\u001b[1m261/261\u001b[0m \u001b[32m━━━━━━━━━━━━━━━━━━━━\u001b[0m\u001b[37m\u001b[0m \u001b[1m260s\u001b[0m 998ms/step\n",
      "Accuracy: 0.9242\n",
      "Balanced Accuracy: 0.9173\n",
      "Precision: 0.9678\n",
      "Recall: 0.9308\n",
      "F1 Score: 0.9489\n",
      "Confusion Matrix:\n",
      "[[1831  195]\n",
      " [ 436 5862]]\n"
     ]
    },
    {
     "data": {
      "image/png": "[encoded data removed]",
      "text/plain": [
       "<Figure size 600x400 with 1 Axes>"
      ]
     },
     "metadata": {},
     "output_type": "display_data"
    }
   ],
   "source": [
    "numSamples = 10\n",
    "tester = []\n",
    "\n",
    "beeOrNot, images, labels = classifyInsects(1, \"Bee\")\n",
    "sample = random.sample(range(len(images)), numSamples)\n",
    "for index in sample:\n",
    "    tester.append((images[index], labels[index]))\n",
    "\n",
    "waspOrNot, images, labels = classifyInsects(2, \"Wasp\")\n",
    "sample = random.sample(range(len(images)), numSamples)\n",
    "for index in sample:\n",
    "    tester.append((images[index], labels[index]))\n"
   ]
  },
  {
   "cell_type": "code",
   "execution_count": 19,
   "metadata": {},
   "outputs": [
    {
     "name": "stdout",
     "output_type": "stream",
     "text": [
      "\u001b[1m1/1\u001b[0m \u001b[32m━━━━━━━━━━━━━━━━━━━━\u001b[0m\u001b[37m\u001b[0m \u001b[1m0s\u001b[0m 112ms/step\n",
      "[[   0.035286]]\n",
      "Predicted: Not Bee\n",
      "True label: Not Bee\n",
      "\u001b[1m1/1\u001b[0m \u001b[32m━━━━━━━━━━━━━━━━━━━━\u001b[0m\u001b[37m\u001b[0m \u001b[1m0s\u001b[0m 85ms/step\n",
      "\u001b[1m1/1\u001b[0m \u001b[32m━━━━━━━━━━━━━━━━━━━━\u001b[0m\u001b[37m\u001b[0m \u001b[1m0s\u001b[0m 79ms/step\n",
      "[[    0.38953]]\n",
      "Predicted: Other Insects\n",
      "True label: Other Insects\n",
      "\u001b[1m1/1\u001b[0m \u001b[32m━━━━━━━━━━━━━━━━━━━━\u001b[0m\u001b[37m\u001b[0m \u001b[1m0s\u001b[0m 101ms/step\n",
      "[[          1]]\n",
      "Predicted: Bee\n",
      "True label: Bee\n",
      "\u001b[1m1/1\u001b[0m \u001b[32m━━━━━━━━━━━━━━━━━━━━\u001b[0m\u001b[37m\u001b[0m \u001b[1m0s\u001b[0m 85ms/step\n",
      "\u001b[1m1/1\u001b[0m \u001b[32m━━━━━━━━━━━━━━━━━━━━\u001b[0m\u001b[37m\u001b[0m \u001b[1m0s\u001b[0m 82ms/step\n",
      "[[    0.71226]]\n",
      "Predicted: Bee\n",
      "True label: Not Bee\n",
      "\u001b[1m1/1\u001b[0m \u001b[32m━━━━━━━━━━━━━━━━━━━━\u001b[0m\u001b[37m\u001b[0m \u001b[1m0s\u001b[0m 91ms/step\n",
      "\u001b[1m1/1\u001b[0m \u001b[32m━━━━━━━━━━━━━━━━━━━━\u001b[0m\u001b[37m\u001b[0m \u001b[1m0s\u001b[0m 96ms/step\n",
      "[[    0.80791]]\n",
      "Predicted: Bee\n",
      "True label: Bee\n",
      "\u001b[1m1/1\u001b[0m \u001b[32m━━━━━━━━━━━━━━━━━━━━\u001b[0m\u001b[37m\u001b[0m \u001b[1m0s\u001b[0m 90ms/step\n",
      "\u001b[1m1/1\u001b[0m \u001b[32m━━━━━━━━━━━━━━━━━━━━\u001b[0m\u001b[37m\u001b[0m \u001b[1m0s\u001b[0m 100ms/step\n",
      "[[    0.23981]]\n",
      "Predicted: Not Bee\n",
      "True label: Not Bee\n",
      "\u001b[1m1/1\u001b[0m \u001b[32m━━━━━━━━━━━━━━━━━━━━\u001b[0m\u001b[37m\u001b[0m \u001b[1m0s\u001b[0m 106ms/step\n",
      "\u001b[1m1/1\u001b[0m \u001b[32m━━━━━━━━━━━━━━━━━━━━\u001b[0m\u001b[37m\u001b[0m \u001b[1m0s\u001b[0m 95ms/step\n",
      "[[    0.12853]]\n",
      "Predicted: Other Insects\n",
      "True label: Other Insects\n",
      "\u001b[1m1/1\u001b[0m \u001b[32m━━━━━━━━━━━━━━━━━━━━\u001b[0m\u001b[37m\u001b[0m \u001b[1m0s\u001b[0m 83ms/step\n",
      "[[   0.061455]]\n",
      "Predicted: Not Bee\n",
      "True label: Not Bee\n",
      "\u001b[1m1/1\u001b[0m \u001b[32m━━━━━━━━━━━━━━━━━━━━\u001b[0m\u001b[37m\u001b[0m \u001b[1m0s\u001b[0m 99ms/step\n",
      "\u001b[1m1/1\u001b[0m \u001b[32m━━━━━━━━━━━━━━━━━━━━\u001b[0m\u001b[37m\u001b[0m \u001b[1m0s\u001b[0m 77ms/step\n",
      "[[    0.12084]]\n",
      "Predicted: Other Insects\n",
      "True label: Other Insects\n",
      "\u001b[1m1/1\u001b[0m \u001b[32m━━━━━━━━━━━━━━━━━━━━\u001b[0m\u001b[37m\u001b[0m \u001b[1m0s\u001b[0m 100ms/step\n",
      "[[    0.90779]]\n",
      "Predicted: Bee\n",
      "True label: Bee\n",
      "\u001b[1m1/1\u001b[0m \u001b[32m━━━━━━━━━━━━━━━━━━━━\u001b[0m\u001b[37m\u001b[0m \u001b[1m0s\u001b[0m 101ms/step\n",
      "\u001b[1m1/1\u001b[0m \u001b[32m━━━━━━━━━━━━━━━━━━━━\u001b[0m\u001b[37m\u001b[0m \u001b[1m0s\u001b[0m 83ms/step\n",
      "[[  5.175e-11]]\n",
      "Predicted: Not Bee\n",
      "True label: Not Bee\n",
      "\u001b[1m1/1\u001b[0m \u001b[32m━━━━━━━━━━━━━━━━━━━━\u001b[0m\u001b[37m\u001b[0m \u001b[1m0s\u001b[0m 83ms/step\n",
      "\u001b[1m1/1\u001b[0m \u001b[32m━━━━━━━━━━━━━━━━━━━━\u001b[0m\u001b[37m\u001b[0m \u001b[1m0s\u001b[0m 84ms/step\n",
      "[[ 9.7886e-10]]\n",
      "Predicted: Other Insects\n",
      "True label: Other Insects\n",
      "\u001b[1m1/1\u001b[0m \u001b[32m━━━━━━━━━━━━━━━━━━━━\u001b[0m\u001b[37m\u001b[0m \u001b[1m0s\u001b[0m 90ms/step\n",
      "[[    0.59981]]\n",
      "Predicted: Bee\n",
      "True label: Not Bee\n",
      "\u001b[1m1/1\u001b[0m \u001b[32m━━━━━━━━━━━━━━━━━━━━\u001b[0m\u001b[37m\u001b[0m \u001b[1m0s\u001b[0m 99ms/step\n",
      "\u001b[1m1/1\u001b[0m \u001b[32m━━━━━━━━━━━━━━━━━━━━\u001b[0m\u001b[37m\u001b[0m \u001b[1m0s\u001b[0m 79ms/step\n",
      "[[    0.49775]]\n",
      "Predicted: Not Bee\n",
      "True label: Not Bee\n",
      "\u001b[1m1/1\u001b[0m \u001b[32m━━━━━━━━━━━━━━━━━━━━\u001b[0m\u001b[37m\u001b[0m \u001b[1m0s\u001b[0m 100ms/step\n",
      "\u001b[1m1/1\u001b[0m \u001b[32m━━━━━━━━━━━━━━━━━━━━\u001b[0m\u001b[37m\u001b[0m \u001b[1m0s\u001b[0m 80ms/step\n",
      "[[    0.29326]]\n",
      "Predicted: Other Insects\n",
      "True label: Other Insects\n",
      "\u001b[1m1/1\u001b[0m \u001b[32m━━━━━━━━━━━━━━━━━━━━\u001b[0m\u001b[37m\u001b[0m \u001b[1m0s\u001b[0m 100ms/step\n",
      "[[          1]]\n",
      "Predicted: Bee\n",
      "True label: Not Bee\n",
      "\u001b[1m1/1\u001b[0m \u001b[32m━━━━━━━━━━━━━━━━━━━━\u001b[0m\u001b[37m\u001b[0m \u001b[1m0s\u001b[0m 84ms/step\n",
      "\u001b[1m1/1\u001b[0m \u001b[32m━━━━━━━━━━━━━━━━━━━━\u001b[0m\u001b[37m\u001b[0m \u001b[1m0s\u001b[0m 91ms/step\n",
      "[[   0.010971]]\n",
      "Predicted: Not Bee\n",
      "True label: Bee\n",
      "\u001b[1m1/1\u001b[0m \u001b[32m━━━━━━━━━━━━━━━━━━━━\u001b[0m\u001b[37m\u001b[0m \u001b[1m0s\u001b[0m 88ms/step\n",
      "\u001b[1m1/1\u001b[0m \u001b[32m━━━━━━━━━━━━━━━━━━━━\u001b[0m\u001b[37m\u001b[0m \u001b[1m0s\u001b[0m 77ms/step\n",
      "[[          1]]\n",
      "Predicted: Wasp\n",
      "True label: Wasp\n",
      "\u001b[1m1/1\u001b[0m \u001b[32m━━━━━━━━━━━━━━━━━━━━\u001b[0m\u001b[37m\u001b[0m \u001b[1m0s\u001b[0m 78ms/step\n",
      "[[  0.0015056]]\n",
      "Predicted: Not Bee\n",
      "True label: Bee\n",
      "\u001b[1m1/1\u001b[0m \u001b[32m━━━━━━━━━━━━━━━━━━━━\u001b[0m\u001b[37m\u001b[0m \u001b[1m0s\u001b[0m 81ms/step\n",
      "\u001b[1m1/1\u001b[0m \u001b[32m━━━━━━━━━━━━━━━━━━━━\u001b[0m\u001b[37m\u001b[0m \u001b[1m0s\u001b[0m 79ms/step\n",
      "[[          1]]\n",
      "Predicted: Wasp\n",
      "True label: Wasp\n",
      "\u001b[1m1/1\u001b[0m \u001b[32m━━━━━━━━━━━━━━━━━━━━\u001b[0m\u001b[37m\u001b[0m \u001b[1m0s\u001b[0m 100ms/step\n",
      "[[    0.60977]]\n",
      "Predicted: Bee\n",
      "True label: Not Bee\n",
      "\u001b[1m1/1\u001b[0m \u001b[32m━━━━━━━━━━━━━━━━━━━━\u001b[0m\u001b[37m\u001b[0m \u001b[1m0s\u001b[0m 100ms/step\n",
      "\u001b[1m1/1\u001b[0m \u001b[32m━━━━━━━━━━━━━━━━━━━━\u001b[0m\u001b[37m\u001b[0m \u001b[1m0s\u001b[0m 81ms/step\n",
      "[[    0.44783]]\n",
      "Predicted: Not Bee\n",
      "True label: Bee\n",
      "\u001b[1m1/1\u001b[0m \u001b[32m━━━━━━━━━━━━━━━━━━━━\u001b[0m\u001b[37m\u001b[0m \u001b[1m0s\u001b[0m 87ms/step\n",
      "\u001b[1m1/1\u001b[0m \u001b[32m━━━━━━━━━━━━━━━━━━━━\u001b[0m\u001b[37m\u001b[0m \u001b[1m0s\u001b[0m 91ms/step\n",
      "[[    0.60799]]\n",
      "Predicted: Wasp\n",
      "True label: Wasp\n",
      "\u001b[1m1/1\u001b[0m \u001b[32m━━━━━━━━━━━━━━━━━━━━\u001b[0m\u001b[37m\u001b[0m \u001b[1m0s\u001b[0m 100ms/step\n",
      "[[  0.0005887]]\n",
      "Predicted: Not Bee\n",
      "True label: Bee\n",
      "\u001b[1m1/1\u001b[0m \u001b[32m━━━━━━━━━━━━━━━━━━━━\u001b[0m\u001b[37m\u001b[0m \u001b[1m0s\u001b[0m 100ms/step\n",
      "\u001b[1m1/1\u001b[0m \u001b[32m━━━━━━━━━━━━━━━━━━━━\u001b[0m\u001b[37m\u001b[0m \u001b[1m0s\u001b[0m 92ms/step\n",
      "[[    0.99996]]\n",
      "Predicted: Wasp\n",
      "True label: Wasp\n",
      "\u001b[1m1/1\u001b[0m \u001b[32m━━━━━━━━━━━━━━━━━━━━\u001b[0m\u001b[37m\u001b[0m \u001b[1m0s\u001b[0m 100ms/step\n",
      "[[   0.015423]]\n",
      "Predicted: Not Bee\n",
      "True label: Bee\n",
      "\u001b[1m1/1\u001b[0m \u001b[32m━━━━━━━━━━━━━━━━━━━━\u001b[0m\u001b[37m\u001b[0m \u001b[1m0s\u001b[0m 95ms/step\n",
      "\u001b[1m1/1\u001b[0m \u001b[32m━━━━━━━━━━━━━━━━━━━━\u001b[0m\u001b[37m\u001b[0m \u001b[1m0s\u001b[0m 100ms/step\n",
      "[[          1]]\n",
      "Predicted: Wasp\n",
      "True label: Wasp\n",
      "\u001b[1m1/1\u001b[0m \u001b[32m━━━━━━━━━━━━━━━━━━━━\u001b[0m\u001b[37m\u001b[0m \u001b[1m0s\u001b[0m 100ms/step\n",
      "[[    0.22349]]\n",
      "Predicted: Not Bee\n",
      "True label: Bee\n",
      "\u001b[1m1/1\u001b[0m \u001b[32m━━━━━━━━━━━━━━━━━━━━\u001b[0m\u001b[37m\u001b[0m \u001b[1m0s\u001b[0m 83ms/step\n",
      "\u001b[1m1/1\u001b[0m \u001b[32m━━━━━━━━━━━━━━━━━━━━\u001b[0m\u001b[37m\u001b[0m \u001b[1m0s\u001b[0m 92ms/step\n",
      "[[    0.99714]]\n",
      "Predicted: Wasp\n",
      "True label: Wasp\n",
      "\u001b[1m1/1\u001b[0m \u001b[32m━━━━━━━━━━━━━━━━━━━━\u001b[0m\u001b[37m\u001b[0m \u001b[1m0s\u001b[0m 88ms/step\n",
      "[[ 3.4576e-09]]\n",
      "Predicted: Not Bee\n",
      "True label: Not Bee\n",
      "\u001b[1m1/1\u001b[0m \u001b[32m━━━━━━━━━━━━━━━━━━━━\u001b[0m\u001b[37m\u001b[0m \u001b[1m0s\u001b[0m 100ms/step\n",
      "\u001b[1m1/1\u001b[0m \u001b[32m━━━━━━━━━━━━━━━━━━━━\u001b[0m\u001b[37m\u001b[0m \u001b[1m0s\u001b[0m 88ms/step\n",
      "[[  3.328e-08]]\n",
      "Predicted: Other Insects\n",
      "True label: Other Insects\n",
      "\u001b[1m1/1\u001b[0m \u001b[32m━━━━━━━━━━━━━━━━━━━━\u001b[0m\u001b[37m\u001b[0m \u001b[1m0s\u001b[0m 83ms/step\n",
      "[[   0.049992]]\n",
      "Predicted: Not Bee\n",
      "True label: Bee\n",
      "\u001b[1m1/1\u001b[0m \u001b[32m━━━━━━━━━━━━━━━━━━━━\u001b[0m\u001b[37m\u001b[0m \u001b[1m0s\u001b[0m 83ms/step\n",
      "\u001b[1m1/1\u001b[0m \u001b[32m━━━━━━━━━━━━━━━━━━━━\u001b[0m\u001b[37m\u001b[0m \u001b[1m0s\u001b[0m 91ms/step\n",
      "[[          1]]\n",
      "Predicted: Wasp\n",
      "True label: Wasp\n"
     ]
    }
   ],
   "source": [
    "for image, label in tester:\n",
    "    demo(beeOrNot, waspOrNot, image, label)"
   ]
  }
 ],
 "metadata": {
  "kernelspec": {
   "display_name": "Python 3",
   "language": "python",
   "name": "python3"
  },
  "language_info": {
   "codemirror_mode": {
    "name": "ipython",
    "version": 3
   },
   "file_extension": ".py",
   "mimetype": "text/x-python",
   "name": "python",
   "nbconvert_exporter": "python",
   "pygments_lexer": "ipython3",
   "version": "3.12.0"
  }
 },
 "nbformat": 4,
 "nbformat_minor": 2
}
