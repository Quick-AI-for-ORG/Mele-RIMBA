{
 "cells": [
  {
   "cell_type": "markdown",
   "metadata": {},
   "source": [
    "<h1 align=\"center\" style=\"font-family:'Georgia'; font-weight:bold;padding:2%; font-size:50px\">Bees, Wasps or Other Insects</h1>\n",
    "<hr>\n",
    "<h1 style=\"font-family:'Georgia'; font-weight:bold;padding:1%\">Imports</h1>\n"
   ]
  },
  {
   "cell_type": "code",
   "execution_count": 2,
   "metadata": {},
   "outputs": [],
   "source": [
    "import os\n",
    "import PIL\n",
    "import cv2\n",
    "import math\n",
    "import time\n",
    "import random\n",
    "import librosa\n",
    "import zipfile\n",
    "import numpy as np\n",
    "import pandas as pd\n",
    "import seaborn as sns\n",
    "import tensorflow as tf\n",
    "from tensorflow import keras\n",
    "from ultralytics import YOLO\n",
    "import matplotlib.pyplot as plt\n",
    "from tensorflow.keras import layers\n",
    "from tensorflow.keras.models import Sequential\n",
    "from sklearn.model_selection import train_test_split\n",
    "from sklearn.metrics import accuracy_score, precision_score, \\\n",
    "recall_score, f1_score, confusion_matrix, roc_auc_score, roc_curve, \\\n",
    "classification_report, log_loss ,precision_recall_curve, balanced_accuracy_score"
   ]
  },
  {
   "cell_type": "markdown",
   "metadata": {
    "notebookRunGroups": {
     "groupValue": "1"
    }
   },
   "source": [
    "<h1 style=\"font-family:'Georgia'; font-weight:bold;padding:1%\">Constants and Global Variables</h1>\n"
   ]
  },
  {
   "cell_type": "code",
   "execution_count": 3,
   "metadata": {},
   "outputs": [],
   "source": [
    "DATASET_PATH = '../Datasets/On Door/'\n",
    "IMAGE_SIZE = (224, 224)\n",
    "BATCH_SIZE = 32\n",
    "EPOCHS = 10\n",
    "SAMPLE_RATE = 22050"
   ]
  },
  {
   "cell_type": "code",
   "execution_count": 4,
   "metadata": {},
   "outputs": [],
   "source": [
    "models = {\n",
    "    'buzzingDetection':layers.SimpleRNN, \n",
    "    'insectDetection': None, \n",
    "    'beeOrNot': None, \n",
    "    'waspOrNot': None, \n",
    "    'decisionMaking': None\n",
    "    }\n",
    "datasets = ['BuzzOrNot', 'BeeOrNot', 'WaspOrNot']"
   ]
  },
  {
   "cell_type": "markdown",
   "metadata": {},
   "source": [
    "<h1 style=\"font-family:'Georgia'; font-weight:bold;padding:1%\">Evaluation</h1>\n"
   ]
  },
  {
   "cell_type": "code",
   "execution_count": 5,
   "metadata": {},
   "outputs": [],
   "source": [
    "def evaluateModel(yTrue, yPred, yProb=None):\n",
    "    accuracy = accuracy_score(yTrue, yPred)\n",
    "    print(f\"Accuracy: {accuracy:.4f}\")\n",
    "    \n",
    "    balancedAcc = balanced_accuracy_score(yTrue, yPred)\n",
    "    print(f\"Balanced Accuracy: {balancedAcc:.4f}\")\n",
    "    \n",
    "    precision = precision_score(yTrue, yPred)\n",
    "    print(f\"Precision: {precision:.4f}\")\n",
    "    \n",
    "    recall = recall_score(yTrue, yPred)\n",
    "    print(f\"Recall: {recall:.4f}\")\n",
    "    \n",
    "    f1 = f1_score(yTrue, yPred)\n",
    "    print(f\"F1 Score: {f1:.4f}\")\n",
    "    \n",
    "    cm = confusion_matrix(yTrue, yPred)\n",
    "    print(f\"Confusion Matrix:\\n{cm}\")\n",
    "    \n",
    "    plt.figure(figsize=(6, 4))\n",
    "    sns.heatmap(cm, annot=True, fmt='d', cmap='Blues', cbar=False)\n",
    "    plt.title('Confusion Matrix')\n",
    "    plt.xlabel('Predicted')\n",
    "    plt.ylabel('Actual')\n",
    "    plt.show()\n",
    "\n",
    "    if yProb is not None:\n",
    "        rocAuc = roc_auc_score(yTrue, yProb)\n",
    "        print(f\"ROC AUC Score: {rocAuc:.4f}\")\n",
    "        \n",
    "        fpr, tpr, _ = roc_curve(yTrue, yProb)\n",
    "        plt.figure(figsize=(6, 4))\n",
    "        plt.plot(fpr, tpr, label=f\"ROC Curve (AUC = {rocAuc:.4f})\")\n",
    "        plt.plot([0, 1], [0, 1], 'k--', label=\"Random Guess\")\n",
    "        plt.xlabel(\"False Positive Rate\")\n",
    "        plt.ylabel(\"True Positive Rate (Recall)\")\n",
    "        plt.title(\"ROC Curve\")\n",
    "        plt.legend(loc=\"lower right\")\n",
    "        plt.show()\n",
    "        \n",
    "        precisionCurve, recallCurve, _ = precision_recall_curve(yTrue, yProb)\n",
    "        plt.figure(figsize=(6, 4))\n",
    "        plt.plot(recallCurve, precisionCurve, label=\"Precision-Recall Curve\")\n",
    "        plt.xlabel(\"Recall\")\n",
    "        plt.ylabel(\"Precision\")\n",
    "        plt.title(\"Precision-Recall Curve\")\n",
    "        plt.legend(loc=\"lower left\")\n",
    "        plt.show()\n",
    "\n",
    "    if yProb is not None:\n",
    "        logloss = log_loss(yTrue, yProb)\n",
    "        print(f\"Log Loss: {logloss:.4f}\")"
   ]
  },
  {
   "cell_type": "markdown",
   "metadata": {},
   "source": [
    "<h1 align=\"center\" style=\"font-family:'Georgia'; font-weight:bold;padding:1%\">Buzz Detection (Sound Classification)</h1>\n"
   ]
  },
  {
   "cell_type": "markdown",
   "metadata": {},
   "source": [
    "---\n"
   ]
  },
  {
   "cell_type": "markdown",
   "metadata": {},
   "source": [
    "<h2 style=\"font-family:'Georgia'; font-weight:bold;padding:1%\">Audio Segmentation</h2>\n"
   ]
  },
  {
   "cell_type": "code",
   "execution_count": 6,
   "metadata": {},
   "outputs": [],
   "source": [
    "def loadAudio(sub='/train'):\n",
    "    print(f\"\\nLoading audio data from {DATASET_PATH + datasets[0] + sub}...\")\n",
    "    PATH = DATASET_PATH + datasets[0] + sub\n",
    "    segments = []\n",
    "    targets = []\n",
    "    \n",
    "    for filename in os.listdir(PATH):\n",
    "        if filename.endswith('.wav'):\n",
    "            audio = os.path.join(PATH, filename)\n",
    "            label = filename.split('.')[0].split('_')[0]\n",
    "            try:\n",
    "                audio, sampleRate = librosa.load(audio)\n",
    "                segments.append(audio)\n",
    "                targets.append('Buzzing' if filename.startswith( 'Bee') else 'No Buzzing')\n",
    "            except:\n",
    "                os.remove(audio)\n",
    "  \n",
    "    return segments, np.array(targets)       "
   ]
  },
  {
   "cell_type": "markdown",
   "metadata": {},
   "source": [
    "<h2 style=\"font-family:'Georgia'; font-weight:bold;padding:1%\">Audio Pre-Proccessing</h2>\n"
   ]
  },
  {
   "cell_type": "code",
   "execution_count": 7,
   "metadata": {},
   "outputs": [],
   "source": [
    "def extractMFCC(segments, n_mfcc=12):\n",
    "    print(f\"\\nPadded MFCC extraction for {len(segments)} segments...\")\n",
    "    mfccs = []\n",
    "    mfccs = [librosa.feature.mfcc(y=segment, sr=SAMPLE_RATE, n_mfcc=n_mfcc) for segment in segments]\n",
    "    return mfccs, max([mfcc.shape[1] for mfcc in mfccs])\n"
   ]
  },
  {
   "cell_type": "code",
   "execution_count": 8,
   "metadata": {},
   "outputs": [],
   "source": [
    "def pad(mfccs, maxLength):\n",
    "    features = [\n",
    "        np.pad(mfcc, ((0, 0), (0, maxLength - mfcc.shape[1])), mode='constant') \n",
    "        for mfcc in mfccs\n",
    "    ]\n",
    "    return np.array(features)"
   ]
  },
  {
   "cell_type": "markdown",
   "metadata": {},
   "source": [
    "<h2 style=\"font-family:'Georgia'; font-weight:bold;padding:1%\">Audio PipeLine</h2>\n"
   ]
  },
  {
   "cell_type": "code",
   "execution_count": 9,
   "metadata": {},
   "outputs": [],
   "source": [
    "def audioPipeline():\n",
    "    xTrain, yTrain = loadAudio('/train/')\n",
    "    xTest, yTest = loadAudio('/test/')\n",
    "    xTrain, maxTrainLength = extractMFCC(xTrain)\n",
    "    xTest, maxTestLength = extractMFCC(xTest)\n",
    "    xTrain = pad(xTrain, max(maxTrainLength, maxTestLength))\n",
    "    xTest = pad(xTest, max(maxTrainLength, maxTestLength))\n",
    "    yTrain = np.array([1 if label == 'Buzzing' else 0 for label in yTrain])\n",
    "    yTest = np.array([1 if label == 'Buzzing' else 0 for label in yTest])\n",
    "    xTrain, xVal, yTrain, yVal = train_test_split(xTrain, yTrain, test_size=0.2, random_state=42)\n",
    "    return xTrain, yTrain, xVal, yVal, xTest, yTest"
   ]
  },
  {
   "cell_type": "markdown",
   "metadata": {},
   "source": [
    "<h1 align=\"center\" style=\"font-family:'Georgia'; font-weight:bold;padding:1%\">Bee Detection (Image Classification)</h1>\n",
    "<hr>\n",
    "<h2 style=\"font-family:'Georgia'; font-weight:bold;padding:1%\">Loading Images</h2>\n"
   ]
  },
  {
   "cell_type": "code",
   "execution_count": 10,
   "metadata": {},
   "outputs": [],
   "source": [
    "def loadImages(index, sub, positive):\n",
    "    print(f\"\\nLoading image data from {DATASET_PATH + datasets[index] + sub}...\")\n",
    "    PATH = DATASET_PATH + datasets[index] + sub\n",
    "    subDirs = [d for d in os.listdir(PATH) if os.path.isdir(os.path.join(PATH, d))]\n",
    "    targets = []\n",
    "    images = []\n",
    "    \n",
    "    for target in subDirs:\n",
    "        targetPath = os.path.join(PATH, target)   \n",
    "        \n",
    "        for filename in os.listdir(targetPath):\n",
    "            if filename.endswith(('.jpg', '.png')): \n",
    "                image = os.path.join(targetPath, filename)\n",
    "                img = cv2.imread(image)\n",
    "                img = cv2.resize(img, IMAGE_SIZE) \n",
    "                targets.append(target)\n",
    "                images.append(img)\n",
    "    targets = np.array([1 if target == positive else 0 for target in targets])            \n",
    "    return np.array(images), np.array(targets)"
   ]
  },
  {
   "cell_type": "code",
   "execution_count": 11,
   "metadata": {},
   "outputs": [],
   "source": [
    "def extractImages(index, positive):\n",
    "    xTrain, yTrain = loadImages(index, '/train/', positive)\n",
    "    xTest, yTest = loadImages(index, '/test/', positive)\n",
    "    xTrain, xVal, yTrain, yVal = train_test_split(xTrain, yTrain, test_size=0.2, random_state=42)\n",
    "    \n",
    "    return xTrain, yTrain, xVal, yVal, xTest, yTest"
   ]
  },
  {
   "cell_type": "markdown",
   "metadata": {},
   "source": [
    "<h1 style=\"font-family:'Georgia'; font-weight:bold;padding:1%\">Model Building</h1>\n"
   ]
  },
  {
   "cell_type": "code",
   "execution_count": 12,
   "metadata": {},
   "outputs": [],
   "source": [
    "def buildForBuzz(shape, modelType):  \n",
    "        print(f\"\\nBuilding {modelType.__name__} with input shape {shape}...\")\n",
    "        model = Sequential()\n",
    "        model.add(layers.Input(shape=shape))\n",
    "        \n",
    "        model.add(modelType(128, return_sequences=True))\n",
    "        model.add(modelType(64))\n",
    "        #model.add(layers.Dense(64, activation='tanh'))\n",
    "\n",
    "        \n",
    "        model.add(layers.Dense(1, activation='sigmoid'))\n",
    "        model.compile(optimizer='adam', loss='binary_crossentropy', metrics=['accuracy'])\n",
    "        \n",
    "        return model"
   ]
  },
  {
   "cell_type": "code",
   "execution_count": 13,
   "metadata": {},
   "outputs": [],
   "source": [
    "def buildForInsects():\n",
    "    model = Sequential()\n",
    "    resnet = tf.keras.applications.ResNet50(weights='imagenet', include_top=False,\n",
    "        input_shape=(IMAGE_SIZE[0], IMAGE_SIZE[1], 3),pooling='avg')\n",
    "    \n",
    "    for layer in resnet.layers:\n",
    "        layer.trainable=False\n",
    "        \n",
    "    model.add(resnet)\n",
    "    model.add(layers.Flatten())\n",
    "    model.add(layers.Dense(512, activation='relu'))\n",
    "    model.add(layers.Dense(1, activation='sigmoid'))\n",
    "    \n",
    "    model.compile(optimizer='adam', loss='binary_crossentropy', metrics=['accuracy'])\n",
    "    return model"
   ]
  },
  {
   "cell_type": "code",
   "execution_count": 14,
   "metadata": {},
   "outputs": [],
   "source": [
    "def train(model, xTrain, yTrain, xVal, yVal):\n",
    "    print(f\"\\nTraining {model.layers[0].__class__.__name__} model...\")\n",
    "    model.fit(xTrain, yTrain, validation_data=(xVal, yVal), epochs=EPOCHS, batch_size=BATCH_SIZE, verbose=True)\n",
    "    predictions = model.predict(xVal)\n",
    "    predictions = np.array([1 if pred > 0.5 else 0 for pred in predictions])\n",
    "    evaluateModel(yVal, predictions)\n",
    "    return model"
   ]
  },
  {
   "cell_type": "code",
   "execution_count": 15,
   "metadata": {},
   "outputs": [],
   "source": [
    "def test(model, xTest, yTest):\n",
    "    predictions = model.predict(xTest)\n",
    "    predictions = np.array([1 if pred > 0.5 else 0 for pred in predictions])\n",
    "    evaluateModel(yTest, predictions)"
   ]
  },
  {
   "cell_type": "markdown",
   "metadata": {},
   "source": [
    "<h1 align=\"center\" style=\"font-family:'Georgia'; font-weight:bold;padding:2%; font-size:50px\">Main</h1>\n"
   ]
  },
  {
   "cell_type": "code",
   "execution_count": 16,
   "metadata": {},
   "outputs": [
    {
     "name": "stdout",
     "output_type": "stream",
     "text": [
      "\n",
      "Loading audio data from ../Datasets/On Door/BuzzOrNot/train/...\n",
      "\n",
      "Loading audio data from ../Datasets/On Door/BuzzOrNot/test/...\n",
      "\n",
      "Padded MFCC extraction for 1983 segments...\n",
      "\n",
      "Padded MFCC extraction for 852 segments...\n",
      "\n",
      "Building LSTM with input shape (12, 432)...\n",
      "\n",
      "Training LSTM model...\n",
      "Epoch 1/10\n",
      "\u001b[1m50/50\u001b[0m \u001b[32m━━━━━━━━━━━━━━━━━━━━\u001b[0m\u001b[37m\u001b[0m \u001b[1m4s\u001b[0m 19ms/step - accuracy: 0.7941 - loss: 0.4363 - val_accuracy: 0.9421 - val_loss: 0.1773\n",
      "Epoch 2/10\n",
      "\u001b[1m50/50\u001b[0m \u001b[32m━━━━━━━━━━━━━━━━━━━━\u001b[0m\u001b[37m\u001b[0m \u001b[1m1s\u001b[0m 11ms/step - accuracy: 0.9633 - loss: 0.1331 - val_accuracy: 0.9547 - val_loss: 0.1349\n",
      "Epoch 3/10\n",
      "\u001b[1m50/50\u001b[0m \u001b[32m━━━━━━━━━━━━━━━━━━━━\u001b[0m\u001b[37m\u001b[0m \u001b[1m1s\u001b[0m 12ms/step - accuracy: 0.9792 - loss: 0.0750 - val_accuracy: 0.9547 - val_loss: 0.1255\n",
      "Epoch 4/10\n",
      "\u001b[1m50/50\u001b[0m \u001b[32m━━━━━━━━━━━━━━━━━━━━\u001b[0m\u001b[37m\u001b[0m \u001b[1m1s\u001b[0m 12ms/step - accuracy: 0.9865 - loss: 0.0468 - val_accuracy: 0.9471 - val_loss: 0.1523\n",
      "Epoch 5/10\n",
      "\u001b[1m50/50\u001b[0m \u001b[32m━━━━━━━━━━━━━━━━━━━━\u001b[0m\u001b[37m\u001b[0m \u001b[1m1s\u001b[0m 12ms/step - accuracy: 0.9779 - loss: 0.0687 - val_accuracy: 0.9521 - val_loss: 0.1424\n",
      "Epoch 6/10\n",
      "\u001b[1m50/50\u001b[0m \u001b[32m━━━━━━━━━━━━━━━━━━━━\u001b[0m\u001b[37m\u001b[0m \u001b[1m1s\u001b[0m 12ms/step - accuracy: 0.9892 - loss: 0.0314 - val_accuracy: 0.9597 - val_loss: 0.1540\n",
      "Epoch 7/10\n",
      "\u001b[1m50/50\u001b[0m \u001b[32m━━━━━━━━━━━━━━━━━━━━\u001b[0m\u001b[37m\u001b[0m \u001b[1m1s\u001b[0m 12ms/step - accuracy: 0.9990 - loss: 0.0097 - val_accuracy: 0.9597 - val_loss: 0.1672\n",
      "Epoch 8/10\n",
      "\u001b[1m50/50\u001b[0m \u001b[32m━━━━━━━━━━━━━━━━━━━━\u001b[0m\u001b[37m\u001b[0m \u001b[1m1s\u001b[0m 12ms/step - accuracy: 0.9989 - loss: 0.0056 - val_accuracy: 0.9496 - val_loss: 0.1622\n",
      "Epoch 9/10\n",
      "\u001b[1m50/50\u001b[0m \u001b[32m━━━━━━━━━━━━━━━━━━━━\u001b[0m\u001b[37m\u001b[0m \u001b[1m1s\u001b[0m 12ms/step - accuracy: 0.9999 - loss: 0.0029 - val_accuracy: 0.9471 - val_loss: 0.1598\n",
      "Epoch 10/10\n",
      "\u001b[1m50/50\u001b[0m \u001b[32m━━━━━━━━━━━━━━━━━━━━\u001b[0m\u001b[37m\u001b[0m \u001b[1m1s\u001b[0m 12ms/step - accuracy: 0.9993 - loss: 0.0032 - val_accuracy: 0.9521 - val_loss: 0.1430\n",
      "\u001b[1m13/13\u001b[0m \u001b[32m━━━━━━━━━━━━━━━━━━━━\u001b[0m\u001b[37m\u001b[0m \u001b[1m1s\u001b[0m 24ms/step\n",
      "Accuracy: 0.9521\n",
      "Balanced Accuracy: 0.9523\n",
      "Precision: 0.9444\n",
      "Recall: 0.9590\n",
      "F1 Score: 0.9517\n",
      "Confusion Matrix:\n",
      "[[191  11]\n",
      " [  8 187]]\n"
     ]
    },
    {
     "data": {
      "image/png": "[encoded data removed]",
      "text/plain": [
       "<Figure size 600x400 with 1 Axes>"
      ]
     },
     "metadata": {},
     "output_type": "display_data"
    },
    {
     "name": "stdout",
     "output_type": "stream",
     "text": [
      "\u001b[1m27/27\u001b[0m \u001b[32m━━━━━━━━━━━━━━━━━━━━\u001b[0m\u001b[37m\u001b[0m \u001b[1m0s\u001b[0m 5ms/step\n",
      "Accuracy: 0.9484\n",
      "Balanced Accuracy: 0.9484\n",
      "Precision: 0.9526\n",
      "Recall: 0.9437\n",
      "F1 Score: 0.9481\n",
      "Confusion Matrix:\n",
      "[[406  20]\n",
      " [ 24 402]]\n"
     ]
    },
    {
     "data": {
      "image/png": "[encoded data removed]",
      "text/plain": [
       "<Figure size 600x400 with 1 Axes>"
      ]
     },
     "metadata": {},
     "output_type": "display_data"
    },
    {
     "name": "stdout",
     "output_type": "stream",
     "text": [
      "\n",
      "Building GRU with input shape (12, 432)...\n",
      "\n",
      "Training GRU model...\n",
      "Epoch 1/10\n",
      "\u001b[1m50/50\u001b[0m \u001b[32m━━━━━━━━━━━━━━━━━━━━\u001b[0m\u001b[37m\u001b[0m \u001b[1m4s\u001b[0m 20ms/step - accuracy: 0.8049 - loss: 0.4269 - val_accuracy: 0.9370 - val_loss: 0.2068\n",
      "Epoch 2/10\n",
      "\u001b[1m50/50\u001b[0m \u001b[32m━━━━━━━━━━━━━━━━━━━━\u001b[0m\u001b[37m\u001b[0m \u001b[1m1s\u001b[0m 13ms/step - accuracy: 0.9536 - loss: 0.1499 - val_accuracy: 0.8992 - val_loss: 0.2340\n",
      "Epoch 3/10\n",
      "\u001b[1m50/50\u001b[0m \u001b[32m━━━━━━━━━━━━━━━━━━━━\u001b[0m\u001b[37m\u001b[0m \u001b[1m1s\u001b[0m 11ms/step - accuracy: 0.9738 - loss: 0.0869 - val_accuracy: 0.9471 - val_loss: 0.1799\n",
      "Epoch 4/10\n",
      "\u001b[1m50/50\u001b[0m \u001b[32m━━━━━━━━━━━━━━━━━━━━\u001b[0m\u001b[37m\u001b[0m \u001b[1m1s\u001b[0m 13ms/step - accuracy: 0.9936 - loss: 0.0324 - val_accuracy: 0.9320 - val_loss: 0.2034\n",
      "Epoch 5/10\n",
      "\u001b[1m50/50\u001b[0m \u001b[32m━━━━━━━━━━━━━━━━━━━━\u001b[0m\u001b[37m\u001b[0m \u001b[1m1s\u001b[0m 12ms/step - accuracy: 0.9925 - loss: 0.0299 - val_accuracy: 0.9169 - val_loss: 0.2341\n",
      "Epoch 6/10\n",
      "\u001b[1m50/50\u001b[0m \u001b[32m━━━━━━━━━━━━━━━━━━━━\u001b[0m\u001b[37m\u001b[0m \u001b[1m1s\u001b[0m 12ms/step - accuracy: 0.9974 - loss: 0.0128 - val_accuracy: 0.9421 - val_loss: 0.2134\n",
      "Epoch 7/10\n",
      "\u001b[1m50/50\u001b[0m \u001b[32m━━━━━━━━━━━━━━━━━━━━\u001b[0m\u001b[37m\u001b[0m \u001b[1m1s\u001b[0m 12ms/step - accuracy: 0.9947 - loss: 0.0172 - val_accuracy: 0.9345 - val_loss: 0.2350\n",
      "Epoch 8/10\n",
      "\u001b[1m50/50\u001b[0m \u001b[32m━━━━━━━━━━━━━━━━━━━━\u001b[0m\u001b[37m\u001b[0m \u001b[1m1s\u001b[0m 13ms/step - accuracy: 0.9908 - loss: 0.0285 - val_accuracy: 0.9270 - val_loss: 0.2779\n",
      "Epoch 9/10\n",
      "\u001b[1m50/50\u001b[0m \u001b[32m━━━━━━━━━━━━━━━━━━━━\u001b[0m\u001b[37m\u001b[0m \u001b[1m1s\u001b[0m 12ms/step - accuracy: 0.9914 - loss: 0.0382 - val_accuracy: 0.9144 - val_loss: 0.2547\n",
      "Epoch 10/10\n",
      "\u001b[1m50/50\u001b[0m \u001b[32m━━━━━━━━━━━━━━━━━━━━\u001b[0m\u001b[37m\u001b[0m \u001b[1m1s\u001b[0m 12ms/step - accuracy: 0.9905 - loss: 0.0318 - val_accuracy: 0.9219 - val_loss: 0.2501\n",
      "\u001b[1m13/13\u001b[0m \u001b[32m━━━━━━━━━━━━━━━━━━━━\u001b[0m\u001b[37m\u001b[0m \u001b[1m1s\u001b[0m 27ms/step\n",
      "Accuracy: 0.9219\n",
      "Balanced Accuracy: 0.9217\n",
      "Precision: 0.9316\n",
      "Recall: 0.9077\n",
      "F1 Score: 0.9195\n",
      "Confusion Matrix:\n",
      "[[189  13]\n",
      " [ 18 177]]\n"
     ]
    },
    {
     "data": {
      "image/png": "[encoded data removed]",
      "text/plain": [
       "<Figure size 600x400 with 1 Axes>"
      ]
     },
     "metadata": {},
     "output_type": "display_data"
    },
    {
     "name": "stdout",
     "output_type": "stream",
     "text": [
      "\u001b[1m27/27\u001b[0m \u001b[32m━━━━━━━━━━━━━━━━━━━━\u001b[0m\u001b[37m\u001b[0m \u001b[1m0s\u001b[0m 6ms/step\n",
      "Accuracy: 0.8709\n",
      "Balanced Accuracy: 0.8709\n",
      "Precision: 0.8527\n",
      "Recall: 0.8967\n",
      "F1 Score: 0.8741\n",
      "Confusion Matrix:\n",
      "[[360  66]\n",
      " [ 44 382]]\n"
     ]
    },
    {
     "data": {
      "image/png": "[encoded data removed]",
      "text/plain": [
       "<Figure size 600x400 with 1 Axes>"
      ]
     },
     "metadata": {},
     "output_type": "display_data"
    },
    {
     "name": "stdout",
     "output_type": "stream",
     "text": [
      "\n",
      "Building SimpleRNN with input shape (12, 432)...\n",
      "\n",
      "Training SimpleRNN model...\n",
      "Epoch 1/10\n",
      "\u001b[1m50/50\u001b[0m \u001b[32m━━━━━━━━━━━━━━━━━━━━\u001b[0m\u001b[37m\u001b[0m \u001b[1m3s\u001b[0m 12ms/step - accuracy: 0.7247 - loss: 0.5567 - val_accuracy: 0.9295 - val_loss: 0.2605\n",
      "Epoch 2/10\n",
      "\u001b[1m50/50\u001b[0m \u001b[32m━━━━━━━━━━━━━━━━━━━━\u001b[0m\u001b[37m\u001b[0m \u001b[1m0s\u001b[0m 6ms/step - accuracy: 0.9601 - loss: 0.1731 - val_accuracy: 0.9471 - val_loss: 0.1631\n",
      "Epoch 3/10\n",
      "\u001b[1m50/50\u001b[0m \u001b[32m━━━━━━━━━━━━━━━━━━━━\u001b[0m\u001b[37m\u001b[0m \u001b[1m0s\u001b[0m 6ms/step - accuracy: 0.9863 - loss: 0.0888 - val_accuracy: 0.9572 - val_loss: 0.1474\n",
      "Epoch 4/10\n",
      "\u001b[1m50/50\u001b[0m \u001b[32m━━━━━━━━━━━━━━━━━━━━\u001b[0m\u001b[37m\u001b[0m \u001b[1m0s\u001b[0m 5ms/step - accuracy: 0.9942 - loss: 0.0375 - val_accuracy: 0.9547 - val_loss: 0.1533\n",
      "Epoch 5/10\n",
      "\u001b[1m50/50\u001b[0m \u001b[32m━━━━━━━━━━━━━━━━━━━━\u001b[0m\u001b[37m\u001b[0m \u001b[1m0s\u001b[0m 5ms/step - accuracy: 0.9965 - loss: 0.0262 - val_accuracy: 0.9547 - val_loss: 0.1464\n",
      "Epoch 6/10\n",
      "\u001b[1m50/50\u001b[0m \u001b[32m━━━━━━━━━━━━━━━━━━━━\u001b[0m\u001b[37m\u001b[0m \u001b[1m0s\u001b[0m 5ms/step - accuracy: 0.9977 - loss: 0.0137 - val_accuracy: 0.9622 - val_loss: 0.1502\n",
      "Epoch 7/10\n",
      "\u001b[1m50/50\u001b[0m \u001b[32m━━━━━━━━━━━━━━━━━━━━\u001b[0m\u001b[37m\u001b[0m \u001b[1m0s\u001b[0m 5ms/step - accuracy: 0.9998 - loss: 0.0044 - val_accuracy: 0.9572 - val_loss: 0.1482\n",
      "Epoch 8/10\n",
      "\u001b[1m50/50\u001b[0m \u001b[32m━━━━━━━━━━━━━━━━━━━━\u001b[0m\u001b[37m\u001b[0m \u001b[1m0s\u001b[0m 6ms/step - accuracy: 1.0000 - loss: 0.0036 - val_accuracy: 0.9597 - val_loss: 0.1480\n",
      "Epoch 9/10\n",
      "\u001b[1m50/50\u001b[0m \u001b[32m━━━━━━━━━━━━━━━━━━━━\u001b[0m\u001b[37m\u001b[0m \u001b[1m0s\u001b[0m 5ms/step - accuracy: 1.0000 - loss: 0.0020 - val_accuracy: 0.9597 - val_loss: 0.1483\n",
      "Epoch 10/10\n",
      "\u001b[1m50/50\u001b[0m \u001b[32m━━━━━━━━━━━━━━━━━━━━\u001b[0m\u001b[37m\u001b[0m \u001b[1m0s\u001b[0m 6ms/step - accuracy: 1.0000 - loss: 0.0015 - val_accuracy: 0.9572 - val_loss: 0.1515\n",
      "\u001b[1m13/13\u001b[0m \u001b[32m━━━━━━━━━━━━━━━━━━━━\u001b[0m\u001b[37m\u001b[0m \u001b[1m0s\u001b[0m 18ms/step\n",
      "Accuracy: 0.9572\n",
      "Balanced Accuracy: 0.9571\n",
      "Precision: 0.9588\n",
      "Recall: 0.9538\n",
      "F1 Score: 0.9563\n",
      "Confusion Matrix:\n",
      "[[194   8]\n",
      " [  9 186]]\n"
     ]
    },
    {
     "data": {
      "image/png": "[encoded data removed]",
      "text/plain": [
       "<Figure size 600x400 with 1 Axes>"
      ]
     },
     "metadata": {},
     "output_type": "display_data"
    },
    {
     "name": "stdout",
     "output_type": "stream",
     "text": [
      "\u001b[1m27/27\u001b[0m \u001b[32m━━━━━━━━━━━━━━━━━━━━\u001b[0m\u001b[37m\u001b[0m \u001b[1m0s\u001b[0m 2ms/step\n",
      "Accuracy: 0.9695\n",
      "Balanced Accuracy: 0.9695\n",
      "Precision: 0.9717\n",
      "Recall: 0.9671\n",
      "F1 Score: 0.9694\n",
      "Confusion Matrix:\n",
      "[[414  12]\n",
      " [ 14 412]]\n"
     ]
    },
    {
     "data": {
      "image/png": "[encoded data removed]",
      "text/plain": [
       "<Figure size 600x400 with 1 Axes>"
      ]
     },
     "metadata": {},
     "output_type": "display_data"
    }
   ],
   "source": [
    "def compareAudioModels(): \n",
    "    xTrain, yTrain, xVal, yVal, xTest, yTest = audioPipeline()\n",
    "    models = [layers.LSTM, layers.GRU, layers.SimpleRNN]\n",
    "    bestModel = None\n",
    "    \n",
    "    for model in models:\n",
    "        model = buildForBuzz(xTrain.shape[1:], model)\n",
    "        model = train(model, xTrain, yTrain, xVal, yVal)\n",
    "        test(model, xTest, yTest)\n",
    "        \n",
    "        if model.layers[0].__class__.__name__ == 'SimpleRNN': \n",
    "            bestModel = model\n",
    "            \n",
    "    return bestModel\n",
    "        \n",
    "buzzOrNot = compareAudioModels()"
   ]
  },
  {
   "cell_type": "code",
   "execution_count": 22,
   "metadata": {},
   "outputs": [],
   "source": [
    "def classifyInsects(index=1, positive=\"Bee\"):\n",
    "    xTrain, yTrain, xVal, yVal, xTest, yTest = extractImages(index, positive)\n",
    "    model = buildForInsects();\n",
    "    model = train(model, xTrain, yTrain, xVal, yVal)\n",
    "    test(model, xTest, yTest)\n",
    "    return model"
   ]
  },
  {
   "cell_type": "code",
   "execution_count": 18,
   "metadata": {},
   "outputs": [],
   "source": [
    "def show(model, image, label, positive, negative):\n",
    "    reshapedImg = np.expand_dims(image, axis=0)\n",
    "    prediction = model.predict(reshapedImg)\n",
    "    print(prediction)\n",
    "    print('Predicted:', positive if prediction[0][0] > 0.5 else negative)\n",
    "    print('True label:', positive if label == 1 else negative)\n",
    "    cv2.imshow('Test Image', image)\n",
    "    cv2.waitKey(0)\n",
    "    cv2.destroyAllWindows()\n",
    "    \n",
    "def demo(beeModel, waspModel, image, label):\n",
    "    show(beeModel, image, label, \"Bee\", \"Not Bee\") \n",
    "    reshapedImg = np.expand_dims(image, axis=0)\n",
    "    prediction = beeModel.predict(reshapedImg)\n",
    "    \n",
    "    if prediction[0][0] <= 0.5: \n",
    "        show(waspModel, image, label, \"Wasp\", \"Other Insects\")"
   ]
  },
  {
   "cell_type": "code",
   "execution_count": 23,
   "metadata": {},
   "outputs": [
    {
     "name": "stdout",
     "output_type": "stream",
     "text": [
      "\n",
      "Loading image data from ../Datasets/On Door/BeeOrNot/test/...\n",
      "\n",
      "Loading image data from ../Datasets/On Door/WaspOrNot/test/...\n"
     ]
    }
   ],
   "source": [
    "numSamples = 10\n",
    "tester = []\n",
    "\n",
    "# beeOrNot = classifyInsects(1, \"Bee\")\n",
    "# waspOrNot = classifyInsects(2, \"Wasp\")\n",
    "\n",
    "    \n",
    "images, labels = loadImages(1, '/test/', \"Bee\")\n",
    "sample = random.sample(range(len(images)), numSamples)\n",
    "for index in sample:\n",
    "    tester.append((images[index], labels[index]))\n",
    "    \n",
    "images, labels = loadImages(2, '/test/', \"Wasp\")\n",
    "sample = random.sample(range(len(images)), numSamples)\n",
    "for index in sample:\n",
    "    tester.append((images[index], labels[index]))\n",
    "\n"
   ]
  },
  {
   "cell_type": "markdown",
   "metadata": {},
   "source": [
    "<h1 style=\"font-family:'Georgia'; font-weight:bold;padding:1%\">Models Saving and Loading</h1>"
   ]
  },
  {
   "cell_type": "code",
   "execution_count": 24,
   "metadata": {},
   "outputs": [
    {
     "name": "stdout",
     "output_type": "stream",
     "text": [
      "Extracting Models...\n",
      "Loading Model: Buzz or Not...\n",
      "Loading Model: Bee or Not...\n",
      "Loading Model: Wasp or Not...\n",
      "Removing Old Files...\n"
     ]
    }
   ],
   "source": [
    "def save():\n",
    "    print(\"Saving Models...\")\n",
    "    \n",
    "    try:\n",
    "        remove()\n",
    "        time.sleep(1)\n",
    "    except:\n",
    "        pass\n",
    "    \n",
    "    buzzOrNot.save('buzzOrNot.keras')\n",
    "    beeOrNot.save('beeOrNot.keras')\n",
    "    waspOrNot.save('waspOrNot.keras')\n",
    "    zip()\n",
    " \n",
    "def load():\n",
    "    extract()\n",
    "    time.sleep(1)\n",
    "    print(\"Loading Model: Buzz or Not...\")\n",
    "    buzzOrNot = keras.models.load_model('buzzOrNot.keras', compile=False)\n",
    "    buzzOrNot.compile(optimizer='adam', loss='binary_crossentropy', metrics=['accuracy'])\n",
    "    \n",
    "    print(\"Loading Model: Bee or Not...\")\n",
    "    beeOrNot = keras.models.load_model('beeOrNot.keras', compile=False)\n",
    "    beeOrNot.compile(optimizer='adam', loss='binary_crossentropy', metrics=['accuracy'])\n",
    "    \n",
    "    print(\"Loading Model: Wasp or Not...\")\n",
    "    waspOrNot = keras.models.load_model('waspOrNot.keras', compile=False)\n",
    "    waspOrNot.compile(optimizer='adam', loss='binary_crossentropy', metrics=['accuracy'])\n",
    "    \n",
    "    time.sleep(1)\n",
    "    remove()\n",
    "    return buzzOrNot, beeOrNot, waspOrNot\n",
    "\n",
    "def remove():\n",
    "    print(\"Removing Old Files...\")\n",
    "    \n",
    "    os.remove('buzzOrNot.keras')\n",
    "    os.remove('beeOrNot.keras')\n",
    "    os.remove('waspOrNot.keras')\n",
    "        \n",
    "\n",
    "def zip():\n",
    "    print(\"Ziping Models...\")\n",
    "    \n",
    "    with zipfile.ZipFile('classifiers.zip', 'w') as zipf:\n",
    "        zipf.write('buzzOrNot.keras')\n",
    "        zipf.write('beeOrNot.keras')\n",
    "        zipf.write('waspOrNot.keras')\n",
    "        zipf.close()\n",
    "        \n",
    "    remove()\n",
    "    return 'models.zip'\n",
    "\n",
    "\n",
    "def extract():\n",
    "    print(\"Extracting Models...\")\n",
    "    with zipfile.ZipFile('classifiers.zip', 'r') as zipf:\n",
    "        zipf.extractall()\n",
    "\n",
    "# save()\n",
    "buzz, bee, wasp = load()"
   ]
  },
  {
   "cell_type": "code",
   "execution_count": 25,
   "metadata": {},
   "outputs": [
    {
     "name": "stdout",
     "output_type": "stream",
     "text": [
      "\u001b[1m1/1\u001b[0m \u001b[32m━━━━━━━━━━━━━━━━━━━━\u001b[0m\u001b[37m\u001b[0m \u001b[1m2s\u001b[0m 2s/step\n",
      "[[    0.97144]]\n",
      "Predicted: Bee\n",
      "True label: Bee\n",
      "\u001b[1m1/1\u001b[0m \u001b[32m━━━━━━━━━━━━━━━━━━━━\u001b[0m\u001b[37m\u001b[0m \u001b[1m0s\u001b[0m 87ms/step\n",
      "\u001b[1m1/1\u001b[0m \u001b[32m━━━━━━━━━━━━━━━━━━━━\u001b[0m\u001b[37m\u001b[0m \u001b[1m0s\u001b[0m 76ms/step\n",
      "[[    0.98888]]\n",
      "Predicted: Bee\n",
      "True label: Bee\n",
      "\u001b[1m1/1\u001b[0m \u001b[32m━━━━━━━━━━━━━━━━━━━━\u001b[0m\u001b[37m\u001b[0m \u001b[1m0s\u001b[0m 85ms/step\n",
      "\u001b[1m1/1\u001b[0m \u001b[32m━━━━━━━━━━━━━━━━━━━━\u001b[0m\u001b[37m\u001b[0m \u001b[1m0s\u001b[0m 66ms/step\n",
      "[[    0.97146]]\n",
      "Predicted: Bee\n",
      "True label: Bee\n",
      "\u001b[1m1/1\u001b[0m \u001b[32m━━━━━━━━━━━━━━━━━━━━\u001b[0m\u001b[37m\u001b[0m \u001b[1m0s\u001b[0m 84ms/step\n",
      "\u001b[1m1/1\u001b[0m \u001b[32m━━━━━━━━━━━━━━━━━━━━\u001b[0m\u001b[37m\u001b[0m \u001b[1m0s\u001b[0m 78ms/step\n",
      "[[    0.15277]]\n",
      "Predicted: Not Bee\n",
      "True label: Not Bee\n",
      "\u001b[1m1/1\u001b[0m \u001b[32m━━━━━━━━━━━━━━━━━━━━\u001b[0m\u001b[37m\u001b[0m \u001b[1m0s\u001b[0m 82ms/step\n",
      "\u001b[1m1/1\u001b[0m \u001b[32m━━━━━━━━━━━━━━━━━━━━\u001b[0m\u001b[37m\u001b[0m \u001b[1m2s\u001b[0m 2s/step\n",
      "[[    0.20165]]\n",
      "Predicted: Other Insects\n",
      "True label: Other Insects\n",
      "\u001b[1m1/1\u001b[0m \u001b[32m━━━━━━━━━━━━━━━━━━━━\u001b[0m\u001b[37m\u001b[0m \u001b[1m0s\u001b[0m 86ms/step\n",
      "[[    0.99997]]\n",
      "Predicted: Bee\n",
      "True label: Bee\n",
      "\u001b[1m1/1\u001b[0m \u001b[32m━━━━━━━━━━━━━━━━━━━━\u001b[0m\u001b[37m\u001b[0m \u001b[1m0s\u001b[0m 81ms/step\n",
      "\u001b[1m1/1\u001b[0m \u001b[32m━━━━━━━━━━━━━━━━━━━━\u001b[0m\u001b[37m\u001b[0m \u001b[1m0s\u001b[0m 94ms/step\n",
      "[[ 4.1587e-08]]\n",
      "Predicted: Not Bee\n",
      "True label: Not Bee\n",
      "\u001b[1m1/1\u001b[0m \u001b[32m━━━━━━━━━━━━━━━━━━━━\u001b[0m\u001b[37m\u001b[0m \u001b[1m0s\u001b[0m 85ms/step\n",
      "\u001b[1m1/1\u001b[0m \u001b[32m━━━━━━━━━━━━━━━━━━━━\u001b[0m\u001b[37m\u001b[0m \u001b[1m0s\u001b[0m 68ms/step\n",
      "[[ 1.9539e-06]]\n",
      "Predicted: Other Insects\n",
      "True label: Other Insects\n",
      "\u001b[1m1/1\u001b[0m \u001b[32m━━━━━━━━━━━━━━━━━━━━\u001b[0m\u001b[37m\u001b[0m \u001b[1m0s\u001b[0m 94ms/step\n",
      "[[ 1.6792e-08]]\n",
      "Predicted: Not Bee\n",
      "True label: Not Bee\n",
      "\u001b[1m1/1\u001b[0m \u001b[32m━━━━━━━━━━━━━━━━━━━━\u001b[0m\u001b[37m\u001b[0m \u001b[1m0s\u001b[0m 101ms/step\n",
      "\u001b[1m1/1\u001b[0m \u001b[32m━━━━━━━━━━━━━━━━━━━━\u001b[0m\u001b[37m\u001b[0m \u001b[1m0s\u001b[0m 81ms/step\n",
      "[[ 2.5155e-08]]\n",
      "Predicted: Other Insects\n",
      "True label: Other Insects\n",
      "\u001b[1m1/1\u001b[0m \u001b[32m━━━━━━━━━━━━━━━━━━━━\u001b[0m\u001b[37m\u001b[0m \u001b[1m0s\u001b[0m 83ms/step\n",
      "[[   0.065124]]\n",
      "Predicted: Not Bee\n",
      "True label: Bee\n",
      "\u001b[1m1/1\u001b[0m \u001b[32m━━━━━━━━━━━━━━━━━━━━\u001b[0m\u001b[37m\u001b[0m \u001b[1m0s\u001b[0m 72ms/step\n",
      "\u001b[1m1/1\u001b[0m \u001b[32m━━━━━━━━━━━━━━━━━━━━\u001b[0m\u001b[37m\u001b[0m \u001b[1m0s\u001b[0m 76ms/step\n",
      "[[    0.95057]]\n",
      "Predicted: Wasp\n",
      "True label: Wasp\n",
      "\u001b[1m1/1\u001b[0m \u001b[32m━━━━━━━━━━━━━━━━━━━━\u001b[0m\u001b[37m\u001b[0m \u001b[1m0s\u001b[0m 84ms/step\n",
      "[[          1]]\n",
      "Predicted: Bee\n",
      "True label: Bee\n",
      "\u001b[1m1/1\u001b[0m \u001b[32m━━━━━━━━━━━━━━━━━━━━\u001b[0m\u001b[37m\u001b[0m \u001b[1m0s\u001b[0m 84ms/step\n",
      "\u001b[1m1/1\u001b[0m \u001b[32m━━━━━━━━━━━━━━━━━━━━\u001b[0m\u001b[37m\u001b[0m \u001b[1m0s\u001b[0m 80ms/step\n",
      "[[          1]]\n",
      "Predicted: Bee\n",
      "True label: Bee\n",
      "\u001b[1m1/1\u001b[0m \u001b[32m━━━━━━━━━━━━━━━━━━━━\u001b[0m\u001b[37m\u001b[0m \u001b[1m0s\u001b[0m 80ms/step\n",
      "\u001b[1m1/1\u001b[0m \u001b[32m━━━━━━━━━━━━━━━━━━━━\u001b[0m\u001b[37m\u001b[0m \u001b[1m0s\u001b[0m 76ms/step\n",
      "[[    0.44126]]\n",
      "Predicted: Not Bee\n",
      "True label: Bee\n",
      "\u001b[1m1/1\u001b[0m \u001b[32m━━━━━━━━━━━━━━━━━━━━\u001b[0m\u001b[37m\u001b[0m \u001b[1m0s\u001b[0m 97ms/step\n",
      "\u001b[1m1/1\u001b[0m \u001b[32m━━━━━━━━━━━━━━━━━━━━\u001b[0m\u001b[37m\u001b[0m \u001b[1m0s\u001b[0m 75ms/step\n",
      "[[    0.99973]]\n",
      "Predicted: Wasp\n",
      "True label: Wasp\n",
      "\u001b[1m1/1\u001b[0m \u001b[32m━━━━━━━━━━━━━━━━━━━━\u001b[0m\u001b[37m\u001b[0m \u001b[1m0s\u001b[0m 84ms/step\n",
      "[[    0.16236]]\n",
      "Predicted: Not Bee\n",
      "True label: Bee\n",
      "\u001b[1m1/1\u001b[0m \u001b[32m━━━━━━━━━━━━━━━━━━━━\u001b[0m\u001b[37m\u001b[0m \u001b[1m0s\u001b[0m 84ms/step\n",
      "\u001b[1m1/1\u001b[0m \u001b[32m━━━━━━━━━━━━━━━━━━━━\u001b[0m\u001b[37m\u001b[0m \u001b[1m0s\u001b[0m 77ms/step\n",
      "[[    0.19034]]\n",
      "Predicted: Other Insects\n",
      "True label: Wasp\n",
      "\u001b[1m1/1\u001b[0m \u001b[32m━━━━━━━━━━━━━━━━━━━━\u001b[0m\u001b[37m\u001b[0m \u001b[1m0s\u001b[0m 85ms/step\n",
      "[[  0.0047105]]\n",
      "Predicted: Not Bee\n",
      "True label: Bee\n",
      "\u001b[1m1/1\u001b[0m \u001b[32m━━━━━━━━━━━━━━━━━━━━\u001b[0m\u001b[37m\u001b[0m \u001b[1m0s\u001b[0m 83ms/step\n",
      "\u001b[1m1/1\u001b[0m \u001b[32m━━━━━━━━━━━━━━━━━━━━\u001b[0m\u001b[37m\u001b[0m \u001b[1m0s\u001b[0m 76ms/step\n",
      "[[    0.99978]]\n",
      "Predicted: Wasp\n",
      "True label: Wasp\n",
      "\u001b[1m1/1\u001b[0m \u001b[32m━━━━━━━━━━━━━━━━━━━━\u001b[0m\u001b[37m\u001b[0m \u001b[1m0s\u001b[0m 87ms/step\n",
      "[[ 0.00013816]]\n",
      "Predicted: Not Bee\n",
      "True label: Not Bee\n",
      "\u001b[1m1/1\u001b[0m \u001b[32m━━━━━━━━━━━━━━━━━━━━\u001b[0m\u001b[37m\u001b[0m \u001b[1m0s\u001b[0m 82ms/step\n",
      "\u001b[1m1/1\u001b[0m \u001b[32m━━━━━━━━━━━━━━━━━━━━\u001b[0m\u001b[37m\u001b[0m \u001b[1m0s\u001b[0m 75ms/step\n",
      "[[   0.078528]]\n",
      "Predicted: Other Insects\n",
      "True label: Other Insects\n",
      "\u001b[1m1/1\u001b[0m \u001b[32m━━━━━━━━━━━━━━━━━━━━\u001b[0m\u001b[37m\u001b[0m \u001b[1m0s\u001b[0m 86ms/step\n",
      "[[     0.9998]]\n",
      "Predicted: Bee\n",
      "True label: Bee\n",
      "\u001b[1m1/1\u001b[0m \u001b[32m━━━━━━━━━━━━━━━━━━━━\u001b[0m\u001b[37m\u001b[0m \u001b[1m0s\u001b[0m 81ms/step\n",
      "\u001b[1m1/1\u001b[0m \u001b[32m━━━━━━━━━━━━━━━━━━━━\u001b[0m\u001b[37m\u001b[0m \u001b[1m0s\u001b[0m 66ms/step\n",
      "[[    0.14907]]\n",
      "Predicted: Not Bee\n",
      "True label: Bee\n",
      "\u001b[1m1/1\u001b[0m \u001b[32m━━━━━━━━━━━━━━━━━━━━\u001b[0m\u001b[37m\u001b[0m \u001b[1m0s\u001b[0m 83ms/step\n",
      "\u001b[1m1/1\u001b[0m \u001b[32m━━━━━━━━━━━━━━━━━━━━\u001b[0m\u001b[37m\u001b[0m \u001b[1m0s\u001b[0m 81ms/step\n",
      "[[    0.99997]]\n",
      "Predicted: Wasp\n",
      "True label: Wasp\n",
      "\u001b[1m1/1\u001b[0m \u001b[32m━━━━━━━━━━━━━━━━━━━━\u001b[0m\u001b[37m\u001b[0m \u001b[1m0s\u001b[0m 83ms/step\n",
      "[[    0.99903]]\n",
      "Predicted: Bee\n",
      "True label: Bee\n",
      "\u001b[1m1/1\u001b[0m \u001b[32m━━━━━━━━━━━━━━━━━━━━\u001b[0m\u001b[37m\u001b[0m \u001b[1m0s\u001b[0m 83ms/step\n",
      "\u001b[1m1/1\u001b[0m \u001b[32m━━━━━━━━━━━━━━━━━━━━\u001b[0m\u001b[37m\u001b[0m \u001b[1m0s\u001b[0m 76ms/step\n",
      "[[    0.85607]]\n",
      "Predicted: Bee\n",
      "True label: Bee\n",
      "\u001b[1m1/1\u001b[0m \u001b[32m━━━━━━━━━━━━━━━━━━━━\u001b[0m\u001b[37m\u001b[0m \u001b[1m0s\u001b[0m 84ms/step\n",
      "\u001b[1m1/1\u001b[0m \u001b[32m━━━━━━━━━━━━━━━━━━━━\u001b[0m\u001b[37m\u001b[0m \u001b[1m0s\u001b[0m 83ms/step\n",
      "[[    0.99955]]\n",
      "Predicted: Bee\n",
      "True label: Bee\n",
      "\u001b[1m1/1\u001b[0m \u001b[32m━━━━━━━━━━━━━━━━━━━━\u001b[0m\u001b[37m\u001b[0m \u001b[1m0s\u001b[0m 91ms/step\n",
      "\u001b[1m1/1\u001b[0m \u001b[32m━━━━━━━━━━━━━━━━━━━━\u001b[0m\u001b[37m\u001b[0m \u001b[1m0s\u001b[0m 81ms/step\n",
      "[[ 1.4042e-06]]\n",
      "Predicted: Not Bee\n",
      "True label: Bee\n",
      "\u001b[1m1/1\u001b[0m \u001b[32m━━━━━━━━━━━━━━━━━━━━\u001b[0m\u001b[37m\u001b[0m \u001b[1m0s\u001b[0m 80ms/step\n",
      "\u001b[1m1/1\u001b[0m \u001b[32m━━━━━━━━━━━━━━━━━━━━\u001b[0m\u001b[37m\u001b[0m \u001b[1m0s\u001b[0m 91ms/step\n",
      "[[    0.99975]]\n",
      "Predicted: Wasp\n",
      "True label: Wasp\n"
     ]
    }
   ],
   "source": [
    "for image, label in tester:\n",
    "    demo(bee, wasp, image, label)"
   ]
  }
 ],
 "metadata": {
  "kernelspec": {
   "display_name": "Python 3",
   "language": "python",
   "name": "python3"
  },
  "language_info": {
   "codemirror_mode": {
    "name": "ipython",
    "version": 3
   },
   "file_extension": ".py",
   "mimetype": "text/x-python",
   "name": "python",
   "nbconvert_exporter": "python",
   "pygments_lexer": "ipython3",
   "version": "3.12.0"
  }
 },
 "nbformat": 4,
 "nbformat_minor": 2
}
