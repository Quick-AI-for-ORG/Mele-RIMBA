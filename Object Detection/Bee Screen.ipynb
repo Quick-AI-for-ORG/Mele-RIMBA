{
 "cells": [
  {
   "cell_type": "code",
   "execution_count": null,
   "metadata": {
    "notebookRunGroups": {
     "groupValue": "1"
    }
   },
   "outputs": [],
   "source": [
    "import cv2\n",
    "import numpy as np\n",
    "import pyautogui\n",
    "from tensorflow import keras \n",
    "from ultralytics import YOLO"
   ]
  },
  {
   "cell_type": "code",
   "execution_count": null,
   "metadata": {
    "notebookRunGroups": {
     "groupValue": "1"
    }
   },
   "outputs": [],
   "source": [
    "yoloPath = \"Yolos/Insects/BIG dataset/train34/weights/best.pt\"\n",
    "beePath = \"../Classifiers/classifiers/beeOrNot.keras\"\n",
    "waspPath = \"../Classifiers/classifiers/waspOrNot.keras\"\n",
    "yoloModel = YOLO(yoloPath)\n",
    "yoloModel.to(device=\"cuda\")\n",
    "beeModel = keras.models.load_model(beePath)\n",
    "waspModel = keras.models.load_model(waspPath)"
   ]
  },
  {
   "cell_type": "code",
   "execution_count": null,
   "metadata": {},
   "outputs": [],
   "source": [
    "threshold = 0.3\n",
    "inputSize = (224,224)"
   ]
  },
  {
   "cell_type": "code",
   "execution_count": null,
   "metadata": {},
   "outputs": [],
   "source": [
    "screenWidth, screenHeight = pyautogui.size()\n",
    "\n",
    "region = (0, 0, screenWidth, screenHeight)\n",
    "\n",
    "windowName = \"YOLO Detection with Custom Classification\"\n",
    "cv2.namedWindow(windowName, cv2.WINDOW_NORMAL)\n",
    "cv2.resizeWindow(windowName, 800, 600)\n",
    "\n",
    "while True:\n",
    "    screenshot = pyautogui.screenshot(region=region)\n",
    "\n",
    "    frame = np.array(screenshot)\n",
    "\n",
    "    frame = cv2.cvtColor(frame, cv2.COLOR_RGB2BGR)\n",
    "\n",
    "    results = yoloModel.track(source=frame, conf=threshold, verbose=False)\n",
    "\n",
    "    for result in results:\n",
    "        boxes = result.boxes.xyxy.cpu().numpy()  \n",
    "        confidences = result.boxes.conf.cpu().numpy()  \n",
    "\n",
    "\n",
    "        for i, box in enumerate(boxes):\n",
    "            x1, y1, x2, y2 = map(int, box)\n",
    "\n",
    "            x1 = max(0, min(x1, frame.shape[1] - 1))\n",
    "            y1 = max(0, min(y1, frame.shape[0] - 1))\n",
    "            x2 = max(0, min(x2, frame.shape[1] - 1))\n",
    "            y2 = max(0, min(y2, frame.shape[0] - 1))\n",
    "\n",
    "            if x2 > x1 and y2 > y1:\n",
    "                \n",
    "                croppedRegion = frame[y1:y2, x1:x2]\n",
    "                \n",
    "                croppedInput = cv2.resize(croppedRegion, inputSize)\n",
    "                croppedInput = cv2.cvtColor(croppedInput, cv2.COLOR_RGB2BGR)\n",
    "                croppedInput = np.expand_dims(croppedInput, axis=0)  \n",
    "\n",
    "                predictions = beeModel.predict(croppedInput, verbose=False)\n",
    "                predictedClass = \"Bee\"\n",
    "                confidenceScore = np.max(predictions)\n",
    "                if confidenceScore < 0.7:\n",
    "                    predictions = waspModel.predict(croppedInput, verbose=False)\n",
    "                    predictedClass = \"Wasp\"\n",
    "                    confidenceScore = np.max(predictions)\n",
    "                    if confidenceScore < 0.7:\n",
    "                        predictedClass = \"Other\"\n",
    "                        confidenceScore = 1.0 - confidenceScore\n",
    "                    \n",
    "                    \n",
    "                label = f\"Class {predictedClass} ({confidenceScore:.2f}), Yolo {confidences[i]:.2f}\"\n",
    "                cv2.rectangle(frame, (x1, y1), (x2, y2), (255, 0, 0), 2)  \n",
    "                cv2.putText(frame, label, (x1, y1 - 10), cv2.FONT_HERSHEY_SIMPLEX, 0.5, (255, 0, 0), 2)  \n",
    "\n",
    "    cv2.imshow(windowName, frame)\n",
    "\n",
    "    if cv2.waitKey(1) & 0xFF == ord('q'):\n",
    "        break\n",
    "\n",
    "cv2.destroyAllWindows()"
   ]
  }
 ],
 "metadata": {
  "kernelspec": {
   "display_name": "Python 3",
   "language": "python",
   "name": "python3"
  },
  "language_info": {
   "codemirror_mode": {
    "name": "ipython",
    "version": 3
   },
   "file_extension": ".py",
   "mimetype": "text/x-python",
   "name": "python",
   "nbconvert_exporter": "python",
   "pygments_lexer": "ipython3",
   "version": "3.12.0"
  }
 },
 "nbformat": 4,
 "nbformat_minor": 2
}
