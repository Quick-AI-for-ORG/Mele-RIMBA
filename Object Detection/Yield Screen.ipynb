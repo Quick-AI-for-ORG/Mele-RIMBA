{
 "cells": [
  {
   "cell_type": "code",
   "execution_count": 28,
   "metadata": {
    "notebookRunGroups": {
     "groupValue": "1"
    }
   },
   "outputs": [],
   "source": [
    "import cv2\n",
    "import numpy as np\n",
    "import pyautogui\n",
    "from ultralytics import YOLO"
   ]
  },
  {
   "cell_type": "code",
   "execution_count": null,
   "metadata": {
    "notebookRunGroups": {
     "groupValue": "1"
    }
   },
   "outputs": [],
   "source": [
    "modelPath = \"Yolos/Honeycomb/train43/weights/best.pt\"\n",
    "model = YOLO(modelPath)"
   ]
  },
  {
   "cell_type": "code",
   "execution_count": 30,
   "metadata": {},
   "outputs": [],
   "source": [
    "threshold = 0.3"
   ]
  },
  {
   "cell_type": "code",
   "execution_count": null,
   "metadata": {},
   "outputs": [],
   "source": [
    "screenWidth, screenHeight = pyautogui.size()\n",
    "\n",
    "region = (0, 0, screenWidth, screenHeight)\n",
    "\n",
    "windowName = \"YOLO Detection on Screen\"\n",
    "cv2.namedWindow(windowName, cv2.WINDOW_NORMAL)\n",
    "cv2.resizeWindow(windowName, 400, 300)\n",
    "\n",
    "while True:\n",
    "    screenshot = pyautogui.screenshot(region=region)\n",
    "    frame = np.array(screenshot)\n",
    "\n",
    "    frame = cv2.cvtColor(frame, cv2.COLOR_RGB2BGR)\n",
    "\n",
    "    results = model.predict(source=frame, conf=threshold, verbose=False)\n",
    "\n",
    "    detections = results[0].boxes.data.cpu().numpy()\n",
    "    classCounts = {}\n",
    "    for detection in detections:\n",
    "        classId = int(detection[5])\n",
    "        classCounts[classId] = classCounts.get(classId, 0) + 1\n",
    "\n",
    "    annotatedFrame = results[0].plot()\n",
    "\n",
    "    yOffset = 20\n",
    "    for classId, count in classCounts.items():\n",
    "        class_name = model.names[classId]\n",
    "        text = f\"{class_name}: {count}\"\n",
    "        cv2.putText(\n",
    "            annotatedFrame,\n",
    "            text,\n",
    "            (10, yOffset),\n",
    "            cv2.FONT_HERSHEY_SIMPLEX,\n",
    "            0.7,\n",
    "            (0, 255, 0),\n",
    "            2,\n",
    "            cv2.LINE_AA,\n",
    "        )\n",
    "        yOffset += 30\n",
    "    cv2.imshow(windowName, annotatedFrame)\n",
    "\n",
    "    if cv2.waitKey(1) & 0xFF == ord(\"q\"):\n",
    "        break\n",
    "\n",
    "cv2.destroyAllWindows()"
   ]
  }
 ],
 "metadata": {
  "kernelspec": {
   "display_name": "Python 3",
   "language": "python",
   "name": "python3"
  },
  "language_info": {
   "codemirror_mode": {
    "name": "ipython",
    "version": 3
   },
   "file_extension": ".py",
   "mimetype": "text/x-python",
   "name": "python",
   "nbconvert_exporter": "python",
   "pygments_lexer": "ipython3",
   "version": "3.12.0"
  }
 },
 "nbformat": 4,
 "nbformat_minor": 2
}
