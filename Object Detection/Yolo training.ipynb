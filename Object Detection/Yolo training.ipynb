{
 "cells": [
  {
   "cell_type": "code",
   "execution_count": 1,
   "metadata": {},
   "outputs": [
    {
     "name": "stdout",
     "output_type": "stream",
     "text": [
      "True\n",
      "12.6\n",
      "2.6.0+cu126\n",
      "0.21.0+cu126\n"
     ]
    }
   ],
   "source": [
    "from ultralytics import YOLO\n",
    "import torch\n",
    "import torchvision\n",
    "\n",
    "print(torch.cuda.is_available())\n",
    "print(torch.version.cuda)\n",
    "print(torch.__version__)\n",
    "print(torchvision.__version__)\n",
    "torch.cuda.empty_cache()"
   ]
  },
  {
   "cell_type": "code",
   "execution_count": 2,
   "metadata": {},
   "outputs": [],
   "source": [
    "model = YOLO(\"yolo11n.pt\")"
   ]
  },
  {
   "cell_type": "code",
   "execution_count": 3,
   "metadata": {},
   "outputs": [
    {
     "name": "stdout",
     "output_type": "stream",
     "text": [
      "New https://pypi.org/project/ultralytics/8.3.102 available  Update with 'pip install -U ultralytics'\n",
      "Ultralytics 8.3.68  Python-3.12.0 torch-2.6.0+cu126 CUDA:0 (NVIDIA GeForce RTX 3050 Ti Laptop GPU, 4096MiB)\n",
      "\u001b[34m\u001b[1mengine\\trainer: \u001b[0mtask=detect, mode=train, model=yolo11n.pt, data=../Datasets/For YOLO/ULT DATASET 2.0/config.yaml, epochs=300, time=None, patience=50, batch=8, imgsz=640, save=True, save_period=-1, cache=False, device=None, workers=8, project=None, name=train60, exist_ok=False, pretrained=True, optimizer=AdamW, verbose=True, seed=0, deterministic=True, single_cls=False, rect=False, cos_lr=True, close_mosaic=10, resume=False, amp=True, fraction=1.0, profile=False, freeze=None, multi_scale=False, overlap_mask=True, mask_ratio=4, dropout=0.0, val=True, split=val, save_json=False, save_hybrid=False, conf=None, iou=0.7, max_det=300, half=False, dnn=False, plots=True, source=None, vid_stride=1, stream_buffer=False, visualize=False, augment=True, agnostic_nms=False, classes=None, retina_masks=False, embed=None, show=False, save_frames=False, save_txt=False, save_conf=False, save_crop=False, show_labels=True, show_conf=True, show_boxes=True, line_width=None, format=torchscript, keras=False, optimize=False, int8=False, dynamic=False, simplify=True, opset=None, workspace=None, nms=False, lr0=0.001, lrf=0.01, momentum=0.937, weight_decay=0.0005, warmup_epochs=3, warmup_momentum=0.8, warmup_bias_lr=0.1, box=7.5, cls=0.5, dfl=1.5, pose=12.0, kobj=1.0, nbs=64, hsv_h=0.015, hsv_s=0.7, hsv_v=0.4, degrees=0.0, translate=0.1, scale=0.5, shear=0.0, perspective=0.0005, flipud=0.0, fliplr=0.5, bgr=0.0, mosaic=1.0, mixup=0.5, copy_paste=0.0, copy_paste_mode=flip, auto_augment=randaugment, erasing=0.4, crop_fraction=1.0, cfg=None, tracker=botsort.yaml, save_dir=runs\\detect\\train60\n",
      "Overriding model.yaml nc=80 with nc=1\n",
      "\n",
      "                   from  n    params  module                                       arguments                     \n",
      "  0                  -1  1       464  ultralytics.nn.modules.conv.Conv             [3, 16, 3, 2]                 \n",
      "  1                  -1  1      4672  ultralytics.nn.modules.conv.Conv             [16, 32, 3, 2]                \n",
      "  2                  -1  1      6640  ultralytics.nn.modules.block.C3k2            [32, 64, 1, False, 0.25]      \n",
      "  3                  -1  1     36992  ultralytics.nn.modules.conv.Conv             [64, 64, 3, 2]                \n",
      "  4                  -1  1     26080  ultralytics.nn.modules.block.C3k2            [64, 128, 1, False, 0.25]     \n",
      "  5                  -1  1    147712  ultralytics.nn.modules.conv.Conv             [128, 128, 3, 2]              \n",
      "  6                  -1  1     87040  ultralytics.nn.modules.block.C3k2            [128, 128, 1, True]           \n",
      "  7                  -1  1    295424  ultralytics.nn.modules.conv.Conv             [128, 256, 3, 2]              \n",
      "  8                  -1  1    346112  ultralytics.nn.modules.block.C3k2            [256, 256, 1, True]           \n",
      "  9                  -1  1    164608  ultralytics.nn.modules.block.SPPF            [256, 256, 5]                 \n",
      " 10                  -1  1    249728  ultralytics.nn.modules.block.C2PSA           [256, 256, 1]                 \n",
      " 11                  -1  1         0  torch.nn.modules.upsampling.Upsample         [None, 2, 'nearest']          \n",
      " 12             [-1, 6]  1         0  ultralytics.nn.modules.conv.Concat           [1]                           \n",
      " 13                  -1  1    111296  ultralytics.nn.modules.block.C3k2            [384, 128, 1, False]          \n",
      " 14                  -1  1         0  torch.nn.modules.upsampling.Upsample         [None, 2, 'nearest']          \n",
      " 15             [-1, 4]  1         0  ultralytics.nn.modules.conv.Concat           [1]                           \n",
      " 16                  -1  1     32096  ultralytics.nn.modules.block.C3k2            [256, 64, 1, False]           \n",
      " 17                  -1  1     36992  ultralytics.nn.modules.conv.Conv             [64, 64, 3, 2]                \n",
      " 18            [-1, 13]  1         0  ultralytics.nn.modules.conv.Concat           [1]                           \n",
      " 19                  -1  1     86720  ultralytics.nn.modules.block.C3k2            [192, 128, 1, False]          \n",
      " 20                  -1  1    147712  ultralytics.nn.modules.conv.Conv             [128, 128, 3, 2]              \n",
      " 21            [-1, 10]  1         0  ultralytics.nn.modules.conv.Concat           [1]                           \n",
      " 22                  -1  1    378880  ultralytics.nn.modules.block.C3k2            [384, 256, 1, True]           \n",
      " 23        [16, 19, 22]  1    430867  ultralytics.nn.modules.head.Detect           [1, [64, 128, 256]]           \n",
      "YOLO11n summary: 319 layers, 2,590,035 parameters, 2,590,019 gradients, 6.4 GFLOPs\n",
      "\n",
      "Transferred 448/499 items from pretrained weights\n",
      "\u001b[34m\u001b[1mTensorBoard: \u001b[0mStart with 'tensorboard --logdir runs\\detect\\train60', view at http://localhost:6006/\n",
      "Freezing layer 'model.23.dfl.conv.weight'\n",
      "\u001b[34m\u001b[1mAMP: \u001b[0mrunning Automatic Mixed Precision (AMP) checks...\n",
      "\u001b[34m\u001b[1mAMP: \u001b[0mchecks passed \n"
     ]
    },
    {
     "name": "stderr",
     "output_type": "stream",
     "text": [
      "\u001b[34m\u001b[1mtrain: \u001b[0mScanning C:\\Users\\Khaled\\Documents\\GitHub\\Mele-RIMBA\\Datasets\\For YOLO\\ULT DATASET 2.0\\Train\\labels.cache... 14343 images, 2078 backgrounds, 0 corrupt: 100%|██████████| 14343/14343 [00:00<?, ?it/s]\n",
      "\u001b[34m\u001b[1mval: \u001b[0mScanning C:\\Users\\Khaled\\Documents\\GitHub\\Mele-RIMBA\\Datasets\\For YOLO\\ULT DATASET 2.0\\Valid\\labels.cache... 1830 images, 475 backgrounds, 0 corrupt: 100%|██████████| 1830/1830 [00:00<?, ?it/s]\n"
     ]
    },
    {
     "name": "stdout",
     "output_type": "stream",
     "text": [
      "Plotting labels to runs\\detect\\train60\\labels.jpg... \n",
      "\u001b[34m\u001b[1moptimizer:\u001b[0m AdamW(lr=0.001, momentum=0.937) with parameter groups 81 weight(decay=0.0), 88 weight(decay=0.0005), 87 bias(decay=0.0)\n",
      "\u001b[34m\u001b[1mTensorBoard: \u001b[0mmodel graph visualization added \n",
      "Image sizes 640 train, 640 val\n",
      "Using 8 dataloader workers\n",
      "Logging results to \u001b[1mruns\\detect\\train60\u001b[0m\n",
      "Starting training for 300 epochs...\n",
      "\n",
      "      Epoch    GPU_mem   box_loss   cls_loss   dfl_loss  Instances       Size\n"
     ]
    },
    {
     "name": "stderr",
     "output_type": "stream",
     "text": [
      "      1/300      4.21G      2.189      1.828      1.539         51        640: 100%|██████████| 1793/1793 [08:12<00:00,  3.64it/s]\n",
      "                 Class     Images  Instances      Box(P          R      mAP50  mAP50-95): 100%|██████████| 115/115 [00:40<00:00,  2.86it/s]\n"
     ]
    },
    {
     "name": "stdout",
     "output_type": "stream",
     "text": [
      "                   all       1830      18881      0.634      0.466      0.515       0.21\n",
      "\n",
      "      Epoch    GPU_mem   box_loss   cls_loss   dfl_loss  Instances       Size\n"
     ]
    },
    {
     "name": "stderr",
     "output_type": "stream",
     "text": [
      "      2/300      3.54G      2.038      1.541      1.454        138        640: 100%|██████████| 1793/1793 [07:26<00:00,  4.01it/s]\n",
      "                 Class     Images  Instances      Box(P          R      mAP50  mAP50-95): 100%|██████████| 115/115 [01:01<00:00,  1.86it/s]\n"
     ]
    },
    {
     "name": "stdout",
     "output_type": "stream",
     "text": [
      "                   all       1830      18881      0.724       0.57      0.634      0.285\n",
      "\n",
      "      Epoch    GPU_mem   box_loss   cls_loss   dfl_loss  Instances       Size\n"
     ]
    },
    {
     "name": "stderr",
     "output_type": "stream",
     "text": [
      "      3/300      3.26G      2.003      1.463      1.431        108        640: 100%|██████████| 1793/1793 [08:10<00:00,  3.66it/s]\n",
      "                 Class     Images  Instances      Box(P          R      mAP50  mAP50-95): 100%|██████████| 115/115 [00:40<00:00,  2.81it/s]\n"
     ]
    },
    {
     "name": "stdout",
     "output_type": "stream",
     "text": [
      "                   all       1830      18881      0.745      0.591      0.662      0.311\n",
      "\n",
      "      Epoch    GPU_mem   box_loss   cls_loss   dfl_loss  Instances       Size\n"
     ]
    },
    {
     "name": "stderr",
     "output_type": "stream",
     "text": [
      "      4/300      3.01G      1.977      1.396      1.415        172        640: 100%|██████████| 1793/1793 [08:37<00:00,  3.46it/s]\n",
      "                 Class     Images  Instances      Box(P          R      mAP50  mAP50-95): 100%|██████████| 115/115 [00:59<00:00,  1.93it/s]\n"
     ]
    },
    {
     "name": "stdout",
     "output_type": "stream",
     "text": [
      "                   all       1830      18881      0.742      0.604      0.673      0.318\n",
      "\n",
      "      Epoch    GPU_mem   box_loss   cls_loss   dfl_loss  Instances       Size\n"
     ]
    },
    {
     "name": "stderr",
     "output_type": "stream",
     "text": [
      "      5/300      3.44G      1.941      1.339      1.394         89        640: 100%|██████████| 1793/1793 [08:42<00:00,  3.43it/s]\n",
      "                 Class     Images  Instances      Box(P          R      mAP50  mAP50-95): 100%|██████████| 115/115 [00:42<00:00,  2.73it/s]\n"
     ]
    },
    {
     "name": "stdout",
     "output_type": "stream",
     "text": [
      "                   all       1830      18881      0.774      0.617      0.698      0.336\n",
      "\n",
      "      Epoch    GPU_mem   box_loss   cls_loss   dfl_loss  Instances       Size\n"
     ]
    },
    {
     "name": "stderr",
     "output_type": "stream",
     "text": [
      "      6/300      3.55G      1.924      1.312      1.377        144        640: 100%|██████████| 1793/1793 [05:19<00:00,  5.62it/s]\n",
      "                 Class     Images  Instances      Box(P          R      mAP50  mAP50-95): 100%|██████████| 115/115 [00:39<00:00,  2.92it/s]\n"
     ]
    },
    {
     "name": "stdout",
     "output_type": "stream",
     "text": [
      "                   all       1830      18881      0.788      0.627      0.715      0.343\n",
      "\n",
      "      Epoch    GPU_mem   box_loss   cls_loss   dfl_loss  Instances       Size\n"
     ]
    },
    {
     "name": "stderr",
     "output_type": "stream",
     "text": [
      "      7/300      4.17G      1.911      1.282      1.366        115        640: 100%|██████████| 1793/1793 [07:15<00:00,  4.12it/s]\n",
      "                 Class     Images  Instances      Box(P          R      mAP50  mAP50-95): 100%|██████████| 115/115 [00:42<00:00,  2.71it/s]\n"
     ]
    },
    {
     "name": "stdout",
     "output_type": "stream",
     "text": [
      "                   all       1830      18881      0.791      0.642      0.723      0.356\n",
      "\n",
      "      Epoch    GPU_mem   box_loss   cls_loss   dfl_loss  Instances       Size\n"
     ]
    },
    {
     "name": "stderr",
     "output_type": "stream",
     "text": [
      "      8/300      5.04G      1.895      1.259      1.359        127        640: 100%|██████████| 1793/1793 [08:01<00:00,  3.73it/s]\n",
      "                 Class     Images  Instances      Box(P          R      mAP50  mAP50-95): 100%|██████████| 115/115 [01:52<00:00,  1.02it/s]\n"
     ]
    },
    {
     "name": "stdout",
     "output_type": "stream",
     "text": [
      "                   all       1830      18881      0.791      0.661      0.737      0.358\n",
      "\n",
      "      Epoch    GPU_mem   box_loss   cls_loss   dfl_loss  Instances       Size\n"
     ]
    },
    {
     "name": "stderr",
     "output_type": "stream",
     "text": [
      "      9/300      3.72G       1.89       1.25       1.35        196        640: 100%|██████████| 1793/1793 [05:10<00:00,  5.77it/s]\n",
      "                 Class     Images  Instances      Box(P          R      mAP50  mAP50-95): 100%|██████████| 115/115 [00:24<00:00,  4.61it/s]\n"
     ]
    },
    {
     "name": "stdout",
     "output_type": "stream",
     "text": [
      "                   all       1830      18881      0.804      0.675      0.751      0.378\n",
      "\n",
      "      Epoch    GPU_mem   box_loss   cls_loss   dfl_loss  Instances       Size\n"
     ]
    },
    {
     "name": "stderr",
     "output_type": "stream",
     "text": [
      "     10/300      4.21G      1.869       1.21      1.339        122        640: 100%|██████████| 1793/1793 [07:01<00:00,  4.25it/s]\n",
      "                 Class     Images  Instances      Box(P          R      mAP50  mAP50-95): 100%|██████████| 115/115 [01:10<00:00,  1.63it/s]\n"
     ]
    },
    {
     "name": "stdout",
     "output_type": "stream",
     "text": [
      "                   all       1830      18881      0.806      0.676      0.757       0.38\n",
      "\n",
      "      Epoch    GPU_mem   box_loss   cls_loss   dfl_loss  Instances       Size\n"
     ]
    },
    {
     "name": "stderr",
     "output_type": "stream",
     "text": [
      "     11/300      4.18G      1.862        1.2      1.337        176        640: 100%|██████████| 1793/1793 [04:55<00:00,  6.06it/s]\n",
      "                 Class     Images  Instances      Box(P          R      mAP50  mAP50-95): 100%|██████████| 115/115 [00:27<00:00,  4.16it/s]\n"
     ]
    },
    {
     "name": "stdout",
     "output_type": "stream",
     "text": [
      "                   all       1830      18881      0.819      0.681      0.768      0.391\n",
      "\n",
      "      Epoch    GPU_mem   box_loss   cls_loss   dfl_loss  Instances       Size\n"
     ]
    },
    {
     "name": "stderr",
     "output_type": "stream",
     "text": [
      "     12/300      5.18G       1.85      1.186      1.332         58        640: 100%|██████████| 1793/1793 [17:27<00:00,  1.71it/s]\n",
      "                 Class     Images  Instances      Box(P          R      mAP50  mAP50-95): 100%|██████████| 115/115 [01:42<00:00,  1.12it/s]\n"
     ]
    },
    {
     "name": "stdout",
     "output_type": "stream",
     "text": [
      "                   all       1830      18881      0.817      0.683      0.759      0.377\n",
      "\n",
      "      Epoch    GPU_mem   box_loss   cls_loss   dfl_loss  Instances       Size\n"
     ]
    },
    {
     "name": "stderr",
     "output_type": "stream",
     "text": [
      "     13/300      3.05G       1.84      1.169      1.328        124        640: 100%|██████████| 1793/1793 [05:00<00:00,  5.97it/s]\n",
      "                 Class     Images  Instances      Box(P          R      mAP50  mAP50-95): 100%|██████████| 115/115 [00:45<00:00,  2.53it/s]\n"
     ]
    },
    {
     "name": "stdout",
     "output_type": "stream",
     "text": [
      "                   all       1830      18881      0.808      0.686      0.763      0.382\n",
      "\n",
      "      Epoch    GPU_mem   box_loss   cls_loss   dfl_loss  Instances       Size\n"
     ]
    },
    {
     "name": "stderr",
     "output_type": "stream",
     "text": [
      "     14/300      3.12G       1.84      1.161      1.324        187        640: 100%|██████████| 1793/1793 [04:50<00:00,  6.17it/s]\n",
      "                 Class     Images  Instances      Box(P          R      mAP50  mAP50-95): 100%|██████████| 115/115 [00:25<00:00,  4.59it/s]\n"
     ]
    },
    {
     "name": "stdout",
     "output_type": "stream",
     "text": [
      "                   all       1830      18881      0.821      0.702      0.783      0.404\n",
      "\n",
      "      Epoch    GPU_mem   box_loss   cls_loss   dfl_loss  Instances       Size\n"
     ]
    },
    {
     "name": "stderr",
     "output_type": "stream",
     "text": [
      "     15/300      3.75G      1.836      1.152      1.318        154        640: 100%|██████████| 1793/1793 [04:57<00:00,  6.03it/s]\n",
      "                 Class     Images  Instances      Box(P          R      mAP50  mAP50-95): 100%|██████████| 115/115 [00:45<00:00,  2.54it/s]\n"
     ]
    },
    {
     "name": "stdout",
     "output_type": "stream",
     "text": [
      "                   all       1830      18881       0.82      0.693      0.776      0.398\n",
      "\n",
      "      Epoch    GPU_mem   box_loss   cls_loss   dfl_loss  Instances       Size\n"
     ]
    },
    {
     "name": "stderr",
     "output_type": "stream",
     "text": [
      "     16/300      3.52G      1.827      1.148      1.319        172        640: 100%|██████████| 1793/1793 [04:55<00:00,  6.06it/s]\n",
      "                 Class     Images  Instances      Box(P          R      mAP50  mAP50-95): 100%|██████████| 115/115 [00:27<00:00,  4.20it/s]\n"
     ]
    },
    {
     "name": "stdout",
     "output_type": "stream",
     "text": [
      "                   all       1830      18881      0.828      0.709      0.789      0.405\n",
      "\n",
      "      Epoch    GPU_mem   box_loss   cls_loss   dfl_loss  Instances       Size\n"
     ]
    },
    {
     "name": "stderr",
     "output_type": "stream",
     "text": [
      "     17/300      3.57G      1.827      1.146      1.315         81        640: 100%|██████████| 1793/1793 [04:52<00:00,  6.13it/s]\n",
      "                 Class     Images  Instances      Box(P          R      mAP50  mAP50-95): 100%|██████████| 115/115 [00:54<00:00,  2.12it/s]\n"
     ]
    },
    {
     "name": "stdout",
     "output_type": "stream",
     "text": [
      "                   all       1830      18881      0.837      0.708      0.793      0.412\n",
      "\n",
      "      Epoch    GPU_mem   box_loss   cls_loss   dfl_loss  Instances       Size\n"
     ]
    },
    {
     "name": "stderr",
     "output_type": "stream",
     "text": [
      "     18/300      4.06G      1.809      1.124      1.305         71        640: 100%|██████████| 1793/1793 [04:59<00:00,  5.98it/s]\n",
      "                 Class     Images  Instances      Box(P          R      mAP50  mAP50-95): 100%|██████████| 115/115 [00:29<00:00,  3.96it/s]\n"
     ]
    },
    {
     "name": "stdout",
     "output_type": "stream",
     "text": [
      "                   all       1830      18881      0.836      0.717      0.799      0.418\n",
      "\n",
      "      Epoch    GPU_mem   box_loss   cls_loss   dfl_loss  Instances       Size\n"
     ]
    },
    {
     "name": "stderr",
     "output_type": "stream",
     "text": [
      "     19/300      4.16G      1.809      1.115      1.305         80        640: 100%|██████████| 1793/1793 [04:54<00:00,  6.09it/s]\n",
      "                 Class     Images  Instances      Box(P          R      mAP50  mAP50-95): 100%|██████████| 115/115 [00:28<00:00,  4.01it/s]\n"
     ]
    },
    {
     "name": "stdout",
     "output_type": "stream",
     "text": [
      "                   all       1830      18881       0.84      0.714      0.799      0.418\n",
      "\n",
      "      Epoch    GPU_mem   box_loss   cls_loss   dfl_loss  Instances       Size\n"
     ]
    },
    {
     "name": "stderr",
     "output_type": "stream",
     "text": [
      "     20/300       4.5G      1.801      1.111      1.304        178        640: 100%|██████████| 1793/1793 [04:57<00:00,  6.02it/s]\n",
      "                 Class     Images  Instances      Box(P          R      mAP50  mAP50-95): 100%|██████████| 115/115 [00:29<00:00,  3.90it/s]\n"
     ]
    },
    {
     "name": "stdout",
     "output_type": "stream",
     "text": [
      "                   all       1830      18881      0.836      0.724      0.804       0.42\n",
      "\n",
      "      Epoch    GPU_mem   box_loss   cls_loss   dfl_loss  Instances       Size\n"
     ]
    },
    {
     "name": "stderr",
     "output_type": "stream",
     "text": [
      "     21/300       4.4G      1.796      1.106        1.3        170        640: 100%|██████████| 1793/1793 [07:42<00:00,  3.87it/s]\n",
      "                 Class     Images  Instances      Box(P          R      mAP50  mAP50-95): 100%|██████████| 115/115 [01:21<00:00,  1.41it/s]\n"
     ]
    },
    {
     "name": "stdout",
     "output_type": "stream",
     "text": [
      "                   all       1830      18881      0.836      0.724      0.802      0.423\n",
      "\n",
      "      Epoch    GPU_mem   box_loss   cls_loss   dfl_loss  Instances       Size\n"
     ]
    },
    {
     "name": "stderr",
     "output_type": "stream",
     "text": [
      "     22/300      3.56G      1.802      1.109      1.301        235        640: 100%|██████████| 1793/1793 [04:53<00:00,  6.12it/s]\n",
      "                 Class     Images  Instances      Box(P          R      mAP50  mAP50-95): 100%|██████████| 115/115 [00:28<00:00,  4.09it/s]\n"
     ]
    },
    {
     "name": "stdout",
     "output_type": "stream",
     "text": [
      "                   all       1830      18881       0.84      0.718        0.8      0.418\n",
      "\n",
      "      Epoch    GPU_mem   box_loss   cls_loss   dfl_loss  Instances       Size\n"
     ]
    },
    {
     "name": "stderr",
     "output_type": "stream",
     "text": [
      "     23/300      3.73G      1.797      1.096      1.295        126        640: 100%|██████████| 1793/1793 [04:53<00:00,  6.12it/s]\n",
      "                 Class     Images  Instances      Box(P          R      mAP50  mAP50-95): 100%|██████████| 115/115 [00:38<00:00,  2.99it/s]\n"
     ]
    },
    {
     "name": "stdout",
     "output_type": "stream",
     "text": [
      "                   all       1830      18881       0.85      0.724      0.811       0.43\n",
      "\n",
      "      Epoch    GPU_mem   box_loss   cls_loss   dfl_loss  Instances       Size\n"
     ]
    },
    {
     "name": "stderr",
     "output_type": "stream",
     "text": [
      "     24/300      3.83G      1.787       1.09      1.294         94        640: 100%|██████████| 1793/1793 [04:52<00:00,  6.12it/s]\n",
      "                 Class     Images  Instances      Box(P          R      mAP50  mAP50-95): 100%|██████████| 115/115 [00:28<00:00,  4.04it/s]\n"
     ]
    },
    {
     "name": "stdout",
     "output_type": "stream",
     "text": [
      "                   all       1830      18881      0.841      0.736      0.814      0.431\n",
      "\n",
      "      Epoch    GPU_mem   box_loss   cls_loss   dfl_loss  Instances       Size\n"
     ]
    },
    {
     "name": "stderr",
     "output_type": "stream",
     "text": [
      "     25/300       3.5G      1.786      1.085      1.287        106        640: 100%|██████████| 1793/1793 [04:53<00:00,  6.12it/s]\n",
      "                 Class     Images  Instances      Box(P          R      mAP50  mAP50-95): 100%|██████████| 115/115 [00:48<00:00,  2.37it/s]\n"
     ]
    },
    {
     "name": "stdout",
     "output_type": "stream",
     "text": [
      "                   all       1830      18881      0.845      0.734      0.812      0.432\n",
      "\n",
      "      Epoch    GPU_mem   box_loss   cls_loss   dfl_loss  Instances       Size\n"
     ]
    },
    {
     "name": "stderr",
     "output_type": "stream",
     "text": [
      "     26/300      3.72G       1.78      1.076      1.291        160        640: 100%|██████████| 1793/1793 [04:53<00:00,  6.11it/s]\n",
      "                 Class     Images  Instances      Box(P          R      mAP50  mAP50-95): 100%|██████████| 115/115 [00:28<00:00,  4.08it/s]\n"
     ]
    },
    {
     "name": "stdout",
     "output_type": "stream",
     "text": [
      "                   all       1830      18881      0.849      0.734      0.816      0.433\n",
      "\n",
      "      Epoch    GPU_mem   box_loss   cls_loss   dfl_loss  Instances       Size\n"
     ]
    },
    {
     "name": "stderr",
     "output_type": "stream",
     "text": [
      "     27/300      2.96G      1.776      1.067      1.284        142        640: 100%|██████████| 1793/1793 [04:52<00:00,  6.14it/s]\n",
      "                 Class     Images  Instances      Box(P          R      mAP50  mAP50-95): 100%|██████████| 115/115 [00:42<00:00,  2.68it/s]\n"
     ]
    },
    {
     "name": "stdout",
     "output_type": "stream",
     "text": [
      "                   all       1830      18881      0.838      0.743      0.819      0.441\n",
      "\n",
      "      Epoch    GPU_mem   box_loss   cls_loss   dfl_loss  Instances       Size\n"
     ]
    },
    {
     "name": "stderr",
     "output_type": "stream",
     "text": [
      "     28/300      3.32G      1.774      1.069      1.282        211        640: 100%|██████████| 1793/1793 [04:52<00:00,  6.14it/s]\n",
      "                 Class     Images  Instances      Box(P          R      mAP50  mAP50-95): 100%|██████████| 115/115 [00:26<00:00,  4.26it/s]\n"
     ]
    },
    {
     "name": "stdout",
     "output_type": "stream",
     "text": [
      "                   all       1830      18881      0.841      0.738      0.817      0.438\n",
      "\n",
      "      Epoch    GPU_mem   box_loss   cls_loss   dfl_loss  Instances       Size\n"
     ]
    },
    {
     "name": "stderr",
     "output_type": "stream",
     "text": [
      "     29/300      3.22G      1.778      1.069      1.281         96        640: 100%|██████████| 1793/1793 [04:53<00:00,  6.12it/s]\n",
      "                 Class     Images  Instances      Box(P          R      mAP50  mAP50-95): 100%|██████████| 115/115 [00:48<00:00,  2.38it/s]\n"
     ]
    },
    {
     "name": "stdout",
     "output_type": "stream",
     "text": [
      "                   all       1830      18881      0.851      0.739      0.822      0.443\n",
      "\n",
      "      Epoch    GPU_mem   box_loss   cls_loss   dfl_loss  Instances       Size\n"
     ]
    },
    {
     "name": "stderr",
     "output_type": "stream",
     "text": [
      "     30/300       3.9G      1.763      1.058      1.279         78        640: 100%|██████████| 1793/1793 [04:50<00:00,  6.16it/s]\n",
      "                 Class     Images  Instances      Box(P          R      mAP50  mAP50-95): 100%|██████████| 115/115 [00:27<00:00,  4.22it/s]\n"
     ]
    },
    {
     "name": "stdout",
     "output_type": "stream",
     "text": [
      "                   all       1830      18881      0.845      0.741      0.818      0.441\n",
      "\n",
      "      Epoch    GPU_mem   box_loss   cls_loss   dfl_loss  Instances       Size\n"
     ]
    },
    {
     "name": "stderr",
     "output_type": "stream",
     "text": [
      "     31/300      3.99G       1.76      1.051      1.278        309        640: 100%|██████████| 1793/1793 [04:51<00:00,  6.15it/s]\n",
      "                 Class     Images  Instances      Box(P          R      mAP50  mAP50-95): 100%|██████████| 115/115 [00:27<00:00,  4.20it/s]\n"
     ]
    },
    {
     "name": "stdout",
     "output_type": "stream",
     "text": [
      "                   all       1830      18881       0.85      0.747      0.826      0.446\n",
      "\n",
      "      Epoch    GPU_mem   box_loss   cls_loss   dfl_loss  Instances       Size\n"
     ]
    },
    {
     "name": "stderr",
     "output_type": "stream",
     "text": [
      "     32/300      3.53G      1.762       1.05      1.275        133        640: 100%|██████████| 1793/1793 [04:53<00:00,  6.12it/s]\n",
      "                 Class     Images  Instances      Box(P          R      mAP50  mAP50-95): 100%|██████████| 115/115 [00:52<00:00,  2.21it/s]\n"
     ]
    },
    {
     "name": "stdout",
     "output_type": "stream",
     "text": [
      "                   all       1830      18881      0.856      0.746      0.828      0.448\n",
      "\n",
      "      Epoch    GPU_mem   box_loss   cls_loss   dfl_loss  Instances       Size\n"
     ]
    },
    {
     "name": "stderr",
     "output_type": "stream",
     "text": [
      "     33/300      3.56G      1.757      1.045      1.273         46        640: 100%|██████████| 1793/1793 [04:58<00:00,  6.00it/s]\n",
      "                 Class     Images  Instances      Box(P          R      mAP50  mAP50-95): 100%|██████████| 115/115 [00:28<00:00,  4.09it/s]\n"
     ]
    },
    {
     "name": "stdout",
     "output_type": "stream",
     "text": [
      "                   all       1830      18881      0.858      0.749      0.828      0.449\n",
      "\n",
      "      Epoch    GPU_mem   box_loss   cls_loss   dfl_loss  Instances       Size\n"
     ]
    },
    {
     "name": "stderr",
     "output_type": "stream",
     "text": [
      "     34/300      3.85G      1.753      1.048      1.276        142        640: 100%|██████████| 1793/1793 [05:00<00:00,  5.96it/s]\n",
      "                 Class     Images  Instances      Box(P          R      mAP50  mAP50-95): 100%|██████████| 115/115 [00:49<00:00,  2.33it/s]\n"
     ]
    },
    {
     "name": "stdout",
     "output_type": "stream",
     "text": [
      "                   all       1830      18881      0.857      0.749      0.828      0.452\n",
      "\n",
      "      Epoch    GPU_mem   box_loss   cls_loss   dfl_loss  Instances       Size\n"
     ]
    },
    {
     "name": "stderr",
     "output_type": "stream",
     "text": [
      "     35/300       3.7G      1.753      1.039      1.274        135        640: 100%|██████████| 1793/1793 [04:57<00:00,  6.04it/s]\n",
      "                 Class     Images  Instances      Box(P          R      mAP50  mAP50-95): 100%|██████████| 115/115 [00:28<00:00,  4.09it/s]\n"
     ]
    },
    {
     "name": "stdout",
     "output_type": "stream",
     "text": [
      "                   all       1830      18881      0.855      0.755      0.832      0.454\n",
      "\n",
      "      Epoch    GPU_mem   box_loss   cls_loss   dfl_loss  Instances       Size\n"
     ]
    },
    {
     "name": "stderr",
     "output_type": "stream",
     "text": [
      "     36/300      3.89G      1.753      1.038      1.269        125        640: 100%|██████████| 1793/1793 [04:53<00:00,  6.11it/s]\n",
      "                 Class     Images  Instances      Box(P          R      mAP50  mAP50-95): 100%|██████████| 115/115 [01:04<00:00,  1.78it/s]\n"
     ]
    },
    {
     "name": "stdout",
     "output_type": "stream",
     "text": [
      "                   all       1830      18881      0.858      0.753      0.832      0.454\n",
      "\n",
      "      Epoch    GPU_mem   box_loss   cls_loss   dfl_loss  Instances       Size\n"
     ]
    },
    {
     "name": "stderr",
     "output_type": "stream",
     "text": [
      "     37/300      3.83G      1.747      1.033      1.267        145        640: 100%|██████████| 1793/1793 [04:52<00:00,  6.13it/s]\n",
      "                 Class     Images  Instances      Box(P          R      mAP50  mAP50-95): 100%|██████████| 115/115 [00:28<00:00,  4.05it/s]\n"
     ]
    },
    {
     "name": "stdout",
     "output_type": "stream",
     "text": [
      "                   all       1830      18881      0.855      0.763      0.837      0.459\n",
      "\n",
      "      Epoch    GPU_mem   box_loss   cls_loss   dfl_loss  Instances       Size\n"
     ]
    },
    {
     "name": "stderr",
     "output_type": "stream",
     "text": [
      "     38/300      3.33G      1.748      1.032      1.266        221        640: 100%|██████████| 1793/1793 [04:53<00:00,  6.11it/s]\n",
      "                 Class     Images  Instances      Box(P          R      mAP50  mAP50-95): 100%|██████████| 115/115 [00:50<00:00,  2.27it/s]\n"
     ]
    },
    {
     "name": "stdout",
     "output_type": "stream",
     "text": [
      "                   all       1830      18881      0.856      0.759      0.836       0.46\n",
      "\n",
      "      Epoch    GPU_mem   box_loss   cls_loss   dfl_loss  Instances       Size\n"
     ]
    },
    {
     "name": "stderr",
     "output_type": "stream",
     "text": [
      "     39/300      4.61G      1.743      1.025      1.264        158        640: 100%|██████████| 1793/1793 [05:02<00:00,  5.94it/s]\n",
      "                 Class     Images  Instances      Box(P          R      mAP50  mAP50-95): 100%|██████████| 115/115 [00:29<00:00,  3.95it/s]\n"
     ]
    },
    {
     "name": "stdout",
     "output_type": "stream",
     "text": [
      "                   all       1830      18881      0.854      0.759      0.836      0.461\n",
      "\n",
      "      Epoch    GPU_mem   box_loss   cls_loss   dfl_loss  Instances       Size\n"
     ]
    },
    {
     "name": "stderr",
     "output_type": "stream",
     "text": [
      "     40/300      3.28G      1.745       1.03      1.263         59        640: 100%|██████████| 1793/1793 [04:53<00:00,  6.11it/s]\n",
      "                 Class     Images  Instances      Box(P          R      mAP50  mAP50-95): 100%|██████████| 115/115 [01:01<00:00,  1.88it/s]"
     ]
    },
    {
     "name": "stdout",
     "output_type": "stream",
     "text": [
      "                   all       1830      18881      0.859      0.761      0.839      0.463\n"
     ]
    },
    {
     "name": "stderr",
     "output_type": "stream",
     "text": [
      "\n"
     ]
    },
    {
     "name": "stdout",
     "output_type": "stream",
     "text": [
      "\n",
      "      Epoch    GPU_mem   box_loss   cls_loss   dfl_loss  Instances       Size\n"
     ]
    },
    {
     "name": "stderr",
     "output_type": "stream",
     "text": [
      "     41/300      3.71G      1.748      1.027      1.262        278        640: 100%|██████████| 1793/1793 [04:52<00:00,  6.13it/s]\n",
      "                 Class     Images  Instances      Box(P          R      mAP50  mAP50-95): 100%|██████████| 115/115 [00:49<00:00,  2.33it/s]\n"
     ]
    },
    {
     "name": "stdout",
     "output_type": "stream",
     "text": [
      "                   all       1830      18881      0.863       0.76      0.837      0.461\n",
      "\n",
      "      Epoch    GPU_mem   box_loss   cls_loss   dfl_loss  Instances       Size\n"
     ]
    },
    {
     "name": "stderr",
     "output_type": "stream",
     "text": [
      "     42/300      3.22G      1.739      1.019      1.258        206        640: 100%|██████████| 1793/1793 [04:53<00:00,  6.12it/s]\n",
      "                 Class     Images  Instances      Box(P          R      mAP50  mAP50-95): 100%|██████████| 115/115 [00:25<00:00,  4.49it/s]\n"
     ]
    },
    {
     "name": "stdout",
     "output_type": "stream",
     "text": [
      "                   all       1830      18881      0.867      0.756      0.836      0.461\n",
      "\n",
      "      Epoch    GPU_mem   box_loss   cls_loss   dfl_loss  Instances       Size\n"
     ]
    },
    {
     "name": "stderr",
     "output_type": "stream",
     "text": [
      "     43/300       3.2G      1.736      1.019      1.258        159        640: 100%|██████████| 1793/1793 [04:52<00:00,  6.13it/s]\n",
      "                 Class     Images  Instances      Box(P          R      mAP50  mAP50-95): 100%|██████████| 115/115 [00:43<00:00,  2.61it/s]\n"
     ]
    },
    {
     "name": "stdout",
     "output_type": "stream",
     "text": [
      "                   all       1830      18881      0.863       0.76      0.839      0.462\n",
      "\n",
      "      Epoch    GPU_mem   box_loss   cls_loss   dfl_loss  Instances       Size\n"
     ]
    },
    {
     "name": "stderr",
     "output_type": "stream",
     "text": [
      "     44/300      3.91G       1.73       1.01      1.257        130        640: 100%|██████████| 1793/1793 [04:52<00:00,  6.12it/s]\n",
      "                 Class     Images  Instances      Box(P          R      mAP50  mAP50-95): 100%|██████████| 115/115 [00:28<00:00,  4.05it/s]\n"
     ]
    },
    {
     "name": "stdout",
     "output_type": "stream",
     "text": [
      "                   all       1830      18881       0.86      0.763       0.84      0.465\n",
      "\n",
      "      Epoch    GPU_mem   box_loss   cls_loss   dfl_loss  Instances       Size\n"
     ]
    },
    {
     "name": "stderr",
     "output_type": "stream",
     "text": [
      "     45/300      3.84G      1.727       1.01      1.257        187        640: 100%|██████████| 1793/1793 [04:54<00:00,  6.09it/s]\n",
      "                 Class     Images  Instances      Box(P          R      mAP50  mAP50-95): 100%|██████████| 115/115 [01:01<00:00,  1.88it/s]\n"
     ]
    },
    {
     "name": "stdout",
     "output_type": "stream",
     "text": [
      "                   all       1830      18881      0.869       0.76      0.841      0.467\n",
      "\n",
      "      Epoch    GPU_mem   box_loss   cls_loss   dfl_loss  Instances       Size\n"
     ]
    },
    {
     "name": "stderr",
     "output_type": "stream",
     "text": [
      "     46/300      4.72G      1.729      1.007      1.257         70        640: 100%|██████████| 1793/1793 [30:01<00:00,  1.00s/it]\n",
      "                 Class     Images  Instances      Box(P          R      mAP50  mAP50-95): 100%|██████████| 115/115 [01:34<00:00,  1.22it/s]\n"
     ]
    },
    {
     "name": "stdout",
     "output_type": "stream",
     "text": [
      "                   all       1830      18881      0.862      0.767      0.841      0.467\n",
      "\n",
      "      Epoch    GPU_mem   box_loss   cls_loss   dfl_loss  Instances       Size\n"
     ]
    },
    {
     "name": "stderr",
     "output_type": "stream",
     "text": [
      "     47/300      3.04G      1.727      1.006      1.255        278        640: 100%|██████████| 1793/1793 [04:52<00:00,  6.12it/s]\n",
      "                 Class     Images  Instances      Box(P          R      mAP50  mAP50-95): 100%|██████████| 115/115 [00:26<00:00,  4.35it/s]\n"
     ]
    },
    {
     "name": "stdout",
     "output_type": "stream",
     "text": [
      "                   all       1830      18881       0.86      0.768      0.843      0.468\n",
      "\n",
      "      Epoch    GPU_mem   box_loss   cls_loss   dfl_loss  Instances       Size\n"
     ]
    },
    {
     "name": "stderr",
     "output_type": "stream",
     "text": [
      "     48/300      3.17G      1.728      1.005      1.258        178        640: 100%|██████████| 1793/1793 [04:53<00:00,  6.12it/s]\n",
      "                 Class     Images  Instances      Box(P          R      mAP50  mAP50-95): 100%|██████████| 115/115 [00:42<00:00,  2.73it/s]\n"
     ]
    },
    {
     "name": "stdout",
     "output_type": "stream",
     "text": [
      "                   all       1830      18881      0.861      0.768      0.844      0.469\n",
      "\n",
      "      Epoch    GPU_mem   box_loss   cls_loss   dfl_loss  Instances       Size\n"
     ]
    },
    {
     "name": "stderr",
     "output_type": "stream",
     "text": [
      "     49/300      4.95G      1.725     0.9968      1.251        128        640: 100%|██████████| 1793/1793 [05:07<00:00,  5.84it/s]\n",
      "                 Class     Images  Instances      Box(P          R      mAP50  mAP50-95): 100%|██████████| 115/115 [00:29<00:00,  3.88it/s]\n"
     ]
    },
    {
     "name": "stdout",
     "output_type": "stream",
     "text": [
      "                   all       1830      18881      0.859      0.771      0.845      0.469\n",
      "\n",
      "      Epoch    GPU_mem   box_loss   cls_loss   dfl_loss  Instances       Size\n"
     ]
    },
    {
     "name": "stderr",
     "output_type": "stream",
     "text": [
      "     50/300      3.33G      1.725          1      1.251        219        640: 100%|██████████| 1793/1793 [04:53<00:00,  6.11it/s]\n",
      "                 Class     Images  Instances      Box(P          R      mAP50  mAP50-95): 100%|██████████| 115/115 [00:43<00:00,  2.62it/s]\n"
     ]
    },
    {
     "name": "stdout",
     "output_type": "stream",
     "text": [
      "                   all       1830      18881      0.865      0.771      0.846       0.47\n",
      "\n",
      "      Epoch    GPU_mem   box_loss   cls_loss   dfl_loss  Instances       Size\n"
     ]
    },
    {
     "name": "stderr",
     "output_type": "stream",
     "text": [
      "     51/300      3.51G      1.718     0.9921      1.249         74        640: 100%|██████████| 1793/1793 [04:54<00:00,  6.10it/s]\n",
      "                 Class     Images  Instances      Box(P          R      mAP50  mAP50-95): 100%|██████████| 115/115 [00:26<00:00,  4.35it/s]\n"
     ]
    },
    {
     "name": "stdout",
     "output_type": "stream",
     "text": [
      "                   all       1830      18881      0.868      0.769      0.846       0.47\n",
      "\n",
      "      Epoch    GPU_mem   box_loss   cls_loss   dfl_loss  Instances       Size\n"
     ]
    },
    {
     "name": "stderr",
     "output_type": "stream",
     "text": [
      "     52/300      3.81G      1.718      0.996      1.249         80        640: 100%|██████████| 1793/1793 [04:57<00:00,  6.02it/s]\n",
      "                 Class     Images  Instances      Box(P          R      mAP50  mAP50-95): 100%|██████████| 115/115 [00:52<00:00,  2.19it/s]"
     ]
    },
    {
     "name": "stdout",
     "output_type": "stream",
     "text": [
      "                   all       1830      18881      0.864      0.772      0.847      0.472\n"
     ]
    },
    {
     "name": "stderr",
     "output_type": "stream",
     "text": [
      "\n"
     ]
    },
    {
     "name": "stdout",
     "output_type": "stream",
     "text": [
      "\n",
      "      Epoch    GPU_mem   box_loss   cls_loss   dfl_loss  Instances       Size\n"
     ]
    },
    {
     "name": "stderr",
     "output_type": "stream",
     "text": [
      "     53/300      2.47G       1.72     0.9953      1.254        180        640: 100%|██████████| 1793/1793 [04:52<00:00,  6.13it/s]\n",
      "                 Class     Images  Instances      Box(P          R      mAP50  mAP50-95): 100%|██████████| 115/115 [00:22<00:00,  5.07it/s]\n"
     ]
    },
    {
     "name": "stdout",
     "output_type": "stream",
     "text": [
      "                   all       1830      18881      0.868      0.772      0.848      0.472\n",
      "\n",
      "      Epoch    GPU_mem   box_loss   cls_loss   dfl_loss  Instances       Size\n"
     ]
    },
    {
     "name": "stderr",
     "output_type": "stream",
     "text": [
      "     54/300       4.2G      1.711     0.9871       1.25        150        640: 100%|██████████| 1793/1793 [06:33<00:00,  4.56it/s]\n",
      "                 Class     Images  Instances      Box(P          R      mAP50  mAP50-95): 100%|██████████| 115/115 [00:58<00:00,  1.97it/s]\n"
     ]
    },
    {
     "name": "stdout",
     "output_type": "stream",
     "text": [
      "                   all       1830      18881      0.865      0.772      0.847      0.473\n",
      "\n",
      "      Epoch    GPU_mem   box_loss   cls_loss   dfl_loss  Instances       Size\n"
     ]
    },
    {
     "name": "stderr",
     "output_type": "stream",
     "text": [
      "     55/300       3.1G      1.702     0.9821      1.245        178        640: 100%|██████████| 1793/1793 [04:52<00:00,  6.12it/s]\n",
      "                 Class     Images  Instances      Box(P          R      mAP50  mAP50-95): 100%|██████████| 115/115 [00:26<00:00,  4.32it/s]\n"
     ]
    },
    {
     "name": "stdout",
     "output_type": "stream",
     "text": [
      "                   all       1830      18881       0.87       0.77      0.848      0.473\n",
      "\n",
      "      Epoch    GPU_mem   box_loss   cls_loss   dfl_loss  Instances       Size\n"
     ]
    },
    {
     "name": "stderr",
     "output_type": "stream",
     "text": [
      "     56/300      4.56G      1.709     0.9853      1.245        206        640: 100%|██████████| 1793/1793 [11:39<00:00,  2.56it/s]\n",
      "                 Class     Images  Instances      Box(P          R      mAP50  mAP50-95): 100%|██████████| 115/115 [01:35<00:00,  1.20it/s]"
     ]
    },
    {
     "name": "stdout",
     "output_type": "stream",
     "text": [
      "                   all       1830      18881      0.872      0.768      0.848      0.474\n"
     ]
    },
    {
     "name": "stderr",
     "output_type": "stream",
     "text": [
      "\n"
     ]
    },
    {
     "name": "stdout",
     "output_type": "stream",
     "text": [
      "\n",
      "      Epoch    GPU_mem   box_loss   cls_loss   dfl_loss  Instances       Size\n"
     ]
    },
    {
     "name": "stderr",
     "output_type": "stream",
     "text": [
      "     57/300      3.58G      1.706     0.9828      1.248         74        640: 100%|██████████| 1793/1793 [04:55<00:00,  6.06it/s]\n",
      "                 Class     Images  Instances      Box(P          R      mAP50  mAP50-95): 100%|██████████| 115/115 [00:27<00:00,  4.15it/s]\n"
     ]
    },
    {
     "name": "stdout",
     "output_type": "stream",
     "text": [
      "                   all       1830      18881      0.872      0.769      0.849      0.475\n",
      "\n",
      "      Epoch    GPU_mem   box_loss   cls_loss   dfl_loss  Instances       Size\n"
     ]
    },
    {
     "name": "stderr",
     "output_type": "stream",
     "text": [
      "     58/300      3.14G      1.703     0.9788      1.243        189        640: 100%|██████████| 1793/1793 [04:50<00:00,  6.17it/s]\n",
      "                 Class     Images  Instances      Box(P          R      mAP50  mAP50-95): 100%|██████████| 115/115 [00:44<00:00,  2.60it/s]\n"
     ]
    },
    {
     "name": "stdout",
     "output_type": "stream",
     "text": [
      "                   all       1830      18881      0.871      0.771      0.849      0.475\n",
      "\n",
      "      Epoch    GPU_mem   box_loss   cls_loss   dfl_loss  Instances       Size\n"
     ]
    },
    {
     "name": "stderr",
     "output_type": "stream",
     "text": [
      "     59/300      3.89G        1.7     0.9755      1.242         86        640: 100%|██████████| 1793/1793 [05:07<00:00,  5.83it/s]\n",
      "                 Class     Images  Instances      Box(P          R      mAP50  mAP50-95): 100%|██████████| 115/115 [00:28<00:00,  4.06it/s]\n"
     ]
    },
    {
     "name": "stdout",
     "output_type": "stream",
     "text": [
      "                   all       1830      18881      0.872      0.771      0.849      0.476\n",
      "\n",
      "      Epoch    GPU_mem   box_loss   cls_loss   dfl_loss  Instances       Size\n"
     ]
    },
    {
     "name": "stderr",
     "output_type": "stream",
     "text": [
      "     60/300      3.58G      1.699     0.9725      1.241        335        640: 100%|██████████| 1793/1793 [04:43<00:00,  6.32it/s]\n",
      "                 Class     Images  Instances      Box(P          R      mAP50  mAP50-95): 100%|██████████| 115/115 [00:54<00:00,  2.11it/s]"
     ]
    },
    {
     "name": "stdout",
     "output_type": "stream",
     "text": [
      "                   all       1830      18881      0.871      0.769       0.85      0.476\n"
     ]
    },
    {
     "name": "stderr",
     "output_type": "stream",
     "text": [
      "\n"
     ]
    },
    {
     "name": "stdout",
     "output_type": "stream",
     "text": [
      "\n",
      "      Epoch    GPU_mem   box_loss   cls_loss   dfl_loss  Instances       Size\n"
     ]
    },
    {
     "name": "stderr",
     "output_type": "stream",
     "text": [
      "     61/300      3.98G      1.701     0.9737      1.239        507        640: 100%|██████████| 1793/1793 [04:55<00:00,  6.08it/s]\n",
      "                 Class     Images  Instances      Box(P          R      mAP50  mAP50-95): 100%|██████████| 115/115 [00:27<00:00,  4.13it/s]\n"
     ]
    },
    {
     "name": "stdout",
     "output_type": "stream",
     "text": [
      "                   all       1830      18881      0.872       0.77       0.85      0.477\n",
      "\n",
      "      Epoch    GPU_mem   box_loss   cls_loss   dfl_loss  Instances       Size\n"
     ]
    },
    {
     "name": "stderr",
     "output_type": "stream",
     "text": [
      "     62/300      3.38G      1.694      0.967      1.237        205        640: 100%|██████████| 1793/1793 [04:52<00:00,  6.13it/s]\n",
      "                 Class     Images  Instances      Box(P          R      mAP50  mAP50-95): 100%|██████████| 115/115 [00:50<00:00,  2.26it/s]\n"
     ]
    },
    {
     "name": "stdout",
     "output_type": "stream",
     "text": [
      "                   all       1830      18881      0.874      0.771      0.851      0.478\n",
      "\n",
      "      Epoch    GPU_mem   box_loss   cls_loss   dfl_loss  Instances       Size\n"
     ]
    },
    {
     "name": "stderr",
     "output_type": "stream",
     "text": [
      "     63/300      3.51G        1.7     0.9732      1.238        168        640: 100%|██████████| 1793/1793 [04:53<00:00,  6.11it/s]\n",
      "                 Class     Images  Instances      Box(P          R      mAP50  mAP50-95): 100%|██████████| 115/115 [00:27<00:00,  4.23it/s]\n"
     ]
    },
    {
     "name": "stdout",
     "output_type": "stream",
     "text": [
      "                   all       1830      18881      0.872      0.773      0.851      0.479\n",
      "\n",
      "      Epoch    GPU_mem   box_loss   cls_loss   dfl_loss  Instances       Size\n"
     ]
    },
    {
     "name": "stderr",
     "output_type": "stream",
     "text": [
      "     64/300      4.18G      1.697     0.9695      1.237        259        640: 100%|██████████| 1793/1793 [04:56<00:00,  6.06it/s]\n",
      "                 Class     Images  Instances      Box(P          R      mAP50  mAP50-95): 100%|██████████| 115/115 [00:50<00:00,  2.27it/s]\n"
     ]
    },
    {
     "name": "stdout",
     "output_type": "stream",
     "text": [
      "                   all       1830      18881      0.872      0.772      0.852       0.48\n",
      "\n",
      "      Epoch    GPU_mem   box_loss   cls_loss   dfl_loss  Instances       Size\n"
     ]
    },
    {
     "name": "stderr",
     "output_type": "stream",
     "text": [
      "     65/300      3.64G      1.697     0.9678      1.237         91        640: 100%|██████████| 1793/1793 [04:58<00:00,  6.00it/s]\n",
      "                 Class     Images  Instances      Box(P          R      mAP50  mAP50-95): 100%|██████████| 115/115 [00:29<00:00,  3.89it/s]\n"
     ]
    },
    {
     "name": "stdout",
     "output_type": "stream",
     "text": [
      "                   all       1830      18881      0.872      0.773      0.853      0.481\n",
      "\n",
      "      Epoch    GPU_mem   box_loss   cls_loss   dfl_loss  Instances       Size\n"
     ]
    },
    {
     "name": "stderr",
     "output_type": "stream",
     "text": [
      "     66/300      3.29G      1.695     0.9641      1.237        180        640: 100%|██████████| 1793/1793 [04:52<00:00,  6.12it/s]\n",
      "                 Class     Images  Instances      Box(P          R      mAP50  mAP50-95): 100%|██████████| 115/115 [00:46<00:00,  2.46it/s]\n"
     ]
    },
    {
     "name": "stdout",
     "output_type": "stream",
     "text": [
      "                   all       1830      18881      0.874      0.773      0.853      0.481\n",
      "\n",
      "      Epoch    GPU_mem   box_loss   cls_loss   dfl_loss  Instances       Size\n"
     ]
    },
    {
     "name": "stderr",
     "output_type": "stream",
     "text": [
      "     67/300      3.41G      1.698     0.9663      1.234         91        640: 100%|██████████| 1793/1793 [04:51<00:00,  6.15it/s]\n",
      "                 Class     Images  Instances      Box(P          R      mAP50  mAP50-95): 100%|██████████| 115/115 [00:27<00:00,  4.23it/s]\n"
     ]
    },
    {
     "name": "stdout",
     "output_type": "stream",
     "text": [
      "                   all       1830      18881      0.874      0.772      0.853      0.482\n",
      "\n",
      "      Epoch    GPU_mem   box_loss   cls_loss   dfl_loss  Instances       Size\n"
     ]
    },
    {
     "name": "stderr",
     "output_type": "stream",
     "text": [
      "     68/300      3.84G      1.682       0.96      1.228        228        640: 100%|██████████| 1793/1793 [05:04<00:00,  5.89it/s]\n",
      "                 Class     Images  Instances      Box(P          R      mAP50  mAP50-95): 100%|██████████| 115/115 [00:58<00:00,  1.95it/s]\n"
     ]
    },
    {
     "name": "stdout",
     "output_type": "stream",
     "text": [
      "                   all       1830      18881      0.875      0.771      0.853      0.482\n",
      "\n",
      "      Epoch    GPU_mem   box_loss   cls_loss   dfl_loss  Instances       Size\n"
     ]
    },
    {
     "name": "stderr",
     "output_type": "stream",
     "text": [
      "     69/300      3.12G      1.689     0.9594      1.232        121        640: 100%|██████████| 1793/1793 [05:33<00:00,  5.37it/s]\n",
      "                 Class     Images  Instances      Box(P          R      mAP50  mAP50-95): 100%|██████████| 115/115 [00:28<00:00,  4.05it/s]\n"
     ]
    },
    {
     "name": "stdout",
     "output_type": "stream",
     "text": [
      "                   all       1830      18881      0.873      0.772      0.854      0.483\n",
      "\n",
      "      Epoch    GPU_mem   box_loss   cls_loss   dfl_loss  Instances       Size\n"
     ]
    },
    {
     "name": "stderr",
     "output_type": "stream",
     "text": [
      "     70/300      3.86G      1.688     0.9576      1.231        168        640: 100%|██████████| 1793/1793 [05:04<00:00,  5.89it/s]\n",
      "                 Class     Images  Instances      Box(P          R      mAP50  mAP50-95): 100%|██████████| 115/115 [01:12<00:00,  1.59it/s]"
     ]
    },
    {
     "name": "stdout",
     "output_type": "stream",
     "text": [
      "                   all       1830      18881      0.871      0.774      0.854      0.483\n"
     ]
    },
    {
     "name": "stderr",
     "output_type": "stream",
     "text": [
      "\n"
     ]
    },
    {
     "name": "stdout",
     "output_type": "stream",
     "text": [
      "\n",
      "      Epoch    GPU_mem   box_loss   cls_loss   dfl_loss  Instances       Size\n"
     ]
    },
    {
     "name": "stderr",
     "output_type": "stream",
     "text": [
      "     71/300      4.23G      1.682     0.9523      1.229        105        640: 100%|██████████| 1793/1793 [05:04<00:00,  5.89it/s]\n",
      "                 Class     Images  Instances      Box(P          R      mAP50  mAP50-95): 100%|██████████| 115/115 [00:31<00:00,  3.60it/s]\n"
     ]
    },
    {
     "name": "stdout",
     "output_type": "stream",
     "text": [
      "                   all       1830      18881      0.871      0.775      0.854      0.483\n",
      "\n",
      "      Epoch    GPU_mem   box_loss   cls_loss   dfl_loss  Instances       Size\n"
     ]
    },
    {
     "name": "stderr",
     "output_type": "stream",
     "text": [
      "     72/300       4.2G       1.69     0.9577      1.231        132        640: 100%|██████████| 1793/1793 [13:09<00:00,  2.27it/s]\n",
      "                 Class     Images  Instances      Box(P          R      mAP50  mAP50-95): 100%|██████████| 115/115 [01:06<00:00,  1.74it/s]\n"
     ]
    },
    {
     "name": "stdout",
     "output_type": "stream",
     "text": [
      "                   all       1830      18881      0.873      0.772      0.854      0.483\n",
      "\n",
      "      Epoch    GPU_mem   box_loss   cls_loss   dfl_loss  Instances       Size\n"
     ]
    },
    {
     "name": "stderr",
     "output_type": "stream",
     "text": [
      "     73/300      3.59G      1.683     0.9545       1.23        152        640: 100%|██████████| 1793/1793 [05:04<00:00,  5.89it/s]\n",
      "                 Class     Images  Instances      Box(P          R      mAP50  mAP50-95): 100%|██████████| 115/115 [00:29<00:00,  3.92it/s]"
     ]
    },
    {
     "name": "stdout",
     "output_type": "stream",
     "text": [
      "                   all       1830      18881      0.873      0.774      0.855      0.483\n"
     ]
    },
    {
     "name": "stderr",
     "output_type": "stream",
     "text": [
      "\n"
     ]
    },
    {
     "name": "stdout",
     "output_type": "stream",
     "text": [
      "\n",
      "      Epoch    GPU_mem   box_loss   cls_loss   dfl_loss  Instances       Size\n"
     ]
    },
    {
     "name": "stderr",
     "output_type": "stream",
     "text": [
      "     74/300      4.08G      1.679     0.9455      1.228        136        640: 100%|██████████| 1793/1793 [04:49<00:00,  6.19it/s]\n",
      "                 Class     Images  Instances      Box(P          R      mAP50  mAP50-95): 100%|██████████| 115/115 [00:53<00:00,  2.17it/s]"
     ]
    },
    {
     "name": "stdout",
     "output_type": "stream",
     "text": [
      "                   all       1830      18881      0.871      0.776      0.855      0.484\n"
     ]
    },
    {
     "name": "stderr",
     "output_type": "stream",
     "text": [
      "\n"
     ]
    },
    {
     "name": "stdout",
     "output_type": "stream",
     "text": [
      "\n",
      "      Epoch    GPU_mem   box_loss   cls_loss   dfl_loss  Instances       Size\n"
     ]
    },
    {
     "name": "stderr",
     "output_type": "stream",
     "text": [
      "     75/300      3.19G      1.689     0.9586       1.23        229        640: 100%|██████████| 1793/1793 [04:52<00:00,  6.14it/s]\n",
      "                 Class     Images  Instances      Box(P          R      mAP50  mAP50-95): 100%|██████████| 115/115 [00:24<00:00,  4.66it/s]\n"
     ]
    },
    {
     "name": "stdout",
     "output_type": "stream",
     "text": [
      "                   all       1830      18881      0.871      0.778      0.855      0.484\n",
      "\n",
      "      Epoch    GPU_mem   box_loss   cls_loss   dfl_loss  Instances       Size\n"
     ]
    },
    {
     "name": "stderr",
     "output_type": "stream",
     "text": [
      "     76/300      3.43G      1.679     0.9455      1.226        317        640: 100%|██████████| 1793/1793 [04:52<00:00,  6.12it/s]\n",
      "                 Class     Images  Instances      Box(P          R      mAP50  mAP50-95): 100%|██████████| 115/115 [00:49<00:00,  2.30it/s]\n"
     ]
    },
    {
     "name": "stdout",
     "output_type": "stream",
     "text": [
      "                   all       1830      18881      0.871      0.779      0.855      0.484\n",
      "\n",
      "      Epoch    GPU_mem   box_loss   cls_loss   dfl_loss  Instances       Size\n"
     ]
    },
    {
     "name": "stderr",
     "output_type": "stream",
     "text": [
      "     77/300      3.64G      1.676      0.943      1.224        231        640: 100%|██████████| 1793/1793 [05:00<00:00,  5.96it/s]\n",
      "                 Class     Images  Instances      Box(P          R      mAP50  mAP50-95): 100%|██████████| 115/115 [00:27<00:00,  4.17it/s]\n"
     ]
    },
    {
     "name": "stdout",
     "output_type": "stream",
     "text": [
      "                   all       1830      18881      0.872      0.779      0.855      0.485\n",
      "\n",
      "      Epoch    GPU_mem   box_loss   cls_loss   dfl_loss  Instances       Size\n"
     ]
    },
    {
     "name": "stderr",
     "output_type": "stream",
     "text": [
      "     78/300      3.33G      1.676     0.9479      1.225        228        640: 100%|██████████| 1793/1793 [04:51<00:00,  6.14it/s]\n",
      "                 Class     Images  Instances      Box(P          R      mAP50  mAP50-95): 100%|██████████| 115/115 [00:47<00:00,  2.41it/s]"
     ]
    },
    {
     "name": "stdout",
     "output_type": "stream",
     "text": [
      "                   all       1830      18881      0.873      0.777      0.856      0.485\n"
     ]
    },
    {
     "name": "stderr",
     "output_type": "stream",
     "text": [
      "\n"
     ]
    },
    {
     "name": "stdout",
     "output_type": "stream",
     "text": [
      "\n",
      "      Epoch    GPU_mem   box_loss   cls_loss   dfl_loss  Instances       Size\n"
     ]
    },
    {
     "name": "stderr",
     "output_type": "stream",
     "text": [
      "     79/300      4.86G      1.684     0.9497      1.229        137        640: 100%|██████████| 1793/1793 [05:04<00:00,  5.89it/s]\n",
      "                 Class     Images  Instances      Box(P          R      mAP50  mAP50-95): 100%|██████████| 115/115 [00:29<00:00,  3.96it/s]\n"
     ]
    },
    {
     "name": "stdout",
     "output_type": "stream",
     "text": [
      "                   all       1830      18881      0.873      0.776      0.856      0.486\n",
      "\n",
      "      Epoch    GPU_mem   box_loss   cls_loss   dfl_loss  Instances       Size\n"
     ]
    },
    {
     "name": "stderr",
     "output_type": "stream",
     "text": [
      "     80/300       3.4G      1.676     0.9433      1.225         88        640: 100%|██████████| 1793/1793 [04:53<00:00,  6.10it/s]\n",
      "                 Class     Images  Instances      Box(P          R      mAP50  mAP50-95): 100%|██████████| 115/115 [00:26<00:00,  4.28it/s]\n"
     ]
    },
    {
     "name": "stdout",
     "output_type": "stream",
     "text": [
      "                   all       1830      18881      0.874      0.776      0.857      0.486\n",
      "\n",
      "      Epoch    GPU_mem   box_loss   cls_loss   dfl_loss  Instances       Size\n"
     ]
    },
    {
     "name": "stderr",
     "output_type": "stream",
     "text": [
      "     81/300      2.63G       1.67     0.9406      1.223         84        640: 100%|██████████| 1793/1793 [04:52<00:00,  6.14it/s]\n",
      "                 Class     Images  Instances      Box(P          R      mAP50  mAP50-95): 100%|██████████| 115/115 [00:44<00:00,  2.56it/s]"
     ]
    },
    {
     "name": "stdout",
     "output_type": "stream",
     "text": [
      "                   all       1830      18881      0.876      0.776      0.857      0.486\n"
     ]
    },
    {
     "name": "stderr",
     "output_type": "stream",
     "text": [
      "\n"
     ]
    },
    {
     "name": "stdout",
     "output_type": "stream",
     "text": [
      "\n",
      "      Epoch    GPU_mem   box_loss   cls_loss   dfl_loss  Instances       Size\n"
     ]
    },
    {
     "name": "stderr",
     "output_type": "stream",
     "text": [
      "     82/300      3.31G      1.665     0.9379      1.226        226        640: 100%|██████████| 1793/1793 [04:52<00:00,  6.12it/s]\n",
      "                 Class     Images  Instances      Box(P          R      mAP50  mAP50-95): 100%|██████████| 115/115 [00:26<00:00,  4.27it/s]\n"
     ]
    },
    {
     "name": "stdout",
     "output_type": "stream",
     "text": [
      "                   all       1830      18881      0.875      0.776      0.857      0.487\n",
      "\n",
      "      Epoch    GPU_mem   box_loss   cls_loss   dfl_loss  Instances       Size\n"
     ]
    },
    {
     "name": "stderr",
     "output_type": "stream",
     "text": [
      "     83/300      4.26G      1.673     0.9399      1.223        313        640: 100%|██████████| 1793/1793 [11:26<00:00,  2.61it/s]\n",
      "                 Class     Images  Instances      Box(P          R      mAP50  mAP50-95): 100%|██████████| 115/115 [01:34<00:00,  1.22it/s]"
     ]
    },
    {
     "name": "stdout",
     "output_type": "stream",
     "text": [
      "                   all       1830      18881      0.874      0.778      0.857      0.487\n"
     ]
    },
    {
     "name": "stderr",
     "output_type": "stream",
     "text": [
      "\n"
     ]
    },
    {
     "name": "stdout",
     "output_type": "stream",
     "text": [
      "\n",
      "      Epoch    GPU_mem   box_loss   cls_loss   dfl_loss  Instances       Size\n"
     ]
    },
    {
     "name": "stderr",
     "output_type": "stream",
     "text": [
      "     84/300      3.35G      1.669     0.9357      1.224        120        640: 100%|██████████| 1793/1793 [04:52<00:00,  6.13it/s]\n",
      "                 Class     Images  Instances      Box(P          R      mAP50  mAP50-95): 100%|██████████| 115/115 [00:26<00:00,  4.37it/s]\n"
     ]
    },
    {
     "name": "stdout",
     "output_type": "stream",
     "text": [
      "                   all       1830      18881      0.875      0.778      0.857      0.487\n",
      "\n",
      "      Epoch    GPU_mem   box_loss   cls_loss   dfl_loss  Instances       Size\n"
     ]
    },
    {
     "name": "stderr",
     "output_type": "stream",
     "text": [
      "     85/300      3.66G      1.673     0.9384      1.223        144        640: 100%|██████████| 1793/1793 [04:53<00:00,  6.12it/s]\n",
      "                 Class     Images  Instances      Box(P          R      mAP50  mAP50-95): 100%|██████████| 115/115 [00:58<00:00,  1.96it/s]"
     ]
    },
    {
     "name": "stdout",
     "output_type": "stream",
     "text": [
      "                   all       1830      18881      0.875      0.777      0.857      0.487\n"
     ]
    },
    {
     "name": "stderr",
     "output_type": "stream",
     "text": [
      "\n"
     ]
    },
    {
     "name": "stdout",
     "output_type": "stream",
     "text": [
      "\n",
      "      Epoch    GPU_mem   box_loss   cls_loss   dfl_loss  Instances       Size\n"
     ]
    },
    {
     "name": "stderr",
     "output_type": "stream",
     "text": [
      "     86/300      3.63G       1.67     0.9392      1.221        111        640: 100%|██████████| 1793/1793 [05:01<00:00,  5.94it/s]\n",
      "                 Class     Images  Instances      Box(P          R      mAP50  mAP50-95): 100%|██████████| 115/115 [00:23<00:00,  4.84it/s]\n"
     ]
    },
    {
     "name": "stdout",
     "output_type": "stream",
     "text": [
      "                   all       1830      18881      0.876      0.776      0.857      0.488\n",
      "\n",
      "      Epoch    GPU_mem   box_loss   cls_loss   dfl_loss  Instances       Size\n"
     ]
    },
    {
     "name": "stderr",
     "output_type": "stream",
     "text": [
      "     87/300      3.57G      1.666     0.9394      1.222         98        640: 100%|██████████| 1793/1793 [04:50<00:00,  6.17it/s]\n",
      "                 Class     Images  Instances      Box(P          R      mAP50  mAP50-95): 100%|██████████| 115/115 [00:54<00:00,  2.13it/s]"
     ]
    },
    {
     "name": "stdout",
     "output_type": "stream",
     "text": [
      "                   all       1830      18881      0.877      0.776      0.858      0.488\n"
     ]
    },
    {
     "name": "stderr",
     "output_type": "stream",
     "text": [
      "\n"
     ]
    },
    {
     "name": "stdout",
     "output_type": "stream",
     "text": [
      "\n",
      "      Epoch    GPU_mem   box_loss   cls_loss   dfl_loss  Instances       Size\n"
     ]
    },
    {
     "name": "stderr",
     "output_type": "stream",
     "text": [
      "     88/300      3.66G      1.665      0.932      1.219        123        640: 100%|██████████| 1793/1793 [04:57<00:00,  6.04it/s]\n",
      "                 Class     Images  Instances      Box(P          R      mAP50  mAP50-95): 100%|██████████| 115/115 [00:27<00:00,  4.22it/s]\n"
     ]
    },
    {
     "name": "stdout",
     "output_type": "stream",
     "text": [
      "                   all       1830      18881      0.876      0.777      0.858      0.488\n",
      "\n",
      "      Epoch    GPU_mem   box_loss   cls_loss   dfl_loss  Instances       Size\n"
     ]
    },
    {
     "name": "stderr",
     "output_type": "stream",
     "text": [
      "     89/300      4.01G      1.664     0.9323      1.221        194        640: 100%|██████████| 1793/1793 [07:26<00:00,  4.01it/s]\n",
      "                 Class     Images  Instances      Box(P          R      mAP50  mAP50-95): 100%|██████████| 115/115 [00:49<00:00,  2.31it/s]"
     ]
    },
    {
     "name": "stdout",
     "output_type": "stream",
     "text": [
      "                   all       1830      18881      0.876      0.777      0.858      0.488\n"
     ]
    },
    {
     "name": "stderr",
     "output_type": "stream",
     "text": [
      "\n"
     ]
    },
    {
     "name": "stdout",
     "output_type": "stream",
     "text": [
      "\n",
      "      Epoch    GPU_mem   box_loss   cls_loss   dfl_loss  Instances       Size\n"
     ]
    },
    {
     "name": "stderr",
     "output_type": "stream",
     "text": [
      "     90/300      3.87G      1.662     0.9326      1.218        256        640: 100%|██████████| 1793/1793 [04:51<00:00,  6.14it/s]\n",
      "                 Class     Images  Instances      Box(P          R      mAP50  mAP50-95): 100%|██████████| 115/115 [00:28<00:00,  4.08it/s]\n"
     ]
    },
    {
     "name": "stdout",
     "output_type": "stream",
     "text": [
      "                   all       1830      18881      0.877      0.777      0.859      0.488\n",
      "\n",
      "      Epoch    GPU_mem   box_loss   cls_loss   dfl_loss  Instances       Size\n"
     ]
    },
    {
     "name": "stderr",
     "output_type": "stream",
     "text": [
      "     91/300      3.58G      1.664     0.9254      1.219        153        640: 100%|██████████| 1793/1793 [04:52<00:00,  6.14it/s]\n",
      "                 Class     Images  Instances      Box(P          R      mAP50  mAP50-95): 100%|██████████| 115/115 [00:55<00:00,  2.09it/s]"
     ]
    },
    {
     "name": "stdout",
     "output_type": "stream",
     "text": [
      "                   all       1830      18881      0.877      0.777      0.859      0.489\n"
     ]
    },
    {
     "name": "stderr",
     "output_type": "stream",
     "text": [
      "\n"
     ]
    },
    {
     "name": "stdout",
     "output_type": "stream",
     "text": [
      "\n",
      "      Epoch    GPU_mem   box_loss   cls_loss   dfl_loss  Instances       Size\n"
     ]
    },
    {
     "name": "stderr",
     "output_type": "stream",
     "text": [
      "     92/300      4.06G      1.659     0.9255      1.214         82        640: 100%|██████████| 1793/1793 [04:58<00:00,  6.00it/s]\n",
      "                 Class     Images  Instances      Box(P          R      mAP50  mAP50-95): 100%|██████████| 115/115 [00:28<00:00,  4.03it/s]\n"
     ]
    },
    {
     "name": "stdout",
     "output_type": "stream",
     "text": [
      "                   all       1830      18881      0.877      0.777      0.859      0.489\n",
      "\n",
      "      Epoch    GPU_mem   box_loss   cls_loss   dfl_loss  Instances       Size\n"
     ]
    },
    {
     "name": "stderr",
     "output_type": "stream",
     "text": [
      "     93/300      4.35G       1.66     0.9258      1.216        235        640: 100%|██████████| 1793/1793 [14:19<00:00,  2.09it/s]\n",
      "                 Class     Images  Instances      Box(P          R      mAP50  mAP50-95): 100%|██████████| 115/115 [01:15<00:00,  1.51it/s]"
     ]
    },
    {
     "name": "stdout",
     "output_type": "stream",
     "text": [
      "                   all       1830      18881      0.878      0.777      0.859      0.489\n"
     ]
    },
    {
     "name": "stderr",
     "output_type": "stream",
     "text": [
      "\n"
     ]
    },
    {
     "name": "stdout",
     "output_type": "stream",
     "text": [
      "\n",
      "      Epoch    GPU_mem   box_loss   cls_loss   dfl_loss  Instances       Size\n"
     ]
    },
    {
     "name": "stderr",
     "output_type": "stream",
     "text": [
      "     94/300      3.91G      1.662     0.9259      1.216        395        640: 100%|██████████| 1793/1793 [04:53<00:00,  6.12it/s]\n",
      "                 Class     Images  Instances      Box(P          R      mAP50  mAP50-95): 100%|██████████| 115/115 [00:27<00:00,  4.15it/s]\n"
     ]
    },
    {
     "name": "stdout",
     "output_type": "stream",
     "text": [
      "                   all       1830      18881      0.878      0.778      0.859      0.489\n",
      "\n",
      "      Epoch    GPU_mem   box_loss   cls_loss   dfl_loss  Instances       Size\n"
     ]
    },
    {
     "name": "stderr",
     "output_type": "stream",
     "text": [
      "     95/300      4.17G      1.658     0.9251      1.218        147        640: 100%|██████████| 1793/1793 [06:05<00:00,  4.91it/s]\n",
      "                 Class     Images  Instances      Box(P          R      mAP50  mAP50-95): 100%|██████████| 115/115 [00:59<00:00,  1.94it/s]\n"
     ]
    },
    {
     "name": "stdout",
     "output_type": "stream",
     "text": [
      "                   all       1830      18881      0.877      0.779      0.859       0.49\n",
      "\n",
      "      Epoch    GPU_mem   box_loss   cls_loss   dfl_loss  Instances       Size\n"
     ]
    },
    {
     "name": "stderr",
     "output_type": "stream",
     "text": [
      "     96/300      3.53G       1.66     0.9279       1.22        201        640: 100%|██████████| 1793/1793 [05:01<00:00,  5.95it/s]\n",
      "                 Class     Images  Instances      Box(P          R      mAP50  mAP50-95): 100%|██████████| 115/115 [00:29<00:00,  3.96it/s]\n"
     ]
    },
    {
     "name": "stdout",
     "output_type": "stream",
     "text": [
      "                   all       1830      18881      0.877      0.778      0.859       0.49\n",
      "\n",
      "      Epoch    GPU_mem   box_loss   cls_loss   dfl_loss  Instances       Size\n"
     ]
    },
    {
     "name": "stderr",
     "output_type": "stream",
     "text": [
      "     97/300      2.59G      1.661      0.927      1.217        139        640: 100%|██████████| 1793/1793 [04:57<00:00,  6.03it/s]\n",
      "                 Class     Images  Instances      Box(P          R      mAP50  mAP50-95): 100%|██████████| 115/115 [00:43<00:00,  2.67it/s]"
     ]
    },
    {
     "name": "stdout",
     "output_type": "stream",
     "text": [
      "                   all       1830      18881      0.876      0.779      0.859       0.49\n"
     ]
    },
    {
     "name": "stderr",
     "output_type": "stream",
     "text": [
      "\n"
     ]
    },
    {
     "name": "stdout",
     "output_type": "stream",
     "text": [
      "\n",
      "      Epoch    GPU_mem   box_loss   cls_loss   dfl_loss  Instances       Size\n"
     ]
    },
    {
     "name": "stderr",
     "output_type": "stream",
     "text": [
      "     98/300      3.25G      1.654     0.9216      1.216        141        640: 100%|██████████| 1793/1793 [04:56<00:00,  6.06it/s]\n",
      "                 Class     Images  Instances      Box(P          R      mAP50  mAP50-95): 100%|██████████| 115/115 [00:26<00:00,  4.34it/s]"
     ]
    },
    {
     "name": "stdout",
     "output_type": "stream",
     "text": [
      "                   all       1830      18881      0.877      0.779       0.86       0.49\n"
     ]
    },
    {
     "name": "stderr",
     "output_type": "stream",
     "text": [
      "\n"
     ]
    },
    {
     "name": "stdout",
     "output_type": "stream",
     "text": [
      "\n",
      "      Epoch    GPU_mem   box_loss   cls_loss   dfl_loss  Instances       Size\n"
     ]
    },
    {
     "name": "stderr",
     "output_type": "stream",
     "text": [
      "     99/300      2.82G      1.648     0.9183      1.216        183        640: 100%|██████████| 1793/1793 [04:52<00:00,  6.13it/s]\n",
      "                 Class     Images  Instances      Box(P          R      mAP50  mAP50-95): 100%|██████████| 115/115 [00:46<00:00,  2.49it/s]"
     ]
    },
    {
     "name": "stdout",
     "output_type": "stream",
     "text": [
      "                   all       1830      18881      0.879      0.779       0.86       0.49\n"
     ]
    },
    {
     "name": "stderr",
     "output_type": "stream",
     "text": [
      "\n"
     ]
    },
    {
     "name": "stdout",
     "output_type": "stream",
     "text": [
      "\n",
      "      Epoch    GPU_mem   box_loss   cls_loss   dfl_loss  Instances       Size\n"
     ]
    },
    {
     "name": "stderr",
     "output_type": "stream",
     "text": [
      "    100/300      4.11G      1.656     0.9166      1.214        148        640: 100%|██████████| 1793/1793 [05:00<00:00,  5.96it/s]\n",
      "                 Class     Images  Instances      Box(P          R      mAP50  mAP50-95): 100%|██████████| 115/115 [00:29<00:00,  3.96it/s]\n"
     ]
    },
    {
     "name": "stdout",
     "output_type": "stream",
     "text": [
      "                   all       1830      18881      0.878       0.78       0.86       0.49\n",
      "\n",
      "      Epoch    GPU_mem   box_loss   cls_loss   dfl_loss  Instances       Size\n"
     ]
    },
    {
     "name": "stderr",
     "output_type": "stream",
     "text": [
      "    101/300      2.95G      1.651     0.9181      1.214        147        640: 100%|██████████| 1793/1793 [04:53<00:00,  6.11it/s]\n",
      "                 Class     Images  Instances      Box(P          R      mAP50  mAP50-95): 100%|██████████| 115/115 [00:47<00:00,  2.40it/s]"
     ]
    },
    {
     "name": "stdout",
     "output_type": "stream",
     "text": [
      "                   all       1830      18881      0.879      0.779       0.86       0.49\n"
     ]
    },
    {
     "name": "stderr",
     "output_type": "stream",
     "text": [
      "\n"
     ]
    },
    {
     "name": "stdout",
     "output_type": "stream",
     "text": [
      "\n",
      "      Epoch    GPU_mem   box_loss   cls_loss   dfl_loss  Instances       Size\n"
     ]
    },
    {
     "name": "stderr",
     "output_type": "stream",
     "text": [
      "    102/300      3.57G      1.644     0.9104       1.21         93        640: 100%|██████████| 1793/1793 [04:58<00:00,  6.01it/s]\n",
      "                 Class     Images  Instances      Box(P          R      mAP50  mAP50-95): 100%|██████████| 115/115 [00:27<00:00,  4.15it/s]\n"
     ]
    },
    {
     "name": "stdout",
     "output_type": "stream",
     "text": [
      "                   all       1830      18881      0.879      0.779       0.86      0.491\n",
      "\n",
      "      Epoch    GPU_mem   box_loss   cls_loss   dfl_loss  Instances       Size\n"
     ]
    },
    {
     "name": "stderr",
     "output_type": "stream",
     "text": [
      "    103/300      4.02G      1.653     0.9182      1.213         91        640: 100%|██████████| 1793/1793 [08:47<00:00,  3.40it/s]\n",
      "                 Class     Images  Instances      Box(P          R      mAP50  mAP50-95): 100%|██████████| 115/115 [00:50<00:00,  2.27it/s]\n"
     ]
    },
    {
     "name": "stdout",
     "output_type": "stream",
     "text": [
      "                   all       1830      18881      0.878       0.78       0.86      0.491\n",
      "\n",
      "      Epoch    GPU_mem   box_loss   cls_loss   dfl_loss  Instances       Size\n"
     ]
    },
    {
     "name": "stderr",
     "output_type": "stream",
     "text": [
      "    104/300      2.22G      1.646     0.9152       1.21         88        640: 100%|██████████| 1793/1793 [04:53<00:00,  6.10it/s]\n",
      "                 Class     Images  Instances      Box(P          R      mAP50  mAP50-95): 100%|██████████| 115/115 [00:20<00:00,  5.71it/s]\n"
     ]
    },
    {
     "name": "stdout",
     "output_type": "stream",
     "text": [
      "                   all       1830      18881      0.878      0.781       0.86      0.491\n",
      "\n",
      "      Epoch    GPU_mem   box_loss   cls_loss   dfl_loss  Instances       Size\n"
     ]
    },
    {
     "name": "stderr",
     "output_type": "stream",
     "text": [
      "    105/300      4.37G      1.651     0.9163      1.214        116        640: 100%|██████████| 1793/1793 [11:06<00:00,  2.69it/s]\n",
      "                 Class     Images  Instances      Box(P          R      mAP50  mAP50-95): 100%|██████████| 115/115 [01:14<00:00,  1.55it/s]"
     ]
    },
    {
     "name": "stdout",
     "output_type": "stream",
     "text": [
      "                   all       1830      18881      0.878       0.78       0.86      0.491\n"
     ]
    },
    {
     "name": "stderr",
     "output_type": "stream",
     "text": [
      "\n"
     ]
    },
    {
     "name": "stdout",
     "output_type": "stream",
     "text": [
      "\n",
      "      Epoch    GPU_mem   box_loss   cls_loss   dfl_loss  Instances       Size\n"
     ]
    },
    {
     "name": "stderr",
     "output_type": "stream",
     "text": [
      "    106/300      3.65G      1.652      0.915       1.21        103        640: 100%|██████████| 1793/1793 [04:58<00:00,  6.00it/s]\n",
      "                 Class     Images  Instances      Box(P          R      mAP50  mAP50-95): 100%|██████████| 115/115 [00:27<00:00,  4.12it/s]\n"
     ]
    },
    {
     "name": "stdout",
     "output_type": "stream",
     "text": [
      "                   all       1830      18881      0.878      0.781      0.861      0.492\n",
      "\n",
      "      Epoch    GPU_mem   box_loss   cls_loss   dfl_loss  Instances       Size\n"
     ]
    },
    {
     "name": "stderr",
     "output_type": "stream",
     "text": [
      "    107/300      3.97G      1.648     0.9139      1.213        152        640: 100%|██████████| 1793/1793 [04:54<00:00,  6.09it/s]\n",
      "                 Class     Images  Instances      Box(P          R      mAP50  mAP50-95): 100%|██████████| 115/115 [00:55<00:00,  2.06it/s]"
     ]
    },
    {
     "name": "stdout",
     "output_type": "stream",
     "text": [
      "                   all       1830      18881      0.878      0.781      0.861      0.492\n"
     ]
    },
    {
     "name": "stderr",
     "output_type": "stream",
     "text": [
      "\n"
     ]
    },
    {
     "name": "stdout",
     "output_type": "stream",
     "text": [
      "\n",
      "      Epoch    GPU_mem   box_loss   cls_loss   dfl_loss  Instances       Size\n"
     ]
    },
    {
     "name": "stderr",
     "output_type": "stream",
     "text": [
      "    108/300      3.63G      1.652     0.9142       1.21        182        640: 100%|██████████| 1793/1793 [04:56<00:00,  6.05it/s]\n",
      "                 Class     Images  Instances      Box(P          R      mAP50  mAP50-95): 100%|██████████| 115/115 [00:27<00:00,  4.20it/s]\n"
     ]
    },
    {
     "name": "stdout",
     "output_type": "stream",
     "text": [
      "                   all       1830      18881      0.878      0.781      0.861      0.492\n",
      "\n",
      "      Epoch    GPU_mem   box_loss   cls_loss   dfl_loss  Instances       Size\n"
     ]
    },
    {
     "name": "stderr",
     "output_type": "stream",
     "text": [
      "    109/300      3.67G      1.642     0.9105      1.206        130        640: 100%|██████████| 1793/1793 [04:50<00:00,  6.16it/s]\n",
      "                 Class     Images  Instances      Box(P          R      mAP50  mAP50-95): 100%|██████████| 115/115 [00:44<00:00,  2.61it/s]"
     ]
    },
    {
     "name": "stdout",
     "output_type": "stream",
     "text": [
      "                   all       1830      18881      0.879      0.782      0.862      0.493\n"
     ]
    },
    {
     "name": "stderr",
     "output_type": "stream",
     "text": [
      "\n"
     ]
    },
    {
     "name": "stdout",
     "output_type": "stream",
     "text": [
      "\n",
      "      Epoch    GPU_mem   box_loss   cls_loss   dfl_loss  Instances       Size\n"
     ]
    },
    {
     "name": "stderr",
     "output_type": "stream",
     "text": [
      "    110/300      3.67G      1.644     0.9115      1.209         97        640: 100%|██████████| 1793/1793 [04:53<00:00,  6.11it/s]\n",
      "                 Class     Images  Instances      Box(P          R      mAP50  mAP50-95): 100%|██████████| 115/115 [00:27<00:00,  4.17it/s]\n"
     ]
    },
    {
     "name": "stdout",
     "output_type": "stream",
     "text": [
      "                   all       1830      18881      0.879      0.781      0.862      0.493\n",
      "\n",
      "      Epoch    GPU_mem   box_loss   cls_loss   dfl_loss  Instances       Size\n"
     ]
    },
    {
     "name": "stderr",
     "output_type": "stream",
     "text": [
      "    111/300      3.83G       1.64     0.9008      1.206        118        640: 100%|██████████| 1793/1793 [05:04<00:00,  5.88it/s]\n",
      "                 Class     Images  Instances      Box(P          R      mAP50  mAP50-95): 100%|██████████| 115/115 [00:44<00:00,  2.57it/s]"
     ]
    },
    {
     "name": "stdout",
     "output_type": "stream",
     "text": [
      "                   all       1830      18881      0.879      0.781      0.862      0.493\n"
     ]
    },
    {
     "name": "stderr",
     "output_type": "stream",
     "text": [
      "\n"
     ]
    },
    {
     "name": "stdout",
     "output_type": "stream",
     "text": [
      "\n",
      "      Epoch    GPU_mem   box_loss   cls_loss   dfl_loss  Instances       Size\n"
     ]
    },
    {
     "name": "stderr",
     "output_type": "stream",
     "text": [
      "    112/300      2.99G      1.643     0.9081      1.206        123        640: 100%|██████████| 1793/1793 [04:51<00:00,  6.14it/s]\n",
      "                 Class     Images  Instances      Box(P          R      mAP50  mAP50-95): 100%|██████████| 115/115 [00:26<00:00,  4.37it/s]\n"
     ]
    },
    {
     "name": "stdout",
     "output_type": "stream",
     "text": [
      "                   all       1830      18881      0.878      0.782      0.862      0.494\n",
      "\n",
      "      Epoch    GPU_mem   box_loss   cls_loss   dfl_loss  Instances       Size\n"
     ]
    },
    {
     "name": "stderr",
     "output_type": "stream",
     "text": [
      "    113/300      4.27G      1.639      0.907      1.207        146        640: 100%|██████████| 1793/1793 [16:55<00:00,  1.77it/s]\n",
      "                 Class     Images  Instances      Box(P          R      mAP50  mAP50-95): 100%|██████████| 115/115 [01:17<00:00,  1.49it/s]"
     ]
    },
    {
     "name": "stdout",
     "output_type": "stream",
     "text": [
      "                   all       1830      18881      0.878      0.783      0.862      0.494\n"
     ]
    },
    {
     "name": "stderr",
     "output_type": "stream",
     "text": [
      "\n"
     ]
    },
    {
     "name": "stdout",
     "output_type": "stream",
     "text": [
      "\n",
      "      Epoch    GPU_mem   box_loss   cls_loss   dfl_loss  Instances       Size\n"
     ]
    },
    {
     "name": "stderr",
     "output_type": "stream",
     "text": [
      "    114/300       3.8G      1.637        0.9      1.204         95        640: 100%|██████████| 1793/1793 [04:56<00:00,  6.05it/s]\n",
      "                 Class     Images  Instances      Box(P          R      mAP50  mAP50-95): 100%|██████████| 115/115 [00:28<00:00,  4.07it/s]\n"
     ]
    },
    {
     "name": "stdout",
     "output_type": "stream",
     "text": [
      "                   all       1830      18881      0.877      0.784      0.863      0.494\n",
      "\n",
      "      Epoch    GPU_mem   box_loss   cls_loss   dfl_loss  Instances       Size\n"
     ]
    },
    {
     "name": "stderr",
     "output_type": "stream",
     "text": [
      "    115/300      3.16G      1.639      0.908      1.207        196        640: 100%|██████████| 1793/1793 [04:56<00:00,  6.04it/s]\n",
      "                 Class     Images  Instances      Box(P          R      mAP50  mAP50-95): 100%|██████████| 115/115 [00:50<00:00,  2.30it/s]"
     ]
    },
    {
     "name": "stdout",
     "output_type": "stream",
     "text": [
      "                   all       1830      18881      0.878      0.783      0.863      0.495\n"
     ]
    },
    {
     "name": "stderr",
     "output_type": "stream",
     "text": [
      "\n"
     ]
    },
    {
     "name": "stdout",
     "output_type": "stream",
     "text": [
      "\n",
      "      Epoch    GPU_mem   box_loss   cls_loss   dfl_loss  Instances       Size\n"
     ]
    },
    {
     "name": "stderr",
     "output_type": "stream",
     "text": [
      "    116/300      4.46G      1.641      0.906      1.206        133        640: 100%|██████████| 1793/1793 [05:07<00:00,  5.82it/s]\n",
      "                 Class     Images  Instances      Box(P          R      mAP50  mAP50-95): 100%|██████████| 115/115 [00:26<00:00,  4.35it/s]\n"
     ]
    },
    {
     "name": "stdout",
     "output_type": "stream",
     "text": [
      "                   all       1830      18881       0.88      0.782      0.863      0.495\n",
      "\n",
      "      Epoch    GPU_mem   box_loss   cls_loss   dfl_loss  Instances       Size\n"
     ]
    },
    {
     "name": "stderr",
     "output_type": "stream",
     "text": [
      "    117/300      3.45G      1.645     0.9085      1.209        191        640: 100%|██████████| 1793/1793 [04:52<00:00,  6.12it/s]\n",
      "                 Class     Images  Instances      Box(P          R      mAP50  mAP50-95): 100%|██████████| 115/115 [00:48<00:00,  2.36it/s]\n"
     ]
    },
    {
     "name": "stdout",
     "output_type": "stream",
     "text": [
      "                   all       1830      18881       0.88      0.782      0.863      0.495\n",
      "\n",
      "      Epoch    GPU_mem   box_loss   cls_loss   dfl_loss  Instances       Size\n"
     ]
    },
    {
     "name": "stderr",
     "output_type": "stream",
     "text": [
      "    118/300         3G      1.634      0.899      1.204        204        640: 100%|██████████| 1793/1793 [04:53<00:00,  6.11it/s]\n",
      "                 Class     Images  Instances      Box(P          R      mAP50  mAP50-95): 100%|██████████| 115/115 [00:26<00:00,  4.37it/s]\n"
     ]
    },
    {
     "name": "stdout",
     "output_type": "stream",
     "text": [
      "                   all       1830      18881       0.88      0.782      0.863      0.496\n",
      "\n",
      "      Epoch    GPU_mem   box_loss   cls_loss   dfl_loss  Instances       Size\n"
     ]
    },
    {
     "name": "stderr",
     "output_type": "stream",
     "text": [
      "    119/300      3.69G      1.635        0.9      1.206        222        640: 100%|██████████| 1793/1793 [04:50<00:00,  6.17it/s]\n",
      "                 Class     Images  Instances      Box(P          R      mAP50  mAP50-95): 100%|██████████| 115/115 [00:50<00:00,  2.28it/s]"
     ]
    },
    {
     "name": "stdout",
     "output_type": "stream",
     "text": [
      "                   all       1830      18881      0.879      0.783      0.863      0.496\n"
     ]
    },
    {
     "name": "stderr",
     "output_type": "stream",
     "text": [
      "\n"
     ]
    },
    {
     "name": "stdout",
     "output_type": "stream",
     "text": [
      "\n",
      "      Epoch    GPU_mem   box_loss   cls_loss   dfl_loss  Instances       Size\n"
     ]
    },
    {
     "name": "stderr",
     "output_type": "stream",
     "text": [
      "    120/300      3.77G      1.635     0.8941      1.202        254        640: 100%|██████████| 1793/1793 [05:00<00:00,  5.97it/s]\n",
      "                 Class     Images  Instances      Box(P          R      mAP50  mAP50-95): 100%|██████████| 115/115 [00:29<00:00,  3.91it/s]\n"
     ]
    },
    {
     "name": "stdout",
     "output_type": "stream",
     "text": [
      "                   all       1830      18881      0.881      0.782      0.863      0.496\n",
      "\n",
      "      Epoch    GPU_mem   box_loss   cls_loss   dfl_loss  Instances       Size\n"
     ]
    },
    {
     "name": "stderr",
     "output_type": "stream",
     "text": [
      "    121/300      3.42G      1.631     0.8966      1.204        195        640: 100%|██████████| 1793/1793 [04:52<00:00,  6.13it/s]\n",
      "                 Class     Images  Instances      Box(P          R      mAP50  mAP50-95): 100%|██████████| 115/115 [00:45<00:00,  2.55it/s]\n"
     ]
    },
    {
     "name": "stdout",
     "output_type": "stream",
     "text": [
      "                   all       1830      18881      0.881      0.782      0.863      0.497\n",
      "\n",
      "      Epoch    GPU_mem   box_loss   cls_loss   dfl_loss  Instances       Size\n"
     ]
    },
    {
     "name": "stderr",
     "output_type": "stream",
     "text": [
      "    122/300      3.79G      1.629     0.8965      1.201        213        640: 100%|██████████| 1793/1793 [04:53<00:00,  6.11it/s]\n",
      "                 Class     Images  Instances      Box(P          R      mAP50  mAP50-95): 100%|██████████| 115/115 [00:28<00:00,  4.07it/s]\n"
     ]
    },
    {
     "name": "stdout",
     "output_type": "stream",
     "text": [
      "                   all       1830      18881      0.881      0.782      0.864      0.497\n",
      "\n",
      "      Epoch    GPU_mem   box_loss   cls_loss   dfl_loss  Instances       Size\n"
     ]
    },
    {
     "name": "stderr",
     "output_type": "stream",
     "text": [
      "    123/300      3.24G      1.633     0.8943      1.201        199        640: 100%|██████████| 1793/1793 [04:53<00:00,  6.10it/s]\n",
      "                 Class     Images  Instances      Box(P          R      mAP50  mAP50-95): 100%|██████████| 115/115 [00:38<00:00,  3.00it/s]"
     ]
    },
    {
     "name": "stdout",
     "output_type": "stream",
     "text": [
      "                   all       1830      18881      0.882      0.782      0.864      0.497\n"
     ]
    },
    {
     "name": "stderr",
     "output_type": "stream",
     "text": [
      "\n"
     ]
    },
    {
     "name": "stdout",
     "output_type": "stream",
     "text": [
      "\n",
      "      Epoch    GPU_mem   box_loss   cls_loss   dfl_loss  Instances       Size\n"
     ]
    },
    {
     "name": "stderr",
     "output_type": "stream",
     "text": [
      "    124/300      3.66G      1.629     0.8973      1.201         76        640: 100%|██████████| 1793/1793 [04:56<00:00,  6.04it/s]\n",
      "                 Class     Images  Instances      Box(P          R      mAP50  mAP50-95): 100%|██████████| 115/115 [00:27<00:00,  4.15it/s]\n"
     ]
    },
    {
     "name": "stdout",
     "output_type": "stream",
     "text": [
      "                   all       1830      18881      0.881      0.783      0.864      0.497\n",
      "\n",
      "      Epoch    GPU_mem   box_loss   cls_loss   dfl_loss  Instances       Size\n"
     ]
    },
    {
     "name": "stderr",
     "output_type": "stream",
     "text": [
      "    125/300      3.07G      1.628     0.8939      1.199         77        640: 100%|██████████| 1793/1793 [04:52<00:00,  6.13it/s]\n",
      "                 Class     Images  Instances      Box(P          R      mAP50  mAP50-95): 100%|██████████| 115/115 [00:41<00:00,  2.79it/s]\n"
     ]
    },
    {
     "name": "stdout",
     "output_type": "stream",
     "text": [
      "                   all       1830      18881      0.882      0.782      0.865      0.497\n",
      "\n",
      "      Epoch    GPU_mem   box_loss   cls_loss   dfl_loss  Instances       Size\n"
     ]
    },
    {
     "name": "stderr",
     "output_type": "stream",
     "text": [
      "    126/300       3.7G       1.63     0.8961      1.203        231        640: 100%|██████████| 1793/1793 [04:59<00:00,  5.98it/s]\n",
      "                 Class     Images  Instances      Box(P          R      mAP50  mAP50-95): 100%|██████████| 115/115 [00:26<00:00,  4.31it/s]"
     ]
    },
    {
     "name": "stdout",
     "output_type": "stream",
     "text": [
      "                   all       1830      18881      0.882      0.782      0.865      0.498\n"
     ]
    },
    {
     "name": "stderr",
     "output_type": "stream",
     "text": [
      "\n"
     ]
    },
    {
     "name": "stdout",
     "output_type": "stream",
     "text": [
      "\n",
      "      Epoch    GPU_mem   box_loss   cls_loss   dfl_loss  Instances       Size\n"
     ]
    },
    {
     "name": "stderr",
     "output_type": "stream",
     "text": [
      "    127/300      3.54G      1.633     0.8973      1.202        132        640: 100%|██████████| 1793/1793 [04:52<00:00,  6.14it/s]\n",
      "                 Class     Images  Instances      Box(P          R      mAP50  mAP50-95): 100%|██████████| 115/115 [00:41<00:00,  2.76it/s]"
     ]
    },
    {
     "name": "stdout",
     "output_type": "stream",
     "text": [
      "                   all       1830      18881      0.881      0.783      0.864      0.498\n"
     ]
    },
    {
     "name": "stderr",
     "output_type": "stream",
     "text": [
      "\n"
     ]
    },
    {
     "name": "stdout",
     "output_type": "stream",
     "text": [
      "\n",
      "      Epoch    GPU_mem   box_loss   cls_loss   dfl_loss  Instances       Size\n"
     ]
    },
    {
     "name": "stderr",
     "output_type": "stream",
     "text": [
      "    128/300       2.9G      1.629     0.8973      1.201         59        640: 100%|██████████| 1793/1793 [04:51<00:00,  6.14it/s]\n",
      "                 Class     Images  Instances      Box(P          R      mAP50  mAP50-95): 100%|██████████| 115/115 [00:26<00:00,  4.37it/s]\n"
     ]
    },
    {
     "name": "stdout",
     "output_type": "stream",
     "text": [
      "                   all       1830      18881      0.885      0.781      0.865      0.498\n",
      "\n",
      "      Epoch    GPU_mem   box_loss   cls_loss   dfl_loss  Instances       Size\n"
     ]
    },
    {
     "name": "stderr",
     "output_type": "stream",
     "text": [
      "    129/300       3.5G      1.625     0.8849      1.198        184        640: 100%|██████████| 1793/1793 [04:53<00:00,  6.10it/s]\n",
      "                 Class     Images  Instances      Box(P          R      mAP50  mAP50-95): 100%|██████████| 115/115 [00:39<00:00,  2.93it/s]"
     ]
    },
    {
     "name": "stdout",
     "output_type": "stream",
     "text": [
      "                   all       1830      18881      0.886      0.782      0.865      0.499\n"
     ]
    },
    {
     "name": "stderr",
     "output_type": "stream",
     "text": [
      "\n"
     ]
    },
    {
     "name": "stdout",
     "output_type": "stream",
     "text": [
      "\n",
      "      Epoch    GPU_mem   box_loss   cls_loss   dfl_loss  Instances       Size\n"
     ]
    },
    {
     "name": "stderr",
     "output_type": "stream",
     "text": [
      "    130/300      3.87G      1.621     0.8888      1.199        118        640: 100%|██████████| 1793/1793 [04:53<00:00,  6.11it/s]\n",
      "                 Class     Images  Instances      Box(P          R      mAP50  mAP50-95): 100%|██████████| 115/115 [00:28<00:00,  4.00it/s]\n"
     ]
    },
    {
     "name": "stdout",
     "output_type": "stream",
     "text": [
      "                   all       1830      18881      0.886      0.781      0.865      0.499\n",
      "\n",
      "      Epoch    GPU_mem   box_loss   cls_loss   dfl_loss  Instances       Size\n"
     ]
    },
    {
     "name": "stderr",
     "output_type": "stream",
     "text": [
      "    131/300      3.21G      1.625      0.892        1.2         90        640: 100%|██████████| 1793/1793 [04:51<00:00,  6.16it/s]\n",
      "                 Class     Images  Instances      Box(P          R      mAP50  mAP50-95): 100%|██████████| 115/115 [00:41<00:00,  2.77it/s]\n"
     ]
    },
    {
     "name": "stdout",
     "output_type": "stream",
     "text": [
      "                   all       1830      18881      0.886      0.782      0.866      0.499\n",
      "\n",
      "      Epoch    GPU_mem   box_loss   cls_loss   dfl_loss  Instances       Size\n"
     ]
    },
    {
     "name": "stderr",
     "output_type": "stream",
     "text": [
      "    132/300      4.91G      1.622     0.8861      1.195        139        640: 100%|██████████| 1793/1793 [05:08<00:00,  5.81it/s]\n",
      "                 Class     Images  Instances      Box(P          R      mAP50  mAP50-95): 100%|██████████| 115/115 [00:28<00:00,  4.07it/s]\n"
     ]
    },
    {
     "name": "stdout",
     "output_type": "stream",
     "text": [
      "                   all       1830      18881      0.885      0.783      0.866      0.499\n",
      "\n",
      "      Epoch    GPU_mem   box_loss   cls_loss   dfl_loss  Instances       Size\n"
     ]
    },
    {
     "name": "stderr",
     "output_type": "stream",
     "text": [
      "    133/300       3.2G      1.619     0.8865      1.198        131        640: 100%|██████████| 1793/1793 [04:52<00:00,  6.13it/s]\n",
      "                 Class     Images  Instances      Box(P          R      mAP50  mAP50-95): 100%|██████████| 115/115 [00:41<00:00,  2.77it/s]\n"
     ]
    },
    {
     "name": "stdout",
     "output_type": "stream",
     "text": [
      "                   all       1830      18881      0.886      0.782      0.865        0.5\n",
      "\n",
      "      Epoch    GPU_mem   box_loss   cls_loss   dfl_loss  Instances       Size\n"
     ]
    },
    {
     "name": "stderr",
     "output_type": "stream",
     "text": [
      "    134/300      3.25G      1.623     0.8857      1.197         86        640: 100%|██████████| 1793/1793 [04:53<00:00,  6.10it/s]\n",
      "                 Class     Images  Instances      Box(P          R      mAP50  mAP50-95): 100%|██████████| 115/115 [00:26<00:00,  4.36it/s]\n"
     ]
    },
    {
     "name": "stdout",
     "output_type": "stream",
     "text": [
      "                   all       1830      18881      0.888      0.781      0.866        0.5\n",
      "\n",
      "      Epoch    GPU_mem   box_loss   cls_loss   dfl_loss  Instances       Size\n"
     ]
    },
    {
     "name": "stderr",
     "output_type": "stream",
     "text": [
      "    135/300      3.44G      1.625     0.8923      1.199        431        640: 100%|██████████| 1793/1793 [04:53<00:00,  6.10it/s]\n",
      "                 Class     Images  Instances      Box(P          R      mAP50  mAP50-95): 100%|██████████| 115/115 [00:49<00:00,  2.30it/s]"
     ]
    },
    {
     "name": "stdout",
     "output_type": "stream",
     "text": [
      "                   all       1830      18881      0.888      0.782      0.866        0.5\n"
     ]
    },
    {
     "name": "stderr",
     "output_type": "stream",
     "text": [
      "\n"
     ]
    },
    {
     "name": "stdout",
     "output_type": "stream",
     "text": [
      "\n",
      "      Epoch    GPU_mem   box_loss   cls_loss   dfl_loss  Instances       Size\n"
     ]
    },
    {
     "name": "stderr",
     "output_type": "stream",
     "text": [
      "    136/300      3.71G      1.621     0.8865      1.197        102        640: 100%|██████████| 1793/1793 [05:00<00:00,  5.96it/s]\n",
      "                 Class     Images  Instances      Box(P          R      mAP50  mAP50-95): 100%|██████████| 115/115 [00:28<00:00,  3.99it/s]\n"
     ]
    },
    {
     "name": "stdout",
     "output_type": "stream",
     "text": [
      "                   all       1830      18881      0.887      0.782      0.866        0.5\n",
      "\n",
      "      Epoch    GPU_mem   box_loss   cls_loss   dfl_loss  Instances       Size\n"
     ]
    },
    {
     "name": "stderr",
     "output_type": "stream",
     "text": [
      "    137/300      3.76G      1.621     0.8834      1.194        100        640: 100%|██████████| 1793/1793 [04:51<00:00,  6.14it/s]\n",
      "                 Class     Images  Instances      Box(P          R      mAP50  mAP50-95): 100%|██████████| 115/115 [00:49<00:00,  2.34it/s]"
     ]
    },
    {
     "name": "stdout",
     "output_type": "stream",
     "text": [
      "                   all       1830      18881      0.887      0.782      0.866      0.501\n"
     ]
    },
    {
     "name": "stderr",
     "output_type": "stream",
     "text": [
      "\n"
     ]
    },
    {
     "name": "stdout",
     "output_type": "stream",
     "text": [
      "\n",
      "      Epoch    GPU_mem   box_loss   cls_loss   dfl_loss  Instances       Size\n"
     ]
    },
    {
     "name": "stderr",
     "output_type": "stream",
     "text": [
      "    138/300      3.19G      1.613      0.876      1.189        138        640: 100%|██████████| 1793/1793 [04:53<00:00,  6.11it/s]\n",
      "                 Class     Images  Instances      Box(P          R      mAP50  mAP50-95): 100%|██████████| 115/115 [00:26<00:00,  4.32it/s]\n"
     ]
    },
    {
     "name": "stdout",
     "output_type": "stream",
     "text": [
      "                   all       1830      18881      0.888      0.782      0.867      0.501\n",
      "\n",
      "      Epoch    GPU_mem   box_loss   cls_loss   dfl_loss  Instances       Size\n"
     ]
    },
    {
     "name": "stderr",
     "output_type": "stream",
     "text": [
      "    139/300      5.56G      1.615      0.878      1.193        143        640: 100%|██████████| 1793/1793 [21:24<00:00,  1.40it/s]\n",
      "                 Class     Images  Instances      Box(P          R      mAP50  mAP50-95): 100%|██████████| 115/115 [01:26<00:00,  1.33it/s]"
     ]
    },
    {
     "name": "stdout",
     "output_type": "stream",
     "text": [
      "                   all       1830      18881      0.889      0.781      0.867      0.501\n"
     ]
    },
    {
     "name": "stderr",
     "output_type": "stream",
     "text": [
      "\n"
     ]
    },
    {
     "name": "stdout",
     "output_type": "stream",
     "text": [
      "\n",
      "      Epoch    GPU_mem   box_loss   cls_loss   dfl_loss  Instances       Size\n"
     ]
    },
    {
     "name": "stderr",
     "output_type": "stream",
     "text": [
      "    140/300      3.76G      1.617      0.884      1.193        277        640: 100%|██████████| 1793/1793 [04:55<00:00,  6.06it/s]\n",
      "                 Class     Images  Instances      Box(P          R      mAP50  mAP50-95): 100%|██████████| 115/115 [00:28<00:00,  4.05it/s]"
     ]
    },
    {
     "name": "stdout",
     "output_type": "stream",
     "text": [
      "                   all       1830      18881      0.888      0.782      0.867      0.501\n"
     ]
    },
    {
     "name": "stderr",
     "output_type": "stream",
     "text": [
      "\n"
     ]
    },
    {
     "name": "stdout",
     "output_type": "stream",
     "text": [
      "\n",
      "      Epoch    GPU_mem   box_loss   cls_loss   dfl_loss  Instances       Size\n"
     ]
    },
    {
     "name": "stderr",
     "output_type": "stream",
     "text": [
      "    141/300      3.91G      1.619     0.8817      1.192        196        640: 100%|██████████| 1793/1793 [04:54<00:00,  6.09it/s]\n",
      "                 Class     Images  Instances      Box(P          R      mAP50  mAP50-95): 100%|██████████| 115/115 [00:45<00:00,  2.52it/s]"
     ]
    },
    {
     "name": "stdout",
     "output_type": "stream",
     "text": [
      "                   all       1830      18881      0.888      0.782      0.867      0.501\n"
     ]
    },
    {
     "name": "stderr",
     "output_type": "stream",
     "text": [
      "\n"
     ]
    },
    {
     "name": "stdout",
     "output_type": "stream",
     "text": [
      "\n",
      "      Epoch    GPU_mem   box_loss   cls_loss   dfl_loss  Instances       Size\n"
     ]
    },
    {
     "name": "stderr",
     "output_type": "stream",
     "text": [
      "    142/300      3.85G      1.611     0.8764      1.189        119        640: 100%|██████████| 1793/1793 [04:51<00:00,  6.15it/s]\n",
      "                 Class     Images  Instances      Box(P          R      mAP50  mAP50-95): 100%|██████████| 115/115 [00:27<00:00,  4.12it/s]\n"
     ]
    },
    {
     "name": "stdout",
     "output_type": "stream",
     "text": [
      "                   all       1830      18881      0.888      0.782      0.867      0.502\n",
      "\n",
      "      Epoch    GPU_mem   box_loss   cls_loss   dfl_loss  Instances       Size\n"
     ]
    },
    {
     "name": "stderr",
     "output_type": "stream",
     "text": [
      "    143/300      3.37G       1.61     0.8736       1.19        194        640: 100%|██████████| 1793/1793 [04:50<00:00,  6.17it/s]\n",
      "                 Class     Images  Instances      Box(P          R      mAP50  mAP50-95): 100%|██████████| 115/115 [00:37<00:00,  3.06it/s]\n"
     ]
    },
    {
     "name": "stdout",
     "output_type": "stream",
     "text": [
      "                   all       1830      18881      0.888      0.783      0.867      0.502\n",
      "\n",
      "      Epoch    GPU_mem   box_loss   cls_loss   dfl_loss  Instances       Size\n"
     ]
    },
    {
     "name": "stderr",
     "output_type": "stream",
     "text": [
      "    144/300       2.9G      1.615     0.8801      1.193        211        640: 100%|██████████| 1793/1793 [04:50<00:00,  6.17it/s]\n",
      "                 Class     Images  Instances      Box(P          R      mAP50  mAP50-95): 100%|██████████| 115/115 [00:26<00:00,  4.40it/s]\n"
     ]
    },
    {
     "name": "stdout",
     "output_type": "stream",
     "text": [
      "                   all       1830      18881      0.887      0.783      0.867      0.502\n",
      "\n",
      "      Epoch    GPU_mem   box_loss   cls_loss   dfl_loss  Instances       Size\n"
     ]
    },
    {
     "name": "stderr",
     "output_type": "stream",
     "text": [
      "    145/300      3.29G      1.617       0.88      1.194        123        640: 100%|██████████| 1793/1793 [04:53<00:00,  6.10it/s]\n",
      "                 Class     Images  Instances      Box(P          R      mAP50  mAP50-95): 100%|██████████| 115/115 [00:53<00:00,  2.16it/s]"
     ]
    },
    {
     "name": "stdout",
     "output_type": "stream",
     "text": [
      "                   all       1830      18881      0.887      0.785      0.868      0.502\n"
     ]
    },
    {
     "name": "stderr",
     "output_type": "stream",
     "text": [
      "\n"
     ]
    },
    {
     "name": "stdout",
     "output_type": "stream",
     "text": [
      "\n",
      "      Epoch    GPU_mem   box_loss   cls_loss   dfl_loss  Instances       Size\n"
     ]
    },
    {
     "name": "stderr",
     "output_type": "stream",
     "text": [
      "    146/300      3.57G      1.611     0.8748       1.19        170        640: 100%|██████████| 1793/1793 [04:52<00:00,  6.13it/s]\n",
      "                 Class     Images  Instances      Box(P          R      mAP50  mAP50-95): 100%|██████████| 115/115 [00:27<00:00,  4.20it/s]\n"
     ]
    },
    {
     "name": "stdout",
     "output_type": "stream",
     "text": [
      "                   all       1830      18881      0.887      0.784      0.867      0.503\n",
      "\n",
      "      Epoch    GPU_mem   box_loss   cls_loss   dfl_loss  Instances       Size\n"
     ]
    },
    {
     "name": "stderr",
     "output_type": "stream",
     "text": [
      "    147/300      3.59G      1.606     0.8773      1.193        165        640: 100%|██████████| 1793/1793 [04:52<00:00,  6.14it/s]\n",
      "                 Class     Images  Instances      Box(P          R      mAP50  mAP50-95): 100%|██████████| 115/115 [00:46<00:00,  2.50it/s]"
     ]
    },
    {
     "name": "stdout",
     "output_type": "stream",
     "text": [
      "                   all       1830      18881      0.887      0.784      0.867      0.503\n"
     ]
    },
    {
     "name": "stderr",
     "output_type": "stream",
     "text": [
      "\n"
     ]
    },
    {
     "name": "stdout",
     "output_type": "stream",
     "text": [
      "\n",
      "      Epoch    GPU_mem   box_loss   cls_loss   dfl_loss  Instances       Size\n"
     ]
    },
    {
     "name": "stderr",
     "output_type": "stream",
     "text": [
      "    148/300       3.2G      1.616     0.8825      1.193        148        640: 100%|██████████| 1793/1793 [04:54<00:00,  6.09it/s]\n",
      "                 Class     Images  Instances      Box(P          R      mAP50  mAP50-95): 100%|██████████| 115/115 [00:26<00:00,  4.31it/s]\n"
     ]
    },
    {
     "name": "stdout",
     "output_type": "stream",
     "text": [
      "                   all       1830      18881       0.89      0.783      0.868      0.503\n",
      "\n",
      "      Epoch    GPU_mem   box_loss   cls_loss   dfl_loss  Instances       Size\n"
     ]
    },
    {
     "name": "stderr",
     "output_type": "stream",
     "text": [
      "    149/300      3.95G      1.614     0.8784      1.194        289        640: 100%|██████████| 1793/1793 [05:06<00:00,  5.85it/s]\n",
      "                 Class     Images  Instances      Box(P          R      mAP50  mAP50-95): 100%|██████████| 115/115 [00:52<00:00,  2.19it/s]\n"
     ]
    },
    {
     "name": "stdout",
     "output_type": "stream",
     "text": [
      "                   all       1830      18881      0.888      0.785      0.868      0.503\n",
      "\n",
      "      Epoch    GPU_mem   box_loss   cls_loss   dfl_loss  Instances       Size\n"
     ]
    },
    {
     "name": "stderr",
     "output_type": "stream",
     "text": [
      "    150/300         3G      1.603     0.8718      1.186         40        640: 100%|██████████| 1793/1793 [04:56<00:00,  6.05it/s]\n",
      "                 Class     Images  Instances      Box(P          R      mAP50  mAP50-95): 100%|██████████| 115/115 [00:26<00:00,  4.36it/s]\n"
     ]
    },
    {
     "name": "stdout",
     "output_type": "stream",
     "text": [
      "                   all       1830      18881      0.889      0.784      0.868      0.503\n",
      "\n",
      "      Epoch    GPU_mem   box_loss   cls_loss   dfl_loss  Instances       Size\n"
     ]
    },
    {
     "name": "stderr",
     "output_type": "stream",
     "text": [
      "    151/300      4.41G      1.608     0.8763      1.188        181        640: 100%|██████████| 1793/1793 [24:11<00:00,  1.24it/s]\n",
      "                 Class     Images  Instances      Box(P          R      mAP50  mAP50-95): 100%|██████████| 115/115 [01:45<00:00,  1.09it/s]"
     ]
    },
    {
     "name": "stdout",
     "output_type": "stream",
     "text": [
      "                   all       1830      18881      0.889      0.785      0.868      0.503\n"
     ]
    },
    {
     "name": "stderr",
     "output_type": "stream",
     "text": [
      "\n"
     ]
    },
    {
     "name": "stdout",
     "output_type": "stream",
     "text": [
      "\n",
      "      Epoch    GPU_mem   box_loss   cls_loss   dfl_loss  Instances       Size\n"
     ]
    },
    {
     "name": "stderr",
     "output_type": "stream",
     "text": [
      "    152/300      3.11G      1.604     0.8674      1.186         80        640: 100%|██████████| 1793/1793 [04:58<00:00,  6.01it/s]\n",
      "                 Class     Images  Instances      Box(P          R      mAP50  mAP50-95): 100%|██████████| 115/115 [00:26<00:00,  4.28it/s]\n"
     ]
    },
    {
     "name": "stdout",
     "output_type": "stream",
     "text": [
      "                   all       1830      18881      0.887      0.784      0.868      0.503\n",
      "\n",
      "      Epoch    GPU_mem   box_loss   cls_loss   dfl_loss  Instances       Size\n"
     ]
    },
    {
     "name": "stderr",
     "output_type": "stream",
     "text": [
      "    153/300      4.21G      1.607     0.8728      1.188         86        640: 100%|██████████| 1793/1793 [11:26<00:00,  2.61it/s]\n",
      "                 Class     Images  Instances      Box(P          R      mAP50  mAP50-95): 100%|██████████| 115/115 [01:15<00:00,  1.52it/s]"
     ]
    },
    {
     "name": "stdout",
     "output_type": "stream",
     "text": [
      "                   all       1830      18881      0.887      0.785      0.868      0.504\n"
     ]
    },
    {
     "name": "stderr",
     "output_type": "stream",
     "text": [
      "\n"
     ]
    },
    {
     "name": "stdout",
     "output_type": "stream",
     "text": [
      "\n",
      "      Epoch    GPU_mem   box_loss   cls_loss   dfl_loss  Instances       Size\n"
     ]
    },
    {
     "name": "stderr",
     "output_type": "stream",
     "text": [
      "    154/300      3.95G      1.609     0.8745       1.19        171        640: 100%|██████████| 1793/1793 [04:56<00:00,  6.06it/s]\n",
      "                 Class     Images  Instances      Box(P          R      mAP50  mAP50-95): 100%|██████████| 115/115 [00:28<00:00,  4.03it/s]\n"
     ]
    },
    {
     "name": "stdout",
     "output_type": "stream",
     "text": [
      "                   all       1830      18881      0.887      0.785      0.868      0.504\n",
      "\n",
      "      Epoch    GPU_mem   box_loss   cls_loss   dfl_loss  Instances       Size\n"
     ]
    },
    {
     "name": "stderr",
     "output_type": "stream",
     "text": [
      "    155/300       2.7G      1.608     0.8712      1.188        171        640: 100%|██████████| 1793/1793 [04:53<00:00,  6.10it/s]\n",
      "                 Class     Images  Instances      Box(P          R      mAP50  mAP50-95): 100%|██████████| 115/115 [00:42<00:00,  2.71it/s]"
     ]
    },
    {
     "name": "stdout",
     "output_type": "stream",
     "text": [
      "                   all       1830      18881      0.889      0.784      0.868      0.504\n"
     ]
    },
    {
     "name": "stderr",
     "output_type": "stream",
     "text": [
      "\n"
     ]
    },
    {
     "name": "stdout",
     "output_type": "stream",
     "text": [
      "\n",
      "      Epoch    GPU_mem   box_loss   cls_loss   dfl_loss  Instances       Size\n"
     ]
    },
    {
     "name": "stderr",
     "output_type": "stream",
     "text": [
      "    156/300      4.19G      1.605       0.87      1.188        139        640: 100%|██████████| 1793/1793 [04:57<00:00,  6.03it/s]\n",
      "                 Class     Images  Instances      Box(P          R      mAP50  mAP50-95): 100%|██████████| 115/115 [00:25<00:00,  4.58it/s]\n"
     ]
    },
    {
     "name": "stdout",
     "output_type": "stream",
     "text": [
      "                   all       1830      18881      0.889      0.784      0.868      0.504\n",
      "\n",
      "      Epoch    GPU_mem   box_loss   cls_loss   dfl_loss  Instances       Size\n"
     ]
    },
    {
     "name": "stderr",
     "output_type": "stream",
     "text": [
      "    157/300      3.84G      1.603      0.871      1.188        127        640: 100%|██████████| 1793/1793 [04:54<00:00,  6.09it/s]\n",
      "                 Class     Images  Instances      Box(P          R      mAP50  mAP50-95): 100%|██████████| 115/115 [00:58<00:00,  1.96it/s]"
     ]
    },
    {
     "name": "stdout",
     "output_type": "stream",
     "text": [
      "                   all       1830      18881       0.89      0.784      0.868      0.505\n"
     ]
    },
    {
     "name": "stderr",
     "output_type": "stream",
     "text": [
      "\n"
     ]
    },
    {
     "name": "stdout",
     "output_type": "stream",
     "text": [
      "\n",
      "      Epoch    GPU_mem   box_loss   cls_loss   dfl_loss  Instances       Size\n"
     ]
    },
    {
     "name": "stderr",
     "output_type": "stream",
     "text": [
      "    158/300      3.16G      1.604     0.8695      1.188        131        640: 100%|██████████| 1793/1793 [04:53<00:00,  6.10it/s]\n",
      "                 Class     Images  Instances      Box(P          R      mAP50  mAP50-95): 100%|██████████| 115/115 [00:26<00:00,  4.34it/s]\n"
     ]
    },
    {
     "name": "stdout",
     "output_type": "stream",
     "text": [
      "                   all       1830      18881      0.889      0.784      0.869      0.505\n",
      "\n",
      "      Epoch    GPU_mem   box_loss   cls_loss   dfl_loss  Instances       Size\n"
     ]
    },
    {
     "name": "stderr",
     "output_type": "stream",
     "text": [
      "    159/300      3.52G      1.599     0.8658      1.185        411        640: 100%|██████████| 1793/1793 [04:53<00:00,  6.12it/s]\n",
      "                 Class     Images  Instances      Box(P          R      mAP50  mAP50-95): 100%|██████████| 115/115 [00:44<00:00,  2.57it/s]"
     ]
    },
    {
     "name": "stdout",
     "output_type": "stream",
     "text": [
      "                   all       1830      18881      0.889      0.784      0.869      0.505\n"
     ]
    },
    {
     "name": "stderr",
     "output_type": "stream",
     "text": [
      "\n"
     ]
    },
    {
     "name": "stdout",
     "output_type": "stream",
     "text": [
      "\n",
      "      Epoch    GPU_mem   box_loss   cls_loss   dfl_loss  Instances       Size\n"
     ]
    },
    {
     "name": "stderr",
     "output_type": "stream",
     "text": [
      "    160/300      3.61G      1.599     0.8636      1.184        180        640: 100%|██████████| 1793/1793 [05:00<00:00,  5.97it/s]\n",
      "                 Class     Images  Instances      Box(P          R      mAP50  mAP50-95): 100%|██████████| 115/115 [00:27<00:00,  4.15it/s]\n"
     ]
    },
    {
     "name": "stdout",
     "output_type": "stream",
     "text": [
      "                   all       1830      18881      0.889      0.786      0.869      0.505\n",
      "\n",
      "      Epoch    GPU_mem   box_loss   cls_loss   dfl_loss  Instances       Size\n"
     ]
    },
    {
     "name": "stderr",
     "output_type": "stream",
     "text": [
      "    161/300      3.78G      1.599     0.8669      1.187         89        640: 100%|██████████| 1793/1793 [04:53<00:00,  6.10it/s]\n",
      "                 Class     Images  Instances      Box(P          R      mAP50  mAP50-95): 100%|██████████| 115/115 [00:46<00:00,  2.46it/s]"
     ]
    },
    {
     "name": "stdout",
     "output_type": "stream",
     "text": [
      "                   all       1830      18881      0.887      0.786      0.869      0.506\n"
     ]
    },
    {
     "name": "stderr",
     "output_type": "stream",
     "text": [
      "\n"
     ]
    },
    {
     "name": "stdout",
     "output_type": "stream",
     "text": [
      "\n",
      "      Epoch    GPU_mem   box_loss   cls_loss   dfl_loss  Instances       Size\n"
     ]
    },
    {
     "name": "stderr",
     "output_type": "stream",
     "text": [
      "    162/300      2.88G      1.598     0.8605      1.184         98        640: 100%|██████████| 1793/1793 [04:53<00:00,  6.12it/s]\n",
      "                 Class     Images  Instances      Box(P          R      mAP50  mAP50-95): 100%|██████████| 115/115 [00:26<00:00,  4.36it/s]\n"
     ]
    },
    {
     "name": "stdout",
     "output_type": "stream",
     "text": [
      "                   all       1830      18881      0.888      0.786      0.869      0.506\n",
      "\n",
      "      Epoch    GPU_mem   box_loss   cls_loss   dfl_loss  Instances       Size\n"
     ]
    },
    {
     "name": "stderr",
     "output_type": "stream",
     "text": [
      "    163/300      2.76G      1.601     0.8686      1.188        177        640: 100%|██████████| 1793/1793 [04:53<00:00,  6.11it/s]\n",
      "                 Class     Images  Instances      Box(P          R      mAP50  mAP50-95): 100%|██████████| 115/115 [00:38<00:00,  3.00it/s]"
     ]
    },
    {
     "name": "stdout",
     "output_type": "stream",
     "text": [
      "                   all       1830      18881      0.887      0.787       0.87      0.506\n"
     ]
    },
    {
     "name": "stderr",
     "output_type": "stream",
     "text": [
      "\n"
     ]
    },
    {
     "name": "stdout",
     "output_type": "stream",
     "text": [
      "\n",
      "      Epoch    GPU_mem   box_loss   cls_loss   dfl_loss  Instances       Size\n"
     ]
    },
    {
     "name": "stderr",
     "output_type": "stream",
     "text": [
      "    164/300      3.23G      1.594     0.8603      1.182        123        640: 100%|██████████| 1793/1793 [04:52<00:00,  6.12it/s]\n",
      "                 Class     Images  Instances      Box(P          R      mAP50  mAP50-95): 100%|██████████| 115/115 [00:26<00:00,  4.32it/s]\n"
     ]
    },
    {
     "name": "stdout",
     "output_type": "stream",
     "text": [
      "                   all       1830      18881      0.886      0.788       0.87      0.506\n",
      "\n",
      "      Epoch    GPU_mem   box_loss   cls_loss   dfl_loss  Instances       Size\n"
     ]
    },
    {
     "name": "stderr",
     "output_type": "stream",
     "text": [
      "    165/300      4.29G        1.6     0.8616      1.186        130        640: 100%|██████████| 1793/1793 [05:02<00:00,  5.93it/s]\n",
      "                 Class     Images  Instances      Box(P          R      mAP50  mAP50-95): 100%|██████████| 115/115 [00:46<00:00,  2.49it/s]"
     ]
    },
    {
     "name": "stdout",
     "output_type": "stream",
     "text": [
      "                   all       1830      18881      0.888      0.788       0.87      0.507\n"
     ]
    },
    {
     "name": "stderr",
     "output_type": "stream",
     "text": [
      "\n"
     ]
    },
    {
     "name": "stdout",
     "output_type": "stream",
     "text": [
      "\n",
      "      Epoch    GPU_mem   box_loss   cls_loss   dfl_loss  Instances       Size\n"
     ]
    },
    {
     "name": "stderr",
     "output_type": "stream",
     "text": [
      "    166/300      4.04G      1.602      0.867      1.184        173        640: 100%|██████████| 1793/1793 [05:01<00:00,  5.96it/s]\n",
      "                 Class     Images  Instances      Box(P          R      mAP50  mAP50-95): 100%|██████████| 115/115 [00:27<00:00,  4.13it/s]\n"
     ]
    },
    {
     "name": "stdout",
     "output_type": "stream",
     "text": [
      "                   all       1830      18881      0.888      0.788       0.87      0.507\n",
      "\n",
      "      Epoch    GPU_mem   box_loss   cls_loss   dfl_loss  Instances       Size\n"
     ]
    },
    {
     "name": "stderr",
     "output_type": "stream",
     "text": [
      "    167/300      2.81G      1.594     0.8595      1.183        143        640: 100%|██████████| 1793/1793 [04:52<00:00,  6.13it/s]\n",
      "                 Class     Images  Instances      Box(P          R      mAP50  mAP50-95): 100%|██████████| 115/115 [00:48<00:00,  2.35it/s]"
     ]
    },
    {
     "name": "stdout",
     "output_type": "stream",
     "text": [
      "                   all       1830      18881      0.889      0.788      0.871      0.507\n"
     ]
    },
    {
     "name": "stderr",
     "output_type": "stream",
     "text": [
      "\n"
     ]
    },
    {
     "name": "stdout",
     "output_type": "stream",
     "text": [
      "\n",
      "      Epoch    GPU_mem   box_loss   cls_loss   dfl_loss  Instances       Size\n"
     ]
    },
    {
     "name": "stderr",
     "output_type": "stream",
     "text": [
      "    168/300      3.63G      1.595     0.8585      1.181        236        640: 100%|██████████| 1793/1793 [04:55<00:00,  6.07it/s]\n",
      "                 Class     Images  Instances      Box(P          R      mAP50  mAP50-95): 100%|██████████| 115/115 [00:27<00:00,  4.15it/s]\n"
     ]
    },
    {
     "name": "stdout",
     "output_type": "stream",
     "text": [
      "                   all       1830      18881      0.889      0.788      0.871      0.507\n",
      "\n",
      "      Epoch    GPU_mem   box_loss   cls_loss   dfl_loss  Instances       Size\n"
     ]
    },
    {
     "name": "stderr",
     "output_type": "stream",
     "text": [
      "    169/300      4.62G      1.597     0.8645      1.184        165        640: 100%|██████████| 1793/1793 [17:45<00:00,  1.68it/s]\n",
      "                 Class     Images  Instances      Box(P          R      mAP50  mAP50-95): 100%|██████████| 115/115 [01:34<00:00,  1.22it/s]\n"
     ]
    },
    {
     "name": "stdout",
     "output_type": "stream",
     "text": [
      "                   all       1830      18881       0.89      0.787      0.871      0.508\n",
      "\n",
      "      Epoch    GPU_mem   box_loss   cls_loss   dfl_loss  Instances       Size\n"
     ]
    },
    {
     "name": "stderr",
     "output_type": "stream",
     "text": [
      "    170/300      3.54G      1.589     0.8552      1.178         99        640: 100%|██████████| 1793/1793 [04:52<00:00,  6.13it/s]\n",
      "                 Class     Images  Instances      Box(P          R      mAP50  mAP50-95): 100%|██████████| 115/115 [00:26<00:00,  4.35it/s]"
     ]
    },
    {
     "name": "stdout",
     "output_type": "stream",
     "text": [
      "                   all       1830      18881       0.89      0.788      0.871      0.508\n"
     ]
    },
    {
     "name": "stderr",
     "output_type": "stream",
     "text": [
      "\n"
     ]
    },
    {
     "name": "stdout",
     "output_type": "stream",
     "text": [
      "\n",
      "      Epoch    GPU_mem   box_loss   cls_loss   dfl_loss  Instances       Size\n"
     ]
    },
    {
     "name": "stderr",
     "output_type": "stream",
     "text": [
      "    171/300      3.66G      1.591     0.8614      1.184        137        640: 100%|██████████| 1793/1793 [04:52<00:00,  6.13it/s]\n",
      "                 Class     Images  Instances      Box(P          R      mAP50  mAP50-95): 100%|██████████| 115/115 [00:54<00:00,  2.09it/s]"
     ]
    },
    {
     "name": "stdout",
     "output_type": "stream",
     "text": [
      "                   all       1830      18881       0.89      0.788      0.871      0.508\n"
     ]
    },
    {
     "name": "stderr",
     "output_type": "stream",
     "text": [
      "\n"
     ]
    },
    {
     "name": "stdout",
     "output_type": "stream",
     "text": [
      "\n",
      "      Epoch    GPU_mem   box_loss   cls_loss   dfl_loss  Instances       Size\n"
     ]
    },
    {
     "name": "stderr",
     "output_type": "stream",
     "text": [
      "    172/300      3.05G      1.593     0.8555      1.181        163        640: 100%|██████████| 1793/1793 [04:53<00:00,  6.11it/s]\n",
      "                 Class     Images  Instances      Box(P          R      mAP50  mAP50-95): 100%|██████████| 115/115 [00:26<00:00,  4.37it/s]\n"
     ]
    },
    {
     "name": "stdout",
     "output_type": "stream",
     "text": [
      "                   all       1830      18881      0.889      0.789      0.871      0.508\n",
      "\n",
      "      Epoch    GPU_mem   box_loss   cls_loss   dfl_loss  Instances       Size\n"
     ]
    },
    {
     "name": "stderr",
     "output_type": "stream",
     "text": [
      "    173/300      3.57G      1.589      0.854      1.183        209        640: 100%|██████████| 1793/1793 [04:52<00:00,  6.12it/s]\n",
      "                 Class     Images  Instances      Box(P          R      mAP50  mAP50-95): 100%|██████████| 115/115 [00:53<00:00,  2.14it/s]"
     ]
    },
    {
     "name": "stdout",
     "output_type": "stream",
     "text": [
      "                   all       1830      18881       0.89      0.788      0.871      0.508\n"
     ]
    },
    {
     "name": "stderr",
     "output_type": "stream",
     "text": [
      "\n"
     ]
    },
    {
     "name": "stdout",
     "output_type": "stream",
     "text": [
      "\n",
      "      Epoch    GPU_mem   box_loss   cls_loss   dfl_loss  Instances       Size\n"
     ]
    },
    {
     "name": "stderr",
     "output_type": "stream",
     "text": [
      "    174/300      3.65G       1.59     0.8573      1.184        190        640: 100%|██████████| 1793/1793 [04:56<00:00,  6.05it/s]\n",
      "                 Class     Images  Instances      Box(P          R      mAP50  mAP50-95): 100%|██████████| 115/115 [00:27<00:00,  4.16it/s]\n"
     ]
    },
    {
     "name": "stdout",
     "output_type": "stream",
     "text": [
      "                   all       1830      18881       0.89      0.788      0.871      0.509\n",
      "\n",
      "      Epoch    GPU_mem   box_loss   cls_loss   dfl_loss  Instances       Size\n"
     ]
    },
    {
     "name": "stderr",
     "output_type": "stream",
     "text": [
      "    175/300      4.03G      1.592     0.8565      1.184         55        640: 100%|██████████| 1793/1793 [05:27<00:00,  5.47it/s]\n",
      "                 Class     Images  Instances      Box(P          R      mAP50  mAP50-95): 100%|██████████| 115/115 [01:07<00:00,  1.72it/s]\n"
     ]
    },
    {
     "name": "stdout",
     "output_type": "stream",
     "text": [
      "                   all       1830      18881       0.89      0.789      0.871      0.509\n",
      "\n",
      "      Epoch    GPU_mem   box_loss   cls_loss   dfl_loss  Instances       Size\n"
     ]
    },
    {
     "name": "stderr",
     "output_type": "stream",
     "text": [
      "    176/300      3.24G      1.584     0.8524      1.177        119        640: 100%|██████████| 1793/1793 [04:56<00:00,  6.05it/s]\n",
      "                 Class     Images  Instances      Box(P          R      mAP50  mAP50-95): 100%|██████████| 115/115 [00:25<00:00,  4.51it/s]\n"
     ]
    },
    {
     "name": "stdout",
     "output_type": "stream",
     "text": [
      "                   all       1830      18881       0.89       0.79      0.871      0.509\n",
      "\n",
      "      Epoch    GPU_mem   box_loss   cls_loss   dfl_loss  Instances       Size\n"
     ]
    },
    {
     "name": "stderr",
     "output_type": "stream",
     "text": [
      "    177/300       4.3G      1.588     0.8501       1.18        119        640: 100%|██████████| 1793/1793 [17:52<00:00,  1.67it/s]\n",
      "                 Class     Images  Instances      Box(P          R      mAP50  mAP50-95): 100%|██████████| 115/115 [01:27<00:00,  1.32it/s]"
     ]
    },
    {
     "name": "stdout",
     "output_type": "stream",
     "text": [
      "                   all       1830      18881       0.89       0.79      0.871      0.509\n"
     ]
    },
    {
     "name": "stderr",
     "output_type": "stream",
     "text": [
      "\n"
     ]
    },
    {
     "name": "stdout",
     "output_type": "stream",
     "text": [
      "\n",
      "      Epoch    GPU_mem   box_loss   cls_loss   dfl_loss  Instances       Size\n"
     ]
    },
    {
     "name": "stderr",
     "output_type": "stream",
     "text": [
      "    178/300      4.39G      1.592     0.8549      1.184        266        640: 100%|██████████| 1793/1793 [05:03<00:00,  5.90it/s]\n",
      "                 Class     Images  Instances      Box(P          R      mAP50  mAP50-95): 100%|██████████| 115/115 [00:28<00:00,  3.99it/s]\n"
     ]
    },
    {
     "name": "stdout",
     "output_type": "stream",
     "text": [
      "                   all       1830      18881       0.89       0.79      0.871      0.509\n",
      "\n",
      "      Epoch    GPU_mem   box_loss   cls_loss   dfl_loss  Instances       Size\n"
     ]
    },
    {
     "name": "stderr",
     "output_type": "stream",
     "text": [
      "    179/300       3.7G      1.589     0.8574      1.179        134        640: 100%|██████████| 1793/1793 [04:52<00:00,  6.13it/s]\n",
      "                 Class     Images  Instances      Box(P          R      mAP50  mAP50-95): 100%|██████████| 115/115 [00:44<00:00,  2.58it/s]"
     ]
    },
    {
     "name": "stdout",
     "output_type": "stream",
     "text": [
      "                   all       1830      18881      0.889      0.791      0.872      0.509\n"
     ]
    },
    {
     "name": "stderr",
     "output_type": "stream",
     "text": [
      "\n"
     ]
    },
    {
     "name": "stdout",
     "output_type": "stream",
     "text": [
      "\n",
      "      Epoch    GPU_mem   box_loss   cls_loss   dfl_loss  Instances       Size\n"
     ]
    },
    {
     "name": "stderr",
     "output_type": "stream",
     "text": [
      "    180/300      3.61G      1.588     0.8544       1.18        285        640: 100%|██████████| 1793/1793 [04:57<00:00,  6.03it/s]\n",
      "                 Class     Images  Instances      Box(P          R      mAP50  mAP50-95): 100%|██████████| 115/115 [00:28<00:00,  4.08it/s]"
     ]
    },
    {
     "name": "stdout",
     "output_type": "stream",
     "text": [
      "                   all       1830      18881      0.888      0.792      0.872       0.51\n"
     ]
    },
    {
     "name": "stderr",
     "output_type": "stream",
     "text": [
      "\n"
     ]
    },
    {
     "name": "stdout",
     "output_type": "stream",
     "text": [
      "\n",
      "      Epoch    GPU_mem   box_loss   cls_loss   dfl_loss  Instances       Size\n"
     ]
    },
    {
     "name": "stderr",
     "output_type": "stream",
     "text": [
      "    181/300      2.89G      1.586     0.8494      1.175        127        640: 100%|██████████| 1793/1793 [04:53<00:00,  6.12it/s]\n",
      "                 Class     Images  Instances      Box(P          R      mAP50  mAP50-95): 100%|██████████| 115/115 [00:32<00:00,  3.59it/s]\n"
     ]
    },
    {
     "name": "stdout",
     "output_type": "stream",
     "text": [
      "                   all       1830      18881      0.887      0.792      0.872       0.51\n",
      "\n",
      "      Epoch    GPU_mem   box_loss   cls_loss   dfl_loss  Instances       Size\n"
     ]
    },
    {
     "name": "stderr",
     "output_type": "stream",
     "text": [
      "    182/300      4.03G      1.585     0.8488      1.178        180        640: 100%|██████████| 1793/1793 [04:59<00:00,  5.98it/s]\n",
      "                 Class     Images  Instances      Box(P          R      mAP50  mAP50-95): 100%|██████████| 115/115 [00:28<00:00,  4.01it/s]\n"
     ]
    },
    {
     "name": "stdout",
     "output_type": "stream",
     "text": [
      "                   all       1830      18881      0.886      0.793      0.872       0.51\n",
      "\n",
      "      Epoch    GPU_mem   box_loss   cls_loss   dfl_loss  Instances       Size\n"
     ]
    },
    {
     "name": "stderr",
     "output_type": "stream",
     "text": [
      "    183/300      4.39G      1.587     0.8533      1.181        182        640: 100%|██████████| 1793/1793 [06:51<00:00,  4.35it/s]\n",
      "                 Class     Images  Instances      Box(P          R      mAP50  mAP50-95): 100%|██████████| 115/115 [01:18<00:00,  1.46it/s]"
     ]
    },
    {
     "name": "stdout",
     "output_type": "stream",
     "text": [
      "                   all       1830      18881      0.886      0.793      0.872       0.51\n"
     ]
    },
    {
     "name": "stderr",
     "output_type": "stream",
     "text": [
      "\n"
     ]
    },
    {
     "name": "stdout",
     "output_type": "stream",
     "text": [
      "\n",
      "      Epoch    GPU_mem   box_loss   cls_loss   dfl_loss  Instances       Size\n"
     ]
    },
    {
     "name": "stderr",
     "output_type": "stream",
     "text": [
      "    184/300      3.67G      1.583     0.8478       1.18        133        640: 100%|██████████| 1793/1793 [04:53<00:00,  6.11it/s]\n",
      "                 Class     Images  Instances      Box(P          R      mAP50  mAP50-95): 100%|██████████| 115/115 [00:28<00:00,  4.04it/s]\n"
     ]
    },
    {
     "name": "stdout",
     "output_type": "stream",
     "text": [
      "                   all       1830      18881      0.885      0.794      0.872      0.511\n",
      "\n",
      "      Epoch    GPU_mem   box_loss   cls_loss   dfl_loss  Instances       Size\n"
     ]
    },
    {
     "name": "stderr",
     "output_type": "stream",
     "text": [
      "    185/300      3.31G      1.582     0.8484      1.178        128        640: 100%|██████████| 1793/1793 [04:53<00:00,  6.12it/s]\n",
      "                 Class     Images  Instances      Box(P          R      mAP50  mAP50-95): 100%|██████████| 115/115 [00:46<00:00,  2.49it/s]"
     ]
    },
    {
     "name": "stdout",
     "output_type": "stream",
     "text": [
      "                   all       1830      18881      0.886      0.793      0.872      0.511\n"
     ]
    },
    {
     "name": "stderr",
     "output_type": "stream",
     "text": [
      "\n"
     ]
    },
    {
     "name": "stdout",
     "output_type": "stream",
     "text": [
      "\n",
      "      Epoch    GPU_mem   box_loss   cls_loss   dfl_loss  Instances       Size\n"
     ]
    },
    {
     "name": "stderr",
     "output_type": "stream",
     "text": [
      "    186/300      2.88G      1.581     0.8499      1.175        108        640: 100%|██████████| 1793/1793 [04:55<00:00,  6.08it/s]\n",
      "                 Class     Images  Instances      Box(P          R      mAP50  mAP50-95): 100%|██████████| 115/115 [00:26<00:00,  4.36it/s]\n"
     ]
    },
    {
     "name": "stdout",
     "output_type": "stream",
     "text": [
      "                   all       1830      18881      0.886      0.793      0.872       0.51\n",
      "\n",
      "      Epoch    GPU_mem   box_loss   cls_loss   dfl_loss  Instances       Size\n"
     ]
    },
    {
     "name": "stderr",
     "output_type": "stream",
     "text": [
      "    187/300      4.31G      1.586     0.8504      1.178         77        640: 100%|██████████| 1793/1793 [04:58<00:00,  6.00it/s]\n",
      "                 Class     Images  Instances      Box(P          R      mAP50  mAP50-95): 100%|██████████| 115/115 [00:44<00:00,  2.57it/s]"
     ]
    },
    {
     "name": "stdout",
     "output_type": "stream",
     "text": [
      "                   all       1830      18881      0.887      0.792      0.872      0.511\n"
     ]
    },
    {
     "name": "stderr",
     "output_type": "stream",
     "text": [
      "\n"
     ]
    },
    {
     "name": "stdout",
     "output_type": "stream",
     "text": [
      "\n",
      "      Epoch    GPU_mem   box_loss   cls_loss   dfl_loss  Instances       Size\n"
     ]
    },
    {
     "name": "stderr",
     "output_type": "stream",
     "text": [
      "    188/300      3.91G       1.58     0.8503      1.177        160        640: 100%|██████████| 1793/1793 [05:02<00:00,  5.92it/s]\n",
      "                 Class     Images  Instances      Box(P          R      mAP50  mAP50-95): 100%|██████████| 115/115 [00:28<00:00,  4.02it/s]\n"
     ]
    },
    {
     "name": "stdout",
     "output_type": "stream",
     "text": [
      "                   all       1830      18881      0.886      0.793      0.872      0.511\n",
      "\n",
      "      Epoch    GPU_mem   box_loss   cls_loss   dfl_loss  Instances       Size\n"
     ]
    },
    {
     "name": "stderr",
     "output_type": "stream",
     "text": [
      "    189/300      3.31G      1.575     0.8434      1.172        223        640: 100%|██████████| 1793/1793 [04:42<00:00,  6.35it/s]\n",
      "                 Class     Images  Instances      Box(P          R      mAP50  mAP50-95): 100%|██████████| 115/115 [00:43<00:00,  2.63it/s]\n"
     ]
    },
    {
     "name": "stdout",
     "output_type": "stream",
     "text": [
      "                   all       1830      18881      0.886      0.793      0.872      0.511\n",
      "\n",
      "      Epoch    GPU_mem   box_loss   cls_loss   dfl_loss  Instances       Size\n"
     ]
    },
    {
     "name": "stderr",
     "output_type": "stream",
     "text": [
      "    190/300      3.86G      1.575     0.8443      1.176        265        640: 100%|██████████| 1793/1793 [04:52<00:00,  6.14it/s]\n",
      "                 Class     Images  Instances      Box(P          R      mAP50  mAP50-95): 100%|██████████| 115/115 [00:28<00:00,  4.04it/s]"
     ]
    },
    {
     "name": "stdout",
     "output_type": "stream",
     "text": [
      "                   all       1830      18881      0.887      0.793      0.872      0.511\n"
     ]
    },
    {
     "name": "stderr",
     "output_type": "stream",
     "text": [
      "\n"
     ]
    },
    {
     "name": "stdout",
     "output_type": "stream",
     "text": [
      "\n",
      "      Epoch    GPU_mem   box_loss   cls_loss   dfl_loss  Instances       Size\n"
     ]
    },
    {
     "name": "stderr",
     "output_type": "stream",
     "text": [
      "    191/300      2.82G      1.576     0.8452      1.175        103        640: 100%|██████████| 1793/1793 [04:52<00:00,  6.13it/s]\n",
      "                 Class     Images  Instances      Box(P          R      mAP50  mAP50-95): 100%|██████████| 115/115 [00:26<00:00,  4.38it/s]\n"
     ]
    },
    {
     "name": "stdout",
     "output_type": "stream",
     "text": [
      "                   all       1830      18881      0.888      0.792      0.872      0.511\n",
      "\n",
      "      Epoch    GPU_mem   box_loss   cls_loss   dfl_loss  Instances       Size\n"
     ]
    },
    {
     "name": "stderr",
     "output_type": "stream",
     "text": [
      "    192/300      3.61G       1.58     0.8456      1.176        227        640: 100%|██████████| 1793/1793 [04:51<00:00,  6.16it/s]\n",
      "                 Class     Images  Instances      Box(P          R      mAP50  mAP50-95): 100%|██████████| 115/115 [00:42<00:00,  2.73it/s]"
     ]
    },
    {
     "name": "stdout",
     "output_type": "stream",
     "text": [
      "                   all       1830      18881      0.886      0.793      0.872      0.511\n"
     ]
    },
    {
     "name": "stderr",
     "output_type": "stream",
     "text": [
      "\n"
     ]
    },
    {
     "name": "stdout",
     "output_type": "stream",
     "text": [
      "\n",
      "      Epoch    GPU_mem   box_loss   cls_loss   dfl_loss  Instances       Size\n"
     ]
    },
    {
     "name": "stderr",
     "output_type": "stream",
     "text": [
      "    193/300      4.36G      1.575     0.8432      1.176        150        640: 100%|██████████| 1793/1793 [04:56<00:00,  6.05it/s]\n",
      "                 Class     Images  Instances      Box(P          R      mAP50  mAP50-95): 100%|██████████| 115/115 [00:28<00:00,  4.08it/s]\n"
     ]
    },
    {
     "name": "stdout",
     "output_type": "stream",
     "text": [
      "                   all       1830      18881      0.886      0.794      0.872      0.512\n",
      "\n",
      "      Epoch    GPU_mem   box_loss   cls_loss   dfl_loss  Instances       Size\n"
     ]
    },
    {
     "name": "stderr",
     "output_type": "stream",
     "text": [
      "    194/300      3.95G      1.584     0.8496      1.176        181        640: 100%|██████████| 1793/1793 [08:02<00:00,  3.72it/s]\n",
      "                 Class     Images  Instances      Box(P          R      mAP50  mAP50-95): 100%|██████████| 115/115 [01:00<00:00,  1.89it/s]\n"
     ]
    },
    {
     "name": "stdout",
     "output_type": "stream",
     "text": [
      "                   all       1830      18881      0.886      0.794      0.872      0.512\n",
      "\n",
      "      Epoch    GPU_mem   box_loss   cls_loss   dfl_loss  Instances       Size\n"
     ]
    },
    {
     "name": "stderr",
     "output_type": "stream",
     "text": [
      "    195/300      3.54G      1.575       0.84      1.174        214        640: 100%|██████████| 1793/1793 [04:52<00:00,  6.13it/s]\n",
      "                 Class     Images  Instances      Box(P          R      mAP50  mAP50-95): 100%|██████████| 115/115 [00:27<00:00,  4.25it/s]\n"
     ]
    },
    {
     "name": "stdout",
     "output_type": "stream",
     "text": [
      "                   all       1830      18881      0.887      0.794      0.873      0.512\n",
      "\n",
      "      Epoch    GPU_mem   box_loss   cls_loss   dfl_loss  Instances       Size\n"
     ]
    },
    {
     "name": "stderr",
     "output_type": "stream",
     "text": [
      "    196/300      3.62G       1.58     0.8455      1.177        118        640: 100%|██████████| 1793/1793 [04:50<00:00,  6.18it/s]\n",
      "                 Class     Images  Instances      Box(P          R      mAP50  mAP50-95): 100%|██████████| 115/115 [00:51<00:00,  2.24it/s]\n"
     ]
    },
    {
     "name": "stdout",
     "output_type": "stream",
     "text": [
      "                   all       1830      18881      0.888      0.793      0.872      0.512\n",
      "\n",
      "      Epoch    GPU_mem   box_loss   cls_loss   dfl_loss  Instances       Size\n"
     ]
    },
    {
     "name": "stderr",
     "output_type": "stream",
     "text": [
      "    197/300       3.2G      1.573       0.84      1.173         82        640: 100%|██████████| 1793/1793 [04:50<00:00,  6.17it/s]\n",
      "                 Class     Images  Instances      Box(P          R      mAP50  mAP50-95): 100%|██████████| 115/115 [00:26<00:00,  4.35it/s]\n"
     ]
    },
    {
     "name": "stdout",
     "output_type": "stream",
     "text": [
      "                   all       1830      18881      0.887      0.794      0.873      0.512\n",
      "\n",
      "      Epoch    GPU_mem   box_loss   cls_loss   dfl_loss  Instances       Size\n"
     ]
    },
    {
     "name": "stderr",
     "output_type": "stream",
     "text": [
      "    198/300      4.46G      1.578     0.8408      1.176        208        640: 100%|██████████| 1793/1793 [04:54<00:00,  6.09it/s]\n",
      "                 Class     Images  Instances      Box(P          R      mAP50  mAP50-95): 100%|██████████| 115/115 [00:53<00:00,  2.17it/s]"
     ]
    },
    {
     "name": "stdout",
     "output_type": "stream",
     "text": [
      "                   all       1830      18881      0.888      0.794      0.873      0.512\n"
     ]
    },
    {
     "name": "stderr",
     "output_type": "stream",
     "text": [
      "\n"
     ]
    },
    {
     "name": "stdout",
     "output_type": "stream",
     "text": [
      "\n",
      "      Epoch    GPU_mem   box_loss   cls_loss   dfl_loss  Instances       Size\n"
     ]
    },
    {
     "name": "stderr",
     "output_type": "stream",
     "text": [
      "    199/300      4.47G       1.57     0.8393      1.172        167        640: 100%|██████████| 1793/1793 [04:51<00:00,  6.14it/s]\n",
      "                 Class     Images  Instances      Box(P          R      mAP50  mAP50-95): 100%|██████████| 115/115 [00:28<00:00,  3.99it/s]\n"
     ]
    },
    {
     "name": "stdout",
     "output_type": "stream",
     "text": [
      "                   all       1830      18881      0.888      0.794      0.873      0.513\n",
      "\n",
      "      Epoch    GPU_mem   box_loss   cls_loss   dfl_loss  Instances       Size\n"
     ]
    },
    {
     "name": "stderr",
     "output_type": "stream",
     "text": [
      "    200/300      3.32G      1.569     0.8367      1.172         96        640: 100%|██████████| 1793/1793 [04:50<00:00,  6.17it/s]\n",
      "                 Class     Images  Instances      Box(P          R      mAP50  mAP50-95): 100%|██████████| 115/115 [00:54<00:00,  2.13it/s]"
     ]
    },
    {
     "name": "stdout",
     "output_type": "stream",
     "text": [
      "                   all       1830      18881      0.889      0.795      0.873      0.513\n"
     ]
    },
    {
     "name": "stderr",
     "output_type": "stream",
     "text": [
      "\n"
     ]
    },
    {
     "name": "stdout",
     "output_type": "stream",
     "text": [
      "\n",
      "      Epoch    GPU_mem   box_loss   cls_loss   dfl_loss  Instances       Size\n"
     ]
    },
    {
     "name": "stderr",
     "output_type": "stream",
     "text": [
      "    201/300      3.41G      1.574     0.8425      1.174        113        640: 100%|██████████| 1793/1793 [04:49<00:00,  6.19it/s]\n",
      "                 Class     Images  Instances      Box(P          R      mAP50  mAP50-95): 100%|██████████| 115/115 [00:26<00:00,  4.30it/s]\n"
     ]
    },
    {
     "name": "stdout",
     "output_type": "stream",
     "text": [
      "                   all       1830      18881      0.889      0.795      0.873      0.513\n",
      "\n",
      "      Epoch    GPU_mem   box_loss   cls_loss   dfl_loss  Instances       Size\n"
     ]
    },
    {
     "name": "stderr",
     "output_type": "stream",
     "text": [
      "    202/300      3.39G      1.573     0.8453      1.175        123        640: 100%|██████████| 1793/1793 [04:52<00:00,  6.13it/s]\n",
      "                 Class     Images  Instances      Box(P          R      mAP50  mAP50-95): 100%|██████████| 115/115 [00:50<00:00,  2.29it/s]\n"
     ]
    },
    {
     "name": "stdout",
     "output_type": "stream",
     "text": [
      "                   all       1830      18881       0.89      0.795      0.873      0.513\n",
      "\n",
      "      Epoch    GPU_mem   box_loss   cls_loss   dfl_loss  Instances       Size\n"
     ]
    },
    {
     "name": "stderr",
     "output_type": "stream",
     "text": [
      "    203/300      3.11G       1.57     0.8365       1.17        244        640: 100%|██████████| 1793/1793 [04:56<00:00,  6.04it/s]\n",
      "                 Class     Images  Instances      Box(P          R      mAP50  mAP50-95): 100%|██████████| 115/115 [00:25<00:00,  4.43it/s]"
     ]
    },
    {
     "name": "stdout",
     "output_type": "stream",
     "text": [
      "                   all       1830      18881      0.889      0.795      0.873      0.513\n"
     ]
    },
    {
     "name": "stderr",
     "output_type": "stream",
     "text": [
      "\n"
     ]
    },
    {
     "name": "stdout",
     "output_type": "stream",
     "text": [
      "\n",
      "      Epoch    GPU_mem   box_loss   cls_loss   dfl_loss  Instances       Size\n"
     ]
    },
    {
     "name": "stderr",
     "output_type": "stream",
     "text": [
      "    204/300      3.74G      1.578     0.8445      1.173        141        640: 100%|██████████| 1793/1793 [04:40<00:00,  6.39it/s]\n",
      "                 Class     Images  Instances      Box(P          R      mAP50  mAP50-95): 100%|██████████| 115/115 [00:54<00:00,  2.13it/s]"
     ]
    },
    {
     "name": "stdout",
     "output_type": "stream",
     "text": [
      "                   all       1830      18881      0.889      0.796      0.873      0.513\n"
     ]
    },
    {
     "name": "stderr",
     "output_type": "stream",
     "text": [
      "\n"
     ]
    },
    {
     "name": "stdout",
     "output_type": "stream",
     "text": [
      "\n",
      "      Epoch    GPU_mem   box_loss   cls_loss   dfl_loss  Instances       Size\n"
     ]
    },
    {
     "name": "stderr",
     "output_type": "stream",
     "text": [
      "    205/300      2.76G      1.573     0.8396      1.173        186        640: 100%|██████████| 1793/1793 [04:49<00:00,  6.19it/s]\n",
      "                 Class     Images  Instances      Box(P          R      mAP50  mAP50-95): 100%|██████████| 115/115 [00:26<00:00,  4.35it/s]\n"
     ]
    },
    {
     "name": "stdout",
     "output_type": "stream",
     "text": [
      "                   all       1830      18881      0.889      0.795      0.874      0.514\n",
      "\n",
      "      Epoch    GPU_mem   box_loss   cls_loss   dfl_loss  Instances       Size\n"
     ]
    },
    {
     "name": "stderr",
     "output_type": "stream",
     "text": [
      "    206/300      3.87G      1.567     0.8377      1.172        177        640: 100%|██████████| 1793/1793 [07:39<00:00,  3.91it/s]\n",
      "                 Class     Images  Instances      Box(P          R      mAP50  mAP50-95): 100%|██████████| 115/115 [00:48<00:00,  2.35it/s]\n"
     ]
    },
    {
     "name": "stdout",
     "output_type": "stream",
     "text": [
      "                   all       1830      18881       0.89      0.795      0.874      0.514\n",
      "\n",
      "      Epoch    GPU_mem   box_loss   cls_loss   dfl_loss  Instances       Size\n"
     ]
    },
    {
     "name": "stderr",
     "output_type": "stream",
     "text": [
      "    207/300      3.14G      1.568     0.8364      1.169        183        640: 100%|██████████| 1793/1793 [04:50<00:00,  6.18it/s]\n",
      "                 Class     Images  Instances      Box(P          R      mAP50  mAP50-95): 100%|██████████| 115/115 [00:27<00:00,  4.18it/s]\n"
     ]
    },
    {
     "name": "stdout",
     "output_type": "stream",
     "text": [
      "                   all       1830      18881      0.889      0.796      0.874      0.514\n",
      "\n",
      "      Epoch    GPU_mem   box_loss   cls_loss   dfl_loss  Instances       Size\n"
     ]
    },
    {
     "name": "stderr",
     "output_type": "stream",
     "text": [
      "    208/300      3.16G      1.569     0.8384      1.172        251        640: 100%|██████████| 1793/1793 [04:56<00:00,  6.04it/s]\n",
      "                 Class     Images  Instances      Box(P          R      mAP50  mAP50-95): 100%|██████████| 115/115 [00:40<00:00,  2.81it/s]\n"
     ]
    },
    {
     "name": "stdout",
     "output_type": "stream",
     "text": [
      "                   all       1830      18881       0.89      0.795      0.874      0.514\n",
      "\n",
      "      Epoch    GPU_mem   box_loss   cls_loss   dfl_loss  Instances       Size\n"
     ]
    },
    {
     "name": "stderr",
     "output_type": "stream",
     "text": [
      "    209/300      3.07G      1.568     0.8374      1.172        149        640: 100%|██████████| 1793/1793 [04:53<00:00,  6.10it/s]\n",
      "                 Class     Images  Instances      Box(P          R      mAP50  mAP50-95): 100%|██████████| 115/115 [00:24<00:00,  4.71it/s]\n"
     ]
    },
    {
     "name": "stdout",
     "output_type": "stream",
     "text": [
      "                   all       1830      18881       0.89      0.794      0.874      0.514\n",
      "\n",
      "      Epoch    GPU_mem   box_loss   cls_loss   dfl_loss  Instances       Size\n"
     ]
    },
    {
     "name": "stderr",
     "output_type": "stream",
     "text": [
      "    210/300         3G      1.566     0.8363       1.17        201        640: 100%|██████████| 1793/1793 [04:58<00:00,  6.01it/s]\n",
      "                 Class     Images  Instances      Box(P          R      mAP50  mAP50-95): 100%|██████████| 115/115 [00:47<00:00,  2.43it/s]"
     ]
    },
    {
     "name": "stdout",
     "output_type": "stream",
     "text": [
      "                   all       1830      18881       0.89      0.795      0.874      0.515\n"
     ]
    },
    {
     "name": "stderr",
     "output_type": "stream",
     "text": [
      "\n"
     ]
    },
    {
     "name": "stdout",
     "output_type": "stream",
     "text": [
      "\n",
      "      Epoch    GPU_mem   box_loss   cls_loss   dfl_loss  Instances       Size\n"
     ]
    },
    {
     "name": "stderr",
     "output_type": "stream",
     "text": [
      "    211/300      3.79G      1.569     0.8417      1.173        140        640: 100%|██████████| 1793/1793 [04:50<00:00,  6.18it/s]\n",
      "                 Class     Images  Instances      Box(P          R      mAP50  mAP50-95): 100%|██████████| 115/115 [00:28<00:00,  4.08it/s]\n"
     ]
    },
    {
     "name": "stdout",
     "output_type": "stream",
     "text": [
      "                   all       1830      18881      0.891      0.795      0.874      0.515\n",
      "\n",
      "      Epoch    GPU_mem   box_loss   cls_loss   dfl_loss  Instances       Size\n"
     ]
    },
    {
     "name": "stderr",
     "output_type": "stream",
     "text": [
      "    212/300      3.71G      1.567     0.8357      1.171        113        640: 100%|██████████| 1793/1793 [04:50<00:00,  6.17it/s]\n",
      "                 Class     Images  Instances      Box(P          R      mAP50  mAP50-95): 100%|██████████| 115/115 [00:28<00:00,  4.10it/s]\n"
     ]
    },
    {
     "name": "stdout",
     "output_type": "stream",
     "text": [
      "                   all       1830      18881      0.891      0.795      0.874      0.515\n",
      "\n",
      "      Epoch    GPU_mem   box_loss   cls_loss   dfl_loss  Instances       Size\n"
     ]
    },
    {
     "name": "stderr",
     "output_type": "stream",
     "text": [
      "    213/300       3.7G      1.566     0.8343       1.17        165        640: 100%|██████████| 1793/1793 [04:53<00:00,  6.10it/s]\n",
      "                 Class     Images  Instances      Box(P          R      mAP50  mAP50-95): 100%|██████████| 115/115 [01:00<00:00,  1.89it/s]"
     ]
    },
    {
     "name": "stdout",
     "output_type": "stream",
     "text": [
      "                   all       1830      18881      0.891      0.796      0.874      0.515\n"
     ]
    },
    {
     "name": "stderr",
     "output_type": "stream",
     "text": [
      "\n"
     ]
    },
    {
     "name": "stdout",
     "output_type": "stream",
     "text": [
      "\n",
      "      Epoch    GPU_mem   box_loss   cls_loss   dfl_loss  Instances       Size\n"
     ]
    },
    {
     "name": "stderr",
     "output_type": "stream",
     "text": [
      "    214/300      3.82G      1.568     0.8352       1.17        181        640: 100%|██████████| 1793/1793 [04:50<00:00,  6.17it/s]\n",
      "                 Class     Images  Instances      Box(P          R      mAP50  mAP50-95): 100%|██████████| 115/115 [00:47<00:00,  2.40it/s]\n"
     ]
    },
    {
     "name": "stdout",
     "output_type": "stream",
     "text": [
      "                   all       1830      18881      0.892      0.795      0.875      0.515\n",
      "\n",
      "      Epoch    GPU_mem   box_loss   cls_loss   dfl_loss  Instances       Size\n"
     ]
    },
    {
     "name": "stderr",
     "output_type": "stream",
     "text": [
      "    215/300      3.51G      1.559     0.8324      1.169        144        640: 100%|██████████| 1793/1793 [04:59<00:00,  5.98it/s]\n",
      "                 Class     Images  Instances      Box(P          R      mAP50  mAP50-95): 100%|██████████| 115/115 [00:27<00:00,  4.14it/s]\n"
     ]
    },
    {
     "name": "stdout",
     "output_type": "stream",
     "text": [
      "                   all       1830      18881      0.892      0.795      0.874      0.515\n",
      "\n",
      "      Epoch    GPU_mem   box_loss   cls_loss   dfl_loss  Instances       Size\n"
     ]
    },
    {
     "name": "stderr",
     "output_type": "stream",
     "text": [
      "    216/300      3.45G      1.567     0.8357      1.168        104        640: 100%|██████████| 1793/1793 [04:46<00:00,  6.26it/s]\n",
      "                 Class     Images  Instances      Box(P          R      mAP50  mAP50-95): 100%|██████████| 115/115 [00:45<00:00,  2.52it/s]"
     ]
    },
    {
     "name": "stdout",
     "output_type": "stream",
     "text": [
      "                   all       1830      18881      0.891      0.795      0.874      0.515\n"
     ]
    },
    {
     "name": "stderr",
     "output_type": "stream",
     "text": [
      "\n"
     ]
    },
    {
     "name": "stdout",
     "output_type": "stream",
     "text": [
      "\n",
      "      Epoch    GPU_mem   box_loss   cls_loss   dfl_loss  Instances       Size\n"
     ]
    },
    {
     "name": "stderr",
     "output_type": "stream",
     "text": [
      "    217/300      4.41G      1.562     0.8312      1.167        189        640: 100%|██████████| 1793/1793 [05:17<00:00,  5.66it/s]\n",
      "                 Class     Images  Instances      Box(P          R      mAP50  mAP50-95): 100%|██████████| 115/115 [00:29<00:00,  3.85it/s]\n"
     ]
    },
    {
     "name": "stdout",
     "output_type": "stream",
     "text": [
      "                   all       1830      18881      0.891      0.796      0.875      0.515\n",
      "\n",
      "      Epoch    GPU_mem   box_loss   cls_loss   dfl_loss  Instances       Size\n"
     ]
    },
    {
     "name": "stderr",
     "output_type": "stream",
     "text": [
      "    218/300      3.01G      1.564      0.835      1.167        134        640: 100%|██████████| 1793/1793 [05:03<00:00,  5.91it/s]\n",
      "                 Class     Images  Instances      Box(P          R      mAP50  mAP50-95): 100%|██████████| 115/115 [00:40<00:00,  2.81it/s]\n"
     ]
    },
    {
     "name": "stdout",
     "output_type": "stream",
     "text": [
      "                   all       1830      18881      0.891      0.795      0.874      0.516\n",
      "\n",
      "      Epoch    GPU_mem   box_loss   cls_loss   dfl_loss  Instances       Size\n"
     ]
    },
    {
     "name": "stderr",
     "output_type": "stream",
     "text": [
      "    219/300      5.05G      1.556     0.8303      1.166        101        640: 100%|██████████| 1793/1793 [05:04<00:00,  5.89it/s]\n",
      "                 Class     Images  Instances      Box(P          R      mAP50  mAP50-95): 100%|██████████| 115/115 [00:29<00:00,  3.86it/s]\n"
     ]
    },
    {
     "name": "stdout",
     "output_type": "stream",
     "text": [
      "                   all       1830      18881      0.891      0.796      0.875      0.516\n",
      "\n",
      "      Epoch    GPU_mem   box_loss   cls_loss   dfl_loss  Instances       Size\n"
     ]
    },
    {
     "name": "stderr",
     "output_type": "stream",
     "text": [
      "    220/300      4.33G      1.559     0.8291      1.166        172        640: 100%|██████████| 1793/1793 [14:30<00:00,  2.06it/s]\n",
      "                 Class     Images  Instances      Box(P          R      mAP50  mAP50-95): 100%|██████████| 115/115 [01:40<00:00,  1.15it/s]"
     ]
    },
    {
     "name": "stdout",
     "output_type": "stream",
     "text": [
      "                   all       1830      18881      0.892      0.795      0.875      0.516\n"
     ]
    },
    {
     "name": "stderr",
     "output_type": "stream",
     "text": [
      "\n"
     ]
    },
    {
     "name": "stdout",
     "output_type": "stream",
     "text": [
      "\n",
      "      Epoch    GPU_mem   box_loss   cls_loss   dfl_loss  Instances       Size\n"
     ]
    },
    {
     "name": "stderr",
     "output_type": "stream",
     "text": [
      "    221/300      3.45G      1.564     0.8369      1.171        208        640: 100%|██████████| 1793/1793 [04:55<00:00,  6.07it/s]\n",
      "                 Class     Images  Instances      Box(P          R      mAP50  mAP50-95): 100%|██████████| 115/115 [00:47<00:00,  2.40it/s]"
     ]
    },
    {
     "name": "stdout",
     "output_type": "stream",
     "text": [
      "                   all       1830      18881      0.892      0.796      0.875      0.517\n"
     ]
    },
    {
     "name": "stderr",
     "output_type": "stream",
     "text": [
      "\n"
     ]
    },
    {
     "name": "stdout",
     "output_type": "stream",
     "text": [
      "\n",
      "      Epoch    GPU_mem   box_loss   cls_loss   dfl_loss  Instances       Size\n"
     ]
    },
    {
     "name": "stderr",
     "output_type": "stream",
     "text": [
      "    222/300      3.36G       1.56     0.8284      1.168        207        640: 100%|██████████| 1793/1793 [04:52<00:00,  6.14it/s]\n",
      "                 Class     Images  Instances      Box(P          R      mAP50  mAP50-95): 100%|██████████| 115/115 [00:26<00:00,  4.33it/s]\n"
     ]
    },
    {
     "name": "stdout",
     "output_type": "stream",
     "text": [
      "                   all       1830      18881      0.893      0.794      0.875      0.517\n",
      "\n",
      "      Epoch    GPU_mem   box_loss   cls_loss   dfl_loss  Instances       Size\n"
     ]
    },
    {
     "name": "stderr",
     "output_type": "stream",
     "text": [
      "    223/300      3.34G      1.559     0.8274      1.167        185        640: 100%|██████████| 1793/1793 [04:50<00:00,  6.18it/s]\n",
      "                 Class     Images  Instances      Box(P          R      mAP50  mAP50-95): 100%|██████████| 115/115 [00:51<00:00,  2.23it/s]"
     ]
    },
    {
     "name": "stdout",
     "output_type": "stream",
     "text": [
      "                   all       1830      18881      0.891      0.795      0.875      0.517\n"
     ]
    },
    {
     "name": "stderr",
     "output_type": "stream",
     "text": [
      "\n"
     ]
    },
    {
     "name": "stdout",
     "output_type": "stream",
     "text": [
      "\n",
      "      Epoch    GPU_mem   box_loss   cls_loss   dfl_loss  Instances       Size\n"
     ]
    },
    {
     "name": "stderr",
     "output_type": "stream",
     "text": [
      "    224/300      2.95G      1.561     0.8326      1.168        239        640: 100%|██████████| 1793/1793 [04:53<00:00,  6.12it/s]\n",
      "                 Class     Images  Instances      Box(P          R      mAP50  mAP50-95): 100%|██████████| 115/115 [00:26<00:00,  4.35it/s]\n"
     ]
    },
    {
     "name": "stdout",
     "output_type": "stream",
     "text": [
      "                   all       1830      18881      0.891      0.796      0.875      0.517\n",
      "\n",
      "      Epoch    GPU_mem   box_loss   cls_loss   dfl_loss  Instances       Size\n"
     ]
    },
    {
     "name": "stderr",
     "output_type": "stream",
     "text": [
      "    225/300      3.24G      1.559     0.8329      1.169        232        640: 100%|██████████| 1793/1793 [04:50<00:00,  6.18it/s]\n",
      "                 Class     Images  Instances      Box(P          R      mAP50  mAP50-95): 100%|██████████| 115/115 [00:46<00:00,  2.45it/s]"
     ]
    },
    {
     "name": "stdout",
     "output_type": "stream",
     "text": [
      "                   all       1830      18881      0.893      0.795      0.875      0.517\n"
     ]
    },
    {
     "name": "stderr",
     "output_type": "stream",
     "text": [
      "\n"
     ]
    },
    {
     "name": "stdout",
     "output_type": "stream",
     "text": [
      "\n",
      "      Epoch    GPU_mem   box_loss   cls_loss   dfl_loss  Instances       Size\n"
     ]
    },
    {
     "name": "stderr",
     "output_type": "stream",
     "text": [
      "    226/300      4.81G      1.555     0.8271      1.167         65        640: 100%|██████████| 1793/1793 [04:58<00:00,  6.01it/s]\n",
      "                 Class     Images  Instances      Box(P          R      mAP50  mAP50-95): 100%|██████████| 115/115 [00:27<00:00,  4.22it/s]\n"
     ]
    },
    {
     "name": "stdout",
     "output_type": "stream",
     "text": [
      "                   all       1830      18881      0.893      0.795      0.875      0.517\n",
      "\n",
      "      Epoch    GPU_mem   box_loss   cls_loss   dfl_loss  Instances       Size\n"
     ]
    },
    {
     "name": "stderr",
     "output_type": "stream",
     "text": [
      "    227/300      3.18G      1.563     0.8312      1.169         82        640: 100%|██████████| 1793/1793 [04:51<00:00,  6.16it/s]\n",
      "                 Class     Images  Instances      Box(P          R      mAP50  mAP50-95): 100%|██████████| 115/115 [00:49<00:00,  2.34it/s]"
     ]
    },
    {
     "name": "stdout",
     "output_type": "stream",
     "text": [
      "                   all       1830      18881      0.893      0.796      0.875      0.517\n"
     ]
    },
    {
     "name": "stderr",
     "output_type": "stream",
     "text": [
      "\n"
     ]
    },
    {
     "name": "stdout",
     "output_type": "stream",
     "text": [
      "\n",
      "      Epoch    GPU_mem   box_loss   cls_loss   dfl_loss  Instances       Size\n"
     ]
    },
    {
     "name": "stderr",
     "output_type": "stream",
     "text": [
      "    228/300      4.85G      1.563     0.8302      1.166        309        640: 100%|██████████| 1793/1793 [05:01<00:00,  5.94it/s]\n",
      "                 Class     Images  Instances      Box(P          R      mAP50  mAP50-95): 100%|██████████| 115/115 [00:28<00:00,  4.10it/s]\n"
     ]
    },
    {
     "name": "stdout",
     "output_type": "stream",
     "text": [
      "                   all       1830      18881      0.894      0.795      0.875      0.518\n",
      "\n",
      "      Epoch    GPU_mem   box_loss   cls_loss   dfl_loss  Instances       Size\n"
     ]
    },
    {
     "name": "stderr",
     "output_type": "stream",
     "text": [
      "    229/300      4.39G       1.56     0.8297      1.167        134        640: 100%|██████████| 1793/1793 [13:48<00:00,  2.16it/s]\n",
      "                 Class     Images  Instances      Box(P          R      mAP50  mAP50-95): 100%|██████████| 115/115 [01:09<00:00,  1.66it/s]"
     ]
    },
    {
     "name": "stdout",
     "output_type": "stream",
     "text": [
      "                   all       1830      18881      0.892      0.795      0.875      0.517\n"
     ]
    },
    {
     "name": "stderr",
     "output_type": "stream",
     "text": [
      "\n"
     ]
    },
    {
     "name": "stdout",
     "output_type": "stream",
     "text": [
      "\n",
      "      Epoch    GPU_mem   box_loss   cls_loss   dfl_loss  Instances       Size\n"
     ]
    },
    {
     "name": "stderr",
     "output_type": "stream",
     "text": [
      "    230/300      3.73G      1.559     0.8279      1.166        159        640: 100%|██████████| 1793/1793 [04:54<00:00,  6.08it/s]\n",
      "                 Class     Images  Instances      Box(P          R      mAP50  mAP50-95): 100%|██████████| 115/115 [00:27<00:00,  4.14it/s]\n"
     ]
    },
    {
     "name": "stdout",
     "output_type": "stream",
     "text": [
      "                   all       1830      18881      0.893      0.795      0.876      0.518\n",
      "\n",
      "      Epoch    GPU_mem   box_loss   cls_loss   dfl_loss  Instances       Size\n"
     ]
    },
    {
     "name": "stderr",
     "output_type": "stream",
     "text": [
      "    231/300      3.06G      1.552     0.8252      1.165         99        640: 100%|██████████| 1793/1793 [04:58<00:00,  6.01it/s]\n",
      "                 Class     Images  Instances      Box(P          R      mAP50  mAP50-95): 100%|██████████| 115/115 [00:38<00:00,  2.98it/s]\n"
     ]
    },
    {
     "name": "stdout",
     "output_type": "stream",
     "text": [
      "                   all       1830      18881      0.893      0.795      0.875      0.518\n",
      "\n",
      "      Epoch    GPU_mem   box_loss   cls_loss   dfl_loss  Instances       Size\n"
     ]
    },
    {
     "name": "stderr",
     "output_type": "stream",
     "text": [
      "    232/300      3.11G      1.557     0.8268      1.163        118        640: 100%|██████████| 1793/1793 [04:40<00:00,  6.39it/s]\n",
      "                 Class     Images  Instances      Box(P          R      mAP50  mAP50-95): 100%|██████████| 115/115 [00:26<00:00,  4.41it/s]"
     ]
    },
    {
     "name": "stdout",
     "output_type": "stream",
     "text": [
      "                   all       1830      18881      0.893      0.795      0.876      0.518\n"
     ]
    },
    {
     "name": "stderr",
     "output_type": "stream",
     "text": [
      "\n"
     ]
    },
    {
     "name": "stdout",
     "output_type": "stream",
     "text": [
      "\n",
      "      Epoch    GPU_mem   box_loss   cls_loss   dfl_loss  Instances       Size\n"
     ]
    },
    {
     "name": "stderr",
     "output_type": "stream",
     "text": [
      "    233/300      4.29G      1.557     0.8285      1.167        216        640: 100%|██████████| 1793/1793 [16:24<00:00,  1.82it/s]\n",
      "                 Class     Images  Instances      Box(P          R      mAP50  mAP50-95): 100%|██████████| 115/115 [01:21<00:00,  1.40it/s]"
     ]
    },
    {
     "name": "stdout",
     "output_type": "stream",
     "text": [
      "                   all       1830      18881      0.893      0.796      0.876      0.518\n"
     ]
    },
    {
     "name": "stderr",
     "output_type": "stream",
     "text": [
      "\n"
     ]
    },
    {
     "name": "stdout",
     "output_type": "stream",
     "text": [
      "\n",
      "      Epoch    GPU_mem   box_loss   cls_loss   dfl_loss  Instances       Size\n"
     ]
    },
    {
     "name": "stderr",
     "output_type": "stream",
     "text": [
      "    234/300      3.62G      1.559      0.826      1.161        259        640: 100%|██████████| 1793/1793 [04:52<00:00,  6.14it/s]\n",
      "                 Class     Images  Instances      Box(P          R      mAP50  mAP50-95): 100%|██████████| 115/115 [00:28<00:00,  4.05it/s]\n"
     ]
    },
    {
     "name": "stdout",
     "output_type": "stream",
     "text": [
      "                   all       1830      18881      0.894      0.796      0.876      0.518\n",
      "\n",
      "      Epoch    GPU_mem   box_loss   cls_loss   dfl_loss  Instances       Size\n"
     ]
    },
    {
     "name": "stderr",
     "output_type": "stream",
     "text": [
      "    235/300      3.25G       1.55     0.8203      1.164        190        640: 100%|██████████| 1793/1793 [04:50<00:00,  6.18it/s]\n",
      "                 Class     Images  Instances      Box(P          R      mAP50  mAP50-95): 100%|██████████| 115/115 [00:38<00:00,  2.99it/s]"
     ]
    },
    {
     "name": "stdout",
     "output_type": "stream",
     "text": [
      "                   all       1830      18881      0.893      0.797      0.876      0.518\n"
     ]
    },
    {
     "name": "stderr",
     "output_type": "stream",
     "text": [
      "\n"
     ]
    },
    {
     "name": "stdout",
     "output_type": "stream",
     "text": [
      "\n",
      "      Epoch    GPU_mem   box_loss   cls_loss   dfl_loss  Instances       Size\n"
     ]
    },
    {
     "name": "stderr",
     "output_type": "stream",
     "text": [
      "    236/300      3.51G      1.558      0.831      1.167        232        640: 100%|██████████| 1793/1793 [04:50<00:00,  6.18it/s]\n",
      "                 Class     Images  Instances      Box(P          R      mAP50  mAP50-95): 100%|██████████| 115/115 [00:27<00:00,  4.17it/s]\n"
     ]
    },
    {
     "name": "stdout",
     "output_type": "stream",
     "text": [
      "                   all       1830      18881      0.893      0.797      0.877      0.518\n",
      "\n",
      "      Epoch    GPU_mem   box_loss   cls_loss   dfl_loss  Instances       Size\n"
     ]
    },
    {
     "name": "stderr",
     "output_type": "stream",
     "text": [
      "    237/300      4.35G      1.558     0.8259      1.165        190        640: 100%|██████████| 1793/1793 [04:57<00:00,  6.02it/s]\n",
      "                 Class     Images  Instances      Box(P          R      mAP50  mAP50-95): 100%|██████████| 115/115 [00:48<00:00,  2.36it/s]\n"
     ]
    },
    {
     "name": "stdout",
     "output_type": "stream",
     "text": [
      "                   all       1830      18881      0.893      0.796      0.876      0.518\n",
      "\n",
      "      Epoch    GPU_mem   box_loss   cls_loss   dfl_loss  Instances       Size\n"
     ]
    },
    {
     "name": "stderr",
     "output_type": "stream",
     "text": [
      "    238/300      3.39G      1.554     0.8255      1.163        139        640: 100%|██████████| 1793/1793 [04:49<00:00,  6.20it/s]\n",
      "                 Class     Images  Instances      Box(P          R      mAP50  mAP50-95): 100%|██████████| 115/115 [00:27<00:00,  4.16it/s]\n"
     ]
    },
    {
     "name": "stdout",
     "output_type": "stream",
     "text": [
      "                   all       1830      18881      0.893      0.795      0.876      0.518\n",
      "\n",
      "      Epoch    GPU_mem   box_loss   cls_loss   dfl_loss  Instances       Size\n"
     ]
    },
    {
     "name": "stderr",
     "output_type": "stream",
     "text": [
      "    239/300      4.03G      1.552      0.822      1.163        345        640: 100%|██████████| 1793/1793 [08:34<00:00,  3.49it/s]\n",
      "                 Class     Images  Instances      Box(P          R      mAP50  mAP50-95): 100%|██████████| 115/115 [01:04<00:00,  1.79it/s]\n"
     ]
    },
    {
     "name": "stdout",
     "output_type": "stream",
     "text": [
      "                   all       1830      18881      0.893      0.795      0.876      0.518\n",
      "\n",
      "      Epoch    GPU_mem   box_loss   cls_loss   dfl_loss  Instances       Size\n"
     ]
    },
    {
     "name": "stderr",
     "output_type": "stream",
     "text": [
      "    240/300       4.1G      1.557     0.8304      1.167        415        640: 100%|██████████| 1793/1793 [04:55<00:00,  6.07it/s]\n",
      "                 Class     Images  Instances      Box(P          R      mAP50  mAP50-95): 100%|██████████| 115/115 [00:28<00:00,  4.02it/s]\n"
     ]
    },
    {
     "name": "stdout",
     "output_type": "stream",
     "text": [
      "                   all       1830      18881      0.894      0.795      0.876      0.519\n",
      "\n",
      "      Epoch    GPU_mem   box_loss   cls_loss   dfl_loss  Instances       Size\n"
     ]
    },
    {
     "name": "stderr",
     "output_type": "stream",
     "text": [
      "    241/300      3.33G      1.553      0.824      1.164        213        640: 100%|██████████| 1793/1793 [04:50<00:00,  6.18it/s]\n",
      "                 Class     Images  Instances      Box(P          R      mAP50  mAP50-95): 100%|██████████| 115/115 [00:41<00:00,  2.80it/s]\n"
     ]
    },
    {
     "name": "stdout",
     "output_type": "stream",
     "text": [
      "                   all       1830      18881      0.894      0.795      0.876      0.519\n",
      "\n",
      "      Epoch    GPU_mem   box_loss   cls_loss   dfl_loss  Instances       Size\n"
     ]
    },
    {
     "name": "stderr",
     "output_type": "stream",
     "text": [
      "    242/300      3.11G      1.551     0.8227      1.163        170        640: 100%|██████████| 1793/1793 [04:50<00:00,  6.18it/s]\n",
      "                 Class     Images  Instances      Box(P          R      mAP50  mAP50-95): 100%|██████████| 115/115 [00:26<00:00,  4.37it/s]\n"
     ]
    },
    {
     "name": "stdout",
     "output_type": "stream",
     "text": [
      "                   all       1830      18881      0.894      0.795      0.877      0.519\n",
      "\n",
      "      Epoch    GPU_mem   box_loss   cls_loss   dfl_loss  Instances       Size\n"
     ]
    },
    {
     "name": "stderr",
     "output_type": "stream",
     "text": [
      "    243/300      3.22G      1.556     0.8276      1.163        126        640: 100%|██████████| 1793/1793 [04:50<00:00,  6.17it/s]\n",
      "                 Class     Images  Instances      Box(P          R      mAP50  mAP50-95): 100%|██████████| 115/115 [00:37<00:00,  3.04it/s]"
     ]
    },
    {
     "name": "stdout",
     "output_type": "stream",
     "text": [
      "                   all       1830      18881      0.895      0.796      0.877      0.519\n"
     ]
    },
    {
     "name": "stderr",
     "output_type": "stream",
     "text": [
      "\n"
     ]
    },
    {
     "name": "stdout",
     "output_type": "stream",
     "text": [
      "\n",
      "      Epoch    GPU_mem   box_loss   cls_loss   dfl_loss  Instances       Size\n"
     ]
    },
    {
     "name": "stderr",
     "output_type": "stream",
     "text": [
      "    244/300      2.72G      1.551     0.8236       1.16        125        640: 100%|██████████| 1793/1793 [04:50<00:00,  6.17it/s]\n",
      "                 Class     Images  Instances      Box(P          R      mAP50  mAP50-95): 100%|██████████| 115/115 [00:25<00:00,  4.57it/s]\n"
     ]
    },
    {
     "name": "stdout",
     "output_type": "stream",
     "text": [
      "                   all       1830      18881      0.895      0.795      0.877      0.519\n",
      "\n",
      "      Epoch    GPU_mem   box_loss   cls_loss   dfl_loss  Instances       Size\n"
     ]
    },
    {
     "name": "stderr",
     "output_type": "stream",
     "text": [
      "    245/300      3.64G      1.556     0.8262      1.165        155        640: 100%|██████████| 1793/1793 [04:50<00:00,  6.16it/s]\n",
      "                 Class     Images  Instances      Box(P          R      mAP50  mAP50-95): 100%|██████████| 115/115 [00:46<00:00,  2.46it/s]"
     ]
    },
    {
     "name": "stdout",
     "output_type": "stream",
     "text": [
      "                   all       1830      18881      0.894      0.795      0.877      0.519\n"
     ]
    },
    {
     "name": "stderr",
     "output_type": "stream",
     "text": [
      "\n"
     ]
    },
    {
     "name": "stdout",
     "output_type": "stream",
     "text": [
      "\n",
      "      Epoch    GPU_mem   box_loss   cls_loss   dfl_loss  Instances       Size\n"
     ]
    },
    {
     "name": "stderr",
     "output_type": "stream",
     "text": [
      "    246/300      2.75G      1.557     0.8273      1.164         90        640: 100%|██████████| 1793/1793 [04:51<00:00,  6.14it/s]\n",
      "                 Class     Images  Instances      Box(P          R      mAP50  mAP50-95): 100%|██████████| 115/115 [00:25<00:00,  4.44it/s]\n"
     ]
    },
    {
     "name": "stdout",
     "output_type": "stream",
     "text": [
      "                   all       1830      18881      0.894      0.795      0.877      0.519\n",
      "\n",
      "      Epoch    GPU_mem   box_loss   cls_loss   dfl_loss  Instances       Size\n"
     ]
    },
    {
     "name": "stderr",
     "output_type": "stream",
     "text": [
      "    247/300      3.97G      1.547     0.8194      1.161        225        640: 100%|██████████| 1793/1793 [08:07<00:00,  3.68it/s]\n",
      "                 Class     Images  Instances      Box(P          R      mAP50  mAP50-95): 100%|██████████| 115/115 [00:56<00:00,  2.04it/s]"
     ]
    },
    {
     "name": "stdout",
     "output_type": "stream",
     "text": [
      "                   all       1830      18881      0.895      0.795      0.876      0.519\n"
     ]
    },
    {
     "name": "stderr",
     "output_type": "stream",
     "text": [
      "\n"
     ]
    },
    {
     "name": "stdout",
     "output_type": "stream",
     "text": [
      "\n",
      "      Epoch    GPU_mem   box_loss   cls_loss   dfl_loss  Instances       Size\n"
     ]
    },
    {
     "name": "stderr",
     "output_type": "stream",
     "text": [
      "    248/300       3.7G       1.55     0.8227      1.165        226        640: 100%|██████████| 1793/1793 [04:56<00:00,  6.04it/s]\n",
      "                 Class     Images  Instances      Box(P          R      mAP50  mAP50-95): 100%|██████████| 115/115 [00:28<00:00,  3.99it/s]\n"
     ]
    },
    {
     "name": "stdout",
     "output_type": "stream",
     "text": [
      "                   all       1830      18881      0.895      0.795      0.877      0.519\n",
      "\n",
      "      Epoch    GPU_mem   box_loss   cls_loss   dfl_loss  Instances       Size\n"
     ]
    },
    {
     "name": "stderr",
     "output_type": "stream",
     "text": [
      "    249/300      2.44G      1.549     0.8219      1.161        150        640: 100%|██████████| 1793/1793 [04:50<00:00,  6.18it/s]\n",
      "                 Class     Images  Instances      Box(P          R      mAP50  mAP50-95): 100%|██████████| 115/115 [00:39<00:00,  2.91it/s]\n"
     ]
    },
    {
     "name": "stdout",
     "output_type": "stream",
     "text": [
      "                   all       1830      18881      0.896      0.795      0.877      0.519\n",
      "\n",
      "      Epoch    GPU_mem   box_loss   cls_loss   dfl_loss  Instances       Size\n"
     ]
    },
    {
     "name": "stderr",
     "output_type": "stream",
     "text": [
      "    250/300      3.36G      1.552     0.8204      1.161        133        640: 100%|██████████| 1793/1793 [04:50<00:00,  6.18it/s]\n",
      "                 Class     Images  Instances      Box(P          R      mAP50  mAP50-95): 100%|██████████| 115/115 [00:26<00:00,  4.32it/s]\n"
     ]
    },
    {
     "name": "stdout",
     "output_type": "stream",
     "text": [
      "                   all       1830      18881      0.896      0.795      0.877      0.519\n",
      "\n",
      "      Epoch    GPU_mem   box_loss   cls_loss   dfl_loss  Instances       Size\n"
     ]
    },
    {
     "name": "stderr",
     "output_type": "stream",
     "text": [
      "    251/300      3.38G      1.549     0.8224      1.161        215        640: 100%|██████████| 1793/1793 [04:50<00:00,  6.16it/s]\n",
      "                 Class     Images  Instances      Box(P          R      mAP50  mAP50-95): 100%|██████████| 115/115 [00:42<00:00,  2.72it/s]"
     ]
    },
    {
     "name": "stdout",
     "output_type": "stream",
     "text": [
      "                   all       1830      18881      0.896      0.795      0.877       0.52\n"
     ]
    },
    {
     "name": "stderr",
     "output_type": "stream",
     "text": [
      "\n"
     ]
    },
    {
     "name": "stdout",
     "output_type": "stream",
     "text": [
      "\n",
      "      Epoch    GPU_mem   box_loss   cls_loss   dfl_loss  Instances       Size\n"
     ]
    },
    {
     "name": "stderr",
     "output_type": "stream",
     "text": [
      "    252/300      3.26G      1.547     0.8157       1.16        225        640: 100%|██████████| 1793/1793 [04:49<00:00,  6.19it/s]\n",
      "                 Class     Images  Instances      Box(P          R      mAP50  mAP50-95): 100%|██████████| 115/115 [00:26<00:00,  4.29it/s]\n"
     ]
    },
    {
     "name": "stdout",
     "output_type": "stream",
     "text": [
      "                   all       1830      18881      0.896      0.795      0.877       0.52\n",
      "\n",
      "      Epoch    GPU_mem   box_loss   cls_loss   dfl_loss  Instances       Size\n"
     ]
    },
    {
     "name": "stderr",
     "output_type": "stream",
     "text": [
      "    253/300      3.27G      1.547     0.8186      1.162        191        640: 100%|██████████| 1793/1793 [04:50<00:00,  6.18it/s]\n",
      "                 Class     Images  Instances      Box(P          R      mAP50  mAP50-95): 100%|██████████| 115/115 [00:50<00:00,  2.27it/s]"
     ]
    },
    {
     "name": "stdout",
     "output_type": "stream",
     "text": [
      "                   all       1830      18881      0.897      0.795      0.877       0.52\n"
     ]
    },
    {
     "name": "stderr",
     "output_type": "stream",
     "text": [
      "\n"
     ]
    },
    {
     "name": "stdout",
     "output_type": "stream",
     "text": [
      "\n",
      "      Epoch    GPU_mem   box_loss   cls_loss   dfl_loss  Instances       Size\n"
     ]
    },
    {
     "name": "stderr",
     "output_type": "stream",
     "text": [
      "    254/300      3.62G      1.545     0.8196      1.162        143        640: 100%|██████████| 1793/1793 [05:04<00:00,  5.89it/s]\n",
      "                 Class     Images  Instances      Box(P          R      mAP50  mAP50-95): 100%|██████████| 115/115 [00:27<00:00,  4.12it/s]"
     ]
    },
    {
     "name": "stdout",
     "output_type": "stream",
     "text": [
      "                   all       1830      18881      0.897      0.795      0.877       0.52\n"
     ]
    },
    {
     "name": "stderr",
     "output_type": "stream",
     "text": [
      "\n"
     ]
    },
    {
     "name": "stdout",
     "output_type": "stream",
     "text": [
      "\n",
      "      Epoch    GPU_mem   box_loss   cls_loss   dfl_loss  Instances       Size\n"
     ]
    },
    {
     "name": "stderr",
     "output_type": "stream",
     "text": [
      "    255/300       3.4G      1.546     0.8184       1.16        276        640: 100%|██████████| 1793/1793 [04:41<00:00,  6.37it/s]\n",
      "                 Class     Images  Instances      Box(P          R      mAP50  mAP50-95): 100%|██████████| 115/115 [00:42<00:00,  2.70it/s]\n"
     ]
    },
    {
     "name": "stdout",
     "output_type": "stream",
     "text": [
      "                   all       1830      18881      0.896      0.795      0.877       0.52\n",
      "\n",
      "      Epoch    GPU_mem   box_loss   cls_loss   dfl_loss  Instances       Size\n"
     ]
    },
    {
     "name": "stderr",
     "output_type": "stream",
     "text": [
      "    256/300      3.71G      1.546       0.82      1.162        173        640: 100%|██████████| 1793/1793 [04:51<00:00,  6.15it/s]\n",
      "                 Class     Images  Instances      Box(P          R      mAP50  mAP50-95): 100%|██████████| 115/115 [00:28<00:00,  4.00it/s]\n"
     ]
    },
    {
     "name": "stdout",
     "output_type": "stream",
     "text": [
      "                   all       1830      18881      0.897      0.795      0.877       0.52\n",
      "\n",
      "      Epoch    GPU_mem   box_loss   cls_loss   dfl_loss  Instances       Size\n"
     ]
    },
    {
     "name": "stderr",
     "output_type": "stream",
     "text": [
      "    257/300      3.14G      1.552      0.824      1.161        262        640: 100%|██████████| 1793/1793 [05:06<00:00,  5.85it/s]\n",
      "                 Class     Images  Instances      Box(P          R      mAP50  mAP50-95): 100%|██████████| 115/115 [00:42<00:00,  2.68it/s]"
     ]
    },
    {
     "name": "stdout",
     "output_type": "stream",
     "text": [
      "                   all       1830      18881      0.897      0.795      0.877       0.52\n"
     ]
    },
    {
     "name": "stderr",
     "output_type": "stream",
     "text": [
      "\n"
     ]
    },
    {
     "name": "stdout",
     "output_type": "stream",
     "text": [
      "\n",
      "      Epoch    GPU_mem   box_loss   cls_loss   dfl_loss  Instances       Size\n"
     ]
    },
    {
     "name": "stderr",
     "output_type": "stream",
     "text": [
      "    258/300      3.61G      1.546     0.8216      1.164        138        640: 100%|██████████| 1793/1793 [04:54<00:00,  6.10it/s]\n",
      "                 Class     Images  Instances      Box(P          R      mAP50  mAP50-95): 100%|██████████| 115/115 [00:27<00:00,  4.11it/s]\n"
     ]
    },
    {
     "name": "stdout",
     "output_type": "stream",
     "text": [
      "                   all       1830      18881      0.897      0.794      0.877       0.52\n",
      "\n",
      "      Epoch    GPU_mem   box_loss   cls_loss   dfl_loss  Instances       Size\n"
     ]
    },
    {
     "name": "stderr",
     "output_type": "stream",
     "text": [
      "    259/300      4.02G      1.547     0.8188      1.161        163        640: 100%|██████████| 1793/1793 [08:48<00:00,  3.39it/s]\n",
      "                 Class     Images  Instances      Box(P          R      mAP50  mAP50-95): 100%|██████████| 115/115 [01:08<00:00,  1.67it/s]"
     ]
    },
    {
     "name": "stdout",
     "output_type": "stream",
     "text": [
      "                   all       1830      18881      0.897      0.794      0.877       0.52\n"
     ]
    },
    {
     "name": "stderr",
     "output_type": "stream",
     "text": [
      "\n"
     ]
    },
    {
     "name": "stdout",
     "output_type": "stream",
     "text": [
      "\n",
      "      Epoch    GPU_mem   box_loss   cls_loss   dfl_loss  Instances       Size\n"
     ]
    },
    {
     "name": "stderr",
     "output_type": "stream",
     "text": [
      "    260/300      3.55G      1.549      0.819      1.161        186        640: 100%|██████████| 1793/1793 [04:50<00:00,  6.17it/s]\n",
      "                 Class     Images  Instances      Box(P          R      mAP50  mAP50-95): 100%|██████████| 115/115 [00:28<00:00,  4.10it/s]\n"
     ]
    },
    {
     "name": "stdout",
     "output_type": "stream",
     "text": [
      "                   all       1830      18881      0.897      0.794      0.877       0.52\n",
      "\n",
      "      Epoch    GPU_mem   box_loss   cls_loss   dfl_loss  Instances       Size\n"
     ]
    },
    {
     "name": "stderr",
     "output_type": "stream",
     "text": [
      "    261/300      4.13G      1.545     0.8158      1.159        120        640: 100%|██████████| 1793/1793 [11:08<00:00,  2.68it/s]\n",
      "                 Class     Images  Instances      Box(P          R      mAP50  mAP50-95): 100%|██████████| 115/115 [01:12<00:00,  1.59it/s]"
     ]
    },
    {
     "name": "stdout",
     "output_type": "stream",
     "text": [
      "                   all       1830      18881      0.899      0.793      0.877       0.52\n"
     ]
    },
    {
     "name": "stderr",
     "output_type": "stream",
     "text": [
      "\n"
     ]
    },
    {
     "name": "stdout",
     "output_type": "stream",
     "text": [
      "\n",
      "      Epoch    GPU_mem   box_loss   cls_loss   dfl_loss  Instances       Size\n"
     ]
    },
    {
     "name": "stderr",
     "output_type": "stream",
     "text": [
      "    262/300      4.11G      1.548     0.8232      1.164        372        640: 100%|██████████| 1793/1793 [05:07<00:00,  5.83it/s]\n",
      "                 Class     Images  Instances      Box(P          R      mAP50  mAP50-95): 100%|██████████| 115/115 [00:33<00:00,  3.41it/s]\n"
     ]
    },
    {
     "name": "stdout",
     "output_type": "stream",
     "text": [
      "                   all       1830      18881      0.898      0.794      0.877       0.52\n",
      "\n",
      "      Epoch    GPU_mem   box_loss   cls_loss   dfl_loss  Instances       Size\n"
     ]
    },
    {
     "name": "stderr",
     "output_type": "stream",
     "text": [
      "    263/300      3.51G      1.546     0.8218      1.163         99        640: 100%|██████████| 1793/1793 [04:49<00:00,  6.19it/s]\n",
      "                 Class     Images  Instances      Box(P          R      mAP50  mAP50-95): 100%|██████████| 115/115 [01:03<00:00,  1.81it/s]"
     ]
    },
    {
     "name": "stdout",
     "output_type": "stream",
     "text": [
      "                   all       1830      18881      0.899      0.794      0.877       0.52\n"
     ]
    },
    {
     "name": "stderr",
     "output_type": "stream",
     "text": [
      "\n"
     ]
    },
    {
     "name": "stdout",
     "output_type": "stream",
     "text": [
      "\n",
      "      Epoch    GPU_mem   box_loss   cls_loss   dfl_loss  Instances       Size\n"
     ]
    },
    {
     "name": "stderr",
     "output_type": "stream",
     "text": [
      "    264/300      3.34G      1.546     0.8195       1.16        288        640: 100%|██████████| 1793/1793 [04:50<00:00,  6.17it/s]\n",
      "                 Class     Images  Instances      Box(P          R      mAP50  mAP50-95): 100%|██████████| 115/115 [00:26<00:00,  4.36it/s]\n"
     ]
    },
    {
     "name": "stdout",
     "output_type": "stream",
     "text": [
      "                   all       1830      18881      0.899      0.794      0.877       0.52\n",
      "\n",
      "      Epoch    GPU_mem   box_loss   cls_loss   dfl_loss  Instances       Size\n"
     ]
    },
    {
     "name": "stderr",
     "output_type": "stream",
     "text": [
      "    265/300       3.6G       1.55     0.8216      1.162         92        640: 100%|██████████| 1793/1793 [04:50<00:00,  6.17it/s]\n",
      "                 Class     Images  Instances      Box(P          R      mAP50  mAP50-95): 100%|██████████| 115/115 [00:44<00:00,  2.60it/s]"
     ]
    },
    {
     "name": "stdout",
     "output_type": "stream",
     "text": [
      "                   all       1830      18881      0.899      0.794      0.877       0.52\n"
     ]
    },
    {
     "name": "stderr",
     "output_type": "stream",
     "text": [
      "\n"
     ]
    },
    {
     "name": "stdout",
     "output_type": "stream",
     "text": [
      "\n",
      "      Epoch    GPU_mem   box_loss   cls_loss   dfl_loss  Instances       Size\n"
     ]
    },
    {
     "name": "stderr",
     "output_type": "stream",
     "text": [
      "    266/300      4.12G      1.546     0.8174      1.161        145        640: 100%|██████████| 1793/1793 [05:03<00:00,  5.92it/s]\n",
      "                 Class     Images  Instances      Box(P          R      mAP50  mAP50-95): 100%|██████████| 115/115 [00:28<00:00,  4.10it/s]\n"
     ]
    },
    {
     "name": "stdout",
     "output_type": "stream",
     "text": [
      "                   all       1830      18881      0.898      0.794      0.878       0.52\n",
      "\n",
      "      Epoch    GPU_mem   box_loss   cls_loss   dfl_loss  Instances       Size\n"
     ]
    },
    {
     "name": "stderr",
     "output_type": "stream",
     "text": [
      "    267/300      3.41G      1.545     0.8157      1.161        116        640: 100%|██████████| 1793/1793 [04:50<00:00,  6.18it/s]\n",
      "                 Class     Images  Instances      Box(P          R      mAP50  mAP50-95): 100%|██████████| 115/115 [00:56<00:00,  2.03it/s]"
     ]
    },
    {
     "name": "stdout",
     "output_type": "stream",
     "text": [
      "                   all       1830      18881      0.898      0.794      0.878       0.52\n"
     ]
    },
    {
     "name": "stderr",
     "output_type": "stream",
     "text": [
      "\n"
     ]
    },
    {
     "name": "stdout",
     "output_type": "stream",
     "text": [
      "\n",
      "      Epoch    GPU_mem   box_loss   cls_loss   dfl_loss  Instances       Size\n"
     ]
    },
    {
     "name": "stderr",
     "output_type": "stream",
     "text": [
      "    268/300      2.89G      1.546     0.8191      1.164        148        640: 100%|██████████| 1793/1793 [04:50<00:00,  6.17it/s]\n",
      "                 Class     Images  Instances      Box(P          R      mAP50  mAP50-95): 100%|██████████| 115/115 [00:26<00:00,  4.38it/s]\n"
     ]
    },
    {
     "name": "stdout",
     "output_type": "stream",
     "text": [
      "                   all       1830      18881      0.898      0.795      0.878       0.52\n",
      "\n",
      "      Epoch    GPU_mem   box_loss   cls_loss   dfl_loss  Instances       Size\n"
     ]
    },
    {
     "name": "stderr",
     "output_type": "stream",
     "text": [
      "    269/300       3.9G      1.542     0.8155       1.16         76        640: 100%|██████████| 1793/1793 [05:43<00:00,  5.22it/s]\n",
      "                 Class     Images  Instances      Box(P          R      mAP50  mAP50-95): 100%|██████████| 115/115 [01:07<00:00,  1.70it/s]"
     ]
    },
    {
     "name": "stdout",
     "output_type": "stream",
     "text": [
      "                   all       1830      18881      0.898      0.795      0.877       0.52\n"
     ]
    },
    {
     "name": "stderr",
     "output_type": "stream",
     "text": [
      "\n"
     ]
    },
    {
     "name": "stdout",
     "output_type": "stream",
     "text": [
      "\n",
      "      Epoch    GPU_mem   box_loss   cls_loss   dfl_loss  Instances       Size\n"
     ]
    },
    {
     "name": "stderr",
     "output_type": "stream",
     "text": [
      "    270/300      2.99G      1.548     0.8188      1.163         79        640: 100%|██████████| 1793/1793 [04:49<00:00,  6.19it/s]\n",
      "                 Class     Images  Instances      Box(P          R      mAP50  mAP50-95): 100%|██████████| 115/115 [00:26<00:00,  4.32it/s]\n"
     ]
    },
    {
     "name": "stdout",
     "output_type": "stream",
     "text": [
      "                   all       1830      18881      0.897      0.794      0.877       0.52\n",
      "\n",
      "      Epoch    GPU_mem   box_loss   cls_loss   dfl_loss  Instances       Size\n"
     ]
    },
    {
     "name": "stderr",
     "output_type": "stream",
     "text": [
      "    271/300      3.17G      1.551     0.8221      1.162        212        640: 100%|██████████| 1793/1793 [04:51<00:00,  6.16it/s]\n",
      "                 Class     Images  Instances      Box(P          R      mAP50  mAP50-95): 100%|██████████| 115/115 [00:46<00:00,  2.47it/s]"
     ]
    },
    {
     "name": "stdout",
     "output_type": "stream",
     "text": [
      "                   all       1830      18881      0.898      0.794      0.877       0.52\n"
     ]
    },
    {
     "name": "stderr",
     "output_type": "stream",
     "text": [
      "\n"
     ]
    },
    {
     "name": "stdout",
     "output_type": "stream",
     "text": [
      "\n",
      "      Epoch    GPU_mem   box_loss   cls_loss   dfl_loss  Instances       Size\n"
     ]
    },
    {
     "name": "stderr",
     "output_type": "stream",
     "text": [
      "    272/300      3.57G      1.547     0.8177      1.159        101        640: 100%|██████████| 1793/1793 [04:55<00:00,  6.06it/s]\n",
      "                 Class     Images  Instances      Box(P          R      mAP50  mAP50-95): 100%|██████████| 115/115 [00:28<00:00,  4.10it/s]\n"
     ]
    },
    {
     "name": "stdout",
     "output_type": "stream",
     "text": [
      "                   all       1830      18881      0.898      0.794      0.878      0.521\n",
      "\n",
      "      Epoch    GPU_mem   box_loss   cls_loss   dfl_loss  Instances       Size\n"
     ]
    },
    {
     "name": "stderr",
     "output_type": "stream",
     "text": [
      "    273/300      3.33G      1.544     0.8139       1.16         36        640: 100%|██████████| 1793/1793 [04:50<00:00,  6.17it/s]\n",
      "                 Class     Images  Instances      Box(P          R      mAP50  mAP50-95): 100%|██████████| 115/115 [00:51<00:00,  2.24it/s]"
     ]
    },
    {
     "name": "stdout",
     "output_type": "stream",
     "text": [
      "                   all       1830      18881      0.897      0.795      0.878       0.52\n"
     ]
    },
    {
     "name": "stderr",
     "output_type": "stream",
     "text": [
      "\n"
     ]
    },
    {
     "name": "stdout",
     "output_type": "stream",
     "text": [
      "\n",
      "      Epoch    GPU_mem   box_loss   cls_loss   dfl_loss  Instances       Size\n"
     ]
    },
    {
     "name": "stderr",
     "output_type": "stream",
     "text": [
      "    274/300      3.68G      1.538      0.814      1.158        195        640: 100%|██████████| 1793/1793 [04:52<00:00,  6.13it/s]\n",
      "                 Class     Images  Instances      Box(P          R      mAP50  mAP50-95): 100%|██████████| 115/115 [00:27<00:00,  4.12it/s]\n"
     ]
    },
    {
     "name": "stdout",
     "output_type": "stream",
     "text": [
      "                   all       1830      18881      0.896      0.795      0.877       0.52\n",
      "\n",
      "      Epoch    GPU_mem   box_loss   cls_loss   dfl_loss  Instances       Size\n"
     ]
    },
    {
     "name": "stderr",
     "output_type": "stream",
     "text": [
      "    275/300      4.19G      1.541     0.8171       1.16        253        640: 100%|██████████| 1793/1793 [11:59<00:00,  2.49it/s]\n",
      "                 Class     Images  Instances      Box(P          R      mAP50  mAP50-95): 100%|██████████| 115/115 [01:12<00:00,  1.58it/s]"
     ]
    },
    {
     "name": "stdout",
     "output_type": "stream",
     "text": [
      "                   all       1830      18881      0.896      0.796      0.877       0.52\n"
     ]
    },
    {
     "name": "stderr",
     "output_type": "stream",
     "text": [
      "\n"
     ]
    },
    {
     "name": "stdout",
     "output_type": "stream",
     "text": [
      "\n",
      "      Epoch    GPU_mem   box_loss   cls_loss   dfl_loss  Instances       Size\n"
     ]
    },
    {
     "name": "stderr",
     "output_type": "stream",
     "text": [
      "    276/300      3.65G      1.543     0.8168      1.157        122        640: 100%|██████████| 1793/1793 [04:49<00:00,  6.20it/s]\n",
      "                 Class     Images  Instances      Box(P          R      mAP50  mAP50-95): 100%|██████████| 115/115 [00:26<00:00,  4.27it/s]\n"
     ]
    },
    {
     "name": "stdout",
     "output_type": "stream",
     "text": [
      "                   all       1830      18881      0.896      0.796      0.877       0.52\n",
      "\n",
      "      Epoch    GPU_mem   box_loss   cls_loss   dfl_loss  Instances       Size\n"
     ]
    },
    {
     "name": "stderr",
     "output_type": "stream",
     "text": [
      "    277/300      4.03G      1.538     0.8122      1.159        104        640: 100%|██████████| 1793/1793 [06:43<00:00,  4.44it/s]\n",
      "                 Class     Images  Instances      Box(P          R      mAP50  mAP50-95): 100%|██████████| 115/115 [01:04<00:00,  1.79it/s]"
     ]
    },
    {
     "name": "stdout",
     "output_type": "stream",
     "text": [
      "                   all       1830      18881      0.896      0.796      0.877       0.52\n"
     ]
    },
    {
     "name": "stderr",
     "output_type": "stream",
     "text": [
      "\n"
     ]
    },
    {
     "name": "stdout",
     "output_type": "stream",
     "text": [
      "\n",
      "      Epoch    GPU_mem   box_loss   cls_loss   dfl_loss  Instances       Size\n"
     ]
    },
    {
     "name": "stderr",
     "output_type": "stream",
     "text": [
      "    278/300      3.16G      1.545     0.8178      1.162        180        640: 100%|██████████| 1793/1793 [04:51<00:00,  6.15it/s]\n",
      "                 Class     Images  Instances      Box(P          R      mAP50  mAP50-95): 100%|██████████| 115/115 [00:26<00:00,  4.32it/s]\n"
     ]
    },
    {
     "name": "stdout",
     "output_type": "stream",
     "text": [
      "                   all       1830      18881      0.897      0.796      0.877       0.52\n",
      "\n",
      "      Epoch    GPU_mem   box_loss   cls_loss   dfl_loss  Instances       Size\n"
     ]
    },
    {
     "name": "stderr",
     "output_type": "stream",
     "text": [
      "    279/300      3.84G      1.537      0.814      1.156        113        640: 100%|██████████| 1793/1793 [04:58<00:00,  6.01it/s]\n",
      "                 Class     Images  Instances      Box(P          R      mAP50  mAP50-95): 100%|██████████| 115/115 [00:58<00:00,  1.97it/s]\n"
     ]
    },
    {
     "name": "stdout",
     "output_type": "stream",
     "text": [
      "                   all       1830      18881      0.896      0.796      0.877       0.52\n",
      "\n",
      "      Epoch    GPU_mem   box_loss   cls_loss   dfl_loss  Instances       Size\n"
     ]
    },
    {
     "name": "stderr",
     "output_type": "stream",
     "text": [
      "    280/300      3.53G      1.541     0.8151      1.158        132        640: 100%|██████████| 1793/1793 [04:49<00:00,  6.18it/s]\n",
      "                 Class     Images  Instances      Box(P          R      mAP50  mAP50-95): 100%|██████████| 115/115 [00:27<00:00,  4.25it/s]\n"
     ]
    },
    {
     "name": "stdout",
     "output_type": "stream",
     "text": [
      "                   all       1830      18881      0.896      0.796      0.877       0.52\n",
      "\n",
      "      Epoch    GPU_mem   box_loss   cls_loss   dfl_loss  Instances       Size\n"
     ]
    },
    {
     "name": "stderr",
     "output_type": "stream",
     "text": [
      "    281/300      2.72G      1.542     0.8143      1.155        104        640: 100%|██████████| 1793/1793 [04:49<00:00,  6.19it/s]\n",
      "                 Class     Images  Instances      Box(P          R      mAP50  mAP50-95): 100%|██████████| 115/115 [00:37<00:00,  3.05it/s]"
     ]
    },
    {
     "name": "stdout",
     "output_type": "stream",
     "text": [
      "                   all       1830      18881      0.897      0.795      0.878       0.52\n"
     ]
    },
    {
     "name": "stderr",
     "output_type": "stream",
     "text": [
      "\n"
     ]
    },
    {
     "name": "stdout",
     "output_type": "stream",
     "text": [
      "\n",
      "      Epoch    GPU_mem   box_loss   cls_loss   dfl_loss  Instances       Size\n"
     ]
    },
    {
     "name": "stderr",
     "output_type": "stream",
     "text": [
      "    282/300      3.41G      1.546     0.8186      1.163        181        640: 100%|██████████| 1793/1793 [04:50<00:00,  6.16it/s]\n",
      "                 Class     Images  Instances      Box(P          R      mAP50  mAP50-95): 100%|██████████| 115/115 [00:26<00:00,  4.27it/s]\n"
     ]
    },
    {
     "name": "stdout",
     "output_type": "stream",
     "text": [
      "                   all       1830      18881      0.896      0.796      0.877       0.52\n",
      "\n",
      "      Epoch    GPU_mem   box_loss   cls_loss   dfl_loss  Instances       Size\n"
     ]
    },
    {
     "name": "stderr",
     "output_type": "stream",
     "text": [
      "    283/300      3.44G      1.549     0.8203      1.163        265        640: 100%|██████████| 1793/1793 [04:50<00:00,  6.18it/s]\n",
      "                 Class     Images  Instances      Box(P          R      mAP50  mAP50-95): 100%|██████████| 115/115 [00:54<00:00,  2.13it/s]"
     ]
    },
    {
     "name": "stdout",
     "output_type": "stream",
     "text": [
      "                   all       1830      18881      0.896      0.796      0.878       0.52\n"
     ]
    },
    {
     "name": "stderr",
     "output_type": "stream",
     "text": [
      "\n"
     ]
    },
    {
     "name": "stdout",
     "output_type": "stream",
     "text": [
      "\n",
      "      Epoch    GPU_mem   box_loss   cls_loss   dfl_loss  Instances       Size\n"
     ]
    },
    {
     "name": "stderr",
     "output_type": "stream",
     "text": [
      "    284/300      3.77G      1.539     0.8105      1.158        221        640: 100%|██████████| 1793/1793 [04:52<00:00,  6.12it/s]\n",
      "                 Class     Images  Instances      Box(P          R      mAP50  mAP50-95): 100%|██████████| 115/115 [00:27<00:00,  4.13it/s]\n"
     ]
    },
    {
     "name": "stdout",
     "output_type": "stream",
     "text": [
      "                   all       1830      18881      0.895      0.796      0.877       0.52\n",
      "\n",
      "      Epoch    GPU_mem   box_loss   cls_loss   dfl_loss  Instances       Size\n"
     ]
    },
    {
     "name": "stderr",
     "output_type": "stream",
     "text": [
      "    285/300      3.59G      1.544     0.8135      1.159        251        640: 100%|██████████| 1793/1793 [04:50<00:00,  6.17it/s]\n",
      "                 Class     Images  Instances      Box(P          R      mAP50  mAP50-95): 100%|██████████| 115/115 [00:44<00:00,  2.61it/s]"
     ]
    },
    {
     "name": "stdout",
     "output_type": "stream",
     "text": [
      "                   all       1830      18881      0.896      0.796      0.877       0.52\n"
     ]
    },
    {
     "name": "stderr",
     "output_type": "stream",
     "text": [
      "\n"
     ]
    },
    {
     "name": "stdout",
     "output_type": "stream",
     "text": [
      "\n",
      "      Epoch    GPU_mem   box_loss   cls_loss   dfl_loss  Instances       Size\n"
     ]
    },
    {
     "name": "stderr",
     "output_type": "stream",
     "text": [
      "    286/300      3.94G      1.542     0.8143      1.158        187        640: 100%|██████████| 1793/1793 [04:50<00:00,  6.16it/s]\n",
      "                 Class     Images  Instances      Box(P          R      mAP50  mAP50-95): 100%|██████████| 115/115 [00:28<00:00,  4.04it/s]\n"
     ]
    },
    {
     "name": "stdout",
     "output_type": "stream",
     "text": [
      "                   all       1830      18881      0.896      0.796      0.878       0.52\n",
      "\n",
      "      Epoch    GPU_mem   box_loss   cls_loss   dfl_loss  Instances       Size\n"
     ]
    },
    {
     "name": "stderr",
     "output_type": "stream",
     "text": [
      "    287/300      3.74G      1.548     0.8169      1.158        152        640: 100%|██████████| 1793/1793 [04:51<00:00,  6.16it/s]\n",
      "                 Class     Images  Instances      Box(P          R      mAP50  mAP50-95): 100%|██████████| 115/115 [00:53<00:00,  2.14it/s]\n"
     ]
    },
    {
     "name": "stdout",
     "output_type": "stream",
     "text": [
      "                   all       1830      18881      0.897      0.796      0.878       0.52\n",
      "\n",
      "      Epoch    GPU_mem   box_loss   cls_loss   dfl_loss  Instances       Size\n"
     ]
    },
    {
     "name": "stderr",
     "output_type": "stream",
     "text": [
      "    288/300       3.7G       1.54     0.8135      1.161        153        640: 100%|██████████| 1793/1793 [04:57<00:00,  6.03it/s]\n",
      "                 Class     Images  Instances      Box(P          R      mAP50  mAP50-95): 100%|██████████| 115/115 [00:27<00:00,  4.22it/s]\n"
     ]
    },
    {
     "name": "stdout",
     "output_type": "stream",
     "text": [
      "                   all       1830      18881      0.896      0.796      0.878      0.521\n",
      "\n",
      "      Epoch    GPU_mem   box_loss   cls_loss   dfl_loss  Instances       Size\n"
     ]
    },
    {
     "name": "stderr",
     "output_type": "stream",
     "text": [
      "    289/300       3.7G      1.551     0.8192      1.162         77        640: 100%|██████████| 1793/1793 [04:49<00:00,  6.19it/s]\n",
      "                 Class     Images  Instances      Box(P          R      mAP50  mAP50-95): 100%|██████████| 115/115 [00:54<00:00,  2.13it/s]"
     ]
    },
    {
     "name": "stdout",
     "output_type": "stream",
     "text": [
      "                   all       1830      18881      0.896      0.796      0.877      0.521\n"
     ]
    },
    {
     "name": "stderr",
     "output_type": "stream",
     "text": [
      "\n"
     ]
    },
    {
     "name": "stdout",
     "output_type": "stream",
     "text": [
      "\n",
      "      Epoch    GPU_mem   box_loss   cls_loss   dfl_loss  Instances       Size\n"
     ]
    },
    {
     "name": "stderr",
     "output_type": "stream",
     "text": [
      "    290/300      3.61G      1.553     0.8207      1.161        166        640: 100%|██████████| 1793/1793 [05:00<00:00,  5.96it/s]\n",
      "                 Class     Images  Instances      Box(P          R      mAP50  mAP50-95): 100%|██████████| 115/115 [00:28<00:00,  4.10it/s]\n"
     ]
    },
    {
     "name": "stdout",
     "output_type": "stream",
     "text": [
      "                   all       1830      18881      0.896      0.796      0.877      0.521\n",
      "Closing dataloader mosaic\n",
      "\n",
      "      Epoch    GPU_mem   box_loss   cls_loss   dfl_loss  Instances       Size\n"
     ]
    },
    {
     "name": "stderr",
     "output_type": "stream",
     "text": [
      "    291/300      3.87G      1.392     0.6623      1.108         69        640: 100%|██████████| 1793/1793 [04:31<00:00,  6.61it/s]\n",
      "                 Class     Images  Instances      Box(P          R      mAP50  mAP50-95): 100%|██████████| 115/115 [00:57<00:00,  2.01it/s]"
     ]
    },
    {
     "name": "stdout",
     "output_type": "stream",
     "text": [
      "                   all       1830      18881      0.896      0.795      0.878       0.52\n"
     ]
    },
    {
     "name": "stderr",
     "output_type": "stream",
     "text": [
      "\n"
     ]
    },
    {
     "name": "stdout",
     "output_type": "stream",
     "text": [
      "\n",
      "      Epoch    GPU_mem   box_loss   cls_loss   dfl_loss  Instances       Size\n"
     ]
    },
    {
     "name": "stderr",
     "output_type": "stream",
     "text": [
      "    292/300      3.21G      1.385     0.6549      1.105        132        640: 100%|██████████| 1793/1793 [04:21<00:00,  6.86it/s]\n",
      "                 Class     Images  Instances      Box(P          R      mAP50  mAP50-95): 100%|██████████| 115/115 [00:27<00:00,  4.14it/s]"
     ]
    },
    {
     "name": "stdout",
     "output_type": "stream",
     "text": [
      "                   all       1830      18881      0.896      0.795      0.877       0.52\n"
     ]
    },
    {
     "name": "stderr",
     "output_type": "stream",
     "text": [
      "\n"
     ]
    },
    {
     "name": "stdout",
     "output_type": "stream",
     "text": [
      "\n",
      "      Epoch    GPU_mem   box_loss   cls_loss   dfl_loss  Instances       Size\n"
     ]
    },
    {
     "name": "stderr",
     "output_type": "stream",
     "text": [
      "    293/300      3.64G      1.385     0.6538      1.106         30        640: 100%|██████████| 1793/1793 [04:15<00:00,  7.01it/s]\n",
      "                 Class     Images  Instances      Box(P          R      mAP50  mAP50-95): 100%|██████████| 115/115 [00:56<00:00,  2.03it/s]\n"
     ]
    },
    {
     "name": "stdout",
     "output_type": "stream",
     "text": [
      "                   all       1830      18881      0.896      0.795      0.877      0.521\n",
      "\n",
      "      Epoch    GPU_mem   box_loss   cls_loss   dfl_loss  Instances       Size\n"
     ]
    },
    {
     "name": "stderr",
     "output_type": "stream",
     "text": [
      "    294/300      3.31G       1.38     0.6483      1.104         97        640: 100%|██████████| 1793/1793 [04:17<00:00,  6.97it/s]\n",
      "                 Class     Images  Instances      Box(P          R      mAP50  mAP50-95): 100%|██████████| 115/115 [00:27<00:00,  4.25it/s]\n"
     ]
    },
    {
     "name": "stdout",
     "output_type": "stream",
     "text": [
      "                   all       1830      18881      0.896      0.794      0.878      0.521\n",
      "\n",
      "      Epoch    GPU_mem   box_loss   cls_loss   dfl_loss  Instances       Size\n"
     ]
    },
    {
     "name": "stderr",
     "output_type": "stream",
     "text": [
      "    295/300      2.99G      1.379     0.6466      1.103        125        640: 100%|██████████| 1793/1793 [04:16<00:00,  7.00it/s]\n",
      "                 Class     Images  Instances      Box(P          R      mAP50  mAP50-95): 100%|██████████| 115/115 [00:52<00:00,  2.21it/s]"
     ]
    },
    {
     "name": "stdout",
     "output_type": "stream",
     "text": [
      "                   all       1830      18881      0.895      0.795      0.878      0.521\n"
     ]
    },
    {
     "name": "stderr",
     "output_type": "stream",
     "text": [
      "\n"
     ]
    },
    {
     "name": "stdout",
     "output_type": "stream",
     "text": [
      "\n",
      "      Epoch    GPU_mem   box_loss   cls_loss   dfl_loss  Instances       Size\n"
     ]
    },
    {
     "name": "stderr",
     "output_type": "stream",
     "text": [
      "    296/300       2.3G      1.377     0.6473      1.101         66        640: 100%|██████████| 1793/1793 [04:05<00:00,  7.30it/s]\n",
      "                 Class     Images  Instances      Box(P          R      mAP50  mAP50-95): 100%|██████████| 115/115 [00:20<00:00,  5.49it/s]\n"
     ]
    },
    {
     "name": "stdout",
     "output_type": "stream",
     "text": [
      "                   all       1830      18881      0.895      0.795      0.878      0.521\n",
      "\n",
      "      Epoch    GPU_mem   box_loss   cls_loss   dfl_loss  Instances       Size\n"
     ]
    },
    {
     "name": "stderr",
     "output_type": "stream",
     "text": [
      "    297/300      2.68G      1.376     0.6456      1.102        105        640: 100%|██████████| 1793/1793 [03:57<00:00,  7.56it/s]\n",
      "                 Class     Images  Instances      Box(P          R      mAP50  mAP50-95): 100%|██████████| 115/115 [00:49<00:00,  2.32it/s]"
     ]
    },
    {
     "name": "stdout",
     "output_type": "stream",
     "text": [
      "                   all       1830      18881      0.896      0.795      0.878      0.521\n"
     ]
    },
    {
     "name": "stderr",
     "output_type": "stream",
     "text": [
      "\n"
     ]
    },
    {
     "name": "stdout",
     "output_type": "stream",
     "text": [
      "\n",
      "      Epoch    GPU_mem   box_loss   cls_loss   dfl_loss  Instances       Size\n"
     ]
    },
    {
     "name": "stderr",
     "output_type": "stream",
     "text": [
      "    298/300      2.87G      1.375     0.6426      1.101         45        640: 100%|██████████| 1793/1793 [04:03<00:00,  7.36it/s]\n",
      "                 Class     Images  Instances      Box(P          R      mAP50  mAP50-95): 100%|██████████| 115/115 [00:26<00:00,  4.27it/s]\n"
     ]
    },
    {
     "name": "stdout",
     "output_type": "stream",
     "text": [
      "                   all       1830      18881      0.895      0.795      0.877      0.522\n",
      "\n",
      "      Epoch    GPU_mem   box_loss   cls_loss   dfl_loss  Instances       Size\n"
     ]
    },
    {
     "name": "stderr",
     "output_type": "stream",
     "text": [
      "    299/300      2.82G      1.379      0.645      1.103         56        640: 100%|██████████| 1793/1793 [04:15<00:00,  7.01it/s]\n",
      "                 Class     Images  Instances      Box(P          R      mAP50  mAP50-95): 100%|██████████| 115/115 [00:37<00:00,  3.03it/s]"
     ]
    },
    {
     "name": "stdout",
     "output_type": "stream",
     "text": [
      "                   all       1830      18881      0.895      0.795      0.878      0.522\n"
     ]
    },
    {
     "name": "stderr",
     "output_type": "stream",
     "text": [
      "\n"
     ]
    },
    {
     "name": "stdout",
     "output_type": "stream",
     "text": [
      "\n",
      "      Epoch    GPU_mem   box_loss   cls_loss   dfl_loss  Instances       Size\n"
     ]
    },
    {
     "name": "stderr",
     "output_type": "stream",
     "text": [
      "    300/300      3.21G      1.375     0.6426      1.101         48        640: 100%|██████████| 1793/1793 [04:16<00:00,  6.99it/s]\n",
      "                 Class     Images  Instances      Box(P          R      mAP50  mAP50-95): 100%|██████████| 115/115 [00:27<00:00,  4.24it/s]\n"
     ]
    },
    {
     "name": "stdout",
     "output_type": "stream",
     "text": [
      "                   all       1830      18881      0.894      0.796      0.877      0.522\n",
      "\n",
      "300 epochs completed in 32.251 hours.\n",
      "Optimizer stripped from runs\\detect\\train60\\weights\\last.pt, 5.5MB\n",
      "Optimizer stripped from runs\\detect\\train60\\weights\\best.pt, 5.5MB\n",
      "\n",
      "Validating runs\\detect\\train60\\weights\\best.pt...\n",
      "Ultralytics 8.3.68  Python-3.12.0 torch-2.6.0+cu126 CUDA:0 (NVIDIA GeForce RTX 3050 Ti Laptop GPU, 4096MiB)\n",
      "YOLO11n summary (fused): 238 layers, 2,582,347 parameters, 0 gradients, 6.3 GFLOPs\n"
     ]
    },
    {
     "name": "stderr",
     "output_type": "stream",
     "text": [
      "                 Class     Images  Instances      Box(P          R      mAP50  mAP50-95): 100%|██████████| 115/115 [00:30<00:00,  3.79it/s]\n"
     ]
    },
    {
     "name": "stdout",
     "output_type": "stream",
     "text": [
      "                   all       1830      18881      0.861       0.77      0.857      0.509\n",
      "Speed: 0.4ms preprocess, 10.0ms inference, 0.0ms loss, 1.3ms postprocess per image\n",
      "Results saved to \u001b[1mruns\\detect\\train60\u001b[0m\n",
      "ultralytics.utils.metrics.DetMetrics object with attributes:\n",
      "\n",
      "ap_class_index: array([0])\n",
      "box: ultralytics.utils.metrics.Metric object\n",
      "confusion_matrix: <ultralytics.utils.metrics.ConfusionMatrix object at 0x000001F6858479E0>\n",
      "curves: ['Precision-Recall(B)', 'F1-Confidence(B)', 'Precision-Confidence(B)', 'Recall-Confidence(B)']\n",
      "curves_results: [[array([          0,    0.001001,    0.002002,    0.003003,    0.004004,    0.005005,    0.006006,    0.007007,    0.008008,    0.009009,     0.01001,    0.011011,    0.012012,    0.013013,    0.014014,    0.015015,    0.016016,    0.017017,    0.018018,    0.019019,     0.02002,    0.021021,    0.022022,    0.023023,\n",
      "          0.024024,    0.025025,    0.026026,    0.027027,    0.028028,    0.029029,     0.03003,    0.031031,    0.032032,    0.033033,    0.034034,    0.035035,    0.036036,    0.037037,    0.038038,    0.039039,     0.04004,    0.041041,    0.042042,    0.043043,    0.044044,    0.045045,    0.046046,    0.047047,\n",
      "          0.048048,    0.049049,     0.05005,    0.051051,    0.052052,    0.053053,    0.054054,    0.055055,    0.056056,    0.057057,    0.058058,    0.059059,     0.06006,    0.061061,    0.062062,    0.063063,    0.064064,    0.065065,    0.066066,    0.067067,    0.068068,    0.069069,     0.07007,    0.071071,\n",
      "          0.072072,    0.073073,    0.074074,    0.075075,    0.076076,    0.077077,    0.078078,    0.079079,     0.08008,    0.081081,    0.082082,    0.083083,    0.084084,    0.085085,    0.086086,    0.087087,    0.088088,    0.089089,     0.09009,    0.091091,    0.092092,    0.093093,    0.094094,    0.095095,\n",
      "          0.096096,    0.097097,    0.098098,    0.099099,      0.1001,      0.1011,      0.1021,      0.1031,      0.1041,     0.10511,     0.10611,     0.10711,     0.10811,     0.10911,     0.11011,     0.11111,     0.11211,     0.11311,     0.11411,     0.11512,     0.11612,     0.11712,     0.11812,     0.11912,\n",
      "           0.12012,     0.12112,     0.12212,     0.12312,     0.12412,     0.12513,     0.12613,     0.12713,     0.12813,     0.12913,     0.13013,     0.13113,     0.13213,     0.13313,     0.13413,     0.13514,     0.13614,     0.13714,     0.13814,     0.13914,     0.14014,     0.14114,     0.14214,     0.14314,\n",
      "           0.14414,     0.14515,     0.14615,     0.14715,     0.14815,     0.14915,     0.15015,     0.15115,     0.15215,     0.15315,     0.15415,     0.15516,     0.15616,     0.15716,     0.15816,     0.15916,     0.16016,     0.16116,     0.16216,     0.16316,     0.16416,     0.16517,     0.16617,     0.16717,\n",
      "           0.16817,     0.16917,     0.17017,     0.17117,     0.17217,     0.17317,     0.17417,     0.17518,     0.17618,     0.17718,     0.17818,     0.17918,     0.18018,     0.18118,     0.18218,     0.18318,     0.18418,     0.18519,     0.18619,     0.18719,     0.18819,     0.18919,     0.19019,     0.19119,\n",
      "           0.19219,     0.19319,     0.19419,      0.1952,      0.1962,      0.1972,      0.1982,      0.1992,      0.2002,      0.2012,      0.2022,      0.2032,      0.2042,     0.20521,     0.20621,     0.20721,     0.20821,     0.20921,     0.21021,     0.21121,     0.21221,     0.21321,     0.21421,     0.21522,\n",
      "           0.21622,     0.21722,     0.21822,     0.21922,     0.22022,     0.22122,     0.22222,     0.22322,     0.22422,     0.22523,     0.22623,     0.22723,     0.22823,     0.22923,     0.23023,     0.23123,     0.23223,     0.23323,     0.23423,     0.23524,     0.23624,     0.23724,     0.23824,     0.23924,\n",
      "           0.24024,     0.24124,     0.24224,     0.24324,     0.24424,     0.24525,     0.24625,     0.24725,     0.24825,     0.24925,     0.25025,     0.25125,     0.25225,     0.25325,     0.25425,     0.25526,     0.25626,     0.25726,     0.25826,     0.25926,     0.26026,     0.26126,     0.26226,     0.26326,\n",
      "           0.26426,     0.26527,     0.26627,     0.26727,     0.26827,     0.26927,     0.27027,     0.27127,     0.27227,     0.27327,     0.27427,     0.27528,     0.27628,     0.27728,     0.27828,     0.27928,     0.28028,     0.28128,     0.28228,     0.28328,     0.28428,     0.28529,     0.28629,     0.28729,\n",
      "           0.28829,     0.28929,     0.29029,     0.29129,     0.29229,     0.29329,     0.29429,      0.2953,      0.2963,      0.2973,      0.2983,      0.2993,      0.3003,      0.3013,      0.3023,      0.3033,      0.3043,     0.30531,     0.30631,     0.30731,     0.30831,     0.30931,     0.31031,     0.31131,\n",
      "           0.31231,     0.31331,     0.31431,     0.31532,     0.31632,     0.31732,     0.31832,     0.31932,     0.32032,     0.32132,     0.32232,     0.32332,     0.32432,     0.32533,     0.32633,     0.32733,     0.32833,     0.32933,     0.33033,     0.33133,     0.33233,     0.33333,     0.33433,     0.33534,\n",
      "           0.33634,     0.33734,     0.33834,     0.33934,     0.34034,     0.34134,     0.34234,     0.34334,     0.34434,     0.34535,     0.34635,     0.34735,     0.34835,     0.34935,     0.35035,     0.35135,     0.35235,     0.35335,     0.35435,     0.35536,     0.35636,     0.35736,     0.35836,     0.35936,\n",
      "           0.36036,     0.36136,     0.36236,     0.36336,     0.36436,     0.36537,     0.36637,     0.36737,     0.36837,     0.36937,     0.37037,     0.37137,     0.37237,     0.37337,     0.37437,     0.37538,     0.37638,     0.37738,     0.37838,     0.37938,     0.38038,     0.38138,     0.38238,     0.38338,\n",
      "           0.38438,     0.38539,     0.38639,     0.38739,     0.38839,     0.38939,     0.39039,     0.39139,     0.39239,     0.39339,     0.39439,      0.3954,      0.3964,      0.3974,      0.3984,      0.3994,      0.4004,      0.4014,      0.4024,      0.4034,      0.4044,     0.40541,     0.40641,     0.40741,\n",
      "           0.40841,     0.40941,     0.41041,     0.41141,     0.41241,     0.41341,     0.41441,     0.41542,     0.41642,     0.41742,     0.41842,     0.41942,     0.42042,     0.42142,     0.42242,     0.42342,     0.42442,     0.42543,     0.42643,     0.42743,     0.42843,     0.42943,     0.43043,     0.43143,\n",
      "           0.43243,     0.43343,     0.43443,     0.43544,     0.43644,     0.43744,     0.43844,     0.43944,     0.44044,     0.44144,     0.44244,     0.44344,     0.44444,     0.44545,     0.44645,     0.44745,     0.44845,     0.44945,     0.45045,     0.45145,     0.45245,     0.45345,     0.45445,     0.45546,\n",
      "           0.45646,     0.45746,     0.45846,     0.45946,     0.46046,     0.46146,     0.46246,     0.46346,     0.46446,     0.46547,     0.46647,     0.46747,     0.46847,     0.46947,     0.47047,     0.47147,     0.47247,     0.47347,     0.47447,     0.47548,     0.47648,     0.47748,     0.47848,     0.47948,\n",
      "           0.48048,     0.48148,     0.48248,     0.48348,     0.48448,     0.48549,     0.48649,     0.48749,     0.48849,     0.48949,     0.49049,     0.49149,     0.49249,     0.49349,     0.49449,      0.4955,      0.4965,      0.4975,      0.4985,      0.4995,      0.5005,      0.5015,      0.5025,      0.5035,\n",
      "            0.5045,     0.50551,     0.50651,     0.50751,     0.50851,     0.50951,     0.51051,     0.51151,     0.51251,     0.51351,     0.51451,     0.51552,     0.51652,     0.51752,     0.51852,     0.51952,     0.52052,     0.52152,     0.52252,     0.52352,     0.52452,     0.52553,     0.52653,     0.52753,\n",
      "           0.52853,     0.52953,     0.53053,     0.53153,     0.53253,     0.53353,     0.53453,     0.53554,     0.53654,     0.53754,     0.53854,     0.53954,     0.54054,     0.54154,     0.54254,     0.54354,     0.54454,     0.54555,     0.54655,     0.54755,     0.54855,     0.54955,     0.55055,     0.55155,\n",
      "           0.55255,     0.55355,     0.55455,     0.55556,     0.55656,     0.55756,     0.55856,     0.55956,     0.56056,     0.56156,     0.56256,     0.56356,     0.56456,     0.56557,     0.56657,     0.56757,     0.56857,     0.56957,     0.57057,     0.57157,     0.57257,     0.57357,     0.57457,     0.57558,\n",
      "           0.57658,     0.57758,     0.57858,     0.57958,     0.58058,     0.58158,     0.58258,     0.58358,     0.58458,     0.58559,     0.58659,     0.58759,     0.58859,     0.58959,     0.59059,     0.59159,     0.59259,     0.59359,     0.59459,      0.5956,      0.5966,      0.5976,      0.5986,      0.5996,\n",
      "            0.6006,      0.6016,      0.6026,      0.6036,      0.6046,     0.60561,     0.60661,     0.60761,     0.60861,     0.60961,     0.61061,     0.61161,     0.61261,     0.61361,     0.61461,     0.61562,     0.61662,     0.61762,     0.61862,     0.61962,     0.62062,     0.62162,     0.62262,     0.62362,\n",
      "           0.62462,     0.62563,     0.62663,     0.62763,     0.62863,     0.62963,     0.63063,     0.63163,     0.63263,     0.63363,     0.63463,     0.63564,     0.63664,     0.63764,     0.63864,     0.63964,     0.64064,     0.64164,     0.64264,     0.64364,     0.64464,     0.64565,     0.64665,     0.64765,\n",
      "           0.64865,     0.64965,     0.65065,     0.65165,     0.65265,     0.65365,     0.65465,     0.65566,     0.65666,     0.65766,     0.65866,     0.65966,     0.66066,     0.66166,     0.66266,     0.66366,     0.66466,     0.66567,     0.66667,     0.66767,     0.66867,     0.66967,     0.67067,     0.67167,\n",
      "           0.67267,     0.67367,     0.67467,     0.67568,     0.67668,     0.67768,     0.67868,     0.67968,     0.68068,     0.68168,     0.68268,     0.68368,     0.68468,     0.68569,     0.68669,     0.68769,     0.68869,     0.68969,     0.69069,     0.69169,     0.69269,     0.69369,     0.69469,      0.6957,\n",
      "            0.6967,      0.6977,      0.6987,      0.6997,      0.7007,      0.7017,      0.7027,      0.7037,      0.7047,     0.70571,     0.70671,     0.70771,     0.70871,     0.70971,     0.71071,     0.71171,     0.71271,     0.71371,     0.71471,     0.71572,     0.71672,     0.71772,     0.71872,     0.71972,\n",
      "           0.72072,     0.72172,     0.72272,     0.72372,     0.72472,     0.72573,     0.72673,     0.72773,     0.72873,     0.72973,     0.73073,     0.73173,     0.73273,     0.73373,     0.73473,     0.73574,     0.73674,     0.73774,     0.73874,     0.73974,     0.74074,     0.74174,     0.74274,     0.74374,\n",
      "           0.74474,     0.74575,     0.74675,     0.74775,     0.74875,     0.74975,     0.75075,     0.75175,     0.75275,     0.75375,     0.75475,     0.75576,     0.75676,     0.75776,     0.75876,     0.75976,     0.76076,     0.76176,     0.76276,     0.76376,     0.76476,     0.76577,     0.76677,     0.76777,\n",
      "           0.76877,     0.76977,     0.77077,     0.77177,     0.77277,     0.77377,     0.77477,     0.77578,     0.77678,     0.77778,     0.77878,     0.77978,     0.78078,     0.78178,     0.78278,     0.78378,     0.78478,     0.78579,     0.78679,     0.78779,     0.78879,     0.78979,     0.79079,     0.79179,\n",
      "           0.79279,     0.79379,     0.79479,      0.7958,      0.7968,      0.7978,      0.7988,      0.7998,      0.8008,      0.8018,      0.8028,      0.8038,      0.8048,     0.80581,     0.80681,     0.80781,     0.80881,     0.80981,     0.81081,     0.81181,     0.81281,     0.81381,     0.81481,     0.81582,\n",
      "           0.81682,     0.81782,     0.81882,     0.81982,     0.82082,     0.82182,     0.82282,     0.82382,     0.82482,     0.82583,     0.82683,     0.82783,     0.82883,     0.82983,     0.83083,     0.83183,     0.83283,     0.83383,     0.83483,     0.83584,     0.83684,     0.83784,     0.83884,     0.83984,\n",
      "           0.84084,     0.84184,     0.84284,     0.84384,     0.84484,     0.84585,     0.84685,     0.84785,     0.84885,     0.84985,     0.85085,     0.85185,     0.85285,     0.85385,     0.85485,     0.85586,     0.85686,     0.85786,     0.85886,     0.85986,     0.86086,     0.86186,     0.86286,     0.86386,\n",
      "           0.86486,     0.86587,     0.86687,     0.86787,     0.86887,     0.86987,     0.87087,     0.87187,     0.87287,     0.87387,     0.87487,     0.87588,     0.87688,     0.87788,     0.87888,     0.87988,     0.88088,     0.88188,     0.88288,     0.88388,     0.88488,     0.88589,     0.88689,     0.88789,\n",
      "           0.88889,     0.88989,     0.89089,     0.89189,     0.89289,     0.89389,     0.89489,      0.8959,      0.8969,      0.8979,      0.8989,      0.8999,      0.9009,      0.9019,      0.9029,      0.9039,      0.9049,     0.90591,     0.90691,     0.90791,     0.90891,     0.90991,     0.91091,     0.91191,\n",
      "           0.91291,     0.91391,     0.91491,     0.91592,     0.91692,     0.91792,     0.91892,     0.91992,     0.92092,     0.92192,     0.92292,     0.92392,     0.92492,     0.92593,     0.92693,     0.92793,     0.92893,     0.92993,     0.93093,     0.93193,     0.93293,     0.93393,     0.93493,     0.93594,\n",
      "           0.93694,     0.93794,     0.93894,     0.93994,     0.94094,     0.94194,     0.94294,     0.94394,     0.94494,     0.94595,     0.94695,     0.94795,     0.94895,     0.94995,     0.95095,     0.95195,     0.95295,     0.95395,     0.95495,     0.95596,     0.95696,     0.95796,     0.95896,     0.95996,\n",
      "           0.96096,     0.96196,     0.96296,     0.96396,     0.96496,     0.96597,     0.96697,     0.96797,     0.96897,     0.96997,     0.97097,     0.97197,     0.97297,     0.97397,     0.97497,     0.97598,     0.97698,     0.97798,     0.97898,     0.97998,     0.98098,     0.98198,     0.98298,     0.98398,\n",
      "           0.98498,     0.98599,     0.98699,     0.98799,     0.98899,     0.98999,     0.99099,     0.99199,     0.99299,     0.99399,     0.99499,       0.996,       0.997,       0.998,       0.999,           1]), array([[          1,           1,           1,           1,           1,           1,           1,           1,     0.99705,     0.99705,     0.99705,     0.99705,     0.99705,     0.99705,     0.99705,     0.99705,     0.99705,     0.99705,     0.99705,     0.99705,     0.99705,     0.99705,     0.99705,\n",
      "            0.99705,     0.99705,     0.99705,     0.99705,     0.99705,     0.99705,     0.99705,     0.99705,     0.99705,     0.99705,     0.99705,     0.99705,     0.99705,     0.99705,     0.99705,     0.99705,     0.99705,     0.99705,     0.99705,     0.99705,     0.99705,     0.99705,     0.99705,\n",
      "            0.99705,     0.99705,     0.99705,     0.99705,     0.99705,     0.99705,     0.99705,     0.99705,     0.99705,     0.99705,     0.99705,     0.99705,     0.99705,     0.99705,     0.99705,     0.99705,     0.99705,     0.99705,     0.99705,     0.99705,     0.99705,     0.99705,     0.99705,\n",
      "            0.99705,     0.99705,     0.99705,     0.99705,     0.99705,     0.99705,     0.99705,     0.99705,     0.99705,     0.99705,     0.99705,     0.99705,     0.99705,     0.99705,     0.99705,     0.99705,     0.99705,     0.99705,     0.99705,     0.99705,     0.99705,     0.99697,     0.99697,\n",
      "            0.99697,     0.99697,     0.99697,     0.99697,     0.99697,     0.99697,     0.99697,     0.99697,     0.99697,     0.99697,     0.99697,     0.99697,     0.99697,     0.99697,     0.99697,     0.99697,     0.99697,     0.99697,     0.99697,     0.99697,     0.99697,     0.99697,     0.99697,\n",
      "            0.99697,     0.99697,     0.99697,     0.99697,     0.99697,     0.99697,     0.99697,     0.99697,     0.99697,     0.99697,     0.99697,     0.99697,     0.99697,     0.99697,     0.99697,     0.99697,     0.99697,     0.99697,     0.99697,     0.99697,     0.99697,     0.99697,     0.99697,\n",
      "            0.99697,     0.99697,     0.99697,     0.99697,     0.99697,     0.99697,     0.99697,     0.99697,     0.99697,     0.99697,     0.99697,     0.99697,     0.99697,     0.99697,     0.99697,     0.99697,     0.99697,     0.99697,     0.99697,     0.99697,     0.99697,     0.99697,     0.99697,\n",
      "            0.99697,     0.99697,     0.99697,     0.99697,     0.99697,     0.99697,     0.99697,     0.99697,     0.99697,     0.99697,     0.99697,     0.99697,     0.99697,     0.99662,     0.99662,     0.99662,     0.99662,     0.99662,     0.99662,     0.99662,     0.99662,     0.99662,     0.99662,\n",
      "            0.99662,     0.99662,     0.99662,     0.99662,     0.99637,     0.99611,     0.99585,      0.9955,      0.9955,      0.9955,      0.9955,      0.9955,      0.9955,      0.9955,      0.9955,      0.9955,     0.99542,     0.99542,     0.99542,     0.99542,     0.99542,     0.99542,     0.99542,\n",
      "             0.9954,      0.9954,      0.9954,      0.9954,      0.9954,      0.9954,      0.9954,      0.9954,      0.9954,      0.9954,      0.9954,     0.99518,     0.99518,     0.99518,     0.99518,     0.99518,     0.99518,     0.99518,     0.99518,     0.99518,     0.99518,     0.99518,     0.99518,\n",
      "            0.99505,     0.99505,     0.99505,     0.99505,     0.99505,     0.99505,     0.99505,     0.99505,     0.99505,     0.99505,     0.99505,     0.99505,     0.99505,     0.99505,     0.99505,     0.99505,     0.99505,     0.99505,     0.99505,     0.99505,     0.99505,     0.99505,     0.99505,\n",
      "            0.99505,     0.99505,     0.99505,     0.99469,     0.99469,     0.99434,     0.99434,     0.99434,     0.99425,     0.99425,     0.99425,     0.99425,     0.99425,     0.99424,     0.99424,     0.99424,     0.99424,     0.99424,     0.99424,     0.99424,     0.99424,     0.99424,     0.99413,\n",
      "            0.99413,     0.99413,     0.99396,     0.99381,     0.99381,     0.99365,      0.9936,      0.9936,      0.9936,      0.9936,      0.9936,      0.9936,     0.99345,     0.99341,     0.99341,     0.99341,     0.99341,     0.99341,     0.99341,     0.99331,     0.99331,     0.99331,     0.99331,\n",
      "            0.99325,     0.99325,     0.99325,     0.99325,     0.99325,     0.99325,     0.99325,     0.99325,     0.99325,     0.99325,     0.99325,     0.99325,     0.99325,     0.99321,     0.99321,     0.99321,     0.99321,     0.99321,     0.99321,     0.99321,     0.99321,     0.99321,     0.99321,\n",
      "            0.99321,     0.99321,     0.99321,     0.99321,     0.99321,     0.99321,     0.99321,     0.99321,     0.99321,     0.99321,     0.99321,     0.99321,     0.99321,     0.99321,     0.99321,     0.99321,     0.99321,     0.99321,     0.99321,     0.99321,     0.99321,     0.99321,     0.99321,\n",
      "            0.99321,     0.99321,     0.99321,     0.99321,     0.99315,     0.99315,     0.99315,     0.99315,     0.99315,     0.99304,     0.99276,     0.99267,     0.99267,     0.99267,     0.99257,     0.99257,     0.99246,     0.99246,     0.99222,     0.99222,     0.99219,     0.99219,     0.99219,\n",
      "            0.99219,     0.99219,     0.99211,     0.99211,     0.99211,     0.99203,     0.99203,     0.99203,     0.99194,     0.99194,     0.99194,     0.99194,     0.99194,     0.99194,     0.99194,     0.99194,     0.99194,     0.99192,     0.99192,     0.99192,     0.99192,     0.99192,     0.99192,\n",
      "            0.99192,     0.99192,     0.99192,     0.99192,     0.99192,     0.99192,     0.99184,     0.99184,     0.99175,     0.99175,     0.99175,     0.99175,     0.99175,     0.99175,     0.99175,     0.99175,     0.99175,     0.99154,     0.99154,     0.99148,     0.99148,     0.99148,     0.99137,\n",
      "            0.99127,     0.99116,     0.99101,     0.99101,     0.99101,     0.99101,      0.9909,     0.99079,     0.99069,     0.99066,     0.99066,     0.99066,     0.99066,     0.99053,     0.99053,     0.99053,     0.99053,     0.99053,     0.99051,     0.99051,     0.99051,     0.99051,     0.99051,\n",
      "             0.9903,      0.9902,      0.9901,      0.9901,      0.9901,      0.9901,      0.9901,      0.9901,     0.98991,     0.98991,     0.98982,     0.98971,     0.98955,     0.98955,     0.98945,     0.98942,     0.98942,     0.98942,     0.98942,     0.98931,     0.98931,     0.98931,     0.98931,\n",
      "            0.98931,     0.98922,     0.98915,     0.98915,     0.98895,     0.98887,     0.98866,     0.98836,     0.98816,     0.98808,     0.98805,     0.98805,     0.98805,     0.98791,     0.98791,     0.98791,     0.98785,     0.98785,     0.98754,     0.98751,     0.98751,     0.98747,     0.98747,\n",
      "            0.98747,     0.98738,     0.98736,     0.98736,     0.98736,     0.98727,      0.9872,     0.98711,     0.98695,     0.98695,     0.98687,     0.98675,     0.98675,     0.98675,     0.98667,      0.9866,     0.98651,     0.98643,     0.98637,      0.9862,      0.9862,     0.98607,     0.98607,\n",
      "            0.98589,     0.98556,     0.98556,     0.98556,     0.98508,     0.98501,     0.98494,     0.98479,      0.9847,     0.98453,     0.98417,     0.98412,     0.98403,     0.98376,      0.9835,     0.98333,     0.98316,      0.9829,     0.98284,      0.9824,     0.98226,     0.98226,     0.98221,\n",
      "            0.98212,     0.98169,     0.98163,     0.98136,     0.98111,     0.98106,     0.98093,     0.98093,     0.98058,     0.98035,     0.98028,     0.98022,     0.97999,     0.97995,     0.97995,     0.97952,      0.9793,     0.97914,     0.97903,     0.97903,     0.97887,     0.97863,     0.97849,\n",
      "            0.97826,     0.97804,     0.97797,     0.97773,     0.97742,     0.97718,     0.97694,     0.97664,     0.97648,     0.97643,     0.97638,     0.97615,     0.97586,     0.97571,     0.97557,     0.97492,     0.97485,      0.9745,      0.9745,     0.97428,     0.97391,     0.97376,     0.97362,\n",
      "            0.97296,      0.9725,     0.97236,     0.97154,     0.97134,     0.97121,     0.97076,      0.9707,     0.97042,     0.97021,     0.96995,     0.96989,      0.9696,      0.9695,     0.96944,     0.96924,     0.96906,     0.96882,     0.96882,     0.96843,     0.96831,     0.96787,     0.96746,\n",
      "            0.96732,     0.96697,     0.96645,     0.96624,     0.96579,     0.96539,     0.96493,     0.96466,     0.96407,     0.96399,     0.96388,     0.96359,     0.96341,      0.9629,     0.96272,     0.96261,     0.96235,      0.9621,     0.96161,     0.96136,     0.96116,     0.96094,     0.96081,\n",
      "            0.96042,     0.96007,      0.9596,     0.95942,     0.95908,      0.9586,      0.9579,     0.95764,     0.95683,      0.9567,     0.95638,     0.95621,     0.95563,     0.95558,     0.95451,      0.9543,     0.95381,     0.95368,     0.95335,     0.95305,     0.95274,     0.95259,     0.95233,\n",
      "            0.95228,     0.95198,     0.95175,     0.95133,     0.95109,     0.95057,     0.95012,      0.9499,     0.94939,     0.94917,      0.9488,     0.94838,     0.94803,     0.94744,     0.94711,     0.94673,      0.9463,     0.94588,     0.94549,     0.94531,     0.94476,       0.944,     0.94371,\n",
      "            0.94336,     0.94302,     0.94241,     0.94199,     0.94164,     0.94111,     0.94099,     0.94022,     0.93921,     0.93908,     0.93848,     0.93787,     0.93727,     0.93694,     0.93677,     0.93604,     0.93523,     0.93478,     0.93386,     0.93361,     0.93318,     0.93279,     0.93222,\n",
      "            0.93183,     0.93127,     0.92996,     0.92956,     0.92943,      0.9288,     0.92747,     0.92704,     0.92603,      0.9253,      0.9246,      0.9236,      0.9228,     0.92201,     0.92147,     0.92036,     0.91894,     0.91798,     0.91639,     0.91556,      0.9151,     0.91496,     0.91435,\n",
      "            0.91369,     0.91281,     0.91219,     0.91174,     0.91016,      0.9091,     0.90873,     0.90824,     0.90769,     0.90695,     0.90601,     0.90509,     0.90444,     0.90372,     0.90295,     0.90249,      0.9013,     0.90094,     0.89954,      0.8983,     0.89774,     0.89636,     0.89534,\n",
      "             0.8945,     0.89369,     0.89275,     0.89207,     0.89106,     0.89087,     0.89036,     0.88987,     0.88882,      0.8882,     0.88736,     0.88689,     0.88535,     0.88465,     0.88356,     0.88266,      0.8817,     0.88037,       0.879,     0.87875,     0.87765,     0.87593,     0.87521,\n",
      "            0.87385,      0.8715,     0.86991,     0.86839,      0.8676,      0.8665,     0.86576,      0.8641,     0.86322,     0.86194,     0.86047,     0.85995,      0.8589,     0.85784,     0.85694,     0.85511,     0.85391,     0.85234,     0.85082,     0.84824,     0.84734,     0.84569,     0.84479,\n",
      "            0.84223,     0.84062,      0.8394,      0.8382,     0.83705,     0.83591,     0.83416,     0.83304,     0.83102,     0.82936,     0.82798,     0.82592,      0.8242,     0.82249,     0.82043,     0.81861,     0.81813,     0.81563,     0.81414,     0.81214,     0.80864,     0.80634,      0.8045,\n",
      "            0.80227,     0.80078,      0.7993,     0.79808,     0.79633,     0.79469,     0.79281,     0.79125,     0.78866,     0.78547,     0.78308,     0.77985,     0.77708,      0.7746,     0.77243,     0.77102,      0.7692,     0.76607,     0.76289,     0.76041,      0.7579,     0.75555,     0.75265,\n",
      "            0.75035,     0.74753,     0.74438,     0.74302,     0.74084,     0.73677,     0.73408,     0.73173,     0.72967,     0.72609,     0.72331,     0.71759,      0.7127,      0.7083,     0.70525,      0.7014,     0.69891,     0.69518,     0.68982,     0.68732,     0.68323,     0.68123,     0.67776,\n",
      "            0.67466,     0.66979,     0.66658,      0.6613,     0.65814,     0.65515,     0.65154,     0.64615,     0.64151,     0.63629,     0.63292,     0.62896,     0.62399,     0.61786,      0.6117,     0.60627,      0.6007,     0.59613,     0.59181,     0.58645,     0.58102,     0.57616,     0.57167,\n",
      "            0.56496,     0.56122,     0.55572,     0.54791,     0.54394,      0.5376,     0.53136,     0.52537,     0.51893,      0.5139,     0.50758,     0.49943,     0.49498,     0.48993,     0.48092,     0.47255,     0.46781,     0.46247,      0.4553,     0.44692,     0.43675,     0.42909,     0.42223,\n",
      "            0.41473,       0.408,      0.4006,     0.39625,     0.38831,     0.38223,     0.37016,     0.36219,     0.35347,     0.34755,     0.33966,     0.33214,     0.32294,     0.31713,     0.31011,     0.30496,      0.2976,     0.28984,     0.28047,     0.27307,     0.25976,      0.2498,     0.23994,\n",
      "             0.2253,     0.20035,     0.17793,     0.15669,     0.15463,     0.15257,     0.15051,     0.14845,     0.14638,     0.14432,     0.14226,      0.1402,     0.13814,     0.13608,     0.13401,     0.13195,     0.12989,     0.12783,     0.12577,     0.12371,     0.12164,     0.11958,     0.11752,\n",
      "            0.11546,      0.1134,     0.11133,     0.10927,     0.10721,     0.10515,     0.10309,     0.10103,    0.098964,    0.096902,    0.094841,    0.092779,    0.090717,    0.088655,    0.086594,    0.084532,     0.08247,    0.080408,    0.078347,    0.076285,    0.074223,    0.072161,      0.0701,\n",
      "           0.068038,    0.065976,    0.063914,    0.061853,    0.059791,    0.057729,    0.055667,    0.053606,    0.051544,    0.049482,     0.04742,    0.045359,    0.043297,    0.041235,    0.039173,    0.037112,     0.03505,    0.032988,    0.030926,    0.028865,    0.026803,    0.024741,    0.022679,\n",
      "           0.020618,    0.018556,    0.016494,    0.014432,    0.012371,    0.010309,    0.008247,   0.0061853,   0.0041235,   0.0020618,           0]]), 'Recall', 'Precision'], [array([          0,    0.001001,    0.002002,    0.003003,    0.004004,    0.005005,    0.006006,    0.007007,    0.008008,    0.009009,     0.01001,    0.011011,    0.012012,    0.013013,    0.014014,    0.015015,    0.016016,    0.017017,    0.018018,    0.019019,     0.02002,    0.021021,    0.022022,    0.023023,\n",
      "          0.024024,    0.025025,    0.026026,    0.027027,    0.028028,    0.029029,     0.03003,    0.031031,    0.032032,    0.033033,    0.034034,    0.035035,    0.036036,    0.037037,    0.038038,    0.039039,     0.04004,    0.041041,    0.042042,    0.043043,    0.044044,    0.045045,    0.046046,    0.047047,\n",
      "          0.048048,    0.049049,     0.05005,    0.051051,    0.052052,    0.053053,    0.054054,    0.055055,    0.056056,    0.057057,    0.058058,    0.059059,     0.06006,    0.061061,    0.062062,    0.063063,    0.064064,    0.065065,    0.066066,    0.067067,    0.068068,    0.069069,     0.07007,    0.071071,\n",
      "          0.072072,    0.073073,    0.074074,    0.075075,    0.076076,    0.077077,    0.078078,    0.079079,     0.08008,    0.081081,    0.082082,    0.083083,    0.084084,    0.085085,    0.086086,    0.087087,    0.088088,    0.089089,     0.09009,    0.091091,    0.092092,    0.093093,    0.094094,    0.095095,\n",
      "          0.096096,    0.097097,    0.098098,    0.099099,      0.1001,      0.1011,      0.1021,      0.1031,      0.1041,     0.10511,     0.10611,     0.10711,     0.10811,     0.10911,     0.11011,     0.11111,     0.11211,     0.11311,     0.11411,     0.11512,     0.11612,     0.11712,     0.11812,     0.11912,\n",
      "           0.12012,     0.12112,     0.12212,     0.12312,     0.12412,     0.12513,     0.12613,     0.12713,     0.12813,     0.12913,     0.13013,     0.13113,     0.13213,     0.13313,     0.13413,     0.13514,     0.13614,     0.13714,     0.13814,     0.13914,     0.14014,     0.14114,     0.14214,     0.14314,\n",
      "           0.14414,     0.14515,     0.14615,     0.14715,     0.14815,     0.14915,     0.15015,     0.15115,     0.15215,     0.15315,     0.15415,     0.15516,     0.15616,     0.15716,     0.15816,     0.15916,     0.16016,     0.16116,     0.16216,     0.16316,     0.16416,     0.16517,     0.16617,     0.16717,\n",
      "           0.16817,     0.16917,     0.17017,     0.17117,     0.17217,     0.17317,     0.17417,     0.17518,     0.17618,     0.17718,     0.17818,     0.17918,     0.18018,     0.18118,     0.18218,     0.18318,     0.18418,     0.18519,     0.18619,     0.18719,     0.18819,     0.18919,     0.19019,     0.19119,\n",
      "           0.19219,     0.19319,     0.19419,      0.1952,      0.1962,      0.1972,      0.1982,      0.1992,      0.2002,      0.2012,      0.2022,      0.2032,      0.2042,     0.20521,     0.20621,     0.20721,     0.20821,     0.20921,     0.21021,     0.21121,     0.21221,     0.21321,     0.21421,     0.21522,\n",
      "           0.21622,     0.21722,     0.21822,     0.21922,     0.22022,     0.22122,     0.22222,     0.22322,     0.22422,     0.22523,     0.22623,     0.22723,     0.22823,     0.22923,     0.23023,     0.23123,     0.23223,     0.23323,     0.23423,     0.23524,     0.23624,     0.23724,     0.23824,     0.23924,\n",
      "           0.24024,     0.24124,     0.24224,     0.24324,     0.24424,     0.24525,     0.24625,     0.24725,     0.24825,     0.24925,     0.25025,     0.25125,     0.25225,     0.25325,     0.25425,     0.25526,     0.25626,     0.25726,     0.25826,     0.25926,     0.26026,     0.26126,     0.26226,     0.26326,\n",
      "           0.26426,     0.26527,     0.26627,     0.26727,     0.26827,     0.26927,     0.27027,     0.27127,     0.27227,     0.27327,     0.27427,     0.27528,     0.27628,     0.27728,     0.27828,     0.27928,     0.28028,     0.28128,     0.28228,     0.28328,     0.28428,     0.28529,     0.28629,     0.28729,\n",
      "           0.28829,     0.28929,     0.29029,     0.29129,     0.29229,     0.29329,     0.29429,      0.2953,      0.2963,      0.2973,      0.2983,      0.2993,      0.3003,      0.3013,      0.3023,      0.3033,      0.3043,     0.30531,     0.30631,     0.30731,     0.30831,     0.30931,     0.31031,     0.31131,\n",
      "           0.31231,     0.31331,     0.31431,     0.31532,     0.31632,     0.31732,     0.31832,     0.31932,     0.32032,     0.32132,     0.32232,     0.32332,     0.32432,     0.32533,     0.32633,     0.32733,     0.32833,     0.32933,     0.33033,     0.33133,     0.33233,     0.33333,     0.33433,     0.33534,\n",
      "           0.33634,     0.33734,     0.33834,     0.33934,     0.34034,     0.34134,     0.34234,     0.34334,     0.34434,     0.34535,     0.34635,     0.34735,     0.34835,     0.34935,     0.35035,     0.35135,     0.35235,     0.35335,     0.35435,     0.35536,     0.35636,     0.35736,     0.35836,     0.35936,\n",
      "           0.36036,     0.36136,     0.36236,     0.36336,     0.36436,     0.36537,     0.36637,     0.36737,     0.36837,     0.36937,     0.37037,     0.37137,     0.37237,     0.37337,     0.37437,     0.37538,     0.37638,     0.37738,     0.37838,     0.37938,     0.38038,     0.38138,     0.38238,     0.38338,\n",
      "           0.38438,     0.38539,     0.38639,     0.38739,     0.38839,     0.38939,     0.39039,     0.39139,     0.39239,     0.39339,     0.39439,      0.3954,      0.3964,      0.3974,      0.3984,      0.3994,      0.4004,      0.4014,      0.4024,      0.4034,      0.4044,     0.40541,     0.40641,     0.40741,\n",
      "           0.40841,     0.40941,     0.41041,     0.41141,     0.41241,     0.41341,     0.41441,     0.41542,     0.41642,     0.41742,     0.41842,     0.41942,     0.42042,     0.42142,     0.42242,     0.42342,     0.42442,     0.42543,     0.42643,     0.42743,     0.42843,     0.42943,     0.43043,     0.43143,\n",
      "           0.43243,     0.43343,     0.43443,     0.43544,     0.43644,     0.43744,     0.43844,     0.43944,     0.44044,     0.44144,     0.44244,     0.44344,     0.44444,     0.44545,     0.44645,     0.44745,     0.44845,     0.44945,     0.45045,     0.45145,     0.45245,     0.45345,     0.45445,     0.45546,\n",
      "           0.45646,     0.45746,     0.45846,     0.45946,     0.46046,     0.46146,     0.46246,     0.46346,     0.46446,     0.46547,     0.46647,     0.46747,     0.46847,     0.46947,     0.47047,     0.47147,     0.47247,     0.47347,     0.47447,     0.47548,     0.47648,     0.47748,     0.47848,     0.47948,\n",
      "           0.48048,     0.48148,     0.48248,     0.48348,     0.48448,     0.48549,     0.48649,     0.48749,     0.48849,     0.48949,     0.49049,     0.49149,     0.49249,     0.49349,     0.49449,      0.4955,      0.4965,      0.4975,      0.4985,      0.4995,      0.5005,      0.5015,      0.5025,      0.5035,\n",
      "            0.5045,     0.50551,     0.50651,     0.50751,     0.50851,     0.50951,     0.51051,     0.51151,     0.51251,     0.51351,     0.51451,     0.51552,     0.51652,     0.51752,     0.51852,     0.51952,     0.52052,     0.52152,     0.52252,     0.52352,     0.52452,     0.52553,     0.52653,     0.52753,\n",
      "           0.52853,     0.52953,     0.53053,     0.53153,     0.53253,     0.53353,     0.53453,     0.53554,     0.53654,     0.53754,     0.53854,     0.53954,     0.54054,     0.54154,     0.54254,     0.54354,     0.54454,     0.54555,     0.54655,     0.54755,     0.54855,     0.54955,     0.55055,     0.55155,\n",
      "           0.55255,     0.55355,     0.55455,     0.55556,     0.55656,     0.55756,     0.55856,     0.55956,     0.56056,     0.56156,     0.56256,     0.56356,     0.56456,     0.56557,     0.56657,     0.56757,     0.56857,     0.56957,     0.57057,     0.57157,     0.57257,     0.57357,     0.57457,     0.57558,\n",
      "           0.57658,     0.57758,     0.57858,     0.57958,     0.58058,     0.58158,     0.58258,     0.58358,     0.58458,     0.58559,     0.58659,     0.58759,     0.58859,     0.58959,     0.59059,     0.59159,     0.59259,     0.59359,     0.59459,      0.5956,      0.5966,      0.5976,      0.5986,      0.5996,\n",
      "            0.6006,      0.6016,      0.6026,      0.6036,      0.6046,     0.60561,     0.60661,     0.60761,     0.60861,     0.60961,     0.61061,     0.61161,     0.61261,     0.61361,     0.61461,     0.61562,     0.61662,     0.61762,     0.61862,     0.61962,     0.62062,     0.62162,     0.62262,     0.62362,\n",
      "           0.62462,     0.62563,     0.62663,     0.62763,     0.62863,     0.62963,     0.63063,     0.63163,     0.63263,     0.63363,     0.63463,     0.63564,     0.63664,     0.63764,     0.63864,     0.63964,     0.64064,     0.64164,     0.64264,     0.64364,     0.64464,     0.64565,     0.64665,     0.64765,\n",
      "           0.64865,     0.64965,     0.65065,     0.65165,     0.65265,     0.65365,     0.65465,     0.65566,     0.65666,     0.65766,     0.65866,     0.65966,     0.66066,     0.66166,     0.66266,     0.66366,     0.66466,     0.66567,     0.66667,     0.66767,     0.66867,     0.66967,     0.67067,     0.67167,\n",
      "           0.67267,     0.67367,     0.67467,     0.67568,     0.67668,     0.67768,     0.67868,     0.67968,     0.68068,     0.68168,     0.68268,     0.68368,     0.68468,     0.68569,     0.68669,     0.68769,     0.68869,     0.68969,     0.69069,     0.69169,     0.69269,     0.69369,     0.69469,      0.6957,\n",
      "            0.6967,      0.6977,      0.6987,      0.6997,      0.7007,      0.7017,      0.7027,      0.7037,      0.7047,     0.70571,     0.70671,     0.70771,     0.70871,     0.70971,     0.71071,     0.71171,     0.71271,     0.71371,     0.71471,     0.71572,     0.71672,     0.71772,     0.71872,     0.71972,\n",
      "           0.72072,     0.72172,     0.72272,     0.72372,     0.72472,     0.72573,     0.72673,     0.72773,     0.72873,     0.72973,     0.73073,     0.73173,     0.73273,     0.73373,     0.73473,     0.73574,     0.73674,     0.73774,     0.73874,     0.73974,     0.74074,     0.74174,     0.74274,     0.74374,\n",
      "           0.74474,     0.74575,     0.74675,     0.74775,     0.74875,     0.74975,     0.75075,     0.75175,     0.75275,     0.75375,     0.75475,     0.75576,     0.75676,     0.75776,     0.75876,     0.75976,     0.76076,     0.76176,     0.76276,     0.76376,     0.76476,     0.76577,     0.76677,     0.76777,\n",
      "           0.76877,     0.76977,     0.77077,     0.77177,     0.77277,     0.77377,     0.77477,     0.77578,     0.77678,     0.77778,     0.77878,     0.77978,     0.78078,     0.78178,     0.78278,     0.78378,     0.78478,     0.78579,     0.78679,     0.78779,     0.78879,     0.78979,     0.79079,     0.79179,\n",
      "           0.79279,     0.79379,     0.79479,      0.7958,      0.7968,      0.7978,      0.7988,      0.7998,      0.8008,      0.8018,      0.8028,      0.8038,      0.8048,     0.80581,     0.80681,     0.80781,     0.80881,     0.80981,     0.81081,     0.81181,     0.81281,     0.81381,     0.81481,     0.81582,\n",
      "           0.81682,     0.81782,     0.81882,     0.81982,     0.82082,     0.82182,     0.82282,     0.82382,     0.82482,     0.82583,     0.82683,     0.82783,     0.82883,     0.82983,     0.83083,     0.83183,     0.83283,     0.83383,     0.83483,     0.83584,     0.83684,     0.83784,     0.83884,     0.83984,\n",
      "           0.84084,     0.84184,     0.84284,     0.84384,     0.84484,     0.84585,     0.84685,     0.84785,     0.84885,     0.84985,     0.85085,     0.85185,     0.85285,     0.85385,     0.85485,     0.85586,     0.85686,     0.85786,     0.85886,     0.85986,     0.86086,     0.86186,     0.86286,     0.86386,\n",
      "           0.86486,     0.86587,     0.86687,     0.86787,     0.86887,     0.86987,     0.87087,     0.87187,     0.87287,     0.87387,     0.87487,     0.87588,     0.87688,     0.87788,     0.87888,     0.87988,     0.88088,     0.88188,     0.88288,     0.88388,     0.88488,     0.88589,     0.88689,     0.88789,\n",
      "           0.88889,     0.88989,     0.89089,     0.89189,     0.89289,     0.89389,     0.89489,      0.8959,      0.8969,      0.8979,      0.8989,      0.8999,      0.9009,      0.9019,      0.9029,      0.9039,      0.9049,     0.90591,     0.90691,     0.90791,     0.90891,     0.90991,     0.91091,     0.91191,\n",
      "           0.91291,     0.91391,     0.91491,     0.91592,     0.91692,     0.91792,     0.91892,     0.91992,     0.92092,     0.92192,     0.92292,     0.92392,     0.92492,     0.92593,     0.92693,     0.92793,     0.92893,     0.92993,     0.93093,     0.93193,     0.93293,     0.93393,     0.93493,     0.93594,\n",
      "           0.93694,     0.93794,     0.93894,     0.93994,     0.94094,     0.94194,     0.94294,     0.94394,     0.94494,     0.94595,     0.94695,     0.94795,     0.94895,     0.94995,     0.95095,     0.95195,     0.95295,     0.95395,     0.95495,     0.95596,     0.95696,     0.95796,     0.95896,     0.95996,\n",
      "           0.96096,     0.96196,     0.96296,     0.96396,     0.96496,     0.96597,     0.96697,     0.96797,     0.96897,     0.96997,     0.97097,     0.97197,     0.97297,     0.97397,     0.97497,     0.97598,     0.97698,     0.97798,     0.97898,     0.97998,     0.98098,     0.98198,     0.98298,     0.98398,\n",
      "           0.98498,     0.98599,     0.98699,     0.98799,     0.98899,     0.98999,     0.99099,     0.99199,     0.99299,     0.99399,     0.99499,       0.996,       0.997,       0.998,       0.999,           1]), array([[    0.26945,     0.26945,     0.31211,     0.33813,     0.35645,     0.37183,     0.38406,     0.39438,     0.40369,     0.41169,     0.41902,     0.42545,     0.43265,     0.44102,     0.45011,     0.45946,     0.46832,     0.47696,     0.48519,     0.49316,     0.49991,     0.50608,     0.51211,\n",
      "            0.51771,     0.52294,     0.52801,     0.53288,     0.53717,     0.54143,     0.54529,     0.54889,      0.5527,     0.55586,     0.55926,     0.56243,     0.56572,     0.56866,     0.57147,     0.57422,     0.57692,     0.57969,     0.58224,     0.58476,     0.58743,     0.59014,     0.59239,\n",
      "            0.59503,     0.59727,     0.59983,     0.60237,     0.60443,     0.60632,     0.60885,     0.61076,     0.61302,     0.61492,     0.61682,     0.61829,      0.6205,     0.62271,     0.62432,     0.62651,     0.62812,     0.63018,     0.63201,     0.63383,     0.63543,     0.63715,     0.63921,\n",
      "            0.64099,     0.64276,     0.64431,     0.64582,     0.64724,     0.64912,       0.651,     0.65226,     0.65364,     0.65539,     0.65672,     0.65832,     0.65963,     0.66101,     0.66253,     0.66378,     0.66503,     0.66641,     0.66772,     0.66897,     0.67023,     0.67177,     0.67277,\n",
      "             0.6739,     0.67509,     0.67661,     0.67762,     0.67897,     0.67999,     0.68124,     0.68225,     0.68347,     0.68477,     0.68597,     0.68683,     0.68778,     0.68918,     0.69018,     0.69144,     0.69218,     0.69351,      0.6944,     0.69529,     0.69653,     0.69711,     0.69831,\n",
      "            0.69918,     0.70012,     0.70089,     0.70203,     0.70305,     0.70414,     0.70506,     0.70562,     0.70689,     0.70782,      0.7088,     0.70976,     0.71063,     0.71173,     0.71246,     0.71327,     0.71411,      0.7153,     0.71592,     0.71661,     0.71734,     0.71838,     0.71932,\n",
      "            0.72004,     0.72093,     0.72181,     0.72273,     0.72363,     0.72435,     0.72512,     0.72636,     0.72712,     0.72794,     0.72871,     0.72948,     0.72995,     0.73061,     0.73121,     0.73215,     0.73282,     0.73361,     0.73436,     0.73496,     0.73535,     0.73615,     0.73681,\n",
      "            0.73769,     0.73828,      0.7391,     0.73968,     0.74034,     0.74093,     0.74126,     0.74186,     0.74247,     0.74303,     0.74355,     0.74434,     0.74471,     0.74519,     0.74592,     0.74669,     0.74709,     0.74783,     0.74854,     0.74922,     0.74962,     0.75026,     0.75104,\n",
      "            0.75162,     0.75234,     0.75297,     0.75371,     0.75399,     0.75448,     0.75535,     0.75566,     0.75626,     0.75669,     0.75697,     0.75735,     0.75829,     0.75879,     0.75929,     0.75966,     0.75996,      0.7606,     0.76107,     0.76173,     0.76198,     0.76262,     0.76301,\n",
      "            0.76349,     0.76422,     0.76462,     0.76514,      0.7654,     0.76579,     0.76599,      0.7664,     0.76663,     0.76744,     0.76784,     0.76842,      0.7687,     0.76931,     0.76949,     0.77011,      0.7706,     0.77133,     0.77173,     0.77249,     0.77269,     0.77346,     0.77393,\n",
      "            0.77474,     0.77503,     0.77547,     0.77597,     0.77638,     0.77696,     0.77707,     0.77767,     0.77797,     0.77831,     0.77898,     0.77914,     0.77969,     0.77983,     0.78014,     0.78057,     0.78092,     0.78099,     0.78156,     0.78201,     0.78266,     0.78287,     0.78324,\n",
      "            0.78395,     0.78417,     0.78443,     0.78499,      0.7851,     0.78521,     0.78566,     0.78593,     0.78653,     0.78672,     0.78701,     0.78745,     0.78791,     0.78813,     0.78839,     0.78886,     0.78935,     0.78938,     0.78982,     0.79019,      0.7904,     0.79072,     0.79106,\n",
      "            0.79156,     0.79163,     0.79176,     0.79241,     0.79265,     0.79282,     0.79356,     0.79378,      0.7941,     0.79432,     0.79474,     0.79504,     0.79511,     0.79519,     0.79565,     0.79587,     0.79605,     0.79634,     0.79685,     0.79706,     0.79731,     0.79751,     0.79797,\n",
      "            0.79842,     0.79874,     0.79902,     0.79916,     0.79953,     0.79987,      0.8002,     0.80063,     0.80079,     0.80121,     0.80153,     0.80181,     0.80191,      0.8022,     0.80234,     0.80253,     0.80255,     0.80279,     0.80285,     0.80304,     0.80327,      0.8034,     0.80343,\n",
      "             0.8035,     0.80369,     0.80371,     0.80379,     0.80397,     0.80411,     0.80421,     0.80449,     0.80496,     0.80512,     0.80511,      0.8053,     0.80553,      0.8057,       0.806,      0.8066,     0.80683,     0.80699,     0.80728,     0.80747,     0.80776,      0.8081,     0.80809,\n",
      "             0.8084,     0.80815,     0.80819,     0.80835,     0.80846,     0.80896,     0.80902,     0.80907,     0.80924,     0.80933,     0.80957,     0.80953,      0.8097,     0.81002,     0.81005,      0.8102,     0.81028,     0.81044,     0.81027,     0.81048,     0.81078,     0.81093,      0.8109,\n",
      "            0.81085,      0.8109,     0.81106,     0.81111,     0.81111,     0.81116,     0.81134,     0.81122,     0.81123,     0.81128,     0.81127,     0.81142,      0.8117,     0.81194,     0.81204,     0.81196,     0.81187,      0.8119,     0.81186,     0.81216,     0.81209,     0.81215,     0.81269,\n",
      "            0.81262,     0.81269,     0.81279,     0.81298,     0.81295,     0.81296,     0.81301,     0.81297,     0.81292,      0.8131,     0.81324,     0.81295,      0.8131,     0.81306,     0.81289,     0.81294,     0.81275,     0.81264,     0.81254,     0.81258,     0.81258,     0.81277,     0.81255,\n",
      "            0.81252,     0.81248,     0.81254,     0.81268,     0.81251,     0.81231,     0.81241,      0.8124,     0.81213,      0.8122,     0.81212,     0.81229,     0.81237,     0.81234,     0.81276,     0.81281,     0.81293,     0.81278,     0.81267,     0.81254,      0.8126,     0.81264,     0.81264,\n",
      "            0.81244,     0.81211,     0.81212,     0.81219,     0.81208,     0.81213,     0.81185,     0.81187,     0.81185,     0.81163,     0.81166,     0.81173,     0.81131,     0.81138,     0.81092,     0.81084,     0.81076,     0.81051,     0.81043,     0.81029,     0.81011,     0.80985,     0.80977,\n",
      "            0.80929,     0.80897,     0.80885,      0.8088,     0.80865,     0.80854,     0.80826,      0.8081,     0.80788,     0.80747,     0.80753,     0.80746,      0.8075,     0.80736,      0.8071,     0.80695,     0.80691,     0.80686,     0.80668,      0.8065,     0.80625,     0.80595,     0.80576,\n",
      "            0.80555,     0.80538,     0.80521,     0.80504,     0.80484,     0.80449,     0.80454,     0.80424,     0.80408,     0.80394,     0.80358,     0.80329,     0.80279,     0.80268,      0.8026,     0.80263,     0.80257,     0.80222,     0.80208,     0.80178,     0.80164,     0.80125,     0.80121,\n",
      "            0.80072,     0.80034,     0.79989,      0.7996,     0.79957,     0.79929,     0.79921,     0.79932,     0.79922,     0.79904,     0.79908,     0.79886,     0.79875,     0.79864,     0.79796,     0.79787,     0.79755,     0.79744,     0.79724,     0.79709,     0.79671,     0.79649,     0.79643,\n",
      "            0.79604,     0.79581,     0.79564,     0.79549,      0.7952,     0.79463,     0.79416,     0.79398,     0.79382,     0.79379,     0.79334,     0.79291,     0.79251,     0.79207,     0.79169,     0.79119,     0.79081,      0.7906,     0.79016,     0.78989,      0.7897,     0.78948,     0.78913,\n",
      "            0.78886,     0.78811,     0.78781,     0.78731,     0.78686,     0.78601,     0.78573,     0.78561,     0.78534,     0.78462,     0.78407,     0.78367,     0.78316,     0.78292,     0.78256,     0.78225,     0.78173,     0.78121,     0.78079,     0.78048,      0.7801,     0.77982,     0.77913,\n",
      "            0.77873,     0.77831,     0.77791,     0.77745,     0.77676,     0.77587,      0.7754,     0.77469,     0.77404,     0.77348,     0.77275,     0.77227,     0.77177,     0.77115,     0.77056,     0.76996,     0.76917,     0.76845,      0.7676,     0.76666,       0.766,     0.76439,     0.76397,\n",
      "            0.76344,     0.76302,     0.76273,     0.76207,     0.76163,     0.76082,     0.76028,     0.75984,     0.75913,     0.75819,      0.7579,     0.75731,     0.75686,     0.75621,     0.75562,     0.75497,      0.7544,     0.75364,     0.75275,     0.75214,     0.75147,     0.75099,     0.74993,\n",
      "            0.74873,     0.74837,     0.74756,     0.74688,     0.74611,     0.74526,     0.74442,     0.74368,     0.74317,      0.7424,     0.74193,     0.74043,     0.73946,     0.73856,     0.73786,     0.73711,     0.73612,     0.73497,     0.73408,     0.73209,     0.73115,     0.72999,     0.72909,\n",
      "            0.72815,     0.72705,     0.72599,     0.72526,     0.72469,     0.72306,     0.72179,     0.72092,        0.72,     0.71898,     0.71833,     0.71733,     0.71673,     0.71566,     0.71389,     0.71242,     0.71108,     0.71024,      0.7085,     0.70774,     0.70655,      0.7055,     0.70457,\n",
      "             0.7036,     0.70243,     0.70102,     0.69898,     0.69754,     0.69612,     0.69461,     0.69343,     0.69177,     0.69079,     0.68874,     0.68782,     0.68665,     0.68398,     0.68259,     0.68134,     0.67976,     0.67842,     0.67731,     0.67598,      0.6724,     0.67117,     0.66965,\n",
      "            0.66799,     0.66607,     0.66443,     0.66094,      0.6591,     0.65742,     0.65573,     0.65392,     0.64997,     0.64764,     0.64386,     0.64185,     0.64024,     0.63812,     0.63604,     0.63217,     0.63031,     0.62816,     0.62641,     0.62402,     0.61877,     0.61667,     0.61389,\n",
      "            0.61134,      0.6092,     0.60463,     0.60144,     0.59844,     0.59568,     0.58952,     0.58589,     0.58099,     0.57805,     0.57462,     0.57156,     0.56597,     0.56275,        0.56,      0.5543,     0.55175,     0.54852,     0.54639,     0.53992,     0.53608,     0.53303,     0.53039,\n",
      "            0.52445,     0.52149,     0.51757,     0.51114,     0.50541,     0.50215,     0.49915,     0.49635,     0.49024,     0.48384,     0.48302,     0.47593,     0.46946,     0.46876,     0.46202,     0.45713,     0.45667,     0.45008,     0.44308,      0.4423,     0.43668,      0.4301,     0.42346,\n",
      "            0.42264,     0.41538,     0.40975,      0.4041,     0.40335,     0.39794,     0.39223,     0.39158,     0.38571,     0.37891,     0.37341,     0.37272,     0.36814,     0.36273,     0.36214,      0.3565,      0.3508,     0.35029,     0.34328,     0.33841,      0.3316,     0.32627,     0.32542,\n",
      "            0.32005,     0.31496,     0.30858,     0.30771,     0.30257,     0.29703,     0.29122,     0.29043,       0.284,     0.27882,     0.27238,     0.27205,     0.26491,     0.25827,     0.25167,     0.24577,       0.245,     0.23964,     0.23359,     0.22795,     0.22219,     0.21639,     0.21594,\n",
      "            0.21064,     0.20548,     0.19973,     0.19439,     0.19385,     0.18972,     0.18513,     0.18064,     0.17414,     0.16894,     0.16846,      0.1616,     0.15562,     0.15061,     0.14479,     0.13922,     0.13425,     0.12972,     0.12302,     0.12242,     0.11674,     0.11156,     0.10665,\n",
      "            0.10311,     0.09948,    0.095834,     0.09256,    0.092056,    0.087818,    0.084614,    0.081788,    0.078758,    0.074487,     0.07267,    0.070105,    0.067335,    0.064358,    0.063162,    0.060771,    0.058734,    0.057284,    0.055764,    0.054858,    0.052446,    0.050732,    0.049519,\n",
      "           0.048204,    0.046988,    0.045669,    0.044652,    0.043432,    0.042413,    0.040884,    0.039761,    0.038942,    0.037206,    0.035976,     0.03546,    0.034535,     0.03412,    0.033296,    0.032507,    0.032161,    0.031336,    0.030407,    0.029683,    0.028958,    0.027923,    0.027712,\n",
      "           0.027295,    0.026568,    0.025015,      0.0247,    0.024074,    0.023345,    0.022823,    0.022403,    0.021984,    0.021357,    0.020418,    0.019479,    0.018538,    0.018189,    0.017511,    0.017378,    0.016672,    0.016222,      0.0158,    0.015257,    0.014851,    0.014626,    0.013901,\n",
      "           0.013269,       0.013,    0.012841,    0.012312,    0.011946,    0.011367,    0.010936,    0.010419,    0.010296,    0.010047,   0.0089219,   0.0087825,   0.0080972,   0.0077889,    0.007717,   0.0074587,   0.0073509,   0.0071576,   0.0071037,    0.006983,   0.0062412,   0.0060225,   0.0059146,\n",
      "          0.0053853,   0.0052722,   0.0047477,   0.0044184,    0.004114,   0.0040419,   0.0038933,   0.0037643,   0.0035833,   0.0035292,   0.0034318,   0.0032154,   0.0029989,   0.0025711,   0.0021431,    0.002053,   0.0019211,   0.0018046,   0.0016962,    0.001623,   0.0014802,   0.0014079,   0.0013154,\n",
      "          0.0010378,  0.00091989,  0.00086565,  0.00072896,  0.00065662,  0.00045287,  0.00039719,  0.00036101,  0.00032483,  0.00030187,  0.00028213,   0.0002624,  0.00024266,  0.00022292,           0,           0,           0,           0,           0,           0,           0,           0,           0,\n",
      "                  0,           0,           0,           0,           0,           0,           0,           0,           0,           0,           0,           0,           0,           0,           0,           0,           0,           0,           0,           0,           0,           0,           0,\n",
      "                  0,           0,           0,           0,           0,           0,           0,           0,           0,           0,           0]]), 'Confidence', 'F1'], [array([          0,    0.001001,    0.002002,    0.003003,    0.004004,    0.005005,    0.006006,    0.007007,    0.008008,    0.009009,     0.01001,    0.011011,    0.012012,    0.013013,    0.014014,    0.015015,    0.016016,    0.017017,    0.018018,    0.019019,     0.02002,    0.021021,    0.022022,    0.023023,\n",
      "          0.024024,    0.025025,    0.026026,    0.027027,    0.028028,    0.029029,     0.03003,    0.031031,    0.032032,    0.033033,    0.034034,    0.035035,    0.036036,    0.037037,    0.038038,    0.039039,     0.04004,    0.041041,    0.042042,    0.043043,    0.044044,    0.045045,    0.046046,    0.047047,\n",
      "          0.048048,    0.049049,     0.05005,    0.051051,    0.052052,    0.053053,    0.054054,    0.055055,    0.056056,    0.057057,    0.058058,    0.059059,     0.06006,    0.061061,    0.062062,    0.063063,    0.064064,    0.065065,    0.066066,    0.067067,    0.068068,    0.069069,     0.07007,    0.071071,\n",
      "          0.072072,    0.073073,    0.074074,    0.075075,    0.076076,    0.077077,    0.078078,    0.079079,     0.08008,    0.081081,    0.082082,    0.083083,    0.084084,    0.085085,    0.086086,    0.087087,    0.088088,    0.089089,     0.09009,    0.091091,    0.092092,    0.093093,    0.094094,    0.095095,\n",
      "          0.096096,    0.097097,    0.098098,    0.099099,      0.1001,      0.1011,      0.1021,      0.1031,      0.1041,     0.10511,     0.10611,     0.10711,     0.10811,     0.10911,     0.11011,     0.11111,     0.11211,     0.11311,     0.11411,     0.11512,     0.11612,     0.11712,     0.11812,     0.11912,\n",
      "           0.12012,     0.12112,     0.12212,     0.12312,     0.12412,     0.12513,     0.12613,     0.12713,     0.12813,     0.12913,     0.13013,     0.13113,     0.13213,     0.13313,     0.13413,     0.13514,     0.13614,     0.13714,     0.13814,     0.13914,     0.14014,     0.14114,     0.14214,     0.14314,\n",
      "           0.14414,     0.14515,     0.14615,     0.14715,     0.14815,     0.14915,     0.15015,     0.15115,     0.15215,     0.15315,     0.15415,     0.15516,     0.15616,     0.15716,     0.15816,     0.15916,     0.16016,     0.16116,     0.16216,     0.16316,     0.16416,     0.16517,     0.16617,     0.16717,\n",
      "           0.16817,     0.16917,     0.17017,     0.17117,     0.17217,     0.17317,     0.17417,     0.17518,     0.17618,     0.17718,     0.17818,     0.17918,     0.18018,     0.18118,     0.18218,     0.18318,     0.18418,     0.18519,     0.18619,     0.18719,     0.18819,     0.18919,     0.19019,     0.19119,\n",
      "           0.19219,     0.19319,     0.19419,      0.1952,      0.1962,      0.1972,      0.1982,      0.1992,      0.2002,      0.2012,      0.2022,      0.2032,      0.2042,     0.20521,     0.20621,     0.20721,     0.20821,     0.20921,     0.21021,     0.21121,     0.21221,     0.21321,     0.21421,     0.21522,\n",
      "           0.21622,     0.21722,     0.21822,     0.21922,     0.22022,     0.22122,     0.22222,     0.22322,     0.22422,     0.22523,     0.22623,     0.22723,     0.22823,     0.22923,     0.23023,     0.23123,     0.23223,     0.23323,     0.23423,     0.23524,     0.23624,     0.23724,     0.23824,     0.23924,\n",
      "           0.24024,     0.24124,     0.24224,     0.24324,     0.24424,     0.24525,     0.24625,     0.24725,     0.24825,     0.24925,     0.25025,     0.25125,     0.25225,     0.25325,     0.25425,     0.25526,     0.25626,     0.25726,     0.25826,     0.25926,     0.26026,     0.26126,     0.26226,     0.26326,\n",
      "           0.26426,     0.26527,     0.26627,     0.26727,     0.26827,     0.26927,     0.27027,     0.27127,     0.27227,     0.27327,     0.27427,     0.27528,     0.27628,     0.27728,     0.27828,     0.27928,     0.28028,     0.28128,     0.28228,     0.28328,     0.28428,     0.28529,     0.28629,     0.28729,\n",
      "           0.28829,     0.28929,     0.29029,     0.29129,     0.29229,     0.29329,     0.29429,      0.2953,      0.2963,      0.2973,      0.2983,      0.2993,      0.3003,      0.3013,      0.3023,      0.3033,      0.3043,     0.30531,     0.30631,     0.30731,     0.30831,     0.30931,     0.31031,     0.31131,\n",
      "           0.31231,     0.31331,     0.31431,     0.31532,     0.31632,     0.31732,     0.31832,     0.31932,     0.32032,     0.32132,     0.32232,     0.32332,     0.32432,     0.32533,     0.32633,     0.32733,     0.32833,     0.32933,     0.33033,     0.33133,     0.33233,     0.33333,     0.33433,     0.33534,\n",
      "           0.33634,     0.33734,     0.33834,     0.33934,     0.34034,     0.34134,     0.34234,     0.34334,     0.34434,     0.34535,     0.34635,     0.34735,     0.34835,     0.34935,     0.35035,     0.35135,     0.35235,     0.35335,     0.35435,     0.35536,     0.35636,     0.35736,     0.35836,     0.35936,\n",
      "           0.36036,     0.36136,     0.36236,     0.36336,     0.36436,     0.36537,     0.36637,     0.36737,     0.36837,     0.36937,     0.37037,     0.37137,     0.37237,     0.37337,     0.37437,     0.37538,     0.37638,     0.37738,     0.37838,     0.37938,     0.38038,     0.38138,     0.38238,     0.38338,\n",
      "           0.38438,     0.38539,     0.38639,     0.38739,     0.38839,     0.38939,     0.39039,     0.39139,     0.39239,     0.39339,     0.39439,      0.3954,      0.3964,      0.3974,      0.3984,      0.3994,      0.4004,      0.4014,      0.4024,      0.4034,      0.4044,     0.40541,     0.40641,     0.40741,\n",
      "           0.40841,     0.40941,     0.41041,     0.41141,     0.41241,     0.41341,     0.41441,     0.41542,     0.41642,     0.41742,     0.41842,     0.41942,     0.42042,     0.42142,     0.42242,     0.42342,     0.42442,     0.42543,     0.42643,     0.42743,     0.42843,     0.42943,     0.43043,     0.43143,\n",
      "           0.43243,     0.43343,     0.43443,     0.43544,     0.43644,     0.43744,     0.43844,     0.43944,     0.44044,     0.44144,     0.44244,     0.44344,     0.44444,     0.44545,     0.44645,     0.44745,     0.44845,     0.44945,     0.45045,     0.45145,     0.45245,     0.45345,     0.45445,     0.45546,\n",
      "           0.45646,     0.45746,     0.45846,     0.45946,     0.46046,     0.46146,     0.46246,     0.46346,     0.46446,     0.46547,     0.46647,     0.46747,     0.46847,     0.46947,     0.47047,     0.47147,     0.47247,     0.47347,     0.47447,     0.47548,     0.47648,     0.47748,     0.47848,     0.47948,\n",
      "           0.48048,     0.48148,     0.48248,     0.48348,     0.48448,     0.48549,     0.48649,     0.48749,     0.48849,     0.48949,     0.49049,     0.49149,     0.49249,     0.49349,     0.49449,      0.4955,      0.4965,      0.4975,      0.4985,      0.4995,      0.5005,      0.5015,      0.5025,      0.5035,\n",
      "            0.5045,     0.50551,     0.50651,     0.50751,     0.50851,     0.50951,     0.51051,     0.51151,     0.51251,     0.51351,     0.51451,     0.51552,     0.51652,     0.51752,     0.51852,     0.51952,     0.52052,     0.52152,     0.52252,     0.52352,     0.52452,     0.52553,     0.52653,     0.52753,\n",
      "           0.52853,     0.52953,     0.53053,     0.53153,     0.53253,     0.53353,     0.53453,     0.53554,     0.53654,     0.53754,     0.53854,     0.53954,     0.54054,     0.54154,     0.54254,     0.54354,     0.54454,     0.54555,     0.54655,     0.54755,     0.54855,     0.54955,     0.55055,     0.55155,\n",
      "           0.55255,     0.55355,     0.55455,     0.55556,     0.55656,     0.55756,     0.55856,     0.55956,     0.56056,     0.56156,     0.56256,     0.56356,     0.56456,     0.56557,     0.56657,     0.56757,     0.56857,     0.56957,     0.57057,     0.57157,     0.57257,     0.57357,     0.57457,     0.57558,\n",
      "           0.57658,     0.57758,     0.57858,     0.57958,     0.58058,     0.58158,     0.58258,     0.58358,     0.58458,     0.58559,     0.58659,     0.58759,     0.58859,     0.58959,     0.59059,     0.59159,     0.59259,     0.59359,     0.59459,      0.5956,      0.5966,      0.5976,      0.5986,      0.5996,\n",
      "            0.6006,      0.6016,      0.6026,      0.6036,      0.6046,     0.60561,     0.60661,     0.60761,     0.60861,     0.60961,     0.61061,     0.61161,     0.61261,     0.61361,     0.61461,     0.61562,     0.61662,     0.61762,     0.61862,     0.61962,     0.62062,     0.62162,     0.62262,     0.62362,\n",
      "           0.62462,     0.62563,     0.62663,     0.62763,     0.62863,     0.62963,     0.63063,     0.63163,     0.63263,     0.63363,     0.63463,     0.63564,     0.63664,     0.63764,     0.63864,     0.63964,     0.64064,     0.64164,     0.64264,     0.64364,     0.64464,     0.64565,     0.64665,     0.64765,\n",
      "           0.64865,     0.64965,     0.65065,     0.65165,     0.65265,     0.65365,     0.65465,     0.65566,     0.65666,     0.65766,     0.65866,     0.65966,     0.66066,     0.66166,     0.66266,     0.66366,     0.66466,     0.66567,     0.66667,     0.66767,     0.66867,     0.66967,     0.67067,     0.67167,\n",
      "           0.67267,     0.67367,     0.67467,     0.67568,     0.67668,     0.67768,     0.67868,     0.67968,     0.68068,     0.68168,     0.68268,     0.68368,     0.68468,     0.68569,     0.68669,     0.68769,     0.68869,     0.68969,     0.69069,     0.69169,     0.69269,     0.69369,     0.69469,      0.6957,\n",
      "            0.6967,      0.6977,      0.6987,      0.6997,      0.7007,      0.7017,      0.7027,      0.7037,      0.7047,     0.70571,     0.70671,     0.70771,     0.70871,     0.70971,     0.71071,     0.71171,     0.71271,     0.71371,     0.71471,     0.71572,     0.71672,     0.71772,     0.71872,     0.71972,\n",
      "           0.72072,     0.72172,     0.72272,     0.72372,     0.72472,     0.72573,     0.72673,     0.72773,     0.72873,     0.72973,     0.73073,     0.73173,     0.73273,     0.73373,     0.73473,     0.73574,     0.73674,     0.73774,     0.73874,     0.73974,     0.74074,     0.74174,     0.74274,     0.74374,\n",
      "           0.74474,     0.74575,     0.74675,     0.74775,     0.74875,     0.74975,     0.75075,     0.75175,     0.75275,     0.75375,     0.75475,     0.75576,     0.75676,     0.75776,     0.75876,     0.75976,     0.76076,     0.76176,     0.76276,     0.76376,     0.76476,     0.76577,     0.76677,     0.76777,\n",
      "           0.76877,     0.76977,     0.77077,     0.77177,     0.77277,     0.77377,     0.77477,     0.77578,     0.77678,     0.77778,     0.77878,     0.77978,     0.78078,     0.78178,     0.78278,     0.78378,     0.78478,     0.78579,     0.78679,     0.78779,     0.78879,     0.78979,     0.79079,     0.79179,\n",
      "           0.79279,     0.79379,     0.79479,      0.7958,      0.7968,      0.7978,      0.7988,      0.7998,      0.8008,      0.8018,      0.8028,      0.8038,      0.8048,     0.80581,     0.80681,     0.80781,     0.80881,     0.80981,     0.81081,     0.81181,     0.81281,     0.81381,     0.81481,     0.81582,\n",
      "           0.81682,     0.81782,     0.81882,     0.81982,     0.82082,     0.82182,     0.82282,     0.82382,     0.82482,     0.82583,     0.82683,     0.82783,     0.82883,     0.82983,     0.83083,     0.83183,     0.83283,     0.83383,     0.83483,     0.83584,     0.83684,     0.83784,     0.83884,     0.83984,\n",
      "           0.84084,     0.84184,     0.84284,     0.84384,     0.84484,     0.84585,     0.84685,     0.84785,     0.84885,     0.84985,     0.85085,     0.85185,     0.85285,     0.85385,     0.85485,     0.85586,     0.85686,     0.85786,     0.85886,     0.85986,     0.86086,     0.86186,     0.86286,     0.86386,\n",
      "           0.86486,     0.86587,     0.86687,     0.86787,     0.86887,     0.86987,     0.87087,     0.87187,     0.87287,     0.87387,     0.87487,     0.87588,     0.87688,     0.87788,     0.87888,     0.87988,     0.88088,     0.88188,     0.88288,     0.88388,     0.88488,     0.88589,     0.88689,     0.88789,\n",
      "           0.88889,     0.88989,     0.89089,     0.89189,     0.89289,     0.89389,     0.89489,      0.8959,      0.8969,      0.8979,      0.8989,      0.8999,      0.9009,      0.9019,      0.9029,      0.9039,      0.9049,     0.90591,     0.90691,     0.90791,     0.90891,     0.90991,     0.91091,     0.91191,\n",
      "           0.91291,     0.91391,     0.91491,     0.91592,     0.91692,     0.91792,     0.91892,     0.91992,     0.92092,     0.92192,     0.92292,     0.92392,     0.92492,     0.92593,     0.92693,     0.92793,     0.92893,     0.92993,     0.93093,     0.93193,     0.93293,     0.93393,     0.93493,     0.93594,\n",
      "           0.93694,     0.93794,     0.93894,     0.93994,     0.94094,     0.94194,     0.94294,     0.94394,     0.94494,     0.94595,     0.94695,     0.94795,     0.94895,     0.94995,     0.95095,     0.95195,     0.95295,     0.95395,     0.95495,     0.95596,     0.95696,     0.95796,     0.95896,     0.95996,\n",
      "           0.96096,     0.96196,     0.96296,     0.96396,     0.96496,     0.96597,     0.96697,     0.96797,     0.96897,     0.96997,     0.97097,     0.97197,     0.97297,     0.97397,     0.97497,     0.97598,     0.97698,     0.97798,     0.97898,     0.97998,     0.98098,     0.98198,     0.98298,     0.98398,\n",
      "           0.98498,     0.98599,     0.98699,     0.98799,     0.98899,     0.98999,     0.99099,     0.99199,     0.99299,     0.99399,     0.99499,       0.996,       0.997,       0.998,       0.999,           1]), array([[    0.15774,     0.15774,     0.18783,     0.20703,     0.22099,     0.23296,     0.24271,     0.25108,     0.25874,     0.26537,     0.27155,     0.27703,     0.28325,     0.29053,      0.2986,     0.30701,     0.31514,     0.32318,     0.33091,     0.33849,     0.34503,     0.35103,     0.35698,\n",
      "            0.36259,     0.36785,     0.37295,     0.37787,     0.38232,     0.38674,     0.39082,     0.39465,     0.39877,     0.40217,     0.40581,     0.40928,     0.41286,     0.41613,      0.4192,      0.4223,     0.42528,     0.42842,     0.43134,     0.43422,     0.43722,     0.44032,     0.44291,\n",
      "            0.44593,     0.44851,     0.45146,     0.45446,     0.45693,     0.45917,     0.46216,     0.46454,     0.46725,     0.46956,     0.47192,     0.47376,     0.47642,     0.47912,     0.48112,     0.48385,     0.48586,     0.48837,     0.49067,       0.493,      0.4951,     0.49731,     0.50002,\n",
      "            0.50236,     0.50459,     0.50658,     0.50855,     0.51048,     0.51287,     0.51533,       0.517,     0.51891,     0.52126,     0.52307,     0.52519,     0.52694,     0.52877,     0.53091,     0.53259,     0.53439,     0.53621,       0.538,      0.5397,      0.5414,     0.54357,     0.54509,\n",
      "            0.54673,     0.54843,      0.5505,     0.55197,     0.55383,     0.55527,     0.55709,     0.55853,     0.56031,     0.56222,     0.56399,      0.5654,     0.56673,     0.56868,      0.5702,     0.57211,     0.57326,     0.57513,     0.57663,     0.57795,     0.57974,     0.58068,     0.58247,\n",
      "            0.58378,     0.58526,     0.58645,     0.58819,     0.58971,     0.59141,     0.59285,     0.59381,      0.5958,     0.59727,     0.59886,     0.60034,     0.60171,     0.60349,     0.60462,     0.60587,     0.60718,     0.60901,     0.61004,     0.61114,     0.61235,     0.61399,     0.61542,\n",
      "            0.61662,     0.61808,     0.61943,     0.62093,     0.62237,     0.62359,     0.62482,     0.62689,     0.62814,     0.62958,     0.63087,     0.63221,     0.63316,     0.63434,     0.63535,     0.63695,     0.63807,      0.6394,     0.64068,     0.64184,     0.64246,      0.6438,     0.64499,\n",
      "            0.64652,     0.64758,     0.64887,     0.64995,     0.65109,     0.65222,     0.65284,     0.65397,     0.65501,     0.65612,     0.65721,     0.65857,     0.65919,     0.66032,     0.66163,     0.66293,     0.66376,     0.66509,     0.66635,     0.66765,     0.66838,     0.66969,     0.67104,\n",
      "            0.67195,     0.67324,     0.67469,     0.67607,     0.67672,     0.67782,      0.6794,     0.67999,     0.68121,     0.68232,     0.68298,     0.68384,      0.6855,      0.6864,     0.68753,      0.6882,     0.68904,     0.69031,     0.69108,     0.69239,     0.69293,     0.69422,     0.69493,\n",
      "            0.69598,     0.69734,     0.69816,     0.69923,      0.6998,     0.70076,     0.70127,     0.70221,     0.70283,      0.7043,     0.70509,     0.70628,     0.70695,      0.7083,     0.70877,     0.71002,     0.71093,      0.7124,     0.71327,     0.71476,     0.71525,     0.71673,     0.71758,\n",
      "            0.71908,     0.71971,      0.7205,     0.72163,     0.72239,     0.72367,     0.72413,     0.72545,     0.72609,     0.72675,     0.72821,     0.72862,     0.73015,     0.73055,     0.73118,     0.73251,     0.73323,     0.73362,     0.73524,     0.73619,      0.7376,      0.7381,     0.73901,\n",
      "            0.74035,     0.74106,     0.74176,     0.74322,     0.74354,     0.74412,     0.74535,     0.74605,     0.74744,     0.74813,     0.74887,     0.74975,     0.75101,     0.75159,     0.75233,     0.75366,      0.7546,     0.75505,     0.75645,      0.7573,     0.75789,     0.75868,     0.75985,\n",
      "             0.7609,     0.76152,     0.76185,     0.76356,     0.76405,     0.76464,     0.76639,     0.76712,     0.76785,      0.7685,     0.76984,     0.77065,     0.77112,     0.77177,     0.77296,     0.77371,     0.77438,     0.77511,      0.7766,      0.7774,     0.77821,     0.77887,     0.77999,\n",
      "            0.78129,     0.78218,     0.78287,     0.78328,      0.7846,     0.78547,     0.78632,     0.78728,     0.78786,     0.78934,     0.78999,     0.79073,     0.79138,      0.7926,     0.79333,     0.79401,      0.7944,     0.79503,     0.79571,     0.79622,     0.79765,     0.79824,     0.79876,\n",
      "             0.7992,     0.79972,     0.80075,     0.80124,      0.8019,     0.80267,     0.80313,     0.80393,      0.8053,     0.80607,     0.80662,     0.80724,     0.80789,     0.80859,     0.80942,     0.81101,     0.81185,     0.81272,     0.81381,     0.81458,     0.81538,     0.81696,     0.81744,\n",
      "            0.81829,     0.81879,     0.81927,     0.82004,     0.82076,      0.8223,     0.82282,     0.82349,     0.82416,      0.8249,     0.82567,     0.82618,     0.82693,     0.82782,     0.82822,     0.82953,     0.83028,     0.83087,     0.83134,     0.83199,     0.83277,      0.8334,     0.83405,\n",
      "            0.83448,     0.83506,      0.8363,     0.83689,     0.83745,     0.83814,     0.83891,     0.83952,     0.83998,     0.84051,     0.84092,     0.84154,     0.84313,     0.84391,     0.84444,     0.84489,     0.84521,     0.84576,      0.8465,     0.84732,     0.84802,     0.84877,     0.85052,\n",
      "            0.85106,      0.8516,      0.8522,     0.85308,     0.85357,     0.85395,     0.85442,      0.8549,      0.8555,     0.85633,     0.85693,     0.85726,      0.8581,     0.85868,     0.85895,     0.85964,     0.86028,     0.86071,     0.86108,     0.86142,     0.86218,     0.86314,     0.86343,\n",
      "            0.86398,     0.86445,     0.86524,     0.86607,      0.8665,     0.86681,     0.86736,     0.86815,     0.86845,     0.87013,     0.87044,      0.8711,     0.87155,     0.87206,     0.87336,      0.8739,     0.87483,     0.87524,      0.8759,     0.87653,     0.87714,     0.87775,     0.87836,\n",
      "             0.8789,     0.87901,     0.87967,     0.88036,     0.88088,     0.88144,     0.88208,     0.88279,     0.88353,     0.88398,     0.88464,     0.88516,     0.88543,     0.88686,     0.88733,     0.88783,     0.88817,     0.88853,     0.88909,     0.88961,     0.88994,     0.89027,      0.8908,\n",
      "            0.89086,     0.89103,     0.89139,     0.89194,     0.89261,     0.89315,     0.89378,     0.89433,     0.89509,     0.89553,     0.89636,     0.89692,     0.89757,     0.89809,     0.89864,     0.89898,     0.89968,     0.90059,     0.90105,      0.9014,     0.90272,     0.90294,     0.90346,\n",
      "            0.90375,     0.90406,     0.90447,     0.90494,     0.90551,     0.90595,     0.90675,     0.90697,     0.90768,     0.90799,     0.90849,     0.90867,     0.90892,     0.90956,     0.91014,     0.91069,     0.91134,     0.91174,     0.91224,     0.91262,     0.91343,     0.91372,     0.91433,\n",
      "            0.91472,     0.91503,     0.91517,     0.91538,      0.9159,     0.91633,      0.9169,     0.91775,     0.91844,     0.91924,     0.91997,      0.9203,       0.921,     0.92153,     0.92215,     0.92274,     0.92324,     0.92377,     0.92436,     0.92506,     0.92562,     0.92614,     0.92681,\n",
      "            0.92725,     0.92747,     0.92807,     0.92879,     0.92927,     0.92955,     0.92961,     0.92992,      0.9307,     0.93139,     0.93177,     0.93219,     0.93252,       0.933,     0.93337,     0.93359,     0.93384,     0.93441,     0.93487,     0.93529,     0.93557,     0.93626,     0.93675,\n",
      "             0.9369,     0.93709,     0.93756,     0.93796,      0.9385,      0.9392,     0.93943,     0.94021,     0.94098,      0.9411,     0.94141,     0.94179,     0.94221,     0.94245,     0.94288,     0.94316,     0.94333,     0.94373,     0.94409,     0.94447,     0.94486,      0.9453,     0.94544,\n",
      "            0.94587,     0.94618,     0.94641,     0.94698,     0.94726,     0.94801,     0.94838,     0.94887,     0.94936,     0.94959,     0.94987,     0.95032,     0.95063,     0.95114,     0.95129,     0.95174,     0.95209,     0.95231,     0.95237,     0.95285,     0.95317,     0.95374,     0.95418,\n",
      "            0.95424,      0.9545,     0.95555,      0.9556,     0.95615,     0.95638,     0.95663,     0.95681,     0.95713,     0.95811,     0.95854,     0.95903,     0.95935,     0.95952,     0.95996,     0.96041,      0.9606,     0.96092,       0.961,     0.96134,      0.9616,      0.9621,     0.96249,\n",
      "            0.96271,     0.96284,     0.96317,     0.96353,     0.96385,     0.96394,     0.96425,     0.96484,     0.96538,     0.96565,      0.9661,     0.96696,     0.96733,     0.96748,     0.96801,     0.96837,     0.96879,     0.96905,     0.96924,     0.96944,     0.96988,     0.97014,     0.97034,\n",
      "            0.97067,      0.9708,     0.97133,     0.97154,     0.97236,     0.97346,     0.97374,     0.97389,     0.97442,     0.97445,     0.97475,     0.97496,     0.97555,     0.97585,     0.97629,     0.97639,     0.97668,     0.97714,     0.97772,     0.97796,     0.97818,     0.97849,     0.97862,\n",
      "            0.97894,     0.97898,     0.97929,     0.97994,     0.98009,     0.98028,     0.98049,     0.98091,     0.98104,     0.98118,     0.98167,     0.98211,     0.98226,     0.98283,     0.98307,     0.98331,     0.98394,     0.98409,     0.98425,      0.9846,     0.98508,     0.98554,     0.98579,\n",
      "            0.98604,     0.98618,     0.98634,     0.98675,     0.98669,     0.98685,     0.98691,     0.98727,     0.98737,     0.98741,     0.98784,     0.98789,     0.98785,     0.98801,     0.98806,     0.98886,     0.98913,      0.9893,     0.98925,     0.98919,     0.98952,     0.98982,      0.9901,\n",
      "            0.99004,     0.98999,     0.99048,     0.99052,     0.99046,     0.99064,     0.99099,      0.9911,     0.99144,     0.99163,     0.99169,     0.99163,     0.99191,     0.99184,     0.99179,     0.99194,     0.99189,     0.99182,     0.99178,     0.99207,     0.99213,     0.99221,     0.99245,\n",
      "            0.99262,     0.99301,     0.99309,     0.99312,     0.99302,     0.99296,      0.9929,     0.99285,     0.99305,     0.99309,     0.99308,     0.99311,     0.99315,     0.99314,     0.99319,     0.99327,     0.99326,     0.99331,     0.99354,     0.99353,     0.99379,     0.99423,     0.99413,\n",
      "            0.99411,     0.99418,      0.9944,     0.99501,       0.995,     0.99492,     0.99488,     0.99503,     0.99493,     0.99482,     0.99473,     0.99517,      0.9951,     0.99501,       0.995,     0.99539,      0.9953,     0.99529,     0.99517,     0.99535,     0.99549,     0.99541,     0.99539,\n",
      "            0.99585,     0.99661,     0.99653,     0.99652,     0.99645,     0.99637,      0.9969,     0.99689,     0.99681,     0.99674,     0.99665,     0.99665,     0.99654,      0.9968,      0.9967,     0.99661,      0.9966,     0.99651,     0.99641,     0.99631,      0.9962,     0.99609,     0.99608,\n",
      "            0.99597,     0.99631,      0.9962,     0.99608,     0.99656,     0.99648,     0.99638,     0.99628,     0.99668,     0.99657,     0.99656,       0.997,     0.99687,     0.99676,     0.99662,     0.99647,     0.99633,      0.9962,     0.99598,     0.99596,     0.99575,     0.99554,     0.99532,\n",
      "            0.99515,     0.99597,     0.99581,     0.99565,     0.99563,     0.99541,     0.99523,     0.99506,     0.99486,     0.99455,     0.99441,      0.9942,     0.99396,     0.99367,     0.99355,     0.99329,     0.99305,     0.99287,     0.99267,     0.99255,      0.9922,     0.99193,     0.99173,\n",
      "             0.9915,     0.99127,     0.99102,     0.99081,     0.99055,     0.99032,     0.98995,     0.98967,     0.98945,     0.99169,      0.9914,     0.99128,     0.99104,     0.99093,      0.9907,     0.99156,     0.99356,     0.99668,     0.99658,      0.9965,     0.99641,     0.99627,     0.99624,\n",
      "            0.99619,     0.99608,     0.99584,     0.99578,     0.99567,     0.99554,     0.99543,     0.99535,     0.99526,     0.99512,     0.99489,     0.99464,     0.99437,     0.99426,     0.99404,     0.99399,     0.99374,     0.99357,     0.99339,     0.99316,     0.99297,     0.99286,           1,\n",
      "                  1,           1,           1,           1,           1,           1,           1,           1,           1,           1,           1,           1,           1,           1,           1,           1,           1,           1,           1,           1,           1,           1,           1,\n",
      "                  1,           1,           1,           1,           1,           1,           1,           1,           1,           1,           1,           1,           1,           1,           1,           1,           1,           1,           1,           1,           1,           1,           1,\n",
      "                  1,           1,           1,           1,           1,           1,           1,           1,           1,           1,           1,           1,           1,           1,           1,           1,           1,           1,           1,           1,           1,           1,           1,\n",
      "                  1,           1,           1,           1,           1,           1,           1,           1,           1,           1,           1,           1,           1,           1,           1,           1,           1,           1,           1,           1,           1,           1,           1,\n",
      "                  1,           1,           1,           1,           1,           1,           1,           1,           1,           1,           1]]), 'Confidence', 'Precision'], [array([          0,    0.001001,    0.002002,    0.003003,    0.004004,    0.005005,    0.006006,    0.007007,    0.008008,    0.009009,     0.01001,    0.011011,    0.012012,    0.013013,    0.014014,    0.015015,    0.016016,    0.017017,    0.018018,    0.019019,     0.02002,    0.021021,    0.022022,    0.023023,\n",
      "          0.024024,    0.025025,    0.026026,    0.027027,    0.028028,    0.029029,     0.03003,    0.031031,    0.032032,    0.033033,    0.034034,    0.035035,    0.036036,    0.037037,    0.038038,    0.039039,     0.04004,    0.041041,    0.042042,    0.043043,    0.044044,    0.045045,    0.046046,    0.047047,\n",
      "          0.048048,    0.049049,     0.05005,    0.051051,    0.052052,    0.053053,    0.054054,    0.055055,    0.056056,    0.057057,    0.058058,    0.059059,     0.06006,    0.061061,    0.062062,    0.063063,    0.064064,    0.065065,    0.066066,    0.067067,    0.068068,    0.069069,     0.07007,    0.071071,\n",
      "          0.072072,    0.073073,    0.074074,    0.075075,    0.076076,    0.077077,    0.078078,    0.079079,     0.08008,    0.081081,    0.082082,    0.083083,    0.084084,    0.085085,    0.086086,    0.087087,    0.088088,    0.089089,     0.09009,    0.091091,    0.092092,    0.093093,    0.094094,    0.095095,\n",
      "          0.096096,    0.097097,    0.098098,    0.099099,      0.1001,      0.1011,      0.1021,      0.1031,      0.1041,     0.10511,     0.10611,     0.10711,     0.10811,     0.10911,     0.11011,     0.11111,     0.11211,     0.11311,     0.11411,     0.11512,     0.11612,     0.11712,     0.11812,     0.11912,\n",
      "           0.12012,     0.12112,     0.12212,     0.12312,     0.12412,     0.12513,     0.12613,     0.12713,     0.12813,     0.12913,     0.13013,     0.13113,     0.13213,     0.13313,     0.13413,     0.13514,     0.13614,     0.13714,     0.13814,     0.13914,     0.14014,     0.14114,     0.14214,     0.14314,\n",
      "           0.14414,     0.14515,     0.14615,     0.14715,     0.14815,     0.14915,     0.15015,     0.15115,     0.15215,     0.15315,     0.15415,     0.15516,     0.15616,     0.15716,     0.15816,     0.15916,     0.16016,     0.16116,     0.16216,     0.16316,     0.16416,     0.16517,     0.16617,     0.16717,\n",
      "           0.16817,     0.16917,     0.17017,     0.17117,     0.17217,     0.17317,     0.17417,     0.17518,     0.17618,     0.17718,     0.17818,     0.17918,     0.18018,     0.18118,     0.18218,     0.18318,     0.18418,     0.18519,     0.18619,     0.18719,     0.18819,     0.18919,     0.19019,     0.19119,\n",
      "           0.19219,     0.19319,     0.19419,      0.1952,      0.1962,      0.1972,      0.1982,      0.1992,      0.2002,      0.2012,      0.2022,      0.2032,      0.2042,     0.20521,     0.20621,     0.20721,     0.20821,     0.20921,     0.21021,     0.21121,     0.21221,     0.21321,     0.21421,     0.21522,\n",
      "           0.21622,     0.21722,     0.21822,     0.21922,     0.22022,     0.22122,     0.22222,     0.22322,     0.22422,     0.22523,     0.22623,     0.22723,     0.22823,     0.22923,     0.23023,     0.23123,     0.23223,     0.23323,     0.23423,     0.23524,     0.23624,     0.23724,     0.23824,     0.23924,\n",
      "           0.24024,     0.24124,     0.24224,     0.24324,     0.24424,     0.24525,     0.24625,     0.24725,     0.24825,     0.24925,     0.25025,     0.25125,     0.25225,     0.25325,     0.25425,     0.25526,     0.25626,     0.25726,     0.25826,     0.25926,     0.26026,     0.26126,     0.26226,     0.26326,\n",
      "           0.26426,     0.26527,     0.26627,     0.26727,     0.26827,     0.26927,     0.27027,     0.27127,     0.27227,     0.27327,     0.27427,     0.27528,     0.27628,     0.27728,     0.27828,     0.27928,     0.28028,     0.28128,     0.28228,     0.28328,     0.28428,     0.28529,     0.28629,     0.28729,\n",
      "           0.28829,     0.28929,     0.29029,     0.29129,     0.29229,     0.29329,     0.29429,      0.2953,      0.2963,      0.2973,      0.2983,      0.2993,      0.3003,      0.3013,      0.3023,      0.3033,      0.3043,     0.30531,     0.30631,     0.30731,     0.30831,     0.30931,     0.31031,     0.31131,\n",
      "           0.31231,     0.31331,     0.31431,     0.31532,     0.31632,     0.31732,     0.31832,     0.31932,     0.32032,     0.32132,     0.32232,     0.32332,     0.32432,     0.32533,     0.32633,     0.32733,     0.32833,     0.32933,     0.33033,     0.33133,     0.33233,     0.33333,     0.33433,     0.33534,\n",
      "           0.33634,     0.33734,     0.33834,     0.33934,     0.34034,     0.34134,     0.34234,     0.34334,     0.34434,     0.34535,     0.34635,     0.34735,     0.34835,     0.34935,     0.35035,     0.35135,     0.35235,     0.35335,     0.35435,     0.35536,     0.35636,     0.35736,     0.35836,     0.35936,\n",
      "           0.36036,     0.36136,     0.36236,     0.36336,     0.36436,     0.36537,     0.36637,     0.36737,     0.36837,     0.36937,     0.37037,     0.37137,     0.37237,     0.37337,     0.37437,     0.37538,     0.37638,     0.37738,     0.37838,     0.37938,     0.38038,     0.38138,     0.38238,     0.38338,\n",
      "           0.38438,     0.38539,     0.38639,     0.38739,     0.38839,     0.38939,     0.39039,     0.39139,     0.39239,     0.39339,     0.39439,      0.3954,      0.3964,      0.3974,      0.3984,      0.3994,      0.4004,      0.4014,      0.4024,      0.4034,      0.4044,     0.40541,     0.40641,     0.40741,\n",
      "           0.40841,     0.40941,     0.41041,     0.41141,     0.41241,     0.41341,     0.41441,     0.41542,     0.41642,     0.41742,     0.41842,     0.41942,     0.42042,     0.42142,     0.42242,     0.42342,     0.42442,     0.42543,     0.42643,     0.42743,     0.42843,     0.42943,     0.43043,     0.43143,\n",
      "           0.43243,     0.43343,     0.43443,     0.43544,     0.43644,     0.43744,     0.43844,     0.43944,     0.44044,     0.44144,     0.44244,     0.44344,     0.44444,     0.44545,     0.44645,     0.44745,     0.44845,     0.44945,     0.45045,     0.45145,     0.45245,     0.45345,     0.45445,     0.45546,\n",
      "           0.45646,     0.45746,     0.45846,     0.45946,     0.46046,     0.46146,     0.46246,     0.46346,     0.46446,     0.46547,     0.46647,     0.46747,     0.46847,     0.46947,     0.47047,     0.47147,     0.47247,     0.47347,     0.47447,     0.47548,     0.47648,     0.47748,     0.47848,     0.47948,\n",
      "           0.48048,     0.48148,     0.48248,     0.48348,     0.48448,     0.48549,     0.48649,     0.48749,     0.48849,     0.48949,     0.49049,     0.49149,     0.49249,     0.49349,     0.49449,      0.4955,      0.4965,      0.4975,      0.4985,      0.4995,      0.5005,      0.5015,      0.5025,      0.5035,\n",
      "            0.5045,     0.50551,     0.50651,     0.50751,     0.50851,     0.50951,     0.51051,     0.51151,     0.51251,     0.51351,     0.51451,     0.51552,     0.51652,     0.51752,     0.51852,     0.51952,     0.52052,     0.52152,     0.52252,     0.52352,     0.52452,     0.52553,     0.52653,     0.52753,\n",
      "           0.52853,     0.52953,     0.53053,     0.53153,     0.53253,     0.53353,     0.53453,     0.53554,     0.53654,     0.53754,     0.53854,     0.53954,     0.54054,     0.54154,     0.54254,     0.54354,     0.54454,     0.54555,     0.54655,     0.54755,     0.54855,     0.54955,     0.55055,     0.55155,\n",
      "           0.55255,     0.55355,     0.55455,     0.55556,     0.55656,     0.55756,     0.55856,     0.55956,     0.56056,     0.56156,     0.56256,     0.56356,     0.56456,     0.56557,     0.56657,     0.56757,     0.56857,     0.56957,     0.57057,     0.57157,     0.57257,     0.57357,     0.57457,     0.57558,\n",
      "           0.57658,     0.57758,     0.57858,     0.57958,     0.58058,     0.58158,     0.58258,     0.58358,     0.58458,     0.58559,     0.58659,     0.58759,     0.58859,     0.58959,     0.59059,     0.59159,     0.59259,     0.59359,     0.59459,      0.5956,      0.5966,      0.5976,      0.5986,      0.5996,\n",
      "            0.6006,      0.6016,      0.6026,      0.6036,      0.6046,     0.60561,     0.60661,     0.60761,     0.60861,     0.60961,     0.61061,     0.61161,     0.61261,     0.61361,     0.61461,     0.61562,     0.61662,     0.61762,     0.61862,     0.61962,     0.62062,     0.62162,     0.62262,     0.62362,\n",
      "           0.62462,     0.62563,     0.62663,     0.62763,     0.62863,     0.62963,     0.63063,     0.63163,     0.63263,     0.63363,     0.63463,     0.63564,     0.63664,     0.63764,     0.63864,     0.63964,     0.64064,     0.64164,     0.64264,     0.64364,     0.64464,     0.64565,     0.64665,     0.64765,\n",
      "           0.64865,     0.64965,     0.65065,     0.65165,     0.65265,     0.65365,     0.65465,     0.65566,     0.65666,     0.65766,     0.65866,     0.65966,     0.66066,     0.66166,     0.66266,     0.66366,     0.66466,     0.66567,     0.66667,     0.66767,     0.66867,     0.66967,     0.67067,     0.67167,\n",
      "           0.67267,     0.67367,     0.67467,     0.67568,     0.67668,     0.67768,     0.67868,     0.67968,     0.68068,     0.68168,     0.68268,     0.68368,     0.68468,     0.68569,     0.68669,     0.68769,     0.68869,     0.68969,     0.69069,     0.69169,     0.69269,     0.69369,     0.69469,      0.6957,\n",
      "            0.6967,      0.6977,      0.6987,      0.6997,      0.7007,      0.7017,      0.7027,      0.7037,      0.7047,     0.70571,     0.70671,     0.70771,     0.70871,     0.70971,     0.71071,     0.71171,     0.71271,     0.71371,     0.71471,     0.71572,     0.71672,     0.71772,     0.71872,     0.71972,\n",
      "           0.72072,     0.72172,     0.72272,     0.72372,     0.72472,     0.72573,     0.72673,     0.72773,     0.72873,     0.72973,     0.73073,     0.73173,     0.73273,     0.73373,     0.73473,     0.73574,     0.73674,     0.73774,     0.73874,     0.73974,     0.74074,     0.74174,     0.74274,     0.74374,\n",
      "           0.74474,     0.74575,     0.74675,     0.74775,     0.74875,     0.74975,     0.75075,     0.75175,     0.75275,     0.75375,     0.75475,     0.75576,     0.75676,     0.75776,     0.75876,     0.75976,     0.76076,     0.76176,     0.76276,     0.76376,     0.76476,     0.76577,     0.76677,     0.76777,\n",
      "           0.76877,     0.76977,     0.77077,     0.77177,     0.77277,     0.77377,     0.77477,     0.77578,     0.77678,     0.77778,     0.77878,     0.77978,     0.78078,     0.78178,     0.78278,     0.78378,     0.78478,     0.78579,     0.78679,     0.78779,     0.78879,     0.78979,     0.79079,     0.79179,\n",
      "           0.79279,     0.79379,     0.79479,      0.7958,      0.7968,      0.7978,      0.7988,      0.7998,      0.8008,      0.8018,      0.8028,      0.8038,      0.8048,     0.80581,     0.80681,     0.80781,     0.80881,     0.80981,     0.81081,     0.81181,     0.81281,     0.81381,     0.81481,     0.81582,\n",
      "           0.81682,     0.81782,     0.81882,     0.81982,     0.82082,     0.82182,     0.82282,     0.82382,     0.82482,     0.82583,     0.82683,     0.82783,     0.82883,     0.82983,     0.83083,     0.83183,     0.83283,     0.83383,     0.83483,     0.83584,     0.83684,     0.83784,     0.83884,     0.83984,\n",
      "           0.84084,     0.84184,     0.84284,     0.84384,     0.84484,     0.84585,     0.84685,     0.84785,     0.84885,     0.84985,     0.85085,     0.85185,     0.85285,     0.85385,     0.85485,     0.85586,     0.85686,     0.85786,     0.85886,     0.85986,     0.86086,     0.86186,     0.86286,     0.86386,\n",
      "           0.86486,     0.86587,     0.86687,     0.86787,     0.86887,     0.86987,     0.87087,     0.87187,     0.87287,     0.87387,     0.87487,     0.87588,     0.87688,     0.87788,     0.87888,     0.87988,     0.88088,     0.88188,     0.88288,     0.88388,     0.88488,     0.88589,     0.88689,     0.88789,\n",
      "           0.88889,     0.88989,     0.89089,     0.89189,     0.89289,     0.89389,     0.89489,      0.8959,      0.8969,      0.8979,      0.8989,      0.8999,      0.9009,      0.9019,      0.9029,      0.9039,      0.9049,     0.90591,     0.90691,     0.90791,     0.90891,     0.90991,     0.91091,     0.91191,\n",
      "           0.91291,     0.91391,     0.91491,     0.91592,     0.91692,     0.91792,     0.91892,     0.91992,     0.92092,     0.92192,     0.92292,     0.92392,     0.92492,     0.92593,     0.92693,     0.92793,     0.92893,     0.92993,     0.93093,     0.93193,     0.93293,     0.93393,     0.93493,     0.93594,\n",
      "           0.93694,     0.93794,     0.93894,     0.93994,     0.94094,     0.94194,     0.94294,     0.94394,     0.94494,     0.94595,     0.94695,     0.94795,     0.94895,     0.94995,     0.95095,     0.95195,     0.95295,     0.95395,     0.95495,     0.95596,     0.95696,     0.95796,     0.95896,     0.95996,\n",
      "           0.96096,     0.96196,     0.96296,     0.96396,     0.96496,     0.96597,     0.96697,     0.96797,     0.96897,     0.96997,     0.97097,     0.97197,     0.97297,     0.97397,     0.97497,     0.97598,     0.97698,     0.97798,     0.97898,     0.97998,     0.98098,     0.98198,     0.98298,     0.98398,\n",
      "           0.98498,     0.98599,     0.98699,     0.98799,     0.98899,     0.98999,     0.99099,     0.99199,     0.99299,     0.99399,     0.99499,       0.996,       0.997,       0.998,       0.999,           1]), array([[    0.92342,     0.92342,     0.92251,     0.92177,     0.92103,      0.9205,      0.9196,     0.91875,     0.91801,     0.91764,     0.91706,     0.91648,     0.91563,     0.91489,     0.91378,     0.91261,     0.91123,     0.90991,     0.90901,     0.90816,     0.90705,     0.90647,     0.90573,\n",
      "            0.90482,     0.90414,     0.90377,      0.9035,     0.90287,     0.90239,     0.90165,     0.90101,     0.90016,     0.89969,     0.89932,     0.89873,     0.89831,     0.89773,     0.89746,     0.89683,     0.89662,     0.89609,     0.89556,     0.89508,     0.89487,      0.8945,     0.89418,\n",
      "            0.89391,      0.8937,     0.89349,     0.89301,     0.89254,     0.89227,     0.89195,     0.89132,       0.891,     0.89063,     0.89014,     0.88973,     0.88952,      0.8892,     0.88888,     0.88847,     0.88819,     0.88804,     0.88772,     0.88729,     0.88676,     0.88639,     0.88581,\n",
      "            0.88528,     0.88512,     0.88491,     0.88459,     0.88412,     0.88396,     0.88364,     0.88337,     0.88285,     0.88247,      0.8821,     0.88189,     0.88163,     0.88147,     0.88094,     0.88073,      0.8802,     0.88009,     0.87988,     0.87967,     0.87951,     0.87908,     0.87856,\n",
      "            0.87818,     0.87781,     0.87765,     0.87734,     0.87718,     0.87697,      0.8766,     0.87638,     0.87601,     0.87564,     0.87527,     0.87469,     0.87458,     0.87448,     0.87411,     0.87368,     0.87336,     0.87326,     0.87262,     0.87241,     0.87225,     0.87193,     0.87167,\n",
      "            0.87146,     0.87109,     0.87082,      0.8705,     0.87035,     0.86998,     0.86966,     0.86929,     0.86892,      0.8686,     0.86817,     0.86796,      0.8677,     0.86727,     0.86712,     0.86696,     0.86674,     0.86653,     0.86627,     0.86609,     0.86579,     0.86553,     0.86542,\n",
      "            0.86516,     0.86484,     0.86473,     0.86447,     0.86426,     0.86394,     0.86378,     0.86335,     0.86314,     0.86272,     0.86245,     0.86214,     0.86166,     0.86134,     0.86113,     0.86081,      0.8606,     0.86039,     0.86012,      0.8597,     0.85966,     0.85944,     0.85912,\n",
      "             0.8588,     0.85854,     0.85846,     0.85816,     0.85795,     0.85758,     0.85737,     0.85705,     0.85689,     0.85647,     0.85599,     0.85578,     0.85573,     0.85509,     0.85483,     0.85467,     0.85435,     0.85409,     0.85387,      0.8535,     0.85334,     0.85287,     0.85271,\n",
      "            0.85271,      0.8525,     0.85181,     0.85149,     0.85117,      0.8507,     0.85042,     0.85027,      0.8499,     0.84927,     0.84895,     0.84858,     0.84837,     0.84826,     0.84778,     0.84768,     0.84715,     0.84683,     0.84683,     0.84651,     0.84631,     0.84598,     0.84588,\n",
      "            0.84551,     0.84529,     0.84505,     0.84476,     0.84455,     0.84413,     0.84386,     0.84349,     0.84318,     0.84302,     0.84286,     0.84254,     0.84228,     0.84183,     0.84159,     0.84132,     0.84122,      0.8409,     0.84063,     0.84036,     0.84016,     0.83994,     0.83989,\n",
      "            0.83973,     0.83957,     0.83952,     0.83915,      0.8391,     0.83873,     0.83836,     0.83799,     0.83783,     0.83773,     0.83735,     0.83719,     0.83645,     0.83624,     0.83613,     0.83539,     0.83523,     0.83491,      0.8341,     0.83391,     0.83359,     0.83343,     0.83311,\n",
      "            0.83301,     0.83261,     0.83232,     0.83174,     0.83158,      0.8311,     0.83057,     0.83031,     0.82993,     0.82951,     0.82925,     0.82914,     0.82861,      0.8284,     0.82808,      0.8275,     0.82745,     0.82697,     0.82628,     0.82607,     0.82583,     0.82559,     0.82496,\n",
      "             0.8248,     0.82421,     0.82411,     0.82353,     0.82347,     0.82317,     0.82273,     0.82236,      0.8222,     0.82195,     0.82129,     0.82104,     0.82063,     0.82008,     0.81971,     0.81934,     0.81897,     0.81876,     0.81818,     0.81773,     0.81738,     0.81707,      0.8168,\n",
      "            0.81632,     0.81601,     0.81585,     0.81569,     0.81505,     0.81482,     0.81458,     0.81443,     0.81415,     0.81345,     0.81341,      0.8132,     0.81272,     0.81203,     0.81156,     0.81124,     0.81087,     0.81071,     0.81013,     0.80997,     0.80896,     0.80863,     0.80817,\n",
      "            0.80785,     0.80769,     0.80668,     0.80637,     0.80605,     0.80554,     0.80531,     0.80504,     0.80462,     0.80418,     0.80361,     0.80337,     0.80319,     0.80282,     0.80261,     0.80224,     0.80186,     0.80133,     0.80086,     0.80049,     0.80028,     0.79943,     0.79895,\n",
      "            0.79874,     0.79779,     0.79742,     0.79699,     0.79652,     0.79604,     0.79567,     0.79514,     0.79486,     0.79434,     0.79408,     0.79355,     0.79318,     0.79297,     0.79265,     0.79175,     0.79122,     0.79099,     0.79024,     0.79005,     0.78991,     0.78963,       0.789,\n",
      "            0.78852,     0.78809,      0.7873,     0.78688,     0.78638,     0.78587,     0.78552,     0.78476,     0.78439,     0.78402,     0.78364,     0.78338,     0.78253,     0.78231,     0.78204,     0.78151,     0.78105,     0.78065,     0.77994,      0.7798,     0.77909,     0.77856,     0.77808,\n",
      "             0.7775,     0.77718,     0.77686,     0.77649,     0.77602,     0.77573,     0.77544,     0.77496,     0.77438,     0.77402,     0.77379,       0.773,     0.77258,     0.77205,     0.77152,     0.77104,     0.77019,     0.76966,     0.76917,     0.76897,     0.76838,     0.76795,     0.76733,\n",
      "            0.76686,      0.7664,      0.7659,      0.7655,     0.76486,     0.76426,     0.76401,     0.76337,     0.76267,      0.7615,     0.76113,     0.76092,     0.76071,     0.76028,     0.76002,     0.75971,     0.75922,     0.75865,     0.75796,     0.75725,      0.7569,     0.75653,     0.75607,\n",
      "            0.75533,     0.75467,     0.75421,     0.75383,     0.75324,     0.75293,     0.75198,      0.7515,     0.75092,     0.75023,      0.7498,     0.74954,     0.74864,     0.74774,     0.74662,     0.74615,     0.74577,     0.74509,     0.74456,     0.74395,     0.74342,     0.74276,     0.74225,\n",
      "            0.74141,     0.74074,     0.74029,     0.73984,     0.73912,     0.73857,     0.73767,     0.73704,     0.73615,     0.73518,     0.73472,     0.73423,     0.73386,     0.73329,     0.73249,     0.73201,     0.73148,     0.73079,     0.73021,     0.72968,      0.7284,     0.72777,     0.72713,\n",
      "             0.7266,     0.72613,     0.72559,     0.72501,     0.72432,     0.72347,     0.72304,     0.72241,     0.72172,     0.72129,     0.72039,      0.7198,     0.71885,     0.71829,     0.71779,     0.71749,     0.71699,      0.7162,     0.71566,     0.71495,     0.71423,     0.71344,     0.71299,\n",
      "            0.71199,     0.71121,      0.7104,     0.70983,     0.70946,     0.70877,     0.70829,     0.70797,     0.70739,     0.70664,     0.70627,     0.70574,     0.70515,     0.70468,     0.70325,     0.70277,     0.70198,      0.7015,     0.70086,     0.70022,     0.69932,     0.69868,      0.6982,\n",
      "            0.69736,     0.69688,     0.69629,     0.69566,     0.69493,     0.69391,     0.69316,     0.69271,     0.69205,     0.69162,     0.69072,     0.68985,     0.68905,     0.68812,     0.68736,     0.68648,     0.68577,     0.68515,     0.68425,     0.68361,     0.68317,     0.68249,      0.6817,\n",
      "            0.68121,        0.68,     0.67931,     0.67835,      0.6774,     0.67579,     0.67526,     0.67467,     0.67388,     0.67276,     0.67179,     0.67101,     0.67006,     0.66958,     0.66884,     0.66824,     0.66741,     0.66644,     0.66564,     0.66501,     0.66428,     0.66364,     0.66258,\n",
      "            0.66178,     0.66104,     0.66035,     0.65939,     0.65828,     0.65664,     0.65579,     0.65454,     0.65338,     0.65248,     0.65131,     0.65041,     0.64956,     0.64844,     0.64754,     0.64648,     0.64521,      0.6441,     0.64288,     0.64133,     0.64028,     0.63776,     0.63699,\n",
      "            0.63622,     0.63553,     0.63466,     0.63373,     0.63288,     0.63166,     0.63081,     0.63012,     0.62901,      0.6273,     0.62671,     0.62571,     0.62495,       0.624,     0.62301,     0.62193,     0.62108,     0.61991,     0.61867,     0.61771,     0.61671,     0.61586,     0.61427,\n",
      "            0.61257,     0.61204,     0.61082,     0.60977,     0.60862,     0.60745,     0.60622,       0.605,     0.60411,       0.603,      0.6022,      0.5999,     0.59849,     0.59725,     0.59613,     0.59502,     0.59357,     0.59197,     0.59075,      0.5881,     0.58673,     0.58513,     0.58391,\n",
      "             0.5826,     0.58113,      0.5796,     0.57859,     0.57758,     0.57512,     0.57342,     0.57227,     0.57093,     0.56964,     0.56872,      0.5674,     0.56645,     0.56502,     0.56266,      0.5608,     0.55905,     0.55786,     0.55553,     0.55452,     0.55299,     0.55161,     0.55043,\n",
      "            0.54914,     0.54771,     0.54591,     0.54323,     0.54144,     0.53968,     0.53781,     0.53626,     0.53425,     0.53303,     0.53046,     0.52924,     0.52781,     0.52449,      0.5228,     0.52126,     0.51924,     0.51763,     0.51631,     0.51466,      0.5104,     0.50886,     0.50704,\n",
      "            0.50507,     0.50284,     0.50094,     0.49688,     0.49482,     0.49289,     0.49097,     0.48885,     0.48443,     0.48183,     0.47757,     0.47534,     0.47359,     0.47124,     0.46896,     0.46459,     0.46252,     0.46018,     0.45831,     0.45576,     0.45012,     0.44784,     0.44486,\n",
      "             0.4422,     0.43997,     0.43513,     0.43182,     0.42874,     0.42588,     0.41955,     0.41587,     0.41089,     0.40792,      0.4045,     0.40148,     0.39595,     0.39281,     0.39014,     0.38461,     0.38217,     0.37908,     0.37706,     0.37089,     0.36726,     0.36439,      0.3619,\n",
      "            0.35637,     0.35359,     0.34998,     0.34413,     0.33896,     0.33605,     0.33337,     0.33088,     0.32545,     0.31983,     0.31912,     0.31295,     0.30738,     0.30678,     0.30103,     0.29688,      0.2965,     0.29096,     0.28512,     0.28447,     0.27981,      0.2744,     0.26903,\n",
      "            0.26837,     0.26254,     0.25804,     0.25353,     0.25294,     0.24871,     0.24427,     0.24375,     0.23922,     0.23402,     0.22985,      0.2293,     0.22585,     0.22179,     0.22135,     0.21713,     0.21292,     0.21255,     0.20741,     0.20386,     0.19893,     0.19511,     0.19451,\n",
      "            0.19066,     0.18703,     0.18255,     0.18195,     0.17836,     0.17453,     0.17052,     0.16997,     0.16559,     0.16208,     0.15774,     0.15752,     0.15276,     0.14836,     0.14402,     0.14017,     0.13967,      0.1362,      0.1323,      0.1287,     0.12504,     0.12138,     0.12109,\n",
      "            0.11777,     0.11455,     0.11099,      0.1077,     0.10737,     0.10484,     0.10204,    0.099325,    0.095403,    0.092295,    0.092008,    0.087928,      0.0844,    0.081461,    0.078068,    0.074836,    0.071972,    0.069374,    0.065558,    0.065218,    0.062005,    0.059089,    0.056343,\n",
      "            0.05437,    0.052355,    0.050339,    0.048536,    0.048259,    0.045936,    0.044185,    0.042646,    0.041002,    0.038693,    0.037713,    0.036333,    0.034848,    0.033256,    0.032618,    0.031344,    0.030262,    0.029493,    0.028688,    0.028209,    0.026935,    0.026032,    0.025394,\n",
      "           0.024702,    0.024064,    0.023373,    0.022841,    0.022203,     0.02167,    0.020873,    0.020288,    0.019862,    0.018959,     0.01832,    0.018053,    0.017574,    0.017359,    0.016933,    0.016525,    0.016345,    0.015918,    0.015439,    0.015066,    0.014692,     0.01416,    0.014051,\n",
      "           0.013837,    0.013464,    0.012666,    0.012505,    0.012185,    0.011811,    0.011544,    0.011329,    0.011115,    0.010794,    0.010315,   0.0098356,   0.0093563,   0.0091787,   0.0088331,   0.0087657,   0.0084067,   0.0081778,   0.0079633,   0.0076878,   0.0074813,   0.0073673,   0.0069994,\n",
      "          0.0066789,   0.0065424,   0.0064618,   0.0061943,   0.0060088,   0.0057162,   0.0054978,   0.0052369,   0.0051748,   0.0050488,   0.0044809,   0.0044106,   0.0040651,   0.0039097,   0.0038735,   0.0037433,    0.003689,   0.0035916,   0.0035645,   0.0035037,   0.0031303,   0.0030203,   0.0029661,\n",
      "          0.0026999,   0.0026431,   0.0023795,   0.0022141,   0.0020612,    0.002025,   0.0019505,   0.0018857,   0.0017948,   0.0017677,   0.0017188,   0.0016103,   0.0015017,   0.0012872,   0.0010727,   0.0010275,  0.00096145,  0.00090311,  0.00084882,  0.00081216,  0.00074066,  0.00070446,  0.00065814,\n",
      "         0.00051919,  0.00046016,  0.00043301,  0.00036461,  0.00032842,  0.00022649,  0.00019863,  0.00018054,  0.00016244,  0.00015096,  0.00014109,  0.00013122,  0.00012134,  0.00011147,           0,           0,           0,           0,           0,           0,           0,           0,           0,\n",
      "                  0,           0,           0,           0,           0,           0,           0,           0,           0,           0,           0,           0,           0,           0,           0,           0,           0,           0,           0,           0,           0,           0,           0,\n",
      "                  0,           0,           0,           0,           0,           0,           0,           0,           0,           0,           0]]), 'Confidence', 'Recall']]\n",
      "fitness: 0.5435721716532673\n",
      "keys: ['metrics/precision(B)', 'metrics/recall(B)', 'metrics/mAP50(B)', 'metrics/mAP50-95(B)']\n",
      "maps: array([    0.50879])\n",
      "names: {0: 'insect'}\n",
      "plot: True\n",
      "results_dict: {'metrics/precision(B)': 0.8607072339441117, 'metrics/recall(B)': 0.7696626238017055, 'metrics/mAP50(B)': 0.8566012399936107, 'metrics/mAP50-95(B)': 0.5087911640598958, 'fitness': 0.5435721716532673}\n",
      "save_dir: WindowsPath('runs/detect/train60')\n",
      "speed: {'preprocess': 0.36497702364061696, 'inference': 9.987742653309972, 'loss': 0.0, 'postprocess': 1.2610568374883933}\n",
      "task: 'detect'\n",
      "Ultralytics 8.3.68  Python-3.12.0 torch-2.6.0+cu126 CUDA:0 (NVIDIA GeForce RTX 3050 Ti Laptop GPU, 4096MiB)\n",
      "YOLO11n summary (fused): 238 layers, 2,582,347 parameters, 0 gradients, 6.3 GFLOPs\n"
     ]
    },
    {
     "name": "stderr",
     "output_type": "stream",
     "text": [
      "\u001b[34m\u001b[1mval: \u001b[0mScanning C:\\Users\\Khaled\\Documents\\GitHub\\Mele-RIMBA\\Datasets\\For YOLO\\ULT DATASET 2.0\\Valid\\labels.cache... 1830 images, 475 backgrounds, 0 corrupt: 100%|██████████| 1830/1830 [00:00<?, ?it/s]\n",
      "                 Class     Images  Instances      Box(P          R      mAP50  mAP50-95): 100%|██████████| 229/229 [00:40<00:00,  5.68it/s]\n"
     ]
    },
    {
     "name": "stdout",
     "output_type": "stream",
     "text": [
      "                   all       1830      18881      0.864      0.769      0.857      0.511\n",
      "Speed: 0.4ms preprocess, 15.3ms inference, 0.0ms loss, 1.0ms postprocess per image\n",
      "Results saved to \u001b[1mruns\\detect\\train602\u001b[0m\n",
      "ultralytics.utils.metrics.DetMetrics object with attributes:\n",
      "\n",
      "ap_class_index: array([0])\n",
      "box: ultralytics.utils.metrics.Metric object\n",
      "confusion_matrix: <ultralytics.utils.metrics.ConfusionMatrix object at 0x000001F62A61A030>\n",
      "curves: ['Precision-Recall(B)', 'F1-Confidence(B)', 'Precision-Confidence(B)', 'Recall-Confidence(B)']\n",
      "curves_results: [[array([          0,    0.001001,    0.002002,    0.003003,    0.004004,    0.005005,    0.006006,    0.007007,    0.008008,    0.009009,     0.01001,    0.011011,    0.012012,    0.013013,    0.014014,    0.015015,    0.016016,    0.017017,    0.018018,    0.019019,     0.02002,    0.021021,    0.022022,    0.023023,\n",
      "          0.024024,    0.025025,    0.026026,    0.027027,    0.028028,    0.029029,     0.03003,    0.031031,    0.032032,    0.033033,    0.034034,    0.035035,    0.036036,    0.037037,    0.038038,    0.039039,     0.04004,    0.041041,    0.042042,    0.043043,    0.044044,    0.045045,    0.046046,    0.047047,\n",
      "          0.048048,    0.049049,     0.05005,    0.051051,    0.052052,    0.053053,    0.054054,    0.055055,    0.056056,    0.057057,    0.058058,    0.059059,     0.06006,    0.061061,    0.062062,    0.063063,    0.064064,    0.065065,    0.066066,    0.067067,    0.068068,    0.069069,     0.07007,    0.071071,\n",
      "          0.072072,    0.073073,    0.074074,    0.075075,    0.076076,    0.077077,    0.078078,    0.079079,     0.08008,    0.081081,    0.082082,    0.083083,    0.084084,    0.085085,    0.086086,    0.087087,    0.088088,    0.089089,     0.09009,    0.091091,    0.092092,    0.093093,    0.094094,    0.095095,\n",
      "          0.096096,    0.097097,    0.098098,    0.099099,      0.1001,      0.1011,      0.1021,      0.1031,      0.1041,     0.10511,     0.10611,     0.10711,     0.10811,     0.10911,     0.11011,     0.11111,     0.11211,     0.11311,     0.11411,     0.11512,     0.11612,     0.11712,     0.11812,     0.11912,\n",
      "           0.12012,     0.12112,     0.12212,     0.12312,     0.12412,     0.12513,     0.12613,     0.12713,     0.12813,     0.12913,     0.13013,     0.13113,     0.13213,     0.13313,     0.13413,     0.13514,     0.13614,     0.13714,     0.13814,     0.13914,     0.14014,     0.14114,     0.14214,     0.14314,\n",
      "           0.14414,     0.14515,     0.14615,     0.14715,     0.14815,     0.14915,     0.15015,     0.15115,     0.15215,     0.15315,     0.15415,     0.15516,     0.15616,     0.15716,     0.15816,     0.15916,     0.16016,     0.16116,     0.16216,     0.16316,     0.16416,     0.16517,     0.16617,     0.16717,\n",
      "           0.16817,     0.16917,     0.17017,     0.17117,     0.17217,     0.17317,     0.17417,     0.17518,     0.17618,     0.17718,     0.17818,     0.17918,     0.18018,     0.18118,     0.18218,     0.18318,     0.18418,     0.18519,     0.18619,     0.18719,     0.18819,     0.18919,     0.19019,     0.19119,\n",
      "           0.19219,     0.19319,     0.19419,      0.1952,      0.1962,      0.1972,      0.1982,      0.1992,      0.2002,      0.2012,      0.2022,      0.2032,      0.2042,     0.20521,     0.20621,     0.20721,     0.20821,     0.20921,     0.21021,     0.21121,     0.21221,     0.21321,     0.21421,     0.21522,\n",
      "           0.21622,     0.21722,     0.21822,     0.21922,     0.22022,     0.22122,     0.22222,     0.22322,     0.22422,     0.22523,     0.22623,     0.22723,     0.22823,     0.22923,     0.23023,     0.23123,     0.23223,     0.23323,     0.23423,     0.23524,     0.23624,     0.23724,     0.23824,     0.23924,\n",
      "           0.24024,     0.24124,     0.24224,     0.24324,     0.24424,     0.24525,     0.24625,     0.24725,     0.24825,     0.24925,     0.25025,     0.25125,     0.25225,     0.25325,     0.25425,     0.25526,     0.25626,     0.25726,     0.25826,     0.25926,     0.26026,     0.26126,     0.26226,     0.26326,\n",
      "           0.26426,     0.26527,     0.26627,     0.26727,     0.26827,     0.26927,     0.27027,     0.27127,     0.27227,     0.27327,     0.27427,     0.27528,     0.27628,     0.27728,     0.27828,     0.27928,     0.28028,     0.28128,     0.28228,     0.28328,     0.28428,     0.28529,     0.28629,     0.28729,\n",
      "           0.28829,     0.28929,     0.29029,     0.29129,     0.29229,     0.29329,     0.29429,      0.2953,      0.2963,      0.2973,      0.2983,      0.2993,      0.3003,      0.3013,      0.3023,      0.3033,      0.3043,     0.30531,     0.30631,     0.30731,     0.30831,     0.30931,     0.31031,     0.31131,\n",
      "           0.31231,     0.31331,     0.31431,     0.31532,     0.31632,     0.31732,     0.31832,     0.31932,     0.32032,     0.32132,     0.32232,     0.32332,     0.32432,     0.32533,     0.32633,     0.32733,     0.32833,     0.32933,     0.33033,     0.33133,     0.33233,     0.33333,     0.33433,     0.33534,\n",
      "           0.33634,     0.33734,     0.33834,     0.33934,     0.34034,     0.34134,     0.34234,     0.34334,     0.34434,     0.34535,     0.34635,     0.34735,     0.34835,     0.34935,     0.35035,     0.35135,     0.35235,     0.35335,     0.35435,     0.35536,     0.35636,     0.35736,     0.35836,     0.35936,\n",
      "           0.36036,     0.36136,     0.36236,     0.36336,     0.36436,     0.36537,     0.36637,     0.36737,     0.36837,     0.36937,     0.37037,     0.37137,     0.37237,     0.37337,     0.37437,     0.37538,     0.37638,     0.37738,     0.37838,     0.37938,     0.38038,     0.38138,     0.38238,     0.38338,\n",
      "           0.38438,     0.38539,     0.38639,     0.38739,     0.38839,     0.38939,     0.39039,     0.39139,     0.39239,     0.39339,     0.39439,      0.3954,      0.3964,      0.3974,      0.3984,      0.3994,      0.4004,      0.4014,      0.4024,      0.4034,      0.4044,     0.40541,     0.40641,     0.40741,\n",
      "           0.40841,     0.40941,     0.41041,     0.41141,     0.41241,     0.41341,     0.41441,     0.41542,     0.41642,     0.41742,     0.41842,     0.41942,     0.42042,     0.42142,     0.42242,     0.42342,     0.42442,     0.42543,     0.42643,     0.42743,     0.42843,     0.42943,     0.43043,     0.43143,\n",
      "           0.43243,     0.43343,     0.43443,     0.43544,     0.43644,     0.43744,     0.43844,     0.43944,     0.44044,     0.44144,     0.44244,     0.44344,     0.44444,     0.44545,     0.44645,     0.44745,     0.44845,     0.44945,     0.45045,     0.45145,     0.45245,     0.45345,     0.45445,     0.45546,\n",
      "           0.45646,     0.45746,     0.45846,     0.45946,     0.46046,     0.46146,     0.46246,     0.46346,     0.46446,     0.46547,     0.46647,     0.46747,     0.46847,     0.46947,     0.47047,     0.47147,     0.47247,     0.47347,     0.47447,     0.47548,     0.47648,     0.47748,     0.47848,     0.47948,\n",
      "           0.48048,     0.48148,     0.48248,     0.48348,     0.48448,     0.48549,     0.48649,     0.48749,     0.48849,     0.48949,     0.49049,     0.49149,     0.49249,     0.49349,     0.49449,      0.4955,      0.4965,      0.4975,      0.4985,      0.4995,      0.5005,      0.5015,      0.5025,      0.5035,\n",
      "            0.5045,     0.50551,     0.50651,     0.50751,     0.50851,     0.50951,     0.51051,     0.51151,     0.51251,     0.51351,     0.51451,     0.51552,     0.51652,     0.51752,     0.51852,     0.51952,     0.52052,     0.52152,     0.52252,     0.52352,     0.52452,     0.52553,     0.52653,     0.52753,\n",
      "           0.52853,     0.52953,     0.53053,     0.53153,     0.53253,     0.53353,     0.53453,     0.53554,     0.53654,     0.53754,     0.53854,     0.53954,     0.54054,     0.54154,     0.54254,     0.54354,     0.54454,     0.54555,     0.54655,     0.54755,     0.54855,     0.54955,     0.55055,     0.55155,\n",
      "           0.55255,     0.55355,     0.55455,     0.55556,     0.55656,     0.55756,     0.55856,     0.55956,     0.56056,     0.56156,     0.56256,     0.56356,     0.56456,     0.56557,     0.56657,     0.56757,     0.56857,     0.56957,     0.57057,     0.57157,     0.57257,     0.57357,     0.57457,     0.57558,\n",
      "           0.57658,     0.57758,     0.57858,     0.57958,     0.58058,     0.58158,     0.58258,     0.58358,     0.58458,     0.58559,     0.58659,     0.58759,     0.58859,     0.58959,     0.59059,     0.59159,     0.59259,     0.59359,     0.59459,      0.5956,      0.5966,      0.5976,      0.5986,      0.5996,\n",
      "            0.6006,      0.6016,      0.6026,      0.6036,      0.6046,     0.60561,     0.60661,     0.60761,     0.60861,     0.60961,     0.61061,     0.61161,     0.61261,     0.61361,     0.61461,     0.61562,     0.61662,     0.61762,     0.61862,     0.61962,     0.62062,     0.62162,     0.62262,     0.62362,\n",
      "           0.62462,     0.62563,     0.62663,     0.62763,     0.62863,     0.62963,     0.63063,     0.63163,     0.63263,     0.63363,     0.63463,     0.63564,     0.63664,     0.63764,     0.63864,     0.63964,     0.64064,     0.64164,     0.64264,     0.64364,     0.64464,     0.64565,     0.64665,     0.64765,\n",
      "           0.64865,     0.64965,     0.65065,     0.65165,     0.65265,     0.65365,     0.65465,     0.65566,     0.65666,     0.65766,     0.65866,     0.65966,     0.66066,     0.66166,     0.66266,     0.66366,     0.66466,     0.66567,     0.66667,     0.66767,     0.66867,     0.66967,     0.67067,     0.67167,\n",
      "           0.67267,     0.67367,     0.67467,     0.67568,     0.67668,     0.67768,     0.67868,     0.67968,     0.68068,     0.68168,     0.68268,     0.68368,     0.68468,     0.68569,     0.68669,     0.68769,     0.68869,     0.68969,     0.69069,     0.69169,     0.69269,     0.69369,     0.69469,      0.6957,\n",
      "            0.6967,      0.6977,      0.6987,      0.6997,      0.7007,      0.7017,      0.7027,      0.7037,      0.7047,     0.70571,     0.70671,     0.70771,     0.70871,     0.70971,     0.71071,     0.71171,     0.71271,     0.71371,     0.71471,     0.71572,     0.71672,     0.71772,     0.71872,     0.71972,\n",
      "           0.72072,     0.72172,     0.72272,     0.72372,     0.72472,     0.72573,     0.72673,     0.72773,     0.72873,     0.72973,     0.73073,     0.73173,     0.73273,     0.73373,     0.73473,     0.73574,     0.73674,     0.73774,     0.73874,     0.73974,     0.74074,     0.74174,     0.74274,     0.74374,\n",
      "           0.74474,     0.74575,     0.74675,     0.74775,     0.74875,     0.74975,     0.75075,     0.75175,     0.75275,     0.75375,     0.75475,     0.75576,     0.75676,     0.75776,     0.75876,     0.75976,     0.76076,     0.76176,     0.76276,     0.76376,     0.76476,     0.76577,     0.76677,     0.76777,\n",
      "           0.76877,     0.76977,     0.77077,     0.77177,     0.77277,     0.77377,     0.77477,     0.77578,     0.77678,     0.77778,     0.77878,     0.77978,     0.78078,     0.78178,     0.78278,     0.78378,     0.78478,     0.78579,     0.78679,     0.78779,     0.78879,     0.78979,     0.79079,     0.79179,\n",
      "           0.79279,     0.79379,     0.79479,      0.7958,      0.7968,      0.7978,      0.7988,      0.7998,      0.8008,      0.8018,      0.8028,      0.8038,      0.8048,     0.80581,     0.80681,     0.80781,     0.80881,     0.80981,     0.81081,     0.81181,     0.81281,     0.81381,     0.81481,     0.81582,\n",
      "           0.81682,     0.81782,     0.81882,     0.81982,     0.82082,     0.82182,     0.82282,     0.82382,     0.82482,     0.82583,     0.82683,     0.82783,     0.82883,     0.82983,     0.83083,     0.83183,     0.83283,     0.83383,     0.83483,     0.83584,     0.83684,     0.83784,     0.83884,     0.83984,\n",
      "           0.84084,     0.84184,     0.84284,     0.84384,     0.84484,     0.84585,     0.84685,     0.84785,     0.84885,     0.84985,     0.85085,     0.85185,     0.85285,     0.85385,     0.85485,     0.85586,     0.85686,     0.85786,     0.85886,     0.85986,     0.86086,     0.86186,     0.86286,     0.86386,\n",
      "           0.86486,     0.86587,     0.86687,     0.86787,     0.86887,     0.86987,     0.87087,     0.87187,     0.87287,     0.87387,     0.87487,     0.87588,     0.87688,     0.87788,     0.87888,     0.87988,     0.88088,     0.88188,     0.88288,     0.88388,     0.88488,     0.88589,     0.88689,     0.88789,\n",
      "           0.88889,     0.88989,     0.89089,     0.89189,     0.89289,     0.89389,     0.89489,      0.8959,      0.8969,      0.8979,      0.8989,      0.8999,      0.9009,      0.9019,      0.9029,      0.9039,      0.9049,     0.90591,     0.90691,     0.90791,     0.90891,     0.90991,     0.91091,     0.91191,\n",
      "           0.91291,     0.91391,     0.91491,     0.91592,     0.91692,     0.91792,     0.91892,     0.91992,     0.92092,     0.92192,     0.92292,     0.92392,     0.92492,     0.92593,     0.92693,     0.92793,     0.92893,     0.92993,     0.93093,     0.93193,     0.93293,     0.93393,     0.93493,     0.93594,\n",
      "           0.93694,     0.93794,     0.93894,     0.93994,     0.94094,     0.94194,     0.94294,     0.94394,     0.94494,     0.94595,     0.94695,     0.94795,     0.94895,     0.94995,     0.95095,     0.95195,     0.95295,     0.95395,     0.95495,     0.95596,     0.95696,     0.95796,     0.95896,     0.95996,\n",
      "           0.96096,     0.96196,     0.96296,     0.96396,     0.96496,     0.96597,     0.96697,     0.96797,     0.96897,     0.96997,     0.97097,     0.97197,     0.97297,     0.97397,     0.97497,     0.97598,     0.97698,     0.97798,     0.97898,     0.97998,     0.98098,     0.98198,     0.98298,     0.98398,\n",
      "           0.98498,     0.98599,     0.98699,     0.98799,     0.98899,     0.98999,     0.99099,     0.99199,     0.99299,     0.99399,     0.99499,       0.996,       0.997,       0.998,       0.999,           1]), array([[          1,           1,           1,           1,           1,           1,           1,           1,     0.99721,     0.99721,     0.99721,     0.99721,     0.99721,     0.99721,     0.99721,     0.99721,     0.99721,     0.99721,     0.99721,     0.99721,     0.99721,     0.99721,     0.99721,\n",
      "            0.99721,     0.99721,     0.99721,     0.99721,     0.99721,     0.99721,     0.99721,     0.99721,     0.99721,     0.99721,     0.99721,     0.99721,     0.99721,     0.99721,     0.99721,     0.99721,     0.99721,     0.99721,     0.99721,     0.99721,     0.99721,     0.99721,     0.99721,\n",
      "            0.99721,     0.99721,     0.99721,     0.99721,     0.99721,     0.99721,     0.99721,     0.99721,     0.99721,     0.99721,     0.99721,     0.99721,     0.99721,     0.99721,     0.99721,     0.99721,     0.99721,     0.99721,     0.99721,     0.99721,     0.99721,     0.99721,     0.99721,\n",
      "            0.99721,     0.99721,     0.99721,     0.99721,     0.99721,     0.99721,     0.99721,     0.99721,     0.99721,     0.99721,     0.99721,     0.99721,     0.99721,     0.99721,     0.99721,     0.99721,     0.99721,     0.99721,     0.99721,     0.99721,     0.99721,     0.99721,     0.99721,\n",
      "            0.99721,     0.99721,     0.99721,     0.99721,     0.99721,     0.99721,     0.99721,     0.99721,     0.99721,     0.99721,     0.99721,     0.99721,     0.99721,     0.99721,     0.99721,     0.99721,     0.99721,     0.99721,     0.99721,     0.99721,     0.99721,     0.99721,     0.99721,\n",
      "            0.99721,     0.99721,     0.99721,     0.99721,     0.99721,     0.99721,     0.99721,     0.99721,     0.99721,     0.99721,     0.99721,     0.99721,     0.99721,     0.99721,     0.99721,     0.99721,     0.99721,     0.99721,     0.99721,     0.99721,     0.99721,     0.99721,     0.99721,\n",
      "            0.99721,     0.99721,     0.99721,     0.99721,     0.99721,     0.99721,     0.99721,     0.99721,     0.99721,     0.99721,     0.99721,     0.99721,     0.99721,     0.99721,     0.99721,     0.99721,     0.99721,     0.99721,     0.99721,     0.99721,     0.99721,     0.99721,     0.99721,\n",
      "            0.99721,     0.99721,     0.99721,     0.99721,     0.99721,     0.99721,     0.99721,     0.99721,     0.99721,     0.99721,     0.99715,     0.99715,     0.99715,     0.99715,     0.99715,     0.99715,     0.99715,     0.99715,     0.99715,     0.99715,     0.99715,     0.99715,     0.99715,\n",
      "            0.99715,     0.99715,     0.99663,     0.99663,     0.99634,     0.99634,     0.99634,     0.99634,     0.99634,     0.99634,     0.99634,     0.99634,     0.99634,     0.99634,     0.99634,     0.99634,     0.99634,     0.99634,     0.99634,     0.99634,     0.99634,     0.99634,     0.99634,\n",
      "            0.99634,     0.99634,     0.99634,     0.99634,     0.99634,     0.99634,     0.99634,     0.99634,     0.99634,     0.99634,     0.99616,     0.99616,     0.99616,      0.9961,      0.9961,      0.9961,      0.9961,      0.9961,      0.9961,      0.9961,      0.9961,      0.9961,      0.9961,\n",
      "            0.99594,     0.99594,     0.99594,     0.99594,     0.99592,     0.99592,     0.99592,     0.99592,     0.99592,     0.99592,     0.99592,     0.99592,     0.99592,     0.99592,     0.99592,     0.99592,     0.99584,     0.99584,     0.99584,     0.99584,     0.99584,     0.99584,     0.99584,\n",
      "            0.99584,     0.99547,     0.99547,     0.99513,     0.99513,     0.99513,     0.99513,     0.99495,      0.9948,      0.9948,      0.9948,      0.9948,      0.9948,      0.9948,      0.9948,      0.9948,      0.9948,      0.9948,      0.9948,      0.9948,      0.9948,     0.99462,     0.99447,\n",
      "            0.99438,     0.99438,     0.99438,     0.99438,     0.99438,     0.99423,     0.99423,     0.99406,     0.99392,     0.99392,     0.99392,     0.99392,     0.99392,     0.99392,     0.99392,     0.99392,     0.99392,     0.99392,     0.99379,     0.99379,     0.99379,     0.99378,     0.99378,\n",
      "            0.99378,     0.99378,     0.99378,     0.99378,     0.99378,     0.99378,     0.99375,     0.99375,     0.99375,     0.99375,     0.99375,     0.99375,     0.99375,      0.9936,     0.99354,     0.99354,     0.99354,     0.99354,     0.99354,     0.99354,     0.99354,     0.99354,     0.99354,\n",
      "            0.99354,     0.99354,     0.99354,     0.99354,     0.99354,     0.99354,     0.99354,     0.99354,     0.99354,     0.99354,     0.99354,     0.99354,     0.99354,     0.99354,     0.99354,     0.99354,     0.99354,     0.99354,     0.99354,     0.99354,     0.99349,     0.99349,     0.99349,\n",
      "            0.99349,     0.99349,     0.99349,     0.99336,     0.99328,     0.99328,     0.99328,     0.99328,     0.99326,     0.99326,     0.99326,     0.99326,     0.99326,     0.99326,     0.99319,     0.99319,     0.99319,     0.99319,     0.99305,     0.99301,     0.99301,     0.99301,     0.99301,\n",
      "            0.99301,     0.99285,     0.99285,     0.99285,     0.99285,     0.99285,     0.99285,     0.99262,     0.99262,     0.99262,     0.99259,     0.99259,     0.99259,     0.99259,     0.99259,     0.99249,     0.99249,     0.99246,     0.99246,     0.99246,     0.99246,     0.99246,     0.99246,\n",
      "            0.99246,     0.99246,     0.99246,     0.99246,     0.99246,     0.99246,     0.99237,     0.99237,     0.99227,     0.99227,     0.99223,     0.99223,     0.99223,     0.99223,     0.99223,     0.99212,     0.99202,     0.99196,     0.99196,     0.99196,     0.99196,     0.99187,     0.99187,\n",
      "            0.99177,     0.99166,     0.99133,     0.99133,     0.99125,     0.99125,     0.99114,     0.99101,     0.99101,     0.99101,     0.99101,     0.99101,     0.99096,     0.99096,     0.99096,     0.99096,     0.99092,     0.99092,     0.99092,     0.99083,     0.99083,     0.99074,     0.99063,\n",
      "            0.99056,     0.99056,     0.99056,     0.99056,     0.99056,     0.99056,     0.99056,     0.99056,     0.99048,     0.99042,     0.99042,     0.99042,     0.99021,     0.99015,     0.99015,     0.99015,     0.99006,     0.98998,     0.98996,     0.98996,     0.98996,     0.98996,     0.98985,\n",
      "            0.98979,     0.98979,     0.98975,     0.98975,     0.98975,     0.98965,     0.98944,     0.98913,     0.98897,     0.98897,     0.98882,     0.98882,     0.98882,     0.98882,     0.98882,     0.98882,     0.98882,     0.98882,     0.98864,     0.98859,     0.98859,     0.98859,     0.98842,\n",
      "            0.98842,     0.98834,     0.98821,     0.98821,     0.98821,     0.98811,     0.98803,     0.98774,      0.9877,      0.9877,     0.98761,     0.98757,     0.98757,     0.98757,     0.98739,     0.98731,     0.98727,     0.98727,     0.98708,     0.98693,     0.98693,     0.98686,     0.98678,\n",
      "             0.9866,     0.98642,     0.98624,     0.98607,     0.98589,     0.98574,     0.98574,     0.98548,     0.98531,     0.98515,     0.98507,     0.98498,     0.98492,     0.98475,     0.98438,     0.98422,     0.98415,     0.98388,     0.98364,     0.98358,     0.98358,     0.98352,     0.98338,\n",
      "             0.9833,     0.98322,     0.98286,     0.98261,     0.98245,     0.98222,     0.98222,     0.98179,     0.98174,     0.98166,     0.98141,     0.98118,     0.98114,     0.98114,     0.98089,     0.98064,     0.98032,     0.98025,      0.9801,     0.97996,     0.97981,     0.97966,     0.97952,\n",
      "            0.97949,     0.97949,     0.97924,     0.97902,     0.97868,     0.97848,     0.97848,      0.9779,     0.97784,     0.97771,     0.97771,     0.97771,     0.97756,     0.97748,     0.97691,     0.97651,     0.97645,     0.97605,     0.97591,     0.97577,     0.97555,     0.97524,     0.97494,\n",
      "            0.97472,      0.9745,      0.9741,     0.97346,     0.97334,     0.97328,     0.97272,     0.97264,     0.97264,     0.97261,     0.97205,     0.97201,      0.9718,     0.97159,     0.97142,     0.97135,     0.97114,     0.97094,     0.97074,     0.97069,     0.97041,     0.97022,     0.97009,\n",
      "            0.96963,     0.96944,     0.96899,     0.96887,     0.96827,     0.96815,      0.9678,     0.96728,     0.96685,     0.96664,     0.96629,     0.96574,     0.96574,     0.96557,     0.96537,     0.96518,       0.965,     0.96481,     0.96449,      0.9642,     0.96411,       0.964,     0.96374,\n",
      "            0.96339,      0.9629,     0.96242,      0.9623,     0.96176,     0.96149,     0.96029,     0.95998,     0.95965,     0.95941,      0.9593,      0.9586,     0.95804,     0.95759,     0.95741,     0.95717,     0.95701,     0.95661,     0.95628,     0.95628,     0.95589,     0.95575,     0.95551,\n",
      "            0.95527,     0.95482,     0.95467,     0.95436,     0.95419,     0.95374,     0.95352,     0.95285,     0.95228,      0.9521,     0.95196,     0.95166,     0.95129,     0.95055,     0.94983,     0.94961,     0.94928,     0.94897,      0.9486,     0.94805,     0.94775,     0.94704,     0.94668,\n",
      "            0.94627,     0.94541,      0.9448,     0.94474,     0.94425,      0.9439,     0.94299,     0.94258,     0.94205,     0.94156,      0.9407,     0.94007,     0.93955,     0.93927,     0.93881,     0.93829,     0.93741,     0.93722,     0.93663,     0.93639,     0.93586,     0.93521,     0.93482,\n",
      "            0.93391,     0.93332,     0.93249,     0.93205,     0.93142,     0.93101,     0.93027,     0.92892,     0.92844,      0.9275,      0.9268,     0.92587,     0.92513,      0.9247,     0.92366,     0.92272,     0.92181,     0.92051,     0.91916,     0.91871,     0.91825,     0.91783,     0.91682,\n",
      "            0.91611,     0.91554,     0.91497,     0.91427,     0.91284,     0.91221,     0.91172,      0.9114,     0.91041,      0.9095,     0.90919,     0.90863,     0.90724,     0.90652,     0.90581,     0.90527,     0.90443,     0.90336,     0.90259,      0.9016,     0.90073,     0.90003,     0.89875,\n",
      "            0.89801,     0.89733,     0.89625,     0.89565,       0.895,     0.89437,     0.89422,     0.89343,     0.89292,     0.89228,     0.89129,     0.89063,     0.89008,     0.88892,     0.88746,     0.88635,     0.88571,     0.88447,     0.88286,     0.88256,     0.88128,     0.88007,      0.8788,\n",
      "            0.87701,     0.87543,     0.87286,     0.87185,      0.8711,     0.86967,     0.86815,     0.86644,     0.86536,     0.86467,     0.86311,     0.86209,     0.86103,     0.86017,     0.85871,      0.8573,     0.85571,     0.85328,     0.85195,      0.8501,     0.84918,     0.84807,     0.84702,\n",
      "             0.8451,     0.84383,     0.84203,     0.84081,     0.83962,     0.83789,     0.83684,     0.83518,     0.83367,     0.83199,     0.83014,     0.82788,     0.82666,     0.82465,     0.82246,     0.82137,     0.81986,     0.81769,     0.81561,     0.81414,     0.81081,     0.80836,      0.8062,\n",
      "            0.80481,     0.80297,     0.80158,     0.80005,     0.79861,     0.79664,      0.7947,       0.793,     0.79019,     0.78776,     0.78484,     0.78187,     0.77978,     0.77752,     0.77548,     0.77351,     0.77122,     0.76873,     0.76497,     0.76302,     0.76061,     0.75786,     0.75567,\n",
      "            0.75269,     0.75086,     0.74757,     0.74489,     0.74129,     0.73853,     0.73573,     0.73248,     0.73095,     0.72695,     0.72404,     0.71752,     0.71359,     0.71036,     0.70632,     0.70338,     0.70039,     0.69733,     0.69239,     0.68829,     0.68516,     0.68213,     0.67876,\n",
      "              0.676,     0.67085,     0.66675,     0.66249,     0.65702,     0.65444,     0.64854,     0.64538,     0.63899,     0.63445,     0.63086,     0.62515,     0.62028,     0.61398,     0.60831,     0.60314,     0.59685,     0.59444,     0.58903,     0.58342,     0.57814,     0.57395,     0.56836,\n",
      "            0.56381,     0.55719,     0.54968,     0.54692,     0.53911,     0.53204,     0.52765,     0.52153,      0.5157,     0.50895,     0.50315,     0.49763,       0.494,      0.4845,     0.47743,     0.47144,     0.46512,     0.45941,     0.45191,     0.43979,     0.43165,     0.42395,     0.41611,\n",
      "            0.40895,     0.40282,     0.39646,     0.38908,     0.38406,     0.37624,     0.36674,     0.35835,     0.35127,     0.34377,     0.33663,     0.32626,     0.31956,     0.31466,     0.30801,     0.30019,     0.29503,     0.28793,     0.27672,     0.26538,     0.25373,     0.24458,     0.23256,\n",
      "            0.20846,     0.18603,     0.15735,     0.15531,     0.15326,     0.15122,     0.14918,     0.14713,     0.14509,     0.14305,       0.141,     0.13896,     0.13692,     0.13487,     0.13283,     0.13079,     0.12874,      0.1267,     0.12465,     0.12261,     0.12057,     0.11852,     0.11648,\n",
      "            0.11444,     0.11239,     0.11035,     0.10831,     0.10626,     0.10422,     0.10218,     0.10013,    0.098089,    0.096045,    0.094002,    0.091958,    0.089915,    0.087871,    0.085828,    0.083784,    0.081741,    0.079697,    0.077654,     0.07561,    0.073567,    0.071523,     0.06948,\n",
      "           0.067436,    0.065393,    0.063349,    0.061306,    0.059262,    0.057219,    0.055175,    0.053132,    0.051088,    0.049044,    0.047001,    0.044957,    0.042914,     0.04087,    0.038827,    0.036783,     0.03474,    0.032696,    0.030653,    0.028609,    0.026566,    0.024522,    0.022479,\n",
      "           0.020435,    0.018392,    0.016348,    0.014305,    0.012261,    0.010218,   0.0081741,   0.0061306,    0.004087,   0.0020435,           0]]), 'Recall', 'Precision'], [array([          0,    0.001001,    0.002002,    0.003003,    0.004004,    0.005005,    0.006006,    0.007007,    0.008008,    0.009009,     0.01001,    0.011011,    0.012012,    0.013013,    0.014014,    0.015015,    0.016016,    0.017017,    0.018018,    0.019019,     0.02002,    0.021021,    0.022022,    0.023023,\n",
      "          0.024024,    0.025025,    0.026026,    0.027027,    0.028028,    0.029029,     0.03003,    0.031031,    0.032032,    0.033033,    0.034034,    0.035035,    0.036036,    0.037037,    0.038038,    0.039039,     0.04004,    0.041041,    0.042042,    0.043043,    0.044044,    0.045045,    0.046046,    0.047047,\n",
      "          0.048048,    0.049049,     0.05005,    0.051051,    0.052052,    0.053053,    0.054054,    0.055055,    0.056056,    0.057057,    0.058058,    0.059059,     0.06006,    0.061061,    0.062062,    0.063063,    0.064064,    0.065065,    0.066066,    0.067067,    0.068068,    0.069069,     0.07007,    0.071071,\n",
      "          0.072072,    0.073073,    0.074074,    0.075075,    0.076076,    0.077077,    0.078078,    0.079079,     0.08008,    0.081081,    0.082082,    0.083083,    0.084084,    0.085085,    0.086086,    0.087087,    0.088088,    0.089089,     0.09009,    0.091091,    0.092092,    0.093093,    0.094094,    0.095095,\n",
      "          0.096096,    0.097097,    0.098098,    0.099099,      0.1001,      0.1011,      0.1021,      0.1031,      0.1041,     0.10511,     0.10611,     0.10711,     0.10811,     0.10911,     0.11011,     0.11111,     0.11211,     0.11311,     0.11411,     0.11512,     0.11612,     0.11712,     0.11812,     0.11912,\n",
      "           0.12012,     0.12112,     0.12212,     0.12312,     0.12412,     0.12513,     0.12613,     0.12713,     0.12813,     0.12913,     0.13013,     0.13113,     0.13213,     0.13313,     0.13413,     0.13514,     0.13614,     0.13714,     0.13814,     0.13914,     0.14014,     0.14114,     0.14214,     0.14314,\n",
      "           0.14414,     0.14515,     0.14615,     0.14715,     0.14815,     0.14915,     0.15015,     0.15115,     0.15215,     0.15315,     0.15415,     0.15516,     0.15616,     0.15716,     0.15816,     0.15916,     0.16016,     0.16116,     0.16216,     0.16316,     0.16416,     0.16517,     0.16617,     0.16717,\n",
      "           0.16817,     0.16917,     0.17017,     0.17117,     0.17217,     0.17317,     0.17417,     0.17518,     0.17618,     0.17718,     0.17818,     0.17918,     0.18018,     0.18118,     0.18218,     0.18318,     0.18418,     0.18519,     0.18619,     0.18719,     0.18819,     0.18919,     0.19019,     0.19119,\n",
      "           0.19219,     0.19319,     0.19419,      0.1952,      0.1962,      0.1972,      0.1982,      0.1992,      0.2002,      0.2012,      0.2022,      0.2032,      0.2042,     0.20521,     0.20621,     0.20721,     0.20821,     0.20921,     0.21021,     0.21121,     0.21221,     0.21321,     0.21421,     0.21522,\n",
      "           0.21622,     0.21722,     0.21822,     0.21922,     0.22022,     0.22122,     0.22222,     0.22322,     0.22422,     0.22523,     0.22623,     0.22723,     0.22823,     0.22923,     0.23023,     0.23123,     0.23223,     0.23323,     0.23423,     0.23524,     0.23624,     0.23724,     0.23824,     0.23924,\n",
      "           0.24024,     0.24124,     0.24224,     0.24324,     0.24424,     0.24525,     0.24625,     0.24725,     0.24825,     0.24925,     0.25025,     0.25125,     0.25225,     0.25325,     0.25425,     0.25526,     0.25626,     0.25726,     0.25826,     0.25926,     0.26026,     0.26126,     0.26226,     0.26326,\n",
      "           0.26426,     0.26527,     0.26627,     0.26727,     0.26827,     0.26927,     0.27027,     0.27127,     0.27227,     0.27327,     0.27427,     0.27528,     0.27628,     0.27728,     0.27828,     0.27928,     0.28028,     0.28128,     0.28228,     0.28328,     0.28428,     0.28529,     0.28629,     0.28729,\n",
      "           0.28829,     0.28929,     0.29029,     0.29129,     0.29229,     0.29329,     0.29429,      0.2953,      0.2963,      0.2973,      0.2983,      0.2993,      0.3003,      0.3013,      0.3023,      0.3033,      0.3043,     0.30531,     0.30631,     0.30731,     0.30831,     0.30931,     0.31031,     0.31131,\n",
      "           0.31231,     0.31331,     0.31431,     0.31532,     0.31632,     0.31732,     0.31832,     0.31932,     0.32032,     0.32132,     0.32232,     0.32332,     0.32432,     0.32533,     0.32633,     0.32733,     0.32833,     0.32933,     0.33033,     0.33133,     0.33233,     0.33333,     0.33433,     0.33534,\n",
      "           0.33634,     0.33734,     0.33834,     0.33934,     0.34034,     0.34134,     0.34234,     0.34334,     0.34434,     0.34535,     0.34635,     0.34735,     0.34835,     0.34935,     0.35035,     0.35135,     0.35235,     0.35335,     0.35435,     0.35536,     0.35636,     0.35736,     0.35836,     0.35936,\n",
      "           0.36036,     0.36136,     0.36236,     0.36336,     0.36436,     0.36537,     0.36637,     0.36737,     0.36837,     0.36937,     0.37037,     0.37137,     0.37237,     0.37337,     0.37437,     0.37538,     0.37638,     0.37738,     0.37838,     0.37938,     0.38038,     0.38138,     0.38238,     0.38338,\n",
      "           0.38438,     0.38539,     0.38639,     0.38739,     0.38839,     0.38939,     0.39039,     0.39139,     0.39239,     0.39339,     0.39439,      0.3954,      0.3964,      0.3974,      0.3984,      0.3994,      0.4004,      0.4014,      0.4024,      0.4034,      0.4044,     0.40541,     0.40641,     0.40741,\n",
      "           0.40841,     0.40941,     0.41041,     0.41141,     0.41241,     0.41341,     0.41441,     0.41542,     0.41642,     0.41742,     0.41842,     0.41942,     0.42042,     0.42142,     0.42242,     0.42342,     0.42442,     0.42543,     0.42643,     0.42743,     0.42843,     0.42943,     0.43043,     0.43143,\n",
      "           0.43243,     0.43343,     0.43443,     0.43544,     0.43644,     0.43744,     0.43844,     0.43944,     0.44044,     0.44144,     0.44244,     0.44344,     0.44444,     0.44545,     0.44645,     0.44745,     0.44845,     0.44945,     0.45045,     0.45145,     0.45245,     0.45345,     0.45445,     0.45546,\n",
      "           0.45646,     0.45746,     0.45846,     0.45946,     0.46046,     0.46146,     0.46246,     0.46346,     0.46446,     0.46547,     0.46647,     0.46747,     0.46847,     0.46947,     0.47047,     0.47147,     0.47247,     0.47347,     0.47447,     0.47548,     0.47648,     0.47748,     0.47848,     0.47948,\n",
      "           0.48048,     0.48148,     0.48248,     0.48348,     0.48448,     0.48549,     0.48649,     0.48749,     0.48849,     0.48949,     0.49049,     0.49149,     0.49249,     0.49349,     0.49449,      0.4955,      0.4965,      0.4975,      0.4985,      0.4995,      0.5005,      0.5015,      0.5025,      0.5035,\n",
      "            0.5045,     0.50551,     0.50651,     0.50751,     0.50851,     0.50951,     0.51051,     0.51151,     0.51251,     0.51351,     0.51451,     0.51552,     0.51652,     0.51752,     0.51852,     0.51952,     0.52052,     0.52152,     0.52252,     0.52352,     0.52452,     0.52553,     0.52653,     0.52753,\n",
      "           0.52853,     0.52953,     0.53053,     0.53153,     0.53253,     0.53353,     0.53453,     0.53554,     0.53654,     0.53754,     0.53854,     0.53954,     0.54054,     0.54154,     0.54254,     0.54354,     0.54454,     0.54555,     0.54655,     0.54755,     0.54855,     0.54955,     0.55055,     0.55155,\n",
      "           0.55255,     0.55355,     0.55455,     0.55556,     0.55656,     0.55756,     0.55856,     0.55956,     0.56056,     0.56156,     0.56256,     0.56356,     0.56456,     0.56557,     0.56657,     0.56757,     0.56857,     0.56957,     0.57057,     0.57157,     0.57257,     0.57357,     0.57457,     0.57558,\n",
      "           0.57658,     0.57758,     0.57858,     0.57958,     0.58058,     0.58158,     0.58258,     0.58358,     0.58458,     0.58559,     0.58659,     0.58759,     0.58859,     0.58959,     0.59059,     0.59159,     0.59259,     0.59359,     0.59459,      0.5956,      0.5966,      0.5976,      0.5986,      0.5996,\n",
      "            0.6006,      0.6016,      0.6026,      0.6036,      0.6046,     0.60561,     0.60661,     0.60761,     0.60861,     0.60961,     0.61061,     0.61161,     0.61261,     0.61361,     0.61461,     0.61562,     0.61662,     0.61762,     0.61862,     0.61962,     0.62062,     0.62162,     0.62262,     0.62362,\n",
      "           0.62462,     0.62563,     0.62663,     0.62763,     0.62863,     0.62963,     0.63063,     0.63163,     0.63263,     0.63363,     0.63463,     0.63564,     0.63664,     0.63764,     0.63864,     0.63964,     0.64064,     0.64164,     0.64264,     0.64364,     0.64464,     0.64565,     0.64665,     0.64765,\n",
      "           0.64865,     0.64965,     0.65065,     0.65165,     0.65265,     0.65365,     0.65465,     0.65566,     0.65666,     0.65766,     0.65866,     0.65966,     0.66066,     0.66166,     0.66266,     0.66366,     0.66466,     0.66567,     0.66667,     0.66767,     0.66867,     0.66967,     0.67067,     0.67167,\n",
      "           0.67267,     0.67367,     0.67467,     0.67568,     0.67668,     0.67768,     0.67868,     0.67968,     0.68068,     0.68168,     0.68268,     0.68368,     0.68468,     0.68569,     0.68669,     0.68769,     0.68869,     0.68969,     0.69069,     0.69169,     0.69269,     0.69369,     0.69469,      0.6957,\n",
      "            0.6967,      0.6977,      0.6987,      0.6997,      0.7007,      0.7017,      0.7027,      0.7037,      0.7047,     0.70571,     0.70671,     0.70771,     0.70871,     0.70971,     0.71071,     0.71171,     0.71271,     0.71371,     0.71471,     0.71572,     0.71672,     0.71772,     0.71872,     0.71972,\n",
      "           0.72072,     0.72172,     0.72272,     0.72372,     0.72472,     0.72573,     0.72673,     0.72773,     0.72873,     0.72973,     0.73073,     0.73173,     0.73273,     0.73373,     0.73473,     0.73574,     0.73674,     0.73774,     0.73874,     0.73974,     0.74074,     0.74174,     0.74274,     0.74374,\n",
      "           0.74474,     0.74575,     0.74675,     0.74775,     0.74875,     0.74975,     0.75075,     0.75175,     0.75275,     0.75375,     0.75475,     0.75576,     0.75676,     0.75776,     0.75876,     0.75976,     0.76076,     0.76176,     0.76276,     0.76376,     0.76476,     0.76577,     0.76677,     0.76777,\n",
      "           0.76877,     0.76977,     0.77077,     0.77177,     0.77277,     0.77377,     0.77477,     0.77578,     0.77678,     0.77778,     0.77878,     0.77978,     0.78078,     0.78178,     0.78278,     0.78378,     0.78478,     0.78579,     0.78679,     0.78779,     0.78879,     0.78979,     0.79079,     0.79179,\n",
      "           0.79279,     0.79379,     0.79479,      0.7958,      0.7968,      0.7978,      0.7988,      0.7998,      0.8008,      0.8018,      0.8028,      0.8038,      0.8048,     0.80581,     0.80681,     0.80781,     0.80881,     0.80981,     0.81081,     0.81181,     0.81281,     0.81381,     0.81481,     0.81582,\n",
      "           0.81682,     0.81782,     0.81882,     0.81982,     0.82082,     0.82182,     0.82282,     0.82382,     0.82482,     0.82583,     0.82683,     0.82783,     0.82883,     0.82983,     0.83083,     0.83183,     0.83283,     0.83383,     0.83483,     0.83584,     0.83684,     0.83784,     0.83884,     0.83984,\n",
      "           0.84084,     0.84184,     0.84284,     0.84384,     0.84484,     0.84585,     0.84685,     0.84785,     0.84885,     0.84985,     0.85085,     0.85185,     0.85285,     0.85385,     0.85485,     0.85586,     0.85686,     0.85786,     0.85886,     0.85986,     0.86086,     0.86186,     0.86286,     0.86386,\n",
      "           0.86486,     0.86587,     0.86687,     0.86787,     0.86887,     0.86987,     0.87087,     0.87187,     0.87287,     0.87387,     0.87487,     0.87588,     0.87688,     0.87788,     0.87888,     0.87988,     0.88088,     0.88188,     0.88288,     0.88388,     0.88488,     0.88589,     0.88689,     0.88789,\n",
      "           0.88889,     0.88989,     0.89089,     0.89189,     0.89289,     0.89389,     0.89489,      0.8959,      0.8969,      0.8979,      0.8989,      0.8999,      0.9009,      0.9019,      0.9029,      0.9039,      0.9049,     0.90591,     0.90691,     0.90791,     0.90891,     0.90991,     0.91091,     0.91191,\n",
      "           0.91291,     0.91391,     0.91491,     0.91592,     0.91692,     0.91792,     0.91892,     0.91992,     0.92092,     0.92192,     0.92292,     0.92392,     0.92492,     0.92593,     0.92693,     0.92793,     0.92893,     0.92993,     0.93093,     0.93193,     0.93293,     0.93393,     0.93493,     0.93594,\n",
      "           0.93694,     0.93794,     0.93894,     0.93994,     0.94094,     0.94194,     0.94294,     0.94394,     0.94494,     0.94595,     0.94695,     0.94795,     0.94895,     0.94995,     0.95095,     0.95195,     0.95295,     0.95395,     0.95495,     0.95596,     0.95696,     0.95796,     0.95896,     0.95996,\n",
      "           0.96096,     0.96196,     0.96296,     0.96396,     0.96496,     0.96597,     0.96697,     0.96797,     0.96897,     0.96997,     0.97097,     0.97197,     0.97297,     0.97397,     0.97497,     0.97598,     0.97698,     0.97798,     0.97898,     0.97998,     0.98098,     0.98198,     0.98298,     0.98398,\n",
      "           0.98498,     0.98599,     0.98699,     0.98799,     0.98899,     0.98999,     0.99099,     0.99199,     0.99299,     0.99399,     0.99499,       0.996,       0.997,       0.998,       0.999,           1]), array([[    0.27006,     0.27012,     0.31314,      0.3394,     0.35782,     0.37312,     0.38549,     0.39607,     0.40513,     0.41319,     0.42028,     0.42691,     0.43396,     0.44263,     0.45135,     0.46087,     0.47018,     0.47885,     0.48705,     0.49478,     0.50143,     0.50764,      0.5137,\n",
      "            0.51926,     0.52431,     0.52975,     0.53436,     0.53857,     0.54276,     0.54643,     0.55034,     0.55407,     0.55751,     0.56069,     0.56375,      0.5669,     0.57008,      0.5727,     0.57553,      0.5782,     0.58118,     0.58375,     0.58635,     0.58876,     0.59128,     0.59378,\n",
      "            0.59616,     0.59868,     0.60109,     0.60355,     0.60581,     0.60779,     0.60988,     0.61217,      0.6144,     0.61627,     0.61819,     0.61981,      0.6218,     0.62391,     0.62584,     0.62769,     0.62963,     0.63169,     0.63346,      0.6352,     0.63681,      0.6384,     0.64039,\n",
      "            0.64205,     0.64369,     0.64552,      0.6469,     0.64841,     0.65014,     0.65166,     0.65316,      0.6545,     0.65622,     0.65772,     0.65906,      0.6605,     0.66209,     0.66324,     0.66442,     0.66589,     0.66728,     0.66878,     0.67016,     0.67132,     0.67237,      0.6739,\n",
      "            0.67483,     0.67573,     0.67726,     0.67857,     0.67983,     0.68095,     0.68198,     0.68333,     0.68437,     0.68557,     0.68675,     0.68782,     0.68914,     0.68997,     0.69107,     0.69227,     0.69335,     0.69436,     0.69519,     0.69605,     0.69708,      0.6981,     0.69907,\n",
      "             0.7001,      0.7008,     0.70215,     0.70323,     0.70397,     0.70487,     0.70591,     0.70663,     0.70743,      0.7084,     0.70929,     0.71043,     0.71143,     0.71205,     0.71297,     0.71392,     0.71467,     0.71542,     0.71623,     0.71696,     0.71784,     0.71873,     0.71967,\n",
      "            0.72057,     0.72153,     0.72232,     0.72333,     0.72411,     0.72493,     0.72587,     0.72689,     0.72772,     0.72846,     0.72933,     0.72993,      0.7305,     0.73127,     0.73185,     0.73297,     0.73346,     0.73419,     0.73512,     0.73601,     0.73651,     0.73718,     0.73797,\n",
      "            0.73836,     0.73914,     0.73983,      0.7406,     0.74125,     0.74171,     0.74219,     0.74275,     0.74317,      0.7439,     0.74467,     0.74533,      0.7461,     0.74664,     0.74725,     0.74795,     0.74863,     0.74929,     0.74983,     0.75048,     0.75102,     0.75157,     0.75238,\n",
      "            0.75302,      0.7538,     0.75447,     0.75488,     0.75562,     0.75625,     0.75666,     0.75726,      0.7576,       0.758,     0.75832,      0.7589,     0.75954,     0.76001,     0.76059,     0.76113,     0.76178,     0.76216,     0.76272,     0.76345,     0.76396,     0.76445,      0.7649,\n",
      "            0.76544,     0.76567,     0.76627,     0.76656,     0.76707,     0.76739,     0.76764,     0.76813,     0.76854,     0.76912,     0.76972,     0.77018,     0.77064,     0.77102,     0.77139,     0.77179,     0.77214,     0.77275,     0.77339,     0.77386,     0.77436,     0.77496,     0.77546,\n",
      "            0.77587,     0.77645,      0.7769,     0.77728,     0.77782,     0.77829,     0.77859,     0.77903,     0.77945,     0.77968,     0.78017,     0.78056,     0.78073,     0.78113,     0.78151,     0.78195,     0.78222,     0.78257,     0.78317,     0.78352,     0.78395,     0.78416,     0.78448,\n",
      "            0.78499,     0.78535,      0.7861,     0.78643,     0.78669,     0.78702,     0.78742,     0.78787,     0.78834,     0.78861,     0.78885,     0.78906,      0.7893,     0.78993,      0.7903,     0.79044,     0.79065,     0.79108,     0.79142,     0.79177,       0.792,     0.79245,     0.79269,\n",
      "            0.79307,     0.79324,     0.79345,     0.79393,     0.79429,     0.79484,     0.79502,     0.79545,     0.79562,     0.79601,      0.7963,     0.79643,     0.79668,      0.7969,     0.79711,     0.79731,     0.79769,     0.79794,     0.79832,     0.79847,     0.79884,     0.79901,     0.79945,\n",
      "            0.79986,     0.80023,     0.80049,      0.8006,     0.80099,     0.80121,     0.80155,     0.80187,     0.80219,     0.80235,     0.80277,     0.80292,     0.80282,     0.80312,     0.80329,     0.80344,     0.80373,     0.80383,     0.80406,     0.80441,     0.80445,     0.80435,     0.80464,\n",
      "            0.80465,     0.80471,      0.8048,     0.80513,     0.80527,     0.80523,     0.80547,      0.8057,     0.80572,     0.80593,     0.80633,     0.80661,     0.80679,     0.80694,      0.8074,     0.80767,       0.808,     0.80819,     0.80823,     0.80852,     0.80877,     0.80894,     0.80907,\n",
      "            0.80909,     0.80936,     0.80942,     0.80942,     0.80948,     0.80972,     0.81003,     0.81022,     0.81035,     0.81034,     0.81048,     0.81067,     0.81104,     0.81119,     0.81125,      0.8114,     0.81142,     0.81143,     0.81152,     0.81175,     0.81194,     0.81192,     0.81217,\n",
      "            0.81216,     0.81209,     0.81233,     0.81239,     0.81236,     0.81238,     0.81234,     0.81239,     0.81256,     0.81273,     0.81267,     0.81269,     0.81288,     0.81309,     0.81306,     0.81317,     0.81306,     0.81286,     0.81304,     0.81298,     0.81287,      0.8131,      0.8132,\n",
      "            0.81322,     0.81316,     0.81321,      0.8136,     0.81379,     0.81389,     0.81391,     0.81395,     0.81408,     0.81395,      0.8141,     0.81409,     0.81403,     0.81395,     0.81378,     0.81387,     0.81389,     0.81368,     0.81384,     0.81395,     0.81393,     0.81371,     0.81371,\n",
      "            0.81351,     0.81343,     0.81368,     0.81371,     0.81389,     0.81395,     0.81392,     0.81386,     0.81366,     0.81359,     0.81354,     0.81356,     0.81373,     0.81406,     0.81412,     0.81423,     0.81425,     0.81436,     0.81454,     0.81442,      0.8143,     0.81434,     0.81424,\n",
      "            0.81433,     0.81397,     0.81363,     0.81379,      0.8139,      0.8138,     0.81373,     0.81351,     0.81353,      0.8133,     0.81347,      0.8132,     0.81337,     0.81302,     0.81291,     0.81274,     0.81243,     0.81234,     0.81231,     0.81187,     0.81175,     0.81176,     0.81143,\n",
      "            0.81103,     0.81067,     0.81062,     0.81048,     0.81018,     0.80999,     0.80983,     0.80948,     0.80916,       0.809,     0.80896,     0.80895,     0.80864,     0.80855,     0.80832,     0.80817,      0.8079,     0.80789,     0.80776,     0.80763,     0.80751,     0.80729,     0.80683,\n",
      "            0.80681,     0.80653,      0.8064,     0.80638,      0.8063,     0.80608,     0.80575,     0.80534,     0.80519,     0.80505,     0.80494,     0.80466,     0.80426,     0.80378,     0.80366,     0.80362,     0.80351,      0.8034,      0.8032,     0.80291,     0.80273,     0.80222,     0.80202,\n",
      "            0.80198,     0.80173,     0.80132,     0.80098,     0.80073,     0.80031,     0.80018,     0.80018,     0.80009,     0.80008,     0.79987,     0.79969,     0.79954,     0.79933,     0.79921,     0.79902,     0.79859,      0.7984,     0.79808,       0.798,     0.79763,     0.79736,     0.79691,\n",
      "            0.79706,     0.79686,     0.79661,      0.7962,     0.79587,     0.79551,     0.79506,     0.79485,     0.79465,      0.7944,     0.79397,     0.79376,     0.79324,     0.79301,     0.79274,     0.79215,      0.7918,     0.79152,     0.79086,     0.79037,     0.79041,     0.78995,     0.78954,\n",
      "            0.78906,     0.78859,     0.78823,     0.78779,     0.78753,     0.78727,     0.78689,     0.78653,      0.7861,     0.78576,     0.78541,     0.78471,     0.78439,     0.78362,     0.78337,     0.78335,     0.78288,     0.78237,     0.78187,     0.78149,     0.78106,     0.78038,     0.78015,\n",
      "            0.77956,     0.77908,     0.77837,     0.77794,     0.77744,      0.7772,     0.77653,     0.77605,      0.7753,     0.77451,     0.77399,     0.77342,     0.77289,     0.77237,     0.77125,     0.77045,     0.76986,     0.76899,     0.76827,     0.76723,     0.76659,     0.76595,     0.76532,\n",
      "             0.7644,     0.76384,     0.76328,     0.76266,     0.76207,     0.76154,     0.76082,     0.76015,     0.75933,     0.75905,     0.75885,      0.7584,     0.75769,     0.75708,     0.75638,     0.75587,     0.75541,     0.75441,     0.75375,     0.75272,     0.75218,     0.75151,      0.7506,\n",
      "            0.74973,     0.74927,     0.74868,      0.7473,     0.74687,     0.74598,     0.74499,     0.74439,     0.74372,     0.74286,     0.74229,     0.74129,     0.74049,      0.7396,     0.73847,     0.73763,     0.73665,      0.7353,     0.73427,     0.73315,     0.73176,     0.73068,     0.72966,\n",
      "            0.72845,     0.72753,     0.72638,      0.7255,     0.72489,     0.72367,     0.72229,     0.72127,     0.72008,     0.71903,     0.71821,     0.71717,     0.71637,     0.71566,     0.71412,     0.71253,     0.71141,     0.71019,      0.7093,     0.70847,     0.70766,     0.70612,     0.70484,\n",
      "              0.704,     0.70253,     0.70111,     0.69962,     0.69828,     0.69647,     0.69555,     0.69366,     0.69229,     0.69114,     0.68984,     0.68858,     0.68692,      0.6854,     0.68379,     0.68226,     0.68056,     0.67918,     0.67745,     0.67567,     0.67342,     0.67156,     0.66989,\n",
      "            0.66819,     0.66581,     0.66364,     0.66175,     0.65924,     0.65737,     0.65521,     0.65334,     0.65071,     0.64816,     0.64569,     0.64354,      0.6415,     0.63884,     0.63658,     0.63404,     0.63198,     0.62913,     0.62655,     0.62348,     0.62024,     0.61747,     0.61391,\n",
      "            0.61111,     0.60808,     0.60523,     0.60142,      0.5979,      0.5941,     0.59022,     0.58588,      0.5827,     0.57912,     0.57524,     0.57119,     0.56776,     0.56392,     0.55959,     0.55627,     0.55253,     0.54935,     0.54613,     0.54153,     0.53718,     0.53272,     0.52931,\n",
      "            0.52546,      0.5207,     0.51641,     0.51233,     0.50786,      0.5048,     0.49995,     0.49539,     0.49098,     0.48565,     0.48056,     0.47542,     0.47124,     0.46614,     0.46251,     0.45761,     0.45358,     0.44905,     0.44438,     0.44013,      0.4355,     0.43057,     0.42573,\n",
      "            0.42063,     0.41587,     0.41172,     0.40681,     0.40296,     0.39948,     0.39452,     0.39019,     0.38583,     0.38034,     0.37588,     0.37198,     0.36761,     0.36469,     0.36044,     0.35621,     0.35088,     0.34657,     0.34189,     0.33766,      0.3329,     0.32813,     0.32366,\n",
      "            0.31955,     0.31451,     0.30992,     0.30512,     0.30178,     0.29679,     0.29227,     0.28762,     0.28276,     0.27857,     0.27444,     0.26898,     0.26289,     0.25702,      0.2524,     0.24805,     0.24254,     0.23871,     0.23403,     0.22888,     0.22417,     0.21879,     0.21459,\n",
      "            0.21019,     0.20593,     0.20071,     0.19607,     0.19239,      0.1885,     0.18494,     0.18098,     0.17482,     0.17037,       0.166,     0.16061,     0.15484,     0.14985,     0.14459,     0.13994,     0.13541,     0.13047,     0.12629,     0.12104,     0.11621,     0.11189,     0.10749,\n",
      "             0.1033,     0.10007,    0.097101,    0.093688,    0.090622,    0.086836,    0.084071,    0.080951,    0.077911,    0.074955,    0.071972,    0.069814,    0.067332,    0.064844,    0.063297,    0.061081,    0.059107,    0.057755,    0.055919,    0.054715,    0.052605,    0.050573,    0.049317,\n",
      "           0.048188,    0.046862,    0.045724,    0.044562,    0.043415,    0.041958,    0.040779,    0.039577,     0.03846,    0.037413,    0.036771,    0.035733,    0.034822,    0.034175,    0.033538,     0.03258,     0.03213,    0.031458,     0.03067,    0.029664,    0.028674,    0.027976,    0.027729,\n",
      "           0.027355,    0.026651,    0.025124,    0.024646,    0.024024,    0.023321,     0.02296,    0.022582,     0.02186,    0.021395,     0.02055,    0.019474,    0.018817,    0.018184,     0.01753,    0.017216,    0.016836,    0.016495,    0.015748,    0.015261,    0.014766,    0.014616,    0.013781,\n",
      "           0.013341,    0.013013,    0.012628,    0.012447,    0.012017,    0.011745,    0.011021,    0.010518,    0.010362,   0.0096823,    0.009177,   0.0086038,   0.0082198,   0.0079891,   0.0077443,   0.0074835,   0.0073539,   0.0072479,    0.007155,   0.0067123,   0.0062464,   0.0060359,   0.0058551,\n",
      "          0.0055436,   0.0052357,    0.004804,   0.0045245,   0.0042492,   0.0040464,   0.0039043,   0.0038207,   0.0035793,   0.0035238,   0.0034338,   0.0032369,   0.0028984,   0.0025691,   0.0021765,    0.002064,   0.0019395,   0.0017799,   0.0016811,   0.0016142,   0.0015128,    0.001417,   0.0013264,\n",
      "            0.00117,  0.00092215,  0.00086163,  0.00072849,  0.00066484,   0.0004594,  0.00039397,  0.00035868,   0.0003234,  0.00029924,  0.00027721,  0.00025519,  0.00023316,   0.0002071,           0,           0,           0,           0,           0,           0,           0,           0,           0,\n",
      "                  0,           0,           0,           0,           0,           0,           0,           0,           0,           0,           0,           0,           0,           0,           0,           0,           0,           0,           0,           0,           0,           0,           0,\n",
      "                  0,           0,           0,           0,           0,           0,           0,           0,           0,           0,           0]]), 'Confidence', 'F1'], [array([          0,    0.001001,    0.002002,    0.003003,    0.004004,    0.005005,    0.006006,    0.007007,    0.008008,    0.009009,     0.01001,    0.011011,    0.012012,    0.013013,    0.014014,    0.015015,    0.016016,    0.017017,    0.018018,    0.019019,     0.02002,    0.021021,    0.022022,    0.023023,\n",
      "          0.024024,    0.025025,    0.026026,    0.027027,    0.028028,    0.029029,     0.03003,    0.031031,    0.032032,    0.033033,    0.034034,    0.035035,    0.036036,    0.037037,    0.038038,    0.039039,     0.04004,    0.041041,    0.042042,    0.043043,    0.044044,    0.045045,    0.046046,    0.047047,\n",
      "          0.048048,    0.049049,     0.05005,    0.051051,    0.052052,    0.053053,    0.054054,    0.055055,    0.056056,    0.057057,    0.058058,    0.059059,     0.06006,    0.061061,    0.062062,    0.063063,    0.064064,    0.065065,    0.066066,    0.067067,    0.068068,    0.069069,     0.07007,    0.071071,\n",
      "          0.072072,    0.073073,    0.074074,    0.075075,    0.076076,    0.077077,    0.078078,    0.079079,     0.08008,    0.081081,    0.082082,    0.083083,    0.084084,    0.085085,    0.086086,    0.087087,    0.088088,    0.089089,     0.09009,    0.091091,    0.092092,    0.093093,    0.094094,    0.095095,\n",
      "          0.096096,    0.097097,    0.098098,    0.099099,      0.1001,      0.1011,      0.1021,      0.1031,      0.1041,     0.10511,     0.10611,     0.10711,     0.10811,     0.10911,     0.11011,     0.11111,     0.11211,     0.11311,     0.11411,     0.11512,     0.11612,     0.11712,     0.11812,     0.11912,\n",
      "           0.12012,     0.12112,     0.12212,     0.12312,     0.12412,     0.12513,     0.12613,     0.12713,     0.12813,     0.12913,     0.13013,     0.13113,     0.13213,     0.13313,     0.13413,     0.13514,     0.13614,     0.13714,     0.13814,     0.13914,     0.14014,     0.14114,     0.14214,     0.14314,\n",
      "           0.14414,     0.14515,     0.14615,     0.14715,     0.14815,     0.14915,     0.15015,     0.15115,     0.15215,     0.15315,     0.15415,     0.15516,     0.15616,     0.15716,     0.15816,     0.15916,     0.16016,     0.16116,     0.16216,     0.16316,     0.16416,     0.16517,     0.16617,     0.16717,\n",
      "           0.16817,     0.16917,     0.17017,     0.17117,     0.17217,     0.17317,     0.17417,     0.17518,     0.17618,     0.17718,     0.17818,     0.17918,     0.18018,     0.18118,     0.18218,     0.18318,     0.18418,     0.18519,     0.18619,     0.18719,     0.18819,     0.18919,     0.19019,     0.19119,\n",
      "           0.19219,     0.19319,     0.19419,      0.1952,      0.1962,      0.1972,      0.1982,      0.1992,      0.2002,      0.2012,      0.2022,      0.2032,      0.2042,     0.20521,     0.20621,     0.20721,     0.20821,     0.20921,     0.21021,     0.21121,     0.21221,     0.21321,     0.21421,     0.21522,\n",
      "           0.21622,     0.21722,     0.21822,     0.21922,     0.22022,     0.22122,     0.22222,     0.22322,     0.22422,     0.22523,     0.22623,     0.22723,     0.22823,     0.22923,     0.23023,     0.23123,     0.23223,     0.23323,     0.23423,     0.23524,     0.23624,     0.23724,     0.23824,     0.23924,\n",
      "           0.24024,     0.24124,     0.24224,     0.24324,     0.24424,     0.24525,     0.24625,     0.24725,     0.24825,     0.24925,     0.25025,     0.25125,     0.25225,     0.25325,     0.25425,     0.25526,     0.25626,     0.25726,     0.25826,     0.25926,     0.26026,     0.26126,     0.26226,     0.26326,\n",
      "           0.26426,     0.26527,     0.26627,     0.26727,     0.26827,     0.26927,     0.27027,     0.27127,     0.27227,     0.27327,     0.27427,     0.27528,     0.27628,     0.27728,     0.27828,     0.27928,     0.28028,     0.28128,     0.28228,     0.28328,     0.28428,     0.28529,     0.28629,     0.28729,\n",
      "           0.28829,     0.28929,     0.29029,     0.29129,     0.29229,     0.29329,     0.29429,      0.2953,      0.2963,      0.2973,      0.2983,      0.2993,      0.3003,      0.3013,      0.3023,      0.3033,      0.3043,     0.30531,     0.30631,     0.30731,     0.30831,     0.30931,     0.31031,     0.31131,\n",
      "           0.31231,     0.31331,     0.31431,     0.31532,     0.31632,     0.31732,     0.31832,     0.31932,     0.32032,     0.32132,     0.32232,     0.32332,     0.32432,     0.32533,     0.32633,     0.32733,     0.32833,     0.32933,     0.33033,     0.33133,     0.33233,     0.33333,     0.33433,     0.33534,\n",
      "           0.33634,     0.33734,     0.33834,     0.33934,     0.34034,     0.34134,     0.34234,     0.34334,     0.34434,     0.34535,     0.34635,     0.34735,     0.34835,     0.34935,     0.35035,     0.35135,     0.35235,     0.35335,     0.35435,     0.35536,     0.35636,     0.35736,     0.35836,     0.35936,\n",
      "           0.36036,     0.36136,     0.36236,     0.36336,     0.36436,     0.36537,     0.36637,     0.36737,     0.36837,     0.36937,     0.37037,     0.37137,     0.37237,     0.37337,     0.37437,     0.37538,     0.37638,     0.37738,     0.37838,     0.37938,     0.38038,     0.38138,     0.38238,     0.38338,\n",
      "           0.38438,     0.38539,     0.38639,     0.38739,     0.38839,     0.38939,     0.39039,     0.39139,     0.39239,     0.39339,     0.39439,      0.3954,      0.3964,      0.3974,      0.3984,      0.3994,      0.4004,      0.4014,      0.4024,      0.4034,      0.4044,     0.40541,     0.40641,     0.40741,\n",
      "           0.40841,     0.40941,     0.41041,     0.41141,     0.41241,     0.41341,     0.41441,     0.41542,     0.41642,     0.41742,     0.41842,     0.41942,     0.42042,     0.42142,     0.42242,     0.42342,     0.42442,     0.42543,     0.42643,     0.42743,     0.42843,     0.42943,     0.43043,     0.43143,\n",
      "           0.43243,     0.43343,     0.43443,     0.43544,     0.43644,     0.43744,     0.43844,     0.43944,     0.44044,     0.44144,     0.44244,     0.44344,     0.44444,     0.44545,     0.44645,     0.44745,     0.44845,     0.44945,     0.45045,     0.45145,     0.45245,     0.45345,     0.45445,     0.45546,\n",
      "           0.45646,     0.45746,     0.45846,     0.45946,     0.46046,     0.46146,     0.46246,     0.46346,     0.46446,     0.46547,     0.46647,     0.46747,     0.46847,     0.46947,     0.47047,     0.47147,     0.47247,     0.47347,     0.47447,     0.47548,     0.47648,     0.47748,     0.47848,     0.47948,\n",
      "           0.48048,     0.48148,     0.48248,     0.48348,     0.48448,     0.48549,     0.48649,     0.48749,     0.48849,     0.48949,     0.49049,     0.49149,     0.49249,     0.49349,     0.49449,      0.4955,      0.4965,      0.4975,      0.4985,      0.4995,      0.5005,      0.5015,      0.5025,      0.5035,\n",
      "            0.5045,     0.50551,     0.50651,     0.50751,     0.50851,     0.50951,     0.51051,     0.51151,     0.51251,     0.51351,     0.51451,     0.51552,     0.51652,     0.51752,     0.51852,     0.51952,     0.52052,     0.52152,     0.52252,     0.52352,     0.52452,     0.52553,     0.52653,     0.52753,\n",
      "           0.52853,     0.52953,     0.53053,     0.53153,     0.53253,     0.53353,     0.53453,     0.53554,     0.53654,     0.53754,     0.53854,     0.53954,     0.54054,     0.54154,     0.54254,     0.54354,     0.54454,     0.54555,     0.54655,     0.54755,     0.54855,     0.54955,     0.55055,     0.55155,\n",
      "           0.55255,     0.55355,     0.55455,     0.55556,     0.55656,     0.55756,     0.55856,     0.55956,     0.56056,     0.56156,     0.56256,     0.56356,     0.56456,     0.56557,     0.56657,     0.56757,     0.56857,     0.56957,     0.57057,     0.57157,     0.57257,     0.57357,     0.57457,     0.57558,\n",
      "           0.57658,     0.57758,     0.57858,     0.57958,     0.58058,     0.58158,     0.58258,     0.58358,     0.58458,     0.58559,     0.58659,     0.58759,     0.58859,     0.58959,     0.59059,     0.59159,     0.59259,     0.59359,     0.59459,      0.5956,      0.5966,      0.5976,      0.5986,      0.5996,\n",
      "            0.6006,      0.6016,      0.6026,      0.6036,      0.6046,     0.60561,     0.60661,     0.60761,     0.60861,     0.60961,     0.61061,     0.61161,     0.61261,     0.61361,     0.61461,     0.61562,     0.61662,     0.61762,     0.61862,     0.61962,     0.62062,     0.62162,     0.62262,     0.62362,\n",
      "           0.62462,     0.62563,     0.62663,     0.62763,     0.62863,     0.62963,     0.63063,     0.63163,     0.63263,     0.63363,     0.63463,     0.63564,     0.63664,     0.63764,     0.63864,     0.63964,     0.64064,     0.64164,     0.64264,     0.64364,     0.64464,     0.64565,     0.64665,     0.64765,\n",
      "           0.64865,     0.64965,     0.65065,     0.65165,     0.65265,     0.65365,     0.65465,     0.65566,     0.65666,     0.65766,     0.65866,     0.65966,     0.66066,     0.66166,     0.66266,     0.66366,     0.66466,     0.66567,     0.66667,     0.66767,     0.66867,     0.66967,     0.67067,     0.67167,\n",
      "           0.67267,     0.67367,     0.67467,     0.67568,     0.67668,     0.67768,     0.67868,     0.67968,     0.68068,     0.68168,     0.68268,     0.68368,     0.68468,     0.68569,     0.68669,     0.68769,     0.68869,     0.68969,     0.69069,     0.69169,     0.69269,     0.69369,     0.69469,      0.6957,\n",
      "            0.6967,      0.6977,      0.6987,      0.6997,      0.7007,      0.7017,      0.7027,      0.7037,      0.7047,     0.70571,     0.70671,     0.70771,     0.70871,     0.70971,     0.71071,     0.71171,     0.71271,     0.71371,     0.71471,     0.71572,     0.71672,     0.71772,     0.71872,     0.71972,\n",
      "           0.72072,     0.72172,     0.72272,     0.72372,     0.72472,     0.72573,     0.72673,     0.72773,     0.72873,     0.72973,     0.73073,     0.73173,     0.73273,     0.73373,     0.73473,     0.73574,     0.73674,     0.73774,     0.73874,     0.73974,     0.74074,     0.74174,     0.74274,     0.74374,\n",
      "           0.74474,     0.74575,     0.74675,     0.74775,     0.74875,     0.74975,     0.75075,     0.75175,     0.75275,     0.75375,     0.75475,     0.75576,     0.75676,     0.75776,     0.75876,     0.75976,     0.76076,     0.76176,     0.76276,     0.76376,     0.76476,     0.76577,     0.76677,     0.76777,\n",
      "           0.76877,     0.76977,     0.77077,     0.77177,     0.77277,     0.77377,     0.77477,     0.77578,     0.77678,     0.77778,     0.77878,     0.77978,     0.78078,     0.78178,     0.78278,     0.78378,     0.78478,     0.78579,     0.78679,     0.78779,     0.78879,     0.78979,     0.79079,     0.79179,\n",
      "           0.79279,     0.79379,     0.79479,      0.7958,      0.7968,      0.7978,      0.7988,      0.7998,      0.8008,      0.8018,      0.8028,      0.8038,      0.8048,     0.80581,     0.80681,     0.80781,     0.80881,     0.80981,     0.81081,     0.81181,     0.81281,     0.81381,     0.81481,     0.81582,\n",
      "           0.81682,     0.81782,     0.81882,     0.81982,     0.82082,     0.82182,     0.82282,     0.82382,     0.82482,     0.82583,     0.82683,     0.82783,     0.82883,     0.82983,     0.83083,     0.83183,     0.83283,     0.83383,     0.83483,     0.83584,     0.83684,     0.83784,     0.83884,     0.83984,\n",
      "           0.84084,     0.84184,     0.84284,     0.84384,     0.84484,     0.84585,     0.84685,     0.84785,     0.84885,     0.84985,     0.85085,     0.85185,     0.85285,     0.85385,     0.85485,     0.85586,     0.85686,     0.85786,     0.85886,     0.85986,     0.86086,     0.86186,     0.86286,     0.86386,\n",
      "           0.86486,     0.86587,     0.86687,     0.86787,     0.86887,     0.86987,     0.87087,     0.87187,     0.87287,     0.87387,     0.87487,     0.87588,     0.87688,     0.87788,     0.87888,     0.87988,     0.88088,     0.88188,     0.88288,     0.88388,     0.88488,     0.88589,     0.88689,     0.88789,\n",
      "           0.88889,     0.88989,     0.89089,     0.89189,     0.89289,     0.89389,     0.89489,      0.8959,      0.8969,      0.8979,      0.8989,      0.8999,      0.9009,      0.9019,      0.9029,      0.9039,      0.9049,     0.90591,     0.90691,     0.90791,     0.90891,     0.90991,     0.91091,     0.91191,\n",
      "           0.91291,     0.91391,     0.91491,     0.91592,     0.91692,     0.91792,     0.91892,     0.91992,     0.92092,     0.92192,     0.92292,     0.92392,     0.92492,     0.92593,     0.92693,     0.92793,     0.92893,     0.92993,     0.93093,     0.93193,     0.93293,     0.93393,     0.93493,     0.93594,\n",
      "           0.93694,     0.93794,     0.93894,     0.93994,     0.94094,     0.94194,     0.94294,     0.94394,     0.94494,     0.94595,     0.94695,     0.94795,     0.94895,     0.94995,     0.95095,     0.95195,     0.95295,     0.95395,     0.95495,     0.95596,     0.95696,     0.95796,     0.95896,     0.95996,\n",
      "           0.96096,     0.96196,     0.96296,     0.96396,     0.96496,     0.96597,     0.96697,     0.96797,     0.96897,     0.96997,     0.97097,     0.97197,     0.97297,     0.97397,     0.97497,     0.97598,     0.97698,     0.97798,     0.97898,     0.97998,     0.98098,     0.98198,     0.98298,     0.98398,\n",
      "           0.98498,     0.98599,     0.98699,     0.98799,     0.98899,     0.98999,     0.99099,     0.99199,     0.99299,     0.99399,     0.99499,       0.996,       0.997,       0.998,       0.999,           1]), array([[    0.15818,     0.15823,     0.18861,     0.20803,     0.22209,     0.23402,      0.2439,     0.25251,     0.25998,      0.2667,     0.27266,     0.27833,     0.28442,     0.29201,     0.29976,     0.30836,     0.31692,     0.32501,     0.33274,     0.34011,     0.34656,     0.35264,     0.35865,\n",
      "            0.36422,     0.36933,     0.37482,     0.37951,      0.3839,     0.38834,     0.39222,     0.39636,     0.40041,     0.40412,     0.40757,     0.41089,     0.41432,     0.41784,     0.42078,     0.42394,     0.42693,     0.43027,     0.43321,     0.43614,     0.43888,     0.44179,     0.44463,\n",
      "             0.4474,     0.45029,     0.45308,     0.45599,     0.45868,     0.46106,     0.46358,     0.46633,     0.46905,     0.47131,     0.47368,     0.47574,     0.47817,     0.48075,     0.48315,     0.48546,     0.48784,     0.49035,     0.49258,     0.49489,     0.49703,      0.4991,     0.50163,\n",
      "            0.50383,     0.50599,     0.50832,     0.51021,      0.5122,     0.51443,     0.51648,     0.51846,     0.52033,      0.5226,     0.52458,     0.52641,      0.5284,     0.53053,     0.53221,     0.53383,     0.53578,     0.53775,     0.53977,     0.54163,     0.54323,     0.54478,      0.5468,\n",
      "            0.54826,     0.54967,     0.55175,     0.55362,     0.55538,     0.55698,     0.55847,      0.5603,     0.56184,     0.56359,     0.56536,     0.56699,     0.56894,     0.57016,     0.57177,     0.57354,     0.57518,     0.57662,     0.57804,      0.5794,      0.5809,     0.58248,     0.58395,\n",
      "            0.58551,     0.58669,     0.58863,     0.59022,     0.59134,     0.59281,      0.5944,     0.59572,     0.59707,      0.5986,     0.59998,     0.60166,     0.60329,     0.60431,     0.60572,     0.60723,     0.60843,     0.60966,     0.61091,     0.61213,     0.61353,     0.61502,     0.61639,\n",
      "            0.61787,     0.61943,     0.62078,     0.62236,     0.62363,     0.62501,     0.62655,     0.62815,     0.62947,     0.63087,     0.63226,      0.6334,     0.63444,      0.6359,     0.63683,     0.63857,     0.63957,     0.64083,     0.64231,     0.64379,     0.64465,     0.64574,     0.64713,\n",
      "            0.64804,     0.64938,     0.65051,     0.65178,     0.65298,     0.65379,     0.65472,     0.65575,     0.65662,     0.65789,     0.65917,     0.66034,     0.66176,     0.66286,     0.66404,     0.66524,     0.66645,     0.66772,     0.66877,     0.67001,     0.67097,     0.67207,     0.67347,\n",
      "            0.67459,     0.67598,     0.67723,      0.6782,     0.67962,     0.68085,     0.68179,     0.68293,     0.68379,     0.68465,     0.68548,     0.68658,     0.68782,     0.68884,      0.6899,     0.69087,     0.69215,     0.69303,     0.69409,     0.69537,     0.69639,     0.69736,     0.69837,\n",
      "            0.69933,     0.70005,     0.70119,     0.70191,      0.7029,     0.70378,     0.70441,     0.70538,     0.70631,      0.7075,     0.70856,      0.7095,     0.71057,     0.71148,     0.71235,     0.71311,     0.71404,     0.71529,     0.71654,     0.71746,     0.71855,     0.71962,     0.72051,\n",
      "            0.72146,     0.72255,     0.72337,      0.7243,     0.72543,      0.7265,     0.72727,     0.72815,     0.72901,     0.72972,     0.73067,      0.7316,     0.73237,     0.73333,      0.7342,     0.73523,     0.73598,     0.73685,     0.73809,     0.73903,     0.74013,     0.74081,     0.74164,\n",
      "             0.7428,     0.74362,     0.74517,     0.74606,     0.74684,     0.74764,     0.74867,     0.74967,     0.75077,     0.75165,     0.75242,     0.75324,     0.75403,     0.75532,     0.75612,     0.75677,     0.75746,     0.75841,      0.7593,     0.76026,     0.76108,     0.76222,     0.76312,\n",
      "            0.76402,     0.76483,     0.76553,     0.76657,     0.76747,     0.76868,     0.76934,     0.77035,     0.77103,     0.77205,     0.77301,     0.77358,     0.77443,     0.77514,     0.77595,     0.77676,     0.77772,     0.77864,     0.77947,      0.7803,     0.78146,     0.78217,     0.78331,\n",
      "            0.78424,     0.78526,     0.78614,     0.78655,      0.7875,     0.78817,     0.78929,     0.79029,     0.79133,     0.79188,     0.79291,     0.79342,     0.79379,     0.79471,     0.79535,     0.79609,     0.79697,     0.79747,     0.79823,     0.79929,     0.80004,     0.80052,     0.80136,\n",
      "            0.80178,     0.80234,     0.80297,     0.80405,     0.80471,       0.805,     0.80591,     0.80667,     0.80723,     0.80805,     0.80917,     0.81017,      0.8108,     0.81153,     0.81263,     0.81346,     0.81445,     0.81534,      0.8161,     0.81711,     0.81806,     0.81885,     0.81957,\n",
      "            0.82016,     0.82121,     0.82179,     0.82247,     0.82321,     0.82405,      0.8251,     0.82578,     0.82644,     0.82705,     0.82787,     0.82888,     0.83007,     0.83073,      0.8312,     0.83181,     0.83227,     0.83293,     0.83372,     0.83454,     0.83513,      0.8358,     0.83668,\n",
      "            0.83708,     0.83765,     0.83865,     0.83933,     0.83996,     0.84081,     0.84127,     0.84202,     0.84295,     0.84363,     0.84403,     0.84483,     0.84554,     0.84638,      0.8468,     0.84766,     0.84795,     0.84832,     0.84901,     0.84956,     0.85022,     0.85119,     0.85189,\n",
      "            0.85258,     0.85301,     0.85362,     0.85475,     0.85575,     0.85609,     0.85653,     0.85725,     0.85795,     0.85836,     0.85926,     0.85993,      0.8605,       0.861,      0.8614,     0.86226,     0.86287,     0.86309,      0.8638,     0.86465,     0.86508,     0.86553,     0.86609,\n",
      "            0.86641,     0.86704,     0.86789,     0.86878,     0.86949,     0.87001,     0.87075,      0.8713,     0.87184,     0.87235,     0.87285,     0.87352,     0.87442,     0.87542,     0.87595,     0.87668,     0.87758,     0.87848,     0.87926,     0.87997,     0.88058,     0.88121,     0.88178,\n",
      "            0.88248,     0.88259,     0.88291,     0.88383,     0.88451,     0.88525,     0.88589,      0.8863,     0.88716,     0.88792,     0.88866,     0.88914,     0.88991,     0.89019,     0.89076,     0.89124,     0.89178,     0.89234,     0.89278,     0.89287,     0.89342,     0.89401,     0.89424,\n",
      "            0.89434,     0.89456,     0.89498,     0.89544,     0.89612,      0.8967,     0.89733,     0.89775,     0.89822,     0.89894,     0.89975,     0.90033,     0.90087,     0.90136,     0.90183,     0.90225,     0.90286,     0.90383,      0.9041,     0.90463,     0.90527,     0.90575,     0.90592,\n",
      "            0.90636,     0.90688,     0.90729,     0.90813,     0.90862,     0.90909,     0.90938,     0.90965,     0.91038,     0.91084,     0.91136,     0.91163,     0.91197,      0.9124,     0.91284,     0.91332,     0.91391,     0.91448,     0.91492,     0.91547,     0.91605,     0.91632,     0.91698,\n",
      "            0.91752,     0.91779,     0.91824,      0.9183,     0.91868,     0.91915,     0.91957,     0.92014,      0.9209,     0.92198,     0.92234,     0.92294,     0.92341,     0.92374,      0.9243,     0.92491,     0.92516,      0.9258,     0.92674,     0.92716,     0.92772,     0.92847,     0.92886,\n",
      "            0.92981,     0.93023,     0.93057,     0.93097,     0.93141,     0.93187,     0.93212,     0.93252,     0.93315,     0.93356,     0.93415,     0.93482,     0.93533,     0.93562,     0.93623,     0.93642,     0.93662,     0.93699,     0.93729,     0.93757,     0.93828,     0.93859,     0.93903,\n",
      "            0.93943,     0.93951,     0.94012,     0.94067,     0.94124,     0.94161,      0.9421,     0.94248,     0.94291,     0.94358,     0.94401,      0.9442,     0.94471,     0.94483,     0.94535,     0.94603,     0.94625,     0.94668,     0.94697,     0.94754,     0.94792,     0.94833,     0.94879,\n",
      "            0.94894,     0.94924,     0.94959,     0.94983,     0.95013,     0.95116,     0.95159,      0.9519,     0.95204,     0.95225,     0.95284,      0.9535,     0.95374,     0.95407,     0.95453,     0.95482,     0.95527,     0.95556,     0.95578,     0.95617,     0.95622,     0.95661,     0.95699,\n",
      "            0.95714,     0.95746,     0.95786,     0.95848,     0.95865,      0.9593,     0.95952,     0.95977,     0.96001,     0.96038,     0.96126,     0.96176,     0.96186,     0.96234,     0.96275,     0.96318,     0.96368,       0.964,      0.9641,     0.96426,     0.96453,     0.96495,     0.96497,\n",
      "            0.96522,     0.96542,      0.9657,     0.96574,     0.96628,     0.96665,      0.9671,     0.96779,      0.9681,     0.96834,     0.96887,     0.96913,     0.96948,     0.97008,     0.97026,     0.97062,      0.9708,     0.97105,     0.97141,     0.97159,     0.97184,     0.97231,     0.97256,\n",
      "            0.97266,     0.97295,     0.97331,     0.97377,     0.97425,     0.97479,     0.97523,     0.97561,      0.9759,      0.9762,     0.97651,     0.97707,     0.97747,     0.97771,     0.97763,     0.97782,      0.9784,     0.97843,     0.97884,     0.97898,     0.97944,     0.97951,     0.97964,\n",
      "            0.97988,     0.98009,      0.9803,     0.98061,     0.98111,     0.98132,     0.98165,     0.98205,     0.98219,     0.98245,     0.98286,     0.98329,     0.98342,     0.98356,     0.98369,     0.98413,     0.98446,      0.9849,     0.98514,     0.98538,     0.98581,     0.98615,      0.9865,\n",
      "            0.98676,     0.98699,     0.98724,     0.98734,     0.98753,     0.98768,     0.98773,      0.9882,     0.98824,     0.98838,     0.98853,      0.9888,     0.98875,     0.98868,     0.98895,     0.98944,     0.98972,     0.98977,     0.98993,     0.98998,     0.99013,     0.99041,     0.99045,\n",
      "             0.9905,     0.99043,     0.99073,     0.99088,     0.99093,     0.99097,     0.99113,     0.99129,     0.99185,     0.99191,     0.99222,     0.99227,     0.99233,     0.99239,     0.99231,     0.99238,     0.99258,     0.99253,      0.9926,      0.9928,       0.993,     0.99292,     0.99315,\n",
      "            0.99323,     0.99314,     0.99322,     0.99345,     0.99352,     0.99347,     0.99338,      0.9933,     0.99338,     0.99345,     0.99336,     0.99343,      0.9937,     0.99378,     0.99371,     0.99363,     0.99391,     0.99383,     0.99375,     0.99422,     0.99433,     0.99444,     0.99475,\n",
      "            0.99467,     0.99459,     0.99513,     0.99546,     0.99582,     0.99578,     0.99571,     0.99587,     0.99581,     0.99574,      0.9959,     0.99608,     0.99602,     0.99598,     0.99616,     0.99611,     0.99628,     0.99623,     0.99616,     0.99611,      0.9963,     0.99624,     0.99618,\n",
      "            0.99612,     0.99661,     0.99712,     0.99707,     0.99703,     0.99697,     0.99692,     0.99717,     0.99711,     0.99706,     0.99701,     0.99694,     0.99686,     0.99714,     0.99708,     0.99702,     0.99694,     0.99688,     0.99681,     0.99673,     0.99666,     0.99656,     0.99649,\n",
      "            0.99641,     0.99632,     0.99622,      0.9966,     0.99653,     0.99645,     0.99638,     0.99629,     0.99615,      0.9966,      0.9965,     0.99698,     0.99686,     0.99674,     0.99661,     0.99649,     0.99637,     0.99622,     0.99609,     0.99591,     0.99573,     0.99555,     0.99536,\n",
      "            0.99516,     0.99599,     0.99587,     0.99571,     0.99556,     0.99536,      0.9952,       0.995,      0.9948,     0.99459,     0.99436,     0.99418,     0.99396,     0.99372,     0.99356,     0.99332,     0.99309,     0.99293,     0.99269,     0.99253,     0.99222,      0.9919,     0.99169,\n",
      "            0.99149,     0.99125,     0.99103,     0.99079,     0.99054,     0.99021,     0.98993,     0.98962,     0.98931,     0.98954,     0.99159,     0.99134,     0.99111,     0.99094,     0.99383,     0.99364,     0.99355,     0.99342,     0.99325,     0.99301,     0.99277,     0.99259,     0.99252,\n",
      "            0.99242,     0.99222,     0.99174,     0.99577,     0.99566,     0.99553,     0.99546,     0.99538,     0.99523,     0.99513,     0.99492,     0.99464,     0.99445,     0.99426,     0.99405,     0.99394,      0.9938,     0.99367,     0.99337,     0.99316,     0.99293,     0.99912,           1,\n",
      "                  1,           1,           1,           1,           1,           1,           1,           1,           1,           1,           1,           1,           1,           1,           1,           1,           1,           1,           1,           1,           1,           1,           1,\n",
      "                  1,           1,           1,           1,           1,           1,           1,           1,           1,           1,           1,           1,           1,           1,           1,           1,           1,           1,           1,           1,           1,           1,           1,\n",
      "                  1,           1,           1,           1,           1,           1,           1,           1,           1,           1,           1,           1,           1,           1,           1,           1,           1,           1,           1,           1,           1,           1,           1,\n",
      "                  1,           1,           1,           1,           1,           1,           1,           1,           1,           1,           1,           1,           1,           1,           1,           1,           1,           1,           1,           1,           1,           1,           1,\n",
      "                  1,           1,           1,           1,           1,           1,           1,           1,           1,           1,           1]]), 'Confidence', 'Precision'], [array([          0,    0.001001,    0.002002,    0.003003,    0.004004,    0.005005,    0.006006,    0.007007,    0.008008,    0.009009,     0.01001,    0.011011,    0.012012,    0.013013,    0.014014,    0.015015,    0.016016,    0.017017,    0.018018,    0.019019,     0.02002,    0.021021,    0.022022,    0.023023,\n",
      "          0.024024,    0.025025,    0.026026,    0.027027,    0.028028,    0.029029,     0.03003,    0.031031,    0.032032,    0.033033,    0.034034,    0.035035,    0.036036,    0.037037,    0.038038,    0.039039,     0.04004,    0.041041,    0.042042,    0.043043,    0.044044,    0.045045,    0.046046,    0.047047,\n",
      "          0.048048,    0.049049,     0.05005,    0.051051,    0.052052,    0.053053,    0.054054,    0.055055,    0.056056,    0.057057,    0.058058,    0.059059,     0.06006,    0.061061,    0.062062,    0.063063,    0.064064,    0.065065,    0.066066,    0.067067,    0.068068,    0.069069,     0.07007,    0.071071,\n",
      "          0.072072,    0.073073,    0.074074,    0.075075,    0.076076,    0.077077,    0.078078,    0.079079,     0.08008,    0.081081,    0.082082,    0.083083,    0.084084,    0.085085,    0.086086,    0.087087,    0.088088,    0.089089,     0.09009,    0.091091,    0.092092,    0.093093,    0.094094,    0.095095,\n",
      "          0.096096,    0.097097,    0.098098,    0.099099,      0.1001,      0.1011,      0.1021,      0.1031,      0.1041,     0.10511,     0.10611,     0.10711,     0.10811,     0.10911,     0.11011,     0.11111,     0.11211,     0.11311,     0.11411,     0.11512,     0.11612,     0.11712,     0.11812,     0.11912,\n",
      "           0.12012,     0.12112,     0.12212,     0.12312,     0.12412,     0.12513,     0.12613,     0.12713,     0.12813,     0.12913,     0.13013,     0.13113,     0.13213,     0.13313,     0.13413,     0.13514,     0.13614,     0.13714,     0.13814,     0.13914,     0.14014,     0.14114,     0.14214,     0.14314,\n",
      "           0.14414,     0.14515,     0.14615,     0.14715,     0.14815,     0.14915,     0.15015,     0.15115,     0.15215,     0.15315,     0.15415,     0.15516,     0.15616,     0.15716,     0.15816,     0.15916,     0.16016,     0.16116,     0.16216,     0.16316,     0.16416,     0.16517,     0.16617,     0.16717,\n",
      "           0.16817,     0.16917,     0.17017,     0.17117,     0.17217,     0.17317,     0.17417,     0.17518,     0.17618,     0.17718,     0.17818,     0.17918,     0.18018,     0.18118,     0.18218,     0.18318,     0.18418,     0.18519,     0.18619,     0.18719,     0.18819,     0.18919,     0.19019,     0.19119,\n",
      "           0.19219,     0.19319,     0.19419,      0.1952,      0.1962,      0.1972,      0.1982,      0.1992,      0.2002,      0.2012,      0.2022,      0.2032,      0.2042,     0.20521,     0.20621,     0.20721,     0.20821,     0.20921,     0.21021,     0.21121,     0.21221,     0.21321,     0.21421,     0.21522,\n",
      "           0.21622,     0.21722,     0.21822,     0.21922,     0.22022,     0.22122,     0.22222,     0.22322,     0.22422,     0.22523,     0.22623,     0.22723,     0.22823,     0.22923,     0.23023,     0.23123,     0.23223,     0.23323,     0.23423,     0.23524,     0.23624,     0.23724,     0.23824,     0.23924,\n",
      "           0.24024,     0.24124,     0.24224,     0.24324,     0.24424,     0.24525,     0.24625,     0.24725,     0.24825,     0.24925,     0.25025,     0.25125,     0.25225,     0.25325,     0.25425,     0.25526,     0.25626,     0.25726,     0.25826,     0.25926,     0.26026,     0.26126,     0.26226,     0.26326,\n",
      "           0.26426,     0.26527,     0.26627,     0.26727,     0.26827,     0.26927,     0.27027,     0.27127,     0.27227,     0.27327,     0.27427,     0.27528,     0.27628,     0.27728,     0.27828,     0.27928,     0.28028,     0.28128,     0.28228,     0.28328,     0.28428,     0.28529,     0.28629,     0.28729,\n",
      "           0.28829,     0.28929,     0.29029,     0.29129,     0.29229,     0.29329,     0.29429,      0.2953,      0.2963,      0.2973,      0.2983,      0.2993,      0.3003,      0.3013,      0.3023,      0.3033,      0.3043,     0.30531,     0.30631,     0.30731,     0.30831,     0.30931,     0.31031,     0.31131,\n",
      "           0.31231,     0.31331,     0.31431,     0.31532,     0.31632,     0.31732,     0.31832,     0.31932,     0.32032,     0.32132,     0.32232,     0.32332,     0.32432,     0.32533,     0.32633,     0.32733,     0.32833,     0.32933,     0.33033,     0.33133,     0.33233,     0.33333,     0.33433,     0.33534,\n",
      "           0.33634,     0.33734,     0.33834,     0.33934,     0.34034,     0.34134,     0.34234,     0.34334,     0.34434,     0.34535,     0.34635,     0.34735,     0.34835,     0.34935,     0.35035,     0.35135,     0.35235,     0.35335,     0.35435,     0.35536,     0.35636,     0.35736,     0.35836,     0.35936,\n",
      "           0.36036,     0.36136,     0.36236,     0.36336,     0.36436,     0.36537,     0.36637,     0.36737,     0.36837,     0.36937,     0.37037,     0.37137,     0.37237,     0.37337,     0.37437,     0.37538,     0.37638,     0.37738,     0.37838,     0.37938,     0.38038,     0.38138,     0.38238,     0.38338,\n",
      "           0.38438,     0.38539,     0.38639,     0.38739,     0.38839,     0.38939,     0.39039,     0.39139,     0.39239,     0.39339,     0.39439,      0.3954,      0.3964,      0.3974,      0.3984,      0.3994,      0.4004,      0.4014,      0.4024,      0.4034,      0.4044,     0.40541,     0.40641,     0.40741,\n",
      "           0.40841,     0.40941,     0.41041,     0.41141,     0.41241,     0.41341,     0.41441,     0.41542,     0.41642,     0.41742,     0.41842,     0.41942,     0.42042,     0.42142,     0.42242,     0.42342,     0.42442,     0.42543,     0.42643,     0.42743,     0.42843,     0.42943,     0.43043,     0.43143,\n",
      "           0.43243,     0.43343,     0.43443,     0.43544,     0.43644,     0.43744,     0.43844,     0.43944,     0.44044,     0.44144,     0.44244,     0.44344,     0.44444,     0.44545,     0.44645,     0.44745,     0.44845,     0.44945,     0.45045,     0.45145,     0.45245,     0.45345,     0.45445,     0.45546,\n",
      "           0.45646,     0.45746,     0.45846,     0.45946,     0.46046,     0.46146,     0.46246,     0.46346,     0.46446,     0.46547,     0.46647,     0.46747,     0.46847,     0.46947,     0.47047,     0.47147,     0.47247,     0.47347,     0.47447,     0.47548,     0.47648,     0.47748,     0.47848,     0.47948,\n",
      "           0.48048,     0.48148,     0.48248,     0.48348,     0.48448,     0.48549,     0.48649,     0.48749,     0.48849,     0.48949,     0.49049,     0.49149,     0.49249,     0.49349,     0.49449,      0.4955,      0.4965,      0.4975,      0.4985,      0.4995,      0.5005,      0.5015,      0.5025,      0.5035,\n",
      "            0.5045,     0.50551,     0.50651,     0.50751,     0.50851,     0.50951,     0.51051,     0.51151,     0.51251,     0.51351,     0.51451,     0.51552,     0.51652,     0.51752,     0.51852,     0.51952,     0.52052,     0.52152,     0.52252,     0.52352,     0.52452,     0.52553,     0.52653,     0.52753,\n",
      "           0.52853,     0.52953,     0.53053,     0.53153,     0.53253,     0.53353,     0.53453,     0.53554,     0.53654,     0.53754,     0.53854,     0.53954,     0.54054,     0.54154,     0.54254,     0.54354,     0.54454,     0.54555,     0.54655,     0.54755,     0.54855,     0.54955,     0.55055,     0.55155,\n",
      "           0.55255,     0.55355,     0.55455,     0.55556,     0.55656,     0.55756,     0.55856,     0.55956,     0.56056,     0.56156,     0.56256,     0.56356,     0.56456,     0.56557,     0.56657,     0.56757,     0.56857,     0.56957,     0.57057,     0.57157,     0.57257,     0.57357,     0.57457,     0.57558,\n",
      "           0.57658,     0.57758,     0.57858,     0.57958,     0.58058,     0.58158,     0.58258,     0.58358,     0.58458,     0.58559,     0.58659,     0.58759,     0.58859,     0.58959,     0.59059,     0.59159,     0.59259,     0.59359,     0.59459,      0.5956,      0.5966,      0.5976,      0.5986,      0.5996,\n",
      "            0.6006,      0.6016,      0.6026,      0.6036,      0.6046,     0.60561,     0.60661,     0.60761,     0.60861,     0.60961,     0.61061,     0.61161,     0.61261,     0.61361,     0.61461,     0.61562,     0.61662,     0.61762,     0.61862,     0.61962,     0.62062,     0.62162,     0.62262,     0.62362,\n",
      "           0.62462,     0.62563,     0.62663,     0.62763,     0.62863,     0.62963,     0.63063,     0.63163,     0.63263,     0.63363,     0.63463,     0.63564,     0.63664,     0.63764,     0.63864,     0.63964,     0.64064,     0.64164,     0.64264,     0.64364,     0.64464,     0.64565,     0.64665,     0.64765,\n",
      "           0.64865,     0.64965,     0.65065,     0.65165,     0.65265,     0.65365,     0.65465,     0.65566,     0.65666,     0.65766,     0.65866,     0.65966,     0.66066,     0.66166,     0.66266,     0.66366,     0.66466,     0.66567,     0.66667,     0.66767,     0.66867,     0.66967,     0.67067,     0.67167,\n",
      "           0.67267,     0.67367,     0.67467,     0.67568,     0.67668,     0.67768,     0.67868,     0.67968,     0.68068,     0.68168,     0.68268,     0.68368,     0.68468,     0.68569,     0.68669,     0.68769,     0.68869,     0.68969,     0.69069,     0.69169,     0.69269,     0.69369,     0.69469,      0.6957,\n",
      "            0.6967,      0.6977,      0.6987,      0.6997,      0.7007,      0.7017,      0.7027,      0.7037,      0.7047,     0.70571,     0.70671,     0.70771,     0.70871,     0.70971,     0.71071,     0.71171,     0.71271,     0.71371,     0.71471,     0.71572,     0.71672,     0.71772,     0.71872,     0.71972,\n",
      "           0.72072,     0.72172,     0.72272,     0.72372,     0.72472,     0.72573,     0.72673,     0.72773,     0.72873,     0.72973,     0.73073,     0.73173,     0.73273,     0.73373,     0.73473,     0.73574,     0.73674,     0.73774,     0.73874,     0.73974,     0.74074,     0.74174,     0.74274,     0.74374,\n",
      "           0.74474,     0.74575,     0.74675,     0.74775,     0.74875,     0.74975,     0.75075,     0.75175,     0.75275,     0.75375,     0.75475,     0.75576,     0.75676,     0.75776,     0.75876,     0.75976,     0.76076,     0.76176,     0.76276,     0.76376,     0.76476,     0.76577,     0.76677,     0.76777,\n",
      "           0.76877,     0.76977,     0.77077,     0.77177,     0.77277,     0.77377,     0.77477,     0.77578,     0.77678,     0.77778,     0.77878,     0.77978,     0.78078,     0.78178,     0.78278,     0.78378,     0.78478,     0.78579,     0.78679,     0.78779,     0.78879,     0.78979,     0.79079,     0.79179,\n",
      "           0.79279,     0.79379,     0.79479,      0.7958,      0.7968,      0.7978,      0.7988,      0.7998,      0.8008,      0.8018,      0.8028,      0.8038,      0.8048,     0.80581,     0.80681,     0.80781,     0.80881,     0.80981,     0.81081,     0.81181,     0.81281,     0.81381,     0.81481,     0.81582,\n",
      "           0.81682,     0.81782,     0.81882,     0.81982,     0.82082,     0.82182,     0.82282,     0.82382,     0.82482,     0.82583,     0.82683,     0.82783,     0.82883,     0.82983,     0.83083,     0.83183,     0.83283,     0.83383,     0.83483,     0.83584,     0.83684,     0.83784,     0.83884,     0.83984,\n",
      "           0.84084,     0.84184,     0.84284,     0.84384,     0.84484,     0.84585,     0.84685,     0.84785,     0.84885,     0.84985,     0.85085,     0.85185,     0.85285,     0.85385,     0.85485,     0.85586,     0.85686,     0.85786,     0.85886,     0.85986,     0.86086,     0.86186,     0.86286,     0.86386,\n",
      "           0.86486,     0.86587,     0.86687,     0.86787,     0.86887,     0.86987,     0.87087,     0.87187,     0.87287,     0.87387,     0.87487,     0.87588,     0.87688,     0.87788,     0.87888,     0.87988,     0.88088,     0.88188,     0.88288,     0.88388,     0.88488,     0.88589,     0.88689,     0.88789,\n",
      "           0.88889,     0.88989,     0.89089,     0.89189,     0.89289,     0.89389,     0.89489,      0.8959,      0.8969,      0.8979,      0.8989,      0.8999,      0.9009,      0.9019,      0.9029,      0.9039,      0.9049,     0.90591,     0.90691,     0.90791,     0.90891,     0.90991,     0.91091,     0.91191,\n",
      "           0.91291,     0.91391,     0.91491,     0.91592,     0.91692,     0.91792,     0.91892,     0.91992,     0.92092,     0.92192,     0.92292,     0.92392,     0.92492,     0.92593,     0.92693,     0.92793,     0.92893,     0.92993,     0.93093,     0.93193,     0.93293,     0.93393,     0.93493,     0.93594,\n",
      "           0.93694,     0.93794,     0.93894,     0.93994,     0.94094,     0.94194,     0.94294,     0.94394,     0.94494,     0.94595,     0.94695,     0.94795,     0.94895,     0.94995,     0.95095,     0.95195,     0.95295,     0.95395,     0.95495,     0.95596,     0.95696,     0.95796,     0.95896,     0.95996,\n",
      "           0.96096,     0.96196,     0.96296,     0.96396,     0.96496,     0.96597,     0.96697,     0.96797,     0.96897,     0.96997,     0.97097,     0.97197,     0.97297,     0.97397,     0.97497,     0.97598,     0.97698,     0.97798,     0.97898,     0.97998,     0.98098,     0.98198,     0.98298,     0.98398,\n",
      "           0.98498,     0.98599,     0.98699,     0.98799,     0.98899,     0.98999,     0.99099,     0.99199,     0.99299,     0.99399,     0.99499,       0.996,       0.997,       0.998,       0.999,           1]), array([[    0.92251,     0.92251,     0.92167,     0.92098,     0.92029,     0.91992,     0.91902,     0.91801,     0.91722,     0.91674,     0.91642,     0.91579,      0.9151,     0.91409,     0.91309,     0.91187,     0.91054,     0.90922,     0.90827,     0.90742,     0.90657,     0.90573,     0.90488,\n",
      "            0.90414,     0.90343,     0.90302,     0.90265,     0.90196,     0.90106,     0.90043,     0.89995,      0.8991,     0.89858,      0.8981,     0.89773,     0.89736,     0.89683,      0.8963,     0.89589,      0.8955,     0.89513,     0.89466,     0.89439,     0.89407,     0.89365,     0.89349,\n",
      "            0.89312,     0.89296,      0.8927,     0.89233,      0.8919,     0.89153,     0.89111,     0.89074,     0.89031,        0.89,     0.88957,     0.88904,     0.88878,     0.88846,     0.88814,     0.88777,     0.88761,     0.88751,     0.88719,     0.88653,     0.88597,     0.88555,     0.88528,\n",
      "            0.88475,     0.88438,     0.88417,     0.88364,     0.88332,     0.88311,     0.88269,     0.88242,     0.88189,     0.88163,     0.88142,      0.8811,     0.88067,     0.88041,     0.87988,     0.87961,     0.87946,     0.87903,     0.87882,     0.87866,     0.87844,     0.87803,     0.87797,\n",
      "            0.87739,     0.87681,      0.8767,     0.87638,     0.87617,     0.87591,     0.87564,     0.87559,     0.87527,     0.87495,     0.87453,     0.87411,     0.87374,     0.87352,     0.87326,     0.87299,     0.87262,     0.87252,     0.87188,     0.87151,     0.87135,     0.87098,     0.87072,\n",
      "            0.87045,     0.87003,     0.86992,     0.86976,      0.8696,     0.86918,     0.86892,     0.86828,     0.86786,     0.86754,     0.86733,     0.86722,      0.8668,     0.86653,     0.86637,     0.86611,     0.86584,     0.86558,     0.86542,      0.8651,     0.86489,     0.86452,     0.86452,\n",
      "             0.8642,     0.86394,     0.86357,     0.86341,      0.8632,     0.86288,     0.86261,     0.86245,      0.8623,     0.86177,     0.86161,     0.86118,     0.86083,     0.86028,     0.86018,     0.86012,     0.85966,     0.85938,     0.85928,     0.85906,     0.85891,      0.8588,     0.85848,\n",
      "            0.85795,     0.85769,     0.85758,     0.85743,     0.85711,     0.85695,     0.85663,     0.85636,     0.85599,     0.85578,     0.85568,     0.85544,     0.85509,     0.85467,      0.8543,     0.85414,     0.85393,     0.85356,     0.85325,     0.85292,     0.85276,     0.85239,     0.85223,\n",
      "            0.85207,     0.85186,      0.8516,     0.85112,     0.85075,     0.85043,     0.85001,     0.84974,     0.84927,     0.84895,     0.84847,     0.84826,     0.84794,     0.84757,     0.84741,     0.84731,     0.84699,     0.84662,     0.84641,      0.8463,     0.84604,     0.84582,     0.84545,\n",
      "            0.84535,     0.84487,     0.84466,     0.84434,     0.84413,     0.84365,     0.84333,     0.84312,      0.8428,     0.84249,     0.84243,     0.84222,      0.8418,     0.84143,     0.84111,       0.841,     0.84053,     0.84026,     0.84005,     0.83989,     0.83957,     0.83952,     0.83947,\n",
      "            0.83915,     0.83904,     0.83899,     0.83862,     0.83836,     0.83804,     0.83772,     0.83756,      0.8374,     0.83698,     0.83687,     0.83656,     0.83592,      0.8356,     0.83534,     0.83502,     0.83465,     0.83433,     0.83412,      0.8337,     0.83327,      0.8329,     0.83256,\n",
      "            0.83227,     0.83205,     0.83179,     0.83142,     0.83105,     0.83078,     0.83041,     0.83017,     0.82988,     0.82941,     0.82898,     0.82845,     0.82803,     0.82787,     0.82771,     0.82725,     0.82688,      0.8267,     0.82637,     0.82602,     0.82554,     0.82517,     0.82464,\n",
      "            0.82443,     0.82384,     0.82347,     0.82331,     0.82305,     0.82284,     0.82247,     0.82226,     0.82183,     0.82151,     0.82104,     0.82067,     0.82024,     0.81992,     0.81945,     0.81897,     0.81871,     0.81823,     0.81809,     0.81751,     0.81701,     0.81659,     0.81627,\n",
      "            0.81611,     0.81578,     0.81537,     0.81516,     0.81495,     0.81468,      0.8142,     0.81378,     0.81336,     0.81309,     0.81288,     0.81266,     0.81206,     0.81172,     0.81139,     0.81092,      0.8106,     0.81029,     0.80997,      0.8096,     0.80891,     0.80822,     0.80796,\n",
      "            0.80753,     0.80711,     0.80663,     0.80621,     0.80584,     0.80547,     0.80504,     0.80472,     0.80422,     0.80382,     0.80351,     0.80308,     0.80282,     0.80239,     0.80224,     0.80197,     0.80165,     0.80117,     0.80052,     0.80012,     0.79969,     0.79927,     0.79885,\n",
      "            0.79832,     0.79784,     0.79741,     0.79678,      0.7962,     0.79588,     0.79551,     0.79524,     0.79487,     0.79429,     0.79381,     0.79325,     0.79286,     0.79254,     0.79222,     0.79196,     0.79159,     0.79101,     0.79048,     0.79016,        0.79,     0.78937,     0.78905,\n",
      "            0.78868,     0.78804,     0.78761,     0.78713,      0.7865,      0.7858,     0.78534,     0.78478,     0.78428,     0.78402,     0.78357,     0.78291,     0.78264,     0.78232,      0.7819,     0.78137,     0.78093,     0.78025,     0.77998,     0.77943,     0.77866,     0.77827,     0.77787,\n",
      "            0.77734,     0.77687,     0.77646,     0.77623,     0.77575,     0.77567,     0.77533,     0.77481,     0.77448,      0.7739,     0.77346,      0.7729,     0.77232,     0.77178,     0.77115,     0.77062,     0.77017,     0.76962,     0.76934,     0.76887,     0.76849,     0.76774,      0.7673,\n",
      "             0.7667,     0.76605,     0.76585,     0.76521,     0.76498,     0.76468,     0.76405,     0.76352,     0.76275,     0.76225,     0.76177,     0.76129,     0.76092,     0.76073,     0.76045,     0.76008,     0.75944,     0.75896,      0.7587,     0.75796,     0.75729,      0.7569,     0.75632,\n",
      "            0.75595,     0.75525,     0.75443,     0.75404,     0.75372,     0.75303,     0.75245,     0.75177,     0.75119,     0.75025,     0.75001,     0.74922,     0.74895,     0.74816,     0.74758,     0.74694,     0.74604,     0.74551,     0.74514,     0.74435,     0.74376,     0.74336,     0.74265,\n",
      "            0.74192,     0.74117,      0.7408,     0.74024,     0.73928,     0.73857,     0.73787,     0.73701,     0.73616,     0.73541,     0.73481,      0.7344,     0.73354,     0.73306,     0.73238,     0.73185,     0.73101,     0.73036,     0.72998,     0.72941,     0.72881,     0.72814,     0.72728,\n",
      "            0.72697,     0.72618,      0.7257,     0.72513,     0.72468,     0.72404,     0.72333,      0.7225,     0.72178,     0.72127,     0.72078,     0.72015,     0.71931,     0.71826,     0.71781,     0.71744,     0.71691,     0.71638,      0.7158,       0.715,     0.71435,     0.71339,     0.71267,\n",
      "            0.71229,     0.71172,     0.71082,     0.71024,     0.70962,     0.70868,     0.70823,     0.70788,      0.7073,     0.70665,     0.70611,     0.70547,     0.70498,     0.70444,     0.70394,     0.70329,     0.70248,     0.70183,     0.70079,     0.70043,     0.69954,     0.69869,     0.69779,\n",
      "            0.69747,     0.69694,     0.69637,     0.69551,     0.69477,     0.69397,     0.69314,      0.6926,     0.69196,     0.69134,     0.69038,     0.68969,     0.68863,     0.68812,     0.68739,      0.6864,     0.68577,     0.68515,       0.684,     0.68312,      0.6828,     0.68196,     0.68111,\n",
      "            0.68018,     0.67944,     0.67858,     0.67766,     0.67698,      0.6764,     0.67559,     0.67486,     0.67401,     0.67317,     0.67243,     0.67131,     0.67059,     0.66941,     0.66878,     0.66841,     0.66762,     0.66666,     0.66579,     0.66495,     0.66415,     0.66297,     0.66242,\n",
      "            0.66149,     0.66065,     0.65947,     0.65874,     0.65787,     0.65703,     0.65587,     0.65504,     0.65391,     0.65268,     0.65168,     0.65055,      0.6497,      0.6488,     0.64702,     0.64577,     0.64472,     0.64338,     0.64226,     0.64064,     0.63972,     0.63866,     0.63762,\n",
      "            0.63628,     0.63536,     0.63441,     0.63328,     0.63239,     0.63138,     0.63029,     0.62927,     0.62805,     0.62751,     0.62686,     0.62603,     0.62502,     0.62399,     0.62287,       0.622,     0.62116,     0.61968,     0.61875,      0.6173,     0.61645,     0.61539,     0.61417,\n",
      "             0.6129,      0.6122,      0.6113,     0.60945,     0.60866,     0.60733,     0.60585,     0.60479,     0.60378,     0.60256,      0.6016,     0.60018,       0.599,     0.59761,     0.59608,     0.59484,      0.5935,     0.59166,     0.59019,     0.58868,      0.5868,     0.58524,     0.58384,\n",
      "            0.58226,     0.58098,     0.57939,      0.5781,     0.57716,     0.57543,     0.57353,     0.57211,     0.57053,     0.56911,     0.56798,     0.56648,     0.56535,      0.5644,      0.5625,     0.56047,     0.55889,     0.55738,     0.55615,     0.55509,     0.55394,     0.55203,     0.55043,\n",
      "            0.54934,     0.54749,     0.54569,     0.54379,     0.54202,     0.53978,     0.53858,      0.5362,     0.53453,     0.53308,     0.53142,     0.52979,     0.52779,     0.52596,     0.52403,     0.52211,     0.52003,      0.5183,     0.51622,     0.51408,     0.51138,     0.50914,     0.50712,\n",
      "            0.50512,     0.50234,     0.49981,     0.49764,     0.49477,     0.49263,     0.49019,     0.48798,     0.48505,     0.48218,     0.47941,     0.47699,     0.47476,     0.47188,     0.46935,     0.46648,     0.46419,     0.46112,     0.45832,     0.45503,     0.45155,     0.44856,      0.4448,\n",
      "            0.44186,     0.43872,      0.4357,     0.43173,      0.4281,     0.42421,     0.42024,     0.41583,     0.41253,     0.40894,     0.40503,     0.40102,     0.39763,     0.39386,     0.38966,     0.38644,     0.38281,     0.37978,     0.37669,      0.3723,     0.36817,       0.364,     0.36081,\n",
      "            0.35723,     0.35285,     0.34891,     0.34517,     0.34111,     0.33836,     0.33403,     0.32998,     0.32607,     0.32138,     0.31695,     0.31248,     0.30885,     0.30448,      0.3014,     0.29726,     0.29384,     0.29005,     0.28618,     0.28262,     0.27881,     0.27477,     0.27081,\n",
      "            0.26671,      0.2629,     0.25956,     0.25564,     0.25258,     0.24986,     0.24599,     0.24263,     0.23927,     0.23507,     0.23165,      0.2287,      0.2254,     0.22321,     0.22002,     0.21689,     0.21294,     0.20977,     0.20636,     0.20328,     0.19984,     0.19641,     0.19322,\n",
      "             0.1903,     0.18672,     0.18347,     0.18012,      0.1778,     0.17435,     0.17124,     0.16804,     0.16474,      0.1619,     0.15912,     0.15546,     0.15141,     0.14752,     0.14449,     0.14165,     0.13806,     0.13559,     0.13258,     0.12929,     0.12629,     0.12289,     0.12024,\n",
      "            0.11748,     0.11483,      0.1116,     0.10873,     0.10647,      0.1041,     0.10193,     0.09953,    0.095821,    0.093144,    0.090544,    0.087342,    0.083938,    0.081014,    0.077952,    0.075255,    0.072639,    0.069806,    0.067421,    0.064436,    0.061704,    0.059276,    0.056811,\n",
      "           0.054476,     0.05268,    0.051039,    0.049157,    0.047472,    0.045398,    0.043889,    0.042192,    0.040543,    0.038945,    0.037337,    0.036177,    0.034846,    0.033515,     0.03269,    0.031509,     0.03046,    0.029742,     0.02877,    0.028133,    0.027019,    0.025948,    0.025288,\n",
      "           0.024694,    0.023998,    0.023402,    0.022794,    0.022194,    0.021433,    0.020818,    0.020192,    0.019611,    0.019067,    0.018733,    0.018195,    0.017723,    0.017387,    0.017057,    0.016562,    0.016329,    0.015982,    0.015575,    0.015057,    0.014547,    0.014188,    0.014061,\n",
      "           0.013869,    0.013507,    0.012723,    0.012477,    0.012159,    0.011799,    0.011614,     0.01142,    0.011051,    0.010814,    0.010382,   0.0098331,   0.0094984,   0.0091759,   0.0088431,   0.0086831,   0.0084901,   0.0083163,   0.0079367,   0.0076893,   0.0074385,   0.0073619,   0.0069381,\n",
      "          0.0067154,   0.0065492,   0.0063541,   0.0062623,   0.0060446,   0.0059073,   0.0055409,   0.0052867,   0.0052079,   0.0048647,   0.0046097,   0.0043205,   0.0041269,   0.0040106,   0.0038872,   0.0037558,   0.0036905,   0.0036371,   0.0035903,   0.0033675,    0.003133,   0.0030271,   0.0029361,\n",
      "          0.0027795,   0.0026247,   0.0024078,   0.0022674,   0.0021291,   0.0020273,    0.001956,    0.001914,   0.0017929,    0.001765,   0.0017198,   0.0016211,   0.0014513,   0.0012862,   0.0010894,   0.0010331,  0.00097069,  0.00089073,  0.00084123,  0.00080777,  0.00075699,    0.000709,  0.00066364,\n",
      "         0.00058536,  0.00046129,    0.000431,  0.00036438,  0.00033253,  0.00022975,  0.00019702,  0.00017937,  0.00016172,  0.00014964,  0.00013863,  0.00012761,  0.00011659,  0.00010356,           0,           0,           0,           0,           0,           0,           0,           0,           0,\n",
      "                  0,           0,           0,           0,           0,           0,           0,           0,           0,           0,           0,           0,           0,           0,           0,           0,           0,           0,           0,           0,           0,           0,           0,\n",
      "                  0,           0,           0,           0,           0,           0,           0,           0,           0,           0,           0]]), 'Confidence', 'Recall']]\n",
      "fitness: 0.5452090729257764\n",
      "keys: ['metrics/precision(B)', 'metrics/recall(B)', 'metrics/mAP50(B)', 'metrics/mAP50-95(B)']\n",
      "maps: array([    0.51054])\n",
      "names: {0: 'insect'}\n",
      "plot: True\n",
      "results_dict: {'metrics/precision(B)': 0.8637952598946904, 'metrics/recall(B)': 0.769344844023092, 'metrics/mAP50(B)': 0.8572698764487182, 'metrics/mAP50-95(B)': 0.5105356503121161, 'fitness': 0.5452090729257764}\n",
      "save_dir: WindowsPath('runs/detect/train602')\n",
      "speed: {'preprocess': 0.41105890534614603, 'inference': 15.321126270815322, 'loss': 0.0005467993314148949, 'postprocess': 0.9707823477156174}\n",
      "task: 'detect'\n"
     ]
    }
   ],
   "source": [
    "result = model.train(\n",
    "    data=\"../Datasets/For YOLO/ULT DATASET 2.0/config.yaml\",\n",
    "    amp=True,\n",
    "    batch=8,  # Adjust based on GPU memory\n",
    "    epochs=300,\n",
    "    imgsz=640,  # Higher resolution improves accuracy\n",
    "    optimizer=\"AdamW\",  # Better optimizer than SGD\n",
    "    lr0=0.001,  # Initial learning rate\n",
    "    lrf=0.01,  # Final learning rate\n",
    "    cos_lr=True,  # Cosine Annealing for smooth convergence\n",
    "    warmup_epochs=3,  # Warm-up learning rate in first 3 epochs\n",
    "    weight_decay=0.0005,  # Helps prevent overfitting\n",
    "    augment=True,  # Enable YOLO’s built-in augmentations\n",
    "    mosaic=1.0,  # Mosaic augmentation\n",
    "    mixup=0.5,  # MixUp augmentation\n",
    "    perspective=0.0005,\n",
    "    hsv_h=0.015,  # More color augmentation\n",
    "    hsv_s=0.7,\n",
    "    hsv_v=0.4,\n",
    "    patience=50,\n",
    ")\n",
    "\n",
    "\n",
    "print(result)\n",
    "\n",
    "\n",
    "print(model.val())"
   ]
  },
  {
   "cell_type": "code",
   "execution_count": 4,
   "metadata": {},
   "outputs": [
    {
     "name": "stdout",
     "output_type": "stream",
     "text": [
      "Ultralytics 8.3.68  Python-3.12.0 torch-2.6.0+cu126 CUDA:0 (NVIDIA GeForce RTX 3050 Ti Laptop GPU, 4096MiB)\n"
     ]
    },
    {
     "name": "stderr",
     "output_type": "stream",
     "text": [
      "\u001b[34m\u001b[1mval: \u001b[0mScanning C:\\Users\\Khaled\\Documents\\GitHub\\Mele-RIMBA\\Datasets\\For YOLO\\ULT DATASET 2.0\\Valid\\labels.cache... 1830 images, 475 backgrounds, 0 corrupt: 100%|██████████| 1830/1830 [00:00<?, ?it/s]\n",
      "                 Class     Images  Instances      Box(P          R      mAP50  mAP50-95): 100%|██████████| 229/229 [00:37<00:00,  6.10it/s]\n"
     ]
    },
    {
     "name": "stdout",
     "output_type": "stream",
     "text": [
      "                   all       1830      18881      0.864      0.769      0.857      0.511\n",
      "Speed: 0.4ms preprocess, 13.8ms inference, 0.0ms loss, 1.1ms postprocess per image\n",
      "Results saved to \u001b[1mruns\\detect\\train603\u001b[0m\n"
     ]
    },
    {
     "data": {
      "text/plain": [
       "ultralytics.utils.metrics.DetMetrics object with attributes:\n",
       "\n",
       "ap_class_index: array([0])\n",
       "box: ultralytics.utils.metrics.Metric object\n",
       "confusion_matrix: <ultralytics.utils.metrics.ConfusionMatrix object at 0x000001F62B8C0830>\n",
       "curves: ['Precision-Recall(B)', 'F1-Confidence(B)', 'Precision-Confidence(B)', 'Recall-Confidence(B)']\n",
       "curves_results: [[array([          0,    0.001001,    0.002002,    0.003003,    0.004004,    0.005005,    0.006006,    0.007007,    0.008008,    0.009009,     0.01001,    0.011011,    0.012012,    0.013013,    0.014014,    0.015015,    0.016016,    0.017017,    0.018018,    0.019019,     0.02002,    0.021021,    0.022022,    0.023023,\n",
       "          0.024024,    0.025025,    0.026026,    0.027027,    0.028028,    0.029029,     0.03003,    0.031031,    0.032032,    0.033033,    0.034034,    0.035035,    0.036036,    0.037037,    0.038038,    0.039039,     0.04004,    0.041041,    0.042042,    0.043043,    0.044044,    0.045045,    0.046046,    0.047047,\n",
       "          0.048048,    0.049049,     0.05005,    0.051051,    0.052052,    0.053053,    0.054054,    0.055055,    0.056056,    0.057057,    0.058058,    0.059059,     0.06006,    0.061061,    0.062062,    0.063063,    0.064064,    0.065065,    0.066066,    0.067067,    0.068068,    0.069069,     0.07007,    0.071071,\n",
       "          0.072072,    0.073073,    0.074074,    0.075075,    0.076076,    0.077077,    0.078078,    0.079079,     0.08008,    0.081081,    0.082082,    0.083083,    0.084084,    0.085085,    0.086086,    0.087087,    0.088088,    0.089089,     0.09009,    0.091091,    0.092092,    0.093093,    0.094094,    0.095095,\n",
       "          0.096096,    0.097097,    0.098098,    0.099099,      0.1001,      0.1011,      0.1021,      0.1031,      0.1041,     0.10511,     0.10611,     0.10711,     0.10811,     0.10911,     0.11011,     0.11111,     0.11211,     0.11311,     0.11411,     0.11512,     0.11612,     0.11712,     0.11812,     0.11912,\n",
       "           0.12012,     0.12112,     0.12212,     0.12312,     0.12412,     0.12513,     0.12613,     0.12713,     0.12813,     0.12913,     0.13013,     0.13113,     0.13213,     0.13313,     0.13413,     0.13514,     0.13614,     0.13714,     0.13814,     0.13914,     0.14014,     0.14114,     0.14214,     0.14314,\n",
       "           0.14414,     0.14515,     0.14615,     0.14715,     0.14815,     0.14915,     0.15015,     0.15115,     0.15215,     0.15315,     0.15415,     0.15516,     0.15616,     0.15716,     0.15816,     0.15916,     0.16016,     0.16116,     0.16216,     0.16316,     0.16416,     0.16517,     0.16617,     0.16717,\n",
       "           0.16817,     0.16917,     0.17017,     0.17117,     0.17217,     0.17317,     0.17417,     0.17518,     0.17618,     0.17718,     0.17818,     0.17918,     0.18018,     0.18118,     0.18218,     0.18318,     0.18418,     0.18519,     0.18619,     0.18719,     0.18819,     0.18919,     0.19019,     0.19119,\n",
       "           0.19219,     0.19319,     0.19419,      0.1952,      0.1962,      0.1972,      0.1982,      0.1992,      0.2002,      0.2012,      0.2022,      0.2032,      0.2042,     0.20521,     0.20621,     0.20721,     0.20821,     0.20921,     0.21021,     0.21121,     0.21221,     0.21321,     0.21421,     0.21522,\n",
       "           0.21622,     0.21722,     0.21822,     0.21922,     0.22022,     0.22122,     0.22222,     0.22322,     0.22422,     0.22523,     0.22623,     0.22723,     0.22823,     0.22923,     0.23023,     0.23123,     0.23223,     0.23323,     0.23423,     0.23524,     0.23624,     0.23724,     0.23824,     0.23924,\n",
       "           0.24024,     0.24124,     0.24224,     0.24324,     0.24424,     0.24525,     0.24625,     0.24725,     0.24825,     0.24925,     0.25025,     0.25125,     0.25225,     0.25325,     0.25425,     0.25526,     0.25626,     0.25726,     0.25826,     0.25926,     0.26026,     0.26126,     0.26226,     0.26326,\n",
       "           0.26426,     0.26527,     0.26627,     0.26727,     0.26827,     0.26927,     0.27027,     0.27127,     0.27227,     0.27327,     0.27427,     0.27528,     0.27628,     0.27728,     0.27828,     0.27928,     0.28028,     0.28128,     0.28228,     0.28328,     0.28428,     0.28529,     0.28629,     0.28729,\n",
       "           0.28829,     0.28929,     0.29029,     0.29129,     0.29229,     0.29329,     0.29429,      0.2953,      0.2963,      0.2973,      0.2983,      0.2993,      0.3003,      0.3013,      0.3023,      0.3033,      0.3043,     0.30531,     0.30631,     0.30731,     0.30831,     0.30931,     0.31031,     0.31131,\n",
       "           0.31231,     0.31331,     0.31431,     0.31532,     0.31632,     0.31732,     0.31832,     0.31932,     0.32032,     0.32132,     0.32232,     0.32332,     0.32432,     0.32533,     0.32633,     0.32733,     0.32833,     0.32933,     0.33033,     0.33133,     0.33233,     0.33333,     0.33433,     0.33534,\n",
       "           0.33634,     0.33734,     0.33834,     0.33934,     0.34034,     0.34134,     0.34234,     0.34334,     0.34434,     0.34535,     0.34635,     0.34735,     0.34835,     0.34935,     0.35035,     0.35135,     0.35235,     0.35335,     0.35435,     0.35536,     0.35636,     0.35736,     0.35836,     0.35936,\n",
       "           0.36036,     0.36136,     0.36236,     0.36336,     0.36436,     0.36537,     0.36637,     0.36737,     0.36837,     0.36937,     0.37037,     0.37137,     0.37237,     0.37337,     0.37437,     0.37538,     0.37638,     0.37738,     0.37838,     0.37938,     0.38038,     0.38138,     0.38238,     0.38338,\n",
       "           0.38438,     0.38539,     0.38639,     0.38739,     0.38839,     0.38939,     0.39039,     0.39139,     0.39239,     0.39339,     0.39439,      0.3954,      0.3964,      0.3974,      0.3984,      0.3994,      0.4004,      0.4014,      0.4024,      0.4034,      0.4044,     0.40541,     0.40641,     0.40741,\n",
       "           0.40841,     0.40941,     0.41041,     0.41141,     0.41241,     0.41341,     0.41441,     0.41542,     0.41642,     0.41742,     0.41842,     0.41942,     0.42042,     0.42142,     0.42242,     0.42342,     0.42442,     0.42543,     0.42643,     0.42743,     0.42843,     0.42943,     0.43043,     0.43143,\n",
       "           0.43243,     0.43343,     0.43443,     0.43544,     0.43644,     0.43744,     0.43844,     0.43944,     0.44044,     0.44144,     0.44244,     0.44344,     0.44444,     0.44545,     0.44645,     0.44745,     0.44845,     0.44945,     0.45045,     0.45145,     0.45245,     0.45345,     0.45445,     0.45546,\n",
       "           0.45646,     0.45746,     0.45846,     0.45946,     0.46046,     0.46146,     0.46246,     0.46346,     0.46446,     0.46547,     0.46647,     0.46747,     0.46847,     0.46947,     0.47047,     0.47147,     0.47247,     0.47347,     0.47447,     0.47548,     0.47648,     0.47748,     0.47848,     0.47948,\n",
       "           0.48048,     0.48148,     0.48248,     0.48348,     0.48448,     0.48549,     0.48649,     0.48749,     0.48849,     0.48949,     0.49049,     0.49149,     0.49249,     0.49349,     0.49449,      0.4955,      0.4965,      0.4975,      0.4985,      0.4995,      0.5005,      0.5015,      0.5025,      0.5035,\n",
       "            0.5045,     0.50551,     0.50651,     0.50751,     0.50851,     0.50951,     0.51051,     0.51151,     0.51251,     0.51351,     0.51451,     0.51552,     0.51652,     0.51752,     0.51852,     0.51952,     0.52052,     0.52152,     0.52252,     0.52352,     0.52452,     0.52553,     0.52653,     0.52753,\n",
       "           0.52853,     0.52953,     0.53053,     0.53153,     0.53253,     0.53353,     0.53453,     0.53554,     0.53654,     0.53754,     0.53854,     0.53954,     0.54054,     0.54154,     0.54254,     0.54354,     0.54454,     0.54555,     0.54655,     0.54755,     0.54855,     0.54955,     0.55055,     0.55155,\n",
       "           0.55255,     0.55355,     0.55455,     0.55556,     0.55656,     0.55756,     0.55856,     0.55956,     0.56056,     0.56156,     0.56256,     0.56356,     0.56456,     0.56557,     0.56657,     0.56757,     0.56857,     0.56957,     0.57057,     0.57157,     0.57257,     0.57357,     0.57457,     0.57558,\n",
       "           0.57658,     0.57758,     0.57858,     0.57958,     0.58058,     0.58158,     0.58258,     0.58358,     0.58458,     0.58559,     0.58659,     0.58759,     0.58859,     0.58959,     0.59059,     0.59159,     0.59259,     0.59359,     0.59459,      0.5956,      0.5966,      0.5976,      0.5986,      0.5996,\n",
       "            0.6006,      0.6016,      0.6026,      0.6036,      0.6046,     0.60561,     0.60661,     0.60761,     0.60861,     0.60961,     0.61061,     0.61161,     0.61261,     0.61361,     0.61461,     0.61562,     0.61662,     0.61762,     0.61862,     0.61962,     0.62062,     0.62162,     0.62262,     0.62362,\n",
       "           0.62462,     0.62563,     0.62663,     0.62763,     0.62863,     0.62963,     0.63063,     0.63163,     0.63263,     0.63363,     0.63463,     0.63564,     0.63664,     0.63764,     0.63864,     0.63964,     0.64064,     0.64164,     0.64264,     0.64364,     0.64464,     0.64565,     0.64665,     0.64765,\n",
       "           0.64865,     0.64965,     0.65065,     0.65165,     0.65265,     0.65365,     0.65465,     0.65566,     0.65666,     0.65766,     0.65866,     0.65966,     0.66066,     0.66166,     0.66266,     0.66366,     0.66466,     0.66567,     0.66667,     0.66767,     0.66867,     0.66967,     0.67067,     0.67167,\n",
       "           0.67267,     0.67367,     0.67467,     0.67568,     0.67668,     0.67768,     0.67868,     0.67968,     0.68068,     0.68168,     0.68268,     0.68368,     0.68468,     0.68569,     0.68669,     0.68769,     0.68869,     0.68969,     0.69069,     0.69169,     0.69269,     0.69369,     0.69469,      0.6957,\n",
       "            0.6967,      0.6977,      0.6987,      0.6997,      0.7007,      0.7017,      0.7027,      0.7037,      0.7047,     0.70571,     0.70671,     0.70771,     0.70871,     0.70971,     0.71071,     0.71171,     0.71271,     0.71371,     0.71471,     0.71572,     0.71672,     0.71772,     0.71872,     0.71972,\n",
       "           0.72072,     0.72172,     0.72272,     0.72372,     0.72472,     0.72573,     0.72673,     0.72773,     0.72873,     0.72973,     0.73073,     0.73173,     0.73273,     0.73373,     0.73473,     0.73574,     0.73674,     0.73774,     0.73874,     0.73974,     0.74074,     0.74174,     0.74274,     0.74374,\n",
       "           0.74474,     0.74575,     0.74675,     0.74775,     0.74875,     0.74975,     0.75075,     0.75175,     0.75275,     0.75375,     0.75475,     0.75576,     0.75676,     0.75776,     0.75876,     0.75976,     0.76076,     0.76176,     0.76276,     0.76376,     0.76476,     0.76577,     0.76677,     0.76777,\n",
       "           0.76877,     0.76977,     0.77077,     0.77177,     0.77277,     0.77377,     0.77477,     0.77578,     0.77678,     0.77778,     0.77878,     0.77978,     0.78078,     0.78178,     0.78278,     0.78378,     0.78478,     0.78579,     0.78679,     0.78779,     0.78879,     0.78979,     0.79079,     0.79179,\n",
       "           0.79279,     0.79379,     0.79479,      0.7958,      0.7968,      0.7978,      0.7988,      0.7998,      0.8008,      0.8018,      0.8028,      0.8038,      0.8048,     0.80581,     0.80681,     0.80781,     0.80881,     0.80981,     0.81081,     0.81181,     0.81281,     0.81381,     0.81481,     0.81582,\n",
       "           0.81682,     0.81782,     0.81882,     0.81982,     0.82082,     0.82182,     0.82282,     0.82382,     0.82482,     0.82583,     0.82683,     0.82783,     0.82883,     0.82983,     0.83083,     0.83183,     0.83283,     0.83383,     0.83483,     0.83584,     0.83684,     0.83784,     0.83884,     0.83984,\n",
       "           0.84084,     0.84184,     0.84284,     0.84384,     0.84484,     0.84585,     0.84685,     0.84785,     0.84885,     0.84985,     0.85085,     0.85185,     0.85285,     0.85385,     0.85485,     0.85586,     0.85686,     0.85786,     0.85886,     0.85986,     0.86086,     0.86186,     0.86286,     0.86386,\n",
       "           0.86486,     0.86587,     0.86687,     0.86787,     0.86887,     0.86987,     0.87087,     0.87187,     0.87287,     0.87387,     0.87487,     0.87588,     0.87688,     0.87788,     0.87888,     0.87988,     0.88088,     0.88188,     0.88288,     0.88388,     0.88488,     0.88589,     0.88689,     0.88789,\n",
       "           0.88889,     0.88989,     0.89089,     0.89189,     0.89289,     0.89389,     0.89489,      0.8959,      0.8969,      0.8979,      0.8989,      0.8999,      0.9009,      0.9019,      0.9029,      0.9039,      0.9049,     0.90591,     0.90691,     0.90791,     0.90891,     0.90991,     0.91091,     0.91191,\n",
       "           0.91291,     0.91391,     0.91491,     0.91592,     0.91692,     0.91792,     0.91892,     0.91992,     0.92092,     0.92192,     0.92292,     0.92392,     0.92492,     0.92593,     0.92693,     0.92793,     0.92893,     0.92993,     0.93093,     0.93193,     0.93293,     0.93393,     0.93493,     0.93594,\n",
       "           0.93694,     0.93794,     0.93894,     0.93994,     0.94094,     0.94194,     0.94294,     0.94394,     0.94494,     0.94595,     0.94695,     0.94795,     0.94895,     0.94995,     0.95095,     0.95195,     0.95295,     0.95395,     0.95495,     0.95596,     0.95696,     0.95796,     0.95896,     0.95996,\n",
       "           0.96096,     0.96196,     0.96296,     0.96396,     0.96496,     0.96597,     0.96697,     0.96797,     0.96897,     0.96997,     0.97097,     0.97197,     0.97297,     0.97397,     0.97497,     0.97598,     0.97698,     0.97798,     0.97898,     0.97998,     0.98098,     0.98198,     0.98298,     0.98398,\n",
       "           0.98498,     0.98599,     0.98699,     0.98799,     0.98899,     0.98999,     0.99099,     0.99199,     0.99299,     0.99399,     0.99499,       0.996,       0.997,       0.998,       0.999,           1]), array([[          1,           1,           1,           1,           1,           1,           1,           1,     0.99721,     0.99721,     0.99721,     0.99721,     0.99721,     0.99721,     0.99721,     0.99721,     0.99721,     0.99721,     0.99721,     0.99721,     0.99721,     0.99721,     0.99721,\n",
       "            0.99721,     0.99721,     0.99721,     0.99721,     0.99721,     0.99721,     0.99721,     0.99721,     0.99721,     0.99721,     0.99721,     0.99721,     0.99721,     0.99721,     0.99721,     0.99721,     0.99721,     0.99721,     0.99721,     0.99721,     0.99721,     0.99721,     0.99721,\n",
       "            0.99721,     0.99721,     0.99721,     0.99721,     0.99721,     0.99721,     0.99721,     0.99721,     0.99721,     0.99721,     0.99721,     0.99721,     0.99721,     0.99721,     0.99721,     0.99721,     0.99721,     0.99721,     0.99721,     0.99721,     0.99721,     0.99721,     0.99721,\n",
       "            0.99721,     0.99721,     0.99721,     0.99721,     0.99721,     0.99721,     0.99721,     0.99721,     0.99721,     0.99721,     0.99721,     0.99721,     0.99721,     0.99721,     0.99721,     0.99721,     0.99721,     0.99721,     0.99721,     0.99721,     0.99721,     0.99721,     0.99721,\n",
       "            0.99721,     0.99721,     0.99721,     0.99721,     0.99721,     0.99721,     0.99721,     0.99721,     0.99721,     0.99721,     0.99721,     0.99721,     0.99721,     0.99721,     0.99721,     0.99721,     0.99721,     0.99721,     0.99721,     0.99721,     0.99721,     0.99721,     0.99721,\n",
       "            0.99721,     0.99721,     0.99721,     0.99721,     0.99721,     0.99721,     0.99721,     0.99721,     0.99721,     0.99721,     0.99721,     0.99721,     0.99721,     0.99721,     0.99721,     0.99721,     0.99721,     0.99721,     0.99721,     0.99721,     0.99721,     0.99721,     0.99721,\n",
       "            0.99721,     0.99721,     0.99721,     0.99721,     0.99721,     0.99721,     0.99721,     0.99721,     0.99721,     0.99721,     0.99721,     0.99721,     0.99721,     0.99721,     0.99721,     0.99721,     0.99721,     0.99721,     0.99721,     0.99721,     0.99721,     0.99721,     0.99721,\n",
       "            0.99721,     0.99721,     0.99721,     0.99721,     0.99721,     0.99721,     0.99721,     0.99721,     0.99721,     0.99721,     0.99715,     0.99715,     0.99715,     0.99715,     0.99715,     0.99715,     0.99715,     0.99715,     0.99715,     0.99715,     0.99715,     0.99715,     0.99715,\n",
       "            0.99715,     0.99715,     0.99663,     0.99663,     0.99634,     0.99634,     0.99634,     0.99634,     0.99634,     0.99634,     0.99634,     0.99634,     0.99634,     0.99634,     0.99634,     0.99634,     0.99634,     0.99634,     0.99634,     0.99634,     0.99634,     0.99634,     0.99634,\n",
       "            0.99634,     0.99634,     0.99634,     0.99634,     0.99634,     0.99634,     0.99634,     0.99634,     0.99634,     0.99634,     0.99616,     0.99616,     0.99616,      0.9961,      0.9961,      0.9961,      0.9961,      0.9961,      0.9961,      0.9961,      0.9961,      0.9961,      0.9961,\n",
       "            0.99594,     0.99594,     0.99594,     0.99594,     0.99592,     0.99592,     0.99592,     0.99592,     0.99592,     0.99592,     0.99592,     0.99592,     0.99592,     0.99592,     0.99592,     0.99592,     0.99584,     0.99584,     0.99584,     0.99584,     0.99584,     0.99584,     0.99584,\n",
       "            0.99584,     0.99547,     0.99547,     0.99513,     0.99513,     0.99513,     0.99513,     0.99495,      0.9948,      0.9948,      0.9948,      0.9948,      0.9948,      0.9948,      0.9948,      0.9948,      0.9948,      0.9948,      0.9948,      0.9948,      0.9948,     0.99462,     0.99447,\n",
       "            0.99438,     0.99438,     0.99438,     0.99438,     0.99438,     0.99423,     0.99423,     0.99406,     0.99392,     0.99392,     0.99392,     0.99392,     0.99392,     0.99392,     0.99392,     0.99392,     0.99392,     0.99392,     0.99379,     0.99379,     0.99379,     0.99378,     0.99378,\n",
       "            0.99378,     0.99378,     0.99378,     0.99378,     0.99378,     0.99378,     0.99375,     0.99375,     0.99375,     0.99375,     0.99375,     0.99375,     0.99375,      0.9936,     0.99354,     0.99354,     0.99354,     0.99354,     0.99354,     0.99354,     0.99354,     0.99354,     0.99354,\n",
       "            0.99354,     0.99354,     0.99354,     0.99354,     0.99354,     0.99354,     0.99354,     0.99354,     0.99354,     0.99354,     0.99354,     0.99354,     0.99354,     0.99354,     0.99354,     0.99354,     0.99354,     0.99354,     0.99354,     0.99354,     0.99349,     0.99349,     0.99349,\n",
       "            0.99349,     0.99349,     0.99349,     0.99336,     0.99328,     0.99328,     0.99328,     0.99328,     0.99326,     0.99326,     0.99326,     0.99326,     0.99326,     0.99326,     0.99319,     0.99319,     0.99319,     0.99319,     0.99305,     0.99301,     0.99301,     0.99301,     0.99301,\n",
       "            0.99301,     0.99285,     0.99285,     0.99285,     0.99285,     0.99285,     0.99285,     0.99262,     0.99262,     0.99262,     0.99259,     0.99259,     0.99259,     0.99259,     0.99259,     0.99249,     0.99249,     0.99246,     0.99246,     0.99246,     0.99246,     0.99246,     0.99246,\n",
       "            0.99246,     0.99246,     0.99246,     0.99246,     0.99246,     0.99246,     0.99237,     0.99237,     0.99227,     0.99227,     0.99223,     0.99223,     0.99223,     0.99223,     0.99223,     0.99212,     0.99202,     0.99196,     0.99196,     0.99196,     0.99196,     0.99187,     0.99187,\n",
       "            0.99177,     0.99166,     0.99133,     0.99133,     0.99125,     0.99125,     0.99114,     0.99101,     0.99101,     0.99101,     0.99101,     0.99101,     0.99096,     0.99096,     0.99096,     0.99096,     0.99092,     0.99092,     0.99092,     0.99083,     0.99083,     0.99074,     0.99063,\n",
       "            0.99056,     0.99056,     0.99056,     0.99056,     0.99056,     0.99056,     0.99056,     0.99056,     0.99048,     0.99042,     0.99042,     0.99042,     0.99021,     0.99015,     0.99015,     0.99015,     0.99006,     0.98998,     0.98996,     0.98996,     0.98996,     0.98996,     0.98985,\n",
       "            0.98979,     0.98979,     0.98975,     0.98975,     0.98975,     0.98965,     0.98944,     0.98913,     0.98897,     0.98897,     0.98882,     0.98882,     0.98882,     0.98882,     0.98882,     0.98882,     0.98882,     0.98882,     0.98864,     0.98859,     0.98859,     0.98859,     0.98842,\n",
       "            0.98842,     0.98834,     0.98821,     0.98821,     0.98821,     0.98811,     0.98803,     0.98774,      0.9877,      0.9877,     0.98761,     0.98757,     0.98757,     0.98757,     0.98739,     0.98731,     0.98727,     0.98727,     0.98708,     0.98693,     0.98693,     0.98686,     0.98678,\n",
       "             0.9866,     0.98642,     0.98624,     0.98607,     0.98589,     0.98574,     0.98574,     0.98548,     0.98531,     0.98515,     0.98507,     0.98498,     0.98492,     0.98475,     0.98438,     0.98422,     0.98415,     0.98388,     0.98364,     0.98358,     0.98358,     0.98352,     0.98338,\n",
       "             0.9833,     0.98322,     0.98286,     0.98261,     0.98245,     0.98222,     0.98222,     0.98179,     0.98174,     0.98166,     0.98141,     0.98118,     0.98114,     0.98114,     0.98089,     0.98064,     0.98032,     0.98025,      0.9801,     0.97996,     0.97981,     0.97966,     0.97952,\n",
       "            0.97949,     0.97949,     0.97924,     0.97902,     0.97868,     0.97848,     0.97848,      0.9779,     0.97784,     0.97771,     0.97771,     0.97771,     0.97756,     0.97748,     0.97691,     0.97651,     0.97645,     0.97605,     0.97591,     0.97577,     0.97555,     0.97524,     0.97494,\n",
       "            0.97472,      0.9745,      0.9741,     0.97346,     0.97334,     0.97328,     0.97272,     0.97264,     0.97264,     0.97261,     0.97205,     0.97201,      0.9718,     0.97159,     0.97142,     0.97135,     0.97114,     0.97094,     0.97074,     0.97069,     0.97041,     0.97022,     0.97009,\n",
       "            0.96963,     0.96944,     0.96899,     0.96887,     0.96827,     0.96815,      0.9678,     0.96728,     0.96685,     0.96664,     0.96629,     0.96574,     0.96574,     0.96557,     0.96537,     0.96518,       0.965,     0.96481,     0.96449,      0.9642,     0.96411,       0.964,     0.96374,\n",
       "            0.96339,      0.9629,     0.96242,      0.9623,     0.96176,     0.96149,     0.96029,     0.95998,     0.95965,     0.95941,      0.9593,      0.9586,     0.95804,     0.95759,     0.95741,     0.95717,     0.95701,     0.95661,     0.95628,     0.95628,     0.95589,     0.95575,     0.95551,\n",
       "            0.95527,     0.95482,     0.95467,     0.95436,     0.95419,     0.95374,     0.95352,     0.95285,     0.95228,      0.9521,     0.95196,     0.95166,     0.95129,     0.95055,     0.94983,     0.94961,     0.94928,     0.94897,      0.9486,     0.94805,     0.94775,     0.94704,     0.94668,\n",
       "            0.94627,     0.94541,      0.9448,     0.94474,     0.94425,      0.9439,     0.94299,     0.94258,     0.94205,     0.94156,      0.9407,     0.94007,     0.93955,     0.93927,     0.93881,     0.93829,     0.93741,     0.93722,     0.93663,     0.93639,     0.93586,     0.93521,     0.93482,\n",
       "            0.93391,     0.93332,     0.93249,     0.93205,     0.93142,     0.93101,     0.93027,     0.92892,     0.92844,      0.9275,      0.9268,     0.92587,     0.92513,      0.9247,     0.92366,     0.92272,     0.92181,     0.92051,     0.91916,     0.91871,     0.91825,     0.91783,     0.91682,\n",
       "            0.91611,     0.91554,     0.91497,     0.91427,     0.91284,     0.91221,     0.91172,      0.9114,     0.91041,      0.9095,     0.90919,     0.90863,     0.90724,     0.90652,     0.90581,     0.90527,     0.90443,     0.90336,     0.90259,      0.9016,     0.90073,     0.90003,     0.89875,\n",
       "            0.89801,     0.89733,     0.89625,     0.89565,       0.895,     0.89437,     0.89422,     0.89343,     0.89292,     0.89228,     0.89129,     0.89063,     0.89008,     0.88892,     0.88746,     0.88635,     0.88571,     0.88447,     0.88286,     0.88256,     0.88128,     0.88007,      0.8788,\n",
       "            0.87701,     0.87543,     0.87286,     0.87185,      0.8711,     0.86967,     0.86815,     0.86644,     0.86536,     0.86467,     0.86311,     0.86209,     0.86103,     0.86017,     0.85871,      0.8573,     0.85571,     0.85328,     0.85195,      0.8501,     0.84918,     0.84807,     0.84702,\n",
       "             0.8451,     0.84383,     0.84203,     0.84081,     0.83962,     0.83789,     0.83684,     0.83518,     0.83367,     0.83199,     0.83014,     0.82788,     0.82666,     0.82465,     0.82246,     0.82137,     0.81986,     0.81769,     0.81561,     0.81414,     0.81081,     0.80836,      0.8062,\n",
       "            0.80481,     0.80297,     0.80158,     0.80005,     0.79861,     0.79664,      0.7947,       0.793,     0.79019,     0.78776,     0.78484,     0.78187,     0.77978,     0.77752,     0.77548,     0.77351,     0.77122,     0.76873,     0.76497,     0.76302,     0.76061,     0.75786,     0.75567,\n",
       "            0.75269,     0.75086,     0.74757,     0.74489,     0.74129,     0.73853,     0.73573,     0.73248,     0.73095,     0.72695,     0.72404,     0.71752,     0.71359,     0.71036,     0.70632,     0.70338,     0.70039,     0.69733,     0.69239,     0.68829,     0.68516,     0.68213,     0.67876,\n",
       "              0.676,     0.67085,     0.66675,     0.66249,     0.65702,     0.65444,     0.64854,     0.64538,     0.63899,     0.63445,     0.63086,     0.62515,     0.62028,     0.61398,     0.60831,     0.60314,     0.59685,     0.59444,     0.58903,     0.58342,     0.57814,     0.57395,     0.56836,\n",
       "            0.56381,     0.55719,     0.54968,     0.54692,     0.53911,     0.53204,     0.52765,     0.52153,      0.5157,     0.50895,     0.50315,     0.49763,       0.494,      0.4845,     0.47743,     0.47144,     0.46512,     0.45941,     0.45191,     0.43979,     0.43165,     0.42395,     0.41611,\n",
       "            0.40895,     0.40282,     0.39646,     0.38908,     0.38406,     0.37624,     0.36674,     0.35835,     0.35127,     0.34377,     0.33663,     0.32626,     0.31956,     0.31466,     0.30801,     0.30019,     0.29503,     0.28793,     0.27672,     0.26538,     0.25373,     0.24458,     0.23256,\n",
       "            0.20846,     0.18603,     0.15735,     0.15531,     0.15326,     0.15122,     0.14918,     0.14713,     0.14509,     0.14305,       0.141,     0.13896,     0.13692,     0.13487,     0.13283,     0.13079,     0.12874,      0.1267,     0.12465,     0.12261,     0.12057,     0.11852,     0.11648,\n",
       "            0.11444,     0.11239,     0.11035,     0.10831,     0.10626,     0.10422,     0.10218,     0.10013,    0.098089,    0.096045,    0.094002,    0.091958,    0.089915,    0.087871,    0.085828,    0.083784,    0.081741,    0.079697,    0.077654,     0.07561,    0.073567,    0.071523,     0.06948,\n",
       "           0.067436,    0.065393,    0.063349,    0.061306,    0.059262,    0.057219,    0.055175,    0.053132,    0.051088,    0.049044,    0.047001,    0.044957,    0.042914,     0.04087,    0.038827,    0.036783,     0.03474,    0.032696,    0.030653,    0.028609,    0.026566,    0.024522,    0.022479,\n",
       "           0.020435,    0.018392,    0.016348,    0.014305,    0.012261,    0.010218,   0.0081741,   0.0061306,    0.004087,   0.0020435,           0]]), 'Recall', 'Precision'], [array([          0,    0.001001,    0.002002,    0.003003,    0.004004,    0.005005,    0.006006,    0.007007,    0.008008,    0.009009,     0.01001,    0.011011,    0.012012,    0.013013,    0.014014,    0.015015,    0.016016,    0.017017,    0.018018,    0.019019,     0.02002,    0.021021,    0.022022,    0.023023,\n",
       "          0.024024,    0.025025,    0.026026,    0.027027,    0.028028,    0.029029,     0.03003,    0.031031,    0.032032,    0.033033,    0.034034,    0.035035,    0.036036,    0.037037,    0.038038,    0.039039,     0.04004,    0.041041,    0.042042,    0.043043,    0.044044,    0.045045,    0.046046,    0.047047,\n",
       "          0.048048,    0.049049,     0.05005,    0.051051,    0.052052,    0.053053,    0.054054,    0.055055,    0.056056,    0.057057,    0.058058,    0.059059,     0.06006,    0.061061,    0.062062,    0.063063,    0.064064,    0.065065,    0.066066,    0.067067,    0.068068,    0.069069,     0.07007,    0.071071,\n",
       "          0.072072,    0.073073,    0.074074,    0.075075,    0.076076,    0.077077,    0.078078,    0.079079,     0.08008,    0.081081,    0.082082,    0.083083,    0.084084,    0.085085,    0.086086,    0.087087,    0.088088,    0.089089,     0.09009,    0.091091,    0.092092,    0.093093,    0.094094,    0.095095,\n",
       "          0.096096,    0.097097,    0.098098,    0.099099,      0.1001,      0.1011,      0.1021,      0.1031,      0.1041,     0.10511,     0.10611,     0.10711,     0.10811,     0.10911,     0.11011,     0.11111,     0.11211,     0.11311,     0.11411,     0.11512,     0.11612,     0.11712,     0.11812,     0.11912,\n",
       "           0.12012,     0.12112,     0.12212,     0.12312,     0.12412,     0.12513,     0.12613,     0.12713,     0.12813,     0.12913,     0.13013,     0.13113,     0.13213,     0.13313,     0.13413,     0.13514,     0.13614,     0.13714,     0.13814,     0.13914,     0.14014,     0.14114,     0.14214,     0.14314,\n",
       "           0.14414,     0.14515,     0.14615,     0.14715,     0.14815,     0.14915,     0.15015,     0.15115,     0.15215,     0.15315,     0.15415,     0.15516,     0.15616,     0.15716,     0.15816,     0.15916,     0.16016,     0.16116,     0.16216,     0.16316,     0.16416,     0.16517,     0.16617,     0.16717,\n",
       "           0.16817,     0.16917,     0.17017,     0.17117,     0.17217,     0.17317,     0.17417,     0.17518,     0.17618,     0.17718,     0.17818,     0.17918,     0.18018,     0.18118,     0.18218,     0.18318,     0.18418,     0.18519,     0.18619,     0.18719,     0.18819,     0.18919,     0.19019,     0.19119,\n",
       "           0.19219,     0.19319,     0.19419,      0.1952,      0.1962,      0.1972,      0.1982,      0.1992,      0.2002,      0.2012,      0.2022,      0.2032,      0.2042,     0.20521,     0.20621,     0.20721,     0.20821,     0.20921,     0.21021,     0.21121,     0.21221,     0.21321,     0.21421,     0.21522,\n",
       "           0.21622,     0.21722,     0.21822,     0.21922,     0.22022,     0.22122,     0.22222,     0.22322,     0.22422,     0.22523,     0.22623,     0.22723,     0.22823,     0.22923,     0.23023,     0.23123,     0.23223,     0.23323,     0.23423,     0.23524,     0.23624,     0.23724,     0.23824,     0.23924,\n",
       "           0.24024,     0.24124,     0.24224,     0.24324,     0.24424,     0.24525,     0.24625,     0.24725,     0.24825,     0.24925,     0.25025,     0.25125,     0.25225,     0.25325,     0.25425,     0.25526,     0.25626,     0.25726,     0.25826,     0.25926,     0.26026,     0.26126,     0.26226,     0.26326,\n",
       "           0.26426,     0.26527,     0.26627,     0.26727,     0.26827,     0.26927,     0.27027,     0.27127,     0.27227,     0.27327,     0.27427,     0.27528,     0.27628,     0.27728,     0.27828,     0.27928,     0.28028,     0.28128,     0.28228,     0.28328,     0.28428,     0.28529,     0.28629,     0.28729,\n",
       "           0.28829,     0.28929,     0.29029,     0.29129,     0.29229,     0.29329,     0.29429,      0.2953,      0.2963,      0.2973,      0.2983,      0.2993,      0.3003,      0.3013,      0.3023,      0.3033,      0.3043,     0.30531,     0.30631,     0.30731,     0.30831,     0.30931,     0.31031,     0.31131,\n",
       "           0.31231,     0.31331,     0.31431,     0.31532,     0.31632,     0.31732,     0.31832,     0.31932,     0.32032,     0.32132,     0.32232,     0.32332,     0.32432,     0.32533,     0.32633,     0.32733,     0.32833,     0.32933,     0.33033,     0.33133,     0.33233,     0.33333,     0.33433,     0.33534,\n",
       "           0.33634,     0.33734,     0.33834,     0.33934,     0.34034,     0.34134,     0.34234,     0.34334,     0.34434,     0.34535,     0.34635,     0.34735,     0.34835,     0.34935,     0.35035,     0.35135,     0.35235,     0.35335,     0.35435,     0.35536,     0.35636,     0.35736,     0.35836,     0.35936,\n",
       "           0.36036,     0.36136,     0.36236,     0.36336,     0.36436,     0.36537,     0.36637,     0.36737,     0.36837,     0.36937,     0.37037,     0.37137,     0.37237,     0.37337,     0.37437,     0.37538,     0.37638,     0.37738,     0.37838,     0.37938,     0.38038,     0.38138,     0.38238,     0.38338,\n",
       "           0.38438,     0.38539,     0.38639,     0.38739,     0.38839,     0.38939,     0.39039,     0.39139,     0.39239,     0.39339,     0.39439,      0.3954,      0.3964,      0.3974,      0.3984,      0.3994,      0.4004,      0.4014,      0.4024,      0.4034,      0.4044,     0.40541,     0.40641,     0.40741,\n",
       "           0.40841,     0.40941,     0.41041,     0.41141,     0.41241,     0.41341,     0.41441,     0.41542,     0.41642,     0.41742,     0.41842,     0.41942,     0.42042,     0.42142,     0.42242,     0.42342,     0.42442,     0.42543,     0.42643,     0.42743,     0.42843,     0.42943,     0.43043,     0.43143,\n",
       "           0.43243,     0.43343,     0.43443,     0.43544,     0.43644,     0.43744,     0.43844,     0.43944,     0.44044,     0.44144,     0.44244,     0.44344,     0.44444,     0.44545,     0.44645,     0.44745,     0.44845,     0.44945,     0.45045,     0.45145,     0.45245,     0.45345,     0.45445,     0.45546,\n",
       "           0.45646,     0.45746,     0.45846,     0.45946,     0.46046,     0.46146,     0.46246,     0.46346,     0.46446,     0.46547,     0.46647,     0.46747,     0.46847,     0.46947,     0.47047,     0.47147,     0.47247,     0.47347,     0.47447,     0.47548,     0.47648,     0.47748,     0.47848,     0.47948,\n",
       "           0.48048,     0.48148,     0.48248,     0.48348,     0.48448,     0.48549,     0.48649,     0.48749,     0.48849,     0.48949,     0.49049,     0.49149,     0.49249,     0.49349,     0.49449,      0.4955,      0.4965,      0.4975,      0.4985,      0.4995,      0.5005,      0.5015,      0.5025,      0.5035,\n",
       "            0.5045,     0.50551,     0.50651,     0.50751,     0.50851,     0.50951,     0.51051,     0.51151,     0.51251,     0.51351,     0.51451,     0.51552,     0.51652,     0.51752,     0.51852,     0.51952,     0.52052,     0.52152,     0.52252,     0.52352,     0.52452,     0.52553,     0.52653,     0.52753,\n",
       "           0.52853,     0.52953,     0.53053,     0.53153,     0.53253,     0.53353,     0.53453,     0.53554,     0.53654,     0.53754,     0.53854,     0.53954,     0.54054,     0.54154,     0.54254,     0.54354,     0.54454,     0.54555,     0.54655,     0.54755,     0.54855,     0.54955,     0.55055,     0.55155,\n",
       "           0.55255,     0.55355,     0.55455,     0.55556,     0.55656,     0.55756,     0.55856,     0.55956,     0.56056,     0.56156,     0.56256,     0.56356,     0.56456,     0.56557,     0.56657,     0.56757,     0.56857,     0.56957,     0.57057,     0.57157,     0.57257,     0.57357,     0.57457,     0.57558,\n",
       "           0.57658,     0.57758,     0.57858,     0.57958,     0.58058,     0.58158,     0.58258,     0.58358,     0.58458,     0.58559,     0.58659,     0.58759,     0.58859,     0.58959,     0.59059,     0.59159,     0.59259,     0.59359,     0.59459,      0.5956,      0.5966,      0.5976,      0.5986,      0.5996,\n",
       "            0.6006,      0.6016,      0.6026,      0.6036,      0.6046,     0.60561,     0.60661,     0.60761,     0.60861,     0.60961,     0.61061,     0.61161,     0.61261,     0.61361,     0.61461,     0.61562,     0.61662,     0.61762,     0.61862,     0.61962,     0.62062,     0.62162,     0.62262,     0.62362,\n",
       "           0.62462,     0.62563,     0.62663,     0.62763,     0.62863,     0.62963,     0.63063,     0.63163,     0.63263,     0.63363,     0.63463,     0.63564,     0.63664,     0.63764,     0.63864,     0.63964,     0.64064,     0.64164,     0.64264,     0.64364,     0.64464,     0.64565,     0.64665,     0.64765,\n",
       "           0.64865,     0.64965,     0.65065,     0.65165,     0.65265,     0.65365,     0.65465,     0.65566,     0.65666,     0.65766,     0.65866,     0.65966,     0.66066,     0.66166,     0.66266,     0.66366,     0.66466,     0.66567,     0.66667,     0.66767,     0.66867,     0.66967,     0.67067,     0.67167,\n",
       "           0.67267,     0.67367,     0.67467,     0.67568,     0.67668,     0.67768,     0.67868,     0.67968,     0.68068,     0.68168,     0.68268,     0.68368,     0.68468,     0.68569,     0.68669,     0.68769,     0.68869,     0.68969,     0.69069,     0.69169,     0.69269,     0.69369,     0.69469,      0.6957,\n",
       "            0.6967,      0.6977,      0.6987,      0.6997,      0.7007,      0.7017,      0.7027,      0.7037,      0.7047,     0.70571,     0.70671,     0.70771,     0.70871,     0.70971,     0.71071,     0.71171,     0.71271,     0.71371,     0.71471,     0.71572,     0.71672,     0.71772,     0.71872,     0.71972,\n",
       "           0.72072,     0.72172,     0.72272,     0.72372,     0.72472,     0.72573,     0.72673,     0.72773,     0.72873,     0.72973,     0.73073,     0.73173,     0.73273,     0.73373,     0.73473,     0.73574,     0.73674,     0.73774,     0.73874,     0.73974,     0.74074,     0.74174,     0.74274,     0.74374,\n",
       "           0.74474,     0.74575,     0.74675,     0.74775,     0.74875,     0.74975,     0.75075,     0.75175,     0.75275,     0.75375,     0.75475,     0.75576,     0.75676,     0.75776,     0.75876,     0.75976,     0.76076,     0.76176,     0.76276,     0.76376,     0.76476,     0.76577,     0.76677,     0.76777,\n",
       "           0.76877,     0.76977,     0.77077,     0.77177,     0.77277,     0.77377,     0.77477,     0.77578,     0.77678,     0.77778,     0.77878,     0.77978,     0.78078,     0.78178,     0.78278,     0.78378,     0.78478,     0.78579,     0.78679,     0.78779,     0.78879,     0.78979,     0.79079,     0.79179,\n",
       "           0.79279,     0.79379,     0.79479,      0.7958,      0.7968,      0.7978,      0.7988,      0.7998,      0.8008,      0.8018,      0.8028,      0.8038,      0.8048,     0.80581,     0.80681,     0.80781,     0.80881,     0.80981,     0.81081,     0.81181,     0.81281,     0.81381,     0.81481,     0.81582,\n",
       "           0.81682,     0.81782,     0.81882,     0.81982,     0.82082,     0.82182,     0.82282,     0.82382,     0.82482,     0.82583,     0.82683,     0.82783,     0.82883,     0.82983,     0.83083,     0.83183,     0.83283,     0.83383,     0.83483,     0.83584,     0.83684,     0.83784,     0.83884,     0.83984,\n",
       "           0.84084,     0.84184,     0.84284,     0.84384,     0.84484,     0.84585,     0.84685,     0.84785,     0.84885,     0.84985,     0.85085,     0.85185,     0.85285,     0.85385,     0.85485,     0.85586,     0.85686,     0.85786,     0.85886,     0.85986,     0.86086,     0.86186,     0.86286,     0.86386,\n",
       "           0.86486,     0.86587,     0.86687,     0.86787,     0.86887,     0.86987,     0.87087,     0.87187,     0.87287,     0.87387,     0.87487,     0.87588,     0.87688,     0.87788,     0.87888,     0.87988,     0.88088,     0.88188,     0.88288,     0.88388,     0.88488,     0.88589,     0.88689,     0.88789,\n",
       "           0.88889,     0.88989,     0.89089,     0.89189,     0.89289,     0.89389,     0.89489,      0.8959,      0.8969,      0.8979,      0.8989,      0.8999,      0.9009,      0.9019,      0.9029,      0.9039,      0.9049,     0.90591,     0.90691,     0.90791,     0.90891,     0.90991,     0.91091,     0.91191,\n",
       "           0.91291,     0.91391,     0.91491,     0.91592,     0.91692,     0.91792,     0.91892,     0.91992,     0.92092,     0.92192,     0.92292,     0.92392,     0.92492,     0.92593,     0.92693,     0.92793,     0.92893,     0.92993,     0.93093,     0.93193,     0.93293,     0.93393,     0.93493,     0.93594,\n",
       "           0.93694,     0.93794,     0.93894,     0.93994,     0.94094,     0.94194,     0.94294,     0.94394,     0.94494,     0.94595,     0.94695,     0.94795,     0.94895,     0.94995,     0.95095,     0.95195,     0.95295,     0.95395,     0.95495,     0.95596,     0.95696,     0.95796,     0.95896,     0.95996,\n",
       "           0.96096,     0.96196,     0.96296,     0.96396,     0.96496,     0.96597,     0.96697,     0.96797,     0.96897,     0.96997,     0.97097,     0.97197,     0.97297,     0.97397,     0.97497,     0.97598,     0.97698,     0.97798,     0.97898,     0.97998,     0.98098,     0.98198,     0.98298,     0.98398,\n",
       "           0.98498,     0.98599,     0.98699,     0.98799,     0.98899,     0.98999,     0.99099,     0.99199,     0.99299,     0.99399,     0.99499,       0.996,       0.997,       0.998,       0.999,           1]), array([[    0.27006,     0.27012,     0.31314,      0.3394,     0.35782,     0.37312,     0.38549,     0.39607,     0.40513,     0.41319,     0.42028,     0.42691,     0.43396,     0.44263,     0.45135,     0.46087,     0.47018,     0.47885,     0.48705,     0.49478,     0.50143,     0.50764,      0.5137,\n",
       "            0.51926,     0.52431,     0.52975,     0.53436,     0.53857,     0.54276,     0.54643,     0.55034,     0.55407,     0.55751,     0.56069,     0.56375,      0.5669,     0.57008,      0.5727,     0.57553,      0.5782,     0.58118,     0.58375,     0.58635,     0.58876,     0.59128,     0.59378,\n",
       "            0.59616,     0.59868,     0.60109,     0.60355,     0.60581,     0.60779,     0.60988,     0.61217,      0.6144,     0.61627,     0.61819,     0.61981,      0.6218,     0.62391,     0.62584,     0.62769,     0.62963,     0.63169,     0.63346,      0.6352,     0.63681,      0.6384,     0.64039,\n",
       "            0.64205,     0.64369,     0.64552,      0.6469,     0.64841,     0.65014,     0.65166,     0.65316,      0.6545,     0.65622,     0.65772,     0.65906,      0.6605,     0.66209,     0.66324,     0.66442,     0.66589,     0.66728,     0.66878,     0.67016,     0.67132,     0.67237,      0.6739,\n",
       "            0.67483,     0.67573,     0.67726,     0.67857,     0.67983,     0.68095,     0.68198,     0.68333,     0.68437,     0.68557,     0.68675,     0.68782,     0.68914,     0.68997,     0.69107,     0.69227,     0.69335,     0.69436,     0.69519,     0.69605,     0.69708,      0.6981,     0.69907,\n",
       "             0.7001,      0.7008,     0.70215,     0.70323,     0.70397,     0.70487,     0.70591,     0.70663,     0.70743,      0.7084,     0.70929,     0.71043,     0.71143,     0.71205,     0.71297,     0.71392,     0.71467,     0.71542,     0.71623,     0.71696,     0.71784,     0.71873,     0.71967,\n",
       "            0.72057,     0.72153,     0.72232,     0.72333,     0.72411,     0.72493,     0.72587,     0.72689,     0.72772,     0.72846,     0.72933,     0.72993,      0.7305,     0.73127,     0.73185,     0.73297,     0.73346,     0.73419,     0.73512,     0.73601,     0.73651,     0.73718,     0.73797,\n",
       "            0.73836,     0.73914,     0.73983,      0.7406,     0.74125,     0.74171,     0.74219,     0.74275,     0.74317,      0.7439,     0.74467,     0.74533,      0.7461,     0.74664,     0.74725,     0.74795,     0.74863,     0.74929,     0.74983,     0.75048,     0.75102,     0.75157,     0.75238,\n",
       "            0.75302,      0.7538,     0.75447,     0.75488,     0.75562,     0.75625,     0.75666,     0.75726,      0.7576,       0.758,     0.75832,      0.7589,     0.75954,     0.76001,     0.76059,     0.76113,     0.76178,     0.76216,     0.76272,     0.76345,     0.76396,     0.76445,      0.7649,\n",
       "            0.76544,     0.76567,     0.76627,     0.76656,     0.76707,     0.76739,     0.76764,     0.76813,     0.76854,     0.76912,     0.76972,     0.77018,     0.77064,     0.77102,     0.77139,     0.77179,     0.77214,     0.77275,     0.77339,     0.77386,     0.77436,     0.77496,     0.77546,\n",
       "            0.77587,     0.77645,      0.7769,     0.77728,     0.77782,     0.77829,     0.77859,     0.77903,     0.77945,     0.77968,     0.78017,     0.78056,     0.78073,     0.78113,     0.78151,     0.78195,     0.78222,     0.78257,     0.78317,     0.78352,     0.78395,     0.78416,     0.78448,\n",
       "            0.78499,     0.78535,      0.7861,     0.78643,     0.78669,     0.78702,     0.78742,     0.78787,     0.78834,     0.78861,     0.78885,     0.78906,      0.7893,     0.78993,      0.7903,     0.79044,     0.79065,     0.79108,     0.79142,     0.79177,       0.792,     0.79245,     0.79269,\n",
       "            0.79307,     0.79324,     0.79345,     0.79393,     0.79429,     0.79484,     0.79502,     0.79545,     0.79562,     0.79601,      0.7963,     0.79643,     0.79668,      0.7969,     0.79711,     0.79731,     0.79769,     0.79794,     0.79832,     0.79847,     0.79884,     0.79901,     0.79945,\n",
       "            0.79986,     0.80023,     0.80049,      0.8006,     0.80099,     0.80121,     0.80155,     0.80187,     0.80219,     0.80235,     0.80277,     0.80292,     0.80282,     0.80312,     0.80329,     0.80344,     0.80373,     0.80383,     0.80406,     0.80441,     0.80445,     0.80435,     0.80464,\n",
       "            0.80465,     0.80471,      0.8048,     0.80513,     0.80527,     0.80523,     0.80547,      0.8057,     0.80572,     0.80593,     0.80633,     0.80661,     0.80679,     0.80694,      0.8074,     0.80767,       0.808,     0.80819,     0.80823,     0.80852,     0.80877,     0.80894,     0.80907,\n",
       "            0.80909,     0.80936,     0.80942,     0.80942,     0.80948,     0.80972,     0.81003,     0.81022,     0.81035,     0.81034,     0.81048,     0.81067,     0.81104,     0.81119,     0.81125,      0.8114,     0.81142,     0.81143,     0.81152,     0.81175,     0.81194,     0.81192,     0.81217,\n",
       "            0.81216,     0.81209,     0.81233,     0.81239,     0.81236,     0.81238,     0.81234,     0.81239,     0.81256,     0.81273,     0.81267,     0.81269,     0.81288,     0.81309,     0.81306,     0.81317,     0.81306,     0.81286,     0.81304,     0.81298,     0.81287,      0.8131,      0.8132,\n",
       "            0.81322,     0.81316,     0.81321,      0.8136,     0.81379,     0.81389,     0.81391,     0.81395,     0.81408,     0.81395,      0.8141,     0.81409,     0.81403,     0.81395,     0.81378,     0.81387,     0.81389,     0.81368,     0.81384,     0.81395,     0.81393,     0.81371,     0.81371,\n",
       "            0.81351,     0.81343,     0.81368,     0.81371,     0.81389,     0.81395,     0.81392,     0.81386,     0.81366,     0.81359,     0.81354,     0.81356,     0.81373,     0.81406,     0.81412,     0.81423,     0.81425,     0.81436,     0.81454,     0.81442,      0.8143,     0.81434,     0.81424,\n",
       "            0.81433,     0.81397,     0.81363,     0.81379,      0.8139,      0.8138,     0.81373,     0.81351,     0.81353,      0.8133,     0.81347,      0.8132,     0.81337,     0.81302,     0.81291,     0.81274,     0.81243,     0.81234,     0.81231,     0.81187,     0.81175,     0.81176,     0.81143,\n",
       "            0.81103,     0.81067,     0.81062,     0.81048,     0.81018,     0.80999,     0.80983,     0.80948,     0.80916,       0.809,     0.80896,     0.80895,     0.80864,     0.80855,     0.80832,     0.80817,      0.8079,     0.80789,     0.80776,     0.80763,     0.80751,     0.80729,     0.80683,\n",
       "            0.80681,     0.80653,      0.8064,     0.80638,      0.8063,     0.80608,     0.80575,     0.80534,     0.80519,     0.80505,     0.80494,     0.80466,     0.80426,     0.80378,     0.80366,     0.80362,     0.80351,      0.8034,      0.8032,     0.80291,     0.80273,     0.80222,     0.80202,\n",
       "            0.80198,     0.80173,     0.80132,     0.80098,     0.80073,     0.80031,     0.80018,     0.80018,     0.80009,     0.80008,     0.79987,     0.79969,     0.79954,     0.79933,     0.79921,     0.79902,     0.79859,      0.7984,     0.79808,       0.798,     0.79763,     0.79736,     0.79691,\n",
       "            0.79706,     0.79686,     0.79661,      0.7962,     0.79587,     0.79551,     0.79506,     0.79485,     0.79465,      0.7944,     0.79397,     0.79376,     0.79324,     0.79301,     0.79274,     0.79215,      0.7918,     0.79152,     0.79086,     0.79037,     0.79041,     0.78995,     0.78954,\n",
       "            0.78906,     0.78859,     0.78823,     0.78779,     0.78753,     0.78727,     0.78689,     0.78653,      0.7861,     0.78576,     0.78541,     0.78471,     0.78439,     0.78362,     0.78337,     0.78335,     0.78288,     0.78237,     0.78187,     0.78149,     0.78106,     0.78038,     0.78015,\n",
       "            0.77956,     0.77908,     0.77837,     0.77794,     0.77744,      0.7772,     0.77653,     0.77605,      0.7753,     0.77451,     0.77399,     0.77342,     0.77289,     0.77237,     0.77125,     0.77045,     0.76986,     0.76899,     0.76827,     0.76723,     0.76659,     0.76595,     0.76532,\n",
       "             0.7644,     0.76384,     0.76328,     0.76266,     0.76207,     0.76154,     0.76082,     0.76015,     0.75933,     0.75905,     0.75885,      0.7584,     0.75769,     0.75708,     0.75638,     0.75587,     0.75541,     0.75441,     0.75375,     0.75272,     0.75218,     0.75151,      0.7506,\n",
       "            0.74973,     0.74927,     0.74868,      0.7473,     0.74687,     0.74598,     0.74499,     0.74439,     0.74372,     0.74286,     0.74229,     0.74129,     0.74049,      0.7396,     0.73847,     0.73763,     0.73665,      0.7353,     0.73427,     0.73315,     0.73176,     0.73068,     0.72966,\n",
       "            0.72845,     0.72753,     0.72638,      0.7255,     0.72489,     0.72367,     0.72229,     0.72127,     0.72008,     0.71903,     0.71821,     0.71717,     0.71637,     0.71566,     0.71412,     0.71253,     0.71141,     0.71019,      0.7093,     0.70847,     0.70766,     0.70612,     0.70484,\n",
       "              0.704,     0.70253,     0.70111,     0.69962,     0.69828,     0.69647,     0.69555,     0.69366,     0.69229,     0.69114,     0.68984,     0.68858,     0.68692,      0.6854,     0.68379,     0.68226,     0.68056,     0.67918,     0.67745,     0.67567,     0.67342,     0.67156,     0.66989,\n",
       "            0.66819,     0.66581,     0.66364,     0.66175,     0.65924,     0.65737,     0.65521,     0.65334,     0.65071,     0.64816,     0.64569,     0.64354,      0.6415,     0.63884,     0.63658,     0.63404,     0.63198,     0.62913,     0.62655,     0.62348,     0.62024,     0.61747,     0.61391,\n",
       "            0.61111,     0.60808,     0.60523,     0.60142,      0.5979,      0.5941,     0.59022,     0.58588,      0.5827,     0.57912,     0.57524,     0.57119,     0.56776,     0.56392,     0.55959,     0.55627,     0.55253,     0.54935,     0.54613,     0.54153,     0.53718,     0.53272,     0.52931,\n",
       "            0.52546,      0.5207,     0.51641,     0.51233,     0.50786,      0.5048,     0.49995,     0.49539,     0.49098,     0.48565,     0.48056,     0.47542,     0.47124,     0.46614,     0.46251,     0.45761,     0.45358,     0.44905,     0.44438,     0.44013,      0.4355,     0.43057,     0.42573,\n",
       "            0.42063,     0.41587,     0.41172,     0.40681,     0.40296,     0.39948,     0.39452,     0.39019,     0.38583,     0.38034,     0.37588,     0.37198,     0.36761,     0.36469,     0.36044,     0.35621,     0.35088,     0.34657,     0.34189,     0.33766,      0.3329,     0.32813,     0.32366,\n",
       "            0.31955,     0.31451,     0.30992,     0.30512,     0.30178,     0.29679,     0.29227,     0.28762,     0.28276,     0.27857,     0.27444,     0.26898,     0.26289,     0.25702,      0.2524,     0.24805,     0.24254,     0.23871,     0.23403,     0.22888,     0.22417,     0.21879,     0.21459,\n",
       "            0.21019,     0.20593,     0.20071,     0.19607,     0.19239,      0.1885,     0.18494,     0.18098,     0.17482,     0.17037,       0.166,     0.16061,     0.15484,     0.14985,     0.14459,     0.13994,     0.13541,     0.13047,     0.12629,     0.12104,     0.11621,     0.11189,     0.10749,\n",
       "             0.1033,     0.10007,    0.097101,    0.093688,    0.090622,    0.086836,    0.084071,    0.080951,    0.077911,    0.074955,    0.071972,    0.069814,    0.067332,    0.064844,    0.063297,    0.061081,    0.059107,    0.057755,    0.055919,    0.054715,    0.052605,    0.050573,    0.049317,\n",
       "           0.048188,    0.046862,    0.045724,    0.044562,    0.043415,    0.041958,    0.040779,    0.039577,     0.03846,    0.037413,    0.036771,    0.035733,    0.034822,    0.034175,    0.033538,     0.03258,     0.03213,    0.031458,     0.03067,    0.029664,    0.028674,    0.027976,    0.027729,\n",
       "           0.027355,    0.026651,    0.025124,    0.024646,    0.024024,    0.023321,     0.02296,    0.022582,     0.02186,    0.021395,     0.02055,    0.019474,    0.018817,    0.018184,     0.01753,    0.017216,    0.016836,    0.016495,    0.015748,    0.015261,    0.014766,    0.014616,    0.013781,\n",
       "           0.013341,    0.013013,    0.012628,    0.012447,    0.012017,    0.011745,    0.011021,    0.010518,    0.010362,   0.0096823,    0.009177,   0.0086038,   0.0082198,   0.0079891,   0.0077443,   0.0074835,   0.0073539,   0.0072479,    0.007155,   0.0067123,   0.0062464,   0.0060359,   0.0058551,\n",
       "          0.0055436,   0.0052357,    0.004804,   0.0045245,   0.0042492,   0.0040464,   0.0039043,   0.0038207,   0.0035793,   0.0035238,   0.0034338,   0.0032369,   0.0028984,   0.0025691,   0.0021765,    0.002064,   0.0019395,   0.0017799,   0.0016811,   0.0016142,   0.0015128,    0.001417,   0.0013264,\n",
       "            0.00117,  0.00092215,  0.00086163,  0.00072849,  0.00066484,   0.0004594,  0.00039397,  0.00035868,   0.0003234,  0.00029924,  0.00027721,  0.00025519,  0.00023316,   0.0002071,           0,           0,           0,           0,           0,           0,           0,           0,           0,\n",
       "                  0,           0,           0,           0,           0,           0,           0,           0,           0,           0,           0,           0,           0,           0,           0,           0,           0,           0,           0,           0,           0,           0,           0,\n",
       "                  0,           0,           0,           0,           0,           0,           0,           0,           0,           0,           0]]), 'Confidence', 'F1'], [array([          0,    0.001001,    0.002002,    0.003003,    0.004004,    0.005005,    0.006006,    0.007007,    0.008008,    0.009009,     0.01001,    0.011011,    0.012012,    0.013013,    0.014014,    0.015015,    0.016016,    0.017017,    0.018018,    0.019019,     0.02002,    0.021021,    0.022022,    0.023023,\n",
       "          0.024024,    0.025025,    0.026026,    0.027027,    0.028028,    0.029029,     0.03003,    0.031031,    0.032032,    0.033033,    0.034034,    0.035035,    0.036036,    0.037037,    0.038038,    0.039039,     0.04004,    0.041041,    0.042042,    0.043043,    0.044044,    0.045045,    0.046046,    0.047047,\n",
       "          0.048048,    0.049049,     0.05005,    0.051051,    0.052052,    0.053053,    0.054054,    0.055055,    0.056056,    0.057057,    0.058058,    0.059059,     0.06006,    0.061061,    0.062062,    0.063063,    0.064064,    0.065065,    0.066066,    0.067067,    0.068068,    0.069069,     0.07007,    0.071071,\n",
       "          0.072072,    0.073073,    0.074074,    0.075075,    0.076076,    0.077077,    0.078078,    0.079079,     0.08008,    0.081081,    0.082082,    0.083083,    0.084084,    0.085085,    0.086086,    0.087087,    0.088088,    0.089089,     0.09009,    0.091091,    0.092092,    0.093093,    0.094094,    0.095095,\n",
       "          0.096096,    0.097097,    0.098098,    0.099099,      0.1001,      0.1011,      0.1021,      0.1031,      0.1041,     0.10511,     0.10611,     0.10711,     0.10811,     0.10911,     0.11011,     0.11111,     0.11211,     0.11311,     0.11411,     0.11512,     0.11612,     0.11712,     0.11812,     0.11912,\n",
       "           0.12012,     0.12112,     0.12212,     0.12312,     0.12412,     0.12513,     0.12613,     0.12713,     0.12813,     0.12913,     0.13013,     0.13113,     0.13213,     0.13313,     0.13413,     0.13514,     0.13614,     0.13714,     0.13814,     0.13914,     0.14014,     0.14114,     0.14214,     0.14314,\n",
       "           0.14414,     0.14515,     0.14615,     0.14715,     0.14815,     0.14915,     0.15015,     0.15115,     0.15215,     0.15315,     0.15415,     0.15516,     0.15616,     0.15716,     0.15816,     0.15916,     0.16016,     0.16116,     0.16216,     0.16316,     0.16416,     0.16517,     0.16617,     0.16717,\n",
       "           0.16817,     0.16917,     0.17017,     0.17117,     0.17217,     0.17317,     0.17417,     0.17518,     0.17618,     0.17718,     0.17818,     0.17918,     0.18018,     0.18118,     0.18218,     0.18318,     0.18418,     0.18519,     0.18619,     0.18719,     0.18819,     0.18919,     0.19019,     0.19119,\n",
       "           0.19219,     0.19319,     0.19419,      0.1952,      0.1962,      0.1972,      0.1982,      0.1992,      0.2002,      0.2012,      0.2022,      0.2032,      0.2042,     0.20521,     0.20621,     0.20721,     0.20821,     0.20921,     0.21021,     0.21121,     0.21221,     0.21321,     0.21421,     0.21522,\n",
       "           0.21622,     0.21722,     0.21822,     0.21922,     0.22022,     0.22122,     0.22222,     0.22322,     0.22422,     0.22523,     0.22623,     0.22723,     0.22823,     0.22923,     0.23023,     0.23123,     0.23223,     0.23323,     0.23423,     0.23524,     0.23624,     0.23724,     0.23824,     0.23924,\n",
       "           0.24024,     0.24124,     0.24224,     0.24324,     0.24424,     0.24525,     0.24625,     0.24725,     0.24825,     0.24925,     0.25025,     0.25125,     0.25225,     0.25325,     0.25425,     0.25526,     0.25626,     0.25726,     0.25826,     0.25926,     0.26026,     0.26126,     0.26226,     0.26326,\n",
       "           0.26426,     0.26527,     0.26627,     0.26727,     0.26827,     0.26927,     0.27027,     0.27127,     0.27227,     0.27327,     0.27427,     0.27528,     0.27628,     0.27728,     0.27828,     0.27928,     0.28028,     0.28128,     0.28228,     0.28328,     0.28428,     0.28529,     0.28629,     0.28729,\n",
       "           0.28829,     0.28929,     0.29029,     0.29129,     0.29229,     0.29329,     0.29429,      0.2953,      0.2963,      0.2973,      0.2983,      0.2993,      0.3003,      0.3013,      0.3023,      0.3033,      0.3043,     0.30531,     0.30631,     0.30731,     0.30831,     0.30931,     0.31031,     0.31131,\n",
       "           0.31231,     0.31331,     0.31431,     0.31532,     0.31632,     0.31732,     0.31832,     0.31932,     0.32032,     0.32132,     0.32232,     0.32332,     0.32432,     0.32533,     0.32633,     0.32733,     0.32833,     0.32933,     0.33033,     0.33133,     0.33233,     0.33333,     0.33433,     0.33534,\n",
       "           0.33634,     0.33734,     0.33834,     0.33934,     0.34034,     0.34134,     0.34234,     0.34334,     0.34434,     0.34535,     0.34635,     0.34735,     0.34835,     0.34935,     0.35035,     0.35135,     0.35235,     0.35335,     0.35435,     0.35536,     0.35636,     0.35736,     0.35836,     0.35936,\n",
       "           0.36036,     0.36136,     0.36236,     0.36336,     0.36436,     0.36537,     0.36637,     0.36737,     0.36837,     0.36937,     0.37037,     0.37137,     0.37237,     0.37337,     0.37437,     0.37538,     0.37638,     0.37738,     0.37838,     0.37938,     0.38038,     0.38138,     0.38238,     0.38338,\n",
       "           0.38438,     0.38539,     0.38639,     0.38739,     0.38839,     0.38939,     0.39039,     0.39139,     0.39239,     0.39339,     0.39439,      0.3954,      0.3964,      0.3974,      0.3984,      0.3994,      0.4004,      0.4014,      0.4024,      0.4034,      0.4044,     0.40541,     0.40641,     0.40741,\n",
       "           0.40841,     0.40941,     0.41041,     0.41141,     0.41241,     0.41341,     0.41441,     0.41542,     0.41642,     0.41742,     0.41842,     0.41942,     0.42042,     0.42142,     0.42242,     0.42342,     0.42442,     0.42543,     0.42643,     0.42743,     0.42843,     0.42943,     0.43043,     0.43143,\n",
       "           0.43243,     0.43343,     0.43443,     0.43544,     0.43644,     0.43744,     0.43844,     0.43944,     0.44044,     0.44144,     0.44244,     0.44344,     0.44444,     0.44545,     0.44645,     0.44745,     0.44845,     0.44945,     0.45045,     0.45145,     0.45245,     0.45345,     0.45445,     0.45546,\n",
       "           0.45646,     0.45746,     0.45846,     0.45946,     0.46046,     0.46146,     0.46246,     0.46346,     0.46446,     0.46547,     0.46647,     0.46747,     0.46847,     0.46947,     0.47047,     0.47147,     0.47247,     0.47347,     0.47447,     0.47548,     0.47648,     0.47748,     0.47848,     0.47948,\n",
       "           0.48048,     0.48148,     0.48248,     0.48348,     0.48448,     0.48549,     0.48649,     0.48749,     0.48849,     0.48949,     0.49049,     0.49149,     0.49249,     0.49349,     0.49449,      0.4955,      0.4965,      0.4975,      0.4985,      0.4995,      0.5005,      0.5015,      0.5025,      0.5035,\n",
       "            0.5045,     0.50551,     0.50651,     0.50751,     0.50851,     0.50951,     0.51051,     0.51151,     0.51251,     0.51351,     0.51451,     0.51552,     0.51652,     0.51752,     0.51852,     0.51952,     0.52052,     0.52152,     0.52252,     0.52352,     0.52452,     0.52553,     0.52653,     0.52753,\n",
       "           0.52853,     0.52953,     0.53053,     0.53153,     0.53253,     0.53353,     0.53453,     0.53554,     0.53654,     0.53754,     0.53854,     0.53954,     0.54054,     0.54154,     0.54254,     0.54354,     0.54454,     0.54555,     0.54655,     0.54755,     0.54855,     0.54955,     0.55055,     0.55155,\n",
       "           0.55255,     0.55355,     0.55455,     0.55556,     0.55656,     0.55756,     0.55856,     0.55956,     0.56056,     0.56156,     0.56256,     0.56356,     0.56456,     0.56557,     0.56657,     0.56757,     0.56857,     0.56957,     0.57057,     0.57157,     0.57257,     0.57357,     0.57457,     0.57558,\n",
       "           0.57658,     0.57758,     0.57858,     0.57958,     0.58058,     0.58158,     0.58258,     0.58358,     0.58458,     0.58559,     0.58659,     0.58759,     0.58859,     0.58959,     0.59059,     0.59159,     0.59259,     0.59359,     0.59459,      0.5956,      0.5966,      0.5976,      0.5986,      0.5996,\n",
       "            0.6006,      0.6016,      0.6026,      0.6036,      0.6046,     0.60561,     0.60661,     0.60761,     0.60861,     0.60961,     0.61061,     0.61161,     0.61261,     0.61361,     0.61461,     0.61562,     0.61662,     0.61762,     0.61862,     0.61962,     0.62062,     0.62162,     0.62262,     0.62362,\n",
       "           0.62462,     0.62563,     0.62663,     0.62763,     0.62863,     0.62963,     0.63063,     0.63163,     0.63263,     0.63363,     0.63463,     0.63564,     0.63664,     0.63764,     0.63864,     0.63964,     0.64064,     0.64164,     0.64264,     0.64364,     0.64464,     0.64565,     0.64665,     0.64765,\n",
       "           0.64865,     0.64965,     0.65065,     0.65165,     0.65265,     0.65365,     0.65465,     0.65566,     0.65666,     0.65766,     0.65866,     0.65966,     0.66066,     0.66166,     0.66266,     0.66366,     0.66466,     0.66567,     0.66667,     0.66767,     0.66867,     0.66967,     0.67067,     0.67167,\n",
       "           0.67267,     0.67367,     0.67467,     0.67568,     0.67668,     0.67768,     0.67868,     0.67968,     0.68068,     0.68168,     0.68268,     0.68368,     0.68468,     0.68569,     0.68669,     0.68769,     0.68869,     0.68969,     0.69069,     0.69169,     0.69269,     0.69369,     0.69469,      0.6957,\n",
       "            0.6967,      0.6977,      0.6987,      0.6997,      0.7007,      0.7017,      0.7027,      0.7037,      0.7047,     0.70571,     0.70671,     0.70771,     0.70871,     0.70971,     0.71071,     0.71171,     0.71271,     0.71371,     0.71471,     0.71572,     0.71672,     0.71772,     0.71872,     0.71972,\n",
       "           0.72072,     0.72172,     0.72272,     0.72372,     0.72472,     0.72573,     0.72673,     0.72773,     0.72873,     0.72973,     0.73073,     0.73173,     0.73273,     0.73373,     0.73473,     0.73574,     0.73674,     0.73774,     0.73874,     0.73974,     0.74074,     0.74174,     0.74274,     0.74374,\n",
       "           0.74474,     0.74575,     0.74675,     0.74775,     0.74875,     0.74975,     0.75075,     0.75175,     0.75275,     0.75375,     0.75475,     0.75576,     0.75676,     0.75776,     0.75876,     0.75976,     0.76076,     0.76176,     0.76276,     0.76376,     0.76476,     0.76577,     0.76677,     0.76777,\n",
       "           0.76877,     0.76977,     0.77077,     0.77177,     0.77277,     0.77377,     0.77477,     0.77578,     0.77678,     0.77778,     0.77878,     0.77978,     0.78078,     0.78178,     0.78278,     0.78378,     0.78478,     0.78579,     0.78679,     0.78779,     0.78879,     0.78979,     0.79079,     0.79179,\n",
       "           0.79279,     0.79379,     0.79479,      0.7958,      0.7968,      0.7978,      0.7988,      0.7998,      0.8008,      0.8018,      0.8028,      0.8038,      0.8048,     0.80581,     0.80681,     0.80781,     0.80881,     0.80981,     0.81081,     0.81181,     0.81281,     0.81381,     0.81481,     0.81582,\n",
       "           0.81682,     0.81782,     0.81882,     0.81982,     0.82082,     0.82182,     0.82282,     0.82382,     0.82482,     0.82583,     0.82683,     0.82783,     0.82883,     0.82983,     0.83083,     0.83183,     0.83283,     0.83383,     0.83483,     0.83584,     0.83684,     0.83784,     0.83884,     0.83984,\n",
       "           0.84084,     0.84184,     0.84284,     0.84384,     0.84484,     0.84585,     0.84685,     0.84785,     0.84885,     0.84985,     0.85085,     0.85185,     0.85285,     0.85385,     0.85485,     0.85586,     0.85686,     0.85786,     0.85886,     0.85986,     0.86086,     0.86186,     0.86286,     0.86386,\n",
       "           0.86486,     0.86587,     0.86687,     0.86787,     0.86887,     0.86987,     0.87087,     0.87187,     0.87287,     0.87387,     0.87487,     0.87588,     0.87688,     0.87788,     0.87888,     0.87988,     0.88088,     0.88188,     0.88288,     0.88388,     0.88488,     0.88589,     0.88689,     0.88789,\n",
       "           0.88889,     0.88989,     0.89089,     0.89189,     0.89289,     0.89389,     0.89489,      0.8959,      0.8969,      0.8979,      0.8989,      0.8999,      0.9009,      0.9019,      0.9029,      0.9039,      0.9049,     0.90591,     0.90691,     0.90791,     0.90891,     0.90991,     0.91091,     0.91191,\n",
       "           0.91291,     0.91391,     0.91491,     0.91592,     0.91692,     0.91792,     0.91892,     0.91992,     0.92092,     0.92192,     0.92292,     0.92392,     0.92492,     0.92593,     0.92693,     0.92793,     0.92893,     0.92993,     0.93093,     0.93193,     0.93293,     0.93393,     0.93493,     0.93594,\n",
       "           0.93694,     0.93794,     0.93894,     0.93994,     0.94094,     0.94194,     0.94294,     0.94394,     0.94494,     0.94595,     0.94695,     0.94795,     0.94895,     0.94995,     0.95095,     0.95195,     0.95295,     0.95395,     0.95495,     0.95596,     0.95696,     0.95796,     0.95896,     0.95996,\n",
       "           0.96096,     0.96196,     0.96296,     0.96396,     0.96496,     0.96597,     0.96697,     0.96797,     0.96897,     0.96997,     0.97097,     0.97197,     0.97297,     0.97397,     0.97497,     0.97598,     0.97698,     0.97798,     0.97898,     0.97998,     0.98098,     0.98198,     0.98298,     0.98398,\n",
       "           0.98498,     0.98599,     0.98699,     0.98799,     0.98899,     0.98999,     0.99099,     0.99199,     0.99299,     0.99399,     0.99499,       0.996,       0.997,       0.998,       0.999,           1]), array([[    0.15818,     0.15823,     0.18861,     0.20803,     0.22209,     0.23402,      0.2439,     0.25251,     0.25998,      0.2667,     0.27266,     0.27833,     0.28442,     0.29201,     0.29976,     0.30836,     0.31692,     0.32501,     0.33274,     0.34011,     0.34656,     0.35264,     0.35865,\n",
       "            0.36422,     0.36933,     0.37482,     0.37951,      0.3839,     0.38834,     0.39222,     0.39636,     0.40041,     0.40412,     0.40757,     0.41089,     0.41432,     0.41784,     0.42078,     0.42394,     0.42693,     0.43027,     0.43321,     0.43614,     0.43888,     0.44179,     0.44463,\n",
       "             0.4474,     0.45029,     0.45308,     0.45599,     0.45868,     0.46106,     0.46358,     0.46633,     0.46905,     0.47131,     0.47368,     0.47574,     0.47817,     0.48075,     0.48315,     0.48546,     0.48784,     0.49035,     0.49258,     0.49489,     0.49703,      0.4991,     0.50163,\n",
       "            0.50383,     0.50599,     0.50832,     0.51021,      0.5122,     0.51443,     0.51648,     0.51846,     0.52033,      0.5226,     0.52458,     0.52641,      0.5284,     0.53053,     0.53221,     0.53383,     0.53578,     0.53775,     0.53977,     0.54163,     0.54323,     0.54478,      0.5468,\n",
       "            0.54826,     0.54967,     0.55175,     0.55362,     0.55538,     0.55698,     0.55847,      0.5603,     0.56184,     0.56359,     0.56536,     0.56699,     0.56894,     0.57016,     0.57177,     0.57354,     0.57518,     0.57662,     0.57804,      0.5794,      0.5809,     0.58248,     0.58395,\n",
       "            0.58551,     0.58669,     0.58863,     0.59022,     0.59134,     0.59281,      0.5944,     0.59572,     0.59707,      0.5986,     0.59998,     0.60166,     0.60329,     0.60431,     0.60572,     0.60723,     0.60843,     0.60966,     0.61091,     0.61213,     0.61353,     0.61502,     0.61639,\n",
       "            0.61787,     0.61943,     0.62078,     0.62236,     0.62363,     0.62501,     0.62655,     0.62815,     0.62947,     0.63087,     0.63226,      0.6334,     0.63444,      0.6359,     0.63683,     0.63857,     0.63957,     0.64083,     0.64231,     0.64379,     0.64465,     0.64574,     0.64713,\n",
       "            0.64804,     0.64938,     0.65051,     0.65178,     0.65298,     0.65379,     0.65472,     0.65575,     0.65662,     0.65789,     0.65917,     0.66034,     0.66176,     0.66286,     0.66404,     0.66524,     0.66645,     0.66772,     0.66877,     0.67001,     0.67097,     0.67207,     0.67347,\n",
       "            0.67459,     0.67598,     0.67723,      0.6782,     0.67962,     0.68085,     0.68179,     0.68293,     0.68379,     0.68465,     0.68548,     0.68658,     0.68782,     0.68884,      0.6899,     0.69087,     0.69215,     0.69303,     0.69409,     0.69537,     0.69639,     0.69736,     0.69837,\n",
       "            0.69933,     0.70005,     0.70119,     0.70191,      0.7029,     0.70378,     0.70441,     0.70538,     0.70631,      0.7075,     0.70856,      0.7095,     0.71057,     0.71148,     0.71235,     0.71311,     0.71404,     0.71529,     0.71654,     0.71746,     0.71855,     0.71962,     0.72051,\n",
       "            0.72146,     0.72255,     0.72337,      0.7243,     0.72543,      0.7265,     0.72727,     0.72815,     0.72901,     0.72972,     0.73067,      0.7316,     0.73237,     0.73333,      0.7342,     0.73523,     0.73598,     0.73685,     0.73809,     0.73903,     0.74013,     0.74081,     0.74164,\n",
       "             0.7428,     0.74362,     0.74517,     0.74606,     0.74684,     0.74764,     0.74867,     0.74967,     0.75077,     0.75165,     0.75242,     0.75324,     0.75403,     0.75532,     0.75612,     0.75677,     0.75746,     0.75841,      0.7593,     0.76026,     0.76108,     0.76222,     0.76312,\n",
       "            0.76402,     0.76483,     0.76553,     0.76657,     0.76747,     0.76868,     0.76934,     0.77035,     0.77103,     0.77205,     0.77301,     0.77358,     0.77443,     0.77514,     0.77595,     0.77676,     0.77772,     0.77864,     0.77947,      0.7803,     0.78146,     0.78217,     0.78331,\n",
       "            0.78424,     0.78526,     0.78614,     0.78655,      0.7875,     0.78817,     0.78929,     0.79029,     0.79133,     0.79188,     0.79291,     0.79342,     0.79379,     0.79471,     0.79535,     0.79609,     0.79697,     0.79747,     0.79823,     0.79929,     0.80004,     0.80052,     0.80136,\n",
       "            0.80178,     0.80234,     0.80297,     0.80405,     0.80471,       0.805,     0.80591,     0.80667,     0.80723,     0.80805,     0.80917,     0.81017,      0.8108,     0.81153,     0.81263,     0.81346,     0.81445,     0.81534,      0.8161,     0.81711,     0.81806,     0.81885,     0.81957,\n",
       "            0.82016,     0.82121,     0.82179,     0.82247,     0.82321,     0.82405,      0.8251,     0.82578,     0.82644,     0.82705,     0.82787,     0.82888,     0.83007,     0.83073,      0.8312,     0.83181,     0.83227,     0.83293,     0.83372,     0.83454,     0.83513,      0.8358,     0.83668,\n",
       "            0.83708,     0.83765,     0.83865,     0.83933,     0.83996,     0.84081,     0.84127,     0.84202,     0.84295,     0.84363,     0.84403,     0.84483,     0.84554,     0.84638,      0.8468,     0.84766,     0.84795,     0.84832,     0.84901,     0.84956,     0.85022,     0.85119,     0.85189,\n",
       "            0.85258,     0.85301,     0.85362,     0.85475,     0.85575,     0.85609,     0.85653,     0.85725,     0.85795,     0.85836,     0.85926,     0.85993,      0.8605,       0.861,      0.8614,     0.86226,     0.86287,     0.86309,      0.8638,     0.86465,     0.86508,     0.86553,     0.86609,\n",
       "            0.86641,     0.86704,     0.86789,     0.86878,     0.86949,     0.87001,     0.87075,      0.8713,     0.87184,     0.87235,     0.87285,     0.87352,     0.87442,     0.87542,     0.87595,     0.87668,     0.87758,     0.87848,     0.87926,     0.87997,     0.88058,     0.88121,     0.88178,\n",
       "            0.88248,     0.88259,     0.88291,     0.88383,     0.88451,     0.88525,     0.88589,      0.8863,     0.88716,     0.88792,     0.88866,     0.88914,     0.88991,     0.89019,     0.89076,     0.89124,     0.89178,     0.89234,     0.89278,     0.89287,     0.89342,     0.89401,     0.89424,\n",
       "            0.89434,     0.89456,     0.89498,     0.89544,     0.89612,      0.8967,     0.89733,     0.89775,     0.89822,     0.89894,     0.89975,     0.90033,     0.90087,     0.90136,     0.90183,     0.90225,     0.90286,     0.90383,      0.9041,     0.90463,     0.90527,     0.90575,     0.90592,\n",
       "            0.90636,     0.90688,     0.90729,     0.90813,     0.90862,     0.90909,     0.90938,     0.90965,     0.91038,     0.91084,     0.91136,     0.91163,     0.91197,      0.9124,     0.91284,     0.91332,     0.91391,     0.91448,     0.91492,     0.91547,     0.91605,     0.91632,     0.91698,\n",
       "            0.91752,     0.91779,     0.91824,      0.9183,     0.91868,     0.91915,     0.91957,     0.92014,      0.9209,     0.92198,     0.92234,     0.92294,     0.92341,     0.92374,      0.9243,     0.92491,     0.92516,      0.9258,     0.92674,     0.92716,     0.92772,     0.92847,     0.92886,\n",
       "            0.92981,     0.93023,     0.93057,     0.93097,     0.93141,     0.93187,     0.93212,     0.93252,     0.93315,     0.93356,     0.93415,     0.93482,     0.93533,     0.93562,     0.93623,     0.93642,     0.93662,     0.93699,     0.93729,     0.93757,     0.93828,     0.93859,     0.93903,\n",
       "            0.93943,     0.93951,     0.94012,     0.94067,     0.94124,     0.94161,      0.9421,     0.94248,     0.94291,     0.94358,     0.94401,      0.9442,     0.94471,     0.94483,     0.94535,     0.94603,     0.94625,     0.94668,     0.94697,     0.94754,     0.94792,     0.94833,     0.94879,\n",
       "            0.94894,     0.94924,     0.94959,     0.94983,     0.95013,     0.95116,     0.95159,      0.9519,     0.95204,     0.95225,     0.95284,      0.9535,     0.95374,     0.95407,     0.95453,     0.95482,     0.95527,     0.95556,     0.95578,     0.95617,     0.95622,     0.95661,     0.95699,\n",
       "            0.95714,     0.95746,     0.95786,     0.95848,     0.95865,      0.9593,     0.95952,     0.95977,     0.96001,     0.96038,     0.96126,     0.96176,     0.96186,     0.96234,     0.96275,     0.96318,     0.96368,       0.964,      0.9641,     0.96426,     0.96453,     0.96495,     0.96497,\n",
       "            0.96522,     0.96542,      0.9657,     0.96574,     0.96628,     0.96665,      0.9671,     0.96779,      0.9681,     0.96834,     0.96887,     0.96913,     0.96948,     0.97008,     0.97026,     0.97062,      0.9708,     0.97105,     0.97141,     0.97159,     0.97184,     0.97231,     0.97256,\n",
       "            0.97266,     0.97295,     0.97331,     0.97377,     0.97425,     0.97479,     0.97523,     0.97561,      0.9759,      0.9762,     0.97651,     0.97707,     0.97747,     0.97771,     0.97763,     0.97782,      0.9784,     0.97843,     0.97884,     0.97898,     0.97944,     0.97951,     0.97964,\n",
       "            0.97988,     0.98009,      0.9803,     0.98061,     0.98111,     0.98132,     0.98165,     0.98205,     0.98219,     0.98245,     0.98286,     0.98329,     0.98342,     0.98356,     0.98369,     0.98413,     0.98446,      0.9849,     0.98514,     0.98538,     0.98581,     0.98615,      0.9865,\n",
       "            0.98676,     0.98699,     0.98724,     0.98734,     0.98753,     0.98768,     0.98773,      0.9882,     0.98824,     0.98838,     0.98853,      0.9888,     0.98875,     0.98868,     0.98895,     0.98944,     0.98972,     0.98977,     0.98993,     0.98998,     0.99013,     0.99041,     0.99045,\n",
       "             0.9905,     0.99043,     0.99073,     0.99088,     0.99093,     0.99097,     0.99113,     0.99129,     0.99185,     0.99191,     0.99222,     0.99227,     0.99233,     0.99239,     0.99231,     0.99238,     0.99258,     0.99253,      0.9926,      0.9928,       0.993,     0.99292,     0.99315,\n",
       "            0.99323,     0.99314,     0.99322,     0.99345,     0.99352,     0.99347,     0.99338,      0.9933,     0.99338,     0.99345,     0.99336,     0.99343,      0.9937,     0.99378,     0.99371,     0.99363,     0.99391,     0.99383,     0.99375,     0.99422,     0.99433,     0.99444,     0.99475,\n",
       "            0.99467,     0.99459,     0.99513,     0.99546,     0.99582,     0.99578,     0.99571,     0.99587,     0.99581,     0.99574,      0.9959,     0.99608,     0.99602,     0.99598,     0.99616,     0.99611,     0.99628,     0.99623,     0.99616,     0.99611,      0.9963,     0.99624,     0.99618,\n",
       "            0.99612,     0.99661,     0.99712,     0.99707,     0.99703,     0.99697,     0.99692,     0.99717,     0.99711,     0.99706,     0.99701,     0.99694,     0.99686,     0.99714,     0.99708,     0.99702,     0.99694,     0.99688,     0.99681,     0.99673,     0.99666,     0.99656,     0.99649,\n",
       "            0.99641,     0.99632,     0.99622,      0.9966,     0.99653,     0.99645,     0.99638,     0.99629,     0.99615,      0.9966,      0.9965,     0.99698,     0.99686,     0.99674,     0.99661,     0.99649,     0.99637,     0.99622,     0.99609,     0.99591,     0.99573,     0.99555,     0.99536,\n",
       "            0.99516,     0.99599,     0.99587,     0.99571,     0.99556,     0.99536,      0.9952,       0.995,      0.9948,     0.99459,     0.99436,     0.99418,     0.99396,     0.99372,     0.99356,     0.99332,     0.99309,     0.99293,     0.99269,     0.99253,     0.99222,      0.9919,     0.99169,\n",
       "            0.99149,     0.99125,     0.99103,     0.99079,     0.99054,     0.99021,     0.98993,     0.98962,     0.98931,     0.98954,     0.99159,     0.99134,     0.99111,     0.99094,     0.99383,     0.99364,     0.99355,     0.99342,     0.99325,     0.99301,     0.99277,     0.99259,     0.99252,\n",
       "            0.99242,     0.99222,     0.99174,     0.99577,     0.99566,     0.99553,     0.99546,     0.99538,     0.99523,     0.99513,     0.99492,     0.99464,     0.99445,     0.99426,     0.99405,     0.99394,      0.9938,     0.99367,     0.99337,     0.99316,     0.99293,     0.99912,           1,\n",
       "                  1,           1,           1,           1,           1,           1,           1,           1,           1,           1,           1,           1,           1,           1,           1,           1,           1,           1,           1,           1,           1,           1,           1,\n",
       "                  1,           1,           1,           1,           1,           1,           1,           1,           1,           1,           1,           1,           1,           1,           1,           1,           1,           1,           1,           1,           1,           1,           1,\n",
       "                  1,           1,           1,           1,           1,           1,           1,           1,           1,           1,           1,           1,           1,           1,           1,           1,           1,           1,           1,           1,           1,           1,           1,\n",
       "                  1,           1,           1,           1,           1,           1,           1,           1,           1,           1,           1,           1,           1,           1,           1,           1,           1,           1,           1,           1,           1,           1,           1,\n",
       "                  1,           1,           1,           1,           1,           1,           1,           1,           1,           1,           1]]), 'Confidence', 'Precision'], [array([          0,    0.001001,    0.002002,    0.003003,    0.004004,    0.005005,    0.006006,    0.007007,    0.008008,    0.009009,     0.01001,    0.011011,    0.012012,    0.013013,    0.014014,    0.015015,    0.016016,    0.017017,    0.018018,    0.019019,     0.02002,    0.021021,    0.022022,    0.023023,\n",
       "          0.024024,    0.025025,    0.026026,    0.027027,    0.028028,    0.029029,     0.03003,    0.031031,    0.032032,    0.033033,    0.034034,    0.035035,    0.036036,    0.037037,    0.038038,    0.039039,     0.04004,    0.041041,    0.042042,    0.043043,    0.044044,    0.045045,    0.046046,    0.047047,\n",
       "          0.048048,    0.049049,     0.05005,    0.051051,    0.052052,    0.053053,    0.054054,    0.055055,    0.056056,    0.057057,    0.058058,    0.059059,     0.06006,    0.061061,    0.062062,    0.063063,    0.064064,    0.065065,    0.066066,    0.067067,    0.068068,    0.069069,     0.07007,    0.071071,\n",
       "          0.072072,    0.073073,    0.074074,    0.075075,    0.076076,    0.077077,    0.078078,    0.079079,     0.08008,    0.081081,    0.082082,    0.083083,    0.084084,    0.085085,    0.086086,    0.087087,    0.088088,    0.089089,     0.09009,    0.091091,    0.092092,    0.093093,    0.094094,    0.095095,\n",
       "          0.096096,    0.097097,    0.098098,    0.099099,      0.1001,      0.1011,      0.1021,      0.1031,      0.1041,     0.10511,     0.10611,     0.10711,     0.10811,     0.10911,     0.11011,     0.11111,     0.11211,     0.11311,     0.11411,     0.11512,     0.11612,     0.11712,     0.11812,     0.11912,\n",
       "           0.12012,     0.12112,     0.12212,     0.12312,     0.12412,     0.12513,     0.12613,     0.12713,     0.12813,     0.12913,     0.13013,     0.13113,     0.13213,     0.13313,     0.13413,     0.13514,     0.13614,     0.13714,     0.13814,     0.13914,     0.14014,     0.14114,     0.14214,     0.14314,\n",
       "           0.14414,     0.14515,     0.14615,     0.14715,     0.14815,     0.14915,     0.15015,     0.15115,     0.15215,     0.15315,     0.15415,     0.15516,     0.15616,     0.15716,     0.15816,     0.15916,     0.16016,     0.16116,     0.16216,     0.16316,     0.16416,     0.16517,     0.16617,     0.16717,\n",
       "           0.16817,     0.16917,     0.17017,     0.17117,     0.17217,     0.17317,     0.17417,     0.17518,     0.17618,     0.17718,     0.17818,     0.17918,     0.18018,     0.18118,     0.18218,     0.18318,     0.18418,     0.18519,     0.18619,     0.18719,     0.18819,     0.18919,     0.19019,     0.19119,\n",
       "           0.19219,     0.19319,     0.19419,      0.1952,      0.1962,      0.1972,      0.1982,      0.1992,      0.2002,      0.2012,      0.2022,      0.2032,      0.2042,     0.20521,     0.20621,     0.20721,     0.20821,     0.20921,     0.21021,     0.21121,     0.21221,     0.21321,     0.21421,     0.21522,\n",
       "           0.21622,     0.21722,     0.21822,     0.21922,     0.22022,     0.22122,     0.22222,     0.22322,     0.22422,     0.22523,     0.22623,     0.22723,     0.22823,     0.22923,     0.23023,     0.23123,     0.23223,     0.23323,     0.23423,     0.23524,     0.23624,     0.23724,     0.23824,     0.23924,\n",
       "           0.24024,     0.24124,     0.24224,     0.24324,     0.24424,     0.24525,     0.24625,     0.24725,     0.24825,     0.24925,     0.25025,     0.25125,     0.25225,     0.25325,     0.25425,     0.25526,     0.25626,     0.25726,     0.25826,     0.25926,     0.26026,     0.26126,     0.26226,     0.26326,\n",
       "           0.26426,     0.26527,     0.26627,     0.26727,     0.26827,     0.26927,     0.27027,     0.27127,     0.27227,     0.27327,     0.27427,     0.27528,     0.27628,     0.27728,     0.27828,     0.27928,     0.28028,     0.28128,     0.28228,     0.28328,     0.28428,     0.28529,     0.28629,     0.28729,\n",
       "           0.28829,     0.28929,     0.29029,     0.29129,     0.29229,     0.29329,     0.29429,      0.2953,      0.2963,      0.2973,      0.2983,      0.2993,      0.3003,      0.3013,      0.3023,      0.3033,      0.3043,     0.30531,     0.30631,     0.30731,     0.30831,     0.30931,     0.31031,     0.31131,\n",
       "           0.31231,     0.31331,     0.31431,     0.31532,     0.31632,     0.31732,     0.31832,     0.31932,     0.32032,     0.32132,     0.32232,     0.32332,     0.32432,     0.32533,     0.32633,     0.32733,     0.32833,     0.32933,     0.33033,     0.33133,     0.33233,     0.33333,     0.33433,     0.33534,\n",
       "           0.33634,     0.33734,     0.33834,     0.33934,     0.34034,     0.34134,     0.34234,     0.34334,     0.34434,     0.34535,     0.34635,     0.34735,     0.34835,     0.34935,     0.35035,     0.35135,     0.35235,     0.35335,     0.35435,     0.35536,     0.35636,     0.35736,     0.35836,     0.35936,\n",
       "           0.36036,     0.36136,     0.36236,     0.36336,     0.36436,     0.36537,     0.36637,     0.36737,     0.36837,     0.36937,     0.37037,     0.37137,     0.37237,     0.37337,     0.37437,     0.37538,     0.37638,     0.37738,     0.37838,     0.37938,     0.38038,     0.38138,     0.38238,     0.38338,\n",
       "           0.38438,     0.38539,     0.38639,     0.38739,     0.38839,     0.38939,     0.39039,     0.39139,     0.39239,     0.39339,     0.39439,      0.3954,      0.3964,      0.3974,      0.3984,      0.3994,      0.4004,      0.4014,      0.4024,      0.4034,      0.4044,     0.40541,     0.40641,     0.40741,\n",
       "           0.40841,     0.40941,     0.41041,     0.41141,     0.41241,     0.41341,     0.41441,     0.41542,     0.41642,     0.41742,     0.41842,     0.41942,     0.42042,     0.42142,     0.42242,     0.42342,     0.42442,     0.42543,     0.42643,     0.42743,     0.42843,     0.42943,     0.43043,     0.43143,\n",
       "           0.43243,     0.43343,     0.43443,     0.43544,     0.43644,     0.43744,     0.43844,     0.43944,     0.44044,     0.44144,     0.44244,     0.44344,     0.44444,     0.44545,     0.44645,     0.44745,     0.44845,     0.44945,     0.45045,     0.45145,     0.45245,     0.45345,     0.45445,     0.45546,\n",
       "           0.45646,     0.45746,     0.45846,     0.45946,     0.46046,     0.46146,     0.46246,     0.46346,     0.46446,     0.46547,     0.46647,     0.46747,     0.46847,     0.46947,     0.47047,     0.47147,     0.47247,     0.47347,     0.47447,     0.47548,     0.47648,     0.47748,     0.47848,     0.47948,\n",
       "           0.48048,     0.48148,     0.48248,     0.48348,     0.48448,     0.48549,     0.48649,     0.48749,     0.48849,     0.48949,     0.49049,     0.49149,     0.49249,     0.49349,     0.49449,      0.4955,      0.4965,      0.4975,      0.4985,      0.4995,      0.5005,      0.5015,      0.5025,      0.5035,\n",
       "            0.5045,     0.50551,     0.50651,     0.50751,     0.50851,     0.50951,     0.51051,     0.51151,     0.51251,     0.51351,     0.51451,     0.51552,     0.51652,     0.51752,     0.51852,     0.51952,     0.52052,     0.52152,     0.52252,     0.52352,     0.52452,     0.52553,     0.52653,     0.52753,\n",
       "           0.52853,     0.52953,     0.53053,     0.53153,     0.53253,     0.53353,     0.53453,     0.53554,     0.53654,     0.53754,     0.53854,     0.53954,     0.54054,     0.54154,     0.54254,     0.54354,     0.54454,     0.54555,     0.54655,     0.54755,     0.54855,     0.54955,     0.55055,     0.55155,\n",
       "           0.55255,     0.55355,     0.55455,     0.55556,     0.55656,     0.55756,     0.55856,     0.55956,     0.56056,     0.56156,     0.56256,     0.56356,     0.56456,     0.56557,     0.56657,     0.56757,     0.56857,     0.56957,     0.57057,     0.57157,     0.57257,     0.57357,     0.57457,     0.57558,\n",
       "           0.57658,     0.57758,     0.57858,     0.57958,     0.58058,     0.58158,     0.58258,     0.58358,     0.58458,     0.58559,     0.58659,     0.58759,     0.58859,     0.58959,     0.59059,     0.59159,     0.59259,     0.59359,     0.59459,      0.5956,      0.5966,      0.5976,      0.5986,      0.5996,\n",
       "            0.6006,      0.6016,      0.6026,      0.6036,      0.6046,     0.60561,     0.60661,     0.60761,     0.60861,     0.60961,     0.61061,     0.61161,     0.61261,     0.61361,     0.61461,     0.61562,     0.61662,     0.61762,     0.61862,     0.61962,     0.62062,     0.62162,     0.62262,     0.62362,\n",
       "           0.62462,     0.62563,     0.62663,     0.62763,     0.62863,     0.62963,     0.63063,     0.63163,     0.63263,     0.63363,     0.63463,     0.63564,     0.63664,     0.63764,     0.63864,     0.63964,     0.64064,     0.64164,     0.64264,     0.64364,     0.64464,     0.64565,     0.64665,     0.64765,\n",
       "           0.64865,     0.64965,     0.65065,     0.65165,     0.65265,     0.65365,     0.65465,     0.65566,     0.65666,     0.65766,     0.65866,     0.65966,     0.66066,     0.66166,     0.66266,     0.66366,     0.66466,     0.66567,     0.66667,     0.66767,     0.66867,     0.66967,     0.67067,     0.67167,\n",
       "           0.67267,     0.67367,     0.67467,     0.67568,     0.67668,     0.67768,     0.67868,     0.67968,     0.68068,     0.68168,     0.68268,     0.68368,     0.68468,     0.68569,     0.68669,     0.68769,     0.68869,     0.68969,     0.69069,     0.69169,     0.69269,     0.69369,     0.69469,      0.6957,\n",
       "            0.6967,      0.6977,      0.6987,      0.6997,      0.7007,      0.7017,      0.7027,      0.7037,      0.7047,     0.70571,     0.70671,     0.70771,     0.70871,     0.70971,     0.71071,     0.71171,     0.71271,     0.71371,     0.71471,     0.71572,     0.71672,     0.71772,     0.71872,     0.71972,\n",
       "           0.72072,     0.72172,     0.72272,     0.72372,     0.72472,     0.72573,     0.72673,     0.72773,     0.72873,     0.72973,     0.73073,     0.73173,     0.73273,     0.73373,     0.73473,     0.73574,     0.73674,     0.73774,     0.73874,     0.73974,     0.74074,     0.74174,     0.74274,     0.74374,\n",
       "           0.74474,     0.74575,     0.74675,     0.74775,     0.74875,     0.74975,     0.75075,     0.75175,     0.75275,     0.75375,     0.75475,     0.75576,     0.75676,     0.75776,     0.75876,     0.75976,     0.76076,     0.76176,     0.76276,     0.76376,     0.76476,     0.76577,     0.76677,     0.76777,\n",
       "           0.76877,     0.76977,     0.77077,     0.77177,     0.77277,     0.77377,     0.77477,     0.77578,     0.77678,     0.77778,     0.77878,     0.77978,     0.78078,     0.78178,     0.78278,     0.78378,     0.78478,     0.78579,     0.78679,     0.78779,     0.78879,     0.78979,     0.79079,     0.79179,\n",
       "           0.79279,     0.79379,     0.79479,      0.7958,      0.7968,      0.7978,      0.7988,      0.7998,      0.8008,      0.8018,      0.8028,      0.8038,      0.8048,     0.80581,     0.80681,     0.80781,     0.80881,     0.80981,     0.81081,     0.81181,     0.81281,     0.81381,     0.81481,     0.81582,\n",
       "           0.81682,     0.81782,     0.81882,     0.81982,     0.82082,     0.82182,     0.82282,     0.82382,     0.82482,     0.82583,     0.82683,     0.82783,     0.82883,     0.82983,     0.83083,     0.83183,     0.83283,     0.83383,     0.83483,     0.83584,     0.83684,     0.83784,     0.83884,     0.83984,\n",
       "           0.84084,     0.84184,     0.84284,     0.84384,     0.84484,     0.84585,     0.84685,     0.84785,     0.84885,     0.84985,     0.85085,     0.85185,     0.85285,     0.85385,     0.85485,     0.85586,     0.85686,     0.85786,     0.85886,     0.85986,     0.86086,     0.86186,     0.86286,     0.86386,\n",
       "           0.86486,     0.86587,     0.86687,     0.86787,     0.86887,     0.86987,     0.87087,     0.87187,     0.87287,     0.87387,     0.87487,     0.87588,     0.87688,     0.87788,     0.87888,     0.87988,     0.88088,     0.88188,     0.88288,     0.88388,     0.88488,     0.88589,     0.88689,     0.88789,\n",
       "           0.88889,     0.88989,     0.89089,     0.89189,     0.89289,     0.89389,     0.89489,      0.8959,      0.8969,      0.8979,      0.8989,      0.8999,      0.9009,      0.9019,      0.9029,      0.9039,      0.9049,     0.90591,     0.90691,     0.90791,     0.90891,     0.90991,     0.91091,     0.91191,\n",
       "           0.91291,     0.91391,     0.91491,     0.91592,     0.91692,     0.91792,     0.91892,     0.91992,     0.92092,     0.92192,     0.92292,     0.92392,     0.92492,     0.92593,     0.92693,     0.92793,     0.92893,     0.92993,     0.93093,     0.93193,     0.93293,     0.93393,     0.93493,     0.93594,\n",
       "           0.93694,     0.93794,     0.93894,     0.93994,     0.94094,     0.94194,     0.94294,     0.94394,     0.94494,     0.94595,     0.94695,     0.94795,     0.94895,     0.94995,     0.95095,     0.95195,     0.95295,     0.95395,     0.95495,     0.95596,     0.95696,     0.95796,     0.95896,     0.95996,\n",
       "           0.96096,     0.96196,     0.96296,     0.96396,     0.96496,     0.96597,     0.96697,     0.96797,     0.96897,     0.96997,     0.97097,     0.97197,     0.97297,     0.97397,     0.97497,     0.97598,     0.97698,     0.97798,     0.97898,     0.97998,     0.98098,     0.98198,     0.98298,     0.98398,\n",
       "           0.98498,     0.98599,     0.98699,     0.98799,     0.98899,     0.98999,     0.99099,     0.99199,     0.99299,     0.99399,     0.99499,       0.996,       0.997,       0.998,       0.999,           1]), array([[    0.92251,     0.92251,     0.92167,     0.92098,     0.92029,     0.91992,     0.91902,     0.91801,     0.91722,     0.91674,     0.91642,     0.91579,      0.9151,     0.91409,     0.91309,     0.91187,     0.91054,     0.90922,     0.90827,     0.90742,     0.90657,     0.90573,     0.90488,\n",
       "            0.90414,     0.90343,     0.90302,     0.90265,     0.90196,     0.90106,     0.90043,     0.89995,      0.8991,     0.89858,      0.8981,     0.89773,     0.89736,     0.89683,      0.8963,     0.89589,      0.8955,     0.89513,     0.89466,     0.89439,     0.89407,     0.89365,     0.89349,\n",
       "            0.89312,     0.89296,      0.8927,     0.89233,      0.8919,     0.89153,     0.89111,     0.89074,     0.89031,        0.89,     0.88957,     0.88904,     0.88878,     0.88846,     0.88814,     0.88777,     0.88761,     0.88751,     0.88719,     0.88653,     0.88597,     0.88555,     0.88528,\n",
       "            0.88475,     0.88438,     0.88417,     0.88364,     0.88332,     0.88311,     0.88269,     0.88242,     0.88189,     0.88163,     0.88142,      0.8811,     0.88067,     0.88041,     0.87988,     0.87961,     0.87946,     0.87903,     0.87882,     0.87866,     0.87844,     0.87803,     0.87797,\n",
       "            0.87739,     0.87681,      0.8767,     0.87638,     0.87617,     0.87591,     0.87564,     0.87559,     0.87527,     0.87495,     0.87453,     0.87411,     0.87374,     0.87352,     0.87326,     0.87299,     0.87262,     0.87252,     0.87188,     0.87151,     0.87135,     0.87098,     0.87072,\n",
       "            0.87045,     0.87003,     0.86992,     0.86976,      0.8696,     0.86918,     0.86892,     0.86828,     0.86786,     0.86754,     0.86733,     0.86722,      0.8668,     0.86653,     0.86637,     0.86611,     0.86584,     0.86558,     0.86542,      0.8651,     0.86489,     0.86452,     0.86452,\n",
       "             0.8642,     0.86394,     0.86357,     0.86341,      0.8632,     0.86288,     0.86261,     0.86245,      0.8623,     0.86177,     0.86161,     0.86118,     0.86083,     0.86028,     0.86018,     0.86012,     0.85966,     0.85938,     0.85928,     0.85906,     0.85891,      0.8588,     0.85848,\n",
       "            0.85795,     0.85769,     0.85758,     0.85743,     0.85711,     0.85695,     0.85663,     0.85636,     0.85599,     0.85578,     0.85568,     0.85544,     0.85509,     0.85467,      0.8543,     0.85414,     0.85393,     0.85356,     0.85325,     0.85292,     0.85276,     0.85239,     0.85223,\n",
       "            0.85207,     0.85186,      0.8516,     0.85112,     0.85075,     0.85043,     0.85001,     0.84974,     0.84927,     0.84895,     0.84847,     0.84826,     0.84794,     0.84757,     0.84741,     0.84731,     0.84699,     0.84662,     0.84641,      0.8463,     0.84604,     0.84582,     0.84545,\n",
       "            0.84535,     0.84487,     0.84466,     0.84434,     0.84413,     0.84365,     0.84333,     0.84312,      0.8428,     0.84249,     0.84243,     0.84222,      0.8418,     0.84143,     0.84111,       0.841,     0.84053,     0.84026,     0.84005,     0.83989,     0.83957,     0.83952,     0.83947,\n",
       "            0.83915,     0.83904,     0.83899,     0.83862,     0.83836,     0.83804,     0.83772,     0.83756,      0.8374,     0.83698,     0.83687,     0.83656,     0.83592,      0.8356,     0.83534,     0.83502,     0.83465,     0.83433,     0.83412,      0.8337,     0.83327,      0.8329,     0.83256,\n",
       "            0.83227,     0.83205,     0.83179,     0.83142,     0.83105,     0.83078,     0.83041,     0.83017,     0.82988,     0.82941,     0.82898,     0.82845,     0.82803,     0.82787,     0.82771,     0.82725,     0.82688,      0.8267,     0.82637,     0.82602,     0.82554,     0.82517,     0.82464,\n",
       "            0.82443,     0.82384,     0.82347,     0.82331,     0.82305,     0.82284,     0.82247,     0.82226,     0.82183,     0.82151,     0.82104,     0.82067,     0.82024,     0.81992,     0.81945,     0.81897,     0.81871,     0.81823,     0.81809,     0.81751,     0.81701,     0.81659,     0.81627,\n",
       "            0.81611,     0.81578,     0.81537,     0.81516,     0.81495,     0.81468,      0.8142,     0.81378,     0.81336,     0.81309,     0.81288,     0.81266,     0.81206,     0.81172,     0.81139,     0.81092,      0.8106,     0.81029,     0.80997,      0.8096,     0.80891,     0.80822,     0.80796,\n",
       "            0.80753,     0.80711,     0.80663,     0.80621,     0.80584,     0.80547,     0.80504,     0.80472,     0.80422,     0.80382,     0.80351,     0.80308,     0.80282,     0.80239,     0.80224,     0.80197,     0.80165,     0.80117,     0.80052,     0.80012,     0.79969,     0.79927,     0.79885,\n",
       "            0.79832,     0.79784,     0.79741,     0.79678,      0.7962,     0.79588,     0.79551,     0.79524,     0.79487,     0.79429,     0.79381,     0.79325,     0.79286,     0.79254,     0.79222,     0.79196,     0.79159,     0.79101,     0.79048,     0.79016,        0.79,     0.78937,     0.78905,\n",
       "            0.78868,     0.78804,     0.78761,     0.78713,      0.7865,      0.7858,     0.78534,     0.78478,     0.78428,     0.78402,     0.78357,     0.78291,     0.78264,     0.78232,      0.7819,     0.78137,     0.78093,     0.78025,     0.77998,     0.77943,     0.77866,     0.77827,     0.77787,\n",
       "            0.77734,     0.77687,     0.77646,     0.77623,     0.77575,     0.77567,     0.77533,     0.77481,     0.77448,      0.7739,     0.77346,      0.7729,     0.77232,     0.77178,     0.77115,     0.77062,     0.77017,     0.76962,     0.76934,     0.76887,     0.76849,     0.76774,      0.7673,\n",
       "             0.7667,     0.76605,     0.76585,     0.76521,     0.76498,     0.76468,     0.76405,     0.76352,     0.76275,     0.76225,     0.76177,     0.76129,     0.76092,     0.76073,     0.76045,     0.76008,     0.75944,     0.75896,      0.7587,     0.75796,     0.75729,      0.7569,     0.75632,\n",
       "            0.75595,     0.75525,     0.75443,     0.75404,     0.75372,     0.75303,     0.75245,     0.75177,     0.75119,     0.75025,     0.75001,     0.74922,     0.74895,     0.74816,     0.74758,     0.74694,     0.74604,     0.74551,     0.74514,     0.74435,     0.74376,     0.74336,     0.74265,\n",
       "            0.74192,     0.74117,      0.7408,     0.74024,     0.73928,     0.73857,     0.73787,     0.73701,     0.73616,     0.73541,     0.73481,      0.7344,     0.73354,     0.73306,     0.73238,     0.73185,     0.73101,     0.73036,     0.72998,     0.72941,     0.72881,     0.72814,     0.72728,\n",
       "            0.72697,     0.72618,      0.7257,     0.72513,     0.72468,     0.72404,     0.72333,      0.7225,     0.72178,     0.72127,     0.72078,     0.72015,     0.71931,     0.71826,     0.71781,     0.71744,     0.71691,     0.71638,      0.7158,       0.715,     0.71435,     0.71339,     0.71267,\n",
       "            0.71229,     0.71172,     0.71082,     0.71024,     0.70962,     0.70868,     0.70823,     0.70788,      0.7073,     0.70665,     0.70611,     0.70547,     0.70498,     0.70444,     0.70394,     0.70329,     0.70248,     0.70183,     0.70079,     0.70043,     0.69954,     0.69869,     0.69779,\n",
       "            0.69747,     0.69694,     0.69637,     0.69551,     0.69477,     0.69397,     0.69314,      0.6926,     0.69196,     0.69134,     0.69038,     0.68969,     0.68863,     0.68812,     0.68739,      0.6864,     0.68577,     0.68515,       0.684,     0.68312,      0.6828,     0.68196,     0.68111,\n",
       "            0.68018,     0.67944,     0.67858,     0.67766,     0.67698,      0.6764,     0.67559,     0.67486,     0.67401,     0.67317,     0.67243,     0.67131,     0.67059,     0.66941,     0.66878,     0.66841,     0.66762,     0.66666,     0.66579,     0.66495,     0.66415,     0.66297,     0.66242,\n",
       "            0.66149,     0.66065,     0.65947,     0.65874,     0.65787,     0.65703,     0.65587,     0.65504,     0.65391,     0.65268,     0.65168,     0.65055,      0.6497,      0.6488,     0.64702,     0.64577,     0.64472,     0.64338,     0.64226,     0.64064,     0.63972,     0.63866,     0.63762,\n",
       "            0.63628,     0.63536,     0.63441,     0.63328,     0.63239,     0.63138,     0.63029,     0.62927,     0.62805,     0.62751,     0.62686,     0.62603,     0.62502,     0.62399,     0.62287,       0.622,     0.62116,     0.61968,     0.61875,      0.6173,     0.61645,     0.61539,     0.61417,\n",
       "             0.6129,      0.6122,      0.6113,     0.60945,     0.60866,     0.60733,     0.60585,     0.60479,     0.60378,     0.60256,      0.6016,     0.60018,       0.599,     0.59761,     0.59608,     0.59484,      0.5935,     0.59166,     0.59019,     0.58868,      0.5868,     0.58524,     0.58384,\n",
       "            0.58226,     0.58098,     0.57939,      0.5781,     0.57716,     0.57543,     0.57353,     0.57211,     0.57053,     0.56911,     0.56798,     0.56648,     0.56535,      0.5644,      0.5625,     0.56047,     0.55889,     0.55738,     0.55615,     0.55509,     0.55394,     0.55203,     0.55043,\n",
       "            0.54934,     0.54749,     0.54569,     0.54379,     0.54202,     0.53978,     0.53858,      0.5362,     0.53453,     0.53308,     0.53142,     0.52979,     0.52779,     0.52596,     0.52403,     0.52211,     0.52003,      0.5183,     0.51622,     0.51408,     0.51138,     0.50914,     0.50712,\n",
       "            0.50512,     0.50234,     0.49981,     0.49764,     0.49477,     0.49263,     0.49019,     0.48798,     0.48505,     0.48218,     0.47941,     0.47699,     0.47476,     0.47188,     0.46935,     0.46648,     0.46419,     0.46112,     0.45832,     0.45503,     0.45155,     0.44856,      0.4448,\n",
       "            0.44186,     0.43872,      0.4357,     0.43173,      0.4281,     0.42421,     0.42024,     0.41583,     0.41253,     0.40894,     0.40503,     0.40102,     0.39763,     0.39386,     0.38966,     0.38644,     0.38281,     0.37978,     0.37669,      0.3723,     0.36817,       0.364,     0.36081,\n",
       "            0.35723,     0.35285,     0.34891,     0.34517,     0.34111,     0.33836,     0.33403,     0.32998,     0.32607,     0.32138,     0.31695,     0.31248,     0.30885,     0.30448,      0.3014,     0.29726,     0.29384,     0.29005,     0.28618,     0.28262,     0.27881,     0.27477,     0.27081,\n",
       "            0.26671,      0.2629,     0.25956,     0.25564,     0.25258,     0.24986,     0.24599,     0.24263,     0.23927,     0.23507,     0.23165,      0.2287,      0.2254,     0.22321,     0.22002,     0.21689,     0.21294,     0.20977,     0.20636,     0.20328,     0.19984,     0.19641,     0.19322,\n",
       "             0.1903,     0.18672,     0.18347,     0.18012,      0.1778,     0.17435,     0.17124,     0.16804,     0.16474,      0.1619,     0.15912,     0.15546,     0.15141,     0.14752,     0.14449,     0.14165,     0.13806,     0.13559,     0.13258,     0.12929,     0.12629,     0.12289,     0.12024,\n",
       "            0.11748,     0.11483,      0.1116,     0.10873,     0.10647,      0.1041,     0.10193,     0.09953,    0.095821,    0.093144,    0.090544,    0.087342,    0.083938,    0.081014,    0.077952,    0.075255,    0.072639,    0.069806,    0.067421,    0.064436,    0.061704,    0.059276,    0.056811,\n",
       "           0.054476,     0.05268,    0.051039,    0.049157,    0.047472,    0.045398,    0.043889,    0.042192,    0.040543,    0.038945,    0.037337,    0.036177,    0.034846,    0.033515,     0.03269,    0.031509,     0.03046,    0.029742,     0.02877,    0.028133,    0.027019,    0.025948,    0.025288,\n",
       "           0.024694,    0.023998,    0.023402,    0.022794,    0.022194,    0.021433,    0.020818,    0.020192,    0.019611,    0.019067,    0.018733,    0.018195,    0.017723,    0.017387,    0.017057,    0.016562,    0.016329,    0.015982,    0.015575,    0.015057,    0.014547,    0.014188,    0.014061,\n",
       "           0.013869,    0.013507,    0.012723,    0.012477,    0.012159,    0.011799,    0.011614,     0.01142,    0.011051,    0.010814,    0.010382,   0.0098331,   0.0094984,   0.0091759,   0.0088431,   0.0086831,   0.0084901,   0.0083163,   0.0079367,   0.0076893,   0.0074385,   0.0073619,   0.0069381,\n",
       "          0.0067154,   0.0065492,   0.0063541,   0.0062623,   0.0060446,   0.0059073,   0.0055409,   0.0052867,   0.0052079,   0.0048647,   0.0046097,   0.0043205,   0.0041269,   0.0040106,   0.0038872,   0.0037558,   0.0036905,   0.0036371,   0.0035903,   0.0033675,    0.003133,   0.0030271,   0.0029361,\n",
       "          0.0027795,   0.0026247,   0.0024078,   0.0022674,   0.0021291,   0.0020273,    0.001956,    0.001914,   0.0017929,    0.001765,   0.0017198,   0.0016211,   0.0014513,   0.0012862,   0.0010894,   0.0010331,  0.00097069,  0.00089073,  0.00084123,  0.00080777,  0.00075699,    0.000709,  0.00066364,\n",
       "         0.00058536,  0.00046129,    0.000431,  0.00036438,  0.00033253,  0.00022975,  0.00019702,  0.00017937,  0.00016172,  0.00014964,  0.00013863,  0.00012761,  0.00011659,  0.00010356,           0,           0,           0,           0,           0,           0,           0,           0,           0,\n",
       "                  0,           0,           0,           0,           0,           0,           0,           0,           0,           0,           0,           0,           0,           0,           0,           0,           0,           0,           0,           0,           0,           0,           0,\n",
       "                  0,           0,           0,           0,           0,           0,           0,           0,           0,           0,           0]]), 'Confidence', 'Recall']]\n",
       "fitness: 0.5452090729257764\n",
       "keys: ['metrics/precision(B)', 'metrics/recall(B)', 'metrics/mAP50(B)', 'metrics/mAP50-95(B)']\n",
       "maps: array([    0.51054])\n",
       "names: {0: 'insect'}\n",
       "plot: True\n",
       "results_dict: {'metrics/precision(B)': 0.8637952598946904, 'metrics/recall(B)': 0.769344844023092, 'metrics/mAP50(B)': 0.8572698764487182, 'metrics/mAP50-95(B)': 0.5105356503121161, 'fitness': 0.5452090729257764}\n",
       "save_dir: WindowsPath('runs/detect/train603')\n",
       "speed: {'preprocess': 0.4133564526917504, 'inference': 13.814133503397958, 'loss': 0.0019384863598099172, 'postprocess': 1.0644758985342224}\n",
       "task: 'detect'"
      ]
     },
     "execution_count": 4,
     "metadata": {},
     "output_type": "execute_result"
    }
   ],
   "source": [
    "model.val(save=True)"
   ]
  }
 ],
 "metadata": {
  "kernelspec": {
   "display_name": "Python 3",
   "language": "python",
   "name": "python3"
  },
  "language_info": {
   "codemirror_mode": {
    "name": "ipython",
    "version": 3
   },
   "file_extension": ".py",
   "mimetype": "text/x-python",
   "name": "python",
   "nbconvert_exporter": "python",
   "pygments_lexer": "ipython3",
   "version": "3.12.0"
  }
 },
 "nbformat": 4,
 "nbformat_minor": 2
}
