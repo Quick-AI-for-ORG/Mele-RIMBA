{
 "cells": [
  {
   "cell_type": "code",
   "execution_count": 1,
   "metadata": {},
   "outputs": [
    {
     "name": "stdout",
     "output_type": "stream",
     "text": [
      "True\n",
      "12.4\n",
      "2.5.1+cu124\n",
      "0.20.1+cu124\n"
     ]
    }
   ],
   "source": [
    "from ultralytics import YOLO\n",
    "import torch\n",
    "import torchvision\n",
    "print(torch.cuda.is_available())\n",
    "print(torch.version.cuda)\n",
    "print(torch.__version__)\n",
    "print(torchvision.__version__)"
   ]
  },
  {
   "cell_type": "code",
   "execution_count": 2,
   "metadata": {},
   "outputs": [
    {
     "name": "stdout",
     "output_type": "stream",
     "text": [
      "Downloading https://github.com/ultralytics/assets/releases/download/v8.2.0/yolov10n.pt to 'yolov10n.pt'...\n"
     ]
    },
    {
     "name": "stderr",
     "output_type": "stream",
     "text": [
      "100%|██████████| 5.59M/5.59M [00:01<00:00, 4.00MB/s]\n"
     ]
    }
   ],
   "source": [
    "model= YOLO(\"yolov10n.pt\")"
   ]
  },
  {
   "cell_type": "code",
   "execution_count": 3,
   "metadata": {},
   "outputs": [
    {
     "name": "stdout",
     "output_type": "stream",
     "text": [
      "New https://pypi.org/project/ultralytics/8.3.33 available  Update with 'pip install -U ultralytics'\n",
      "Ultralytics YOLOv8.2.101  Python-3.12.0 torch-2.5.1+cu124 CUDA:0 (NVIDIA GeForce RTX 3050 Ti Laptop GPU, 4096MiB)\n",
      "\u001b[34m\u001b[1mengine\\trainer: \u001b[0mtask=detect, mode=train, model=yolov10n.pt, data=config.yaml, epochs=100, time=None, patience=100, batch=16, imgsz=640, save=True, save_period=-1, cache=False, device=None, workers=8, project=None, name=train41, exist_ok=False, pretrained=True, optimizer=auto, verbose=True, seed=0, deterministic=True, single_cls=False, rect=False, cos_lr=False, close_mosaic=10, resume=False, amp=True, fraction=1.0, profile=False, freeze=None, multi_scale=False, overlap_mask=True, mask_ratio=4, dropout=0.0, val=True, split=val, save_json=False, save_hybrid=False, conf=None, iou=0.7, max_det=300, half=False, dnn=False, plots=True, source=None, vid_stride=1, stream_buffer=False, visualize=False, augment=False, agnostic_nms=False, classes=None, retina_masks=False, embed=None, show=False, save_frames=False, save_txt=False, save_conf=False, save_crop=False, show_labels=True, show_conf=True, show_boxes=True, line_width=None, format=torchscript, keras=False, optimize=False, int8=False, dynamic=False, simplify=True, opset=None, workspace=4, nms=False, lr0=0.01, lrf=0.01, momentum=0.937, weight_decay=0.0005, warmup_epochs=3.0, warmup_momentum=0.8, warmup_bias_lr=0.1, box=7.5, cls=0.5, dfl=1.5, pose=12.0, kobj=1.0, label_smoothing=0.0, nbs=64, hsv_h=0.015, hsv_s=0.7, hsv_v=0.4, degrees=0.0, translate=0.1, scale=0.5, shear=0.0, perspective=0.0, flipud=0.0, fliplr=0.5, bgr=0.0, mosaic=1.0, mixup=0.0, copy_paste=0.0, auto_augment=randaugment, erasing=0.4, crop_fraction=1.0, cfg=None, tracker=botsort.yaml, save_dir=runs\\detect\\train41\n",
      "Overriding model.yaml nc=80 with nc=1\n",
      "\n",
      "                   from  n    params  module                                       arguments                     \n",
      "  0                  -1  1       464  ultralytics.nn.modules.conv.Conv             [3, 16, 3, 2]                 \n",
      "  1                  -1  1      4672  ultralytics.nn.modules.conv.Conv             [16, 32, 3, 2]                \n",
      "  2                  -1  1      7360  ultralytics.nn.modules.block.C2f             [32, 32, 1, True]             \n",
      "  3                  -1  1     18560  ultralytics.nn.modules.conv.Conv             [32, 64, 3, 2]                \n",
      "  4                  -1  2     49664  ultralytics.nn.modules.block.C2f             [64, 64, 2, True]             \n",
      "  5                  -1  1      9856  ultralytics.nn.modules.block.SCDown          [64, 128, 3, 2]               \n",
      "  6                  -1  2    197632  ultralytics.nn.modules.block.C2f             [128, 128, 2, True]           \n",
      "  7                  -1  1     36096  ultralytics.nn.modules.block.SCDown          [128, 256, 3, 2]              \n",
      "  8                  -1  1    460288  ultralytics.nn.modules.block.C2f             [256, 256, 1, True]           \n",
      "  9                  -1  1    164608  ultralytics.nn.modules.block.SPPF            [256, 256, 5]                 \n",
      " 10                  -1  1    249728  ultralytics.nn.modules.block.PSA             [256, 256]                    \n",
      " 11                  -1  1         0  torch.nn.modules.upsampling.Upsample         [None, 2, 'nearest']          \n",
      " 12             [-1, 6]  1         0  ultralytics.nn.modules.conv.Concat           [1]                           \n",
      " 13                  -1  1    148224  ultralytics.nn.modules.block.C2f             [384, 128, 1]                 \n",
      " 14                  -1  1         0  torch.nn.modules.upsampling.Upsample         [None, 2, 'nearest']          \n",
      " 15             [-1, 4]  1         0  ultralytics.nn.modules.conv.Concat           [1]                           \n",
      " 16                  -1  1     37248  ultralytics.nn.modules.block.C2f             [192, 64, 1]                  \n",
      " 17                  -1  1     36992  ultralytics.nn.modules.conv.Conv             [64, 64, 3, 2]                \n",
      " 18            [-1, 13]  1         0  ultralytics.nn.modules.conv.Concat           [1]                           \n",
      " 19                  -1  1    123648  ultralytics.nn.modules.block.C2f             [192, 128, 1]                 \n",
      " 20                  -1  1     18048  ultralytics.nn.modules.block.SCDown          [128, 128, 3, 2]              \n",
      " 21            [-1, 10]  1         0  ultralytics.nn.modules.conv.Concat           [1]                           \n",
      " 22                  -1  1    282624  ultralytics.nn.modules.block.C2fCIB          [384, 256, 1, True, True]     \n",
      " 23        [16, 19, 22]  1    861718  ultralytics.nn.modules.head.v10Detect        [1, [64, 128, 256]]           \n",
      "YOLOv10n summary: 385 layers, 2,707,430 parameters, 2,707,414 gradients, 8.4 GFLOPs\n",
      "\n",
      "Transferred 493/595 items from pretrained weights\n",
      "\u001b[34m\u001b[1mTensorBoard: \u001b[0mStart with 'tensorboard --logdir runs\\detect\\train41', view at http://localhost:6006/\n",
      "Freezing layer 'model.23.dfl.conv.weight'\n",
      "\u001b[34m\u001b[1mAMP: \u001b[0mrunning Automatic Mixed Precision (AMP) checks with YOLOv8n...\n",
      "Downloading https://github.com/ultralytics/assets/releases/download/v8.2.0/yolov8n.pt to 'yolov8n.pt'...\n"
     ]
    },
    {
     "name": "stderr",
     "output_type": "stream",
     "text": [
      "100%|██████████| 6.25M/6.25M [00:01<00:00, 4.32MB/s]\n"
     ]
    },
    {
     "name": "stdout",
     "output_type": "stream",
     "text": [
      "\u001b[34m\u001b[1mAMP: \u001b[0mchecks passed \n"
     ]
    },
    {
     "name": "stderr",
     "output_type": "stream",
     "text": [
      "\u001b[34m\u001b[1mtrain: \u001b[0mScanning C:\\Users\\Khaled\\Documents\\GitHub\\Mele-RIMBA\\Datasets\\For YOLO\\Bee\\labels\\train.cache... 2944 images, 1980 backgrounds, 0 corrupt: 100%|██████████| 2944/2944 [00:00<?, ?it/s]\n",
      "\u001b[34m\u001b[1mval: \u001b[0mScanning C:\\Users\\Khaled\\Documents\\GitHub\\Mele-RIMBA\\Datasets\\For YOLO\\Bee\\labels\\val.cache... 737 images, 474 backgrounds, 0 corrupt: 100%|██████████| 737/737 [00:00<?, ?it/s]\n"
     ]
    },
    {
     "name": "stdout",
     "output_type": "stream",
     "text": [
      "Plotting labels to runs\\detect\\train41\\labels.jpg... \n",
      "\u001b[34m\u001b[1moptimizer:\u001b[0m 'optimizer=auto' found, ignoring 'lr0=0.01' and 'momentum=0.937' and determining best 'optimizer', 'lr0' and 'momentum' automatically... \n",
      "\u001b[34m\u001b[1moptimizer:\u001b[0m AdamW(lr=0.002, momentum=0.9) with parameter groups 95 weight(decay=0.0), 108 weight(decay=0.0005), 107 bias(decay=0.0)\n",
      "\u001b[34m\u001b[1mTensorBoard: \u001b[0mmodel graph visualization added \n",
      "Image sizes 640 train, 640 val\n",
      "Using 8 dataloader workers\n",
      "Logging results to \u001b[1mruns\\detect\\train41\u001b[0m\n",
      "Starting training for 100 epochs...\n",
      "\n",
      "      Epoch    GPU_mem   box_loss   cls_loss   dfl_loss  Instances       Size\n"
     ]
    },
    {
     "name": "stderr",
     "output_type": "stream",
     "text": [
      "      1/100       4.3G      4.304       5.42      2.215         85        640: 100%|██████████| 184/184 [01:06<00:00,  2.77it/s]\n",
      "                 Class     Images  Instances      Box(P          R      mAP50  mAP50-95): 100%|██████████| 24/24 [00:12<00:00,  1.86it/s]\n"
     ]
    },
    {
     "name": "stdout",
     "output_type": "stream",
     "text": [
      "                   all        737       4748      0.634      0.497      0.551      0.276\n",
      "\n",
      "      Epoch    GPU_mem   box_loss   cls_loss   dfl_loss  Instances       Size\n"
     ]
    },
    {
     "name": "stderr",
     "output_type": "stream",
     "text": [
      "      2/100      3.97G      4.161       3.53      2.191         69        640: 100%|██████████| 184/184 [01:37<00:00,  1.88it/s]\n",
      "                 Class     Images  Instances      Box(P          R      mAP50  mAP50-95): 100%|██████████| 24/24 [00:12<00:00,  2.00it/s]\n"
     ]
    },
    {
     "name": "stdout",
     "output_type": "stream",
     "text": [
      "                   all        737       4748      0.664      0.548      0.591      0.296\n",
      "\n",
      "      Epoch    GPU_mem   box_loss   cls_loss   dfl_loss  Instances       Size\n"
     ]
    },
    {
     "name": "stderr",
     "output_type": "stream",
     "text": [
      "      3/100      4.48G      4.194      3.063      2.212         47        640: 100%|██████████| 184/184 [04:25<00:00,  1.44s/it]\n",
      "                 Class     Images  Instances      Box(P          R      mAP50  mAP50-95): 100%|██████████| 24/24 [00:18<00:00,  1.28it/s]\n"
     ]
    },
    {
     "name": "stdout",
     "output_type": "stream",
     "text": [
      "                   all        737       4748      0.662      0.532      0.575      0.296\n",
      "\n",
      "      Epoch    GPU_mem   box_loss   cls_loss   dfl_loss  Instances       Size\n"
     ]
    },
    {
     "name": "stderr",
     "output_type": "stream",
     "text": [
      "      4/100      4.72G      4.178      2.866        2.2        102        640: 100%|██████████| 184/184 [01:20<00:00,  2.30it/s]\n",
      "                 Class     Images  Instances      Box(P          R      mAP50  mAP50-95): 100%|██████████| 24/24 [00:09<00:00,  2.52it/s]\n"
     ]
    },
    {
     "name": "stdout",
     "output_type": "stream",
     "text": [
      "                   all        737       4748      0.728      0.559      0.635      0.301\n",
      "\n",
      "      Epoch    GPU_mem   box_loss   cls_loss   dfl_loss  Instances       Size\n"
     ]
    },
    {
     "name": "stderr",
     "output_type": "stream",
     "text": [
      "      5/100      4.53G      4.054      2.637      2.167        122        640: 100%|██████████| 184/184 [01:02<00:00,  2.94it/s]\n",
      "                 Class     Images  Instances      Box(P          R      mAP50  mAP50-95): 100%|██████████| 24/24 [00:08<00:00,  2.93it/s]\n"
     ]
    },
    {
     "name": "stdout",
     "output_type": "stream",
     "text": [
      "                   all        737       4748      0.767      0.626      0.705      0.366\n",
      "\n",
      "      Epoch    GPU_mem   box_loss   cls_loss   dfl_loss  Instances       Size\n"
     ]
    },
    {
     "name": "stderr",
     "output_type": "stream",
     "text": [
      "      6/100      3.98G      3.897      2.419      2.131        104        640: 100%|██████████| 184/184 [00:54<00:00,  3.35it/s]\n",
      "                 Class     Images  Instances      Box(P          R      mAP50  mAP50-95): 100%|██████████| 24/24 [00:11<00:00,  2.16it/s]"
     ]
    },
    {
     "name": "stdout",
     "output_type": "stream",
     "text": [
      "                   all        737       4748      0.811      0.653       0.74      0.399\n"
     ]
    },
    {
     "name": "stderr",
     "output_type": "stream",
     "text": [
      "\n"
     ]
    },
    {
     "name": "stdout",
     "output_type": "stream",
     "text": [
      "\n",
      "      Epoch    GPU_mem   box_loss   cls_loss   dfl_loss  Instances       Size\n"
     ]
    },
    {
     "name": "stderr",
     "output_type": "stream",
     "text": [
      "      7/100       4.7G      3.874      2.365      2.125         55        640: 100%|██████████| 184/184 [01:23<00:00,  2.19it/s]\n",
      "                 Class     Images  Instances      Box(P          R      mAP50  mAP50-95): 100%|██████████| 24/24 [00:09<00:00,  2.45it/s]\n"
     ]
    },
    {
     "name": "stdout",
     "output_type": "stream",
     "text": [
      "                   all        737       4748      0.802      0.634      0.727      0.408\n",
      "\n",
      "      Epoch    GPU_mem   box_loss   cls_loss   dfl_loss  Instances       Size\n"
     ]
    },
    {
     "name": "stderr",
     "output_type": "stream",
     "text": [
      "      8/100       3.7G       3.83      2.288      2.106         91        640: 100%|██████████| 184/184 [00:52<00:00,  3.50it/s]\n",
      "                 Class     Images  Instances      Box(P          R      mAP50  mAP50-95): 100%|██████████| 24/24 [00:09<00:00,  2.55it/s]"
     ]
    },
    {
     "name": "stdout",
     "output_type": "stream",
     "text": [
      "                   all        737       4748      0.781      0.642       0.72      0.389\n"
     ]
    },
    {
     "name": "stderr",
     "output_type": "stream",
     "text": [
      "\n"
     ]
    },
    {
     "name": "stdout",
     "output_type": "stream",
     "text": [
      "\n",
      "      Epoch    GPU_mem   box_loss   cls_loss   dfl_loss  Instances       Size\n"
     ]
    },
    {
     "name": "stderr",
     "output_type": "stream",
     "text": [
      "      9/100      4.21G      3.803      2.226      2.094        116        640: 100%|██████████| 184/184 [01:04<00:00,  2.83it/s]\n",
      "                 Class     Images  Instances      Box(P          R      mAP50  mAP50-95): 100%|██████████| 24/24 [00:12<00:00,  1.99it/s]\n"
     ]
    },
    {
     "name": "stdout",
     "output_type": "stream",
     "text": [
      "                   all        737       4748      0.758      0.611      0.684      0.376\n",
      "\n",
      "      Epoch    GPU_mem   box_loss   cls_loss   dfl_loss  Instances       Size\n"
     ]
    },
    {
     "name": "stderr",
     "output_type": "stream",
     "text": [
      "     10/100      4.15G      3.746      2.146      2.085        216        640: 100%|██████████| 184/184 [01:01<00:00,  2.98it/s]\n",
      "                 Class     Images  Instances      Box(P          R      mAP50  mAP50-95): 100%|██████████| 24/24 [00:09<00:00,  2.61it/s]\n"
     ]
    },
    {
     "name": "stdout",
     "output_type": "stream",
     "text": [
      "                   all        737       4748      0.838      0.675      0.764      0.422\n",
      "\n",
      "      Epoch    GPU_mem   box_loss   cls_loss   dfl_loss  Instances       Size\n"
     ]
    },
    {
     "name": "stderr",
     "output_type": "stream",
     "text": [
      "     11/100      4.59G      3.752      2.161      2.077        161        640: 100%|██████████| 184/184 [01:05<00:00,  2.82it/s]\n",
      "                 Class     Images  Instances      Box(P          R      mAP50  mAP50-95): 100%|██████████| 24/24 [00:09<00:00,  2.50it/s]"
     ]
    },
    {
     "name": "stdout",
     "output_type": "stream",
     "text": [
      "                   all        737       4748      0.838      0.681      0.771      0.436\n"
     ]
    },
    {
     "name": "stderr",
     "output_type": "stream",
     "text": [
      "\n"
     ]
    },
    {
     "name": "stdout",
     "output_type": "stream",
     "text": [
      "\n",
      "      Epoch    GPU_mem   box_loss   cls_loss   dfl_loss  Instances       Size\n"
     ]
    },
    {
     "name": "stderr",
     "output_type": "stream",
     "text": [
      "     12/100      4.75G      3.666      2.071      2.068        120        640: 100%|██████████| 184/184 [01:28<00:00,  2.08it/s]\n",
      "                 Class     Images  Instances      Box(P          R      mAP50  mAP50-95): 100%|██████████| 24/24 [00:18<00:00,  1.32it/s]"
     ]
    },
    {
     "name": "stdout",
     "output_type": "stream",
     "text": [
      "                   all        737       4748      0.836      0.691      0.776      0.438\n"
     ]
    },
    {
     "name": "stderr",
     "output_type": "stream",
     "text": [
      "\n"
     ]
    },
    {
     "name": "stdout",
     "output_type": "stream",
     "text": [
      "\n",
      "      Epoch    GPU_mem   box_loss   cls_loss   dfl_loss  Instances       Size\n"
     ]
    },
    {
     "name": "stderr",
     "output_type": "stream",
     "text": [
      "     13/100      4.44G      3.662      2.058      2.051         39        640: 100%|██████████| 184/184 [01:05<00:00,  2.82it/s]\n",
      "                 Class     Images  Instances      Box(P          R      mAP50  mAP50-95): 100%|██████████| 24/24 [00:09<00:00,  2.45it/s]"
     ]
    },
    {
     "name": "stdout",
     "output_type": "stream",
     "text": [
      "                   all        737       4748       0.85      0.694      0.786      0.462\n"
     ]
    },
    {
     "name": "stderr",
     "output_type": "stream",
     "text": [
      "\n"
     ]
    },
    {
     "name": "stdout",
     "output_type": "stream",
     "text": [
      "\n",
      "      Epoch    GPU_mem   box_loss   cls_loss   dfl_loss  Instances       Size\n"
     ]
    },
    {
     "name": "stderr",
     "output_type": "stream",
     "text": [
      "     14/100      4.52G      3.665      2.052      2.055         92        640: 100%|██████████| 184/184 [00:57<00:00,  3.21it/s]\n",
      "                 Class     Images  Instances      Box(P          R      mAP50  mAP50-95): 100%|██████████| 24/24 [00:09<00:00,  2.61it/s]"
     ]
    },
    {
     "name": "stdout",
     "output_type": "stream",
     "text": [
      "                   all        737       4748      0.865      0.691      0.789      0.461\n"
     ]
    },
    {
     "name": "stderr",
     "output_type": "stream",
     "text": [
      "\n"
     ]
    },
    {
     "name": "stdout",
     "output_type": "stream",
     "text": [
      "\n",
      "      Epoch    GPU_mem   box_loss   cls_loss   dfl_loss  Instances       Size\n"
     ]
    },
    {
     "name": "stderr",
     "output_type": "stream",
     "text": [
      "     15/100      4.73G      3.659      2.059      2.043        100        640: 100%|██████████| 184/184 [01:15<00:00,  2.44it/s]\n",
      "                 Class     Images  Instances      Box(P          R      mAP50  mAP50-95): 100%|██████████| 24/24 [00:13<00:00,  1.79it/s]"
     ]
    },
    {
     "name": "stdout",
     "output_type": "stream",
     "text": [
      "                   all        737       4748      0.846      0.692      0.774      0.422\n"
     ]
    },
    {
     "name": "stderr",
     "output_type": "stream",
     "text": [
      "\n"
     ]
    },
    {
     "name": "stdout",
     "output_type": "stream",
     "text": [
      "\n",
      "      Epoch    GPU_mem   box_loss   cls_loss   dfl_loss  Instances       Size\n"
     ]
    },
    {
     "name": "stderr",
     "output_type": "stream",
     "text": [
      "     16/100      4.41G      3.659      2.059      2.048        241        640: 100%|██████████| 184/184 [01:31<00:00,  2.01it/s]\n",
      "                 Class     Images  Instances      Box(P          R      mAP50  mAP50-95): 100%|██████████| 24/24 [00:07<00:00,  3.25it/s]"
     ]
    },
    {
     "name": "stdout",
     "output_type": "stream",
     "text": [
      "                   all        737       4748      0.853      0.698       0.78      0.455\n"
     ]
    },
    {
     "name": "stderr",
     "output_type": "stream",
     "text": [
      "\n"
     ]
    },
    {
     "name": "stdout",
     "output_type": "stream",
     "text": [
      "\n",
      "      Epoch    GPU_mem   box_loss   cls_loss   dfl_loss  Instances       Size\n"
     ]
    },
    {
     "name": "stderr",
     "output_type": "stream",
     "text": [
      "     17/100      4.25G      3.606      1.938      2.028        183        640: 100%|██████████| 184/184 [01:08<00:00,  2.69it/s]\n",
      "                 Class     Images  Instances      Box(P          R      mAP50  mAP50-95): 100%|██████████| 24/24 [00:11<00:00,  2.14it/s]"
     ]
    },
    {
     "name": "stdout",
     "output_type": "stream",
     "text": [
      "                   all        737       4748      0.865      0.705      0.797      0.454\n"
     ]
    },
    {
     "name": "stderr",
     "output_type": "stream",
     "text": [
      "\n"
     ]
    },
    {
     "name": "stdout",
     "output_type": "stream",
     "text": [
      "\n",
      "      Epoch    GPU_mem   box_loss   cls_loss   dfl_loss  Instances       Size\n"
     ]
    },
    {
     "name": "stderr",
     "output_type": "stream",
     "text": [
      "     18/100      4.98G      3.568      1.956      2.023        125        640: 100%|██████████| 184/184 [02:12<00:00,  1.39it/s]\n",
      "                 Class     Images  Instances      Box(P          R      mAP50  mAP50-95): 100%|██████████| 24/24 [00:25<00:00,  1.08s/it]"
     ]
    },
    {
     "name": "stdout",
     "output_type": "stream",
     "text": [
      "                   all        737       4748      0.874      0.707      0.798      0.462\n"
     ]
    },
    {
     "name": "stderr",
     "output_type": "stream",
     "text": [
      "\n"
     ]
    },
    {
     "name": "stdout",
     "output_type": "stream",
     "text": [
      "\n",
      "      Epoch    GPU_mem   box_loss   cls_loss   dfl_loss  Instances       Size\n"
     ]
    },
    {
     "name": "stderr",
     "output_type": "stream",
     "text": [
      "     19/100      3.66G      3.549       1.93      2.019        356        640: 100%|██████████| 184/184 [00:53<00:00,  3.47it/s]\n",
      "                 Class     Images  Instances      Box(P          R      mAP50  mAP50-95): 100%|██████████| 24/24 [00:08<00:00,  2.72it/s]"
     ]
    },
    {
     "name": "stdout",
     "output_type": "stream",
     "text": [
      "                   all        737       4748      0.843      0.704      0.793      0.469\n"
     ]
    },
    {
     "name": "stderr",
     "output_type": "stream",
     "text": [
      "\n"
     ]
    },
    {
     "name": "stdout",
     "output_type": "stream",
     "text": [
      "\n",
      "      Epoch    GPU_mem   box_loss   cls_loss   dfl_loss  Instances       Size\n"
     ]
    },
    {
     "name": "stderr",
     "output_type": "stream",
     "text": [
      "     20/100      4.17G      3.519      1.884      2.007        103        640: 100%|██████████| 184/184 [01:04<00:00,  2.86it/s]\n",
      "                 Class     Images  Instances      Box(P          R      mAP50  mAP50-95): 100%|██████████| 24/24 [00:10<00:00,  2.24it/s]\n"
     ]
    },
    {
     "name": "stdout",
     "output_type": "stream",
     "text": [
      "                   all        737       4748      0.868      0.729      0.814      0.468\n",
      "\n",
      "      Epoch    GPU_mem   box_loss   cls_loss   dfl_loss  Instances       Size\n"
     ]
    },
    {
     "name": "stderr",
     "output_type": "stream",
     "text": [
      "     21/100       4.5G      3.492       1.89          2        160        640: 100%|██████████| 184/184 [01:14<00:00,  2.48it/s]\n",
      "                 Class     Images  Instances      Box(P          R      mAP50  mAP50-95): 100%|██████████| 24/24 [00:21<00:00,  1.10it/s]"
     ]
    },
    {
     "name": "stdout",
     "output_type": "stream",
     "text": [
      "                   all        737       4748      0.872      0.717      0.807      0.471\n"
     ]
    },
    {
     "name": "stderr",
     "output_type": "stream",
     "text": [
      "\n"
     ]
    },
    {
     "name": "stdout",
     "output_type": "stream",
     "text": [
      "\n",
      "      Epoch    GPU_mem   box_loss   cls_loss   dfl_loss  Instances       Size\n"
     ]
    },
    {
     "name": "stderr",
     "output_type": "stream",
     "text": [
      "     22/100      4.74G      3.498      1.895      2.004        337        640: 100%|██████████| 184/184 [01:35<00:00,  1.93it/s]\n",
      "                 Class     Images  Instances      Box(P          R      mAP50  mAP50-95): 100%|██████████| 24/24 [00:08<00:00,  2.67it/s]\n"
     ]
    },
    {
     "name": "stdout",
     "output_type": "stream",
     "text": [
      "                   all        737       4748      0.857      0.717      0.806      0.462\n",
      "\n",
      "      Epoch    GPU_mem   box_loss   cls_loss   dfl_loss  Instances       Size\n"
     ]
    },
    {
     "name": "stderr",
     "output_type": "stream",
     "text": [
      "     23/100      4.59G      3.516      1.895      2.008        151        640: 100%|██████████| 184/184 [01:00<00:00,  3.06it/s]\n",
      "                 Class     Images  Instances      Box(P          R      mAP50  mAP50-95): 100%|██████████| 24/24 [00:09<00:00,  2.59it/s]\n"
     ]
    },
    {
     "name": "stdout",
     "output_type": "stream",
     "text": [
      "                   all        737       4748      0.875      0.719      0.803      0.466\n",
      "\n",
      "      Epoch    GPU_mem   box_loss   cls_loss   dfl_loss  Instances       Size\n"
     ]
    },
    {
     "name": "stderr",
     "output_type": "stream",
     "text": [
      "     24/100      4.72G      3.464      1.824      1.995        202        640: 100%|██████████| 184/184 [01:08<00:00,  2.69it/s]\n",
      "                 Class     Images  Instances      Box(P          R      mAP50  mAP50-95): 100%|██████████| 24/24 [00:13<00:00,  1.81it/s]"
     ]
    },
    {
     "name": "stdout",
     "output_type": "stream",
     "text": [
      "                   all        737       4748      0.881      0.719       0.81       0.48\n"
     ]
    },
    {
     "name": "stderr",
     "output_type": "stream",
     "text": [
      "\n"
     ]
    },
    {
     "name": "stdout",
     "output_type": "stream",
     "text": [
      "\n",
      "      Epoch    GPU_mem   box_loss   cls_loss   dfl_loss  Instances       Size\n"
     ]
    },
    {
     "name": "stderr",
     "output_type": "stream",
     "text": [
      "     25/100      4.26G       3.53      1.907      2.005        122        640: 100%|██████████| 184/184 [01:01<00:00,  3.01it/s]\n",
      "                 Class     Images  Instances      Box(P          R      mAP50  mAP50-95): 100%|██████████| 24/24 [00:09<00:00,  2.60it/s]"
     ]
    },
    {
     "name": "stdout",
     "output_type": "stream",
     "text": [
      "                   all        737       4748      0.887      0.726      0.818      0.485\n"
     ]
    },
    {
     "name": "stderr",
     "output_type": "stream",
     "text": [
      "\n"
     ]
    },
    {
     "name": "stdout",
     "output_type": "stream",
     "text": [
      "\n",
      "      Epoch    GPU_mem   box_loss   cls_loss   dfl_loss  Instances       Size\n"
     ]
    },
    {
     "name": "stderr",
     "output_type": "stream",
     "text": [
      "     26/100      4.27G      3.472      1.853      1.999        117        640: 100%|██████████| 184/184 [01:04<00:00,  2.86it/s]\n",
      "                 Class     Images  Instances      Box(P          R      mAP50  mAP50-95): 100%|██████████| 24/24 [00:08<00:00,  2.72it/s]\n"
     ]
    },
    {
     "name": "stdout",
     "output_type": "stream",
     "text": [
      "                   all        737       4748      0.877      0.721       0.81      0.464\n",
      "\n",
      "      Epoch    GPU_mem   box_loss   cls_loss   dfl_loss  Instances       Size\n"
     ]
    },
    {
     "name": "stderr",
     "output_type": "stream",
     "text": [
      "     27/100      4.78G      3.429      1.833       1.99        131        640: 100%|██████████| 184/184 [01:11<00:00,  2.58it/s]\n",
      "                 Class     Images  Instances      Box(P          R      mAP50  mAP50-95): 100%|██████████| 24/24 [00:15<00:00,  1.58it/s]\n"
     ]
    },
    {
     "name": "stdout",
     "output_type": "stream",
     "text": [
      "                   all        737       4748      0.887      0.736      0.824      0.499\n",
      "\n",
      "      Epoch    GPU_mem   box_loss   cls_loss   dfl_loss  Instances       Size\n"
     ]
    },
    {
     "name": "stderr",
     "output_type": "stream",
     "text": [
      "     28/100      4.38G      3.455      1.853      1.995        268        640: 100%|██████████| 184/184 [01:03<00:00,  2.89it/s]\n",
      "                 Class     Images  Instances      Box(P          R      mAP50  mAP50-95): 100%|██████████| 24/24 [00:09<00:00,  2.42it/s]\n"
     ]
    },
    {
     "name": "stdout",
     "output_type": "stream",
     "text": [
      "                   all        737       4748      0.882       0.73      0.821      0.493\n",
      "\n",
      "      Epoch    GPU_mem   box_loss   cls_loss   dfl_loss  Instances       Size\n"
     ]
    },
    {
     "name": "stderr",
     "output_type": "stream",
     "text": [
      "     29/100      5.04G      3.354       1.75      1.975         87        640: 100%|██████████| 184/184 [01:45<00:00,  1.74it/s]\n",
      "                 Class     Images  Instances      Box(P          R      mAP50  mAP50-95): 100%|██████████| 24/24 [00:16<00:00,  1.44it/s]"
     ]
    },
    {
     "name": "stdout",
     "output_type": "stream",
     "text": [
      "                   all        737       4748      0.885      0.736      0.824      0.496\n"
     ]
    },
    {
     "name": "stderr",
     "output_type": "stream",
     "text": [
      "\n"
     ]
    },
    {
     "name": "stdout",
     "output_type": "stream",
     "text": [
      "\n",
      "      Epoch    GPU_mem   box_loss   cls_loss   dfl_loss  Instances       Size\n"
     ]
    },
    {
     "name": "stderr",
     "output_type": "stream",
     "text": [
      "     30/100       4.2G      3.452       1.83      1.979        203        640: 100%|██████████| 184/184 [01:29<00:00,  2.06it/s]\n",
      "                 Class     Images  Instances      Box(P          R      mAP50  mAP50-95): 100%|██████████| 24/24 [00:09<00:00,  2.62it/s]\n"
     ]
    },
    {
     "name": "stdout",
     "output_type": "stream",
     "text": [
      "                   all        737       4748      0.877      0.736      0.819      0.481\n",
      "\n",
      "      Epoch    GPU_mem   box_loss   cls_loss   dfl_loss  Instances       Size\n"
     ]
    },
    {
     "name": "stderr",
     "output_type": "stream",
     "text": [
      "     31/100       4.7G      3.419      1.806      1.979        103        640: 100%|██████████| 184/184 [01:02<00:00,  2.97it/s]\n",
      "                 Class     Images  Instances      Box(P          R      mAP50  mAP50-95): 100%|██████████| 24/24 [00:09<00:00,  2.62it/s]\n"
     ]
    },
    {
     "name": "stdout",
     "output_type": "stream",
     "text": [
      "                   all        737       4748      0.893      0.734      0.828      0.484\n",
      "\n",
      "      Epoch    GPU_mem   box_loss   cls_loss   dfl_loss  Instances       Size\n"
     ]
    },
    {
     "name": "stderr",
     "output_type": "stream",
     "text": [
      "     32/100      4.45G      3.424      1.854      1.997        154        640: 100%|██████████| 184/184 [01:05<00:00,  2.83it/s]\n",
      "                 Class     Images  Instances      Box(P          R      mAP50  mAP50-95): 100%|██████████| 24/24 [00:10<00:00,  2.23it/s]"
     ]
    },
    {
     "name": "stdout",
     "output_type": "stream",
     "text": [
      "                   all        737       4748      0.892      0.723      0.825      0.494\n"
     ]
    },
    {
     "name": "stderr",
     "output_type": "stream",
     "text": [
      "\n"
     ]
    },
    {
     "name": "stdout",
     "output_type": "stream",
     "text": [
      "\n",
      "      Epoch    GPU_mem   box_loss   cls_loss   dfl_loss  Instances       Size\n"
     ]
    },
    {
     "name": "stderr",
     "output_type": "stream",
     "text": [
      "     33/100      4.17G       3.43      1.833      1.984        248        640: 100%|██████████| 184/184 [01:13<00:00,  2.51it/s]\n",
      "                 Class     Images  Instances      Box(P          R      mAP50  mAP50-95): 100%|██████████| 24/24 [00:09<00:00,  2.58it/s]\n"
     ]
    },
    {
     "name": "stdout",
     "output_type": "stream",
     "text": [
      "                   all        737       4748      0.889      0.738      0.826      0.493\n",
      "\n",
      "      Epoch    GPU_mem   box_loss   cls_loss   dfl_loss  Instances       Size\n"
     ]
    },
    {
     "name": "stderr",
     "output_type": "stream",
     "text": [
      "     34/100      3.88G      3.382      1.773      1.976        113        640: 100%|██████████| 184/184 [00:57<00:00,  3.21it/s]\n",
      "                 Class     Images  Instances      Box(P          R      mAP50  mAP50-95): 100%|██████████| 24/24 [00:10<00:00,  2.31it/s]"
     ]
    },
    {
     "name": "stdout",
     "output_type": "stream",
     "text": [
      "                   all        737       4748      0.879       0.73       0.82      0.495\n"
     ]
    },
    {
     "name": "stderr",
     "output_type": "stream",
     "text": [
      "\n"
     ]
    },
    {
     "name": "stdout",
     "output_type": "stream",
     "text": [
      "\n",
      "      Epoch    GPU_mem   box_loss   cls_loss   dfl_loss  Instances       Size\n"
     ]
    },
    {
     "name": "stderr",
     "output_type": "stream",
     "text": [
      "     35/100      4.82G      3.381      1.769      1.964        272        640: 100%|██████████| 184/184 [01:28<00:00,  2.09it/s]\n",
      "                 Class     Images  Instances      Box(P          R      mAP50  mAP50-95): 100%|██████████| 24/24 [00:15<00:00,  1.56it/s]"
     ]
    },
    {
     "name": "stdout",
     "output_type": "stream",
     "text": [
      "                   all        737       4748      0.883      0.732      0.824      0.485\n"
     ]
    },
    {
     "name": "stderr",
     "output_type": "stream",
     "text": [
      "\n"
     ]
    },
    {
     "name": "stdout",
     "output_type": "stream",
     "text": [
      "\n",
      "      Epoch    GPU_mem   box_loss   cls_loss   dfl_loss  Instances       Size\n"
     ]
    },
    {
     "name": "stderr",
     "output_type": "stream",
     "text": [
      "     36/100      5.32G      3.323      1.759      1.966        161        640: 100%|██████████| 184/184 [01:10<00:00,  2.62it/s]\n",
      "                 Class     Images  Instances      Box(P          R      mAP50  mAP50-95): 100%|██████████| 24/24 [00:10<00:00,  2.30it/s]"
     ]
    },
    {
     "name": "stdout",
     "output_type": "stream",
     "text": [
      "                   all        737       4748      0.899      0.741      0.829      0.497\n"
     ]
    },
    {
     "name": "stderr",
     "output_type": "stream",
     "text": [
      "\n"
     ]
    },
    {
     "name": "stdout",
     "output_type": "stream",
     "text": [
      "\n",
      "      Epoch    GPU_mem   box_loss   cls_loss   dfl_loss  Instances       Size\n"
     ]
    },
    {
     "name": "stderr",
     "output_type": "stream",
     "text": [
      "     37/100      4.12G      3.385      1.772       1.97         72        640: 100%|██████████| 184/184 [01:18<00:00,  2.35it/s]\n",
      "                 Class     Images  Instances      Box(P          R      mAP50  mAP50-95): 100%|██████████| 24/24 [00:10<00:00,  2.27it/s]"
     ]
    },
    {
     "name": "stdout",
     "output_type": "stream",
     "text": [
      "                   all        737       4748      0.899      0.733      0.832      0.507\n"
     ]
    },
    {
     "name": "stderr",
     "output_type": "stream",
     "text": [
      "\n"
     ]
    },
    {
     "name": "stdout",
     "output_type": "stream",
     "text": [
      "\n",
      "      Epoch    GPU_mem   box_loss   cls_loss   dfl_loss  Instances       Size\n"
     ]
    },
    {
     "name": "stderr",
     "output_type": "stream",
     "text": [
      "     38/100      3.92G      3.414      1.787      1.957         89        640: 100%|██████████| 184/184 [00:55<00:00,  3.30it/s]\n",
      "                 Class     Images  Instances      Box(P          R      mAP50  mAP50-95): 100%|██████████| 24/24 [00:11<00:00,  2.04it/s]\n"
     ]
    },
    {
     "name": "stdout",
     "output_type": "stream",
     "text": [
      "                   all        737       4748      0.895      0.736      0.828      0.501\n",
      "\n",
      "      Epoch    GPU_mem   box_loss   cls_loss   dfl_loss  Instances       Size\n"
     ]
    },
    {
     "name": "stderr",
     "output_type": "stream",
     "text": [
      "     39/100      4.33G      3.266      1.694      1.948         67        640: 100%|██████████| 184/184 [01:29<00:00,  2.05it/s]\n",
      "                 Class     Images  Instances      Box(P          R      mAP50  mAP50-95): 100%|██████████| 24/24 [00:09<00:00,  2.53it/s]\n"
     ]
    },
    {
     "name": "stdout",
     "output_type": "stream",
     "text": [
      "                   all        737       4748      0.894      0.742      0.834        0.5\n",
      "\n",
      "      Epoch    GPU_mem   box_loss   cls_loss   dfl_loss  Instances       Size\n"
     ]
    },
    {
     "name": "stderr",
     "output_type": "stream",
     "text": [
      "     40/100      4.51G      3.308      1.702      1.948         77        640: 100%|██████████| 184/184 [01:04<00:00,  2.86it/s]\n",
      "                 Class     Images  Instances      Box(P          R      mAP50  mAP50-95): 100%|██████████| 24/24 [00:09<00:00,  2.43it/s]\n"
     ]
    },
    {
     "name": "stdout",
     "output_type": "stream",
     "text": [
      "                   all        737       4748      0.879       0.76      0.841      0.502\n",
      "\n",
      "      Epoch    GPU_mem   box_loss   cls_loss   dfl_loss  Instances       Size\n"
     ]
    },
    {
     "name": "stderr",
     "output_type": "stream",
     "text": [
      "     41/100      4.66G      3.352      1.765       1.96        211        640: 100%|██████████| 184/184 [00:59<00:00,  3.07it/s]\n",
      "                 Class     Images  Instances      Box(P          R      mAP50  mAP50-95): 100%|██████████| 24/24 [00:09<00:00,  2.42it/s]"
     ]
    },
    {
     "name": "stdout",
     "output_type": "stream",
     "text": [
      "                   all        737       4748      0.883      0.754      0.836      0.505\n"
     ]
    },
    {
     "name": "stderr",
     "output_type": "stream",
     "text": [
      "\n"
     ]
    },
    {
     "name": "stdout",
     "output_type": "stream",
     "text": [
      "\n",
      "      Epoch    GPU_mem   box_loss   cls_loss   dfl_loss  Instances       Size\n"
     ]
    },
    {
     "name": "stderr",
     "output_type": "stream",
     "text": [
      "     42/100      4.87G      3.274      1.683      1.932        134        640: 100%|██████████| 184/184 [01:21<00:00,  2.26it/s]\n",
      "                 Class     Images  Instances      Box(P          R      mAP50  mAP50-95): 100%|██████████| 24/24 [00:09<00:00,  2.61it/s]\n"
     ]
    },
    {
     "name": "stdout",
     "output_type": "stream",
     "text": [
      "                   all        737       4748      0.893      0.738       0.83      0.498\n",
      "\n",
      "      Epoch    GPU_mem   box_loss   cls_loss   dfl_loss  Instances       Size\n"
     ]
    },
    {
     "name": "stderr",
     "output_type": "stream",
     "text": [
      "     43/100      5.04G      3.309      1.762      1.952        190        640: 100%|██████████| 184/184 [01:23<00:00,  2.21it/s]\n",
      "                 Class     Images  Instances      Box(P          R      mAP50  mAP50-95): 100%|██████████| 24/24 [00:10<00:00,  2.32it/s]"
     ]
    },
    {
     "name": "stdout",
     "output_type": "stream",
     "text": [
      "                   all        737       4748      0.892      0.746      0.834      0.501\n"
     ]
    },
    {
     "name": "stderr",
     "output_type": "stream",
     "text": [
      "\n"
     ]
    },
    {
     "name": "stdout",
     "output_type": "stream",
     "text": [
      "\n",
      "      Epoch    GPU_mem   box_loss   cls_loss   dfl_loss  Instances       Size\n"
     ]
    },
    {
     "name": "stderr",
     "output_type": "stream",
     "text": [
      "     44/100      3.76G      3.259      1.683      1.951         90        640: 100%|██████████| 184/184 [00:52<00:00,  3.51it/s]\n",
      "                 Class     Images  Instances      Box(P          R      mAP50  mAP50-95): 100%|██████████| 24/24 [00:11<00:00,  2.18it/s]"
     ]
    },
    {
     "name": "stdout",
     "output_type": "stream",
     "text": [
      "                   all        737       4748      0.892      0.755       0.84      0.514\n"
     ]
    },
    {
     "name": "stderr",
     "output_type": "stream",
     "text": [
      "\n"
     ]
    },
    {
     "name": "stdout",
     "output_type": "stream",
     "text": [
      "\n",
      "      Epoch    GPU_mem   box_loss   cls_loss   dfl_loss  Instances       Size\n"
     ]
    },
    {
     "name": "stderr",
     "output_type": "stream",
     "text": [
      "     45/100       4.2G      3.331       1.76       1.95        191        640: 100%|██████████| 184/184 [01:21<00:00,  2.25it/s]\n",
      "                 Class     Images  Instances      Box(P          R      mAP50  mAP50-95): 100%|██████████| 24/24 [00:07<00:00,  3.37it/s]\n"
     ]
    },
    {
     "name": "stdout",
     "output_type": "stream",
     "text": [
      "                   all        737       4748      0.904      0.749      0.843        0.5\n",
      "\n",
      "      Epoch    GPU_mem   box_loss   cls_loss   dfl_loss  Instances       Size\n"
     ]
    },
    {
     "name": "stderr",
     "output_type": "stream",
     "text": [
      "     46/100      4.32G      3.304      1.749      1.944        188        640: 100%|██████████| 184/184 [00:59<00:00,  3.08it/s]\n",
      "                 Class     Images  Instances      Box(P          R      mAP50  mAP50-95): 100%|██████████| 24/24 [00:09<00:00,  2.61it/s]\n"
     ]
    },
    {
     "name": "stdout",
     "output_type": "stream",
     "text": [
      "                   all        737       4748       0.89      0.749      0.835      0.493\n",
      "\n",
      "      Epoch    GPU_mem   box_loss   cls_loss   dfl_loss  Instances       Size\n"
     ]
    },
    {
     "name": "stderr",
     "output_type": "stream",
     "text": [
      "     47/100      4.24G      3.277      1.709      1.933        149        640: 100%|██████████| 184/184 [01:04<00:00,  2.85it/s]\n",
      "                 Class     Images  Instances      Box(P          R      mAP50  mAP50-95): 100%|██████████| 24/24 [00:11<00:00,  2.15it/s]\n"
     ]
    },
    {
     "name": "stdout",
     "output_type": "stream",
     "text": [
      "                   all        737       4748       0.89      0.761      0.843      0.515\n",
      "\n",
      "      Epoch    GPU_mem   box_loss   cls_loss   dfl_loss  Instances       Size\n"
     ]
    },
    {
     "name": "stderr",
     "output_type": "stream",
     "text": [
      "     48/100      4.53G       3.18      1.644       1.93        228        640: 100%|██████████| 184/184 [01:23<00:00,  2.21it/s]\n",
      "                 Class     Images  Instances      Box(P          R      mAP50  mAP50-95): 100%|██████████| 24/24 [00:08<00:00,  2.67it/s]"
     ]
    },
    {
     "name": "stdout",
     "output_type": "stream",
     "text": [
      "                   all        737       4748      0.905      0.753      0.842      0.502\n"
     ]
    },
    {
     "name": "stderr",
     "output_type": "stream",
     "text": [
      "\n"
     ]
    },
    {
     "name": "stdout",
     "output_type": "stream",
     "text": [
      "\n",
      "      Epoch    GPU_mem   box_loss   cls_loss   dfl_loss  Instances       Size\n"
     ]
    },
    {
     "name": "stderr",
     "output_type": "stream",
     "text": [
      "     49/100      4.46G      3.254      1.702      1.951        323        640: 100%|██████████| 184/184 [01:05<00:00,  2.82it/s]\n",
      "                 Class     Images  Instances      Box(P          R      mAP50  mAP50-95): 100%|██████████| 24/24 [00:10<00:00,  2.23it/s]\n"
     ]
    },
    {
     "name": "stdout",
     "output_type": "stream",
     "text": [
      "                   all        737       4748      0.901      0.753      0.845      0.513\n",
      "\n",
      "      Epoch    GPU_mem   box_loss   cls_loss   dfl_loss  Instances       Size\n"
     ]
    },
    {
     "name": "stderr",
     "output_type": "stream",
     "text": [
      "     50/100      5.32G      3.179      1.636      1.918        271        640: 100%|██████████| 184/184 [01:09<00:00,  2.66it/s]\n",
      "                 Class     Images  Instances      Box(P          R      mAP50  mAP50-95): 100%|██████████| 24/24 [00:13<00:00,  1.72it/s]"
     ]
    },
    {
     "name": "stdout",
     "output_type": "stream",
     "text": [
      "                   all        737       4748      0.904      0.745      0.841      0.503\n"
     ]
    },
    {
     "name": "stderr",
     "output_type": "stream",
     "text": [
      "\n"
     ]
    },
    {
     "name": "stdout",
     "output_type": "stream",
     "text": [
      "\n",
      "      Epoch    GPU_mem   box_loss   cls_loss   dfl_loss  Instances       Size\n"
     ]
    },
    {
     "name": "stderr",
     "output_type": "stream",
     "text": [
      "     51/100      4.21G      3.259        1.7       1.95        203        640: 100%|██████████| 184/184 [01:21<00:00,  2.27it/s]\n",
      "                 Class     Images  Instances      Box(P          R      mAP50  mAP50-95): 100%|██████████| 24/24 [00:08<00:00,  2.77it/s]"
     ]
    },
    {
     "name": "stdout",
     "output_type": "stream",
     "text": [
      "                   all        737       4748      0.894      0.758      0.847      0.509\n"
     ]
    },
    {
     "name": "stderr",
     "output_type": "stream",
     "text": [
      "\n"
     ]
    },
    {
     "name": "stdout",
     "output_type": "stream",
     "text": [
      "\n",
      "      Epoch    GPU_mem   box_loss   cls_loss   dfl_loss  Instances       Size\n"
     ]
    },
    {
     "name": "stderr",
     "output_type": "stream",
     "text": [
      "     52/100      3.97G      3.227      1.643      1.925        177        640: 100%|██████████| 184/184 [00:55<00:00,  3.31it/s]\n",
      "                 Class     Images  Instances      Box(P          R      mAP50  mAP50-95): 100%|██████████| 24/24 [00:08<00:00,  2.71it/s]"
     ]
    },
    {
     "name": "stdout",
     "output_type": "stream",
     "text": [
      "                   all        737       4748      0.896      0.754      0.844      0.522\n"
     ]
    },
    {
     "name": "stderr",
     "output_type": "stream",
     "text": [
      "\n"
     ]
    },
    {
     "name": "stdout",
     "output_type": "stream",
     "text": [
      "\n",
      "      Epoch    GPU_mem   box_loss   cls_loss   dfl_loss  Instances       Size\n"
     ]
    },
    {
     "name": "stderr",
     "output_type": "stream",
     "text": [
      "     53/100      3.98G      3.259      1.687      1.935        173        640: 100%|██████████| 184/184 [00:55<00:00,  3.29it/s]\n",
      "                 Class     Images  Instances      Box(P          R      mAP50  mAP50-95): 100%|██████████| 24/24 [00:10<00:00,  2.23it/s]\n"
     ]
    },
    {
     "name": "stdout",
     "output_type": "stream",
     "text": [
      "                   all        737       4748      0.894      0.759      0.846      0.514\n",
      "\n",
      "      Epoch    GPU_mem   box_loss   cls_loss   dfl_loss  Instances       Size\n"
     ]
    },
    {
     "name": "stderr",
     "output_type": "stream",
     "text": [
      "     54/100      4.13G      3.236      1.653      1.918        247        640: 100%|██████████| 184/184 [01:28<00:00,  2.07it/s]\n",
      "                 Class     Images  Instances      Box(P          R      mAP50  mAP50-95): 100%|██████████| 24/24 [00:08<00:00,  2.70it/s]\n"
     ]
    },
    {
     "name": "stdout",
     "output_type": "stream",
     "text": [
      "                   all        737       4748      0.885      0.754      0.839      0.513\n",
      "\n",
      "      Epoch    GPU_mem   box_loss   cls_loss   dfl_loss  Instances       Size\n"
     ]
    },
    {
     "name": "stderr",
     "output_type": "stream",
     "text": [
      "     55/100      4.23G      3.196      1.659      1.931        177        640: 100%|██████████| 184/184 [01:07<00:00,  2.71it/s]\n",
      "                 Class     Images  Instances      Box(P          R      mAP50  mAP50-95): 100%|██████████| 24/24 [00:09<00:00,  2.49it/s]"
     ]
    },
    {
     "name": "stdout",
     "output_type": "stream",
     "text": [
      "                   all        737       4748      0.901       0.75      0.845      0.513\n"
     ]
    },
    {
     "name": "stderr",
     "output_type": "stream",
     "text": [
      "\n"
     ]
    },
    {
     "name": "stdout",
     "output_type": "stream",
     "text": [
      "\n",
      "      Epoch    GPU_mem   box_loss   cls_loss   dfl_loss  Instances       Size\n"
     ]
    },
    {
     "name": "stderr",
     "output_type": "stream",
     "text": [
      "     56/100      4.52G      3.212      1.649      1.922        230        640: 100%|██████████| 184/184 [01:53<00:00,  1.62it/s]\n",
      "                 Class     Images  Instances      Box(P          R      mAP50  mAP50-95): 100%|██████████| 24/24 [00:15<00:00,  1.56it/s]\n"
     ]
    },
    {
     "name": "stdout",
     "output_type": "stream",
     "text": [
      "                   all        737       4748      0.903      0.753      0.845      0.507\n",
      "\n",
      "      Epoch    GPU_mem   box_loss   cls_loss   dfl_loss  Instances       Size\n"
     ]
    },
    {
     "name": "stderr",
     "output_type": "stream",
     "text": [
      "     57/100      4.34G      3.182      1.613       1.92        211        640: 100%|██████████| 184/184 [01:25<00:00,  2.16it/s]\n",
      "                 Class     Images  Instances      Box(P          R      mAP50  mAP50-95): 100%|██████████| 24/24 [00:08<00:00,  2.76it/s]\n"
     ]
    },
    {
     "name": "stdout",
     "output_type": "stream",
     "text": [
      "                   all        737       4748      0.905      0.762      0.852       0.53\n",
      "\n",
      "      Epoch    GPU_mem   box_loss   cls_loss   dfl_loss  Instances       Size\n"
     ]
    },
    {
     "name": "stderr",
     "output_type": "stream",
     "text": [
      "     58/100      4.35G      3.221      1.666      1.929         75        640: 100%|██████████| 184/184 [01:14<00:00,  2.48it/s]\n",
      "                 Class     Images  Instances      Box(P          R      mAP50  mAP50-95): 100%|██████████| 24/24 [00:09<00:00,  2.51it/s]"
     ]
    },
    {
     "name": "stdout",
     "output_type": "stream",
     "text": [
      "                   all        737       4748      0.903      0.761      0.852      0.531\n"
     ]
    },
    {
     "name": "stderr",
     "output_type": "stream",
     "text": [
      "\n"
     ]
    },
    {
     "name": "stdout",
     "output_type": "stream",
     "text": [
      "\n",
      "      Epoch    GPU_mem   box_loss   cls_loss   dfl_loss  Instances       Size\n"
     ]
    },
    {
     "name": "stderr",
     "output_type": "stream",
     "text": [
      "     59/100      3.86G      3.235      1.683       1.93        176        640: 100%|██████████| 184/184 [00:56<00:00,  3.28it/s]\n",
      "                 Class     Images  Instances      Box(P          R      mAP50  mAP50-95): 100%|██████████| 24/24 [00:10<00:00,  2.28it/s]"
     ]
    },
    {
     "name": "stdout",
     "output_type": "stream",
     "text": [
      "                   all        737       4748      0.907      0.759      0.851      0.518\n"
     ]
    },
    {
     "name": "stderr",
     "output_type": "stream",
     "text": [
      "\n"
     ]
    },
    {
     "name": "stdout",
     "output_type": "stream",
     "text": [
      "\n",
      "      Epoch    GPU_mem   box_loss   cls_loss   dfl_loss  Instances       Size\n"
     ]
    },
    {
     "name": "stderr",
     "output_type": "stream",
     "text": [
      "     60/100      4.52G      3.156      1.594      1.906        115        640: 100%|██████████| 184/184 [01:38<00:00,  1.87it/s]\n",
      "                 Class     Images  Instances      Box(P          R      mAP50  mAP50-95): 100%|██████████| 24/24 [00:09<00:00,  2.53it/s]"
     ]
    },
    {
     "name": "stdout",
     "output_type": "stream",
     "text": [
      "                   all        737       4748       0.91      0.761      0.853       0.53\n"
     ]
    },
    {
     "name": "stderr",
     "output_type": "stream",
     "text": [
      "\n"
     ]
    },
    {
     "name": "stdout",
     "output_type": "stream",
     "text": [
      "\n",
      "      Epoch    GPU_mem   box_loss   cls_loss   dfl_loss  Instances       Size\n"
     ]
    },
    {
     "name": "stderr",
     "output_type": "stream",
     "text": [
      "     61/100      4.64G      3.211      1.672      1.939        158        640: 100%|██████████| 184/184 [01:07<00:00,  2.74it/s]\n",
      "                 Class     Images  Instances      Box(P          R      mAP50  mAP50-95): 100%|██████████| 24/24 [00:09<00:00,  2.46it/s]"
     ]
    },
    {
     "name": "stdout",
     "output_type": "stream",
     "text": [
      "                   all        737       4748      0.899      0.757      0.849       0.51\n"
     ]
    },
    {
     "name": "stderr",
     "output_type": "stream",
     "text": [
      "\n"
     ]
    },
    {
     "name": "stdout",
     "output_type": "stream",
     "text": [
      "\n",
      "      Epoch    GPU_mem   box_loss   cls_loss   dfl_loss  Instances       Size\n"
     ]
    },
    {
     "name": "stderr",
     "output_type": "stream",
     "text": [
      "     62/100       4.3G      3.182      1.639      1.919         67        640: 100%|██████████| 184/184 [00:59<00:00,  3.08it/s]\n",
      "                 Class     Images  Instances      Box(P          R      mAP50  mAP50-95): 100%|██████████| 24/24 [00:10<00:00,  2.27it/s]"
     ]
    },
    {
     "name": "stdout",
     "output_type": "stream",
     "text": [
      "                   all        737       4748      0.911      0.761      0.853      0.531\n"
     ]
    },
    {
     "name": "stderr",
     "output_type": "stream",
     "text": [
      "\n"
     ]
    },
    {
     "name": "stdout",
     "output_type": "stream",
     "text": [
      "\n",
      "      Epoch    GPU_mem   box_loss   cls_loss   dfl_loss  Instances       Size\n"
     ]
    },
    {
     "name": "stderr",
     "output_type": "stream",
     "text": [
      "     63/100      4.26G       3.15      1.589      1.904         85        640: 100%|██████████| 184/184 [01:37<00:00,  1.89it/s]\n",
      "                 Class     Images  Instances      Box(P          R      mAP50  mAP50-95): 100%|██████████| 24/24 [00:10<00:00,  2.19it/s]\n"
     ]
    },
    {
     "name": "stdout",
     "output_type": "stream",
     "text": [
      "                   all        737       4748      0.905      0.752      0.849      0.509\n",
      "\n",
      "      Epoch    GPU_mem   box_loss   cls_loss   dfl_loss  Instances       Size\n"
     ]
    },
    {
     "name": "stderr",
     "output_type": "stream",
     "text": [
      "     64/100      3.99G      3.165      1.616       1.92         72        640: 100%|██████████| 184/184 [00:53<00:00,  3.42it/s]\n",
      "                 Class     Images  Instances      Box(P          R      mAP50  mAP50-95): 100%|██████████| 24/24 [00:08<00:00,  2.80it/s]\n"
     ]
    },
    {
     "name": "stdout",
     "output_type": "stream",
     "text": [
      "                   all        737       4748      0.906      0.767      0.856      0.531\n",
      "\n",
      "      Epoch    GPU_mem   box_loss   cls_loss   dfl_loss  Instances       Size\n"
     ]
    },
    {
     "name": "stderr",
     "output_type": "stream",
     "text": [
      "     65/100      3.59G      3.177      1.652      1.926        361        640: 100%|██████████| 184/184 [00:51<00:00,  3.55it/s]\n",
      "                 Class     Images  Instances      Box(P          R      mAP50  mAP50-95): 100%|██████████| 24/24 [00:08<00:00,  2.83it/s]"
     ]
    },
    {
     "name": "stdout",
     "output_type": "stream",
     "text": [
      "                   all        737       4748      0.902      0.762       0.85      0.521\n"
     ]
    },
    {
     "name": "stderr",
     "output_type": "stream",
     "text": [
      "\n"
     ]
    },
    {
     "name": "stdout",
     "output_type": "stream",
     "text": [
      "\n",
      "      Epoch    GPU_mem   box_loss   cls_loss   dfl_loss  Instances       Size\n"
     ]
    },
    {
     "name": "stderr",
     "output_type": "stream",
     "text": [
      "     66/100      3.94G       3.13       1.58      1.905        165        640: 100%|██████████| 184/184 [00:54<00:00,  3.37it/s]\n",
      "                 Class     Images  Instances      Box(P          R      mAP50  mAP50-95): 100%|██████████| 24/24 [00:08<00:00,  2.71it/s]\n"
     ]
    },
    {
     "name": "stdout",
     "output_type": "stream",
     "text": [
      "                   all        737       4748      0.905      0.761      0.852      0.531\n",
      "\n",
      "      Epoch    GPU_mem   box_loss   cls_loss   dfl_loss  Instances       Size\n"
     ]
    },
    {
     "name": "stderr",
     "output_type": "stream",
     "text": [
      "     67/100       4.2G       3.18      1.639      1.919        185        640: 100%|██████████| 184/184 [01:00<00:00,  3.05it/s]\n",
      "                 Class     Images  Instances      Box(P          R      mAP50  mAP50-95): 100%|██████████| 24/24 [00:08<00:00,  2.74it/s]"
     ]
    },
    {
     "name": "stdout",
     "output_type": "stream",
     "text": [
      "                   all        737       4748      0.901      0.762      0.855      0.521\n"
     ]
    },
    {
     "name": "stderr",
     "output_type": "stream",
     "text": [
      "\n"
     ]
    },
    {
     "name": "stdout",
     "output_type": "stream",
     "text": [
      "\n",
      "      Epoch    GPU_mem   box_loss   cls_loss   dfl_loss  Instances       Size\n"
     ]
    },
    {
     "name": "stderr",
     "output_type": "stream",
     "text": [
      "     68/100      4.18G      3.121      1.591      1.924        219        640: 100%|██████████| 184/184 [00:58<00:00,  3.17it/s]\n",
      "                 Class     Images  Instances      Box(P          R      mAP50  mAP50-95): 100%|██████████| 24/24 [00:09<00:00,  2.58it/s]\n"
     ]
    },
    {
     "name": "stdout",
     "output_type": "stream",
     "text": [
      "                   all        737       4748      0.899      0.764      0.851      0.522\n",
      "\n",
      "      Epoch    GPU_mem   box_loss   cls_loss   dfl_loss  Instances       Size\n"
     ]
    },
    {
     "name": "stderr",
     "output_type": "stream",
     "text": [
      "     69/100      3.93G      3.203      1.651      1.905        109        640: 100%|██████████| 184/184 [00:56<00:00,  3.23it/s]\n",
      "                 Class     Images  Instances      Box(P          R      mAP50  mAP50-95): 100%|██████████| 24/24 [00:08<00:00,  2.90it/s]\n"
     ]
    },
    {
     "name": "stdout",
     "output_type": "stream",
     "text": [
      "                   all        737       4748      0.894      0.775      0.856       0.53\n",
      "\n",
      "      Epoch    GPU_mem   box_loss   cls_loss   dfl_loss  Instances       Size\n"
     ]
    },
    {
     "name": "stderr",
     "output_type": "stream",
     "text": [
      "     70/100      4.87G      3.142      1.595      1.904        337        640: 100%|██████████| 184/184 [01:04<00:00,  2.86it/s]\n",
      "                 Class     Images  Instances      Box(P          R      mAP50  mAP50-95): 100%|██████████| 24/24 [00:08<00:00,  2.76it/s]\n"
     ]
    },
    {
     "name": "stdout",
     "output_type": "stream",
     "text": [
      "                   all        737       4748      0.907       0.77      0.858       0.53\n",
      "\n",
      "      Epoch    GPU_mem   box_loss   cls_loss   dfl_loss  Instances       Size\n"
     ]
    },
    {
     "name": "stderr",
     "output_type": "stream",
     "text": [
      "     71/100      5.13G      3.096      1.557      1.909        161        640: 100%|██████████| 184/184 [01:22<00:00,  2.22it/s]\n",
      "                 Class     Images  Instances      Box(P          R      mAP50  mAP50-95): 100%|██████████| 24/24 [00:09<00:00,  2.49it/s]"
     ]
    },
    {
     "name": "stdout",
     "output_type": "stream",
     "text": [
      "                   all        737       4748        0.9       0.77      0.855      0.531\n"
     ]
    },
    {
     "name": "stderr",
     "output_type": "stream",
     "text": [
      "\n"
     ]
    },
    {
     "name": "stdout",
     "output_type": "stream",
     "text": [
      "\n",
      "      Epoch    GPU_mem   box_loss   cls_loss   dfl_loss  Instances       Size\n"
     ]
    },
    {
     "name": "stderr",
     "output_type": "stream",
     "text": [
      "     72/100      4.29G      3.146      1.606      1.914        157        640: 100%|██████████| 184/184 [01:22<00:00,  2.23it/s]\n",
      "                 Class     Images  Instances      Box(P          R      mAP50  mAP50-95): 100%|██████████| 24/24 [00:07<00:00,  3.21it/s]\n"
     ]
    },
    {
     "name": "stdout",
     "output_type": "stream",
     "text": [
      "                   all        737       4748      0.903      0.771      0.858      0.529\n",
      "\n",
      "      Epoch    GPU_mem   box_loss   cls_loss   dfl_loss  Instances       Size\n"
     ]
    },
    {
     "name": "stderr",
     "output_type": "stream",
     "text": [
      "     73/100      4.13G      3.112       1.59      1.898        203        640: 100%|██████████| 184/184 [00:59<00:00,  3.12it/s]\n",
      "                 Class     Images  Instances      Box(P          R      mAP50  mAP50-95): 100%|██████████| 24/24 [00:08<00:00,  2.68it/s]"
     ]
    },
    {
     "name": "stdout",
     "output_type": "stream",
     "text": [
      "                   all        737       4748      0.908      0.769       0.86       0.53\n"
     ]
    },
    {
     "name": "stderr",
     "output_type": "stream",
     "text": [
      "\n"
     ]
    },
    {
     "name": "stdout",
     "output_type": "stream",
     "text": [
      "\n",
      "      Epoch    GPU_mem   box_loss   cls_loss   dfl_loss  Instances       Size\n"
     ]
    },
    {
     "name": "stderr",
     "output_type": "stream",
     "text": [
      "     74/100      4.21G      3.124      1.602      1.915        172        640: 100%|██████████| 184/184 [00:59<00:00,  3.10it/s]\n",
      "                 Class     Images  Instances      Box(P          R      mAP50  mAP50-95): 100%|██████████| 24/24 [00:09<00:00,  2.51it/s]\n"
     ]
    },
    {
     "name": "stdout",
     "output_type": "stream",
     "text": [
      "                   all        737       4748      0.905      0.767      0.857      0.522\n",
      "\n",
      "      Epoch    GPU_mem   box_loss   cls_loss   dfl_loss  Instances       Size\n"
     ]
    },
    {
     "name": "stderr",
     "output_type": "stream",
     "text": [
      "     75/100      4.58G      3.085      1.538      1.893        144        640: 100%|██████████| 184/184 [01:08<00:00,  2.70it/s]\n",
      "                 Class     Images  Instances      Box(P          R      mAP50  mAP50-95): 100%|██████████| 24/24 [00:08<00:00,  2.75it/s]"
     ]
    },
    {
     "name": "stdout",
     "output_type": "stream",
     "text": [
      "                   all        737       4748      0.908      0.769      0.861      0.524\n"
     ]
    },
    {
     "name": "stderr",
     "output_type": "stream",
     "text": [
      "\n"
     ]
    },
    {
     "name": "stdout",
     "output_type": "stream",
     "text": [
      "\n",
      "      Epoch    GPU_mem   box_loss   cls_loss   dfl_loss  Instances       Size\n"
     ]
    },
    {
     "name": "stderr",
     "output_type": "stream",
     "text": [
      "     76/100      4.17G      3.054      1.557      1.908        298        640: 100%|██████████| 184/184 [01:06<00:00,  2.75it/s]\n",
      "                 Class     Images  Instances      Box(P          R      mAP50  mAP50-95): 100%|██████████| 24/24 [00:08<00:00,  2.88it/s]"
     ]
    },
    {
     "name": "stdout",
     "output_type": "stream",
     "text": [
      "                   all        737       4748      0.904      0.769      0.858      0.523\n"
     ]
    },
    {
     "name": "stderr",
     "output_type": "stream",
     "text": [
      "\n"
     ]
    },
    {
     "name": "stdout",
     "output_type": "stream",
     "text": [
      "\n",
      "      Epoch    GPU_mem   box_loss   cls_loss   dfl_loss  Instances       Size\n"
     ]
    },
    {
     "name": "stderr",
     "output_type": "stream",
     "text": [
      "     77/100      5.47G      3.124      1.588      1.886        131        640: 100%|██████████| 184/184 [01:16<00:00,  2.39it/s]\n",
      "                 Class     Images  Instances      Box(P          R      mAP50  mAP50-95): 100%|██████████| 24/24 [00:10<00:00,  2.21it/s]"
     ]
    },
    {
     "name": "stdout",
     "output_type": "stream",
     "text": [
      "                   all        737       4748      0.905       0.77       0.86      0.532\n"
     ]
    },
    {
     "name": "stderr",
     "output_type": "stream",
     "text": [
      "\n"
     ]
    },
    {
     "name": "stdout",
     "output_type": "stream",
     "text": [
      "\n",
      "      Epoch    GPU_mem   box_loss   cls_loss   dfl_loss  Instances       Size\n"
     ]
    },
    {
     "name": "stderr",
     "output_type": "stream",
     "text": [
      "     78/100       3.9G      3.098      1.573      1.889        185        640: 100%|██████████| 184/184 [00:56<00:00,  3.23it/s]\n",
      "                 Class     Images  Instances      Box(P          R      mAP50  mAP50-95): 100%|██████████| 24/24 [00:07<00:00,  3.11it/s]"
     ]
    },
    {
     "name": "stdout",
     "output_type": "stream",
     "text": [
      "                   all        737       4748      0.909      0.767      0.857      0.528\n"
     ]
    },
    {
     "name": "stderr",
     "output_type": "stream",
     "text": [
      "\n"
     ]
    },
    {
     "name": "stdout",
     "output_type": "stream",
     "text": [
      "\n",
      "      Epoch    GPU_mem   box_loss   cls_loss   dfl_loss  Instances       Size\n"
     ]
    },
    {
     "name": "stderr",
     "output_type": "stream",
     "text": [
      "     79/100       4.4G      3.059      1.548      1.888        260        640: 100%|██████████| 184/184 [01:13<00:00,  2.50it/s]\n",
      "                 Class     Images  Instances      Box(P          R      mAP50  mAP50-95): 100%|██████████| 24/24 [00:12<00:00,  1.86it/s]\n"
     ]
    },
    {
     "name": "stdout",
     "output_type": "stream",
     "text": [
      "                   all        737       4748      0.904      0.773       0.86      0.538\n",
      "\n",
      "      Epoch    GPU_mem   box_loss   cls_loss   dfl_loss  Instances       Size\n"
     ]
    },
    {
     "name": "stderr",
     "output_type": "stream",
     "text": [
      "     80/100      4.47G      2.996      1.502      1.888        129        640: 100%|██████████| 184/184 [01:00<00:00,  3.06it/s]\n",
      "                 Class     Images  Instances      Box(P          R      mAP50  mAP50-95): 100%|██████████| 24/24 [00:08<00:00,  2.80it/s]\n"
     ]
    },
    {
     "name": "stdout",
     "output_type": "stream",
     "text": [
      "                   all        737       4748      0.899      0.771      0.857      0.531\n",
      "\n",
      "      Epoch    GPU_mem   box_loss   cls_loss   dfl_loss  Instances       Size\n"
     ]
    },
    {
     "name": "stderr",
     "output_type": "stream",
     "text": [
      "     81/100       4.9G       3.02      1.517      1.873         96        640: 100%|██████████| 184/184 [01:33<00:00,  1.97it/s]\n",
      "                 Class     Images  Instances      Box(P          R      mAP50  mAP50-95): 100%|██████████| 24/24 [00:10<00:00,  2.25it/s]"
     ]
    },
    {
     "name": "stdout",
     "output_type": "stream",
     "text": [
      "                   all        737       4748      0.903      0.768      0.856      0.534\n"
     ]
    },
    {
     "name": "stderr",
     "output_type": "stream",
     "text": [
      "\n"
     ]
    },
    {
     "name": "stdout",
     "output_type": "stream",
     "text": [
      "\n",
      "      Epoch    GPU_mem   box_loss   cls_loss   dfl_loss  Instances       Size\n"
     ]
    },
    {
     "name": "stderr",
     "output_type": "stream",
     "text": [
      "     82/100      4.04G      3.046      1.542      1.889        181        640: 100%|██████████| 184/184 [01:50<00:00,  1.67it/s]\n",
      "                 Class     Images  Instances      Box(P          R      mAP50  mAP50-95): 100%|██████████| 24/24 [00:23<00:00,  1.00it/s]"
     ]
    },
    {
     "name": "stdout",
     "output_type": "stream",
     "text": [
      "                   all        737       4748      0.907      0.769       0.86      0.544\n"
     ]
    },
    {
     "name": "stderr",
     "output_type": "stream",
     "text": [
      "\n"
     ]
    },
    {
     "name": "stdout",
     "output_type": "stream",
     "text": [
      "\n",
      "      Epoch    GPU_mem   box_loss   cls_loss   dfl_loss  Instances       Size\n"
     ]
    },
    {
     "name": "stderr",
     "output_type": "stream",
     "text": [
      "     83/100      4.14G      3.029      1.536      1.894        163        640: 100%|██████████| 184/184 [01:02<00:00,  2.94it/s]\n",
      "                 Class     Images  Instances      Box(P          R      mAP50  mAP50-95): 100%|██████████| 24/24 [00:10<00:00,  2.39it/s]"
     ]
    },
    {
     "name": "stdout",
     "output_type": "stream",
     "text": [
      "                   all        737       4748      0.895      0.774      0.856      0.534\n"
     ]
    },
    {
     "name": "stderr",
     "output_type": "stream",
     "text": [
      "\n"
     ]
    },
    {
     "name": "stdout",
     "output_type": "stream",
     "text": [
      "\n",
      "      Epoch    GPU_mem   box_loss   cls_loss   dfl_loss  Instances       Size\n"
     ]
    },
    {
     "name": "stderr",
     "output_type": "stream",
     "text": [
      "     84/100      3.93G      3.036      1.545      1.888        125        640: 100%|██████████| 184/184 [01:02<00:00,  2.92it/s]\n",
      "                 Class     Images  Instances      Box(P          R      mAP50  mAP50-95): 100%|██████████| 24/24 [00:22<00:00,  1.06it/s]"
     ]
    },
    {
     "name": "stdout",
     "output_type": "stream",
     "text": [
      "                   all        737       4748      0.912      0.769       0.86      0.531\n"
     ]
    },
    {
     "name": "stderr",
     "output_type": "stream",
     "text": [
      "\n"
     ]
    },
    {
     "name": "stdout",
     "output_type": "stream",
     "text": [
      "\n",
      "      Epoch    GPU_mem   box_loss   cls_loss   dfl_loss  Instances       Size\n"
     ]
    },
    {
     "name": "stderr",
     "output_type": "stream",
     "text": [
      "     85/100      4.74G      3.091      1.552      1.873        303        640: 100%|██████████| 184/184 [01:18<00:00,  2.36it/s]\n",
      "                 Class     Images  Instances      Box(P          R      mAP50  mAP50-95): 100%|██████████| 24/24 [00:10<00:00,  2.39it/s]"
     ]
    },
    {
     "name": "stdout",
     "output_type": "stream",
     "text": [
      "                   all        737       4748      0.904      0.774      0.857      0.532\n"
     ]
    },
    {
     "name": "stderr",
     "output_type": "stream",
     "text": [
      "\n"
     ]
    },
    {
     "name": "stdout",
     "output_type": "stream",
     "text": [
      "\n",
      "      Epoch    GPU_mem   box_loss   cls_loss   dfl_loss  Instances       Size\n"
     ]
    },
    {
     "name": "stderr",
     "output_type": "stream",
     "text": [
      "     86/100      4.17G       3.05      1.544      1.884        358        640: 100%|██████████| 184/184 [01:02<00:00,  2.94it/s]\n",
      "                 Class     Images  Instances      Box(P          R      mAP50  mAP50-95): 100%|██████████| 24/24 [00:08<00:00,  2.72it/s]\n"
     ]
    },
    {
     "name": "stdout",
     "output_type": "stream",
     "text": [
      "                   all        737       4748        0.9      0.777      0.859      0.537\n",
      "\n",
      "      Epoch    GPU_mem   box_loss   cls_loss   dfl_loss  Instances       Size\n"
     ]
    },
    {
     "name": "stderr",
     "output_type": "stream",
     "text": [
      "     87/100      4.13G      3.041      1.533      1.878         33        640: 100%|██████████| 184/184 [01:13<00:00,  2.51it/s]\n",
      "                 Class     Images  Instances      Box(P          R      mAP50  mAP50-95): 100%|██████████| 24/24 [00:12<00:00,  2.00it/s]"
     ]
    },
    {
     "name": "stdout",
     "output_type": "stream",
     "text": [
      "                   all        737       4748      0.902      0.773      0.858      0.533\n"
     ]
    },
    {
     "name": "stderr",
     "output_type": "stream",
     "text": [
      "\n"
     ]
    },
    {
     "name": "stdout",
     "output_type": "stream",
     "text": [
      "\n",
      "      Epoch    GPU_mem   box_loss   cls_loss   dfl_loss  Instances       Size\n"
     ]
    },
    {
     "name": "stderr",
     "output_type": "stream",
     "text": [
      "     88/100       4.5G       3.03      1.565      1.884        106        640: 100%|██████████| 184/184 [01:01<00:00,  2.98it/s]\n",
      "                 Class     Images  Instances      Box(P          R      mAP50  mAP50-95): 100%|██████████| 24/24 [00:08<00:00,  2.73it/s]\n"
     ]
    },
    {
     "name": "stdout",
     "output_type": "stream",
     "text": [
      "                   all        737       4748      0.907      0.782      0.865      0.547\n",
      "\n",
      "      Epoch    GPU_mem   box_loss   cls_loss   dfl_loss  Instances       Size\n"
     ]
    },
    {
     "name": "stderr",
     "output_type": "stream",
     "text": [
      "     89/100      4.67G      3.012      1.536      1.864        168        640: 100%|██████████| 184/184 [01:18<00:00,  2.36it/s]\n",
      "                 Class     Images  Instances      Box(P          R      mAP50  mAP50-95): 100%|██████████| 24/24 [00:10<00:00,  2.22it/s]"
     ]
    },
    {
     "name": "stdout",
     "output_type": "stream",
     "text": [
      "                   all        737       4748      0.907      0.781      0.864      0.546\n"
     ]
    },
    {
     "name": "stderr",
     "output_type": "stream",
     "text": [
      "\n"
     ]
    },
    {
     "name": "stdout",
     "output_type": "stream",
     "text": [
      "\n",
      "      Epoch    GPU_mem   box_loss   cls_loss   dfl_loss  Instances       Size\n"
     ]
    },
    {
     "name": "stderr",
     "output_type": "stream",
     "text": [
      "     90/100       4.5G      3.008      1.522      1.874        146        640: 100%|██████████| 184/184 [01:18<00:00,  2.33it/s]\n",
      "                 Class     Images  Instances      Box(P          R      mAP50  mAP50-95): 100%|██████████| 24/24 [00:23<00:00,  1.04it/s]"
     ]
    },
    {
     "name": "stdout",
     "output_type": "stream",
     "text": [
      "                   all        737       4748      0.914      0.772      0.864      0.542\n"
     ]
    },
    {
     "name": "stderr",
     "output_type": "stream",
     "text": [
      "\n"
     ]
    },
    {
     "name": "stdout",
     "output_type": "stream",
     "text": [
      "Closing dataloader mosaic\n",
      "\n",
      "      Epoch    GPU_mem   box_loss   cls_loss   dfl_loss  Instances       Size\n"
     ]
    },
    {
     "name": "stderr",
     "output_type": "stream",
     "text": [
      "     91/100      4.36G      2.945      1.539      1.918        134        640: 100%|██████████| 184/184 [01:13<00:00,  2.52it/s]\n",
      "                 Class     Images  Instances      Box(P          R      mAP50  mAP50-95): 100%|██████████| 24/24 [00:09<00:00,  2.56it/s]\n"
     ]
    },
    {
     "name": "stdout",
     "output_type": "stream",
     "text": [
      "                   all        737       4748      0.902      0.777      0.861      0.535\n",
      "\n",
      "      Epoch    GPU_mem   box_loss   cls_loss   dfl_loss  Instances       Size\n"
     ]
    },
    {
     "name": "stderr",
     "output_type": "stream",
     "text": [
      "     92/100      3.92G      2.874      1.454      1.892         20        640: 100%|██████████| 184/184 [00:58<00:00,  3.15it/s]\n",
      "                 Class     Images  Instances      Box(P          R      mAP50  mAP50-95): 100%|██████████| 24/24 [00:09<00:00,  2.40it/s]"
     ]
    },
    {
     "name": "stdout",
     "output_type": "stream",
     "text": [
      "                   all        737       4748      0.906      0.777      0.861      0.539\n"
     ]
    },
    {
     "name": "stderr",
     "output_type": "stream",
     "text": [
      "\n"
     ]
    },
    {
     "name": "stdout",
     "output_type": "stream",
     "text": [
      "\n",
      "      Epoch    GPU_mem   box_loss   cls_loss   dfl_loss  Instances       Size\n"
     ]
    },
    {
     "name": "stderr",
     "output_type": "stream",
     "text": [
      "     93/100      4.86G       2.96      1.541      1.914         84        640: 100%|██████████| 184/184 [01:00<00:00,  3.03it/s]\n",
      "                 Class     Images  Instances      Box(P          R      mAP50  mAP50-95): 100%|██████████| 24/24 [00:23<00:00,  1.01it/s]"
     ]
    },
    {
     "name": "stdout",
     "output_type": "stream",
     "text": [
      "                   all        737       4748      0.908      0.777      0.863      0.536\n"
     ]
    },
    {
     "name": "stderr",
     "output_type": "stream",
     "text": [
      "\n"
     ]
    },
    {
     "name": "stdout",
     "output_type": "stream",
     "text": [
      "\n",
      "      Epoch    GPU_mem   box_loss   cls_loss   dfl_loss  Instances       Size\n"
     ]
    },
    {
     "name": "stderr",
     "output_type": "stream",
     "text": [
      "     94/100      3.59G      2.907      1.504      1.913        111        640: 100%|██████████| 184/184 [00:53<00:00,  3.41it/s]\n",
      "                 Class     Images  Instances      Box(P          R      mAP50  mAP50-95): 100%|██████████| 24/24 [00:08<00:00,  2.93it/s]\n"
     ]
    },
    {
     "name": "stdout",
     "output_type": "stream",
     "text": [
      "                   all        737       4748      0.911      0.774      0.862       0.54\n",
      "\n",
      "      Epoch    GPU_mem   box_loss   cls_loss   dfl_loss  Instances       Size\n"
     ]
    },
    {
     "name": "stderr",
     "output_type": "stream",
     "text": [
      "     95/100      4.37G      2.893      1.516      1.917         56        640: 100%|██████████| 184/184 [01:00<00:00,  3.06it/s]\n",
      "                 Class     Images  Instances      Box(P          R      mAP50  mAP50-95): 100%|██████████| 24/24 [00:10<00:00,  2.30it/s]"
     ]
    },
    {
     "name": "stdout",
     "output_type": "stream",
     "text": [
      "                   all        737       4748      0.906      0.777      0.863      0.536\n"
     ]
    },
    {
     "name": "stderr",
     "output_type": "stream",
     "text": [
      "\n"
     ]
    },
    {
     "name": "stdout",
     "output_type": "stream",
     "text": [
      "\n",
      "      Epoch    GPU_mem   box_loss   cls_loss   dfl_loss  Instances       Size\n"
     ]
    },
    {
     "name": "stderr",
     "output_type": "stream",
     "text": [
      "     96/100      4.38G      2.946      1.537      1.904         40        640: 100%|██████████| 184/184 [00:58<00:00,  3.17it/s]\n",
      "                 Class     Images  Instances      Box(P          R      mAP50  mAP50-95): 100%|██████████| 24/24 [00:21<00:00,  1.10it/s]"
     ]
    },
    {
     "name": "stdout",
     "output_type": "stream",
     "text": [
      "                   all        737       4748      0.909      0.778      0.863      0.538\n"
     ]
    },
    {
     "name": "stderr",
     "output_type": "stream",
     "text": [
      "\n"
     ]
    },
    {
     "name": "stdout",
     "output_type": "stream",
     "text": [
      "\n",
      "      Epoch    GPU_mem   box_loss   cls_loss   dfl_loss  Instances       Size\n"
     ]
    },
    {
     "name": "stderr",
     "output_type": "stream",
     "text": [
      "     97/100      4.02G      2.884       1.47      1.902         40        640: 100%|██████████| 184/184 [00:53<00:00,  3.45it/s]\n",
      "                 Class     Images  Instances      Box(P          R      mAP50  mAP50-95): 100%|██████████| 24/24 [00:09<00:00,  2.54it/s]\n"
     ]
    },
    {
     "name": "stdout",
     "output_type": "stream",
     "text": [
      "                   all        737       4748      0.908      0.773      0.862      0.533\n",
      "\n",
      "      Epoch    GPU_mem   box_loss   cls_loss   dfl_loss  Instances       Size\n"
     ]
    },
    {
     "name": "stderr",
     "output_type": "stream",
     "text": [
      "     98/100      3.75G      2.848      1.447      1.894         44        640: 100%|██████████| 184/184 [00:51<00:00,  3.58it/s]\n",
      "                 Class     Images  Instances      Box(P          R      mAP50  mAP50-95): 100%|██████████| 24/24 [00:09<00:00,  2.47it/s]"
     ]
    },
    {
     "name": "stdout",
     "output_type": "stream",
     "text": [
      "                   all        737       4748      0.905      0.781      0.863      0.541\n"
     ]
    },
    {
     "name": "stderr",
     "output_type": "stream",
     "text": [
      "\n"
     ]
    },
    {
     "name": "stdout",
     "output_type": "stream",
     "text": [
      "\n",
      "      Epoch    GPU_mem   box_loss   cls_loss   dfl_loss  Instances       Size\n"
     ]
    },
    {
     "name": "stderr",
     "output_type": "stream",
     "text": [
      "     99/100      3.75G      2.882      1.458      1.896        130        640: 100%|██████████| 184/184 [00:51<00:00,  3.58it/s]\n",
      "                 Class     Images  Instances      Box(P          R      mAP50  mAP50-95): 100%|██████████| 24/24 [00:09<00:00,  2.54it/s]\n"
     ]
    },
    {
     "name": "stdout",
     "output_type": "stream",
     "text": [
      "                   all        737       4748      0.907      0.776      0.863      0.537\n",
      "\n",
      "      Epoch    GPU_mem   box_loss   cls_loss   dfl_loss  Instances       Size\n"
     ]
    },
    {
     "name": "stderr",
     "output_type": "stream",
     "text": [
      "    100/100       3.7G      2.879      1.495      1.897         78        640: 100%|██████████| 184/184 [00:52<00:00,  3.51it/s]\n",
      "                 Class     Images  Instances      Box(P          R      mAP50  mAP50-95): 100%|██████████| 24/24 [00:09<00:00,  2.57it/s]\n"
     ]
    },
    {
     "name": "stdout",
     "output_type": "stream",
     "text": [
      "                   all        737       4748      0.908      0.778      0.862      0.533\n",
      "\n",
      "100 epochs completed in 2.386 hours.\n",
      "Optimizer stripped from runs\\detect\\train41\\weights\\last.pt, 5.7MB\n",
      "Optimizer stripped from runs\\detect\\train41\\weights\\best.pt, 5.7MB\n",
      "\n",
      "Validating runs\\detect\\train41\\weights\\best.pt...\n",
      "Ultralytics YOLOv8.2.101  Python-3.12.0 torch-2.5.1+cu124 CUDA:0 (NVIDIA GeForce RTX 3050 Ti Laptop GPU, 4096MiB)\n",
      "YOLOv10n summary (fused): 285 layers, 2,694,806 parameters, 0 gradients, 8.2 GFLOPs\n"
     ]
    },
    {
     "name": "stderr",
     "output_type": "stream",
     "text": [
      "                 Class     Images  Instances      Box(P          R      mAP50  mAP50-95): 100%|██████████| 24/24 [00:05<00:00,  4.14it/s]\n"
     ]
    },
    {
     "name": "stdout",
     "output_type": "stream",
     "text": [
      "                   all        737       4748      0.909      0.782      0.865      0.547\n",
      "Speed: 0.3ms preprocess, 2.8ms inference, 0.0ms loss, 0.2ms postprocess per image\n",
      "Results saved to \u001b[1mruns\\detect\\train41\u001b[0m\n",
      "ultralytics.utils.metrics.DetMetrics object with attributes:\n",
      "\n",
      "ap_class_index: array([0])\n",
      "box: ultralytics.utils.metrics.Metric object\n",
      "confusion_matrix: <ultralytics.utils.metrics.ConfusionMatrix object at 0x0000019512AEB650>\n",
      "curves: ['Precision-Recall(B)', 'F1-Confidence(B)', 'Precision-Confidence(B)', 'Recall-Confidence(B)']\n",
      "curves_results: [[array([          0,    0.001001,    0.002002,    0.003003,    0.004004,    0.005005,    0.006006,    0.007007,    0.008008,    0.009009,     0.01001,    0.011011,    0.012012,    0.013013,    0.014014,    0.015015,    0.016016,    0.017017,    0.018018,    0.019019,     0.02002,    0.021021,    0.022022,    0.023023,\n",
      "          0.024024,    0.025025,    0.026026,    0.027027,    0.028028,    0.029029,     0.03003,    0.031031,    0.032032,    0.033033,    0.034034,    0.035035,    0.036036,    0.037037,    0.038038,    0.039039,     0.04004,    0.041041,    0.042042,    0.043043,    0.044044,    0.045045,    0.046046,    0.047047,\n",
      "          0.048048,    0.049049,     0.05005,    0.051051,    0.052052,    0.053053,    0.054054,    0.055055,    0.056056,    0.057057,    0.058058,    0.059059,     0.06006,    0.061061,    0.062062,    0.063063,    0.064064,    0.065065,    0.066066,    0.067067,    0.068068,    0.069069,     0.07007,    0.071071,\n",
      "          0.072072,    0.073073,    0.074074,    0.075075,    0.076076,    0.077077,    0.078078,    0.079079,     0.08008,    0.081081,    0.082082,    0.083083,    0.084084,    0.085085,    0.086086,    0.087087,    0.088088,    0.089089,     0.09009,    0.091091,    0.092092,    0.093093,    0.094094,    0.095095,\n",
      "          0.096096,    0.097097,    0.098098,    0.099099,      0.1001,      0.1011,      0.1021,      0.1031,      0.1041,     0.10511,     0.10611,     0.10711,     0.10811,     0.10911,     0.11011,     0.11111,     0.11211,     0.11311,     0.11411,     0.11512,     0.11612,     0.11712,     0.11812,     0.11912,\n",
      "           0.12012,     0.12112,     0.12212,     0.12312,     0.12412,     0.12513,     0.12613,     0.12713,     0.12813,     0.12913,     0.13013,     0.13113,     0.13213,     0.13313,     0.13413,     0.13514,     0.13614,     0.13714,     0.13814,     0.13914,     0.14014,     0.14114,     0.14214,     0.14314,\n",
      "           0.14414,     0.14515,     0.14615,     0.14715,     0.14815,     0.14915,     0.15015,     0.15115,     0.15215,     0.15315,     0.15415,     0.15516,     0.15616,     0.15716,     0.15816,     0.15916,     0.16016,     0.16116,     0.16216,     0.16316,     0.16416,     0.16517,     0.16617,     0.16717,\n",
      "           0.16817,     0.16917,     0.17017,     0.17117,     0.17217,     0.17317,     0.17417,     0.17518,     0.17618,     0.17718,     0.17818,     0.17918,     0.18018,     0.18118,     0.18218,     0.18318,     0.18418,     0.18519,     0.18619,     0.18719,     0.18819,     0.18919,     0.19019,     0.19119,\n",
      "           0.19219,     0.19319,     0.19419,      0.1952,      0.1962,      0.1972,      0.1982,      0.1992,      0.2002,      0.2012,      0.2022,      0.2032,      0.2042,     0.20521,     0.20621,     0.20721,     0.20821,     0.20921,     0.21021,     0.21121,     0.21221,     0.21321,     0.21421,     0.21522,\n",
      "           0.21622,     0.21722,     0.21822,     0.21922,     0.22022,     0.22122,     0.22222,     0.22322,     0.22422,     0.22523,     0.22623,     0.22723,     0.22823,     0.22923,     0.23023,     0.23123,     0.23223,     0.23323,     0.23423,     0.23524,     0.23624,     0.23724,     0.23824,     0.23924,\n",
      "           0.24024,     0.24124,     0.24224,     0.24324,     0.24424,     0.24525,     0.24625,     0.24725,     0.24825,     0.24925,     0.25025,     0.25125,     0.25225,     0.25325,     0.25425,     0.25526,     0.25626,     0.25726,     0.25826,     0.25926,     0.26026,     0.26126,     0.26226,     0.26326,\n",
      "           0.26426,     0.26527,     0.26627,     0.26727,     0.26827,     0.26927,     0.27027,     0.27127,     0.27227,     0.27327,     0.27427,     0.27528,     0.27628,     0.27728,     0.27828,     0.27928,     0.28028,     0.28128,     0.28228,     0.28328,     0.28428,     0.28529,     0.28629,     0.28729,\n",
      "           0.28829,     0.28929,     0.29029,     0.29129,     0.29229,     0.29329,     0.29429,      0.2953,      0.2963,      0.2973,      0.2983,      0.2993,      0.3003,      0.3013,      0.3023,      0.3033,      0.3043,     0.30531,     0.30631,     0.30731,     0.30831,     0.30931,     0.31031,     0.31131,\n",
      "           0.31231,     0.31331,     0.31431,     0.31532,     0.31632,     0.31732,     0.31832,     0.31932,     0.32032,     0.32132,     0.32232,     0.32332,     0.32432,     0.32533,     0.32633,     0.32733,     0.32833,     0.32933,     0.33033,     0.33133,     0.33233,     0.33333,     0.33433,     0.33534,\n",
      "           0.33634,     0.33734,     0.33834,     0.33934,     0.34034,     0.34134,     0.34234,     0.34334,     0.34434,     0.34535,     0.34635,     0.34735,     0.34835,     0.34935,     0.35035,     0.35135,     0.35235,     0.35335,     0.35435,     0.35536,     0.35636,     0.35736,     0.35836,     0.35936,\n",
      "           0.36036,     0.36136,     0.36236,     0.36336,     0.36436,     0.36537,     0.36637,     0.36737,     0.36837,     0.36937,     0.37037,     0.37137,     0.37237,     0.37337,     0.37437,     0.37538,     0.37638,     0.37738,     0.37838,     0.37938,     0.38038,     0.38138,     0.38238,     0.38338,\n",
      "           0.38438,     0.38539,     0.38639,     0.38739,     0.38839,     0.38939,     0.39039,     0.39139,     0.39239,     0.39339,     0.39439,      0.3954,      0.3964,      0.3974,      0.3984,      0.3994,      0.4004,      0.4014,      0.4024,      0.4034,      0.4044,     0.40541,     0.40641,     0.40741,\n",
      "           0.40841,     0.40941,     0.41041,     0.41141,     0.41241,     0.41341,     0.41441,     0.41542,     0.41642,     0.41742,     0.41842,     0.41942,     0.42042,     0.42142,     0.42242,     0.42342,     0.42442,     0.42543,     0.42643,     0.42743,     0.42843,     0.42943,     0.43043,     0.43143,\n",
      "           0.43243,     0.43343,     0.43443,     0.43544,     0.43644,     0.43744,     0.43844,     0.43944,     0.44044,     0.44144,     0.44244,     0.44344,     0.44444,     0.44545,     0.44645,     0.44745,     0.44845,     0.44945,     0.45045,     0.45145,     0.45245,     0.45345,     0.45445,     0.45546,\n",
      "           0.45646,     0.45746,     0.45846,     0.45946,     0.46046,     0.46146,     0.46246,     0.46346,     0.46446,     0.46547,     0.46647,     0.46747,     0.46847,     0.46947,     0.47047,     0.47147,     0.47247,     0.47347,     0.47447,     0.47548,     0.47648,     0.47748,     0.47848,     0.47948,\n",
      "           0.48048,     0.48148,     0.48248,     0.48348,     0.48448,     0.48549,     0.48649,     0.48749,     0.48849,     0.48949,     0.49049,     0.49149,     0.49249,     0.49349,     0.49449,      0.4955,      0.4965,      0.4975,      0.4985,      0.4995,      0.5005,      0.5015,      0.5025,      0.5035,\n",
      "            0.5045,     0.50551,     0.50651,     0.50751,     0.50851,     0.50951,     0.51051,     0.51151,     0.51251,     0.51351,     0.51451,     0.51552,     0.51652,     0.51752,     0.51852,     0.51952,     0.52052,     0.52152,     0.52252,     0.52352,     0.52452,     0.52553,     0.52653,     0.52753,\n",
      "           0.52853,     0.52953,     0.53053,     0.53153,     0.53253,     0.53353,     0.53453,     0.53554,     0.53654,     0.53754,     0.53854,     0.53954,     0.54054,     0.54154,     0.54254,     0.54354,     0.54454,     0.54555,     0.54655,     0.54755,     0.54855,     0.54955,     0.55055,     0.55155,\n",
      "           0.55255,     0.55355,     0.55455,     0.55556,     0.55656,     0.55756,     0.55856,     0.55956,     0.56056,     0.56156,     0.56256,     0.56356,     0.56456,     0.56557,     0.56657,     0.56757,     0.56857,     0.56957,     0.57057,     0.57157,     0.57257,     0.57357,     0.57457,     0.57558,\n",
      "           0.57658,     0.57758,     0.57858,     0.57958,     0.58058,     0.58158,     0.58258,     0.58358,     0.58458,     0.58559,     0.58659,     0.58759,     0.58859,     0.58959,     0.59059,     0.59159,     0.59259,     0.59359,     0.59459,      0.5956,      0.5966,      0.5976,      0.5986,      0.5996,\n",
      "            0.6006,      0.6016,      0.6026,      0.6036,      0.6046,     0.60561,     0.60661,     0.60761,     0.60861,     0.60961,     0.61061,     0.61161,     0.61261,     0.61361,     0.61461,     0.61562,     0.61662,     0.61762,     0.61862,     0.61962,     0.62062,     0.62162,     0.62262,     0.62362,\n",
      "           0.62462,     0.62563,     0.62663,     0.62763,     0.62863,     0.62963,     0.63063,     0.63163,     0.63263,     0.63363,     0.63463,     0.63564,     0.63664,     0.63764,     0.63864,     0.63964,     0.64064,     0.64164,     0.64264,     0.64364,     0.64464,     0.64565,     0.64665,     0.64765,\n",
      "           0.64865,     0.64965,     0.65065,     0.65165,     0.65265,     0.65365,     0.65465,     0.65566,     0.65666,     0.65766,     0.65866,     0.65966,     0.66066,     0.66166,     0.66266,     0.66366,     0.66466,     0.66567,     0.66667,     0.66767,     0.66867,     0.66967,     0.67067,     0.67167,\n",
      "           0.67267,     0.67367,     0.67467,     0.67568,     0.67668,     0.67768,     0.67868,     0.67968,     0.68068,     0.68168,     0.68268,     0.68368,     0.68468,     0.68569,     0.68669,     0.68769,     0.68869,     0.68969,     0.69069,     0.69169,     0.69269,     0.69369,     0.69469,      0.6957,\n",
      "            0.6967,      0.6977,      0.6987,      0.6997,      0.7007,      0.7017,      0.7027,      0.7037,      0.7047,     0.70571,     0.70671,     0.70771,     0.70871,     0.70971,     0.71071,     0.71171,     0.71271,     0.71371,     0.71471,     0.71572,     0.71672,     0.71772,     0.71872,     0.71972,\n",
      "           0.72072,     0.72172,     0.72272,     0.72372,     0.72472,     0.72573,     0.72673,     0.72773,     0.72873,     0.72973,     0.73073,     0.73173,     0.73273,     0.73373,     0.73473,     0.73574,     0.73674,     0.73774,     0.73874,     0.73974,     0.74074,     0.74174,     0.74274,     0.74374,\n",
      "           0.74474,     0.74575,     0.74675,     0.74775,     0.74875,     0.74975,     0.75075,     0.75175,     0.75275,     0.75375,     0.75475,     0.75576,     0.75676,     0.75776,     0.75876,     0.75976,     0.76076,     0.76176,     0.76276,     0.76376,     0.76476,     0.76577,     0.76677,     0.76777,\n",
      "           0.76877,     0.76977,     0.77077,     0.77177,     0.77277,     0.77377,     0.77477,     0.77578,     0.77678,     0.77778,     0.77878,     0.77978,     0.78078,     0.78178,     0.78278,     0.78378,     0.78478,     0.78579,     0.78679,     0.78779,     0.78879,     0.78979,     0.79079,     0.79179,\n",
      "           0.79279,     0.79379,     0.79479,      0.7958,      0.7968,      0.7978,      0.7988,      0.7998,      0.8008,      0.8018,      0.8028,      0.8038,      0.8048,     0.80581,     0.80681,     0.80781,     0.80881,     0.80981,     0.81081,     0.81181,     0.81281,     0.81381,     0.81481,     0.81582,\n",
      "           0.81682,     0.81782,     0.81882,     0.81982,     0.82082,     0.82182,     0.82282,     0.82382,     0.82482,     0.82583,     0.82683,     0.82783,     0.82883,     0.82983,     0.83083,     0.83183,     0.83283,     0.83383,     0.83483,     0.83584,     0.83684,     0.83784,     0.83884,     0.83984,\n",
      "           0.84084,     0.84184,     0.84284,     0.84384,     0.84484,     0.84585,     0.84685,     0.84785,     0.84885,     0.84985,     0.85085,     0.85185,     0.85285,     0.85385,     0.85485,     0.85586,     0.85686,     0.85786,     0.85886,     0.85986,     0.86086,     0.86186,     0.86286,     0.86386,\n",
      "           0.86486,     0.86587,     0.86687,     0.86787,     0.86887,     0.86987,     0.87087,     0.87187,     0.87287,     0.87387,     0.87487,     0.87588,     0.87688,     0.87788,     0.87888,     0.87988,     0.88088,     0.88188,     0.88288,     0.88388,     0.88488,     0.88589,     0.88689,     0.88789,\n",
      "           0.88889,     0.88989,     0.89089,     0.89189,     0.89289,     0.89389,     0.89489,      0.8959,      0.8969,      0.8979,      0.8989,      0.8999,      0.9009,      0.9019,      0.9029,      0.9039,      0.9049,     0.90591,     0.90691,     0.90791,     0.90891,     0.90991,     0.91091,     0.91191,\n",
      "           0.91291,     0.91391,     0.91491,     0.91592,     0.91692,     0.91792,     0.91892,     0.91992,     0.92092,     0.92192,     0.92292,     0.92392,     0.92492,     0.92593,     0.92693,     0.92793,     0.92893,     0.92993,     0.93093,     0.93193,     0.93293,     0.93393,     0.93493,     0.93594,\n",
      "           0.93694,     0.93794,     0.93894,     0.93994,     0.94094,     0.94194,     0.94294,     0.94394,     0.94494,     0.94595,     0.94695,     0.94795,     0.94895,     0.94995,     0.95095,     0.95195,     0.95295,     0.95395,     0.95495,     0.95596,     0.95696,     0.95796,     0.95896,     0.95996,\n",
      "           0.96096,     0.96196,     0.96296,     0.96396,     0.96496,     0.96597,     0.96697,     0.96797,     0.96897,     0.96997,     0.97097,     0.97197,     0.97297,     0.97397,     0.97497,     0.97598,     0.97698,     0.97798,     0.97898,     0.97998,     0.98098,     0.98198,     0.98298,     0.98398,\n",
      "           0.98498,     0.98599,     0.98699,     0.98799,     0.98899,     0.98999,     0.99099,     0.99199,     0.99299,     0.99399,     0.99499,       0.996,       0.997,       0.998,       0.999,           1]), array([[          1,           1,           1,           1,           1,           1,           1,           1,           1,           1,           1,           1,           1,           1,           1,           1,           1,           1,           1,           1,           1,           1,           1,\n",
      "                  1,           1,           1,           1,           1,           1,           1,           1,           1,           1,           1,           1,           1,           1,           1,           1,           1,           1,           1,           1,           1,           1,           1,\n",
      "                  1,           1,           1,           1,           1,           1,           1,           1,           1,           1,           1,           1,           1,           1,           1,           1,           1,           1,           1,           1,           1,           1,           1,\n",
      "                  1,           1,           1,           1,           1,           1,           1,           1,           1,           1,           1,           1,           1,           1,           1,           1,           1,           1,           1,           1,           1,           1,           1,\n",
      "                  1,           1,           1,           1,           1,           1,           1,           1,           1,           1,           1,           1,           1,           1,           1,           1,           1,           1,           1,           1,           1,           1,           1,\n",
      "                  1,           1,           1,           1,           1,           1,           1,           1,           1,           1,           1,           1,           1,           1,           1,           1,           1,           1,           1,           1,           1,           1,           1,\n",
      "                  1,           1,           1,           1,           1,           1,           1,           1,           1,           1,           1,           1,           1,           1,           1,           1,           1,           1,           1,           1,           1,           1,           1,\n",
      "                  1,           1,           1,           1,           1,           1,           1,           1,           1,           1,           1,           1,           1,           1,           1,     0.99884,     0.99884,     0.99884,     0.99884,     0.99884,     0.99884,     0.99812,     0.99812,\n",
      "            0.99812,     0.99812,     0.99812,     0.99812,     0.99812,     0.99812,     0.99812,     0.99812,     0.99812,     0.99812,     0.99812,     0.99812,     0.99812,     0.99812,     0.99812,     0.99812,     0.99812,     0.99812,     0.99812,     0.99812,     0.99812,     0.99812,     0.99812,\n",
      "            0.99812,     0.99812,     0.99812,     0.99812,     0.99812,     0.99812,     0.99812,     0.99812,     0.99812,     0.99812,     0.99812,     0.99812,     0.99812,     0.99812,     0.99812,     0.99812,     0.99812,     0.99751,     0.99751,     0.99751,     0.99751,     0.99751,     0.99751,\n",
      "            0.99751,     0.99751,     0.99751,     0.99751,     0.99751,     0.99751,     0.99751,     0.99751,     0.99751,     0.99751,     0.99751,     0.99751,     0.99751,     0.99751,     0.99751,     0.99751,     0.99751,     0.99751,     0.99751,     0.99751,     0.99751,     0.99751,     0.99751,\n",
      "            0.99751,     0.99751,     0.99751,     0.99751,     0.99751,     0.99751,     0.99751,     0.99751,     0.99751,     0.99751,     0.99751,     0.99751,     0.99751,     0.99751,     0.99751,     0.99751,     0.99751,     0.99751,     0.99751,     0.99751,     0.99751,     0.99751,     0.99751,\n",
      "            0.99751,     0.99751,     0.99751,     0.99751,     0.99751,     0.99751,     0.99751,     0.99751,     0.99751,     0.99751,     0.99751,     0.99751,     0.99751,     0.99751,     0.99751,     0.99751,     0.99751,     0.99751,     0.99751,     0.99751,     0.99751,     0.99751,     0.99751,\n",
      "            0.99751,     0.99751,     0.99751,     0.99751,     0.99751,     0.99751,     0.99751,     0.99751,     0.99751,     0.99751,     0.99751,     0.99751,     0.99751,     0.99751,     0.99751,     0.99751,     0.99751,     0.99751,     0.99751,     0.99751,     0.99751,     0.99751,     0.99751,\n",
      "            0.99751,     0.99751,     0.99751,     0.99751,     0.99751,     0.99751,     0.99751,     0.99751,     0.99751,     0.99751,     0.99751,     0.99751,     0.99751,     0.99751,     0.99751,     0.99751,     0.99706,     0.99706,     0.99706,     0.99706,     0.99706,     0.99706,     0.99706,\n",
      "            0.99706,     0.99706,     0.99706,     0.99706,     0.99706,     0.99706,     0.99706,     0.99706,     0.99706,     0.99706,     0.99706,     0.99706,     0.99664,     0.99664,     0.99664,     0.99664,     0.99664,     0.99664,     0.99664,     0.99664,     0.99664,     0.99664,     0.99664,\n",
      "            0.99664,     0.99664,     0.99664,     0.99664,     0.99664,     0.99664,     0.99664,     0.99624,     0.99624,     0.99624,     0.99624,     0.99624,     0.99624,     0.99624,     0.99624,     0.99624,     0.99624,     0.99624,     0.99624,     0.99624,     0.99624,     0.99624,     0.99624,\n",
      "            0.99576,     0.99576,     0.99576,     0.99576,     0.99576,     0.99539,     0.99539,     0.99539,     0.99539,     0.99539,     0.99539,     0.99539,     0.99539,     0.99539,     0.99539,     0.99539,     0.99539,     0.99539,     0.99539,     0.99512,     0.99512,     0.99512,     0.99512,\n",
      "            0.99512,     0.99512,     0.99512,     0.99512,     0.99512,     0.99512,     0.99512,     0.99512,     0.99512,     0.99512,     0.99512,     0.99512,     0.99512,     0.99512,     0.99512,     0.99512,     0.99465,      0.9945,      0.9945,      0.9945,      0.9945,      0.9945,      0.9945,\n",
      "             0.9945,      0.9945,      0.9945,      0.9945,      0.9945,      0.9945,      0.9945,      0.9945,      0.9945,      0.9945,      0.9945,      0.9945,      0.9945,      0.9945,      0.9945,      0.9945,      0.9945,      0.9945,      0.9945,      0.9945,     0.99415,     0.99415,     0.99415,\n",
      "            0.99415,     0.99415,     0.99415,     0.99415,     0.99415,     0.99393,     0.99393,     0.99393,     0.99393,     0.99393,     0.99393,     0.99393,     0.99393,     0.99393,     0.99393,     0.99393,     0.99393,     0.99393,     0.99393,     0.99393,     0.99393,     0.99393,     0.99393,\n",
      "            0.99377,     0.99377,     0.99377,     0.99377,     0.99377,     0.99377,     0.99377,     0.99377,     0.99377,     0.99377,     0.99377,     0.99377,     0.99377,     0.99377,     0.99377,     0.99377,     0.99377,     0.99377,     0.99377,     0.99377,     0.99377,     0.99344,     0.99344,\n",
      "            0.99344,     0.99344,     0.99344,     0.99344,     0.99309,     0.99309,     0.99309,     0.99309,     0.99309,     0.99277,     0.99277,     0.99277,     0.99277,     0.99277,     0.99203,     0.99203,     0.99203,     0.99203,     0.99183,     0.99183,     0.99183,     0.99183,     0.99183,\n",
      "            0.99183,     0.99183,     0.99183,     0.99183,     0.99183,     0.99183,     0.99183,     0.99183,     0.99072,     0.99072,     0.99072,     0.98998,     0.98973,     0.98973,     0.98973,     0.98973,     0.98973,     0.98973,     0.98973,     0.98939,     0.98939,     0.98904,     0.98884,\n",
      "            0.98884,     0.98884,     0.98884,     0.98884,     0.98884,     0.98884,     0.98884,     0.98884,     0.98829,     0.98829,     0.98829,     0.98829,     0.98829,     0.98829,     0.98829,     0.98829,     0.98829,     0.98798,     0.98798,     0.98729,     0.98697,     0.98697,     0.98671,\n",
      "            0.98671,     0.98671,     0.98671,     0.98638,     0.98574,     0.98574,     0.98574,     0.98542,     0.98542,     0.98514,     0.98514,     0.98489,     0.98489,     0.98489,     0.98489,     0.98469,     0.98469,     0.98469,     0.98469,     0.98469,     0.98469,     0.98447,     0.98447,\n",
      "            0.98447,     0.98447,     0.98447,     0.98415,     0.98351,     0.98286,     0.98223,     0.98197,     0.98197,     0.98197,     0.98174,     0.98174,     0.98174,     0.98142,     0.98113,     0.98082,     0.98054,     0.98054,     0.98007,     0.98007,     0.98007,     0.98007,     0.98007,\n",
      "            0.97979,     0.97979,     0.97954,     0.97954,     0.97939,     0.97939,     0.97939,     0.97939,     0.97939,     0.97923,     0.97923,     0.97923,     0.97923,     0.97923,     0.97923,     0.97809,     0.97809,     0.97809,     0.97757,     0.97757,     0.97757,     0.97738,     0.97738,\n",
      "            0.97738,     0.97738,     0.97719,     0.97719,     0.97719,     0.97694,     0.97694,     0.97636,     0.97578,     0.97518,     0.97493,     0.97471,     0.97471,     0.97451,     0.97451,     0.97451,     0.97423,     0.97396,     0.97344,     0.97344,     0.97322,     0.97322,      0.9724,\n",
      "             0.9724,     0.97214,     0.97132,     0.97119,     0.97119,     0.97119,     0.97119,     0.97101,     0.97101,     0.97101,     0.97021,     0.97021,     0.96995,     0.96941,     0.96923,     0.96923,      0.9684,      0.9683,      0.9683,      0.9683,      0.9683,     0.96803,     0.96783,\n",
      "            0.96758,     0.96703,     0.96658,     0.96658,     0.96634,     0.96614,     0.96614,     0.96592,      0.9654,     0.96519,     0.96519,     0.96384,      0.9628,     0.96257,     0.96206,     0.96184,     0.96134,     0.96086,     0.95981,     0.95964,     0.95964,     0.95892,     0.95892,\n",
      "            0.95823,     0.95823,     0.95775,     0.95728,     0.95707,     0.95631,     0.95557,      0.9548,     0.95462,      0.9537,      0.9537,     0.95348,     0.95325,     0.95153,     0.95077,      0.9501,      0.9501,     0.94964,      0.9487,     0.94798,     0.94655,     0.94655,     0.94511,\n",
      "            0.94392,     0.94373,     0.94255,     0.94237,     0.94223,     0.94223,     0.94107,     0.94063,     0.93972,     0.93878,     0.93838,     0.93799,     0.93776,      0.9364,     0.93594,     0.93433,     0.93347,     0.93328,     0.93311,     0.93247,     0.93159,     0.93116,     0.93079,\n",
      "            0.93062,     0.92931,     0.92886,     0.92826,     0.92738,     0.92561,     0.92449,     0.92364,     0.92214,     0.92203,     0.92184,     0.92101,     0.92016,     0.91865,     0.91644,     0.91501,     0.91427,     0.91427,     0.91415,     0.91378,     0.91342,      0.9115,     0.90936,\n",
      "            0.90725,     0.90516,     0.90422,     0.90405,     0.90285,     0.90041,     0.89962,     0.89734,     0.89618,     0.89354,     0.89134,     0.88999,     0.88737,      0.8867,     0.88517,     0.88484,     0.87804,     0.87471,     0.87325,     0.87077,     0.86913,     0.86829,     0.86751,\n",
      "            0.86581,     0.86303,     0.86125,     0.85546,     0.85255,     0.84895,     0.84673,      0.8443,     0.84404,     0.84185,     0.83802,     0.83549,     0.83398,     0.82847,     0.82514,     0.82288,     0.82021,      0.8198,      0.8167,     0.81485,     0.81369,     0.81149,     0.80438,\n",
      "            0.80183,     0.79552,     0.79265,     0.78858,     0.78332,     0.78091,     0.77613,      0.7752,     0.77165,     0.75704,     0.75636,     0.75189,     0.73944,      0.7305,     0.72671,     0.72159,     0.71451,     0.70375,     0.69399,      0.6895,     0.68473,     0.67514,     0.67255,\n",
      "            0.66749,     0.65907,     0.65214,     0.64789,     0.64309,      0.6422,     0.63567,     0.63117,     0.62642,     0.62118,     0.61456,     0.60562,     0.60076,     0.59179,     0.58104,     0.57566,     0.56506,     0.55043,     0.53628,     0.52986,     0.51854,     0.51211,     0.50765,\n",
      "            0.49928,     0.48832,     0.47939,     0.47657,     0.46872,     0.46232,     0.44373,     0.43684,     0.42824,     0.42223,     0.41991,     0.40506,     0.40139,     0.39193,     0.38397,     0.37568,     0.37088,     0.36597,     0.35579,     0.34459,     0.33968,     0.33113,     0.32398,\n",
      "            0.31393,     0.30571,     0.30056,     0.29213,     0.28161,     0.27724,     0.26934,     0.26302,     0.25518,     0.24984,     0.23699,     0.22791,     0.22605,     0.21726,     0.21518,     0.20918,     0.20299,     0.18078,     0.17655,     0.17445,     0.17235,     0.17025,     0.16815,\n",
      "            0.16604,     0.16394,     0.16184,     0.15974,     0.15764,     0.15553,     0.15343,     0.15133,     0.14923,     0.14713,     0.14503,     0.14292,     0.14082,     0.13872,     0.13662,     0.13452,     0.13241,     0.13031,     0.12821,     0.12611,     0.12401,     0.12191,      0.1198,\n",
      "             0.1177,      0.1156,      0.1135,      0.1114,     0.10929,     0.10719,     0.10509,     0.10299,     0.10089,    0.098786,    0.096684,    0.094582,     0.09248,    0.090378,    0.088277,    0.086175,    0.084073,    0.081971,    0.079869,    0.077767,    0.075666,    0.073564,    0.071462,\n",
      "            0.06936,    0.067258,    0.065157,    0.063055,    0.060953,    0.058851,    0.056749,    0.054647,    0.052546,    0.050444,    0.048342,     0.04624,    0.044138,    0.042036,    0.039935,    0.037833,    0.035731,    0.033629,    0.031527,    0.029426,    0.027324,    0.025222,     0.02312,\n",
      "           0.021018,    0.018916,    0.016815,    0.014713,    0.012611,    0.010509,   0.0084073,   0.0063055,   0.0042036,   0.0021018,           0]]), 'Recall', 'Precision'], [array([          0,    0.001001,    0.002002,    0.003003,    0.004004,    0.005005,    0.006006,    0.007007,    0.008008,    0.009009,     0.01001,    0.011011,    0.012012,    0.013013,    0.014014,    0.015015,    0.016016,    0.017017,    0.018018,    0.019019,     0.02002,    0.021021,    0.022022,    0.023023,\n",
      "          0.024024,    0.025025,    0.026026,    0.027027,    0.028028,    0.029029,     0.03003,    0.031031,    0.032032,    0.033033,    0.034034,    0.035035,    0.036036,    0.037037,    0.038038,    0.039039,     0.04004,    0.041041,    0.042042,    0.043043,    0.044044,    0.045045,    0.046046,    0.047047,\n",
      "          0.048048,    0.049049,     0.05005,    0.051051,    0.052052,    0.053053,    0.054054,    0.055055,    0.056056,    0.057057,    0.058058,    0.059059,     0.06006,    0.061061,    0.062062,    0.063063,    0.064064,    0.065065,    0.066066,    0.067067,    0.068068,    0.069069,     0.07007,    0.071071,\n",
      "          0.072072,    0.073073,    0.074074,    0.075075,    0.076076,    0.077077,    0.078078,    0.079079,     0.08008,    0.081081,    0.082082,    0.083083,    0.084084,    0.085085,    0.086086,    0.087087,    0.088088,    0.089089,     0.09009,    0.091091,    0.092092,    0.093093,    0.094094,    0.095095,\n",
      "          0.096096,    0.097097,    0.098098,    0.099099,      0.1001,      0.1011,      0.1021,      0.1031,      0.1041,     0.10511,     0.10611,     0.10711,     0.10811,     0.10911,     0.11011,     0.11111,     0.11211,     0.11311,     0.11411,     0.11512,     0.11612,     0.11712,     0.11812,     0.11912,\n",
      "           0.12012,     0.12112,     0.12212,     0.12312,     0.12412,     0.12513,     0.12613,     0.12713,     0.12813,     0.12913,     0.13013,     0.13113,     0.13213,     0.13313,     0.13413,     0.13514,     0.13614,     0.13714,     0.13814,     0.13914,     0.14014,     0.14114,     0.14214,     0.14314,\n",
      "           0.14414,     0.14515,     0.14615,     0.14715,     0.14815,     0.14915,     0.15015,     0.15115,     0.15215,     0.15315,     0.15415,     0.15516,     0.15616,     0.15716,     0.15816,     0.15916,     0.16016,     0.16116,     0.16216,     0.16316,     0.16416,     0.16517,     0.16617,     0.16717,\n",
      "           0.16817,     0.16917,     0.17017,     0.17117,     0.17217,     0.17317,     0.17417,     0.17518,     0.17618,     0.17718,     0.17818,     0.17918,     0.18018,     0.18118,     0.18218,     0.18318,     0.18418,     0.18519,     0.18619,     0.18719,     0.18819,     0.18919,     0.19019,     0.19119,\n",
      "           0.19219,     0.19319,     0.19419,      0.1952,      0.1962,      0.1972,      0.1982,      0.1992,      0.2002,      0.2012,      0.2022,      0.2032,      0.2042,     0.20521,     0.20621,     0.20721,     0.20821,     0.20921,     0.21021,     0.21121,     0.21221,     0.21321,     0.21421,     0.21522,\n",
      "           0.21622,     0.21722,     0.21822,     0.21922,     0.22022,     0.22122,     0.22222,     0.22322,     0.22422,     0.22523,     0.22623,     0.22723,     0.22823,     0.22923,     0.23023,     0.23123,     0.23223,     0.23323,     0.23423,     0.23524,     0.23624,     0.23724,     0.23824,     0.23924,\n",
      "           0.24024,     0.24124,     0.24224,     0.24324,     0.24424,     0.24525,     0.24625,     0.24725,     0.24825,     0.24925,     0.25025,     0.25125,     0.25225,     0.25325,     0.25425,     0.25526,     0.25626,     0.25726,     0.25826,     0.25926,     0.26026,     0.26126,     0.26226,     0.26326,\n",
      "           0.26426,     0.26527,     0.26627,     0.26727,     0.26827,     0.26927,     0.27027,     0.27127,     0.27227,     0.27327,     0.27427,     0.27528,     0.27628,     0.27728,     0.27828,     0.27928,     0.28028,     0.28128,     0.28228,     0.28328,     0.28428,     0.28529,     0.28629,     0.28729,\n",
      "           0.28829,     0.28929,     0.29029,     0.29129,     0.29229,     0.29329,     0.29429,      0.2953,      0.2963,      0.2973,      0.2983,      0.2993,      0.3003,      0.3013,      0.3023,      0.3033,      0.3043,     0.30531,     0.30631,     0.30731,     0.30831,     0.30931,     0.31031,     0.31131,\n",
      "           0.31231,     0.31331,     0.31431,     0.31532,     0.31632,     0.31732,     0.31832,     0.31932,     0.32032,     0.32132,     0.32232,     0.32332,     0.32432,     0.32533,     0.32633,     0.32733,     0.32833,     0.32933,     0.33033,     0.33133,     0.33233,     0.33333,     0.33433,     0.33534,\n",
      "           0.33634,     0.33734,     0.33834,     0.33934,     0.34034,     0.34134,     0.34234,     0.34334,     0.34434,     0.34535,     0.34635,     0.34735,     0.34835,     0.34935,     0.35035,     0.35135,     0.35235,     0.35335,     0.35435,     0.35536,     0.35636,     0.35736,     0.35836,     0.35936,\n",
      "           0.36036,     0.36136,     0.36236,     0.36336,     0.36436,     0.36537,     0.36637,     0.36737,     0.36837,     0.36937,     0.37037,     0.37137,     0.37237,     0.37337,     0.37437,     0.37538,     0.37638,     0.37738,     0.37838,     0.37938,     0.38038,     0.38138,     0.38238,     0.38338,\n",
      "           0.38438,     0.38539,     0.38639,     0.38739,     0.38839,     0.38939,     0.39039,     0.39139,     0.39239,     0.39339,     0.39439,      0.3954,      0.3964,      0.3974,      0.3984,      0.3994,      0.4004,      0.4014,      0.4024,      0.4034,      0.4044,     0.40541,     0.40641,     0.40741,\n",
      "           0.40841,     0.40941,     0.41041,     0.41141,     0.41241,     0.41341,     0.41441,     0.41542,     0.41642,     0.41742,     0.41842,     0.41942,     0.42042,     0.42142,     0.42242,     0.42342,     0.42442,     0.42543,     0.42643,     0.42743,     0.42843,     0.42943,     0.43043,     0.43143,\n",
      "           0.43243,     0.43343,     0.43443,     0.43544,     0.43644,     0.43744,     0.43844,     0.43944,     0.44044,     0.44144,     0.44244,     0.44344,     0.44444,     0.44545,     0.44645,     0.44745,     0.44845,     0.44945,     0.45045,     0.45145,     0.45245,     0.45345,     0.45445,     0.45546,\n",
      "           0.45646,     0.45746,     0.45846,     0.45946,     0.46046,     0.46146,     0.46246,     0.46346,     0.46446,     0.46547,     0.46647,     0.46747,     0.46847,     0.46947,     0.47047,     0.47147,     0.47247,     0.47347,     0.47447,     0.47548,     0.47648,     0.47748,     0.47848,     0.47948,\n",
      "           0.48048,     0.48148,     0.48248,     0.48348,     0.48448,     0.48549,     0.48649,     0.48749,     0.48849,     0.48949,     0.49049,     0.49149,     0.49249,     0.49349,     0.49449,      0.4955,      0.4965,      0.4975,      0.4985,      0.4995,      0.5005,      0.5015,      0.5025,      0.5035,\n",
      "            0.5045,     0.50551,     0.50651,     0.50751,     0.50851,     0.50951,     0.51051,     0.51151,     0.51251,     0.51351,     0.51451,     0.51552,     0.51652,     0.51752,     0.51852,     0.51952,     0.52052,     0.52152,     0.52252,     0.52352,     0.52452,     0.52553,     0.52653,     0.52753,\n",
      "           0.52853,     0.52953,     0.53053,     0.53153,     0.53253,     0.53353,     0.53453,     0.53554,     0.53654,     0.53754,     0.53854,     0.53954,     0.54054,     0.54154,     0.54254,     0.54354,     0.54454,     0.54555,     0.54655,     0.54755,     0.54855,     0.54955,     0.55055,     0.55155,\n",
      "           0.55255,     0.55355,     0.55455,     0.55556,     0.55656,     0.55756,     0.55856,     0.55956,     0.56056,     0.56156,     0.56256,     0.56356,     0.56456,     0.56557,     0.56657,     0.56757,     0.56857,     0.56957,     0.57057,     0.57157,     0.57257,     0.57357,     0.57457,     0.57558,\n",
      "           0.57658,     0.57758,     0.57858,     0.57958,     0.58058,     0.58158,     0.58258,     0.58358,     0.58458,     0.58559,     0.58659,     0.58759,     0.58859,     0.58959,     0.59059,     0.59159,     0.59259,     0.59359,     0.59459,      0.5956,      0.5966,      0.5976,      0.5986,      0.5996,\n",
      "            0.6006,      0.6016,      0.6026,      0.6036,      0.6046,     0.60561,     0.60661,     0.60761,     0.60861,     0.60961,     0.61061,     0.61161,     0.61261,     0.61361,     0.61461,     0.61562,     0.61662,     0.61762,     0.61862,     0.61962,     0.62062,     0.62162,     0.62262,     0.62362,\n",
      "           0.62462,     0.62563,     0.62663,     0.62763,     0.62863,     0.62963,     0.63063,     0.63163,     0.63263,     0.63363,     0.63463,     0.63564,     0.63664,     0.63764,     0.63864,     0.63964,     0.64064,     0.64164,     0.64264,     0.64364,     0.64464,     0.64565,     0.64665,     0.64765,\n",
      "           0.64865,     0.64965,     0.65065,     0.65165,     0.65265,     0.65365,     0.65465,     0.65566,     0.65666,     0.65766,     0.65866,     0.65966,     0.66066,     0.66166,     0.66266,     0.66366,     0.66466,     0.66567,     0.66667,     0.66767,     0.66867,     0.66967,     0.67067,     0.67167,\n",
      "           0.67267,     0.67367,     0.67467,     0.67568,     0.67668,     0.67768,     0.67868,     0.67968,     0.68068,     0.68168,     0.68268,     0.68368,     0.68468,     0.68569,     0.68669,     0.68769,     0.68869,     0.68969,     0.69069,     0.69169,     0.69269,     0.69369,     0.69469,      0.6957,\n",
      "            0.6967,      0.6977,      0.6987,      0.6997,      0.7007,      0.7017,      0.7027,      0.7037,      0.7047,     0.70571,     0.70671,     0.70771,     0.70871,     0.70971,     0.71071,     0.71171,     0.71271,     0.71371,     0.71471,     0.71572,     0.71672,     0.71772,     0.71872,     0.71972,\n",
      "           0.72072,     0.72172,     0.72272,     0.72372,     0.72472,     0.72573,     0.72673,     0.72773,     0.72873,     0.72973,     0.73073,     0.73173,     0.73273,     0.73373,     0.73473,     0.73574,     0.73674,     0.73774,     0.73874,     0.73974,     0.74074,     0.74174,     0.74274,     0.74374,\n",
      "           0.74474,     0.74575,     0.74675,     0.74775,     0.74875,     0.74975,     0.75075,     0.75175,     0.75275,     0.75375,     0.75475,     0.75576,     0.75676,     0.75776,     0.75876,     0.75976,     0.76076,     0.76176,     0.76276,     0.76376,     0.76476,     0.76577,     0.76677,     0.76777,\n",
      "           0.76877,     0.76977,     0.77077,     0.77177,     0.77277,     0.77377,     0.77477,     0.77578,     0.77678,     0.77778,     0.77878,     0.77978,     0.78078,     0.78178,     0.78278,     0.78378,     0.78478,     0.78579,     0.78679,     0.78779,     0.78879,     0.78979,     0.79079,     0.79179,\n",
      "           0.79279,     0.79379,     0.79479,      0.7958,      0.7968,      0.7978,      0.7988,      0.7998,      0.8008,      0.8018,      0.8028,      0.8038,      0.8048,     0.80581,     0.80681,     0.80781,     0.80881,     0.80981,     0.81081,     0.81181,     0.81281,     0.81381,     0.81481,     0.81582,\n",
      "           0.81682,     0.81782,     0.81882,     0.81982,     0.82082,     0.82182,     0.82282,     0.82382,     0.82482,     0.82583,     0.82683,     0.82783,     0.82883,     0.82983,     0.83083,     0.83183,     0.83283,     0.83383,     0.83483,     0.83584,     0.83684,     0.83784,     0.83884,     0.83984,\n",
      "           0.84084,     0.84184,     0.84284,     0.84384,     0.84484,     0.84585,     0.84685,     0.84785,     0.84885,     0.84985,     0.85085,     0.85185,     0.85285,     0.85385,     0.85485,     0.85586,     0.85686,     0.85786,     0.85886,     0.85986,     0.86086,     0.86186,     0.86286,     0.86386,\n",
      "           0.86486,     0.86587,     0.86687,     0.86787,     0.86887,     0.86987,     0.87087,     0.87187,     0.87287,     0.87387,     0.87487,     0.87588,     0.87688,     0.87788,     0.87888,     0.87988,     0.88088,     0.88188,     0.88288,     0.88388,     0.88488,     0.88589,     0.88689,     0.88789,\n",
      "           0.88889,     0.88989,     0.89089,     0.89189,     0.89289,     0.89389,     0.89489,      0.8959,      0.8969,      0.8979,      0.8989,      0.8999,      0.9009,      0.9019,      0.9029,      0.9039,      0.9049,     0.90591,     0.90691,     0.90791,     0.90891,     0.90991,     0.91091,     0.91191,\n",
      "           0.91291,     0.91391,     0.91491,     0.91592,     0.91692,     0.91792,     0.91892,     0.91992,     0.92092,     0.92192,     0.92292,     0.92392,     0.92492,     0.92593,     0.92693,     0.92793,     0.92893,     0.92993,     0.93093,     0.93193,     0.93293,     0.93393,     0.93493,     0.93594,\n",
      "           0.93694,     0.93794,     0.93894,     0.93994,     0.94094,     0.94194,     0.94294,     0.94394,     0.94494,     0.94595,     0.94695,     0.94795,     0.94895,     0.94995,     0.95095,     0.95195,     0.95295,     0.95395,     0.95495,     0.95596,     0.95696,     0.95796,     0.95896,     0.95996,\n",
      "           0.96096,     0.96196,     0.96296,     0.96396,     0.96496,     0.96597,     0.96697,     0.96797,     0.96897,     0.96997,     0.97097,     0.97197,     0.97297,     0.97397,     0.97497,     0.97598,     0.97698,     0.97798,     0.97898,     0.97998,     0.98098,     0.98198,     0.98298,     0.98398,\n",
      "           0.98498,     0.98599,     0.98699,     0.98799,     0.98899,     0.98999,     0.99099,     0.99199,     0.99299,     0.99399,     0.99499,       0.996,       0.997,       0.998,       0.999,           1]), array([[    0.29834,     0.29851,     0.32378,     0.33836,     0.34881,     0.35627,     0.36273,      0.3677,     0.38818,     0.40924,     0.42955,     0.44895,     0.46814,     0.48497,     0.50101,      0.5148,     0.52875,     0.54192,     0.55381,     0.56434,     0.57376,     0.58241,     0.58989,\n",
      "            0.59707,     0.60362,     0.60894,     0.61536,     0.61938,     0.62376,     0.62893,     0.63327,       0.638,     0.64181,     0.64516,      0.6479,     0.65117,     0.65437,     0.65718,     0.66102,      0.6635,     0.66636,     0.66923,     0.67146,     0.67496,     0.67708,     0.67937,\n",
      "            0.68168,      0.6842,     0.68685,     0.68977,     0.69127,     0.69357,     0.69555,     0.69746,     0.70016,     0.70274,     0.70485,     0.70643,     0.70849,     0.71011,     0.71157,     0.71268,     0.71407,     0.71598,     0.71752,     0.71895,     0.72062,     0.72158,     0.72311,\n",
      "            0.72374,     0.72504,     0.72645,     0.72737,     0.72891,     0.73028,     0.73207,     0.73275,     0.73398,     0.73496,     0.73639,     0.73777,     0.73876,     0.73951,     0.74083,     0.74156,     0.74332,     0.74432,      0.7457,      0.7464,     0.74782,     0.74961,     0.75066,\n",
      "            0.75138,     0.75244,     0.75301,     0.75418,     0.75496,     0.75644,     0.75793,     0.75835,      0.7597,     0.76054,     0.76105,     0.76179,     0.76268,     0.76364,     0.76452,     0.76544,     0.76629,     0.76788,      0.7692,     0.76994,     0.77098,     0.77213,     0.77287,\n",
      "            0.77343,     0.77428,     0.77482,      0.7762,     0.77684,     0.77796,     0.77863,     0.77914,     0.77954,     0.78052,     0.78171,      0.7823,     0.78301,     0.78407,     0.78487,     0.78565,     0.78678,     0.78796,     0.78865,     0.78921,        0.79,     0.79183,     0.79223,\n",
      "            0.79303,     0.79406,     0.79462,     0.79519,      0.7954,     0.79559,     0.79647,     0.79759,     0.79812,     0.79884,     0.79949,     0.80026,     0.80095,      0.8018,     0.80297,     0.80308,     0.80358,     0.80427,     0.80462,      0.8046,     0.80548,     0.80635,     0.80667,\n",
      "            0.80695,     0.80732,     0.80821,     0.80871,     0.80919,     0.80989,     0.80982,     0.81062,     0.81127,     0.81147,     0.81201,     0.81229,     0.81235,      0.8131,     0.81375,     0.81436,     0.81502,     0.81565,     0.81585,     0.81605,     0.81661,     0.81718,     0.81772,\n",
      "            0.81774,     0.81849,     0.81906,     0.81939,     0.81972,      0.8197,     0.81979,     0.82006,     0.82011,     0.82063,     0.82069,     0.82139,     0.82113,     0.82158,     0.82184,     0.82182,     0.82203,     0.82213,     0.82213,     0.82263,     0.82286,      0.8231,     0.82337,\n",
      "              0.824,     0.82454,     0.82459,      0.8257,      0.8257,     0.82566,     0.82595,     0.82607,     0.82623,     0.82636,     0.82687,     0.82742,     0.82781,     0.82819,     0.82834,     0.82832,     0.82855,     0.82843,      0.8284,     0.82864,     0.82886,     0.82918,     0.82917,\n",
      "            0.82988,     0.83033,     0.83029,     0.83058,     0.83086,     0.83149,     0.83158,     0.83236,     0.83258,     0.83279,     0.83333,     0.83352,     0.83374,     0.83359,      0.8337,     0.83397,     0.83427,     0.83456,     0.83506,     0.83528,     0.83488,     0.83466,     0.83488,\n",
      "            0.83478,     0.83457,     0.83458,     0.83452,     0.83465,     0.83486,     0.83519,     0.83528,      0.8353,     0.83536,     0.83535,     0.83563,     0.83601,     0.83665,     0.83645,     0.83703,     0.83751,       0.838,      0.8385,     0.83872,     0.83857,     0.83887,     0.83889,\n",
      "            0.83876,     0.83883,     0.83892,     0.83864,     0.83852,     0.83834,     0.83853,     0.83894,     0.83914,     0.83918,     0.83917,     0.83934,     0.83951,     0.83951,      0.8394,     0.83959,      0.8397,     0.83994,     0.84021,     0.84026,     0.84011,     0.83999,     0.84013,\n",
      "             0.8405,      0.8406,     0.84063,     0.84063,     0.84027,     0.84033,     0.84025,     0.84044,     0.84073,     0.84074,     0.84077,     0.84081,      0.8407,     0.84035,     0.84004,     0.84008,     0.84001,     0.84019,     0.84036,     0.84037,     0.84054,     0.84071,     0.84085,\n",
      "            0.84115,     0.84099,     0.84104,     0.84107,     0.84125,     0.84136,     0.84104,     0.84089,     0.84073,     0.84056,     0.84028,     0.83982,     0.83926,     0.83934,     0.83939,     0.83907,     0.83911,     0.83911,     0.83911,     0.83938,     0.83945,     0.83933,     0.83936,\n",
      "            0.83946,     0.83927,     0.83918,     0.83913,     0.83899,     0.83898,     0.83885,     0.83866,     0.83823,     0.83805,     0.83786,     0.83791,      0.8379,     0.83768,     0.83788,     0.83753,     0.83768,     0.83761,     0.83752,     0.83758,     0.83771,     0.83778,     0.83777,\n",
      "            0.83744,     0.83746,     0.83708,     0.83696,     0.83659,     0.83656,     0.83654,     0.83655,     0.83597,     0.83549,     0.83531,     0.83483,     0.83508,      0.8349,     0.83484,     0.83467,     0.83451,      0.8342,     0.83388,     0.83357,     0.83346,     0.83335,      0.8332,\n",
      "            0.83302,     0.83297,     0.83315,     0.83287,     0.83275,     0.83277,     0.83273,      0.8327,     0.83268,     0.83197,     0.83188,     0.83174,      0.8316,     0.83118,     0.83124,     0.83117,     0.83131,     0.83081,     0.83091,     0.83073,     0.83048,     0.83037,     0.83019,\n",
      "            0.82987,     0.82971,     0.82957,     0.82897,     0.82865,     0.82823,     0.82819,     0.82839,     0.82756,     0.82768,      0.8276,     0.82735,     0.82731,     0.82723,     0.82723,     0.82719,     0.82719,     0.82705,     0.82661,     0.82654,     0.82652,      0.8267,     0.82681,\n",
      "            0.82675,     0.82645,     0.82592,     0.82577,     0.82588,     0.82556,     0.82509,     0.82488,     0.82477,     0.82456,     0.82439,     0.82441,     0.82417,     0.82395,     0.82401,     0.82369,     0.82349,     0.82273,     0.82223,     0.82224,      0.8221,     0.82139,     0.82134,\n",
      "            0.82115,      0.8212,     0.82134,     0.82092,     0.82093,     0.82075,     0.82071,     0.82008,      0.8201,     0.81974,     0.81935,     0.81889,     0.81894,     0.81827,     0.81815,     0.81699,     0.81673,     0.81671,     0.81627,      0.8157,     0.81532,     0.81541,     0.81538,\n",
      "            0.81546,     0.81517,     0.81488,     0.81477,     0.81449,     0.81434,     0.81411,     0.81381,      0.8134,     0.81322,     0.81247,     0.81223,     0.81213,     0.81213,     0.81198,     0.81169,     0.81161,     0.81191,     0.81163,     0.81156,     0.81144,     0.81114,     0.81095,\n",
      "            0.81056,     0.81041,     0.80983,     0.80963,     0.80934,      0.8088,     0.80826,     0.80806,     0.80777,     0.80762,     0.80718,     0.80688,     0.80644,     0.80663,     0.80595,     0.80604,      0.8056,      0.8053,     0.80486,      0.8048,     0.80446,     0.80386,     0.80342,\n",
      "            0.80268,     0.80238,     0.80178,     0.80171,     0.80143,     0.80137,     0.80142,     0.80127,     0.80112,     0.80082,     0.80008,     0.79978,     0.79971,     0.79952,     0.79936,     0.79887,     0.79852,     0.79792,     0.79776,     0.79776,     0.79716,     0.79701,     0.79625,\n",
      "            0.79615,      0.7953,     0.79484,     0.79439,     0.79409,     0.79341,     0.79335,     0.79305,     0.79289,     0.79244,     0.79238,     0.79237,     0.79227,     0.79182,     0.79131,       0.791,     0.79069,     0.79077,     0.79053,     0.78977,     0.78968,      0.7896,      0.7891,\n",
      "            0.78864,     0.78803,     0.78792,     0.78784,     0.78776,      0.7874,      0.7871,      0.7868,     0.78573,     0.78522,     0.78491,     0.78414,     0.78362,     0.78272,     0.78252,     0.78262,     0.78237,     0.78195,     0.78142,      0.7809,     0.78059,     0.78036,     0.77999,\n",
      "            0.77937,     0.77905,     0.77828,     0.77791,     0.77744,     0.77666,     0.77634,     0.77556,     0.77534,     0.77355,     0.77323,     0.77311,     0.77295,     0.77264,     0.77216,     0.77169,     0.77153,     0.77121,     0.77108,     0.77101,     0.77085,     0.77078,     0.77072,\n",
      "            0.77009,     0.76993,     0.76914,     0.76849,     0.76747,     0.76717,     0.76678,     0.76646,     0.76598,      0.7655,     0.76502,     0.76335,     0.76217,     0.76169,     0.76114,     0.76082,     0.76046,     0.76035,     0.76019,      0.7589,     0.75842,     0.75809,     0.75759,\n",
      "            0.75704,     0.75681,     0.75649,     0.75594,     0.75561,     0.75511,     0.75472,     0.75426,     0.75378,     0.75351,     0.75275,     0.75226,       0.752,     0.75192,     0.75099,      0.7508,     0.75063,     0.74998,     0.74968,     0.74853,     0.74844,     0.74806,     0.74795,\n",
      "            0.74723,     0.74715,     0.74675,     0.74609,       0.746,     0.74558,     0.74547,     0.74489,      0.7448,     0.74354,     0.74311,     0.74303,     0.74237,     0.74143,     0.74135,     0.74027,     0.74015,     0.73956,     0.73947,     0.73816,     0.73737,     0.73728,     0.73669,\n",
      "            0.73658,     0.73648,      0.7364,     0.73529,     0.73477,     0.73466,     0.73302,     0.73307,     0.73246,     0.73126,     0.73048,     0.73039,     0.72999,     0.72988,     0.72936,     0.72806,     0.72797,     0.72669,     0.72658,     0.72629,     0.72492,     0.72484,     0.72382,\n",
      "             0.7237,     0.72378,     0.72315,     0.72303,     0.72184,     0.72176,     0.72061,     0.71878,     0.71781,     0.71769,     0.71673,     0.71664,     0.71584,     0.71471,     0.71459,     0.71309,     0.71245,     0.71233,     0.71082,     0.71001,     0.70989,     0.70805,     0.70796,\n",
      "            0.70724,     0.70581,     0.70569,      0.7055,     0.70415,     0.70403,     0.70391,      0.7029,     0.70155,     0.70143,     0.69984,     0.69866,     0.69873,     0.69715,      0.6965,     0.69638,     0.69632,     0.69535,     0.69523,     0.69421,     0.69266,     0.69254,     0.69152,\n",
      "            0.69014,     0.68911,     0.68899,     0.68869,     0.68765,     0.68675,     0.68663,     0.68443,     0.68339,     0.68327,     0.68188,     0.68048,     0.68035,     0.67968,     0.67843,     0.67634,     0.67622,      0.6748,     0.67274,     0.67261,     0.67113,     0.66859,     0.66762,\n",
      "              0.666,     0.66588,     0.66421,       0.662,     0.66093,      0.6608,     0.65893,     0.65689,     0.65468,     0.65455,     0.65189,     0.65117,     0.64922,     0.64909,     0.64756,     0.64531,     0.64321,     0.64014,     0.63787,     0.63689,     0.63676,     0.63483,     0.63103,\n",
      "            0.62832,     0.62584,     0.62571,     0.62473,     0.62259,     0.61984,     0.61704,     0.61691,      0.6149,     0.61273,     0.60994,     0.60729,     0.60486,     0.60472,     0.60185,     0.59542,     0.59528,      0.5924,     0.58926,     0.58616,     0.58263,     0.57933,     0.57487,\n",
      "            0.57472,     0.57131,     0.56808,     0.56579,     0.56237,     0.55836,     0.55375,     0.55066,     0.54822,     0.54523,     0.54529,     0.54306,     0.53587,     0.53225,     0.52747,     0.52527,     0.52297,     0.52021,     0.52006,     0.51406,      0.5094,     0.50611,     0.50147,\n",
      "            0.49625,     0.49027,     0.48594,     0.48279,     0.47744,     0.47352,     0.46859,     0.46239,      0.4584,     0.44857,     0.44234,     0.43644,     0.43101,     0.42685,     0.42162,     0.41688,     0.41185,     0.40209,     0.39778,     0.39044,     0.38414,     0.37881,     0.37265,\n",
      "            0.36957,     0.36407,     0.35172,     0.34712,     0.33976,     0.33128,     0.31917,     0.31228,     0.30678,     0.30041,     0.28835,     0.28335,     0.27856,     0.27103,     0.25818,     0.25233,      0.2474,     0.23517,     0.23079,      0.2251,     0.22077,     0.20817,      0.1985,\n",
      "            0.18867,     0.18295,      0.1763,     0.16696,     0.15825,     0.15284,     0.14237,     0.13649,     0.12623,     0.12171,     0.11561,     0.10858,    0.099946,    0.095641,    0.088067,    0.084848,    0.078629,    0.077004,    0.070783,    0.063455,    0.058913,    0.053721,    0.049503,\n",
      "           0.043657,    0.040811,    0.036364,    0.034282,    0.028957,    0.024837,     0.02276,     0.01944,    0.017352,    0.015984,    0.013993,     0.01106,   0.0085368,    0.008153,   0.0078154,   0.0073869,   0.0063627,   0.0055042,   0.0046339,   0.0033648,   0.0019572,   0.0016798,   0.0016014,\n",
      "           0.001523,   0.0014446,   0.0013663,   0.0012879,   0.0010669,  0.00074794,           0,           0,           0,           0,           0,           0,           0,           0,           0,           0,           0,           0,           0,           0,           0,           0,           0,\n",
      "                  0,           0,           0,           0,           0,           0,           0,           0,           0,           0,           0,           0,           0,           0,           0,           0,           0,           0,           0,           0,           0,           0,           0,\n",
      "                  0,           0,           0,           0,           0,           0,           0,           0,           0,           0,           0]]), 'Confidence', 'F1'], [array([          0,    0.001001,    0.002002,    0.003003,    0.004004,    0.005005,    0.006006,    0.007007,    0.008008,    0.009009,     0.01001,    0.011011,    0.012012,    0.013013,    0.014014,    0.015015,    0.016016,    0.017017,    0.018018,    0.019019,     0.02002,    0.021021,    0.022022,    0.023023,\n",
      "          0.024024,    0.025025,    0.026026,    0.027027,    0.028028,    0.029029,     0.03003,    0.031031,    0.032032,    0.033033,    0.034034,    0.035035,    0.036036,    0.037037,    0.038038,    0.039039,     0.04004,    0.041041,    0.042042,    0.043043,    0.044044,    0.045045,    0.046046,    0.047047,\n",
      "          0.048048,    0.049049,     0.05005,    0.051051,    0.052052,    0.053053,    0.054054,    0.055055,    0.056056,    0.057057,    0.058058,    0.059059,     0.06006,    0.061061,    0.062062,    0.063063,    0.064064,    0.065065,    0.066066,    0.067067,    0.068068,    0.069069,     0.07007,    0.071071,\n",
      "          0.072072,    0.073073,    0.074074,    0.075075,    0.076076,    0.077077,    0.078078,    0.079079,     0.08008,    0.081081,    0.082082,    0.083083,    0.084084,    0.085085,    0.086086,    0.087087,    0.088088,    0.089089,     0.09009,    0.091091,    0.092092,    0.093093,    0.094094,    0.095095,\n",
      "          0.096096,    0.097097,    0.098098,    0.099099,      0.1001,      0.1011,      0.1021,      0.1031,      0.1041,     0.10511,     0.10611,     0.10711,     0.10811,     0.10911,     0.11011,     0.11111,     0.11211,     0.11311,     0.11411,     0.11512,     0.11612,     0.11712,     0.11812,     0.11912,\n",
      "           0.12012,     0.12112,     0.12212,     0.12312,     0.12412,     0.12513,     0.12613,     0.12713,     0.12813,     0.12913,     0.13013,     0.13113,     0.13213,     0.13313,     0.13413,     0.13514,     0.13614,     0.13714,     0.13814,     0.13914,     0.14014,     0.14114,     0.14214,     0.14314,\n",
      "           0.14414,     0.14515,     0.14615,     0.14715,     0.14815,     0.14915,     0.15015,     0.15115,     0.15215,     0.15315,     0.15415,     0.15516,     0.15616,     0.15716,     0.15816,     0.15916,     0.16016,     0.16116,     0.16216,     0.16316,     0.16416,     0.16517,     0.16617,     0.16717,\n",
      "           0.16817,     0.16917,     0.17017,     0.17117,     0.17217,     0.17317,     0.17417,     0.17518,     0.17618,     0.17718,     0.17818,     0.17918,     0.18018,     0.18118,     0.18218,     0.18318,     0.18418,     0.18519,     0.18619,     0.18719,     0.18819,     0.18919,     0.19019,     0.19119,\n",
      "           0.19219,     0.19319,     0.19419,      0.1952,      0.1962,      0.1972,      0.1982,      0.1992,      0.2002,      0.2012,      0.2022,      0.2032,      0.2042,     0.20521,     0.20621,     0.20721,     0.20821,     0.20921,     0.21021,     0.21121,     0.21221,     0.21321,     0.21421,     0.21522,\n",
      "           0.21622,     0.21722,     0.21822,     0.21922,     0.22022,     0.22122,     0.22222,     0.22322,     0.22422,     0.22523,     0.22623,     0.22723,     0.22823,     0.22923,     0.23023,     0.23123,     0.23223,     0.23323,     0.23423,     0.23524,     0.23624,     0.23724,     0.23824,     0.23924,\n",
      "           0.24024,     0.24124,     0.24224,     0.24324,     0.24424,     0.24525,     0.24625,     0.24725,     0.24825,     0.24925,     0.25025,     0.25125,     0.25225,     0.25325,     0.25425,     0.25526,     0.25626,     0.25726,     0.25826,     0.25926,     0.26026,     0.26126,     0.26226,     0.26326,\n",
      "           0.26426,     0.26527,     0.26627,     0.26727,     0.26827,     0.26927,     0.27027,     0.27127,     0.27227,     0.27327,     0.27427,     0.27528,     0.27628,     0.27728,     0.27828,     0.27928,     0.28028,     0.28128,     0.28228,     0.28328,     0.28428,     0.28529,     0.28629,     0.28729,\n",
      "           0.28829,     0.28929,     0.29029,     0.29129,     0.29229,     0.29329,     0.29429,      0.2953,      0.2963,      0.2973,      0.2983,      0.2993,      0.3003,      0.3013,      0.3023,      0.3033,      0.3043,     0.30531,     0.30631,     0.30731,     0.30831,     0.30931,     0.31031,     0.31131,\n",
      "           0.31231,     0.31331,     0.31431,     0.31532,     0.31632,     0.31732,     0.31832,     0.31932,     0.32032,     0.32132,     0.32232,     0.32332,     0.32432,     0.32533,     0.32633,     0.32733,     0.32833,     0.32933,     0.33033,     0.33133,     0.33233,     0.33333,     0.33433,     0.33534,\n",
      "           0.33634,     0.33734,     0.33834,     0.33934,     0.34034,     0.34134,     0.34234,     0.34334,     0.34434,     0.34535,     0.34635,     0.34735,     0.34835,     0.34935,     0.35035,     0.35135,     0.35235,     0.35335,     0.35435,     0.35536,     0.35636,     0.35736,     0.35836,     0.35936,\n",
      "           0.36036,     0.36136,     0.36236,     0.36336,     0.36436,     0.36537,     0.36637,     0.36737,     0.36837,     0.36937,     0.37037,     0.37137,     0.37237,     0.37337,     0.37437,     0.37538,     0.37638,     0.37738,     0.37838,     0.37938,     0.38038,     0.38138,     0.38238,     0.38338,\n",
      "           0.38438,     0.38539,     0.38639,     0.38739,     0.38839,     0.38939,     0.39039,     0.39139,     0.39239,     0.39339,     0.39439,      0.3954,      0.3964,      0.3974,      0.3984,      0.3994,      0.4004,      0.4014,      0.4024,      0.4034,      0.4044,     0.40541,     0.40641,     0.40741,\n",
      "           0.40841,     0.40941,     0.41041,     0.41141,     0.41241,     0.41341,     0.41441,     0.41542,     0.41642,     0.41742,     0.41842,     0.41942,     0.42042,     0.42142,     0.42242,     0.42342,     0.42442,     0.42543,     0.42643,     0.42743,     0.42843,     0.42943,     0.43043,     0.43143,\n",
      "           0.43243,     0.43343,     0.43443,     0.43544,     0.43644,     0.43744,     0.43844,     0.43944,     0.44044,     0.44144,     0.44244,     0.44344,     0.44444,     0.44545,     0.44645,     0.44745,     0.44845,     0.44945,     0.45045,     0.45145,     0.45245,     0.45345,     0.45445,     0.45546,\n",
      "           0.45646,     0.45746,     0.45846,     0.45946,     0.46046,     0.46146,     0.46246,     0.46346,     0.46446,     0.46547,     0.46647,     0.46747,     0.46847,     0.46947,     0.47047,     0.47147,     0.47247,     0.47347,     0.47447,     0.47548,     0.47648,     0.47748,     0.47848,     0.47948,\n",
      "           0.48048,     0.48148,     0.48248,     0.48348,     0.48448,     0.48549,     0.48649,     0.48749,     0.48849,     0.48949,     0.49049,     0.49149,     0.49249,     0.49349,     0.49449,      0.4955,      0.4965,      0.4975,      0.4985,      0.4995,      0.5005,      0.5015,      0.5025,      0.5035,\n",
      "            0.5045,     0.50551,     0.50651,     0.50751,     0.50851,     0.50951,     0.51051,     0.51151,     0.51251,     0.51351,     0.51451,     0.51552,     0.51652,     0.51752,     0.51852,     0.51952,     0.52052,     0.52152,     0.52252,     0.52352,     0.52452,     0.52553,     0.52653,     0.52753,\n",
      "           0.52853,     0.52953,     0.53053,     0.53153,     0.53253,     0.53353,     0.53453,     0.53554,     0.53654,     0.53754,     0.53854,     0.53954,     0.54054,     0.54154,     0.54254,     0.54354,     0.54454,     0.54555,     0.54655,     0.54755,     0.54855,     0.54955,     0.55055,     0.55155,\n",
      "           0.55255,     0.55355,     0.55455,     0.55556,     0.55656,     0.55756,     0.55856,     0.55956,     0.56056,     0.56156,     0.56256,     0.56356,     0.56456,     0.56557,     0.56657,     0.56757,     0.56857,     0.56957,     0.57057,     0.57157,     0.57257,     0.57357,     0.57457,     0.57558,\n",
      "           0.57658,     0.57758,     0.57858,     0.57958,     0.58058,     0.58158,     0.58258,     0.58358,     0.58458,     0.58559,     0.58659,     0.58759,     0.58859,     0.58959,     0.59059,     0.59159,     0.59259,     0.59359,     0.59459,      0.5956,      0.5966,      0.5976,      0.5986,      0.5996,\n",
      "            0.6006,      0.6016,      0.6026,      0.6036,      0.6046,     0.60561,     0.60661,     0.60761,     0.60861,     0.60961,     0.61061,     0.61161,     0.61261,     0.61361,     0.61461,     0.61562,     0.61662,     0.61762,     0.61862,     0.61962,     0.62062,     0.62162,     0.62262,     0.62362,\n",
      "           0.62462,     0.62563,     0.62663,     0.62763,     0.62863,     0.62963,     0.63063,     0.63163,     0.63263,     0.63363,     0.63463,     0.63564,     0.63664,     0.63764,     0.63864,     0.63964,     0.64064,     0.64164,     0.64264,     0.64364,     0.64464,     0.64565,     0.64665,     0.64765,\n",
      "           0.64865,     0.64965,     0.65065,     0.65165,     0.65265,     0.65365,     0.65465,     0.65566,     0.65666,     0.65766,     0.65866,     0.65966,     0.66066,     0.66166,     0.66266,     0.66366,     0.66466,     0.66567,     0.66667,     0.66767,     0.66867,     0.66967,     0.67067,     0.67167,\n",
      "           0.67267,     0.67367,     0.67467,     0.67568,     0.67668,     0.67768,     0.67868,     0.67968,     0.68068,     0.68168,     0.68268,     0.68368,     0.68468,     0.68569,     0.68669,     0.68769,     0.68869,     0.68969,     0.69069,     0.69169,     0.69269,     0.69369,     0.69469,      0.6957,\n",
      "            0.6967,      0.6977,      0.6987,      0.6997,      0.7007,      0.7017,      0.7027,      0.7037,      0.7047,     0.70571,     0.70671,     0.70771,     0.70871,     0.70971,     0.71071,     0.71171,     0.71271,     0.71371,     0.71471,     0.71572,     0.71672,     0.71772,     0.71872,     0.71972,\n",
      "           0.72072,     0.72172,     0.72272,     0.72372,     0.72472,     0.72573,     0.72673,     0.72773,     0.72873,     0.72973,     0.73073,     0.73173,     0.73273,     0.73373,     0.73473,     0.73574,     0.73674,     0.73774,     0.73874,     0.73974,     0.74074,     0.74174,     0.74274,     0.74374,\n",
      "           0.74474,     0.74575,     0.74675,     0.74775,     0.74875,     0.74975,     0.75075,     0.75175,     0.75275,     0.75375,     0.75475,     0.75576,     0.75676,     0.75776,     0.75876,     0.75976,     0.76076,     0.76176,     0.76276,     0.76376,     0.76476,     0.76577,     0.76677,     0.76777,\n",
      "           0.76877,     0.76977,     0.77077,     0.77177,     0.77277,     0.77377,     0.77477,     0.77578,     0.77678,     0.77778,     0.77878,     0.77978,     0.78078,     0.78178,     0.78278,     0.78378,     0.78478,     0.78579,     0.78679,     0.78779,     0.78879,     0.78979,     0.79079,     0.79179,\n",
      "           0.79279,     0.79379,     0.79479,      0.7958,      0.7968,      0.7978,      0.7988,      0.7998,      0.8008,      0.8018,      0.8028,      0.8038,      0.8048,     0.80581,     0.80681,     0.80781,     0.80881,     0.80981,     0.81081,     0.81181,     0.81281,     0.81381,     0.81481,     0.81582,\n",
      "           0.81682,     0.81782,     0.81882,     0.81982,     0.82082,     0.82182,     0.82282,     0.82382,     0.82482,     0.82583,     0.82683,     0.82783,     0.82883,     0.82983,     0.83083,     0.83183,     0.83283,     0.83383,     0.83483,     0.83584,     0.83684,     0.83784,     0.83884,     0.83984,\n",
      "           0.84084,     0.84184,     0.84284,     0.84384,     0.84484,     0.84585,     0.84685,     0.84785,     0.84885,     0.84985,     0.85085,     0.85185,     0.85285,     0.85385,     0.85485,     0.85586,     0.85686,     0.85786,     0.85886,     0.85986,     0.86086,     0.86186,     0.86286,     0.86386,\n",
      "           0.86486,     0.86587,     0.86687,     0.86787,     0.86887,     0.86987,     0.87087,     0.87187,     0.87287,     0.87387,     0.87487,     0.87588,     0.87688,     0.87788,     0.87888,     0.87988,     0.88088,     0.88188,     0.88288,     0.88388,     0.88488,     0.88589,     0.88689,     0.88789,\n",
      "           0.88889,     0.88989,     0.89089,     0.89189,     0.89289,     0.89389,     0.89489,      0.8959,      0.8969,      0.8979,      0.8989,      0.8999,      0.9009,      0.9019,      0.9029,      0.9039,      0.9049,     0.90591,     0.90691,     0.90791,     0.90891,     0.90991,     0.91091,     0.91191,\n",
      "           0.91291,     0.91391,     0.91491,     0.91592,     0.91692,     0.91792,     0.91892,     0.91992,     0.92092,     0.92192,     0.92292,     0.92392,     0.92492,     0.92593,     0.92693,     0.92793,     0.92893,     0.92993,     0.93093,     0.93193,     0.93293,     0.93393,     0.93493,     0.93594,\n",
      "           0.93694,     0.93794,     0.93894,     0.93994,     0.94094,     0.94194,     0.94294,     0.94394,     0.94494,     0.94595,     0.94695,     0.94795,     0.94895,     0.94995,     0.95095,     0.95195,     0.95295,     0.95395,     0.95495,     0.95596,     0.95696,     0.95796,     0.95896,     0.95996,\n",
      "           0.96096,     0.96196,     0.96296,     0.96396,     0.96496,     0.96597,     0.96697,     0.96797,     0.96897,     0.96997,     0.97097,     0.97197,     0.97297,     0.97397,     0.97497,     0.97598,     0.97698,     0.97798,     0.97898,     0.97998,     0.98098,     0.98198,     0.98298,     0.98398,\n",
      "           0.98498,     0.98599,     0.98699,     0.98799,     0.98899,     0.98999,     0.99099,     0.99199,     0.99299,     0.99399,     0.99499,       0.996,       0.997,       0.998,       0.999,           1]), array([[    0.17822,     0.17835,     0.19671,     0.20764,     0.21567,     0.22147,     0.22653,     0.23051,     0.24691,     0.26443,     0.28191,     0.29903,     0.31666,     0.33252,     0.34804,     0.36177,     0.37612,     0.38996,     0.40269,     0.41415,     0.42491,     0.43472,     0.44338,\n",
      "            0.45166,     0.45931,     0.46574,     0.47347,     0.47875,     0.48419,     0.49078,     0.49622,     0.50213,     0.50708,     0.51148,     0.51531,     0.51968,     0.52392,     0.52761,     0.53282,      0.5362,     0.54003,     0.54414,     0.54709,     0.55184,     0.55476,     0.55794,\n",
      "            0.56114,     0.56466,     0.56837,     0.57248,     0.57482,      0.5781,     0.58124,      0.5841,     0.58809,     0.59177,     0.59494,     0.59729,     0.60035,     0.60309,     0.60531,     0.60712,     0.60913,     0.61202,     0.61454,     0.61671,     0.61927,     0.62113,      0.6234,\n",
      "            0.62467,     0.62684,     0.62929,     0.63078,     0.63356,     0.63575,     0.63849,     0.63971,     0.64184,      0.6443,      0.6465,     0.64912,     0.65078,     0.65218,     0.65437,     0.65575,     0.65864,     0.66034,     0.66252,       0.664,     0.66638,     0.66948,     0.67155,\n",
      "            0.67325,     0.67494,     0.67625,     0.67841,     0.67968,     0.68208,     0.68451,     0.68561,     0.68782,     0.68934,     0.69045,     0.69181,     0.69356,     0.69572,     0.69732,     0.69887,     0.70028,     0.70294,      0.7053,      0.7067,     0.70859,     0.71054,     0.71195,\n",
      "             0.7129,      0.7147,     0.71587,     0.71853,     0.71962,     0.72171,     0.72301,     0.72405,     0.72506,      0.7269,     0.72913,     0.73063,      0.7322,     0.73421,     0.73561,     0.73699,     0.73914,     0.74156,     0.74293,     0.74393,     0.74534,      0.7486,     0.74931,\n",
      "            0.75109,     0.75328,     0.75428,     0.75532,      0.7562,     0.75741,     0.75901,     0.76105,     0.76218,      0.7635,     0.76468,     0.76627,     0.76771,     0.76946,      0.7718,     0.77229,     0.77346,     0.77492,     0.77612,     0.77662,     0.77827,     0.78007,      0.7814,\n",
      "            0.78249,     0.78337,     0.78505,     0.78637,     0.78751,     0.78918,      0.7894,     0.79133,     0.79258,     0.79315,     0.79436,     0.79549,     0.79599,     0.79742,     0.79869,     0.80005,     0.80132,     0.80313,     0.80379,      0.8047,      0.8058,     0.80692,     0.80816,\n",
      "             0.8084,     0.81028,      0.8114,     0.81244,     0.81324,     0.81428,     0.81528,     0.81603,     0.81664,     0.81798,     0.81827,      0.8197,     0.82045,     0.82156,     0.82229,     0.82267,     0.82371,     0.82414,     0.82428,     0.82579,     0.82625,     0.82717,     0.82792,\n",
      "             0.8294,     0.83072,     0.83126,     0.83351,     0.83374,     0.83393,      0.8349,     0.83544,     0.83592,     0.83645,     0.83767,     0.83946,     0.84028,     0.84173,     0.84249,     0.84335,     0.84401,     0.84478,     0.84488,     0.84584,      0.8463,     0.84743,     0.84822,\n",
      "            0.85005,     0.85122,      0.8518,     0.85291,     0.85373,      0.8553,     0.85572,     0.85786,     0.85831,     0.85877,     0.86016,     0.86081,     0.86176,     0.86215,      0.8631,     0.86392,     0.86457,     0.86542,     0.86699,     0.86748,     0.86759,      0.8676,     0.86807,\n",
      "            0.86862,     0.86875,      0.8691,     0.87001,     0.87029,     0.87076,     0.87197,     0.87241,      0.8732,     0.87358,     0.87392,     0.87467,     0.87628,     0.87794,     0.87852,      0.8798,     0.88084,     0.88194,     0.88305,     0.88364,     0.88372,     0.88439,     0.88499,\n",
      "            0.88544,     0.88586,     0.88631,     0.88682,     0.88717,     0.88733,     0.88833,     0.88924,      0.8897,     0.89033,     0.89135,     0.89201,     0.89266,     0.89293,     0.89349,     0.89418,     0.89491,      0.8955,     0.89618,     0.89705,     0.89714,     0.89751,     0.89812,\n",
      "            0.89925,      0.8996,     0.90001,     0.90037,     0.90036,     0.90055,     0.90053,      0.9013,     0.90222,     0.90243,      0.9029,     0.90355,     0.90403,     0.90417,     0.90454,     0.90521,     0.90574,     0.90631,     0.90723,     0.90785,     0.90854,     0.90921,     0.90999,\n",
      "            0.91082,     0.91102,     0.91171,     0.91236,     0.91306,     0.91332,     0.91372,     0.91396,     0.91415,     0.91412,     0.91408,     0.91422,     0.91413,     0.91466,     0.91477,     0.91494,     0.91537,     0.91601,     0.91676,      0.9177,     0.91817,     0.91907,     0.91972,\n",
      "            0.91997,     0.92043,     0.92097,     0.92118,     0.92154,     0.92182,      0.9218,     0.92199,     0.92192,     0.92212,     0.92214,     0.92227,     0.92275,     0.92293,      0.9234,      0.9238,     0.92477,     0.92521,     0.92561,     0.92575,     0.92626,     0.92687,     0.92715,\n",
      "            0.92757,     0.92824,     0.92864,      0.9293,     0.92955,      0.9298,     0.93006,     0.93061,     0.93076,     0.93092,     0.93112,     0.93152,     0.93247,     0.93244,     0.93251,     0.93272,     0.93308,     0.93316,     0.93323,     0.93343,     0.93358,     0.93386,     0.93454,\n",
      "            0.93475,     0.93498,     0.93572,     0.93636,     0.93682,     0.93739,     0.93762,     0.93786,     0.93799,      0.9379,     0.93836,     0.93835,     0.93833,     0.93828,     0.93876,     0.93897,     0.93972,     0.93971,     0.93997,     0.94061,     0.94089,     0.94105,     0.94183,\n",
      "            0.94219,     0.94217,     0.94216,     0.94233,     0.94254,     0.94249,     0.94273,     0.94367,     0.94388,     0.94462,      0.9451,     0.94511,     0.94536,     0.94556,     0.94585,      0.9461,     0.94654,     0.94652,     0.94672,     0.94671,      0.9468,      0.9476,      0.9479,\n",
      "            0.94798,     0.94837,     0.94864,     0.94862,     0.94963,     0.94985,     0.95006,     0.95025,     0.95028,     0.95049,     0.95074,      0.9515,     0.95198,     0.95248,       0.953,     0.95323,     0.95345,     0.95363,     0.95385,     0.95462,      0.9546,     0.95454,     0.95479,\n",
      "            0.95484,     0.95498,     0.95557,     0.95553,     0.95631,     0.95672,     0.95698,     0.95701,      0.9572,     0.95725,     0.95741,     0.95796,     0.95818,     0.95817,     0.95865,     0.95885,     0.95934,     0.95963,     0.95959,     0.95954,     0.96005,     0.96032,      0.9606,\n",
      "            0.96086,     0.96083,     0.96081,     0.96085,     0.96132,      0.9613,     0.96182,      0.9618,     0.96212,     0.96238,     0.96278,      0.9633,     0.96367,     0.96384,     0.96383,     0.96381,      0.9642,     0.96505,     0.96516,     0.96516,     0.96515,     0.96513,     0.96539,\n",
      "            0.96591,      0.9659,     0.96586,     0.96612,      0.9661,     0.96628,     0.96631,     0.96657,     0.96655,     0.96654,     0.96651,     0.96649,     0.96646,     0.96703,     0.96755,     0.96783,      0.9678,     0.96778,     0.96775,     0.96803,     0.96829,     0.96825,     0.96822,\n",
      "            0.96817,     0.96815,     0.96811,      0.9682,     0.96837,     0.96847,     0.96905,     0.96921,      0.9692,     0.96919,     0.96914,     0.96912,     0.96955,     0.96967,     0.96983,     0.97009,     0.97018,     0.97015,     0.97014,       0.971,     0.97096,     0.97096,     0.97091,\n",
      "            0.97114,     0.97114,     0.97112,     0.97109,     0.97107,     0.97103,     0.97132,      0.9713,     0.97129,     0.97127,     0.97155,     0.97173,     0.97213,     0.97229,     0.97237,     0.97235,     0.97234,     0.97314,     0.97321,     0.97317,     0.97316,     0.97316,     0.97343,\n",
      "             0.9734,     0.97337,     0.97395,     0.97395,     0.97395,     0.97422,     0.97423,     0.97449,     0.97443,     0.97471,     0.97469,     0.97465,     0.97492,     0.97509,     0.97539,     0.97571,     0.97576,     0.97635,     0.97663,     0.97691,     0.97689,     0.97688,     0.97717,\n",
      "            0.97714,     0.97712,     0.97709,     0.97738,     0.97736,     0.97732,      0.9773,     0.97727,     0.97757,     0.97748,     0.97785,     0.97808,     0.97808,     0.97806,     0.97804,     0.97802,     0.97801,       0.978,      0.9783,     0.97861,     0.97861,     0.97891,     0.97923,\n",
      "             0.9792,     0.97919,     0.97916,     0.97913,     0.97909,     0.97928,     0.97937,     0.97936,     0.97934,     0.97932,      0.9793,     0.97923,      0.9795,     0.97947,     0.97977,     0.97976,     0.98006,     0.98006,     0.98005,        0.98,     0.97998,     0.97997,     0.97995,\n",
      "            0.97992,     0.98024,     0.98022,     0.98053,     0.98051,     0.98057,     0.98089,     0.98111,     0.98109,     0.98163,     0.98171,     0.98169,     0.98168,     0.98168,     0.98179,     0.98196,     0.98196,     0.98193,     0.98192,     0.98221,     0.98221,     0.98286,     0.98285,\n",
      "             0.9835,     0.98349,     0.98415,     0.98447,     0.98446,     0.98445,     0.98445,     0.98443,     0.98442,     0.98438,     0.98437,     0.98437,     0.98468,     0.98465,     0.98465,     0.98462,     0.98461,     0.98459,     0.98459,      0.9847,     0.98486,     0.98486,     0.98484,\n",
      "            0.98484,     0.98484,     0.98483,      0.9848,     0.98513,     0.98512,     0.98523,     0.98541,      0.9854,     0.98571,     0.98569,     0.98569,     0.98637,     0.98637,      0.9865,     0.98667,     0.98667,     0.98663,     0.98663,     0.98662,     0.98694,     0.98693,     0.98726,\n",
      "            0.98726,     0.98798,     0.98796,     0.98796,     0.98828,     0.98828,     0.98825,     0.98821,     0.98818,     0.98818,     0.98816,     0.98815,     0.98813,     0.98883,     0.98883,      0.9888,     0.98878,     0.98878,     0.98874,     0.98872,     0.98872,     0.98867,     0.98867,\n",
      "            0.98903,     0.98936,     0.98936,     0.98973,      0.9897,      0.9897,      0.9897,     0.98967,     0.98964,     0.98964,     0.98977,     0.99001,     0.99027,     0.99069,     0.99068,     0.99067,     0.99126,     0.99181,      0.9918,     0.99179,     0.99176,     0.99176,     0.99174,\n",
      "            0.99171,     0.99169,     0.99169,     0.99169,     0.99167,     0.99165,     0.99165,       0.992,     0.99198,     0.99198,     0.99275,     0.99273,     0.99273,     0.99272,      0.9927,     0.99307,     0.99306,     0.99304,     0.99342,     0.99342,     0.99339,     0.99336,     0.99375,\n",
      "            0.99373,     0.99373,     0.99371,     0.99368,     0.99366,     0.99366,     0.99363,      0.9936,     0.99357,     0.99357,     0.99353,     0.99352,     0.99392,     0.99392,      0.9939,     0.99387,     0.99384,     0.99379,     0.99376,     0.99375,     0.99375,     0.99372,     0.99411,\n",
      "            0.99407,      0.9945,     0.99449,     0.99448,     0.99445,     0.99442,     0.99438,     0.99438,     0.99435,     0.99432,     0.99429,     0.99425,     0.99422,     0.99422,     0.99418,     0.99507,     0.99506,     0.99503,     0.99499,     0.99496,     0.99491,     0.99538,     0.99533,\n",
      "            0.99533,     0.99529,     0.99525,     0.99575,     0.99572,     0.99621,     0.99617,     0.99614,     0.99612,     0.99625,     0.99663,     0.99663,     0.99656,     0.99653,     0.99649,     0.99706,     0.99704,     0.99702,     0.99702,     0.99697,     0.99693,      0.9969,     0.99749,\n",
      "            0.99746,     0.99741,     0.99738,     0.99736,     0.99732,     0.99729,     0.99726,     0.99721,     0.99718,      0.9971,     0.99704,     0.99699,     0.99695,     0.99691,     0.99686,     0.99681,     0.99676,     0.99667,     0.99662,     0.99654,     0.99647,     0.99641,     0.99634,\n",
      "             0.9963,     0.99811,     0.99803,       0.998,     0.99795,     0.99788,     0.99779,     0.99773,     0.99884,     0.99881,           1,           1,           1,           1,           1,           1,           1,           1,           1,           1,           1,           1,           1,\n",
      "                  1,           1,           1,           1,           1,           1,           1,           1,           1,           1,           1,           1,           1,           1,           1,           1,           1,           1,           1,           1,           1,           1,           1,\n",
      "                  1,           1,           1,           1,           1,           1,           1,           1,           1,           1,           1,           1,           1,           1,           1,           1,           1,           1,           1,           1,           1,           1,           1,\n",
      "                  1,           1,           1,           1,           1,           1,           1,           1,           1,           1,           1,           1,           1,           1,           1,           1,           1,           1,           1,           1,           1,           1,           1,\n",
      "                  1,           1,           1,           1,           1,           1,           1,           1,           1,           1,           1,           1,           1,           1,           1,           1,           1,           1,           1,           1,           1,           1,           1,\n",
      "                  1,           1,           1,           1,           1,           1,           1,           1,           1,           1,           1]]), 'Confidence', 'Precision'], [array([          0,    0.001001,    0.002002,    0.003003,    0.004004,    0.005005,    0.006006,    0.007007,    0.008008,    0.009009,     0.01001,    0.011011,    0.012012,    0.013013,    0.014014,    0.015015,    0.016016,    0.017017,    0.018018,    0.019019,     0.02002,    0.021021,    0.022022,    0.023023,\n",
      "          0.024024,    0.025025,    0.026026,    0.027027,    0.028028,    0.029029,     0.03003,    0.031031,    0.032032,    0.033033,    0.034034,    0.035035,    0.036036,    0.037037,    0.038038,    0.039039,     0.04004,    0.041041,    0.042042,    0.043043,    0.044044,    0.045045,    0.046046,    0.047047,\n",
      "          0.048048,    0.049049,     0.05005,    0.051051,    0.052052,    0.053053,    0.054054,    0.055055,    0.056056,    0.057057,    0.058058,    0.059059,     0.06006,    0.061061,    0.062062,    0.063063,    0.064064,    0.065065,    0.066066,    0.067067,    0.068068,    0.069069,     0.07007,    0.071071,\n",
      "          0.072072,    0.073073,    0.074074,    0.075075,    0.076076,    0.077077,    0.078078,    0.079079,     0.08008,    0.081081,    0.082082,    0.083083,    0.084084,    0.085085,    0.086086,    0.087087,    0.088088,    0.089089,     0.09009,    0.091091,    0.092092,    0.093093,    0.094094,    0.095095,\n",
      "          0.096096,    0.097097,    0.098098,    0.099099,      0.1001,      0.1011,      0.1021,      0.1031,      0.1041,     0.10511,     0.10611,     0.10711,     0.10811,     0.10911,     0.11011,     0.11111,     0.11211,     0.11311,     0.11411,     0.11512,     0.11612,     0.11712,     0.11812,     0.11912,\n",
      "           0.12012,     0.12112,     0.12212,     0.12312,     0.12412,     0.12513,     0.12613,     0.12713,     0.12813,     0.12913,     0.13013,     0.13113,     0.13213,     0.13313,     0.13413,     0.13514,     0.13614,     0.13714,     0.13814,     0.13914,     0.14014,     0.14114,     0.14214,     0.14314,\n",
      "           0.14414,     0.14515,     0.14615,     0.14715,     0.14815,     0.14915,     0.15015,     0.15115,     0.15215,     0.15315,     0.15415,     0.15516,     0.15616,     0.15716,     0.15816,     0.15916,     0.16016,     0.16116,     0.16216,     0.16316,     0.16416,     0.16517,     0.16617,     0.16717,\n",
      "           0.16817,     0.16917,     0.17017,     0.17117,     0.17217,     0.17317,     0.17417,     0.17518,     0.17618,     0.17718,     0.17818,     0.17918,     0.18018,     0.18118,     0.18218,     0.18318,     0.18418,     0.18519,     0.18619,     0.18719,     0.18819,     0.18919,     0.19019,     0.19119,\n",
      "           0.19219,     0.19319,     0.19419,      0.1952,      0.1962,      0.1972,      0.1982,      0.1992,      0.2002,      0.2012,      0.2022,      0.2032,      0.2042,     0.20521,     0.20621,     0.20721,     0.20821,     0.20921,     0.21021,     0.21121,     0.21221,     0.21321,     0.21421,     0.21522,\n",
      "           0.21622,     0.21722,     0.21822,     0.21922,     0.22022,     0.22122,     0.22222,     0.22322,     0.22422,     0.22523,     0.22623,     0.22723,     0.22823,     0.22923,     0.23023,     0.23123,     0.23223,     0.23323,     0.23423,     0.23524,     0.23624,     0.23724,     0.23824,     0.23924,\n",
      "           0.24024,     0.24124,     0.24224,     0.24324,     0.24424,     0.24525,     0.24625,     0.24725,     0.24825,     0.24925,     0.25025,     0.25125,     0.25225,     0.25325,     0.25425,     0.25526,     0.25626,     0.25726,     0.25826,     0.25926,     0.26026,     0.26126,     0.26226,     0.26326,\n",
      "           0.26426,     0.26527,     0.26627,     0.26727,     0.26827,     0.26927,     0.27027,     0.27127,     0.27227,     0.27327,     0.27427,     0.27528,     0.27628,     0.27728,     0.27828,     0.27928,     0.28028,     0.28128,     0.28228,     0.28328,     0.28428,     0.28529,     0.28629,     0.28729,\n",
      "           0.28829,     0.28929,     0.29029,     0.29129,     0.29229,     0.29329,     0.29429,      0.2953,      0.2963,      0.2973,      0.2983,      0.2993,      0.3003,      0.3013,      0.3023,      0.3033,      0.3043,     0.30531,     0.30631,     0.30731,     0.30831,     0.30931,     0.31031,     0.31131,\n",
      "           0.31231,     0.31331,     0.31431,     0.31532,     0.31632,     0.31732,     0.31832,     0.31932,     0.32032,     0.32132,     0.32232,     0.32332,     0.32432,     0.32533,     0.32633,     0.32733,     0.32833,     0.32933,     0.33033,     0.33133,     0.33233,     0.33333,     0.33433,     0.33534,\n",
      "           0.33634,     0.33734,     0.33834,     0.33934,     0.34034,     0.34134,     0.34234,     0.34334,     0.34434,     0.34535,     0.34635,     0.34735,     0.34835,     0.34935,     0.35035,     0.35135,     0.35235,     0.35335,     0.35435,     0.35536,     0.35636,     0.35736,     0.35836,     0.35936,\n",
      "           0.36036,     0.36136,     0.36236,     0.36336,     0.36436,     0.36537,     0.36637,     0.36737,     0.36837,     0.36937,     0.37037,     0.37137,     0.37237,     0.37337,     0.37437,     0.37538,     0.37638,     0.37738,     0.37838,     0.37938,     0.38038,     0.38138,     0.38238,     0.38338,\n",
      "           0.38438,     0.38539,     0.38639,     0.38739,     0.38839,     0.38939,     0.39039,     0.39139,     0.39239,     0.39339,     0.39439,      0.3954,      0.3964,      0.3974,      0.3984,      0.3994,      0.4004,      0.4014,      0.4024,      0.4034,      0.4044,     0.40541,     0.40641,     0.40741,\n",
      "           0.40841,     0.40941,     0.41041,     0.41141,     0.41241,     0.41341,     0.41441,     0.41542,     0.41642,     0.41742,     0.41842,     0.41942,     0.42042,     0.42142,     0.42242,     0.42342,     0.42442,     0.42543,     0.42643,     0.42743,     0.42843,     0.42943,     0.43043,     0.43143,\n",
      "           0.43243,     0.43343,     0.43443,     0.43544,     0.43644,     0.43744,     0.43844,     0.43944,     0.44044,     0.44144,     0.44244,     0.44344,     0.44444,     0.44545,     0.44645,     0.44745,     0.44845,     0.44945,     0.45045,     0.45145,     0.45245,     0.45345,     0.45445,     0.45546,\n",
      "           0.45646,     0.45746,     0.45846,     0.45946,     0.46046,     0.46146,     0.46246,     0.46346,     0.46446,     0.46547,     0.46647,     0.46747,     0.46847,     0.46947,     0.47047,     0.47147,     0.47247,     0.47347,     0.47447,     0.47548,     0.47648,     0.47748,     0.47848,     0.47948,\n",
      "           0.48048,     0.48148,     0.48248,     0.48348,     0.48448,     0.48549,     0.48649,     0.48749,     0.48849,     0.48949,     0.49049,     0.49149,     0.49249,     0.49349,     0.49449,      0.4955,      0.4965,      0.4975,      0.4985,      0.4995,      0.5005,      0.5015,      0.5025,      0.5035,\n",
      "            0.5045,     0.50551,     0.50651,     0.50751,     0.50851,     0.50951,     0.51051,     0.51151,     0.51251,     0.51351,     0.51451,     0.51552,     0.51652,     0.51752,     0.51852,     0.51952,     0.52052,     0.52152,     0.52252,     0.52352,     0.52452,     0.52553,     0.52653,     0.52753,\n",
      "           0.52853,     0.52953,     0.53053,     0.53153,     0.53253,     0.53353,     0.53453,     0.53554,     0.53654,     0.53754,     0.53854,     0.53954,     0.54054,     0.54154,     0.54254,     0.54354,     0.54454,     0.54555,     0.54655,     0.54755,     0.54855,     0.54955,     0.55055,     0.55155,\n",
      "           0.55255,     0.55355,     0.55455,     0.55556,     0.55656,     0.55756,     0.55856,     0.55956,     0.56056,     0.56156,     0.56256,     0.56356,     0.56456,     0.56557,     0.56657,     0.56757,     0.56857,     0.56957,     0.57057,     0.57157,     0.57257,     0.57357,     0.57457,     0.57558,\n",
      "           0.57658,     0.57758,     0.57858,     0.57958,     0.58058,     0.58158,     0.58258,     0.58358,     0.58458,     0.58559,     0.58659,     0.58759,     0.58859,     0.58959,     0.59059,     0.59159,     0.59259,     0.59359,     0.59459,      0.5956,      0.5966,      0.5976,      0.5986,      0.5996,\n",
      "            0.6006,      0.6016,      0.6026,      0.6036,      0.6046,     0.60561,     0.60661,     0.60761,     0.60861,     0.60961,     0.61061,     0.61161,     0.61261,     0.61361,     0.61461,     0.61562,     0.61662,     0.61762,     0.61862,     0.61962,     0.62062,     0.62162,     0.62262,     0.62362,\n",
      "           0.62462,     0.62563,     0.62663,     0.62763,     0.62863,     0.62963,     0.63063,     0.63163,     0.63263,     0.63363,     0.63463,     0.63564,     0.63664,     0.63764,     0.63864,     0.63964,     0.64064,     0.64164,     0.64264,     0.64364,     0.64464,     0.64565,     0.64665,     0.64765,\n",
      "           0.64865,     0.64965,     0.65065,     0.65165,     0.65265,     0.65365,     0.65465,     0.65566,     0.65666,     0.65766,     0.65866,     0.65966,     0.66066,     0.66166,     0.66266,     0.66366,     0.66466,     0.66567,     0.66667,     0.66767,     0.66867,     0.66967,     0.67067,     0.67167,\n",
      "           0.67267,     0.67367,     0.67467,     0.67568,     0.67668,     0.67768,     0.67868,     0.67968,     0.68068,     0.68168,     0.68268,     0.68368,     0.68468,     0.68569,     0.68669,     0.68769,     0.68869,     0.68969,     0.69069,     0.69169,     0.69269,     0.69369,     0.69469,      0.6957,\n",
      "            0.6967,      0.6977,      0.6987,      0.6997,      0.7007,      0.7017,      0.7027,      0.7037,      0.7047,     0.70571,     0.70671,     0.70771,     0.70871,     0.70971,     0.71071,     0.71171,     0.71271,     0.71371,     0.71471,     0.71572,     0.71672,     0.71772,     0.71872,     0.71972,\n",
      "           0.72072,     0.72172,     0.72272,     0.72372,     0.72472,     0.72573,     0.72673,     0.72773,     0.72873,     0.72973,     0.73073,     0.73173,     0.73273,     0.73373,     0.73473,     0.73574,     0.73674,     0.73774,     0.73874,     0.73974,     0.74074,     0.74174,     0.74274,     0.74374,\n",
      "           0.74474,     0.74575,     0.74675,     0.74775,     0.74875,     0.74975,     0.75075,     0.75175,     0.75275,     0.75375,     0.75475,     0.75576,     0.75676,     0.75776,     0.75876,     0.75976,     0.76076,     0.76176,     0.76276,     0.76376,     0.76476,     0.76577,     0.76677,     0.76777,\n",
      "           0.76877,     0.76977,     0.77077,     0.77177,     0.77277,     0.77377,     0.77477,     0.77578,     0.77678,     0.77778,     0.77878,     0.77978,     0.78078,     0.78178,     0.78278,     0.78378,     0.78478,     0.78579,     0.78679,     0.78779,     0.78879,     0.78979,     0.79079,     0.79179,\n",
      "           0.79279,     0.79379,     0.79479,      0.7958,      0.7968,      0.7978,      0.7988,      0.7998,      0.8008,      0.8018,      0.8028,      0.8038,      0.8048,     0.80581,     0.80681,     0.80781,     0.80881,     0.80981,     0.81081,     0.81181,     0.81281,     0.81381,     0.81481,     0.81582,\n",
      "           0.81682,     0.81782,     0.81882,     0.81982,     0.82082,     0.82182,     0.82282,     0.82382,     0.82482,     0.82583,     0.82683,     0.82783,     0.82883,     0.82983,     0.83083,     0.83183,     0.83283,     0.83383,     0.83483,     0.83584,     0.83684,     0.83784,     0.83884,     0.83984,\n",
      "           0.84084,     0.84184,     0.84284,     0.84384,     0.84484,     0.84585,     0.84685,     0.84785,     0.84885,     0.84985,     0.85085,     0.85185,     0.85285,     0.85385,     0.85485,     0.85586,     0.85686,     0.85786,     0.85886,     0.85986,     0.86086,     0.86186,     0.86286,     0.86386,\n",
      "           0.86486,     0.86587,     0.86687,     0.86787,     0.86887,     0.86987,     0.87087,     0.87187,     0.87287,     0.87387,     0.87487,     0.87588,     0.87688,     0.87788,     0.87888,     0.87988,     0.88088,     0.88188,     0.88288,     0.88388,     0.88488,     0.88589,     0.88689,     0.88789,\n",
      "           0.88889,     0.88989,     0.89089,     0.89189,     0.89289,     0.89389,     0.89489,      0.8959,      0.8969,      0.8979,      0.8989,      0.8999,      0.9009,      0.9019,      0.9029,      0.9039,      0.9049,     0.90591,     0.90691,     0.90791,     0.90891,     0.90991,     0.91091,     0.91191,\n",
      "           0.91291,     0.91391,     0.91491,     0.91592,     0.91692,     0.91792,     0.91892,     0.91992,     0.92092,     0.92192,     0.92292,     0.92392,     0.92492,     0.92593,     0.92693,     0.92793,     0.92893,     0.92993,     0.93093,     0.93193,     0.93293,     0.93393,     0.93493,     0.93594,\n",
      "           0.93694,     0.93794,     0.93894,     0.93994,     0.94094,     0.94194,     0.94294,     0.94394,     0.94494,     0.94595,     0.94695,     0.94795,     0.94895,     0.94995,     0.95095,     0.95195,     0.95295,     0.95395,     0.95495,     0.95596,     0.95696,     0.95796,     0.95896,     0.95996,\n",
      "           0.96096,     0.96196,     0.96296,     0.96396,     0.96496,     0.96597,     0.96697,     0.96797,     0.96897,     0.96997,     0.97097,     0.97197,     0.97297,     0.97397,     0.97497,     0.97598,     0.97698,     0.97798,     0.97898,     0.97998,     0.98098,     0.98198,     0.98298,     0.98398,\n",
      "           0.98498,     0.98599,     0.98699,     0.98799,     0.98899,     0.98999,     0.99099,     0.99199,     0.99299,     0.99399,     0.99499,       0.996,       0.997,       0.998,       0.999,           1]), array([[    0.91512,     0.91512,     0.91449,     0.91344,     0.91154,     0.91028,     0.90965,     0.90817,     0.90733,     0.90459,     0.90185,     0.90038,     0.89743,     0.89553,     0.89385,     0.89217,     0.88985,     0.88795,     0.88648,     0.88543,     0.88311,     0.88206,       0.881,\n",
      "            0.88058,     0.88016,     0.87932,     0.87869,       0.877,     0.87637,     0.87532,     0.87489,     0.87468,     0.87405,     0.87342,     0.87237,     0.87174,     0.87131,      0.8711,     0.87047,     0.87005,     0.86984,       0.869,       0.869,     0.86879,     0.86858,     0.86837,\n",
      "            0.86816,     0.86794,     0.86773,     0.86751,     0.86689,     0.86668,     0.86584,     0.86542,       0.865,     0.86493,     0.86457,     0.86436,     0.86415,     0.86331,      0.8631,     0.86268,     0.86268,     0.86247,     0.86196,     0.86184,     0.86163,     0.86079,     0.86078,\n",
      "            0.86015,     0.85973,      0.8591,     0.85889,     0.85805,     0.85783,     0.85779,     0.85747,     0.85699,     0.85531,     0.85531,     0.85447,     0.85425,     0.85383,     0.85362,      0.8532,     0.85299,     0.85278,     0.85278,     0.85215,     0.85194,     0.85152,     0.85088,\n",
      "            0.85004,     0.85004,     0.84941,     0.84899,     0.84899,     0.84899,     0.84899,     0.84836,     0.84836,     0.84815,     0.84773,     0.84751,     0.84709,     0.84625,     0.84604,     0.84604,     0.84604,     0.84604,     0.84583,     0.84562,     0.84541,     0.84541,      0.8452,\n",
      "             0.8452,     0.84469,     0.84436,     0.84393,     0.84393,     0.84372,     0.84351,      0.8433,     0.84288,     0.84267,     0.84246,     0.84183,     0.84141,      0.8412,      0.8412,      0.8412,     0.84099,     0.84056,     0.84035,     0.84035,     0.84035,     0.84035,     0.84035,\n",
      "            0.83993,     0.83951,     0.83951,     0.83951,     0.83888,     0.83783,     0.83783,     0.83783,     0.83762,     0.83762,     0.83762,     0.83741,     0.83719,     0.83698,     0.83677,     0.83644,     0.83614,     0.83593,     0.83529,     0.83467,     0.83467,     0.83446,     0.83361,\n",
      "            0.83298,     0.83277,     0.83277,     0.83235,      0.8321,     0.83172,     0.83132,     0.83088,     0.83088,     0.83067,     0.83045,     0.82982,      0.8294,      0.8294,      0.8294,     0.82919,     0.82919,     0.82856,     0.82827,     0.82772,     0.82772,     0.82772,     0.82751,\n",
      "             0.8273,     0.82687,     0.82687,     0.82645,      0.8263,     0.82519,     0.82435,     0.82414,     0.82361,     0.82329,     0.82313,     0.82308,     0.82182,     0.82161,      0.8214,     0.82098,     0.82035,     0.82013,     0.81999,      0.8195,      0.8195,     0.81908,     0.81887,\n",
      "            0.81866,     0.81845,     0.81803,     0.81803,     0.81782,     0.81756,     0.81719,     0.81691,     0.81676,      0.8165,     0.81634,     0.81571,     0.81571,     0.81508,     0.81466,     0.81382,     0.81365,      0.8127,     0.81255,     0.81213,     0.81213,     0.81171,     0.81096,\n",
      "            0.81066,     0.81045,     0.80983,     0.80939,     0.80918,     0.80897,     0.80876,     0.80834,     0.80834,     0.80834,     0.80813,     0.80792,     0.80748,     0.80687,     0.80623,     0.80602,     0.80602,     0.80583,     0.80539,     0.80539,     0.80455,     0.80413,     0.80413,\n",
      "            0.80347,     0.80297,     0.80269,     0.80181,     0.80181,     0.80181,     0.80139,     0.80118,     0.80055,     0.80034,     0.80003,     0.79992,     0.79928,     0.79907,     0.79823,     0.79823,     0.79823,     0.79823,     0.79823,     0.79814,     0.79781,     0.79781,     0.79735,\n",
      "            0.79676,     0.79655,     0.79635,     0.79543,     0.79493,     0.79449,     0.79402,     0.79402,     0.79402,      0.7936,     0.79275,     0.79254,     0.79233,     0.79213,     0.79149,     0.79128,     0.79091,     0.79086,     0.79083,     0.79023,      0.7899,      0.7894,     0.78917,\n",
      "            0.78896,     0.78886,      0.7886,     0.78833,      0.7877,     0.78766,     0.78753,     0.78728,     0.78709,     0.78695,     0.78665,     0.78623,     0.78565,     0.78495,     0.78412,      0.7837,     0.78317,     0.78307,     0.78266,     0.78223,     0.78201,      0.7818,     0.78148,\n",
      "            0.78138,     0.78096,     0.78054,     0.78012,     0.77991,     0.77991,     0.77906,     0.77864,     0.77822,     0.77795,      0.7775,     0.77663,     0.77573,     0.77548,     0.77548,     0.77481,     0.77458,     0.77412,     0.77359,     0.77338,     0.77317,     0.77233,      0.7719,\n",
      "             0.7719,     0.77127,     0.77073,     0.77049,     0.77001,      0.7698,     0.76959,     0.76915,     0.76846,     0.76804,     0.76769,     0.76769,     0.76734,     0.76685,     0.76685,       0.766,     0.76559,     0.76516,     0.76474,     0.76474,     0.76461,     0.76432,     0.76411,\n",
      "            0.76328,     0.76285,     0.76195,     0.76131,     0.76053,     0.76032,     0.76011,     0.75977,     0.75871,     0.75781,     0.75738,     0.75632,     0.75611,     0.75584,     0.75569,     0.75527,     0.75477,     0.75421,     0.75365,     0.75302,     0.75274,     0.75237,     0.75168,\n",
      "            0.75126,     0.75104,     0.75084,     0.74997,      0.7495,     0.74916,     0.74895,     0.74874,     0.74863,     0.74754,      0.7471,     0.74688,     0.74666,     0.74603,     0.74581,     0.74558,     0.74533,     0.74452,     0.74452,     0.74384,     0.74326,     0.74298,     0.74221,\n",
      "            0.74147,     0.74123,     0.74102,     0.73996,     0.73932,     0.73868,     0.73847,     0.73821,     0.73677,      0.7365,     0.73608,     0.73568,     0.73547,     0.73522,     0.73505,     0.73484,     0.73457,     0.73435,     0.73354,     0.73343,     0.73336,     0.73315,     0.73315,\n",
      "            0.73301,     0.73231,     0.73131,     0.73109,     0.73067,     0.73003,     0.72918,     0.72873,     0.72854,      0.7281,     0.72769,     0.72726,     0.72662,     0.72599,     0.72578,     0.72515,     0.72471,     0.72343,     0.72254,     0.72211,      0.7219,     0.72084,     0.72062,\n",
      "             0.7203,      0.7203,     0.72019,     0.71955,     0.71912,     0.71862,     0.71841,     0.71742,     0.71735,     0.71678,     0.71609,     0.71508,     0.71504,     0.71402,     0.71356,     0.71169,     0.71104,     0.71084,      0.7102,     0.70935,     0.70851,      0.7085,      0.7083,\n",
      "            0.70828,     0.70785,     0.70743,     0.70725,     0.70657,     0.70636,     0.70572,     0.70529,     0.70451,     0.70409,     0.70275,     0.70211,     0.70177,     0.70168,     0.70147,     0.70104,     0.70072,     0.70072,     0.70024,     0.70013,     0.69996,     0.69953,     0.69911,\n",
      "            0.69826,     0.69804,      0.6972,     0.69677,     0.69634,     0.69545,     0.69465,     0.69422,     0.69379,     0.69358,     0.69294,     0.69252,     0.69188,     0.69187,     0.69061,      0.6906,     0.68996,     0.68953,      0.6889,     0.68868,     0.68804,      0.6872,     0.68656,\n",
      "             0.6855,     0.68508,     0.68423,     0.68408,     0.68359,     0.68345,     0.68324,     0.68294,     0.68272,     0.68229,     0.68124,     0.68081,      0.6805,     0.68017,     0.67987,     0.67902,     0.67847,     0.67762,      0.6774,     0.67698,     0.67613,     0.67591,     0.67485,\n",
      "             0.6746,     0.67337,     0.67273,      0.6721,     0.67167,     0.67072,      0.6705,     0.67007,     0.66986,     0.66922,     0.66901,     0.66891,     0.66857,     0.66786,     0.66709,     0.66666,     0.66624,     0.66596,     0.66559,     0.66453,      0.6644,      0.6643,     0.66347,\n",
      "            0.66283,     0.66198,     0.66155,     0.66144,     0.66133,      0.6607,     0.66028,     0.65974,     0.65826,     0.65741,     0.65698,     0.65593,     0.65508,     0.65375,     0.65333,     0.65333,     0.65295,      0.6521,     0.65126,     0.65041,     0.64998,     0.64966,     0.64902,\n",
      "            0.64818,     0.64775,     0.64669,     0.64605,     0.64542,     0.64436,     0.64393,     0.64287,     0.64245,     0.64002,     0.63943,     0.63917,     0.63895,     0.63852,     0.63789,     0.63725,     0.63703,     0.63661,      0.6363,     0.63607,     0.63585,     0.63564,     0.63542,\n",
      "            0.63457,     0.63436,      0.6333,     0.63243,     0.63108,     0.63058,     0.63001,     0.62959,     0.62895,     0.62831,     0.62768,     0.62546,     0.62377,     0.62313,     0.62228,     0.62186,     0.62125,     0.62111,     0.62089,      0.6192,     0.61857,     0.61814,     0.61748,\n",
      "            0.61676,     0.61634,     0.61591,     0.61506,     0.61463,     0.61394,     0.61331,     0.61262,     0.61198,     0.61142,     0.61039,     0.60975,     0.60942,     0.60932,     0.60805,     0.60773,     0.60752,     0.60667,     0.60628,     0.60467,     0.60456,     0.60381,     0.60367,\n",
      "             0.6025,     0.60239,     0.60162,     0.60065,     0.60054,         0.6,     0.59985,     0.59911,       0.599,     0.59739,     0.59684,     0.59673,     0.59576,     0.59456,     0.59446,     0.59308,     0.59294,     0.59218,     0.59208,     0.59035,     0.58928,     0.58917,     0.58842,\n",
      "            0.58828,     0.58816,     0.58806,     0.58666,     0.58588,     0.58574,     0.58361,     0.58361,     0.58285,     0.58123,     0.58024,     0.58013,     0.57939,     0.57925,     0.57856,     0.57686,     0.57675,     0.57516,     0.57502,     0.57466,     0.57284,     0.57274,     0.57135,\n",
      "            0.57121,     0.57107,     0.57029,     0.57015,     0.56856,     0.56845,     0.56705,      0.5648,      0.5636,     0.56346,     0.56228,     0.56217,      0.5612,     0.55958,     0.55944,     0.55761,     0.55683,     0.55669,     0.55486,     0.55387,     0.55373,     0.55151,      0.5514,\n",
      "            0.55042,     0.54859,     0.54845,     0.54809,     0.54647,     0.54633,     0.54619,     0.54499,     0.54337,     0.54323,     0.54128,     0.53981,     0.53981,     0.53781,     0.53703,     0.53689,     0.53665,     0.53534,     0.53519,     0.53399,     0.53217,     0.53202,     0.53082,\n",
      "            0.52921,     0.52801,     0.52787,     0.52751,     0.52631,     0.52526,     0.52511,     0.52244,     0.52124,      0.5211,     0.51927,     0.51765,     0.51751,     0.51673,      0.5153,      0.5128,     0.51265,     0.51103,     0.50857,     0.50843,     0.50674,     0.50386,     0.50266,\n",
      "            0.50083,     0.50069,     0.49882,     0.49633,     0.49513,     0.49499,      0.4929,     0.49063,     0.48817,     0.48802,     0.48508,      0.4843,     0.48205,      0.4819,     0.48022,     0.47775,     0.47547,     0.47213,     0.46967,     0.46861,     0.46847,     0.46639,     0.46221,\n",
      "            0.45932,     0.45659,     0.45645,     0.45541,     0.45314,     0.45024,      0.4473,     0.44716,     0.44506,      0.4428,     0.43989,     0.43715,     0.43465,      0.4345,     0.43155,     0.42481,     0.42466,     0.42174,     0.41858,     0.41546,     0.41193,     0.40856,     0.40414,\n",
      "              0.404,     0.40064,     0.39748,     0.39516,     0.39184,     0.38788,     0.38345,      0.3805,     0.37818,     0.37532,     0.37532,     0.37321,     0.36647,     0.36309,     0.35866,     0.35655,     0.35444,     0.35192,     0.35177,     0.34632,      0.3421,     0.33914,     0.33493,\n",
      "            0.33029,     0.32502,     0.32122,     0.31848,     0.31384,     0.31046,     0.30625,     0.30097,      0.2976,     0.28938,     0.28422,     0.27937,     0.27494,     0.27156,     0.26734,     0.26355,     0.25954,     0.25185,     0.24847,     0.24278,     0.23793,     0.23386,     0.22918,\n",
      "            0.22686,     0.22264,     0.21347,      0.2101,     0.20473,     0.19861,     0.18997,     0.18511,     0.18122,     0.17679,     0.16847,     0.16506,     0.16182,     0.15676,     0.14823,     0.14438,     0.14116,     0.13326,     0.13045,     0.12682,     0.12408,     0.11618,     0.11018,\n",
      "            0.10416,     0.10069,    0.096673,    0.091086,    0.085921,    0.082741,    0.076643,    0.073242,    0.067366,    0.064797,    0.061353,    0.057404,    0.052602,    0.050222,    0.046062,    0.044304,    0.040923,    0.040044,     0.03669,    0.032767,     0.03035,    0.027602,     0.02538,\n",
      "           0.022315,    0.020831,    0.018519,     0.01744,    0.014691,    0.012574,    0.011511,   0.0098154,   0.0087518,   0.0080564,   0.0070458,    0.005561,   0.0042867,   0.0040932,    0.003923,   0.0037072,   0.0031915,   0.0027597,   0.0023224,   0.0016852,  0.00097957,   0.0008406,  0.00080135,\n",
      "          0.0007621,  0.00072285,  0.00068359,  0.00064434,  0.00053374,  0.00037411,           0,           0,           0,           0,           0,           0,           0,           0,           0,           0,           0,           0,           0,           0,           0,           0,           0,\n",
      "                  0,           0,           0,           0,           0,           0,           0,           0,           0,           0,           0,           0,           0,           0,           0,           0,           0,           0,           0,           0,           0,           0,           0,\n",
      "                  0,           0,           0,           0,           0,           0,           0,           0,           0,           0,           0]]), 'Confidence', 'Recall']]\n",
      "fitness: 0.5784757047479594\n",
      "keys: ['metrics/precision(B)', 'metrics/recall(B)', 'metrics/mAP50(B)', 'metrics/mAP50-95(B)']\n",
      "maps: array([    0.54667])\n",
      "names: {0: 'bee'}\n",
      "plot: True\n",
      "results_dict: {'metrics/precision(B)': 0.9085421371642435, 'metrics/recall(B)': 0.7820134793597304, 'metrics/mAP50(B)': 0.8647465725421062, 'metrics/mAP50-95(B)': 0.5466678305486097, 'fitness': 0.5784757047479594}\n",
      "save_dir: WindowsPath('runs/detect/train41')\n",
      "speed: {'preprocess': 0.26430689010723635, 'inference': 2.755508655770663, 'loss': 0.0, 'postprocess': 0.23683828770548226}\n",
      "task: 'detect'\n",
      "Ultralytics YOLOv8.2.101  Python-3.12.0 torch-2.5.1+cu124 CUDA:0 (NVIDIA GeForce RTX 3050 Ti Laptop GPU, 4096MiB)\n",
      "YOLOv10n summary (fused): 285 layers, 2,694,806 parameters, 0 gradients, 8.2 GFLOPs\n"
     ]
    },
    {
     "name": "stderr",
     "output_type": "stream",
     "text": [
      "\u001b[34m\u001b[1mval: \u001b[0mScanning C:\\Users\\Khaled\\Documents\\GitHub\\Mele-RIMBA\\Datasets\\For YOLO\\Bee\\labels\\val.cache... 737 images, 474 backgrounds, 0 corrupt: 100%|██████████| 737/737 [00:00<?, ?it/s]\n",
      "                 Class     Images  Instances      Box(P          R      mAP50  mAP50-95): 100%|██████████| 47/47 [00:09<00:00,  5.05it/s]\n"
     ]
    },
    {
     "name": "stdout",
     "output_type": "stream",
     "text": [
      "                   all        737       4748      0.906      0.782      0.864      0.546\n",
      "Speed: 0.4ms preprocess, 6.0ms inference, 0.0ms loss, 0.3ms postprocess per image\n",
      "Results saved to \u001b[1mruns\\detect\\train412\u001b[0m\n",
      "ultralytics.utils.metrics.DetMetrics object with attributes:\n",
      "\n",
      "ap_class_index: array([0])\n",
      "box: ultralytics.utils.metrics.Metric object\n",
      "confusion_matrix: <ultralytics.utils.metrics.ConfusionMatrix object at 0x0000019529BABEC0>\n",
      "curves: ['Precision-Recall(B)', 'F1-Confidence(B)', 'Precision-Confidence(B)', 'Recall-Confidence(B)']\n",
      "curves_results: [[array([          0,    0.001001,    0.002002,    0.003003,    0.004004,    0.005005,    0.006006,    0.007007,    0.008008,    0.009009,     0.01001,    0.011011,    0.012012,    0.013013,    0.014014,    0.015015,    0.016016,    0.017017,    0.018018,    0.019019,     0.02002,    0.021021,    0.022022,    0.023023,\n",
      "          0.024024,    0.025025,    0.026026,    0.027027,    0.028028,    0.029029,     0.03003,    0.031031,    0.032032,    0.033033,    0.034034,    0.035035,    0.036036,    0.037037,    0.038038,    0.039039,     0.04004,    0.041041,    0.042042,    0.043043,    0.044044,    0.045045,    0.046046,    0.047047,\n",
      "          0.048048,    0.049049,     0.05005,    0.051051,    0.052052,    0.053053,    0.054054,    0.055055,    0.056056,    0.057057,    0.058058,    0.059059,     0.06006,    0.061061,    0.062062,    0.063063,    0.064064,    0.065065,    0.066066,    0.067067,    0.068068,    0.069069,     0.07007,    0.071071,\n",
      "          0.072072,    0.073073,    0.074074,    0.075075,    0.076076,    0.077077,    0.078078,    0.079079,     0.08008,    0.081081,    0.082082,    0.083083,    0.084084,    0.085085,    0.086086,    0.087087,    0.088088,    0.089089,     0.09009,    0.091091,    0.092092,    0.093093,    0.094094,    0.095095,\n",
      "          0.096096,    0.097097,    0.098098,    0.099099,      0.1001,      0.1011,      0.1021,      0.1031,      0.1041,     0.10511,     0.10611,     0.10711,     0.10811,     0.10911,     0.11011,     0.11111,     0.11211,     0.11311,     0.11411,     0.11512,     0.11612,     0.11712,     0.11812,     0.11912,\n",
      "           0.12012,     0.12112,     0.12212,     0.12312,     0.12412,     0.12513,     0.12613,     0.12713,     0.12813,     0.12913,     0.13013,     0.13113,     0.13213,     0.13313,     0.13413,     0.13514,     0.13614,     0.13714,     0.13814,     0.13914,     0.14014,     0.14114,     0.14214,     0.14314,\n",
      "           0.14414,     0.14515,     0.14615,     0.14715,     0.14815,     0.14915,     0.15015,     0.15115,     0.15215,     0.15315,     0.15415,     0.15516,     0.15616,     0.15716,     0.15816,     0.15916,     0.16016,     0.16116,     0.16216,     0.16316,     0.16416,     0.16517,     0.16617,     0.16717,\n",
      "           0.16817,     0.16917,     0.17017,     0.17117,     0.17217,     0.17317,     0.17417,     0.17518,     0.17618,     0.17718,     0.17818,     0.17918,     0.18018,     0.18118,     0.18218,     0.18318,     0.18418,     0.18519,     0.18619,     0.18719,     0.18819,     0.18919,     0.19019,     0.19119,\n",
      "           0.19219,     0.19319,     0.19419,      0.1952,      0.1962,      0.1972,      0.1982,      0.1992,      0.2002,      0.2012,      0.2022,      0.2032,      0.2042,     0.20521,     0.20621,     0.20721,     0.20821,     0.20921,     0.21021,     0.21121,     0.21221,     0.21321,     0.21421,     0.21522,\n",
      "           0.21622,     0.21722,     0.21822,     0.21922,     0.22022,     0.22122,     0.22222,     0.22322,     0.22422,     0.22523,     0.22623,     0.22723,     0.22823,     0.22923,     0.23023,     0.23123,     0.23223,     0.23323,     0.23423,     0.23524,     0.23624,     0.23724,     0.23824,     0.23924,\n",
      "           0.24024,     0.24124,     0.24224,     0.24324,     0.24424,     0.24525,     0.24625,     0.24725,     0.24825,     0.24925,     0.25025,     0.25125,     0.25225,     0.25325,     0.25425,     0.25526,     0.25626,     0.25726,     0.25826,     0.25926,     0.26026,     0.26126,     0.26226,     0.26326,\n",
      "           0.26426,     0.26527,     0.26627,     0.26727,     0.26827,     0.26927,     0.27027,     0.27127,     0.27227,     0.27327,     0.27427,     0.27528,     0.27628,     0.27728,     0.27828,     0.27928,     0.28028,     0.28128,     0.28228,     0.28328,     0.28428,     0.28529,     0.28629,     0.28729,\n",
      "           0.28829,     0.28929,     0.29029,     0.29129,     0.29229,     0.29329,     0.29429,      0.2953,      0.2963,      0.2973,      0.2983,      0.2993,      0.3003,      0.3013,      0.3023,      0.3033,      0.3043,     0.30531,     0.30631,     0.30731,     0.30831,     0.30931,     0.31031,     0.31131,\n",
      "           0.31231,     0.31331,     0.31431,     0.31532,     0.31632,     0.31732,     0.31832,     0.31932,     0.32032,     0.32132,     0.32232,     0.32332,     0.32432,     0.32533,     0.32633,     0.32733,     0.32833,     0.32933,     0.33033,     0.33133,     0.33233,     0.33333,     0.33433,     0.33534,\n",
      "           0.33634,     0.33734,     0.33834,     0.33934,     0.34034,     0.34134,     0.34234,     0.34334,     0.34434,     0.34535,     0.34635,     0.34735,     0.34835,     0.34935,     0.35035,     0.35135,     0.35235,     0.35335,     0.35435,     0.35536,     0.35636,     0.35736,     0.35836,     0.35936,\n",
      "           0.36036,     0.36136,     0.36236,     0.36336,     0.36436,     0.36537,     0.36637,     0.36737,     0.36837,     0.36937,     0.37037,     0.37137,     0.37237,     0.37337,     0.37437,     0.37538,     0.37638,     0.37738,     0.37838,     0.37938,     0.38038,     0.38138,     0.38238,     0.38338,\n",
      "           0.38438,     0.38539,     0.38639,     0.38739,     0.38839,     0.38939,     0.39039,     0.39139,     0.39239,     0.39339,     0.39439,      0.3954,      0.3964,      0.3974,      0.3984,      0.3994,      0.4004,      0.4014,      0.4024,      0.4034,      0.4044,     0.40541,     0.40641,     0.40741,\n",
      "           0.40841,     0.40941,     0.41041,     0.41141,     0.41241,     0.41341,     0.41441,     0.41542,     0.41642,     0.41742,     0.41842,     0.41942,     0.42042,     0.42142,     0.42242,     0.42342,     0.42442,     0.42543,     0.42643,     0.42743,     0.42843,     0.42943,     0.43043,     0.43143,\n",
      "           0.43243,     0.43343,     0.43443,     0.43544,     0.43644,     0.43744,     0.43844,     0.43944,     0.44044,     0.44144,     0.44244,     0.44344,     0.44444,     0.44545,     0.44645,     0.44745,     0.44845,     0.44945,     0.45045,     0.45145,     0.45245,     0.45345,     0.45445,     0.45546,\n",
      "           0.45646,     0.45746,     0.45846,     0.45946,     0.46046,     0.46146,     0.46246,     0.46346,     0.46446,     0.46547,     0.46647,     0.46747,     0.46847,     0.46947,     0.47047,     0.47147,     0.47247,     0.47347,     0.47447,     0.47548,     0.47648,     0.47748,     0.47848,     0.47948,\n",
      "           0.48048,     0.48148,     0.48248,     0.48348,     0.48448,     0.48549,     0.48649,     0.48749,     0.48849,     0.48949,     0.49049,     0.49149,     0.49249,     0.49349,     0.49449,      0.4955,      0.4965,      0.4975,      0.4985,      0.4995,      0.5005,      0.5015,      0.5025,      0.5035,\n",
      "            0.5045,     0.50551,     0.50651,     0.50751,     0.50851,     0.50951,     0.51051,     0.51151,     0.51251,     0.51351,     0.51451,     0.51552,     0.51652,     0.51752,     0.51852,     0.51952,     0.52052,     0.52152,     0.52252,     0.52352,     0.52452,     0.52553,     0.52653,     0.52753,\n",
      "           0.52853,     0.52953,     0.53053,     0.53153,     0.53253,     0.53353,     0.53453,     0.53554,     0.53654,     0.53754,     0.53854,     0.53954,     0.54054,     0.54154,     0.54254,     0.54354,     0.54454,     0.54555,     0.54655,     0.54755,     0.54855,     0.54955,     0.55055,     0.55155,\n",
      "           0.55255,     0.55355,     0.55455,     0.55556,     0.55656,     0.55756,     0.55856,     0.55956,     0.56056,     0.56156,     0.56256,     0.56356,     0.56456,     0.56557,     0.56657,     0.56757,     0.56857,     0.56957,     0.57057,     0.57157,     0.57257,     0.57357,     0.57457,     0.57558,\n",
      "           0.57658,     0.57758,     0.57858,     0.57958,     0.58058,     0.58158,     0.58258,     0.58358,     0.58458,     0.58559,     0.58659,     0.58759,     0.58859,     0.58959,     0.59059,     0.59159,     0.59259,     0.59359,     0.59459,      0.5956,      0.5966,      0.5976,      0.5986,      0.5996,\n",
      "            0.6006,      0.6016,      0.6026,      0.6036,      0.6046,     0.60561,     0.60661,     0.60761,     0.60861,     0.60961,     0.61061,     0.61161,     0.61261,     0.61361,     0.61461,     0.61562,     0.61662,     0.61762,     0.61862,     0.61962,     0.62062,     0.62162,     0.62262,     0.62362,\n",
      "           0.62462,     0.62563,     0.62663,     0.62763,     0.62863,     0.62963,     0.63063,     0.63163,     0.63263,     0.63363,     0.63463,     0.63564,     0.63664,     0.63764,     0.63864,     0.63964,     0.64064,     0.64164,     0.64264,     0.64364,     0.64464,     0.64565,     0.64665,     0.64765,\n",
      "           0.64865,     0.64965,     0.65065,     0.65165,     0.65265,     0.65365,     0.65465,     0.65566,     0.65666,     0.65766,     0.65866,     0.65966,     0.66066,     0.66166,     0.66266,     0.66366,     0.66466,     0.66567,     0.66667,     0.66767,     0.66867,     0.66967,     0.67067,     0.67167,\n",
      "           0.67267,     0.67367,     0.67467,     0.67568,     0.67668,     0.67768,     0.67868,     0.67968,     0.68068,     0.68168,     0.68268,     0.68368,     0.68468,     0.68569,     0.68669,     0.68769,     0.68869,     0.68969,     0.69069,     0.69169,     0.69269,     0.69369,     0.69469,      0.6957,\n",
      "            0.6967,      0.6977,      0.6987,      0.6997,      0.7007,      0.7017,      0.7027,      0.7037,      0.7047,     0.70571,     0.70671,     0.70771,     0.70871,     0.70971,     0.71071,     0.71171,     0.71271,     0.71371,     0.71471,     0.71572,     0.71672,     0.71772,     0.71872,     0.71972,\n",
      "           0.72072,     0.72172,     0.72272,     0.72372,     0.72472,     0.72573,     0.72673,     0.72773,     0.72873,     0.72973,     0.73073,     0.73173,     0.73273,     0.73373,     0.73473,     0.73574,     0.73674,     0.73774,     0.73874,     0.73974,     0.74074,     0.74174,     0.74274,     0.74374,\n",
      "           0.74474,     0.74575,     0.74675,     0.74775,     0.74875,     0.74975,     0.75075,     0.75175,     0.75275,     0.75375,     0.75475,     0.75576,     0.75676,     0.75776,     0.75876,     0.75976,     0.76076,     0.76176,     0.76276,     0.76376,     0.76476,     0.76577,     0.76677,     0.76777,\n",
      "           0.76877,     0.76977,     0.77077,     0.77177,     0.77277,     0.77377,     0.77477,     0.77578,     0.77678,     0.77778,     0.77878,     0.77978,     0.78078,     0.78178,     0.78278,     0.78378,     0.78478,     0.78579,     0.78679,     0.78779,     0.78879,     0.78979,     0.79079,     0.79179,\n",
      "           0.79279,     0.79379,     0.79479,      0.7958,      0.7968,      0.7978,      0.7988,      0.7998,      0.8008,      0.8018,      0.8028,      0.8038,      0.8048,     0.80581,     0.80681,     0.80781,     0.80881,     0.80981,     0.81081,     0.81181,     0.81281,     0.81381,     0.81481,     0.81582,\n",
      "           0.81682,     0.81782,     0.81882,     0.81982,     0.82082,     0.82182,     0.82282,     0.82382,     0.82482,     0.82583,     0.82683,     0.82783,     0.82883,     0.82983,     0.83083,     0.83183,     0.83283,     0.83383,     0.83483,     0.83584,     0.83684,     0.83784,     0.83884,     0.83984,\n",
      "           0.84084,     0.84184,     0.84284,     0.84384,     0.84484,     0.84585,     0.84685,     0.84785,     0.84885,     0.84985,     0.85085,     0.85185,     0.85285,     0.85385,     0.85485,     0.85586,     0.85686,     0.85786,     0.85886,     0.85986,     0.86086,     0.86186,     0.86286,     0.86386,\n",
      "           0.86486,     0.86587,     0.86687,     0.86787,     0.86887,     0.86987,     0.87087,     0.87187,     0.87287,     0.87387,     0.87487,     0.87588,     0.87688,     0.87788,     0.87888,     0.87988,     0.88088,     0.88188,     0.88288,     0.88388,     0.88488,     0.88589,     0.88689,     0.88789,\n",
      "           0.88889,     0.88989,     0.89089,     0.89189,     0.89289,     0.89389,     0.89489,      0.8959,      0.8969,      0.8979,      0.8989,      0.8999,      0.9009,      0.9019,      0.9029,      0.9039,      0.9049,     0.90591,     0.90691,     0.90791,     0.90891,     0.90991,     0.91091,     0.91191,\n",
      "           0.91291,     0.91391,     0.91491,     0.91592,     0.91692,     0.91792,     0.91892,     0.91992,     0.92092,     0.92192,     0.92292,     0.92392,     0.92492,     0.92593,     0.92693,     0.92793,     0.92893,     0.92993,     0.93093,     0.93193,     0.93293,     0.93393,     0.93493,     0.93594,\n",
      "           0.93694,     0.93794,     0.93894,     0.93994,     0.94094,     0.94194,     0.94294,     0.94394,     0.94494,     0.94595,     0.94695,     0.94795,     0.94895,     0.94995,     0.95095,     0.95195,     0.95295,     0.95395,     0.95495,     0.95596,     0.95696,     0.95796,     0.95896,     0.95996,\n",
      "           0.96096,     0.96196,     0.96296,     0.96396,     0.96496,     0.96597,     0.96697,     0.96797,     0.96897,     0.96997,     0.97097,     0.97197,     0.97297,     0.97397,     0.97497,     0.97598,     0.97698,     0.97798,     0.97898,     0.97998,     0.98098,     0.98198,     0.98298,     0.98398,\n",
      "           0.98498,     0.98599,     0.98699,     0.98799,     0.98899,     0.98999,     0.99099,     0.99199,     0.99299,     0.99399,     0.99499,       0.996,       0.997,       0.998,       0.999,           1]), array([[          1,           1,           1,           1,           1,           1,           1,           1,           1,           1,           1,           1,           1,           1,           1,           1,           1,           1,           1,           1,           1,           1,           1,\n",
      "                  1,           1,           1,           1,           1,           1,           1,           1,           1,           1,           1,           1,           1,           1,           1,           1,           1,           1,           1,           1,           1,           1,           1,\n",
      "                  1,           1,           1,           1,           1,           1,           1,           1,           1,           1,           1,           1,           1,           1,           1,           1,           1,           1,           1,           1,           1,           1,           1,\n",
      "                  1,           1,           1,           1,           1,           1,           1,           1,           1,           1,           1,           1,           1,           1,           1,           1,           1,           1,           1,           1,           1,           1,           1,\n",
      "                  1,           1,           1,           1,           1,           1,           1,           1,           1,           1,           1,           1,           1,           1,           1,           1,           1,           1,           1,           1,           1,           1,           1,\n",
      "                  1,           1,           1,           1,           1,           1,           1,           1,           1,           1,           1,           1,           1,           1,           1,           1,           1,           1,           1,           1,           1,           1,           1,\n",
      "                  1,           1,           1,           1,           1,           1,           1,           1,           1,           1,           1,           1,           1,           1,           1,           1,           1,           1,           1,           1,           1,           1,           1,\n",
      "                  1,           1,           1,           1,           1,           1,           1,           1,           1,           1,           1,           1,     0.99884,     0.99884,     0.99884,     0.99884,     0.99884,     0.99884,     0.99884,     0.99884,     0.99811,     0.99811,     0.99811,\n",
      "            0.99811,     0.99811,     0.99811,     0.99811,     0.99811,     0.99811,     0.99811,     0.99811,     0.99811,     0.99811,     0.99811,     0.99811,     0.99811,     0.99811,     0.99811,     0.99811,     0.99811,     0.99811,     0.99811,     0.99811,     0.99811,     0.99811,     0.99811,\n",
      "            0.99811,     0.99811,     0.99811,     0.99811,     0.99811,     0.99811,     0.99811,     0.99811,     0.99811,     0.99811,     0.99811,     0.99811,     0.99811,     0.99811,     0.99811,     0.99811,     0.99746,     0.99746,     0.99746,     0.99746,     0.99746,     0.99746,     0.99746,\n",
      "            0.99746,     0.99746,     0.99746,     0.99746,     0.99746,     0.99746,     0.99746,     0.99746,     0.99746,     0.99746,     0.99746,     0.99746,     0.99746,     0.99746,     0.99746,     0.99746,     0.99746,     0.99746,     0.99746,     0.99746,     0.99746,     0.99746,     0.99746,\n",
      "            0.99746,     0.99746,     0.99746,     0.99746,     0.99746,     0.99746,     0.99746,     0.99746,     0.99746,     0.99746,     0.99746,     0.99746,     0.99746,     0.99746,     0.99746,     0.99746,     0.99746,     0.99746,     0.99746,     0.99746,     0.99746,     0.99746,     0.99746,\n",
      "            0.99746,     0.99746,     0.99746,     0.99746,     0.99746,     0.99746,     0.99746,     0.99746,     0.99746,     0.99746,     0.99746,     0.99746,     0.99746,     0.99746,     0.99746,     0.99746,     0.99746,     0.99746,     0.99746,     0.99746,     0.99746,     0.99746,     0.99746,\n",
      "            0.99746,     0.99746,     0.99746,     0.99746,     0.99746,     0.99746,     0.99746,     0.99746,     0.99746,     0.99746,     0.99746,     0.99746,     0.99746,     0.99746,     0.99746,     0.99746,     0.99746,     0.99746,     0.99746,     0.99746,     0.99746,     0.99746,     0.99746,\n",
      "            0.99746,     0.99746,     0.99746,     0.99746,     0.99746,     0.99746,     0.99746,     0.99746,     0.99746,     0.99706,     0.99706,     0.99706,     0.99706,     0.99706,     0.99706,     0.99706,     0.99706,     0.99706,     0.99706,     0.99706,     0.99706,     0.99706,     0.99706,\n",
      "            0.99706,     0.99706,     0.99706,     0.99706,     0.99706,     0.99706,     0.99706,     0.99706,     0.99706,     0.99706,     0.99706,     0.99706,     0.99706,     0.99665,     0.99665,     0.99665,     0.99665,     0.99665,     0.99665,     0.99665,     0.99665,     0.99665,     0.99665,\n",
      "            0.99665,     0.99665,     0.99665,     0.99665,     0.99665,     0.99665,     0.99665,     0.99665,     0.99622,     0.99622,     0.99622,     0.99622,     0.99622,     0.99622,     0.99622,     0.99622,     0.99622,     0.99622,     0.99622,     0.99622,     0.99622,     0.99576,     0.99576,\n",
      "            0.99576,     0.99576,     0.99576,     0.99576,     0.99576,     0.99542,     0.99542,     0.99542,     0.99542,     0.99542,     0.99542,     0.99542,     0.99542,     0.99542,     0.99542,     0.99542,     0.99542,     0.99542,     0.99542,     0.99542,     0.99542,     0.99514,     0.99514,\n",
      "            0.99514,     0.99514,     0.99514,     0.99514,     0.99514,     0.99514,     0.99514,     0.99514,     0.99514,     0.99514,     0.99514,     0.99514,     0.99514,     0.99514,     0.99514,     0.99514,     0.99514,     0.99452,     0.99452,     0.99452,     0.99452,     0.99452,     0.99452,\n",
      "            0.99452,     0.99452,     0.99452,     0.99452,     0.99452,     0.99452,     0.99452,     0.99452,     0.99452,     0.99452,     0.99452,     0.99452,     0.99452,     0.99452,     0.99452,     0.99452,     0.99452,     0.99452,     0.99452,     0.99452,     0.99452,     0.99452,     0.99413,\n",
      "            0.99413,     0.99413,     0.99413,     0.99395,     0.99395,     0.99395,     0.99395,     0.99395,     0.99395,     0.99395,     0.99395,     0.99395,     0.99395,     0.99395,     0.99395,     0.99395,     0.99395,     0.99395,     0.99395,     0.99395,     0.99395,     0.99395,     0.99395,\n",
      "            0.99395,     0.99377,     0.99377,     0.99377,     0.99377,     0.99377,     0.99377,     0.99377,     0.99377,     0.99377,     0.99377,     0.99377,     0.99377,     0.99377,     0.99377,     0.99377,     0.99377,     0.99377,     0.99377,     0.99377,     0.99377,     0.99343,     0.99343,\n",
      "            0.99343,     0.99343,     0.99343,     0.99343,     0.99307,     0.99307,     0.99307,     0.99275,     0.99275,     0.99275,     0.99275,     0.99275,     0.99275,     0.99236,     0.99202,     0.99202,     0.99202,     0.99177,     0.99177,     0.99177,     0.99177,     0.99177,     0.99177,\n",
      "            0.99177,     0.99177,     0.99177,     0.99177,     0.99142,     0.99142,     0.99104,      0.9903,      0.9903,     0.98997,     0.98997,     0.98997,     0.98939,     0.98939,     0.98939,     0.98939,     0.98939,     0.98939,     0.98939,     0.98939,     0.98939,     0.98866,      0.9884,\n",
      "             0.9884,      0.9884,      0.9884,      0.9884,     0.98811,     0.98811,     0.98811,     0.98811,     0.98791,     0.98791,     0.98791,     0.98791,     0.98791,     0.98791,     0.98791,     0.98791,     0.98761,     0.98761,     0.98761,     0.98692,      0.9866,      0.9866,     0.98637,\n",
      "            0.98637,     0.98637,     0.98637,     0.98637,     0.98603,      0.9857,     0.98538,      0.9851,      0.9851,      0.9851,     0.98478,     0.98454,     0.98454,     0.98454,     0.98454,     0.98436,     0.98436,     0.98436,     0.98436,     0.98436,     0.98436,     0.98436,     0.98411,\n",
      "            0.98411,     0.98411,     0.98346,     0.98314,     0.98284,     0.98254,     0.98221,     0.98166,     0.98166,     0.98166,     0.98166,      0.9814,      0.9814,     0.98109,     0.98046,     0.98017,     0.97989,     0.97989,     0.97975,     0.97975,     0.97975,     0.97975,     0.97975,\n",
      "            0.97946,     0.97946,     0.97923,     0.97923,     0.97908,     0.97908,     0.97908,     0.97908,     0.97908,     0.97908,     0.97891,     0.97891,     0.97891,     0.97891,      0.9786,     0.97776,     0.97776,     0.97776,     0.97723,     0.97723,     0.97723,     0.97706,     0.97706,\n",
      "            0.97706,     0.97706,     0.97685,     0.97685,     0.97685,     0.97657,     0.97569,     0.97546,     0.97546,     0.97489,     0.97461,     0.97434,     0.97409,     0.97384,     0.97362,     0.97362,     0.97362,     0.97281,     0.97281,     0.97262,     0.97262,     0.97262,     0.97206,\n",
      "            0.97154,     0.97154,     0.97074,     0.97074,     0.97029,     0.97029,     0.97029,     0.97008,     0.97008,     0.96987,     0.96987,     0.96963,     0.96938,     0.96882,     0.96864,     0.96864,     0.96766,     0.96766,     0.96766,     0.96766,     0.96744,     0.96721,     0.96698,\n",
      "            0.96698,     0.96598,     0.96598,     0.96598,     0.96553,     0.96553,     0.96503,     0.96483,     0.96483,     0.96406,     0.96381,     0.96302,     0.96172,     0.96146,     0.96101,     0.96101,     0.96052,     0.96029,     0.95951,     0.95878,     0.95853,     0.95836,     0.95812,\n",
      "            0.95767,     0.95767,     0.95699,     0.95699,     0.95653,     0.95602,     0.95528,     0.95401,     0.95353,     0.95335,     0.95288,     0.95213,     0.95062,     0.94996,     0.94974,     0.94927,     0.94854,     0.94731,     0.94717,     0.94618,     0.94571,     0.94478,     0.94432,\n",
      "            0.94338,     0.94293,     0.94206,     0.94184,     0.94119,     0.94047,      0.9398,     0.93911,     0.93849,     0.93801,     0.93763,     0.93671,      0.9353,     0.93491,     0.93382,     0.93382,     0.93271,     0.93231,     0.93145,     0.93109,     0.93109,     0.93092,     0.92958,\n",
      "            0.92918,     0.92762,      0.9272,     0.92634,     0.92596,     0.92276,      0.9215,     0.92137,     0.92085,     0.92085,     0.92042,      0.9196,     0.91763,     0.91638,     0.91445,      0.9141,     0.91346,     0.91339,     0.91331,     0.91331,     0.91229,     0.90929,     0.90802,\n",
      "            0.90465,     0.90452,     0.90332,     0.90317,     0.90111,     0.89995,     0.89918,      0.8967,     0.89405,     0.89354,      0.8907,     0.88808,     0.88717,     0.88628,     0.88559,     0.88422,     0.87667,     0.87411,     0.87248,     0.87117,     0.86913,     0.86798,     0.86667,\n",
      "            0.86385,     0.86226,     0.86009,     0.85226,     0.84972,      0.8482,     0.84432,     0.84353,     0.84312,     0.84021,     0.83762,     0.83563,     0.83416,     0.83112,     0.82549,     0.82292,     0.82066,     0.82066,     0.81725,      0.8157,     0.81475,     0.81183,     0.80735,\n",
      "            0.80376,     0.79777,     0.79488,     0.79063,     0.78706,     0.78219,     0.78093,     0.77641,      0.7721,     0.76726,     0.75852,     0.75559,     0.74455,     0.73121,      0.7283,     0.72329,     0.71299,     0.70784,     0.69375,     0.68938,     0.68322,     0.67571,     0.67182,\n",
      "            0.66562,      0.6595,     0.65109,     0.64902,     0.64309,     0.64261,     0.63478,     0.63107,     0.62489,      0.6209,     0.61328,     0.60481,     0.60059,     0.59247,     0.58194,     0.57907,     0.57054,     0.55532,     0.54014,     0.53204,     0.51951,     0.51491,      0.5082,\n",
      "            0.50455,     0.48855,     0.47956,     0.47597,     0.47057,     0.46201,     0.44491,     0.43086,     0.42789,     0.42219,     0.41674,     0.40667,      0.3985,     0.38724,     0.38317,     0.37342,     0.36934,     0.36629,     0.35134,     0.33938,     0.33717,     0.32806,      0.3159,\n",
      "            0.31011,     0.30366,     0.29919,     0.28173,     0.27895,     0.27197,      0.2627,     0.25757,     0.24978,     0.24497,      0.2297,     0.22672,     0.22039,     0.21686,     0.21244,     0.20666,     0.19413,     0.17715,     0.17506,     0.17298,     0.17089,     0.16881,     0.16673,\n",
      "            0.16464,     0.16256,     0.16047,     0.15839,     0.15631,     0.15422,     0.15214,     0.15005,     0.14797,     0.14589,      0.1438,     0.14172,     0.13963,     0.13755,     0.13547,     0.13338,      0.1313,     0.12921,     0.12713,     0.12504,     0.12296,     0.12088,     0.11879,\n",
      "            0.11671,     0.11462,     0.11254,     0.11046,     0.10837,     0.10629,      0.1042,     0.10212,     0.10004,    0.097952,    0.095868,    0.093784,      0.0917,    0.089616,    0.087531,    0.085447,    0.083363,    0.081279,    0.079195,    0.077111,    0.075027,    0.072943,    0.070859,\n",
      "           0.068775,    0.066691,    0.064607,    0.062522,    0.060438,    0.058354,     0.05627,    0.054186,    0.052102,    0.050018,    0.047934,     0.04585,    0.043766,    0.041682,    0.039598,    0.037513,    0.035429,    0.033345,    0.031261,    0.029177,    0.027093,    0.025009,    0.022925,\n",
      "           0.020841,    0.018757,    0.016673,    0.014589,    0.012504,     0.01042,   0.0083363,   0.0062522,   0.0041682,   0.0020841,           0]]), 'Recall', 'Precision'], [array([          0,    0.001001,    0.002002,    0.003003,    0.004004,    0.005005,    0.006006,    0.007007,    0.008008,    0.009009,     0.01001,    0.011011,    0.012012,    0.013013,    0.014014,    0.015015,    0.016016,    0.017017,    0.018018,    0.019019,     0.02002,    0.021021,    0.022022,    0.023023,\n",
      "          0.024024,    0.025025,    0.026026,    0.027027,    0.028028,    0.029029,     0.03003,    0.031031,    0.032032,    0.033033,    0.034034,    0.035035,    0.036036,    0.037037,    0.038038,    0.039039,     0.04004,    0.041041,    0.042042,    0.043043,    0.044044,    0.045045,    0.046046,    0.047047,\n",
      "          0.048048,    0.049049,     0.05005,    0.051051,    0.052052,    0.053053,    0.054054,    0.055055,    0.056056,    0.057057,    0.058058,    0.059059,     0.06006,    0.061061,    0.062062,    0.063063,    0.064064,    0.065065,    0.066066,    0.067067,    0.068068,    0.069069,     0.07007,    0.071071,\n",
      "          0.072072,    0.073073,    0.074074,    0.075075,    0.076076,    0.077077,    0.078078,    0.079079,     0.08008,    0.081081,    0.082082,    0.083083,    0.084084,    0.085085,    0.086086,    0.087087,    0.088088,    0.089089,     0.09009,    0.091091,    0.092092,    0.093093,    0.094094,    0.095095,\n",
      "          0.096096,    0.097097,    0.098098,    0.099099,      0.1001,      0.1011,      0.1021,      0.1031,      0.1041,     0.10511,     0.10611,     0.10711,     0.10811,     0.10911,     0.11011,     0.11111,     0.11211,     0.11311,     0.11411,     0.11512,     0.11612,     0.11712,     0.11812,     0.11912,\n",
      "           0.12012,     0.12112,     0.12212,     0.12312,     0.12412,     0.12513,     0.12613,     0.12713,     0.12813,     0.12913,     0.13013,     0.13113,     0.13213,     0.13313,     0.13413,     0.13514,     0.13614,     0.13714,     0.13814,     0.13914,     0.14014,     0.14114,     0.14214,     0.14314,\n",
      "           0.14414,     0.14515,     0.14615,     0.14715,     0.14815,     0.14915,     0.15015,     0.15115,     0.15215,     0.15315,     0.15415,     0.15516,     0.15616,     0.15716,     0.15816,     0.15916,     0.16016,     0.16116,     0.16216,     0.16316,     0.16416,     0.16517,     0.16617,     0.16717,\n",
      "           0.16817,     0.16917,     0.17017,     0.17117,     0.17217,     0.17317,     0.17417,     0.17518,     0.17618,     0.17718,     0.17818,     0.17918,     0.18018,     0.18118,     0.18218,     0.18318,     0.18418,     0.18519,     0.18619,     0.18719,     0.18819,     0.18919,     0.19019,     0.19119,\n",
      "           0.19219,     0.19319,     0.19419,      0.1952,      0.1962,      0.1972,      0.1982,      0.1992,      0.2002,      0.2012,      0.2022,      0.2032,      0.2042,     0.20521,     0.20621,     0.20721,     0.20821,     0.20921,     0.21021,     0.21121,     0.21221,     0.21321,     0.21421,     0.21522,\n",
      "           0.21622,     0.21722,     0.21822,     0.21922,     0.22022,     0.22122,     0.22222,     0.22322,     0.22422,     0.22523,     0.22623,     0.22723,     0.22823,     0.22923,     0.23023,     0.23123,     0.23223,     0.23323,     0.23423,     0.23524,     0.23624,     0.23724,     0.23824,     0.23924,\n",
      "           0.24024,     0.24124,     0.24224,     0.24324,     0.24424,     0.24525,     0.24625,     0.24725,     0.24825,     0.24925,     0.25025,     0.25125,     0.25225,     0.25325,     0.25425,     0.25526,     0.25626,     0.25726,     0.25826,     0.25926,     0.26026,     0.26126,     0.26226,     0.26326,\n",
      "           0.26426,     0.26527,     0.26627,     0.26727,     0.26827,     0.26927,     0.27027,     0.27127,     0.27227,     0.27327,     0.27427,     0.27528,     0.27628,     0.27728,     0.27828,     0.27928,     0.28028,     0.28128,     0.28228,     0.28328,     0.28428,     0.28529,     0.28629,     0.28729,\n",
      "           0.28829,     0.28929,     0.29029,     0.29129,     0.29229,     0.29329,     0.29429,      0.2953,      0.2963,      0.2973,      0.2983,      0.2993,      0.3003,      0.3013,      0.3023,      0.3033,      0.3043,     0.30531,     0.30631,     0.30731,     0.30831,     0.30931,     0.31031,     0.31131,\n",
      "           0.31231,     0.31331,     0.31431,     0.31532,     0.31632,     0.31732,     0.31832,     0.31932,     0.32032,     0.32132,     0.32232,     0.32332,     0.32432,     0.32533,     0.32633,     0.32733,     0.32833,     0.32933,     0.33033,     0.33133,     0.33233,     0.33333,     0.33433,     0.33534,\n",
      "           0.33634,     0.33734,     0.33834,     0.33934,     0.34034,     0.34134,     0.34234,     0.34334,     0.34434,     0.34535,     0.34635,     0.34735,     0.34835,     0.34935,     0.35035,     0.35135,     0.35235,     0.35335,     0.35435,     0.35536,     0.35636,     0.35736,     0.35836,     0.35936,\n",
      "           0.36036,     0.36136,     0.36236,     0.36336,     0.36436,     0.36537,     0.36637,     0.36737,     0.36837,     0.36937,     0.37037,     0.37137,     0.37237,     0.37337,     0.37437,     0.37538,     0.37638,     0.37738,     0.37838,     0.37938,     0.38038,     0.38138,     0.38238,     0.38338,\n",
      "           0.38438,     0.38539,     0.38639,     0.38739,     0.38839,     0.38939,     0.39039,     0.39139,     0.39239,     0.39339,     0.39439,      0.3954,      0.3964,      0.3974,      0.3984,      0.3994,      0.4004,      0.4014,      0.4024,      0.4034,      0.4044,     0.40541,     0.40641,     0.40741,\n",
      "           0.40841,     0.40941,     0.41041,     0.41141,     0.41241,     0.41341,     0.41441,     0.41542,     0.41642,     0.41742,     0.41842,     0.41942,     0.42042,     0.42142,     0.42242,     0.42342,     0.42442,     0.42543,     0.42643,     0.42743,     0.42843,     0.42943,     0.43043,     0.43143,\n",
      "           0.43243,     0.43343,     0.43443,     0.43544,     0.43644,     0.43744,     0.43844,     0.43944,     0.44044,     0.44144,     0.44244,     0.44344,     0.44444,     0.44545,     0.44645,     0.44745,     0.44845,     0.44945,     0.45045,     0.45145,     0.45245,     0.45345,     0.45445,     0.45546,\n",
      "           0.45646,     0.45746,     0.45846,     0.45946,     0.46046,     0.46146,     0.46246,     0.46346,     0.46446,     0.46547,     0.46647,     0.46747,     0.46847,     0.46947,     0.47047,     0.47147,     0.47247,     0.47347,     0.47447,     0.47548,     0.47648,     0.47748,     0.47848,     0.47948,\n",
      "           0.48048,     0.48148,     0.48248,     0.48348,     0.48448,     0.48549,     0.48649,     0.48749,     0.48849,     0.48949,     0.49049,     0.49149,     0.49249,     0.49349,     0.49449,      0.4955,      0.4965,      0.4975,      0.4985,      0.4995,      0.5005,      0.5015,      0.5025,      0.5035,\n",
      "            0.5045,     0.50551,     0.50651,     0.50751,     0.50851,     0.50951,     0.51051,     0.51151,     0.51251,     0.51351,     0.51451,     0.51552,     0.51652,     0.51752,     0.51852,     0.51952,     0.52052,     0.52152,     0.52252,     0.52352,     0.52452,     0.52553,     0.52653,     0.52753,\n",
      "           0.52853,     0.52953,     0.53053,     0.53153,     0.53253,     0.53353,     0.53453,     0.53554,     0.53654,     0.53754,     0.53854,     0.53954,     0.54054,     0.54154,     0.54254,     0.54354,     0.54454,     0.54555,     0.54655,     0.54755,     0.54855,     0.54955,     0.55055,     0.55155,\n",
      "           0.55255,     0.55355,     0.55455,     0.55556,     0.55656,     0.55756,     0.55856,     0.55956,     0.56056,     0.56156,     0.56256,     0.56356,     0.56456,     0.56557,     0.56657,     0.56757,     0.56857,     0.56957,     0.57057,     0.57157,     0.57257,     0.57357,     0.57457,     0.57558,\n",
      "           0.57658,     0.57758,     0.57858,     0.57958,     0.58058,     0.58158,     0.58258,     0.58358,     0.58458,     0.58559,     0.58659,     0.58759,     0.58859,     0.58959,     0.59059,     0.59159,     0.59259,     0.59359,     0.59459,      0.5956,      0.5966,      0.5976,      0.5986,      0.5996,\n",
      "            0.6006,      0.6016,      0.6026,      0.6036,      0.6046,     0.60561,     0.60661,     0.60761,     0.60861,     0.60961,     0.61061,     0.61161,     0.61261,     0.61361,     0.61461,     0.61562,     0.61662,     0.61762,     0.61862,     0.61962,     0.62062,     0.62162,     0.62262,     0.62362,\n",
      "           0.62462,     0.62563,     0.62663,     0.62763,     0.62863,     0.62963,     0.63063,     0.63163,     0.63263,     0.63363,     0.63463,     0.63564,     0.63664,     0.63764,     0.63864,     0.63964,     0.64064,     0.64164,     0.64264,     0.64364,     0.64464,     0.64565,     0.64665,     0.64765,\n",
      "           0.64865,     0.64965,     0.65065,     0.65165,     0.65265,     0.65365,     0.65465,     0.65566,     0.65666,     0.65766,     0.65866,     0.65966,     0.66066,     0.66166,     0.66266,     0.66366,     0.66466,     0.66567,     0.66667,     0.66767,     0.66867,     0.66967,     0.67067,     0.67167,\n",
      "           0.67267,     0.67367,     0.67467,     0.67568,     0.67668,     0.67768,     0.67868,     0.67968,     0.68068,     0.68168,     0.68268,     0.68368,     0.68468,     0.68569,     0.68669,     0.68769,     0.68869,     0.68969,     0.69069,     0.69169,     0.69269,     0.69369,     0.69469,      0.6957,\n",
      "            0.6967,      0.6977,      0.6987,      0.6997,      0.7007,      0.7017,      0.7027,      0.7037,      0.7047,     0.70571,     0.70671,     0.70771,     0.70871,     0.70971,     0.71071,     0.71171,     0.71271,     0.71371,     0.71471,     0.71572,     0.71672,     0.71772,     0.71872,     0.71972,\n",
      "           0.72072,     0.72172,     0.72272,     0.72372,     0.72472,     0.72573,     0.72673,     0.72773,     0.72873,     0.72973,     0.73073,     0.73173,     0.73273,     0.73373,     0.73473,     0.73574,     0.73674,     0.73774,     0.73874,     0.73974,     0.74074,     0.74174,     0.74274,     0.74374,\n",
      "           0.74474,     0.74575,     0.74675,     0.74775,     0.74875,     0.74975,     0.75075,     0.75175,     0.75275,     0.75375,     0.75475,     0.75576,     0.75676,     0.75776,     0.75876,     0.75976,     0.76076,     0.76176,     0.76276,     0.76376,     0.76476,     0.76577,     0.76677,     0.76777,\n",
      "           0.76877,     0.76977,     0.77077,     0.77177,     0.77277,     0.77377,     0.77477,     0.77578,     0.77678,     0.77778,     0.77878,     0.77978,     0.78078,     0.78178,     0.78278,     0.78378,     0.78478,     0.78579,     0.78679,     0.78779,     0.78879,     0.78979,     0.79079,     0.79179,\n",
      "           0.79279,     0.79379,     0.79479,      0.7958,      0.7968,      0.7978,      0.7988,      0.7998,      0.8008,      0.8018,      0.8028,      0.8038,      0.8048,     0.80581,     0.80681,     0.80781,     0.80881,     0.80981,     0.81081,     0.81181,     0.81281,     0.81381,     0.81481,     0.81582,\n",
      "           0.81682,     0.81782,     0.81882,     0.81982,     0.82082,     0.82182,     0.82282,     0.82382,     0.82482,     0.82583,     0.82683,     0.82783,     0.82883,     0.82983,     0.83083,     0.83183,     0.83283,     0.83383,     0.83483,     0.83584,     0.83684,     0.83784,     0.83884,     0.83984,\n",
      "           0.84084,     0.84184,     0.84284,     0.84384,     0.84484,     0.84585,     0.84685,     0.84785,     0.84885,     0.84985,     0.85085,     0.85185,     0.85285,     0.85385,     0.85485,     0.85586,     0.85686,     0.85786,     0.85886,     0.85986,     0.86086,     0.86186,     0.86286,     0.86386,\n",
      "           0.86486,     0.86587,     0.86687,     0.86787,     0.86887,     0.86987,     0.87087,     0.87187,     0.87287,     0.87387,     0.87487,     0.87588,     0.87688,     0.87788,     0.87888,     0.87988,     0.88088,     0.88188,     0.88288,     0.88388,     0.88488,     0.88589,     0.88689,     0.88789,\n",
      "           0.88889,     0.88989,     0.89089,     0.89189,     0.89289,     0.89389,     0.89489,      0.8959,      0.8969,      0.8979,      0.8989,      0.8999,      0.9009,      0.9019,      0.9029,      0.9039,      0.9049,     0.90591,     0.90691,     0.90791,     0.90891,     0.90991,     0.91091,     0.91191,\n",
      "           0.91291,     0.91391,     0.91491,     0.91592,     0.91692,     0.91792,     0.91892,     0.91992,     0.92092,     0.92192,     0.92292,     0.92392,     0.92492,     0.92593,     0.92693,     0.92793,     0.92893,     0.92993,     0.93093,     0.93193,     0.93293,     0.93393,     0.93493,     0.93594,\n",
      "           0.93694,     0.93794,     0.93894,     0.93994,     0.94094,     0.94194,     0.94294,     0.94394,     0.94494,     0.94595,     0.94695,     0.94795,     0.94895,     0.94995,     0.95095,     0.95195,     0.95295,     0.95395,     0.95495,     0.95596,     0.95696,     0.95796,     0.95896,     0.95996,\n",
      "           0.96096,     0.96196,     0.96296,     0.96396,     0.96496,     0.96597,     0.96697,     0.96797,     0.96897,     0.96997,     0.97097,     0.97197,     0.97297,     0.97397,     0.97497,     0.97598,     0.97698,     0.97798,     0.97898,     0.97998,     0.98098,     0.98198,     0.98298,     0.98398,\n",
      "           0.98498,     0.98599,     0.98699,     0.98799,     0.98899,     0.98999,     0.99099,     0.99199,     0.99299,     0.99399,     0.99499,       0.996,       0.997,       0.998,       0.999,           1]), array([[    0.29804,     0.29807,     0.32343,     0.33798,     0.34853,     0.35601,     0.36224,     0.36754,     0.38714,      0.4086,     0.42814,     0.44793,     0.46724,     0.48492,     0.50038,     0.51419,     0.52843,      0.5418,     0.55324,     0.56354,     0.57345,     0.58216,      0.5902,\n",
      "            0.59681,     0.60324,     0.60843,     0.61465,     0.61881,      0.6239,     0.62869,     0.63325,     0.63757,     0.64168,     0.64471,     0.64797,      0.6507,      0.6539,     0.65726,     0.66076,     0.66351,     0.66648,     0.66949,     0.67206,     0.67481,     0.67683,     0.67912,\n",
      "            0.68183,     0.68402,     0.68668,     0.68953,     0.69129,     0.69354,     0.69551,     0.69713,     0.70005,     0.70252,     0.70446,     0.70644,     0.70807,     0.71013,     0.71109,     0.71229,     0.71394,     0.71546,     0.71697,     0.71857,     0.72049,     0.72145,     0.72224,\n",
      "            0.72342,     0.72422,     0.72576,     0.72714,     0.72855,     0.73011,     0.73132,     0.73283,      0.7343,     0.73521,     0.73667,     0.73784,     0.73842,      0.7395,     0.74098,     0.74177,     0.74323,     0.74399,     0.74543,     0.74633,      0.7474,     0.74959,     0.75052,\n",
      "            0.75141,     0.75205,     0.75313,     0.75383,     0.75527,     0.75639,     0.75764,     0.75865,     0.75951,      0.7603,     0.76103,     0.76173,     0.76242,      0.7635,     0.76452,     0.76551,     0.76632,     0.76769,     0.76909,     0.76975,     0.77103,     0.77199,     0.77254,\n",
      "            0.77313,     0.77431,     0.77501,     0.77625,     0.77734,     0.77816,     0.77888,     0.77945,     0.78028,     0.78102,     0.78208,     0.78274,     0.78306,     0.78385,       0.785,     0.78571,     0.78735,     0.78831,     0.78907,     0.78969,     0.79067,     0.79215,      0.7929,\n",
      "            0.79346,     0.79422,     0.79492,     0.79552,     0.79624,     0.79677,     0.79731,     0.79777,     0.79839,     0.79916,     0.79979,     0.80097,     0.80127,     0.80205,     0.80285,     0.80342,     0.80412,     0.80449,     0.80509,     0.80509,     0.80565,     0.80694,     0.80709,\n",
      "             0.8071,     0.80742,     0.80844,     0.80906,     0.80943,     0.80979,     0.81036,     0.81111,     0.81169,     0.81178,     0.81248,     0.81246,     0.81315,     0.81381,     0.81434,     0.81454,     0.81532,     0.81579,     0.81626,     0.81652,     0.81672,      0.8174,     0.81759,\n",
      "            0.81803,     0.81855,     0.81898,     0.81971,     0.82033,     0.81994,     0.82031,     0.82026,     0.82068,     0.82047,     0.82105,     0.82153,     0.82133,     0.82178,     0.82199,     0.82169,     0.82216,      0.8224,     0.82238,     0.82267,     0.82303,     0.82319,      0.8237,\n",
      "            0.82419,     0.82484,     0.82508,     0.82559,     0.82571,      0.8257,     0.82597,     0.82585,     0.82616,     0.82645,     0.82658,     0.82722,     0.82726,      0.8273,     0.82767,     0.82823,     0.82776,      0.8279,     0.82784,     0.82784,     0.82819,     0.82875,     0.82904,\n",
      "            0.82908,     0.82924,     0.82929,     0.82995,     0.82994,     0.83039,      0.8306,     0.83119,     0.83197,     0.83244,     0.83284,     0.83302,     0.83352,     0.83376,     0.83334,     0.83339,     0.83375,     0.83414,     0.83447,     0.83459,     0.83481,     0.83501,     0.83458,\n",
      "             0.8345,     0.83451,     0.83443,     0.83411,     0.83462,       0.835,     0.83514,     0.83515,     0.83506,     0.83514,     0.83534,      0.8354,     0.83599,     0.83587,     0.83675,      0.8368,     0.83724,     0.83782,     0.83857,     0.83858,     0.83864,     0.83867,     0.83886,\n",
      "            0.83891,     0.83884,      0.8387,     0.83839,     0.83839,     0.83815,     0.83823,     0.83865,     0.83898,     0.83896,      0.8392,     0.83909,     0.83921,     0.83935,     0.83932,     0.83921,     0.83929,     0.83954,     0.83987,     0.83975,     0.83984,     0.83977,     0.84002,\n",
      "            0.84031,     0.84032,     0.84038,     0.84007,     0.84013,     0.84019,     0.84003,     0.83999,     0.84016,      0.8403,     0.84012,     0.84033,     0.84002,     0.83969,     0.83996,     0.83942,     0.83962,     0.83971,     0.83967,     0.83959,     0.83987,     0.84034,     0.84016,\n",
      "            0.84039,     0.84027,     0.84053,     0.84089,     0.84069,     0.84085,     0.84066,     0.84021,     0.83989,     0.83948,     0.83924,     0.83904,     0.83901,     0.83909,     0.83866,     0.83838,     0.83818,     0.83823,     0.83864,     0.83852,     0.83851,     0.83805,     0.83832,\n",
      "            0.83865,     0.83863,     0.83841,     0.83854,     0.83832,     0.83837,     0.83823,     0.83774,     0.83755,     0.83717,     0.83726,     0.83693,     0.83681,     0.83677,     0.83664,     0.83614,     0.83637,     0.83653,     0.83639,     0.83658,     0.83688,     0.83713,     0.83664,\n",
      "            0.83642,     0.83639,     0.83609,     0.83604,     0.83615,     0.83573,     0.83574,     0.83526,     0.83522,     0.83532,     0.83477,     0.83442,     0.83425,     0.83415,     0.83424,     0.83378,     0.83375,     0.83373,      0.8332,     0.83304,     0.83309,     0.83304,     0.83266,\n",
      "             0.8321,     0.83221,     0.83233,     0.83209,     0.83158,     0.83159,     0.83177,     0.83175,     0.83147,     0.83153,     0.83119,     0.83124,     0.83101,     0.83085,     0.83064,     0.83049,     0.83036,     0.83012,     0.83014,     0.82976,     0.82969,     0.82943,     0.82928,\n",
      "            0.82941,     0.82906,     0.82887,     0.82864,     0.82814,     0.82794,     0.82772,     0.82765,     0.82731,     0.82721,     0.82699,     0.82666,     0.82675,      0.8265,     0.82625,     0.82638,      0.8263,     0.82613,     0.82613,     0.82591,     0.82578,     0.82597,     0.82612,\n",
      "            0.82606,     0.82599,     0.82498,     0.82503,     0.82489,     0.82476,     0.82442,      0.8241,     0.82407,     0.82378,     0.82348,     0.82321,     0.82301,     0.82303,     0.82284,     0.82291,     0.82286,     0.82223,     0.82197,     0.82168,     0.82125,     0.82119,     0.82102,\n",
      "            0.82093,     0.82087,     0.82104,     0.82078,     0.82059,     0.82041,     0.82035,     0.81989,     0.81966,     0.81952,     0.81893,     0.81863,     0.81813,     0.81757,     0.81723,     0.81651,     0.81618,     0.81556,     0.81559,     0.81509,       0.815,     0.81503,     0.81492,\n",
      "            0.81494,     0.81486,     0.81473,     0.81451,     0.81448,       0.814,     0.81366,     0.81323,     0.81291,     0.81253,     0.81188,       0.812,     0.81179,     0.81169,     0.81171,     0.81141,     0.81122,     0.81111,     0.81069,     0.81075,     0.81056,     0.81066,      0.8104,\n",
      "            0.80977,     0.80962,     0.80895,     0.80872,     0.80843,     0.80796,     0.80763,     0.80734,     0.80711,     0.80689,     0.80669,     0.80622,     0.80595,      0.8061,     0.80579,     0.80554,     0.80504,     0.80489,      0.8046,     0.80425,     0.80381,     0.80338,     0.80231,\n",
      "            0.80212,     0.80171,     0.80132,     0.80115,     0.80121,      0.8011,     0.80109,      0.8002,     0.79992,     0.79983,     0.79962,     0.79931,     0.79934,     0.79886,     0.79885,     0.79809,     0.79795,     0.79722,     0.79686,     0.79664,     0.79623,     0.79585,     0.79552,\n",
      "            0.79546,     0.79436,     0.79414,     0.79379,     0.79387,     0.79332,     0.79303,     0.79257,     0.79248,     0.79232,     0.79221,     0.79214,      0.7918,     0.79139,     0.79104,     0.79093,     0.79055,     0.79031,     0.78985,     0.78935,     0.78927,     0.78901,      0.7885,\n",
      "            0.78818,     0.78756,     0.78728,      0.7871,     0.78714,     0.78691,      0.7866,     0.78619,     0.78531,     0.78482,     0.78423,      0.7836,     0.78295,     0.78255,     0.78222,     0.78224,      0.7815,     0.78104,     0.78052,     0.78028,        0.78,     0.77981,     0.77951,\n",
      "            0.77895,     0.77845,     0.77771,     0.77764,     0.77663,     0.77619,     0.77562,     0.77502,     0.77456,     0.77397,      0.7732,     0.77276,     0.77282,     0.77267,     0.77224,     0.77185,     0.77156,     0.77115,     0.77086,      0.7705,     0.77061,     0.77059,     0.77056,\n",
      "            0.77032,     0.76965,     0.76875,     0.76814,     0.76767,      0.7672,      0.7664,     0.76581,      0.7654,     0.76461,      0.7642,     0.76367,      0.7627,     0.76186,     0.76138,     0.76057,     0.76014,     0.75975,     0.75963,     0.75918,     0.75826,     0.75773,     0.75709,\n",
      "            0.75691,     0.75618,     0.75581,     0.75508,      0.7547,     0.75445,     0.75422,     0.75414,     0.75355,     0.75324,     0.75263,     0.75195,     0.75183,     0.75156,      0.7509,     0.75064,     0.75042,     0.74949,     0.74926,     0.74903,     0.74835,     0.74827,     0.74784,\n",
      "            0.74692,     0.74678,     0.74618,     0.74607,     0.74567,     0.74532,     0.74504,     0.74459,     0.74402,     0.74366,     0.74316,      0.7429,      0.7426,     0.74188,     0.74078,     0.74021,     0.73956,     0.73924,      0.7386,      0.7379,     0.73765,     0.73687,     0.73651,\n",
      "            0.73628,     0.73615,     0.73562,     0.73483,     0.73468,     0.73396,     0.73351,     0.73293,     0.73205,     0.73165,     0.73091,     0.73065,     0.73002,     0.72978,     0.72942,     0.72896,     0.72818,     0.72719,     0.72684,      0.7264,     0.72544,     0.72464,     0.72422,\n",
      "            0.72354,     0.72338,     0.72312,     0.72233,     0.72147,     0.72127,     0.72048,     0.71902,     0.71795,     0.71712,     0.71648,     0.71603,     0.71553,      0.7143,     0.71345,     0.71243,     0.71185,     0.71132,     0.71048,     0.71002,     0.70904,     0.70751,     0.70714,\n",
      "            0.70667,      0.7061,      0.7055,     0.70521,     0.70426,     0.70412,     0.70339,     0.70285,     0.70147,     0.70044,      0.6992,     0.69893,     0.69784,     0.69692,     0.69653,     0.69584,      0.6957,     0.69504,     0.69441,     0.69388,      0.6932,     0.69214,     0.69129,\n",
      "            0.69056,     0.68969,     0.68911,     0.68856,     0.68778,     0.68707,     0.68664,     0.68513,     0.68397,     0.68265,     0.68169,     0.68032,     0.68012,     0.67936,     0.67888,       0.677,     0.67582,     0.67488,     0.67305,     0.67187,     0.67028,     0.66835,     0.66726,\n",
      "             0.6664,     0.66546,     0.66319,      0.6624,     0.66091,     0.65925,     0.65804,     0.65658,     0.65512,     0.65292,     0.65178,     0.65106,     0.64921,     0.64782,     0.64677,     0.64477,     0.64277,     0.64065,     0.63884,     0.63737,     0.63632,     0.63477,     0.63202,\n",
      "            0.62875,     0.62732,     0.62561,     0.62474,     0.62296,     0.62001,     0.61791,     0.61633,     0.61457,     0.61209,     0.60956,     0.60759,     0.60539,     0.60347,     0.60096,     0.59868,     0.59518,     0.59242,     0.58985,     0.58707,     0.58378,     0.58089,     0.57697,\n",
      "            0.57352,     0.57039,     0.56735,      0.5653,     0.56224,     0.55894,       0.555,      0.5508,     0.54777,      0.5457,     0.54464,     0.54057,     0.53704,     0.53363,     0.52944,     0.52637,     0.52343,     0.52166,     0.51746,     0.51258,     0.50798,     0.50461,     0.50064,\n",
      "            0.49381,     0.48887,     0.48413,     0.48024,     0.47671,     0.47205,     0.46427,     0.46051,     0.45429,     0.44948,     0.44289,      0.4375,     0.43164,     0.42634,     0.42035,     0.41372,     0.41018,     0.40419,     0.39869,      0.3911,     0.38369,     0.37829,     0.37195,\n",
      "            0.36706,     0.36017,     0.35267,      0.3475,      0.3392,     0.32998,     0.32175,     0.31296,       0.306,      0.2978,     0.28977,      0.2848,     0.27853,     0.26791,     0.26001,     0.25345,     0.24436,     0.23759,     0.23109,     0.22507,     0.21668,     0.20865,     0.19713,\n",
      "            0.19007,     0.18225,     0.17363,      0.1663,     0.16059,     0.15331,     0.14712,     0.13624,     0.12992,     0.12232,     0.11422,     0.10767,     0.10204,    0.095291,    0.089863,    0.084339,    0.079857,    0.074558,    0.070665,    0.062897,    0.056862,    0.052487,    0.048097,\n",
      "           0.043727,    0.040901,    0.038324,     0.03351,    0.028674,    0.025866,    0.022543,     0.01949,    0.018094,    0.015687,    0.013807,    0.010646,   0.0085785,    0.008115,   0.0077378,   0.0072794,   0.0064168,   0.0055731,   0.0041674,   0.0027915,   0.0020174,   0.0017874,    0.001638,\n",
      "          0.0015549,   0.0014718,   0.0013887,   0.0013056,   0.0011179,  0.00078971,           0,           0,           0,           0,           0,           0,           0,           0,           0,           0,           0,           0,           0,           0,           0,           0,           0,\n",
      "                  0,           0,           0,           0,           0,           0,           0,           0,           0,           0,           0,           0,           0,           0,           0,           0,           0,           0,           0,           0,           0,           0,           0,\n",
      "                  0,           0,           0,           0,           0,           0,           0,           0,           0,           0,           0]]), 'Confidence', 'F1'], [array([          0,    0.001001,    0.002002,    0.003003,    0.004004,    0.005005,    0.006006,    0.007007,    0.008008,    0.009009,     0.01001,    0.011011,    0.012012,    0.013013,    0.014014,    0.015015,    0.016016,    0.017017,    0.018018,    0.019019,     0.02002,    0.021021,    0.022022,    0.023023,\n",
      "          0.024024,    0.025025,    0.026026,    0.027027,    0.028028,    0.029029,     0.03003,    0.031031,    0.032032,    0.033033,    0.034034,    0.035035,    0.036036,    0.037037,    0.038038,    0.039039,     0.04004,    0.041041,    0.042042,    0.043043,    0.044044,    0.045045,    0.046046,    0.047047,\n",
      "          0.048048,    0.049049,     0.05005,    0.051051,    0.052052,    0.053053,    0.054054,    0.055055,    0.056056,    0.057057,    0.058058,    0.059059,     0.06006,    0.061061,    0.062062,    0.063063,    0.064064,    0.065065,    0.066066,    0.067067,    0.068068,    0.069069,     0.07007,    0.071071,\n",
      "          0.072072,    0.073073,    0.074074,    0.075075,    0.076076,    0.077077,    0.078078,    0.079079,     0.08008,    0.081081,    0.082082,    0.083083,    0.084084,    0.085085,    0.086086,    0.087087,    0.088088,    0.089089,     0.09009,    0.091091,    0.092092,    0.093093,    0.094094,    0.095095,\n",
      "          0.096096,    0.097097,    0.098098,    0.099099,      0.1001,      0.1011,      0.1021,      0.1031,      0.1041,     0.10511,     0.10611,     0.10711,     0.10811,     0.10911,     0.11011,     0.11111,     0.11211,     0.11311,     0.11411,     0.11512,     0.11612,     0.11712,     0.11812,     0.11912,\n",
      "           0.12012,     0.12112,     0.12212,     0.12312,     0.12412,     0.12513,     0.12613,     0.12713,     0.12813,     0.12913,     0.13013,     0.13113,     0.13213,     0.13313,     0.13413,     0.13514,     0.13614,     0.13714,     0.13814,     0.13914,     0.14014,     0.14114,     0.14214,     0.14314,\n",
      "           0.14414,     0.14515,     0.14615,     0.14715,     0.14815,     0.14915,     0.15015,     0.15115,     0.15215,     0.15315,     0.15415,     0.15516,     0.15616,     0.15716,     0.15816,     0.15916,     0.16016,     0.16116,     0.16216,     0.16316,     0.16416,     0.16517,     0.16617,     0.16717,\n",
      "           0.16817,     0.16917,     0.17017,     0.17117,     0.17217,     0.17317,     0.17417,     0.17518,     0.17618,     0.17718,     0.17818,     0.17918,     0.18018,     0.18118,     0.18218,     0.18318,     0.18418,     0.18519,     0.18619,     0.18719,     0.18819,     0.18919,     0.19019,     0.19119,\n",
      "           0.19219,     0.19319,     0.19419,      0.1952,      0.1962,      0.1972,      0.1982,      0.1992,      0.2002,      0.2012,      0.2022,      0.2032,      0.2042,     0.20521,     0.20621,     0.20721,     0.20821,     0.20921,     0.21021,     0.21121,     0.21221,     0.21321,     0.21421,     0.21522,\n",
      "           0.21622,     0.21722,     0.21822,     0.21922,     0.22022,     0.22122,     0.22222,     0.22322,     0.22422,     0.22523,     0.22623,     0.22723,     0.22823,     0.22923,     0.23023,     0.23123,     0.23223,     0.23323,     0.23423,     0.23524,     0.23624,     0.23724,     0.23824,     0.23924,\n",
      "           0.24024,     0.24124,     0.24224,     0.24324,     0.24424,     0.24525,     0.24625,     0.24725,     0.24825,     0.24925,     0.25025,     0.25125,     0.25225,     0.25325,     0.25425,     0.25526,     0.25626,     0.25726,     0.25826,     0.25926,     0.26026,     0.26126,     0.26226,     0.26326,\n",
      "           0.26426,     0.26527,     0.26627,     0.26727,     0.26827,     0.26927,     0.27027,     0.27127,     0.27227,     0.27327,     0.27427,     0.27528,     0.27628,     0.27728,     0.27828,     0.27928,     0.28028,     0.28128,     0.28228,     0.28328,     0.28428,     0.28529,     0.28629,     0.28729,\n",
      "           0.28829,     0.28929,     0.29029,     0.29129,     0.29229,     0.29329,     0.29429,      0.2953,      0.2963,      0.2973,      0.2983,      0.2993,      0.3003,      0.3013,      0.3023,      0.3033,      0.3043,     0.30531,     0.30631,     0.30731,     0.30831,     0.30931,     0.31031,     0.31131,\n",
      "           0.31231,     0.31331,     0.31431,     0.31532,     0.31632,     0.31732,     0.31832,     0.31932,     0.32032,     0.32132,     0.32232,     0.32332,     0.32432,     0.32533,     0.32633,     0.32733,     0.32833,     0.32933,     0.33033,     0.33133,     0.33233,     0.33333,     0.33433,     0.33534,\n",
      "           0.33634,     0.33734,     0.33834,     0.33934,     0.34034,     0.34134,     0.34234,     0.34334,     0.34434,     0.34535,     0.34635,     0.34735,     0.34835,     0.34935,     0.35035,     0.35135,     0.35235,     0.35335,     0.35435,     0.35536,     0.35636,     0.35736,     0.35836,     0.35936,\n",
      "           0.36036,     0.36136,     0.36236,     0.36336,     0.36436,     0.36537,     0.36637,     0.36737,     0.36837,     0.36937,     0.37037,     0.37137,     0.37237,     0.37337,     0.37437,     0.37538,     0.37638,     0.37738,     0.37838,     0.37938,     0.38038,     0.38138,     0.38238,     0.38338,\n",
      "           0.38438,     0.38539,     0.38639,     0.38739,     0.38839,     0.38939,     0.39039,     0.39139,     0.39239,     0.39339,     0.39439,      0.3954,      0.3964,      0.3974,      0.3984,      0.3994,      0.4004,      0.4014,      0.4024,      0.4034,      0.4044,     0.40541,     0.40641,     0.40741,\n",
      "           0.40841,     0.40941,     0.41041,     0.41141,     0.41241,     0.41341,     0.41441,     0.41542,     0.41642,     0.41742,     0.41842,     0.41942,     0.42042,     0.42142,     0.42242,     0.42342,     0.42442,     0.42543,     0.42643,     0.42743,     0.42843,     0.42943,     0.43043,     0.43143,\n",
      "           0.43243,     0.43343,     0.43443,     0.43544,     0.43644,     0.43744,     0.43844,     0.43944,     0.44044,     0.44144,     0.44244,     0.44344,     0.44444,     0.44545,     0.44645,     0.44745,     0.44845,     0.44945,     0.45045,     0.45145,     0.45245,     0.45345,     0.45445,     0.45546,\n",
      "           0.45646,     0.45746,     0.45846,     0.45946,     0.46046,     0.46146,     0.46246,     0.46346,     0.46446,     0.46547,     0.46647,     0.46747,     0.46847,     0.46947,     0.47047,     0.47147,     0.47247,     0.47347,     0.47447,     0.47548,     0.47648,     0.47748,     0.47848,     0.47948,\n",
      "           0.48048,     0.48148,     0.48248,     0.48348,     0.48448,     0.48549,     0.48649,     0.48749,     0.48849,     0.48949,     0.49049,     0.49149,     0.49249,     0.49349,     0.49449,      0.4955,      0.4965,      0.4975,      0.4985,      0.4995,      0.5005,      0.5015,      0.5025,      0.5035,\n",
      "            0.5045,     0.50551,     0.50651,     0.50751,     0.50851,     0.50951,     0.51051,     0.51151,     0.51251,     0.51351,     0.51451,     0.51552,     0.51652,     0.51752,     0.51852,     0.51952,     0.52052,     0.52152,     0.52252,     0.52352,     0.52452,     0.52553,     0.52653,     0.52753,\n",
      "           0.52853,     0.52953,     0.53053,     0.53153,     0.53253,     0.53353,     0.53453,     0.53554,     0.53654,     0.53754,     0.53854,     0.53954,     0.54054,     0.54154,     0.54254,     0.54354,     0.54454,     0.54555,     0.54655,     0.54755,     0.54855,     0.54955,     0.55055,     0.55155,\n",
      "           0.55255,     0.55355,     0.55455,     0.55556,     0.55656,     0.55756,     0.55856,     0.55956,     0.56056,     0.56156,     0.56256,     0.56356,     0.56456,     0.56557,     0.56657,     0.56757,     0.56857,     0.56957,     0.57057,     0.57157,     0.57257,     0.57357,     0.57457,     0.57558,\n",
      "           0.57658,     0.57758,     0.57858,     0.57958,     0.58058,     0.58158,     0.58258,     0.58358,     0.58458,     0.58559,     0.58659,     0.58759,     0.58859,     0.58959,     0.59059,     0.59159,     0.59259,     0.59359,     0.59459,      0.5956,      0.5966,      0.5976,      0.5986,      0.5996,\n",
      "            0.6006,      0.6016,      0.6026,      0.6036,      0.6046,     0.60561,     0.60661,     0.60761,     0.60861,     0.60961,     0.61061,     0.61161,     0.61261,     0.61361,     0.61461,     0.61562,     0.61662,     0.61762,     0.61862,     0.61962,     0.62062,     0.62162,     0.62262,     0.62362,\n",
      "           0.62462,     0.62563,     0.62663,     0.62763,     0.62863,     0.62963,     0.63063,     0.63163,     0.63263,     0.63363,     0.63463,     0.63564,     0.63664,     0.63764,     0.63864,     0.63964,     0.64064,     0.64164,     0.64264,     0.64364,     0.64464,     0.64565,     0.64665,     0.64765,\n",
      "           0.64865,     0.64965,     0.65065,     0.65165,     0.65265,     0.65365,     0.65465,     0.65566,     0.65666,     0.65766,     0.65866,     0.65966,     0.66066,     0.66166,     0.66266,     0.66366,     0.66466,     0.66567,     0.66667,     0.66767,     0.66867,     0.66967,     0.67067,     0.67167,\n",
      "           0.67267,     0.67367,     0.67467,     0.67568,     0.67668,     0.67768,     0.67868,     0.67968,     0.68068,     0.68168,     0.68268,     0.68368,     0.68468,     0.68569,     0.68669,     0.68769,     0.68869,     0.68969,     0.69069,     0.69169,     0.69269,     0.69369,     0.69469,      0.6957,\n",
      "            0.6967,      0.6977,      0.6987,      0.6997,      0.7007,      0.7017,      0.7027,      0.7037,      0.7047,     0.70571,     0.70671,     0.70771,     0.70871,     0.70971,     0.71071,     0.71171,     0.71271,     0.71371,     0.71471,     0.71572,     0.71672,     0.71772,     0.71872,     0.71972,\n",
      "           0.72072,     0.72172,     0.72272,     0.72372,     0.72472,     0.72573,     0.72673,     0.72773,     0.72873,     0.72973,     0.73073,     0.73173,     0.73273,     0.73373,     0.73473,     0.73574,     0.73674,     0.73774,     0.73874,     0.73974,     0.74074,     0.74174,     0.74274,     0.74374,\n",
      "           0.74474,     0.74575,     0.74675,     0.74775,     0.74875,     0.74975,     0.75075,     0.75175,     0.75275,     0.75375,     0.75475,     0.75576,     0.75676,     0.75776,     0.75876,     0.75976,     0.76076,     0.76176,     0.76276,     0.76376,     0.76476,     0.76577,     0.76677,     0.76777,\n",
      "           0.76877,     0.76977,     0.77077,     0.77177,     0.77277,     0.77377,     0.77477,     0.77578,     0.77678,     0.77778,     0.77878,     0.77978,     0.78078,     0.78178,     0.78278,     0.78378,     0.78478,     0.78579,     0.78679,     0.78779,     0.78879,     0.78979,     0.79079,     0.79179,\n",
      "           0.79279,     0.79379,     0.79479,      0.7958,      0.7968,      0.7978,      0.7988,      0.7998,      0.8008,      0.8018,      0.8028,      0.8038,      0.8048,     0.80581,     0.80681,     0.80781,     0.80881,     0.80981,     0.81081,     0.81181,     0.81281,     0.81381,     0.81481,     0.81582,\n",
      "           0.81682,     0.81782,     0.81882,     0.81982,     0.82082,     0.82182,     0.82282,     0.82382,     0.82482,     0.82583,     0.82683,     0.82783,     0.82883,     0.82983,     0.83083,     0.83183,     0.83283,     0.83383,     0.83483,     0.83584,     0.83684,     0.83784,     0.83884,     0.83984,\n",
      "           0.84084,     0.84184,     0.84284,     0.84384,     0.84484,     0.84585,     0.84685,     0.84785,     0.84885,     0.84985,     0.85085,     0.85185,     0.85285,     0.85385,     0.85485,     0.85586,     0.85686,     0.85786,     0.85886,     0.85986,     0.86086,     0.86186,     0.86286,     0.86386,\n",
      "           0.86486,     0.86587,     0.86687,     0.86787,     0.86887,     0.86987,     0.87087,     0.87187,     0.87287,     0.87387,     0.87487,     0.87588,     0.87688,     0.87788,     0.87888,     0.87988,     0.88088,     0.88188,     0.88288,     0.88388,     0.88488,     0.88589,     0.88689,     0.88789,\n",
      "           0.88889,     0.88989,     0.89089,     0.89189,     0.89289,     0.89389,     0.89489,      0.8959,      0.8969,      0.8979,      0.8989,      0.8999,      0.9009,      0.9019,      0.9029,      0.9039,      0.9049,     0.90591,     0.90691,     0.90791,     0.90891,     0.90991,     0.91091,     0.91191,\n",
      "           0.91291,     0.91391,     0.91491,     0.91592,     0.91692,     0.91792,     0.91892,     0.91992,     0.92092,     0.92192,     0.92292,     0.92392,     0.92492,     0.92593,     0.92693,     0.92793,     0.92893,     0.92993,     0.93093,     0.93193,     0.93293,     0.93393,     0.93493,     0.93594,\n",
      "           0.93694,     0.93794,     0.93894,     0.93994,     0.94094,     0.94194,     0.94294,     0.94394,     0.94494,     0.94595,     0.94695,     0.94795,     0.94895,     0.94995,     0.95095,     0.95195,     0.95295,     0.95395,     0.95495,     0.95596,     0.95696,     0.95796,     0.95896,     0.95996,\n",
      "           0.96096,     0.96196,     0.96296,     0.96396,     0.96496,     0.96597,     0.96697,     0.96797,     0.96897,     0.96997,     0.97097,     0.97197,     0.97297,     0.97397,     0.97497,     0.97598,     0.97698,     0.97798,     0.97898,     0.97998,     0.98098,     0.98198,     0.98298,     0.98398,\n",
      "           0.98498,     0.98599,     0.98699,     0.98799,     0.98899,     0.98999,     0.99099,     0.99199,     0.99299,     0.99399,     0.99499,       0.996,       0.997,       0.998,       0.999,           1]), array([[    0.17803,     0.17805,     0.19649,     0.20739,     0.21547,      0.2213,     0.22619,     0.23042,     0.24613,     0.26397,     0.28074,     0.29817,     0.31589,     0.33253,      0.3475,     0.36121,     0.37584,     0.38987,     0.40213,     0.41334,     0.42458,     0.43449,     0.44368,\n",
      "            0.45136,     0.45887,     0.46514,     0.47263,     0.47806,      0.4843,     0.49042,     0.49606,     0.50152,     0.50677,     0.51092,     0.51525,       0.519,     0.52325,     0.52764,      0.5324,     0.53606,     0.54013,     0.54424,     0.54773,     0.55156,     0.55426,     0.55759,\n",
      "            0.56127,     0.56442,     0.56804,     0.57215,     0.57467,     0.57796,       0.581,     0.58363,     0.58794,     0.59143,     0.59438,     0.59722,     0.59975,     0.60311,     0.60471,     0.60654,     0.60905,     0.61137,      0.6138,     0.61626,     0.61908,     0.62083,     0.62222,\n",
      "             0.6242,     0.62572,     0.62813,     0.63043,     0.63302,     0.63549,     0.63733,     0.63981,     0.64233,     0.64444,     0.64675,     0.64899,     0.65024,     0.65217,     0.65448,     0.65609,     0.65849,     0.65981,     0.66209,     0.66389,     0.66584,     0.66945,      0.6712,\n",
      "            0.67315,     0.67432,     0.67637,     0.67786,     0.68019,       0.682,     0.68417,      0.6861,     0.68751,     0.68908,     0.69042,     0.69185,     0.69328,     0.69535,     0.69719,     0.69884,     0.70019,     0.70248,     0.70498,     0.70609,     0.70841,     0.71016,     0.71124,\n",
      "            0.71254,     0.71471,     0.71619,     0.71847,     0.72033,     0.72174,     0.72329,     0.72443,     0.72619,     0.72762,     0.72961,     0.73092,     0.73197,     0.73351,     0.73552,     0.73677,     0.73965,     0.74152,     0.74319,      0.7443,     0.74619,     0.74884,     0.75018,\n",
      "            0.75152,     0.75323,     0.75449,     0.75574,     0.75733,     0.75903,        0.76,     0.76102,     0.76233,     0.76373,     0.76487,     0.76704,     0.76794,     0.76939,     0.77112,     0.77263,      0.7741,     0.77515,     0.77662,     0.77717,     0.77821,     0.78078,     0.78165,\n",
      "            0.78221,     0.78339,     0.78531,     0.78647,     0.78755,      0.7886,     0.78988,     0.79179,     0.79318,     0.79354,     0.79487,     0.79543,     0.79694,      0.7984,     0.79942,     0.79981,     0.80152,     0.80301,     0.80433,      0.8051,     0.80561,     0.80714,     0.80771,\n",
      "            0.80857,     0.81019,     0.81103,     0.81288,     0.81414,     0.81459,     0.81591,       0.816,     0.81704,     0.81746,     0.81882,     0.81977,      0.8205,     0.82196,     0.82261,     0.82282,     0.82398,     0.82447,     0.82485,     0.82543,     0.82637,     0.82712,     0.82837,\n",
      "            0.82959,      0.8309,     0.83192,     0.83329,     0.83376,      0.8341,     0.83472,     0.83553,     0.83622,      0.8368,     0.83761,     0.83928,     0.84025,     0.84102,     0.84185,     0.84344,     0.84347,     0.84407,      0.8443,     0.84478,     0.84581,     0.84721,     0.84828,\n",
      "            0.84905,     0.84962,     0.85019,     0.85182,     0.85249,     0.85345,     0.85411,     0.85584,     0.85749,      0.8585,     0.85934,     0.86045,     0.86152,     0.86211,     0.86235,     0.86288,     0.86393,     0.86551,     0.86621,     0.86665,      0.8674,     0.86797,     0.86805,\n",
      "             0.8682,     0.86875,     0.86907,     0.86912,     0.87022,     0.87105,     0.87187,     0.87244,     0.87268,     0.87334,     0.87405,     0.87466,     0.87597,     0.87699,     0.87918,     0.87954,     0.88052,     0.88181,     0.88345,     0.88361,     0.88388,     0.88419,     0.88462,\n",
      "            0.88525,     0.88562,     0.88608,     0.88644,     0.88696,      0.8871,     0.88792,     0.88912,     0.88986,     0.89063,      0.8917,     0.89188,     0.89224,     0.89284,     0.89358,     0.89403,     0.89458,     0.89527,     0.89617,     0.89644,     0.89692,     0.89727,     0.89786,\n",
      "            0.89853,     0.89876,     0.89924,     0.89931,     0.90005,     0.90032,     0.90049,     0.90082,     0.90148,     0.90208,     0.90231,     0.90316,      0.9033,     0.90345,     0.90451,     0.90462,     0.90555,     0.90603,      0.9065,      0.9066,     0.90725,     0.90867,     0.90925,\n",
      "            0.90992,      0.9101,     0.91107,     0.91229,     0.91234,     0.91271,     0.91311,     0.91323,     0.91317,     0.91332,     0.91328,     0.91365,     0.91386,      0.9141,     0.91403,     0.91441,     0.91459,     0.91496,     0.91637,     0.91678,      0.9172,     0.91777,     0.91843,\n",
      "            0.91952,     0.91978,     0.91984,     0.92017,     0.92022,     0.92042,     0.92083,     0.92076,     0.92073,     0.92079,     0.92134,     0.92129,     0.92143,     0.92149,     0.92147,     0.92139,      0.9225,     0.92365,     0.92377,     0.92454,     0.92529,     0.92596,     0.92634,\n",
      "            0.92698,     0.92718,     0.92738,     0.92788,     0.92897,     0.92913,     0.92935,     0.93005,     0.93027,      0.9309,     0.93105,     0.93101,     0.93098,     0.93111,     0.93144,     0.93148,     0.93184,     0.93198,     0.93228,     0.93266,     0.93297,     0.93382,     0.93377,\n",
      "             0.9337,       0.934,     0.93465,      0.9351,     0.93537,     0.93597,      0.9365,      0.9367,      0.9369,     0.93761,     0.93757,     0.93781,     0.93779,       0.938,     0.93845,     0.93843,     0.93866,     0.93895,     0.93935,     0.93938,     0.94001,     0.94022,      0.9405,\n",
      "            0.94118,     0.94138,     0.94149,     0.94205,       0.942,     0.94198,     0.94219,     0.94313,     0.94336,     0.94408,      0.9443,     0.94436,     0.94477,     0.94474,     0.94503,     0.94547,      0.9457,     0.94576,     0.94612,     0.94616,     0.94625,     0.94674,     0.94717,\n",
      "            0.94716,     0.94715,     0.94731,     0.94755,     0.94829,     0.94922,     0.94941,     0.94971,     0.94996,     0.94993,      0.9499,     0.95012,     0.95067,      0.9511,     0.95168,     0.95222,     0.95288,     0.95282,     0.95331,     0.95328,     0.95376,     0.95401,      0.9541,\n",
      "            0.95424,     0.95443,     0.95528,     0.95526,     0.95576,     0.95616,     0.95652,     0.95663,     0.95674,     0.95697,     0.95718,     0.95741,     0.95763,     0.95759,     0.95835,     0.95829,     0.95852,     0.95879,     0.95901,     0.95902,     0.95949,     0.96002,     0.96001,\n",
      "            0.96016,     0.96028,     0.96027,     0.96025,     0.96044,     0.96074,     0.96098,     0.96095,     0.96114,      0.9617,     0.96178,     0.96252,     0.96327,     0.96364,     0.96381,     0.96379,     0.96404,     0.96404,     0.96401,     0.96418,     0.96427,     0.96471,      0.9648,\n",
      "            0.96476,     0.96502,     0.96508,     0.96551,     0.96549,     0.96573,     0.96571,     0.96597,     0.96595,     0.96594,     0.96592,     0.96589,      0.9659,     0.96644,     0.96668,     0.96696,     0.96699,     0.96719,     0.96717,     0.96715,      0.9674,     0.96759,     0.96758,\n",
      "            0.96757,     0.96755,     0.96752,     0.96784,     0.96808,     0.96807,     0.96863,     0.96858,     0.96856,     0.96855,     0.96854,     0.96883,     0.96933,     0.96935,      0.9696,     0.96959,     0.96986,     0.96982,      0.9698,     0.97007,     0.97005,     0.97002,     0.97012,\n",
      "            0.97029,     0.97022,     0.97021,     0.97023,     0.97046,     0.97045,     0.97072,     0.97069,     0.97069,     0.97097,     0.97125,     0.97154,     0.97152,      0.9715,     0.97177,     0.97206,     0.97249,     0.97261,     0.97258,     0.97255,     0.97255,     0.97254,      0.9728,\n",
      "            0.97278,     0.97275,     0.97303,     0.97302,     0.97342,      0.9736,     0.97359,     0.97356,     0.97382,     0.97409,     0.97406,     0.97432,     0.97459,     0.97487,     0.97515,     0.97546,     0.97542,      0.9754,     0.97567,     0.97627,     0.97656,     0.97655,     0.97684,\n",
      "            0.97681,     0.97679,     0.97675,     0.97706,     0.97701,     0.97699,     0.97696,     0.97693,     0.97722,     0.97719,     0.97716,     0.97733,     0.97776,     0.97775,     0.97773,     0.97772,      0.9777,     0.97768,     0.97798,     0.97801,      0.9786,     0.97879,     0.97891,\n",
      "             0.9789,     0.97887,     0.97883,      0.9788,     0.97878,     0.97908,     0.97904,     0.97902,       0.979,     0.97896,     0.97895,     0.97892,      0.9792,     0.97916,      0.9793,     0.97943,     0.97973,     0.97971,     0.97971,     0.97969,     0.97965,     0.97963,      0.9796,\n",
      "            0.97959,     0.97956,     0.97987,     0.98017,     0.98015,     0.98014,     0.98028,     0.98045,     0.98108,      0.9814,     0.98137,     0.98135,     0.98134,     0.98154,     0.98164,     0.98163,     0.98162,     0.98158,     0.98157,     0.98157,     0.98154,     0.98253,     0.98252,\n",
      "            0.98282,     0.98281,     0.98313,     0.98346,     0.98344,      0.9841,     0.98409,     0.98408,     0.98406,     0.98405,     0.98403,     0.98406,     0.98435,     0.98433,     0.98429,     0.98427,     0.98425,     0.98424,     0.98422,      0.9842,     0.98453,      0.9845,     0.98449,\n",
      "            0.98448,     0.98448,     0.98446,     0.98444,     0.98478,     0.98505,     0.98509,     0.98507,     0.98504,     0.98503,     0.98544,     0.98569,     0.98567,     0.98637,     0.98636,     0.98634,     0.98632,     0.98629,     0.98628,     0.98627,      0.9866,     0.98657,     0.98692,\n",
      "             0.9869,     0.98739,      0.9876,     0.98758,     0.98756,     0.98791,     0.98789,     0.98785,     0.98782,      0.9878,     0.98779,     0.98777,     0.98776,     0.98809,     0.98807,     0.98805,      0.9884,     0.98838,     0.98836,     0.98835,     0.98833,     0.98829,     0.98865,\n",
      "            0.98864,     0.98937,     0.98936,     0.98935,     0.98933,     0.98933,     0.98931,      0.9893,     0.98926,     0.98924,     0.98932,     0.98996,     0.98994,     0.99012,     0.99029,     0.99028,     0.99091,     0.99103,      0.9914,     0.99139,     0.99177,     0.99175,     0.99173,\n",
      "            0.99172,      0.9917,     0.99169,     0.99168,     0.99167,     0.99166,     0.99165,     0.99201,     0.99199,     0.99197,     0.99275,     0.99273,     0.99272,     0.99271,      0.9927,     0.99267,     0.99306,     0.99304,     0.99342,      0.9934,     0.99338,     0.99335,     0.99375,\n",
      "            0.99374,     0.99372,     0.99369,     0.99368,     0.99366,     0.99364,     0.99362,      0.9936,     0.99358,     0.99354,     0.99353,     0.99395,     0.99392,      0.9939,     0.99389,     0.99386,     0.99383,      0.9938,     0.99377,     0.99375,     0.99374,     0.99372,     0.99412,\n",
      "            0.99408,     0.99451,     0.99449,     0.99448,     0.99446,     0.99442,     0.99439,     0.99437,     0.99435,     0.99432,     0.99428,     0.99426,     0.99423,      0.9942,     0.99513,      0.9951,     0.99506,     0.99503,       0.995,     0.99497,     0.99493,      0.9954,     0.99536,\n",
      "            0.99532,     0.99528,     0.99525,     0.99575,     0.99572,     0.99622,     0.99618,     0.99614,     0.99611,     0.99665,     0.99664,      0.9966,     0.99657,     0.99654,     0.99651,     0.99648,     0.99704,     0.99703,       0.997,     0.99696,     0.99692,     0.99689,     0.99686,\n",
      "            0.99744,      0.9974,     0.99737,     0.99734,     0.99732,     0.99728,     0.99722,     0.99719,     0.99714,      0.9971,     0.99705,       0.997,     0.99695,      0.9969,     0.99685,     0.99678,     0.99675,     0.99669,     0.99663,     0.99655,     0.99647,      0.9964,     0.99633,\n",
      "            0.99627,     0.99809,     0.99804,       0.998,     0.99794,     0.99787,     0.99781,     0.99774,     0.99785,      0.9988,           1,           1,           1,           1,           1,           1,           1,           1,           1,           1,           1,           1,           1,\n",
      "                  1,           1,           1,           1,           1,           1,           1,           1,           1,           1,           1,           1,           1,           1,           1,           1,           1,           1,           1,           1,           1,           1,           1,\n",
      "                  1,           1,           1,           1,           1,           1,           1,           1,           1,           1,           1,           1,           1,           1,           1,           1,           1,           1,           1,           1,           1,           1,           1,\n",
      "                  1,           1,           1,           1,           1,           1,           1,           1,           1,           1,           1,           1,           1,           1,           1,           1,           1,           1,           1,           1,           1,           1,           1,\n",
      "                  1,           1,           1,           1,           1,           1,           1,           1,           1,           1,           1,           1,           1,           1,           1,           1,           1,           1,           1,           1,           1,           1,           1,\n",
      "                  1,           1,           1,           1,           1,           1,           1,           1,           1,           1,           1]]), 'Confidence', 'Precision'], [array([          0,    0.001001,    0.002002,    0.003003,    0.004004,    0.005005,    0.006006,    0.007007,    0.008008,    0.009009,     0.01001,    0.011011,    0.012012,    0.013013,    0.014014,    0.015015,    0.016016,    0.017017,    0.018018,    0.019019,     0.02002,    0.021021,    0.022022,    0.023023,\n",
      "          0.024024,    0.025025,    0.026026,    0.027027,    0.028028,    0.029029,     0.03003,    0.031031,    0.032032,    0.033033,    0.034034,    0.035035,    0.036036,    0.037037,    0.038038,    0.039039,     0.04004,    0.041041,    0.042042,    0.043043,    0.044044,    0.045045,    0.046046,    0.047047,\n",
      "          0.048048,    0.049049,     0.05005,    0.051051,    0.052052,    0.053053,    0.054054,    0.055055,    0.056056,    0.057057,    0.058058,    0.059059,     0.06006,    0.061061,    0.062062,    0.063063,    0.064064,    0.065065,    0.066066,    0.067067,    0.068068,    0.069069,     0.07007,    0.071071,\n",
      "          0.072072,    0.073073,    0.074074,    0.075075,    0.076076,    0.077077,    0.078078,    0.079079,     0.08008,    0.081081,    0.082082,    0.083083,    0.084084,    0.085085,    0.086086,    0.087087,    0.088088,    0.089089,     0.09009,    0.091091,    0.092092,    0.093093,    0.094094,    0.095095,\n",
      "          0.096096,    0.097097,    0.098098,    0.099099,      0.1001,      0.1011,      0.1021,      0.1031,      0.1041,     0.10511,     0.10611,     0.10711,     0.10811,     0.10911,     0.11011,     0.11111,     0.11211,     0.11311,     0.11411,     0.11512,     0.11612,     0.11712,     0.11812,     0.11912,\n",
      "           0.12012,     0.12112,     0.12212,     0.12312,     0.12412,     0.12513,     0.12613,     0.12713,     0.12813,     0.12913,     0.13013,     0.13113,     0.13213,     0.13313,     0.13413,     0.13514,     0.13614,     0.13714,     0.13814,     0.13914,     0.14014,     0.14114,     0.14214,     0.14314,\n",
      "           0.14414,     0.14515,     0.14615,     0.14715,     0.14815,     0.14915,     0.15015,     0.15115,     0.15215,     0.15315,     0.15415,     0.15516,     0.15616,     0.15716,     0.15816,     0.15916,     0.16016,     0.16116,     0.16216,     0.16316,     0.16416,     0.16517,     0.16617,     0.16717,\n",
      "           0.16817,     0.16917,     0.17017,     0.17117,     0.17217,     0.17317,     0.17417,     0.17518,     0.17618,     0.17718,     0.17818,     0.17918,     0.18018,     0.18118,     0.18218,     0.18318,     0.18418,     0.18519,     0.18619,     0.18719,     0.18819,     0.18919,     0.19019,     0.19119,\n",
      "           0.19219,     0.19319,     0.19419,      0.1952,      0.1962,      0.1972,      0.1982,      0.1992,      0.2002,      0.2012,      0.2022,      0.2032,      0.2042,     0.20521,     0.20621,     0.20721,     0.20821,     0.20921,     0.21021,     0.21121,     0.21221,     0.21321,     0.21421,     0.21522,\n",
      "           0.21622,     0.21722,     0.21822,     0.21922,     0.22022,     0.22122,     0.22222,     0.22322,     0.22422,     0.22523,     0.22623,     0.22723,     0.22823,     0.22923,     0.23023,     0.23123,     0.23223,     0.23323,     0.23423,     0.23524,     0.23624,     0.23724,     0.23824,     0.23924,\n",
      "           0.24024,     0.24124,     0.24224,     0.24324,     0.24424,     0.24525,     0.24625,     0.24725,     0.24825,     0.24925,     0.25025,     0.25125,     0.25225,     0.25325,     0.25425,     0.25526,     0.25626,     0.25726,     0.25826,     0.25926,     0.26026,     0.26126,     0.26226,     0.26326,\n",
      "           0.26426,     0.26527,     0.26627,     0.26727,     0.26827,     0.26927,     0.27027,     0.27127,     0.27227,     0.27327,     0.27427,     0.27528,     0.27628,     0.27728,     0.27828,     0.27928,     0.28028,     0.28128,     0.28228,     0.28328,     0.28428,     0.28529,     0.28629,     0.28729,\n",
      "           0.28829,     0.28929,     0.29029,     0.29129,     0.29229,     0.29329,     0.29429,      0.2953,      0.2963,      0.2973,      0.2983,      0.2993,      0.3003,      0.3013,      0.3023,      0.3033,      0.3043,     0.30531,     0.30631,     0.30731,     0.30831,     0.30931,     0.31031,     0.31131,\n",
      "           0.31231,     0.31331,     0.31431,     0.31532,     0.31632,     0.31732,     0.31832,     0.31932,     0.32032,     0.32132,     0.32232,     0.32332,     0.32432,     0.32533,     0.32633,     0.32733,     0.32833,     0.32933,     0.33033,     0.33133,     0.33233,     0.33333,     0.33433,     0.33534,\n",
      "           0.33634,     0.33734,     0.33834,     0.33934,     0.34034,     0.34134,     0.34234,     0.34334,     0.34434,     0.34535,     0.34635,     0.34735,     0.34835,     0.34935,     0.35035,     0.35135,     0.35235,     0.35335,     0.35435,     0.35536,     0.35636,     0.35736,     0.35836,     0.35936,\n",
      "           0.36036,     0.36136,     0.36236,     0.36336,     0.36436,     0.36537,     0.36637,     0.36737,     0.36837,     0.36937,     0.37037,     0.37137,     0.37237,     0.37337,     0.37437,     0.37538,     0.37638,     0.37738,     0.37838,     0.37938,     0.38038,     0.38138,     0.38238,     0.38338,\n",
      "           0.38438,     0.38539,     0.38639,     0.38739,     0.38839,     0.38939,     0.39039,     0.39139,     0.39239,     0.39339,     0.39439,      0.3954,      0.3964,      0.3974,      0.3984,      0.3994,      0.4004,      0.4014,      0.4024,      0.4034,      0.4044,     0.40541,     0.40641,     0.40741,\n",
      "           0.40841,     0.40941,     0.41041,     0.41141,     0.41241,     0.41341,     0.41441,     0.41542,     0.41642,     0.41742,     0.41842,     0.41942,     0.42042,     0.42142,     0.42242,     0.42342,     0.42442,     0.42543,     0.42643,     0.42743,     0.42843,     0.42943,     0.43043,     0.43143,\n",
      "           0.43243,     0.43343,     0.43443,     0.43544,     0.43644,     0.43744,     0.43844,     0.43944,     0.44044,     0.44144,     0.44244,     0.44344,     0.44444,     0.44545,     0.44645,     0.44745,     0.44845,     0.44945,     0.45045,     0.45145,     0.45245,     0.45345,     0.45445,     0.45546,\n",
      "           0.45646,     0.45746,     0.45846,     0.45946,     0.46046,     0.46146,     0.46246,     0.46346,     0.46446,     0.46547,     0.46647,     0.46747,     0.46847,     0.46947,     0.47047,     0.47147,     0.47247,     0.47347,     0.47447,     0.47548,     0.47648,     0.47748,     0.47848,     0.47948,\n",
      "           0.48048,     0.48148,     0.48248,     0.48348,     0.48448,     0.48549,     0.48649,     0.48749,     0.48849,     0.48949,     0.49049,     0.49149,     0.49249,     0.49349,     0.49449,      0.4955,      0.4965,      0.4975,      0.4985,      0.4995,      0.5005,      0.5015,      0.5025,      0.5035,\n",
      "            0.5045,     0.50551,     0.50651,     0.50751,     0.50851,     0.50951,     0.51051,     0.51151,     0.51251,     0.51351,     0.51451,     0.51552,     0.51652,     0.51752,     0.51852,     0.51952,     0.52052,     0.52152,     0.52252,     0.52352,     0.52452,     0.52553,     0.52653,     0.52753,\n",
      "           0.52853,     0.52953,     0.53053,     0.53153,     0.53253,     0.53353,     0.53453,     0.53554,     0.53654,     0.53754,     0.53854,     0.53954,     0.54054,     0.54154,     0.54254,     0.54354,     0.54454,     0.54555,     0.54655,     0.54755,     0.54855,     0.54955,     0.55055,     0.55155,\n",
      "           0.55255,     0.55355,     0.55455,     0.55556,     0.55656,     0.55756,     0.55856,     0.55956,     0.56056,     0.56156,     0.56256,     0.56356,     0.56456,     0.56557,     0.56657,     0.56757,     0.56857,     0.56957,     0.57057,     0.57157,     0.57257,     0.57357,     0.57457,     0.57558,\n",
      "           0.57658,     0.57758,     0.57858,     0.57958,     0.58058,     0.58158,     0.58258,     0.58358,     0.58458,     0.58559,     0.58659,     0.58759,     0.58859,     0.58959,     0.59059,     0.59159,     0.59259,     0.59359,     0.59459,      0.5956,      0.5966,      0.5976,      0.5986,      0.5996,\n",
      "            0.6006,      0.6016,      0.6026,      0.6036,      0.6046,     0.60561,     0.60661,     0.60761,     0.60861,     0.60961,     0.61061,     0.61161,     0.61261,     0.61361,     0.61461,     0.61562,     0.61662,     0.61762,     0.61862,     0.61962,     0.62062,     0.62162,     0.62262,     0.62362,\n",
      "           0.62462,     0.62563,     0.62663,     0.62763,     0.62863,     0.62963,     0.63063,     0.63163,     0.63263,     0.63363,     0.63463,     0.63564,     0.63664,     0.63764,     0.63864,     0.63964,     0.64064,     0.64164,     0.64264,     0.64364,     0.64464,     0.64565,     0.64665,     0.64765,\n",
      "           0.64865,     0.64965,     0.65065,     0.65165,     0.65265,     0.65365,     0.65465,     0.65566,     0.65666,     0.65766,     0.65866,     0.65966,     0.66066,     0.66166,     0.66266,     0.66366,     0.66466,     0.66567,     0.66667,     0.66767,     0.66867,     0.66967,     0.67067,     0.67167,\n",
      "           0.67267,     0.67367,     0.67467,     0.67568,     0.67668,     0.67768,     0.67868,     0.67968,     0.68068,     0.68168,     0.68268,     0.68368,     0.68468,     0.68569,     0.68669,     0.68769,     0.68869,     0.68969,     0.69069,     0.69169,     0.69269,     0.69369,     0.69469,      0.6957,\n",
      "            0.6967,      0.6977,      0.6987,      0.6997,      0.7007,      0.7017,      0.7027,      0.7037,      0.7047,     0.70571,     0.70671,     0.70771,     0.70871,     0.70971,     0.71071,     0.71171,     0.71271,     0.71371,     0.71471,     0.71572,     0.71672,     0.71772,     0.71872,     0.71972,\n",
      "           0.72072,     0.72172,     0.72272,     0.72372,     0.72472,     0.72573,     0.72673,     0.72773,     0.72873,     0.72973,     0.73073,     0.73173,     0.73273,     0.73373,     0.73473,     0.73574,     0.73674,     0.73774,     0.73874,     0.73974,     0.74074,     0.74174,     0.74274,     0.74374,\n",
      "           0.74474,     0.74575,     0.74675,     0.74775,     0.74875,     0.74975,     0.75075,     0.75175,     0.75275,     0.75375,     0.75475,     0.75576,     0.75676,     0.75776,     0.75876,     0.75976,     0.76076,     0.76176,     0.76276,     0.76376,     0.76476,     0.76577,     0.76677,     0.76777,\n",
      "           0.76877,     0.76977,     0.77077,     0.77177,     0.77277,     0.77377,     0.77477,     0.77578,     0.77678,     0.77778,     0.77878,     0.77978,     0.78078,     0.78178,     0.78278,     0.78378,     0.78478,     0.78579,     0.78679,     0.78779,     0.78879,     0.78979,     0.79079,     0.79179,\n",
      "           0.79279,     0.79379,     0.79479,      0.7958,      0.7968,      0.7978,      0.7988,      0.7998,      0.8008,      0.8018,      0.8028,      0.8038,      0.8048,     0.80581,     0.80681,     0.80781,     0.80881,     0.80981,     0.81081,     0.81181,     0.81281,     0.81381,     0.81481,     0.81582,\n",
      "           0.81682,     0.81782,     0.81882,     0.81982,     0.82082,     0.82182,     0.82282,     0.82382,     0.82482,     0.82583,     0.82683,     0.82783,     0.82883,     0.82983,     0.83083,     0.83183,     0.83283,     0.83383,     0.83483,     0.83584,     0.83684,     0.83784,     0.83884,     0.83984,\n",
      "           0.84084,     0.84184,     0.84284,     0.84384,     0.84484,     0.84585,     0.84685,     0.84785,     0.84885,     0.84985,     0.85085,     0.85185,     0.85285,     0.85385,     0.85485,     0.85586,     0.85686,     0.85786,     0.85886,     0.85986,     0.86086,     0.86186,     0.86286,     0.86386,\n",
      "           0.86486,     0.86587,     0.86687,     0.86787,     0.86887,     0.86987,     0.87087,     0.87187,     0.87287,     0.87387,     0.87487,     0.87588,     0.87688,     0.87788,     0.87888,     0.87988,     0.88088,     0.88188,     0.88288,     0.88388,     0.88488,     0.88589,     0.88689,     0.88789,\n",
      "           0.88889,     0.88989,     0.89089,     0.89189,     0.89289,     0.89389,     0.89489,      0.8959,      0.8969,      0.8979,      0.8989,      0.8999,      0.9009,      0.9019,      0.9029,      0.9039,      0.9049,     0.90591,     0.90691,     0.90791,     0.90891,     0.90991,     0.91091,     0.91191,\n",
      "           0.91291,     0.91391,     0.91491,     0.91592,     0.91692,     0.91792,     0.91892,     0.91992,     0.92092,     0.92192,     0.92292,     0.92392,     0.92492,     0.92593,     0.92693,     0.92793,     0.92893,     0.92993,     0.93093,     0.93193,     0.93293,     0.93393,     0.93493,     0.93594,\n",
      "           0.93694,     0.93794,     0.93894,     0.93994,     0.94094,     0.94194,     0.94294,     0.94394,     0.94494,     0.94595,     0.94695,     0.94795,     0.94895,     0.94995,     0.95095,     0.95195,     0.95295,     0.95395,     0.95495,     0.95596,     0.95696,     0.95796,     0.95896,     0.95996,\n",
      "           0.96096,     0.96196,     0.96296,     0.96396,     0.96496,     0.96597,     0.96697,     0.96797,     0.96897,     0.96997,     0.97097,     0.97197,     0.97297,     0.97397,     0.97497,     0.97598,     0.97698,     0.97798,     0.97898,     0.97998,     0.98098,     0.98198,     0.98298,     0.98398,\n",
      "           0.98498,     0.98599,     0.98699,     0.98799,     0.98899,     0.98999,     0.99099,     0.99199,     0.99299,     0.99399,     0.99499,       0.996,       0.997,       0.998,       0.999,           1]), array([[    0.91449,     0.91449,     0.91386,     0.91259,     0.91133,     0.90986,     0.90901,     0.90775,     0.90649,     0.90375,     0.90143,     0.89996,     0.89701,     0.89511,     0.89343,     0.89195,     0.88964,     0.88774,     0.88627,     0.88521,     0.88311,     0.88184,     0.88121,\n",
      "            0.88058,     0.88016,     0.87932,     0.87869,       0.877,     0.87658,     0.87553,     0.87532,     0.87489,     0.87447,     0.87342,     0.87279,     0.87195,     0.87152,     0.87131,     0.87068,     0.87047,     0.86999,     0.86963,     0.86942,       0.869,       0.869,     0.86837,\n",
      "            0.86837,     0.86794,     0.86794,     0.86752,     0.86731,     0.86689,     0.86626,     0.86542,       0.865,       0.865,     0.86457,     0.86457,     0.86415,     0.86331,     0.86289,     0.86268,     0.86247,     0.86226,     0.86184,     0.86163,     0.86163,     0.86099,     0.86057,\n",
      "            0.86015,     0.85952,     0.85931,     0.85889,     0.85805,     0.85783,     0.85783,     0.85749,     0.85699,     0.85573,     0.85565,     0.85489,     0.85425,     0.85383,     0.85383,      0.8532,     0.85299,     0.85278,     0.85278,     0.85215,     0.85173,     0.85152,      0.8511,\n",
      "            0.85025,     0.85004,     0.84954,     0.84899,     0.84899,     0.84899,     0.84878,     0.84836,     0.84836,     0.84794,     0.84773,      0.8473,     0.84688,     0.84646,     0.84625,     0.84625,     0.84625,     0.84625,     0.84604,     0.84604,      0.8458,     0.84562,     0.84541,\n",
      "            0.84499,     0.84474,     0.84436,     0.84414,     0.84414,     0.84414,     0.84372,     0.84351,     0.84309,     0.84288,     0.84267,     0.84246,     0.84183,     0.84162,     0.84162,     0.84162,     0.84162,     0.84141,     0.84099,     0.84099,     0.84078,     0.84078,     0.84078,\n",
      "            0.84035,     0.83993,     0.83993,     0.83972,     0.83936,     0.83846,     0.83846,     0.83825,     0.83804,     0.83804,     0.83804,     0.83804,     0.83762,     0.83762,      0.8373,     0.83677,     0.83656,     0.83614,     0.83572,     0.83509,     0.83509,     0.83491,     0.83425,\n",
      "            0.83362,     0.83298,     0.83298,     0.83298,     0.83256,     0.83214,     0.83193,     0.83139,     0.83109,     0.83088,     0.83088,     0.83024,     0.83003,     0.82982,     0.82982,     0.82982,     0.82961,     0.82898,     0.82856,     0.82827,     0.82814,     0.82793,     0.82772,\n",
      "            0.82772,     0.82709,     0.82709,     0.82666,     0.82663,     0.82537,     0.82477,     0.82456,     0.82435,      0.8235,     0.82329,     0.82329,     0.82216,     0.82161,     0.82137,     0.82056,     0.82035,     0.82035,     0.81992,     0.81992,     0.81971,     0.81929,     0.81908,\n",
      "            0.81887,     0.81887,     0.81834,     0.81803,     0.81782,     0.81748,      0.8174,      0.8164,     0.81634,     0.81634,     0.81584,      0.8155,     0.81466,     0.81403,     0.81396,     0.81356,     0.81262,     0.81234,     0.81202,     0.81157,     0.81129,     0.81108,     0.81066,\n",
      "            0.81003,     0.80981,     0.80939,     0.80918,     0.80855,     0.80855,     0.80834,     0.80792,     0.80792,     0.80792,     0.80792,     0.80729,     0.80729,     0.80721,     0.80622,     0.80585,      0.8056,     0.80497,     0.80497,     0.80482,     0.80457,     0.80446,      0.8036,\n",
      "            0.80331,     0.80286,     0.80245,     0.80181,     0.80181,     0.80181,     0.80139,     0.80091,     0.80055,     0.80014,     0.79992,     0.79951,     0.79949,     0.79844,     0.79823,     0.79802,     0.79802,     0.79802,     0.79802,     0.79791,     0.79781,     0.79761,      0.7976,\n",
      "            0.79718,     0.79676,     0.79612,     0.79528,     0.79486,     0.79432,     0.79381,      0.7936,      0.7936,     0.79297,     0.79253,     0.79221,     0.79212,     0.79191,     0.79128,     0.79072,     0.79044,     0.79035,     0.79023,     0.78981,      0.7896,     0.78919,     0.78917,\n",
      "            0.78917,     0.78902,     0.78875,     0.78815,      0.7877,     0.78758,     0.78718,     0.78686,     0.78665,     0.78644,     0.78594,     0.78567,     0.78502,     0.78434,     0.78401,       0.783,     0.78265,     0.78243,     0.78203,      0.7818,      0.7818,     0.78157,     0.78082,\n",
      "            0.78074,     0.78038,     0.78012,     0.77985,     0.77949,     0.77949,     0.77885,       0.778,      0.7775,     0.77669,      0.7763,      0.7757,     0.77548,     0.77546,     0.77478,     0.77403,     0.77355,     0.77338,     0.77308,     0.77258,     0.77225,     0.77107,     0.77106,\n",
      "            0.77085,     0.77064,     0.77022,     0.77022,      0.7698,     0.76974,     0.76923,     0.76846,     0.76815,     0.76748,     0.76725,     0.76673,     0.76643,     0.76631,     0.76612,     0.76532,     0.76495,     0.76443,     0.76411,      0.7639,      0.7639,     0.76386,     0.76278,\n",
      "            0.76198,     0.76179,     0.76117,     0.76074,      0.7602,     0.75939,     0.75927,       0.758,     0.75779,     0.75753,     0.75654,     0.75598,     0.75572,     0.75548,      0.7554,     0.75463,     0.75435,     0.75421,     0.75316,     0.75265,     0.75253,     0.75189,     0.75131,\n",
      "            0.75044,     0.75042,     0.75021,     0.74952,     0.74853,     0.74815,      0.7481,     0.74795,     0.74737,     0.74701,     0.74649,     0.74642,     0.74606,     0.74566,     0.74504,     0.74481,     0.74447,     0.74389,     0.74368,     0.74305,     0.74255,       0.742,     0.74158,\n",
      "            0.74136,     0.74069,     0.74031,     0.73959,     0.73883,     0.73853,     0.73806,     0.73736,     0.73669,     0.73609,      0.7356,     0.73505,     0.73495,     0.73457,     0.73399,     0.73394,     0.73367,     0.73336,     0.73315,     0.73278,     0.73252,     0.73252,     0.73251,\n",
      "            0.73241,     0.73231,     0.73062,     0.73057,     0.72992,     0.72915,     0.72852,     0.72784,     0.72764,     0.72721,     0.72676,     0.72621,     0.72557,     0.72536,     0.72473,     0.72452,     0.72407,     0.72312,     0.72243,     0.72201,     0.72107,     0.72083,     0.72051,\n",
      "             0.7203,     0.72009,     0.71988,     0.71949,     0.71892,     0.71841,     0.71813,     0.71735,     0.71693,     0.71659,     0.71558,     0.71498,     0.71411,     0.71328,     0.71234,     0.71128,     0.71064,     0.70956,     0.70949,     0.70872,     0.70833,     0.70808,     0.70792,\n",
      "            0.70788,      0.7077,      0.7075,     0.70718,     0.70703,     0.70614,      0.7055,     0.70488,      0.7043,     0.70342,      0.7024,     0.70219,     0.70148,     0.70114,     0.70107,     0.70064,     0.70022,     0.70006,     0.69945,     0.69945,     0.69912,     0.69903,     0.69859,\n",
      "            0.69769,     0.69732,     0.69629,     0.69574,     0.69533,      0.6945,     0.69402,     0.69346,     0.69314,     0.69281,     0.69253,     0.69185,     0.69145,     0.69139,     0.69082,     0.69031,     0.68955,     0.68923,     0.68882,     0.68831,     0.68754,     0.68682,     0.68526,\n",
      "            0.68498,      0.6844,     0.68385,     0.68345,     0.68341,     0.68325,     0.68295,     0.68169,      0.6813,     0.68116,     0.68087,     0.68029,     0.68008,     0.67937,     0.67923,     0.67814,     0.67781,     0.67677,     0.67627,     0.67582,     0.67524,     0.67471,     0.67418,\n",
      "            0.67402,     0.67247,     0.67216,     0.67165,     0.67165,     0.67087,     0.67033,     0.66968,     0.66956,      0.6692,     0.66891,     0.66867,     0.66819,     0.66761,     0.66699,      0.6667,     0.66596,     0.66557,     0.66492,     0.66423,     0.66411,     0.66375,     0.66291,\n",
      "            0.66247,     0.66161,     0.66108,     0.66083,      0.6607,      0.6603,     0.65986,      0.6593,     0.65795,     0.65714,     0.65633,     0.65532,     0.65429,     0.65361,     0.65303,     0.65291,      0.6519,     0.65127,     0.65042,     0.64983,     0.64931,     0.64905,      0.6485,\n",
      "            0.64774,     0.64706,     0.64605,     0.64583,     0.64446,     0.64386,     0.64309,     0.64227,     0.64152,     0.64072,     0.63969,     0.63901,      0.6389,     0.63871,     0.63813,     0.63759,     0.63721,     0.63665,     0.63613,     0.63564,     0.63554,     0.63543,     0.63533,\n",
      "            0.63502,     0.63412,     0.63291,      0.6321,     0.63147,     0.63072,     0.62964,     0.62886,     0.62831,     0.62726,     0.62673,     0.62602,      0.6246,     0.62349,     0.62279,     0.62165,     0.62097,     0.62045,     0.62029,      0.6197,     0.61848,     0.61779,     0.61695,\n",
      "            0.61672,     0.61576,     0.61515,     0.61406,     0.61357,     0.61324,     0.61289,     0.61272,     0.61169,     0.61116,     0.61036,     0.60948,     0.60932,     0.60889,     0.60799,     0.60765,     0.60736,     0.60616,     0.60586,     0.60557,     0.60469,     0.60421,     0.60365,\n",
      "            0.60234,     0.60217,     0.60127,       0.601,     0.60049,     0.59979,     0.59943,     0.59885,     0.59812,     0.59765,     0.59702,     0.59667,     0.59618,     0.59526,     0.59386,     0.59313,      0.5923,     0.59191,     0.59109,      0.5902,     0.58976,     0.58878,     0.58831,\n",
      "            0.58802,     0.58786,      0.5872,      0.5862,     0.58589,     0.58488,      0.5843,     0.58357,     0.58245,     0.58196,     0.58088,     0.58046,     0.57967,     0.57913,     0.57868,      0.5781,     0.57713,      0.5759,     0.57546,     0.57492,      0.5736,     0.57262,     0.57197,\n",
      "            0.57113,     0.57077,     0.57037,      0.5694,     0.56834,     0.56797,     0.56701,     0.56521,     0.56389,     0.56288,      0.5621,     0.56154,     0.56094,     0.55932,     0.55828,     0.55705,     0.55623,     0.55557,     0.55456,       0.554,     0.55282,     0.55097,     0.55042,\n",
      "            0.54985,     0.54893,     0.54821,     0.54787,     0.54672,     0.54655,     0.54568,     0.54504,     0.54338,     0.54216,     0.54065,     0.54014,     0.53884,      0.5377,     0.53718,     0.53637,     0.53602,      0.5352,     0.53433,     0.53371,      0.5328,     0.53155,     0.53055,\n",
      "            0.52971,     0.52869,     0.52801,     0.52736,     0.52645,     0.52563,     0.52512,     0.52326,     0.52191,     0.52038,     0.51905,     0.51747,     0.51724,     0.51636,     0.51582,     0.51365,     0.51219,     0.51112,     0.50893,     0.50758,     0.50578,     0.50359,     0.50225,\n",
      "            0.50128,     0.50022,     0.49767,     0.49678,     0.49511,     0.49325,     0.49191,     0.49028,     0.48866,     0.48622,     0.48497,     0.48407,     0.48203,      0.4805,     0.47935,     0.47717,     0.47499,     0.47268,     0.47072,     0.46913,     0.46799,     0.46633,     0.46327,\n",
      "            0.45978,     0.45815,     0.45634,     0.45541,     0.45354,     0.45042,     0.44822,     0.44655,     0.44472,     0.44213,      0.4395,     0.43746,     0.43519,     0.43321,     0.43046,     0.42812,     0.42456,     0.42176,     0.41917,     0.41638,     0.41308,     0.41011,     0.40622,\n",
      "            0.40281,     0.39974,     0.39676,     0.39468,     0.39171,     0.38844,     0.38465,     0.38063,     0.37775,     0.37571,     0.37471,     0.37087,     0.36756,     0.36437,     0.36048,     0.35764,     0.35486,     0.35324,      0.3494,     0.34498,     0.34083,      0.3378,     0.33425,\n",
      "            0.32813,     0.32379,     0.31964,     0.31627,     0.31321,      0.3092,     0.30256,     0.29939,     0.29415,     0.29013,     0.28467,     0.28023,     0.27545,     0.27115,     0.26633,     0.26103,     0.25822,     0.25349,     0.24919,     0.24329,     0.23759,     0.23347,     0.22865,\n",
      "            0.22497,     0.21973,     0.21418,     0.21038,     0.20433,     0.19768,      0.1918,     0.18558,     0.18071,     0.17499,     0.16943,     0.16605,      0.1618,     0.15468,     0.14943,     0.14512,     0.13918,     0.13481,     0.13064,     0.12681,     0.12151,     0.11647,     0.10934,\n",
      "            0.10502,     0.10026,    0.095066,    0.090691,    0.087305,    0.083021,    0.079403,    0.073101,    0.069474,    0.065143,    0.060567,    0.056896,    0.053762,    0.050029,    0.047045,    0.044026,    0.041589,    0.038723,    0.036626,     0.03247,    0.029263,    0.026951,    0.024641,\n",
      "           0.022352,    0.020877,    0.019536,    0.017041,    0.014546,    0.013103,      0.0114,   0.0098408,   0.0091295,   0.0079056,   0.0069514,   0.0053513,   0.0043077,    0.004074,   0.0038839,    0.003653,   0.0032187,   0.0027944,    0.002088,   0.0013977,   0.0010097,   0.0008945,  0.00081965,\n",
      "         0.00077804,  0.00073643,  0.00069482,  0.00065321,  0.00055926,  0.00039501,           0,           0,           0,           0,           0,           0,           0,           0,           0,           0,           0,           0,           0,           0,           0,           0,           0,\n",
      "                  0,           0,           0,           0,           0,           0,           0,           0,           0,           0,           0,           0,           0,           0,           0,           0,           0,           0,           0,           0,           0,           0,           0,\n",
      "                  0,           0,           0,           0,           0,           0,           0,           0,           0,           0,           0]]), 'Confidence', 'Recall']]\n",
      "fitness: 0.5777788802389829\n",
      "keys: ['metrics/precision(B)', 'metrics/recall(B)', 'metrics/mAP50(B)', 'metrics/mAP50-95(B)']\n",
      "maps: array([    0.54593])\n",
      "names: {0: 'bee'}\n",
      "plot: True\n",
      "results_dict: {'metrics/precision(B)': 0.906495772596341, 'metrics/recall(B)': 0.7820285394978714, 'metrics/mAP50(B)': 0.8643809557892673, 'metrics/mAP50-95(B)': 0.5459342051778402, 'fitness': 0.5777788802389829}\n",
      "save_dir: WindowsPath('runs/detect/train412')\n",
      "speed: {'preprocess': 0.4229231799473756, 'inference': 5.986560798241293, 'loss': 0.0, 'postprocess': 0.255063883808607}\n",
      "task: 'detect'\n"
     ]
    }
   ],
   "source": [
    "result = model.train(data='config.yaml')\n",
    "print(result)\n",
    "print(model.val())\n"
   ]
  }
 ],
 "metadata": {
  "kernelspec": {
   "display_name": "Python 3",
   "language": "python",
   "name": "python3"
  },
  "language_info": {
   "codemirror_mode": {
    "name": "ipython",
    "version": 3
   },
   "file_extension": ".py",
   "mimetype": "text/x-python",
   "name": "python",
   "nbconvert_exporter": "python",
   "pygments_lexer": "ipython3",
   "version": "3.12.0"
  }
 },
 "nbformat": 4,
 "nbformat_minor": 2
}
