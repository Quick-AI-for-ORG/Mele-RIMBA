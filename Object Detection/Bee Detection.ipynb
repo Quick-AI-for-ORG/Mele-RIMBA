{
 "cells": [
  {
   "cell_type": "code",
   "execution_count": 1,
   "metadata": {},
   "outputs": [
    {
     "name": "stdout",
     "output_type": "stream",
     "text": [
      "True\n",
      "12.4\n",
      "2.5.1+cu124\n",
      "0.20.1+cu124\n"
     ]
    }
   ],
   "source": [
    "from ultralytics import YOLO\n",
    "import torch\n",
    "import torchvision\n",
    "print(torch.cuda.is_available())\n",
    "print(torch.version.cuda)\n",
    "print(torch.__version__)\n",
    "print(torchvision.__version__)"
   ]
  },
  {
   "cell_type": "code",
   "execution_count": null,
   "metadata": {},
   "outputs": [],
   "source": [
    "models=[ YOLO(\"yolov10n.pt\")]"
   ]
  },
  {
   "cell_type": "code",
   "execution_count": null,
   "metadata": {},
   "outputs": [
    {
     "name": "stdout",
     "output_type": "stream",
     "text": [
      "New https://pypi.org/project/ultralytics/8.3.33 available  Update with 'pip install -U ultralytics'\n",
      "Ultralytics YOLOv8.2.101  Python-3.12.0 torch-2.5.1+cu124 CUDA:0 (NVIDIA GeForce RTX 3050 Ti Laptop GPU, 4096MiB)\n",
      "\u001b[34m\u001b[1mengine\\trainer: \u001b[0mtask=detect, mode=train, model=yolov10n.pt, data=config.yaml, epochs=100, time=None, patience=100, batch=16, imgsz=640, save=True, save_period=-1, cache=False, device=None, workers=8, project=None, name=train35, exist_ok=False, pretrained=True, optimizer=auto, verbose=True, seed=0, deterministic=True, single_cls=False, rect=False, cos_lr=False, close_mosaic=10, resume=False, amp=True, fraction=1.0, profile=False, freeze=None, multi_scale=False, overlap_mask=True, mask_ratio=4, dropout=0.0, val=True, split=val, save_json=False, save_hybrid=False, conf=None, iou=0.7, max_det=300, half=False, dnn=False, plots=True, source=None, vid_stride=1, stream_buffer=False, visualize=False, augment=False, agnostic_nms=False, classes=None, retina_masks=False, embed=None, show=False, save_frames=False, save_txt=False, save_conf=False, save_crop=False, show_labels=True, show_conf=True, show_boxes=True, line_width=None, format=torchscript, keras=False, optimize=False, int8=False, dynamic=False, simplify=True, opset=None, workspace=4, nms=False, lr0=0.01, lrf=0.01, momentum=0.937, weight_decay=0.0005, warmup_epochs=3.0, warmup_momentum=0.8, warmup_bias_lr=0.1, box=7.5, cls=0.5, dfl=1.5, pose=12.0, kobj=1.0, label_smoothing=0.0, nbs=64, hsv_h=0.015, hsv_s=0.7, hsv_v=0.4, degrees=0.0, translate=0.1, scale=0.5, shear=0.0, perspective=0.0, flipud=0.0, fliplr=0.5, bgr=0.0, mosaic=1.0, mixup=0.0, copy_paste=0.0, auto_augment=randaugment, erasing=0.4, crop_fraction=1.0, cfg=None, tracker=botsort.yaml, save_dir=runs\\detect\\train35\n",
      "Overriding model.yaml nc=80 with nc=1\n",
      "\n",
      "                   from  n    params  module                                       arguments                     \n",
      "  0                  -1  1       464  ultralytics.nn.modules.conv.Conv             [3, 16, 3, 2]                 \n",
      "  1                  -1  1      4672  ultralytics.nn.modules.conv.Conv             [16, 32, 3, 2]                \n",
      "  2                  -1  1      7360  ultralytics.nn.modules.block.C2f             [32, 32, 1, True]             \n",
      "  3                  -1  1     18560  ultralytics.nn.modules.conv.Conv             [32, 64, 3, 2]                \n",
      "  4                  -1  2     49664  ultralytics.nn.modules.block.C2f             [64, 64, 2, True]             \n",
      "  5                  -1  1      9856  ultralytics.nn.modules.block.SCDown          [64, 128, 3, 2]               \n",
      "  6                  -1  2    197632  ultralytics.nn.modules.block.C2f             [128, 128, 2, True]           \n",
      "  7                  -1  1     36096  ultralytics.nn.modules.block.SCDown          [128, 256, 3, 2]              \n",
      "  8                  -1  1    460288  ultralytics.nn.modules.block.C2f             [256, 256, 1, True]           \n",
      "  9                  -1  1    164608  ultralytics.nn.modules.block.SPPF            [256, 256, 5]                 \n",
      " 10                  -1  1    249728  ultralytics.nn.modules.block.PSA             [256, 256]                    \n",
      " 11                  -1  1         0  torch.nn.modules.upsampling.Upsample         [None, 2, 'nearest']          \n",
      " 12             [-1, 6]  1         0  ultralytics.nn.modules.conv.Concat           [1]                           \n",
      " 13                  -1  1    148224  ultralytics.nn.modules.block.C2f             [384, 128, 1]                 \n",
      " 14                  -1  1         0  torch.nn.modules.upsampling.Upsample         [None, 2, 'nearest']          \n",
      " 15             [-1, 4]  1         0  ultralytics.nn.modules.conv.Concat           [1]                           \n",
      " 16                  -1  1     37248  ultralytics.nn.modules.block.C2f             [192, 64, 1]                  \n",
      " 17                  -1  1     36992  ultralytics.nn.modules.conv.Conv             [64, 64, 3, 2]                \n",
      " 18            [-1, 13]  1         0  ultralytics.nn.modules.conv.Concat           [1]                           \n",
      " 19                  -1  1    123648  ultralytics.nn.modules.block.C2f             [192, 128, 1]                 \n",
      " 20                  -1  1     18048  ultralytics.nn.modules.block.SCDown          [128, 128, 3, 2]              \n",
      " 21            [-1, 10]  1         0  ultralytics.nn.modules.conv.Concat           [1]                           \n",
      " 22                  -1  1    282624  ultralytics.nn.modules.block.C2fCIB          [384, 256, 1, True, True]     \n",
      " 23        [16, 19, 22]  1    861718  ultralytics.nn.modules.head.v10Detect        [1, [64, 128, 256]]           \n",
      "YOLOv10n summary: 385 layers, 2,707,430 parameters, 2,707,414 gradients, 8.4 GFLOPs\n",
      "\n",
      "Transferred 493/595 items from pretrained weights\n",
      "\u001b[34m\u001b[1mTensorBoard: \u001b[0mStart with 'tensorboard --logdir runs\\detect\\train35', view at http://localhost:6006/\n",
      "Freezing layer 'model.23.dfl.conv.weight'\n",
      "\u001b[34m\u001b[1mAMP: \u001b[0mrunning Automatic Mixed Precision (AMP) checks with YOLOv8n...\n",
      "\u001b[34m\u001b[1mAMP: \u001b[0mchecks passed \n"
     ]
    },
    {
     "name": "stderr",
     "output_type": "stream",
     "text": [
      "\u001b[34m\u001b[1mtrain: \u001b[0mScanning C:\\Users\\Khaled\\Documents\\GitHub\\Mele-RIMBA\\Datasets\\For YOLO\\Bee\\labels\\train.cache... 504 images, 144 backgrounds, 0 corrupt: 100%|██████████| 504/504 [00:00<?, ?it/s]\n",
      "\u001b[34m\u001b[1mval: \u001b[0mScanning C:\\Users\\Khaled\\Documents\\GitHub\\Mele-RIMBA\\Datasets\\For YOLO\\Bee\\labels\\val.cache... 117 images, 17 backgrounds, 0 corrupt: 100%|██████████| 117/117 [00:00<?, ?it/s]\n"
     ]
    },
    {
     "name": "stdout",
     "output_type": "stream",
     "text": [
      "Plotting labels to runs\\detect\\train35\\labels.jpg... \n",
      "\u001b[34m\u001b[1moptimizer:\u001b[0m 'optimizer=auto' found, ignoring 'lr0=0.01' and 'momentum=0.937' and determining best 'optimizer', 'lr0' and 'momentum' automatically... \n",
      "\u001b[34m\u001b[1moptimizer:\u001b[0m AdamW(lr=0.002, momentum=0.9) with parameter groups 95 weight(decay=0.0), 108 weight(decay=0.0005), 107 bias(decay=0.0)\n",
      "\u001b[34m\u001b[1mTensorBoard: \u001b[0mmodel graph visualization added \n",
      "Image sizes 640 train, 640 val\n",
      "Using 8 dataloader workers\n",
      "Logging results to \u001b[1mruns\\detect\\train35\u001b[0m\n",
      "Starting training for 100 epochs...\n",
      "\n",
      "      Epoch    GPU_mem   box_loss   cls_loss   dfl_loss  Instances       Size\n"
     ]
    },
    {
     "name": "stderr",
     "output_type": "stream",
     "text": [
      "      1/100      4.48G      5.026      5.836      2.353        263        640: 100%|██████████| 32/32 [00:24<00:00,  1.33it/s]\n",
      "                 Class     Images  Instances      Box(P          R      mAP50  mAP50-95): 100%|██████████| 4/4 [00:04<00:00,  1.19s/it]"
     ]
    },
    {
     "name": "stdout",
     "output_type": "stream",
     "text": [
      "                   all        117       2458   0.000798     0.0114   0.000441   9.58e-05\n"
     ]
    },
    {
     "name": "stderr",
     "output_type": "stream",
     "text": [
      "\n"
     ]
    },
    {
     "name": "stdout",
     "output_type": "stream",
     "text": [
      "\n",
      "      Epoch    GPU_mem   box_loss   cls_loss   dfl_loss  Instances       Size\n"
     ]
    },
    {
     "name": "stderr",
     "output_type": "stream",
     "text": [
      "      2/100       4.7G      4.717      3.979       2.21        179        640: 100%|██████████| 32/32 [00:19<00:00,  1.68it/s]\n",
      "                 Class     Images  Instances      Box(P          R      mAP50  mAP50-95): 100%|██████████| 4/4 [00:05<00:00,  1.39s/it]"
     ]
    },
    {
     "name": "stdout",
     "output_type": "stream",
     "text": [
      "                   all        117       2458   8.55e-05    0.00122    4.4e-05   1.15e-05\n"
     ]
    },
    {
     "name": "stderr",
     "output_type": "stream",
     "text": [
      "\n"
     ]
    },
    {
     "name": "stdout",
     "output_type": "stream",
     "text": [
      "\n",
      "      Epoch    GPU_mem   box_loss   cls_loss   dfl_loss  Instances       Size\n"
     ]
    },
    {
     "name": "stderr",
     "output_type": "stream",
     "text": [
      "      3/100       4.3G      4.554      3.642      2.161        253        640: 100%|██████████| 32/32 [00:19<00:00,  1.65it/s]\n",
      "                 Class     Images  Instances      Box(P          R      mAP50  mAP50-95): 100%|██████████| 4/4 [00:05<00:00,  1.34s/it]"
     ]
    },
    {
     "name": "stdout",
     "output_type": "stream",
     "text": [
      "                   all        117       2458     0.0348      0.497      0.284      0.113\n"
     ]
    },
    {
     "name": "stderr",
     "output_type": "stream",
     "text": [
      "\n"
     ]
    },
    {
     "name": "stdout",
     "output_type": "stream",
     "text": [
      "\n",
      "      Epoch    GPU_mem   box_loss   cls_loss   dfl_loss  Instances       Size\n"
     ]
    },
    {
     "name": "stderr",
     "output_type": "stream",
     "text": [
      "      4/100      4.21G      4.438      3.417       2.13         94        640: 100%|██████████| 32/32 [00:18<00:00,  1.77it/s]\n",
      "                 Class     Images  Instances      Box(P          R      mAP50  mAP50-95): 100%|██████████| 4/4 [00:04<00:00,  1.02s/it]\n"
     ]
    },
    {
     "name": "stdout",
     "output_type": "stream",
     "text": [
      "                   all        117       2458      0.795      0.465      0.593       0.31\n",
      "\n",
      "      Epoch    GPU_mem   box_loss   cls_loss   dfl_loss  Instances       Size\n"
     ]
    },
    {
     "name": "stderr",
     "output_type": "stream",
     "text": [
      "      5/100      4.41G      4.286       3.12      2.082        133        640: 100%|██████████| 32/32 [00:22<00:00,  1.43it/s]\n",
      "                 Class     Images  Instances      Box(P          R      mAP50  mAP50-95): 100%|██████████| 4/4 [00:04<00:00,  1.11s/it]\n"
     ]
    },
    {
     "name": "stdout",
     "output_type": "stream",
     "text": [
      "                   all        117       2458      0.739      0.522      0.587      0.287\n",
      "\n",
      "      Epoch    GPU_mem   box_loss   cls_loss   dfl_loss  Instances       Size\n"
     ]
    },
    {
     "name": "stderr",
     "output_type": "stream",
     "text": [
      "      6/100      3.77G      4.233      3.029      2.089        206        640: 100%|██████████| 32/32 [00:11<00:00,  2.76it/s]\n",
      "                 Class     Images  Instances      Box(P          R      mAP50  mAP50-95): 100%|██████████| 4/4 [00:04<00:00,  1.09s/it]\n"
     ]
    },
    {
     "name": "stdout",
     "output_type": "stream",
     "text": [
      "                   all        117       2458      0.751      0.573      0.642      0.366\n",
      "\n",
      "      Epoch    GPU_mem   box_loss   cls_loss   dfl_loss  Instances       Size\n"
     ]
    },
    {
     "name": "stderr",
     "output_type": "stream",
     "text": [
      "      7/100      3.92G      4.173      2.851      2.083        187        640: 100%|██████████| 32/32 [00:24<00:00,  1.28it/s]\n",
      "                 Class     Images  Instances      Box(P          R      mAP50  mAP50-95): 100%|██████████| 4/4 [00:08<00:00,  2.01s/it]"
     ]
    },
    {
     "name": "stdout",
     "output_type": "stream",
     "text": [
      "                   all        117       2458      0.766      0.594      0.653      0.341\n"
     ]
    },
    {
     "name": "stderr",
     "output_type": "stream",
     "text": [
      "\n"
     ]
    },
    {
     "name": "stdout",
     "output_type": "stream",
     "text": [
      "\n",
      "      Epoch    GPU_mem   box_loss   cls_loss   dfl_loss  Instances       Size\n"
     ]
    },
    {
     "name": "stderr",
     "output_type": "stream",
     "text": [
      "      8/100      3.76G      4.151      2.772       2.06        142        640: 100%|██████████| 32/32 [00:20<00:00,  1.55it/s]\n",
      "                 Class     Images  Instances      Box(P          R      mAP50  mAP50-95): 100%|██████████| 4/4 [00:06<00:00,  1.69s/it]"
     ]
    },
    {
     "name": "stdout",
     "output_type": "stream",
     "text": [
      "                   all        117       2458      0.775      0.584       0.64      0.352\n"
     ]
    },
    {
     "name": "stderr",
     "output_type": "stream",
     "text": [
      "\n"
     ]
    },
    {
     "name": "stdout",
     "output_type": "stream",
     "text": [
      "\n",
      "      Epoch    GPU_mem   box_loss   cls_loss   dfl_loss  Instances       Size\n"
     ]
    },
    {
     "name": "stderr",
     "output_type": "stream",
     "text": [
      "      9/100      3.87G      4.041      2.706      2.033         82        640: 100%|██████████| 32/32 [00:17<00:00,  1.86it/s]\n",
      "                 Class     Images  Instances      Box(P          R      mAP50  mAP50-95): 100%|██████████| 4/4 [00:05<00:00,  1.41s/it]"
     ]
    },
    {
     "name": "stdout",
     "output_type": "stream",
     "text": [
      "                   all        117       2458      0.821      0.586      0.676      0.386\n"
     ]
    },
    {
     "name": "stderr",
     "output_type": "stream",
     "text": [
      "\n"
     ]
    },
    {
     "name": "stdout",
     "output_type": "stream",
     "text": [
      "\n",
      "      Epoch    GPU_mem   box_loss   cls_loss   dfl_loss  Instances       Size\n"
     ]
    },
    {
     "name": "stderr",
     "output_type": "stream",
     "text": [
      "     10/100       3.9G      4.061      2.647      2.031        238        640: 100%|██████████| 32/32 [00:51<00:00,  1.62s/it]\n",
      "                 Class     Images  Instances      Box(P          R      mAP50  mAP50-95): 100%|██████████| 4/4 [00:10<00:00,  2.55s/it]\n"
     ]
    },
    {
     "name": "stdout",
     "output_type": "stream",
     "text": [
      "                   all        117       2458      0.775      0.613      0.678      0.384\n",
      "\n",
      "      Epoch    GPU_mem   box_loss   cls_loss   dfl_loss  Instances       Size\n"
     ]
    },
    {
     "name": "stderr",
     "output_type": "stream",
     "text": [
      "     11/100      4.49G      4.069      2.651      2.059        269        640: 100%|██████████| 32/32 [00:54<00:00,  1.70s/it]\n",
      "                 Class     Images  Instances      Box(P          R      mAP50  mAP50-95): 100%|██████████| 4/4 [00:06<00:00,  1.74s/it]"
     ]
    },
    {
     "name": "stdout",
     "output_type": "stream",
     "text": [
      "                   all        117       2458      0.795      0.606       0.68      0.338\n"
     ]
    },
    {
     "name": "stderr",
     "output_type": "stream",
     "text": [
      "\n"
     ]
    },
    {
     "name": "stdout",
     "output_type": "stream",
     "text": [
      "\n",
      "      Epoch    GPU_mem   box_loss   cls_loss   dfl_loss  Instances       Size\n"
     ]
    },
    {
     "name": "stderr",
     "output_type": "stream",
     "text": [
      "     12/100      3.81G      4.027      2.569      2.034        195        640: 100%|██████████| 32/32 [00:13<00:00,  2.46it/s]\n",
      "                 Class     Images  Instances      Box(P          R      mAP50  mAP50-95): 100%|██████████| 4/4 [00:04<00:00,  1.17s/it]"
     ]
    },
    {
     "name": "stdout",
     "output_type": "stream",
     "text": [
      "                   all        117       2458      0.829      0.627      0.686      0.374\n"
     ]
    },
    {
     "name": "stderr",
     "output_type": "stream",
     "text": [
      "\n"
     ]
    },
    {
     "name": "stdout",
     "output_type": "stream",
     "text": [
      "\n",
      "      Epoch    GPU_mem   box_loss   cls_loss   dfl_loss  Instances       Size\n"
     ]
    },
    {
     "name": "stderr",
     "output_type": "stream",
     "text": [
      "     13/100      4.32G      4.052      2.558      2.007        186        640: 100%|██████████| 32/32 [00:15<00:00,  2.09it/s]\n",
      "                 Class     Images  Instances      Box(P          R      mAP50  mAP50-95): 100%|██████████| 4/4 [00:05<00:00,  1.27s/it]\n"
     ]
    },
    {
     "name": "stdout",
     "output_type": "stream",
     "text": [
      "                   all        117       2458      0.796      0.619      0.668      0.385\n",
      "\n",
      "      Epoch    GPU_mem   box_loss   cls_loss   dfl_loss  Instances       Size\n"
     ]
    },
    {
     "name": "stderr",
     "output_type": "stream",
     "text": [
      "     14/100      5.19G      3.973      2.487      2.022        163        640: 100%|██████████| 32/32 [00:25<00:00,  1.24it/s]\n",
      "                 Class     Images  Instances      Box(P          R      mAP50  mAP50-95): 100%|██████████| 4/4 [00:04<00:00,  1.02s/it]"
     ]
    },
    {
     "name": "stdout",
     "output_type": "stream",
     "text": [
      "                   all        117       2458      0.813      0.625      0.688      0.386\n"
     ]
    },
    {
     "name": "stderr",
     "output_type": "stream",
     "text": [
      "\n"
     ]
    },
    {
     "name": "stdout",
     "output_type": "stream",
     "text": [
      "\n",
      "      Epoch    GPU_mem   box_loss   cls_loss   dfl_loss  Instances       Size\n"
     ]
    },
    {
     "name": "stderr",
     "output_type": "stream",
     "text": [
      "     15/100      4.89G      3.992       2.47       2.01        194        640: 100%|██████████| 32/32 [00:35<00:00,  1.10s/it]\n",
      "                 Class     Images  Instances      Box(P          R      mAP50  mAP50-95): 100%|██████████| 4/4 [00:06<00:00,  1.64s/it]"
     ]
    },
    {
     "name": "stdout",
     "output_type": "stream",
     "text": [
      "                   all        117       2458      0.813       0.64      0.704      0.412\n"
     ]
    },
    {
     "name": "stderr",
     "output_type": "stream",
     "text": [
      "\n"
     ]
    },
    {
     "name": "stdout",
     "output_type": "stream",
     "text": [
      "\n",
      "      Epoch    GPU_mem   box_loss   cls_loss   dfl_loss  Instances       Size\n"
     ]
    },
    {
     "name": "stderr",
     "output_type": "stream",
     "text": [
      "     16/100      4.13G      4.082      2.589      2.022        219        640: 100%|██████████| 32/32 [00:34<00:00,  1.07s/it]\n",
      "                 Class     Images  Instances      Box(P          R      mAP50  mAP50-95): 100%|██████████| 4/4 [00:06<00:00,  1.51s/it]"
     ]
    },
    {
     "name": "stdout",
     "output_type": "stream",
     "text": [
      "                   all        117       2458      0.819      0.646      0.707      0.419\n"
     ]
    },
    {
     "name": "stderr",
     "output_type": "stream",
     "text": [
      "\n"
     ]
    },
    {
     "name": "stdout",
     "output_type": "stream",
     "text": [
      "\n",
      "      Epoch    GPU_mem   box_loss   cls_loss   dfl_loss  Instances       Size\n"
     ]
    },
    {
     "name": "stderr",
     "output_type": "stream",
     "text": [
      "     17/100      4.07G      3.862      2.343      2.005        190        640: 100%|██████████| 32/32 [00:16<00:00,  1.97it/s]\n",
      "                 Class     Images  Instances      Box(P          R      mAP50  mAP50-95): 100%|██████████| 4/4 [00:04<00:00,  1.13s/it]\n"
     ]
    },
    {
     "name": "stdout",
     "output_type": "stream",
     "text": [
      "                   all        117       2458      0.792      0.625      0.678      0.373\n",
      "\n",
      "      Epoch    GPU_mem   box_loss   cls_loss   dfl_loss  Instances       Size\n"
     ]
    },
    {
     "name": "stderr",
     "output_type": "stream",
     "text": [
      "     18/100      4.05G      3.963      2.476      2.035        234        640: 100%|██████████| 32/32 [00:17<00:00,  1.79it/s]\n",
      "                 Class     Images  Instances      Box(P          R      mAP50  mAP50-95): 100%|██████████| 4/4 [00:04<00:00,  1.22s/it]"
     ]
    },
    {
     "name": "stdout",
     "output_type": "stream",
     "text": [
      "                   all        117       2458      0.862       0.63      0.711      0.394\n"
     ]
    },
    {
     "name": "stderr",
     "output_type": "stream",
     "text": [
      "\n"
     ]
    },
    {
     "name": "stdout",
     "output_type": "stream",
     "text": [
      "\n",
      "      Epoch    GPU_mem   box_loss   cls_loss   dfl_loss  Instances       Size\n"
     ]
    },
    {
     "name": "stderr",
     "output_type": "stream",
     "text": [
      "     19/100      4.19G      3.951      2.479      2.003        154        640: 100%|██████████| 32/32 [00:51<00:00,  1.59s/it]\n",
      "                 Class     Images  Instances      Box(P          R      mAP50  mAP50-95): 100%|██████████| 4/4 [00:08<00:00,  2.10s/it]\n"
     ]
    },
    {
     "name": "stdout",
     "output_type": "stream",
     "text": [
      "                   all        117       2458      0.828      0.624      0.707      0.403\n",
      "\n",
      "      Epoch    GPU_mem   box_loss   cls_loss   dfl_loss  Instances       Size\n"
     ]
    },
    {
     "name": "stderr",
     "output_type": "stream",
     "text": [
      "     20/100      3.71G      3.875      2.388      1.991        132        640: 100%|██████████| 32/32 [00:34<00:00,  1.08s/it]\n",
      "                 Class     Images  Instances      Box(P          R      mAP50  mAP50-95): 100%|██████████| 4/4 [00:07<00:00,  1.82s/it]"
     ]
    },
    {
     "name": "stdout",
     "output_type": "stream",
     "text": [
      "                   all        117       2458      0.802      0.595       0.66       0.37\n"
     ]
    },
    {
     "name": "stderr",
     "output_type": "stream",
     "text": [
      "\n"
     ]
    },
    {
     "name": "stdout",
     "output_type": "stream",
     "text": [
      "\n",
      "      Epoch    GPU_mem   box_loss   cls_loss   dfl_loss  Instances       Size\n"
     ]
    },
    {
     "name": "stderr",
     "output_type": "stream",
     "text": [
      "     21/100      3.97G      3.882      2.396      2.003        281        640: 100%|██████████| 32/32 [00:45<00:00,  1.41s/it]\n",
      "                 Class     Images  Instances      Box(P          R      mAP50  mAP50-95): 100%|██████████| 4/4 [00:05<00:00,  1.28s/it]"
     ]
    },
    {
     "name": "stdout",
     "output_type": "stream",
     "text": [
      "                   all        117       2458      0.833      0.633      0.696      0.411\n"
     ]
    },
    {
     "name": "stderr",
     "output_type": "stream",
     "text": [
      "\n"
     ]
    },
    {
     "name": "stdout",
     "output_type": "stream",
     "text": [
      "\n",
      "      Epoch    GPU_mem   box_loss   cls_loss   dfl_loss  Instances       Size\n"
     ]
    },
    {
     "name": "stderr",
     "output_type": "stream",
     "text": [
      "     22/100      4.17G      3.812      2.295      1.965        221        640: 100%|██████████| 32/32 [00:47<00:00,  1.50s/it]\n",
      "                 Class     Images  Instances      Box(P          R      mAP50  mAP50-95): 100%|██████████| 4/4 [00:07<00:00,  1.89s/it]\n"
     ]
    },
    {
     "name": "stdout",
     "output_type": "stream",
     "text": [
      "                   all        117       2458       0.84      0.647      0.715        0.4\n",
      "\n",
      "      Epoch    GPU_mem   box_loss   cls_loss   dfl_loss  Instances       Size\n"
     ]
    },
    {
     "name": "stderr",
     "output_type": "stream",
     "text": [
      "     23/100      4.96G      3.787      2.297      1.984        143        640: 100%|██████████| 32/32 [00:30<00:00,  1.06it/s]\n",
      "                 Class     Images  Instances      Box(P          R      mAP50  mAP50-95): 100%|██████████| 4/4 [00:06<00:00,  1.69s/it]"
     ]
    },
    {
     "name": "stdout",
     "output_type": "stream",
     "text": [
      "                   all        117       2458      0.823       0.64      0.694        0.4\n"
     ]
    },
    {
     "name": "stderr",
     "output_type": "stream",
     "text": [
      "\n"
     ]
    },
    {
     "name": "stdout",
     "output_type": "stream",
     "text": [
      "\n",
      "      Epoch    GPU_mem   box_loss   cls_loss   dfl_loss  Instances       Size\n"
     ]
    },
    {
     "name": "stderr",
     "output_type": "stream",
     "text": [
      "     24/100      3.99G      3.791      2.223      1.959        404        640: 100%|██████████| 32/32 [00:16<00:00,  1.93it/s]\n",
      "                 Class     Images  Instances      Box(P          R      mAP50  mAP50-95): 100%|██████████| 4/4 [00:03<00:00,  1.03it/s]\n"
     ]
    },
    {
     "name": "stdout",
     "output_type": "stream",
     "text": [
      "                   all        117       2458      0.848      0.639      0.719      0.435\n",
      "\n",
      "      Epoch    GPU_mem   box_loss   cls_loss   dfl_loss  Instances       Size\n"
     ]
    },
    {
     "name": "stderr",
     "output_type": "stream",
     "text": [
      "     25/100       3.9G      3.819      2.316      1.983        159        640: 100%|██████████| 32/32 [00:42<00:00,  1.32s/it]\n",
      "                 Class     Images  Instances      Box(P          R      mAP50  mAP50-95): 100%|██████████| 4/4 [00:03<00:00,  1.32it/s]"
     ]
    },
    {
     "name": "stdout",
     "output_type": "stream",
     "text": [
      "                   all        117       2458      0.826      0.653      0.718      0.395\n"
     ]
    },
    {
     "name": "stderr",
     "output_type": "stream",
     "text": [
      "\n"
     ]
    },
    {
     "name": "stdout",
     "output_type": "stream",
     "text": [
      "\n",
      "      Epoch    GPU_mem   box_loss   cls_loss   dfl_loss  Instances       Size\n"
     ]
    },
    {
     "name": "stderr",
     "output_type": "stream",
     "text": [
      "     26/100      4.47G      3.816       2.27      1.968        207        640: 100%|██████████| 32/32 [00:15<00:00,  2.08it/s]\n",
      "                 Class     Images  Instances      Box(P          R      mAP50  mAP50-95): 100%|██████████| 4/4 [00:04<00:00,  1.05s/it]"
     ]
    },
    {
     "name": "stdout",
     "output_type": "stream",
     "text": [
      "                   all        117       2458      0.849       0.64      0.719      0.404\n"
     ]
    },
    {
     "name": "stderr",
     "output_type": "stream",
     "text": [
      "\n"
     ]
    },
    {
     "name": "stdout",
     "output_type": "stream",
     "text": [
      "\n",
      "      Epoch    GPU_mem   box_loss   cls_loss   dfl_loss  Instances       Size\n"
     ]
    },
    {
     "name": "stderr",
     "output_type": "stream",
     "text": [
      "     27/100      3.67G      3.834      2.329      1.976        227        640: 100%|██████████| 32/32 [00:10<00:00,  3.13it/s]\n",
      "                 Class     Images  Instances      Box(P          R      mAP50  mAP50-95): 100%|██████████| 4/4 [00:03<00:00,  1.31it/s]"
     ]
    },
    {
     "name": "stdout",
     "output_type": "stream",
     "text": [
      "                   all        117       2458      0.862      0.659      0.742      0.451\n"
     ]
    },
    {
     "name": "stderr",
     "output_type": "stream",
     "text": [
      "\n"
     ]
    },
    {
     "name": "stdout",
     "output_type": "stream",
     "text": [
      "\n",
      "      Epoch    GPU_mem   box_loss   cls_loss   dfl_loss  Instances       Size\n"
     ]
    },
    {
     "name": "stderr",
     "output_type": "stream",
     "text": [
      "     28/100      3.86G      3.851      2.361       1.99        280        640: 100%|██████████| 32/32 [00:15<00:00,  2.02it/s]\n",
      "                 Class     Images  Instances      Box(P          R      mAP50  mAP50-95): 100%|██████████| 4/4 [00:17<00:00,  4.47s/it]"
     ]
    },
    {
     "name": "stdout",
     "output_type": "stream",
     "text": [
      "                   all        117       2458      0.851      0.662      0.716      0.445\n"
     ]
    },
    {
     "name": "stderr",
     "output_type": "stream",
     "text": [
      "\n"
     ]
    },
    {
     "name": "stdout",
     "output_type": "stream",
     "text": [
      "\n",
      "      Epoch    GPU_mem   box_loss   cls_loss   dfl_loss  Instances       Size\n"
     ]
    },
    {
     "name": "stderr",
     "output_type": "stream",
     "text": [
      "     29/100      4.27G       3.83       2.35      1.987        212        640: 100%|██████████| 32/32 [00:26<00:00,  1.22it/s]\n",
      "                 Class     Images  Instances      Box(P          R      mAP50  mAP50-95): 100%|██████████| 4/4 [00:06<00:00,  1.73s/it]"
     ]
    },
    {
     "name": "stdout",
     "output_type": "stream",
     "text": [
      "                   all        117       2458      0.877       0.66      0.743      0.451\n"
     ]
    },
    {
     "name": "stderr",
     "output_type": "stream",
     "text": [
      "\n"
     ]
    },
    {
     "name": "stdout",
     "output_type": "stream",
     "text": [
      "\n",
      "      Epoch    GPU_mem   box_loss   cls_loss   dfl_loss  Instances       Size\n"
     ]
    },
    {
     "name": "stderr",
     "output_type": "stream",
     "text": [
      "     30/100      4.82G      3.748      2.291      1.964        221        640: 100%|██████████| 32/32 [00:31<00:00,  1.03it/s]\n",
      "                 Class     Images  Instances      Box(P          R      mAP50  mAP50-95): 100%|██████████| 4/4 [00:05<00:00,  1.26s/it]"
     ]
    },
    {
     "name": "stdout",
     "output_type": "stream",
     "text": [
      "                   all        117       2458      0.884      0.658      0.753      0.446\n"
     ]
    },
    {
     "name": "stderr",
     "output_type": "stream",
     "text": [
      "\n"
     ]
    },
    {
     "name": "stdout",
     "output_type": "stream",
     "text": [
      "\n",
      "      Epoch    GPU_mem   box_loss   cls_loss   dfl_loss  Instances       Size\n"
     ]
    },
    {
     "name": "stderr",
     "output_type": "stream",
     "text": [
      "     31/100      3.71G      3.769      2.274      1.983        210        640: 100%|██████████| 32/32 [00:11<00:00,  2.85it/s]\n",
      "                 Class     Images  Instances      Box(P          R      mAP50  mAP50-95): 100%|██████████| 4/4 [00:04<00:00,  1.16s/it]"
     ]
    },
    {
     "name": "stdout",
     "output_type": "stream",
     "text": [
      "                   all        117       2458      0.862       0.66      0.754      0.454\n"
     ]
    },
    {
     "name": "stderr",
     "output_type": "stream",
     "text": [
      "\n"
     ]
    },
    {
     "name": "stdout",
     "output_type": "stream",
     "text": [
      "\n",
      "      Epoch    GPU_mem   box_loss   cls_loss   dfl_loss  Instances       Size\n"
     ]
    },
    {
     "name": "stderr",
     "output_type": "stream",
     "text": [
      "     32/100       3.8G        3.7      2.178       1.94        116        640: 100%|██████████| 32/32 [00:12<00:00,  2.62it/s]\n",
      "                 Class     Images  Instances      Box(P          R      mAP50  mAP50-95): 100%|██████████| 4/4 [00:04<00:00,  1.03s/it]"
     ]
    },
    {
     "name": "stdout",
     "output_type": "stream",
     "text": [
      "                   all        117       2458      0.866      0.657      0.745      0.455\n"
     ]
    },
    {
     "name": "stderr",
     "output_type": "stream",
     "text": [
      "\n"
     ]
    },
    {
     "name": "stdout",
     "output_type": "stream",
     "text": [
      "\n",
      "      Epoch    GPU_mem   box_loss   cls_loss   dfl_loss  Instances       Size\n"
     ]
    },
    {
     "name": "stderr",
     "output_type": "stream",
     "text": [
      "     33/100      3.56G      3.666      2.201       1.96        201        640: 100%|██████████| 32/32 [00:09<00:00,  3.23it/s]\n",
      "                 Class     Images  Instances      Box(P          R      mAP50  mAP50-95): 100%|██████████| 4/4 [00:04<00:00,  1.18s/it]"
     ]
    },
    {
     "name": "stdout",
     "output_type": "stream",
     "text": [
      "                   all        117       2458       0.85      0.646       0.73      0.417\n"
     ]
    },
    {
     "name": "stderr",
     "output_type": "stream",
     "text": [
      "\n"
     ]
    },
    {
     "name": "stdout",
     "output_type": "stream",
     "text": [
      "\n",
      "      Epoch    GPU_mem   box_loss   cls_loss   dfl_loss  Instances       Size\n"
     ]
    },
    {
     "name": "stderr",
     "output_type": "stream",
     "text": [
      "     34/100      3.79G      3.715      2.164      1.937        323        640: 100%|██████████| 32/32 [00:13<00:00,  2.41it/s]\n",
      "                 Class     Images  Instances      Box(P          R      mAP50  mAP50-95): 100%|██████████| 4/4 [00:07<00:00,  1.84s/it]"
     ]
    },
    {
     "name": "stdout",
     "output_type": "stream",
     "text": [
      "                   all        117       2458      0.837      0.666       0.74      0.449\n"
     ]
    },
    {
     "name": "stderr",
     "output_type": "stream",
     "text": [
      "\n"
     ]
    },
    {
     "name": "stdout",
     "output_type": "stream",
     "text": [
      "\n",
      "      Epoch    GPU_mem   box_loss   cls_loss   dfl_loss  Instances       Size\n"
     ]
    },
    {
     "name": "stderr",
     "output_type": "stream",
     "text": [
      "     35/100      3.88G      3.659      2.182       1.96        137        640: 100%|██████████| 32/32 [00:17<00:00,  1.81it/s]\n",
      "                 Class     Images  Instances      Box(P          R      mAP50  mAP50-95): 100%|██████████| 4/4 [00:05<00:00,  1.34s/it]"
     ]
    },
    {
     "name": "stdout",
     "output_type": "stream",
     "text": [
      "                   all        117       2458      0.878      0.667      0.755      0.455\n"
     ]
    },
    {
     "name": "stderr",
     "output_type": "stream",
     "text": [
      "\n"
     ]
    },
    {
     "name": "stdout",
     "output_type": "stream",
     "text": [
      "\n",
      "      Epoch    GPU_mem   box_loss   cls_loss   dfl_loss  Instances       Size\n"
     ]
    },
    {
     "name": "stderr",
     "output_type": "stream",
     "text": [
      "     36/100      4.44G      3.604      2.071      1.919        365        640: 100%|██████████| 32/32 [00:22<00:00,  1.41it/s]\n",
      "                 Class     Images  Instances      Box(P          R      mAP50  mAP50-95): 100%|██████████| 4/4 [00:05<00:00,  1.39s/it]"
     ]
    },
    {
     "name": "stdout",
     "output_type": "stream",
     "text": [
      "                   all        117       2458      0.864      0.662      0.751      0.422\n"
     ]
    },
    {
     "name": "stderr",
     "output_type": "stream",
     "text": [
      "\n"
     ]
    },
    {
     "name": "stdout",
     "output_type": "stream",
     "text": [
      "\n",
      "      Epoch    GPU_mem   box_loss   cls_loss   dfl_loss  Instances       Size\n"
     ]
    },
    {
     "name": "stderr",
     "output_type": "stream",
     "text": [
      "     37/100      3.85G      3.826      2.333      1.973        132        640: 100%|██████████| 32/32 [00:18<00:00,  1.77it/s]\n",
      "                 Class     Images  Instances      Box(P          R      mAP50  mAP50-95): 100%|██████████| 4/4 [00:04<00:00,  1.16s/it]"
     ]
    },
    {
     "name": "stdout",
     "output_type": "stream",
     "text": [
      "                   all        117       2458      0.877      0.669      0.759      0.437\n"
     ]
    },
    {
     "name": "stderr",
     "output_type": "stream",
     "text": [
      "\n"
     ]
    },
    {
     "name": "stdout",
     "output_type": "stream",
     "text": [
      "\n",
      "      Epoch    GPU_mem   box_loss   cls_loss   dfl_loss  Instances       Size\n"
     ]
    },
    {
     "name": "stderr",
     "output_type": "stream",
     "text": [
      "     38/100      4.33G       3.61      2.128      1.934        194        640: 100%|██████████| 32/32 [00:22<00:00,  1.44it/s]\n",
      "                 Class     Images  Instances      Box(P          R      mAP50  mAP50-95): 100%|██████████| 4/4 [00:05<00:00,  1.26s/it]"
     ]
    },
    {
     "name": "stdout",
     "output_type": "stream",
     "text": [
      "                   all        117       2458      0.887       0.67      0.761      0.427\n"
     ]
    },
    {
     "name": "stderr",
     "output_type": "stream",
     "text": [
      "\n"
     ]
    },
    {
     "name": "stdout",
     "output_type": "stream",
     "text": [
      "\n",
      "      Epoch    GPU_mem   box_loss   cls_loss   dfl_loss  Instances       Size\n"
     ]
    },
    {
     "name": "stderr",
     "output_type": "stream",
     "text": [
      "     39/100      4.06G      3.651      2.162      1.934         65        640: 100%|██████████| 32/32 [00:20<00:00,  1.59it/s]\n",
      "                 Class     Images  Instances      Box(P          R      mAP50  mAP50-95): 100%|██████████| 4/4 [00:04<00:00,  1.16s/it]"
     ]
    },
    {
     "name": "stdout",
     "output_type": "stream",
     "text": [
      "                   all        117       2458      0.893      0.673      0.772      0.439\n"
     ]
    },
    {
     "name": "stderr",
     "output_type": "stream",
     "text": [
      "\n"
     ]
    },
    {
     "name": "stdout",
     "output_type": "stream",
     "text": [
      "\n",
      "      Epoch    GPU_mem   box_loss   cls_loss   dfl_loss  Instances       Size\n"
     ]
    },
    {
     "name": "stderr",
     "output_type": "stream",
     "text": [
      "     40/100      4.17G      3.627      2.115      1.946        254        640: 100%|██████████| 32/32 [00:20<00:00,  1.58it/s]\n",
      "                 Class     Images  Instances      Box(P          R      mAP50  mAP50-95): 100%|██████████| 4/4 [00:04<00:00,  1.09s/it]"
     ]
    },
    {
     "name": "stdout",
     "output_type": "stream",
     "text": [
      "                   all        117       2458       0.89      0.666      0.765      0.445\n"
     ]
    },
    {
     "name": "stderr",
     "output_type": "stream",
     "text": [
      "\n"
     ]
    },
    {
     "name": "stdout",
     "output_type": "stream",
     "text": [
      "\n",
      "      Epoch    GPU_mem   box_loss   cls_loss   dfl_loss  Instances       Size\n"
     ]
    },
    {
     "name": "stderr",
     "output_type": "stream",
     "text": [
      "     41/100      4.01G      3.618      2.095      1.932        262        640: 100%|██████████| 32/32 [00:23<00:00,  1.38it/s]\n",
      "                 Class     Images  Instances      Box(P          R      mAP50  mAP50-95): 100%|██████████| 4/4 [00:06<00:00,  1.51s/it]"
     ]
    },
    {
     "name": "stdout",
     "output_type": "stream",
     "text": [
      "                   all        117       2458      0.881      0.671      0.759      0.457\n"
     ]
    },
    {
     "name": "stderr",
     "output_type": "stream",
     "text": [
      "\n"
     ]
    },
    {
     "name": "stdout",
     "output_type": "stream",
     "text": [
      "\n",
      "      Epoch    GPU_mem   box_loss   cls_loss   dfl_loss  Instances       Size\n"
     ]
    },
    {
     "name": "stderr",
     "output_type": "stream",
     "text": [
      "     42/100      4.33G       3.66      2.163       1.93        212        640: 100%|██████████| 32/32 [00:25<00:00,  1.26it/s]\n",
      "                 Class     Images  Instances      Box(P          R      mAP50  mAP50-95): 100%|██████████| 4/4 [00:05<00:00,  1.32s/it]"
     ]
    },
    {
     "name": "stdout",
     "output_type": "stream",
     "text": [
      "                   all        117       2458      0.879      0.678      0.766      0.451\n"
     ]
    },
    {
     "name": "stderr",
     "output_type": "stream",
     "text": [
      "\n"
     ]
    },
    {
     "name": "stdout",
     "output_type": "stream",
     "text": [
      "\n",
      "      Epoch    GPU_mem   box_loss   cls_loss   dfl_loss  Instances       Size\n"
     ]
    },
    {
     "name": "stderr",
     "output_type": "stream",
     "text": [
      "     43/100      3.81G      3.641      2.179      1.926        269        640: 100%|██████████| 32/32 [00:19<00:00,  1.67it/s]\n",
      "                 Class     Images  Instances      Box(P          R      mAP50  mAP50-95): 100%|██████████| 4/4 [00:02<00:00,  1.76it/s]"
     ]
    },
    {
     "name": "stdout",
     "output_type": "stream",
     "text": [
      "                   all        117       2458      0.879      0.672      0.763      0.461\n"
     ]
    },
    {
     "name": "stderr",
     "output_type": "stream",
     "text": [
      "\n"
     ]
    },
    {
     "name": "stdout",
     "output_type": "stream",
     "text": [
      "\n",
      "      Epoch    GPU_mem   box_loss   cls_loss   dfl_loss  Instances       Size\n"
     ]
    },
    {
     "name": "stderr",
     "output_type": "stream",
     "text": [
      "     44/100      3.73G      3.576      2.127      1.943        215        640: 100%|██████████| 32/32 [00:15<00:00,  2.01it/s]\n",
      "                 Class     Images  Instances      Box(P          R      mAP50  mAP50-95): 100%|██████████| 4/4 [00:05<00:00,  1.43s/it]"
     ]
    },
    {
     "name": "stdout",
     "output_type": "stream",
     "text": [
      "                   all        117       2458      0.867      0.688      0.765       0.47\n"
     ]
    },
    {
     "name": "stderr",
     "output_type": "stream",
     "text": [
      "\n"
     ]
    },
    {
     "name": "stdout",
     "output_type": "stream",
     "text": [
      "\n",
      "      Epoch    GPU_mem   box_loss   cls_loss   dfl_loss  Instances       Size\n"
     ]
    },
    {
     "name": "stderr",
     "output_type": "stream",
     "text": [
      "     45/100      3.76G      3.632      2.144      1.949        187        640: 100%|██████████| 32/32 [00:12<00:00,  2.54it/s]\n",
      "                 Class     Images  Instances      Box(P          R      mAP50  mAP50-95): 100%|██████████| 4/4 [00:04<00:00,  1.18s/it]"
     ]
    },
    {
     "name": "stdout",
     "output_type": "stream",
     "text": [
      "                   all        117       2458      0.861      0.676      0.754       0.45\n"
     ]
    },
    {
     "name": "stderr",
     "output_type": "stream",
     "text": [
      "\n"
     ]
    },
    {
     "name": "stdout",
     "output_type": "stream",
     "text": [
      "\n",
      "      Epoch    GPU_mem   box_loss   cls_loss   dfl_loss  Instances       Size\n"
     ]
    },
    {
     "name": "stderr",
     "output_type": "stream",
     "text": [
      "     46/100      3.69G      3.599      2.085      1.928        182        640: 100%|██████████| 32/32 [00:13<00:00,  2.44it/s]\n",
      "                 Class     Images  Instances      Box(P          R      mAP50  mAP50-95): 100%|██████████| 4/4 [00:04<00:00,  1.03s/it]"
     ]
    },
    {
     "name": "stdout",
     "output_type": "stream",
     "text": [
      "                   all        117       2458      0.898      0.679      0.771      0.472\n"
     ]
    },
    {
     "name": "stderr",
     "output_type": "stream",
     "text": [
      "\n"
     ]
    },
    {
     "name": "stdout",
     "output_type": "stream",
     "text": [
      "\n",
      "      Epoch    GPU_mem   box_loss   cls_loss   dfl_loss  Instances       Size\n"
     ]
    },
    {
     "name": "stderr",
     "output_type": "stream",
     "text": [
      "     47/100      4.18G      3.658      2.192      1.946        143        640: 100%|██████████| 32/32 [00:16<00:00,  1.90it/s]\n",
      "                 Class     Images  Instances      Box(P          R      mAP50  mAP50-95): 100%|██████████| 4/4 [00:04<00:00,  1.22s/it]"
     ]
    },
    {
     "name": "stdout",
     "output_type": "stream",
     "text": [
      "                   all        117       2458      0.887      0.687      0.762      0.459\n"
     ]
    },
    {
     "name": "stderr",
     "output_type": "stream",
     "text": [
      "\n"
     ]
    },
    {
     "name": "stdout",
     "output_type": "stream",
     "text": [
      "\n",
      "      Epoch    GPU_mem   box_loss   cls_loss   dfl_loss  Instances       Size\n"
     ]
    },
    {
     "name": "stderr",
     "output_type": "stream",
     "text": [
      "     48/100       3.8G       3.48      2.018      1.913        124        640: 100%|██████████| 32/32 [00:25<00:00,  1.24it/s]\n",
      "                 Class     Images  Instances      Box(P          R      mAP50  mAP50-95): 100%|██████████| 4/4 [00:06<00:00,  1.52s/it]"
     ]
    },
    {
     "name": "stdout",
     "output_type": "stream",
     "text": [
      "                   all        117       2458       0.88      0.675      0.767      0.463\n"
     ]
    },
    {
     "name": "stderr",
     "output_type": "stream",
     "text": [
      "\n"
     ]
    },
    {
     "name": "stdout",
     "output_type": "stream",
     "text": [
      "\n",
      "      Epoch    GPU_mem   box_loss   cls_loss   dfl_loss  Instances       Size\n"
     ]
    },
    {
     "name": "stderr",
     "output_type": "stream",
     "text": [
      "     49/100      4.58G      3.636      2.161      1.941        222        640: 100%|██████████| 32/32 [00:24<00:00,  1.32it/s]\n",
      "                 Class     Images  Instances      Box(P          R      mAP50  mAP50-95): 100%|██████████| 4/4 [00:04<00:00,  1.04s/it]"
     ]
    },
    {
     "name": "stdout",
     "output_type": "stream",
     "text": [
      "                   all        117       2458      0.885      0.681      0.768      0.454\n"
     ]
    },
    {
     "name": "stderr",
     "output_type": "stream",
     "text": [
      "\n"
     ]
    },
    {
     "name": "stdout",
     "output_type": "stream",
     "text": [
      "\n",
      "      Epoch    GPU_mem   box_loss   cls_loss   dfl_loss  Instances       Size\n"
     ]
    },
    {
     "name": "stderr",
     "output_type": "stream",
     "text": [
      "     50/100      3.84G      3.607      2.172      1.938        196        640: 100%|██████████| 32/32 [00:14<00:00,  2.15it/s]\n",
      "                 Class     Images  Instances      Box(P          R      mAP50  mAP50-95): 100%|██████████| 4/4 [00:04<00:00,  1.14s/it]"
     ]
    },
    {
     "name": "stdout",
     "output_type": "stream",
     "text": [
      "                   all        117       2458      0.901      0.695      0.784      0.484\n"
     ]
    },
    {
     "name": "stderr",
     "output_type": "stream",
     "text": [
      "\n"
     ]
    },
    {
     "name": "stdout",
     "output_type": "stream",
     "text": [
      "\n",
      "      Epoch    GPU_mem   box_loss   cls_loss   dfl_loss  Instances       Size\n"
     ]
    },
    {
     "name": "stderr",
     "output_type": "stream",
     "text": [
      "     51/100      4.44G      3.572      2.055      1.913        121        640: 100%|██████████| 32/32 [00:17<00:00,  1.84it/s]\n",
      "                 Class     Images  Instances      Box(P          R      mAP50  mAP50-95): 100%|██████████| 4/4 [00:04<00:00,  1.14s/it]"
     ]
    },
    {
     "name": "stdout",
     "output_type": "stream",
     "text": [
      "                   all        117       2458      0.865      0.695      0.779      0.461\n"
     ]
    },
    {
     "name": "stderr",
     "output_type": "stream",
     "text": [
      "\n"
     ]
    },
    {
     "name": "stdout",
     "output_type": "stream",
     "text": [
      "\n",
      "      Epoch    GPU_mem   box_loss   cls_loss   dfl_loss  Instances       Size\n"
     ]
    },
    {
     "name": "stderr",
     "output_type": "stream",
     "text": [
      "     52/100      3.63G      3.428      1.958      1.901        280        640: 100%|██████████| 32/32 [00:11<00:00,  2.70it/s]\n",
      "                 Class     Images  Instances      Box(P          R      mAP50  mAP50-95): 100%|██████████| 4/4 [00:06<00:00,  1.64s/it]"
     ]
    },
    {
     "name": "stdout",
     "output_type": "stream",
     "text": [
      "                   all        117       2458      0.888      0.677      0.772      0.458\n"
     ]
    },
    {
     "name": "stderr",
     "output_type": "stream",
     "text": [
      "\n"
     ]
    },
    {
     "name": "stdout",
     "output_type": "stream",
     "text": [
      "\n",
      "      Epoch    GPU_mem   box_loss   cls_loss   dfl_loss  Instances       Size\n"
     ]
    },
    {
     "name": "stderr",
     "output_type": "stream",
     "text": [
      "     53/100      4.06G      3.552      2.042      1.911        265        640: 100%|██████████| 32/32 [00:22<00:00,  1.41it/s]\n",
      "                 Class     Images  Instances      Box(P          R      mAP50  mAP50-95): 100%|██████████| 4/4 [00:04<00:00,  1.08s/it]"
     ]
    },
    {
     "name": "stdout",
     "output_type": "stream",
     "text": [
      "                   all        117       2458      0.875      0.682      0.769      0.479\n"
     ]
    },
    {
     "name": "stderr",
     "output_type": "stream",
     "text": [
      "\n"
     ]
    },
    {
     "name": "stdout",
     "output_type": "stream",
     "text": [
      "\n",
      "      Epoch    GPU_mem   box_loss   cls_loss   dfl_loss  Instances       Size\n"
     ]
    },
    {
     "name": "stderr",
     "output_type": "stream",
     "text": [
      "     54/100      3.63G      3.539      2.097      1.938        132        640: 100%|██████████| 32/32 [00:11<00:00,  2.79it/s]\n",
      "                 Class     Images  Instances      Box(P          R      mAP50  mAP50-95): 100%|██████████| 4/4 [00:05<00:00,  1.49s/it]"
     ]
    },
    {
     "name": "stdout",
     "output_type": "stream",
     "text": [
      "                   all        117       2458      0.876      0.699      0.785      0.492\n"
     ]
    },
    {
     "name": "stderr",
     "output_type": "stream",
     "text": [
      "\n"
     ]
    },
    {
     "name": "stdout",
     "output_type": "stream",
     "text": [
      "\n",
      "      Epoch    GPU_mem   box_loss   cls_loss   dfl_loss  Instances       Size\n"
     ]
    },
    {
     "name": "stderr",
     "output_type": "stream",
     "text": [
      "     55/100      4.18G      3.516      2.097      1.915        216        640: 100%|██████████| 32/32 [00:28<00:00,  1.13it/s]\n",
      "                 Class     Images  Instances      Box(P          R      mAP50  mAP50-95): 100%|██████████| 4/4 [00:04<00:00,  1.10s/it]"
     ]
    },
    {
     "name": "stdout",
     "output_type": "stream",
     "text": [
      "                   all        117       2458      0.874      0.697      0.776       0.48\n"
     ]
    },
    {
     "name": "stderr",
     "output_type": "stream",
     "text": [
      "\n"
     ]
    },
    {
     "name": "stdout",
     "output_type": "stream",
     "text": [
      "\n",
      "      Epoch    GPU_mem   box_loss   cls_loss   dfl_loss  Instances       Size\n"
     ]
    },
    {
     "name": "stderr",
     "output_type": "stream",
     "text": [
      "     56/100      4.02G      3.508      2.053       1.91        142        640: 100%|██████████| 32/32 [00:11<00:00,  2.83it/s]\n",
      "                 Class     Images  Instances      Box(P          R      mAP50  mAP50-95): 100%|██████████| 4/4 [00:04<00:00,  1.02s/it]"
     ]
    },
    {
     "name": "stdout",
     "output_type": "stream",
     "text": [
      "                   all        117       2458      0.871      0.704      0.784      0.491\n"
     ]
    },
    {
     "name": "stderr",
     "output_type": "stream",
     "text": [
      "\n"
     ]
    },
    {
     "name": "stdout",
     "output_type": "stream",
     "text": [
      "\n",
      "      Epoch    GPU_mem   box_loss   cls_loss   dfl_loss  Instances       Size\n"
     ]
    },
    {
     "name": "stderr",
     "output_type": "stream",
     "text": [
      "     57/100      3.89G       3.56      2.138      1.935        224        640: 100%|██████████| 32/32 [00:10<00:00,  3.06it/s]\n",
      "                 Class     Images  Instances      Box(P          R      mAP50  mAP50-95): 100%|██████████| 4/4 [00:04<00:00,  1.01s/it]"
     ]
    },
    {
     "name": "stdout",
     "output_type": "stream",
     "text": [
      "                   all        117       2458      0.904      0.696      0.786      0.486\n"
     ]
    },
    {
     "name": "stderr",
     "output_type": "stream",
     "text": [
      "\n"
     ]
    },
    {
     "name": "stdout",
     "output_type": "stream",
     "text": [
      "\n",
      "      Epoch    GPU_mem   box_loss   cls_loss   dfl_loss  Instances       Size\n"
     ]
    },
    {
     "name": "stderr",
     "output_type": "stream",
     "text": [
      "     58/100      4.07G      3.428       2.03      1.907        253        640: 100%|██████████| 32/32 [00:11<00:00,  2.77it/s]\n",
      "                 Class     Images  Instances      Box(P          R      mAP50  mAP50-95): 100%|██████████| 4/4 [00:01<00:00,  3.15it/s]"
     ]
    },
    {
     "name": "stdout",
     "output_type": "stream",
     "text": [
      "                   all        117       2458       0.89      0.689       0.78      0.475\n"
     ]
    },
    {
     "name": "stderr",
     "output_type": "stream",
     "text": [
      "\n"
     ]
    },
    {
     "name": "stdout",
     "output_type": "stream",
     "text": [
      "\n",
      "      Epoch    GPU_mem   box_loss   cls_loss   dfl_loss  Instances       Size\n"
     ]
    },
    {
     "name": "stderr",
     "output_type": "stream",
     "text": [
      "     59/100      4.29G      3.482      2.057      1.904        203        640: 100%|██████████| 32/32 [00:14<00:00,  2.26it/s]\n",
      "                 Class     Images  Instances      Box(P          R      mAP50  mAP50-95): 100%|██████████| 4/4 [00:03<00:00,  1.03it/s]"
     ]
    },
    {
     "name": "stdout",
     "output_type": "stream",
     "text": [
      "                   all        117       2458      0.878      0.691      0.769       0.46\n"
     ]
    },
    {
     "name": "stderr",
     "output_type": "stream",
     "text": [
      "\n"
     ]
    },
    {
     "name": "stdout",
     "output_type": "stream",
     "text": [
      "\n",
      "      Epoch    GPU_mem   box_loss   cls_loss   dfl_loss  Instances       Size\n"
     ]
    },
    {
     "name": "stderr",
     "output_type": "stream",
     "text": [
      "     60/100      4.23G      3.499       2.07      1.911        218        640: 100%|██████████| 32/32 [00:15<00:00,  2.12it/s]\n",
      "                 Class     Images  Instances      Box(P          R      mAP50  mAP50-95): 100%|██████████| 4/4 [00:03<00:00,  1.04it/s]"
     ]
    },
    {
     "name": "stdout",
     "output_type": "stream",
     "text": [
      "                   all        117       2458      0.902      0.695      0.789      0.481\n"
     ]
    },
    {
     "name": "stderr",
     "output_type": "stream",
     "text": [
      "\n"
     ]
    },
    {
     "name": "stdout",
     "output_type": "stream",
     "text": [
      "\n",
      "      Epoch    GPU_mem   box_loss   cls_loss   dfl_loss  Instances       Size\n"
     ]
    },
    {
     "name": "stderr",
     "output_type": "stream",
     "text": [
      "     61/100      4.12G      3.404      1.969      1.917        344        640: 100%|██████████| 32/32 [00:12<00:00,  2.60it/s]\n",
      "                 Class     Images  Instances      Box(P          R      mAP50  mAP50-95): 100%|██████████| 4/4 [00:04<00:00,  1.11s/it]"
     ]
    },
    {
     "name": "stdout",
     "output_type": "stream",
     "text": [
      "                   all        117       2458       0.89      0.686      0.781      0.485\n"
     ]
    },
    {
     "name": "stderr",
     "output_type": "stream",
     "text": [
      "\n"
     ]
    },
    {
     "name": "stdout",
     "output_type": "stream",
     "text": [
      "\n",
      "      Epoch    GPU_mem   box_loss   cls_loss   dfl_loss  Instances       Size\n"
     ]
    },
    {
     "name": "stderr",
     "output_type": "stream",
     "text": [
      "     62/100       4.4G      3.412      1.973      1.896        208        640: 100%|██████████| 32/32 [00:15<00:00,  2.08it/s]\n",
      "                 Class     Images  Instances      Box(P          R      mAP50  mAP50-95): 100%|██████████| 4/4 [00:04<00:00,  1.08s/it]"
     ]
    },
    {
     "name": "stdout",
     "output_type": "stream",
     "text": [
      "                   all        117       2458        0.9      0.694      0.787      0.493\n"
     ]
    },
    {
     "name": "stderr",
     "output_type": "stream",
     "text": [
      "\n"
     ]
    },
    {
     "name": "stdout",
     "output_type": "stream",
     "text": [
      "\n",
      "      Epoch    GPU_mem   box_loss   cls_loss   dfl_loss  Instances       Size\n"
     ]
    },
    {
     "name": "stderr",
     "output_type": "stream",
     "text": [
      "     63/100      4.46G      3.412      2.003      1.909        237        640: 100%|██████████| 32/32 [00:14<00:00,  2.14it/s]\n",
      "                 Class     Images  Instances      Box(P          R      mAP50  mAP50-95): 100%|██████████| 4/4 [00:02<00:00,  1.36it/s]"
     ]
    },
    {
     "name": "stdout",
     "output_type": "stream",
     "text": [
      "                   all        117       2458      0.891      0.698      0.787      0.495\n"
     ]
    },
    {
     "name": "stderr",
     "output_type": "stream",
     "text": [
      "\n"
     ]
    },
    {
     "name": "stdout",
     "output_type": "stream",
     "text": [
      "\n",
      "      Epoch    GPU_mem   box_loss   cls_loss   dfl_loss  Instances       Size\n"
     ]
    },
    {
     "name": "stderr",
     "output_type": "stream",
     "text": [
      "     64/100       4.2G      3.439      1.934      1.885        214        640: 100%|██████████| 32/32 [00:17<00:00,  1.79it/s]\n",
      "                 Class     Images  Instances      Box(P          R      mAP50  mAP50-95): 100%|██████████| 4/4 [00:04<00:00,  1.01s/it]"
     ]
    },
    {
     "name": "stdout",
     "output_type": "stream",
     "text": [
      "                   all        117       2458      0.881      0.714      0.789      0.483\n"
     ]
    },
    {
     "name": "stderr",
     "output_type": "stream",
     "text": [
      "\n"
     ]
    },
    {
     "name": "stdout",
     "output_type": "stream",
     "text": [
      "\n",
      "      Epoch    GPU_mem   box_loss   cls_loss   dfl_loss  Instances       Size\n"
     ]
    },
    {
     "name": "stderr",
     "output_type": "stream",
     "text": [
      "     65/100      4.54G      3.336       1.89      1.886        229        640: 100%|██████████| 32/32 [00:29<00:00,  1.09it/s]\n",
      "                 Class     Images  Instances      Box(P          R      mAP50  mAP50-95): 100%|██████████| 4/4 [00:07<00:00,  1.80s/it]"
     ]
    },
    {
     "name": "stdout",
     "output_type": "stream",
     "text": [
      "                   all        117       2458      0.879      0.704      0.787      0.492\n"
     ]
    },
    {
     "name": "stderr",
     "output_type": "stream",
     "text": [
      "\n"
     ]
    },
    {
     "name": "stdout",
     "output_type": "stream",
     "text": [
      "\n",
      "      Epoch    GPU_mem   box_loss   cls_loss   dfl_loss  Instances       Size\n"
     ]
    },
    {
     "name": "stderr",
     "output_type": "stream",
     "text": [
      "     66/100      3.97G      3.448      2.055      1.911        268        640: 100%|██████████| 32/32 [00:13<00:00,  2.42it/s]\n",
      "                 Class     Images  Instances      Box(P          R      mAP50  mAP50-95): 100%|██████████| 4/4 [00:04<00:00,  1.11s/it]"
     ]
    },
    {
     "name": "stdout",
     "output_type": "stream",
     "text": [
      "                   all        117       2458      0.901      0.698      0.783      0.482\n"
     ]
    },
    {
     "name": "stderr",
     "output_type": "stream",
     "text": [
      "\n"
     ]
    },
    {
     "name": "stdout",
     "output_type": "stream",
     "text": [
      "\n",
      "      Epoch    GPU_mem   box_loss   cls_loss   dfl_loss  Instances       Size\n"
     ]
    },
    {
     "name": "stderr",
     "output_type": "stream",
     "text": [
      "     67/100      4.42G      3.362      1.932      1.899        297        640: 100%|██████████| 32/32 [00:19<00:00,  1.65it/s]\n",
      "                 Class     Images  Instances      Box(P          R      mAP50  mAP50-95): 100%|██████████| 4/4 [00:05<00:00,  1.31s/it]"
     ]
    },
    {
     "name": "stdout",
     "output_type": "stream",
     "text": [
      "                   all        117       2458      0.897      0.693      0.779      0.482\n"
     ]
    },
    {
     "name": "stderr",
     "output_type": "stream",
     "text": [
      "\n"
     ]
    },
    {
     "name": "stdout",
     "output_type": "stream",
     "text": [
      "\n",
      "      Epoch    GPU_mem   box_loss   cls_loss   dfl_loss  Instances       Size\n"
     ]
    },
    {
     "name": "stderr",
     "output_type": "stream",
     "text": [
      "     68/100      3.71G      3.404      1.949      1.883        223        640: 100%|██████████| 32/32 [00:14<00:00,  2.17it/s]\n",
      "                 Class     Images  Instances      Box(P          R      mAP50  mAP50-95): 100%|██████████| 4/4 [00:06<00:00,  1.56s/it]"
     ]
    },
    {
     "name": "stdout",
     "output_type": "stream",
     "text": [
      "                   all        117       2458      0.884      0.702      0.783      0.481\n"
     ]
    },
    {
     "name": "stderr",
     "output_type": "stream",
     "text": [
      "\n"
     ]
    },
    {
     "name": "stdout",
     "output_type": "stream",
     "text": [
      "\n",
      "      Epoch    GPU_mem   box_loss   cls_loss   dfl_loss  Instances       Size\n"
     ]
    },
    {
     "name": "stderr",
     "output_type": "stream",
     "text": [
      "     69/100      4.18G      3.408      1.967      1.896        169        640: 100%|██████████| 32/32 [00:17<00:00,  1.86it/s]\n",
      "                 Class     Images  Instances      Box(P          R      mAP50  mAP50-95): 100%|██████████| 4/4 [00:02<00:00,  1.47it/s]"
     ]
    },
    {
     "name": "stdout",
     "output_type": "stream",
     "text": [
      "                   all        117       2458      0.894       0.71      0.791       0.49\n"
     ]
    },
    {
     "name": "stderr",
     "output_type": "stream",
     "text": [
      "\n"
     ]
    },
    {
     "name": "stdout",
     "output_type": "stream",
     "text": [
      "\n",
      "      Epoch    GPU_mem   box_loss   cls_loss   dfl_loss  Instances       Size\n"
     ]
    },
    {
     "name": "stderr",
     "output_type": "stream",
     "text": [
      "     70/100      4.42G      3.325        1.9      1.888        225        640: 100%|██████████| 32/32 [00:20<00:00,  1.60it/s]\n",
      "                 Class     Images  Instances      Box(P          R      mAP50  mAP50-95): 100%|██████████| 4/4 [00:04<00:00,  1.21s/it]"
     ]
    },
    {
     "name": "stdout",
     "output_type": "stream",
     "text": [
      "                   all        117       2458       0.88      0.708      0.787      0.491\n"
     ]
    },
    {
     "name": "stderr",
     "output_type": "stream",
     "text": [
      "\n"
     ]
    },
    {
     "name": "stdout",
     "output_type": "stream",
     "text": [
      "\n",
      "      Epoch    GPU_mem   box_loss   cls_loss   dfl_loss  Instances       Size\n"
     ]
    },
    {
     "name": "stderr",
     "output_type": "stream",
     "text": [
      "     71/100      4.18G       3.36      1.995      1.913        278        640: 100%|██████████| 32/32 [00:20<00:00,  1.55it/s]\n",
      "                 Class     Images  Instances      Box(P          R      mAP50  mAP50-95): 100%|██████████| 4/4 [00:05<00:00,  1.35s/it]"
     ]
    },
    {
     "name": "stdout",
     "output_type": "stream",
     "text": [
      "                   all        117       2458      0.891      0.707      0.789      0.485\n"
     ]
    },
    {
     "name": "stderr",
     "output_type": "stream",
     "text": [
      "\n"
     ]
    },
    {
     "name": "stdout",
     "output_type": "stream",
     "text": [
      "\n",
      "      Epoch    GPU_mem   box_loss   cls_loss   dfl_loss  Instances       Size\n"
     ]
    },
    {
     "name": "stderr",
     "output_type": "stream",
     "text": [
      "     72/100      4.11G      3.326      1.872      1.877        230        640: 100%|██████████| 32/32 [00:16<00:00,  1.92it/s]\n",
      "                 Class     Images  Instances      Box(P          R      mAP50  mAP50-95): 100%|██████████| 4/4 [00:04<00:00,  1.14s/it]"
     ]
    },
    {
     "name": "stdout",
     "output_type": "stream",
     "text": [
      "                   all        117       2458      0.874      0.703       0.78      0.471\n"
     ]
    },
    {
     "name": "stderr",
     "output_type": "stream",
     "text": [
      "\n"
     ]
    },
    {
     "name": "stdout",
     "output_type": "stream",
     "text": [
      "\n",
      "      Epoch    GPU_mem   box_loss   cls_loss   dfl_loss  Instances       Size\n"
     ]
    },
    {
     "name": "stderr",
     "output_type": "stream",
     "text": [
      "     73/100       3.6G      3.305      1.929      1.878        304        640: 100%|██████████| 32/32 [00:11<00:00,  2.69it/s]\n",
      "                 Class     Images  Instances      Box(P          R      mAP50  mAP50-95): 100%|██████████| 4/4 [00:06<00:00,  1.57s/it]"
     ]
    },
    {
     "name": "stdout",
     "output_type": "stream",
     "text": [
      "                   all        117       2458      0.896        0.7      0.788        0.5\n"
     ]
    },
    {
     "name": "stderr",
     "output_type": "stream",
     "text": [
      "\n"
     ]
    },
    {
     "name": "stdout",
     "output_type": "stream",
     "text": [
      "\n",
      "      Epoch    GPU_mem   box_loss   cls_loss   dfl_loss  Instances       Size\n"
     ]
    },
    {
     "name": "stderr",
     "output_type": "stream",
     "text": [
      "     74/100      4.22G      3.411      1.976      1.898        183        640: 100%|██████████| 32/32 [00:30<00:00,  1.06it/s]\n",
      "                 Class     Images  Instances      Box(P          R      mAP50  mAP50-95): 100%|██████████| 4/4 [00:03<00:00,  1.06it/s]"
     ]
    },
    {
     "name": "stdout",
     "output_type": "stream",
     "text": [
      "                   all        117       2458      0.883      0.705      0.787      0.495\n"
     ]
    },
    {
     "name": "stderr",
     "output_type": "stream",
     "text": [
      "\n"
     ]
    },
    {
     "name": "stdout",
     "output_type": "stream",
     "text": [
      "\n",
      "      Epoch    GPU_mem   box_loss   cls_loss   dfl_loss  Instances       Size\n"
     ]
    },
    {
     "name": "stderr",
     "output_type": "stream",
     "text": [
      "     75/100      4.23G      3.341      1.951      1.891        179        640: 100%|██████████| 32/32 [00:14<00:00,  2.14it/s]\n",
      "                 Class     Images  Instances      Box(P          R      mAP50  mAP50-95): 100%|██████████| 4/4 [00:04<00:00,  1.03s/it]"
     ]
    },
    {
     "name": "stdout",
     "output_type": "stream",
     "text": [
      "                   all        117       2458      0.898      0.712      0.795      0.479\n"
     ]
    },
    {
     "name": "stderr",
     "output_type": "stream",
     "text": [
      "\n"
     ]
    },
    {
     "name": "stdout",
     "output_type": "stream",
     "text": [
      "\n",
      "      Epoch    GPU_mem   box_loss   cls_loss   dfl_loss  Instances       Size\n"
     ]
    },
    {
     "name": "stderr",
     "output_type": "stream",
     "text": [
      "     76/100      3.87G      3.313      1.889      1.873        200        640: 100%|██████████| 32/32 [00:14<00:00,  2.17it/s]\n",
      "                 Class     Images  Instances      Box(P          R      mAP50  mAP50-95): 100%|██████████| 4/4 [00:04<00:00,  1.15s/it]"
     ]
    },
    {
     "name": "stdout",
     "output_type": "stream",
     "text": [
      "                   all        117       2458      0.893      0.709      0.793      0.504\n"
     ]
    },
    {
     "name": "stderr",
     "output_type": "stream",
     "text": [
      "\n"
     ]
    },
    {
     "name": "stdout",
     "output_type": "stream",
     "text": [
      "\n",
      "      Epoch    GPU_mem   box_loss   cls_loss   dfl_loss  Instances       Size\n"
     ]
    },
    {
     "name": "stderr",
     "output_type": "stream",
     "text": [
      "     77/100      4.07G      3.463      2.071      1.919        209        640: 100%|██████████| 32/32 [00:22<00:00,  1.39it/s]\n",
      "                 Class     Images  Instances      Box(P          R      mAP50  mAP50-95): 100%|██████████| 4/4 [00:04<00:00,  1.23s/it]\n"
     ]
    },
    {
     "name": "stdout",
     "output_type": "stream",
     "text": [
      "                   all        117       2458      0.889      0.717      0.791      0.505\n",
      "\n",
      "      Epoch    GPU_mem   box_loss   cls_loss   dfl_loss  Instances       Size\n"
     ]
    },
    {
     "name": "stderr",
     "output_type": "stream",
     "text": [
      "     78/100      3.96G      3.343      1.959      1.889        230        640: 100%|██████████| 32/32 [00:32<00:00,  1.01s/it]\n",
      "                 Class     Images  Instances      Box(P          R      mAP50  mAP50-95): 100%|██████████| 4/4 [00:06<00:00,  1.63s/it]"
     ]
    },
    {
     "name": "stdout",
     "output_type": "stream",
     "text": [
      "                   all        117       2458      0.889       0.72      0.792      0.498\n"
     ]
    },
    {
     "name": "stderr",
     "output_type": "stream",
     "text": [
      "\n"
     ]
    },
    {
     "name": "stdout",
     "output_type": "stream",
     "text": [
      "\n",
      "      Epoch    GPU_mem   box_loss   cls_loss   dfl_loss  Instances       Size\n"
     ]
    },
    {
     "name": "stderr",
     "output_type": "stream",
     "text": [
      "     79/100      4.03G      3.372      1.992      1.894        146        640: 100%|██████████| 32/32 [00:18<00:00,  1.72it/s]\n",
      "                 Class     Images  Instances      Box(P          R      mAP50  mAP50-95): 100%|██████████| 4/4 [00:04<00:00,  1.15s/it]"
     ]
    },
    {
     "name": "stdout",
     "output_type": "stream",
     "text": [
      "                   all        117       2458      0.879      0.725      0.794      0.499\n"
     ]
    },
    {
     "name": "stderr",
     "output_type": "stream",
     "text": [
      "\n"
     ]
    },
    {
     "name": "stdout",
     "output_type": "stream",
     "text": [
      "\n",
      "      Epoch    GPU_mem   box_loss   cls_loss   dfl_loss  Instances       Size\n"
     ]
    },
    {
     "name": "stderr",
     "output_type": "stream",
     "text": [
      "     80/100      4.05G       3.24      1.914      1.881        272        640: 100%|██████████| 32/32 [00:26<00:00,  1.19it/s]\n",
      "                 Class     Images  Instances      Box(P          R      mAP50  mAP50-95): 100%|██████████| 4/4 [00:04<00:00,  1.18s/it]"
     ]
    },
    {
     "name": "stdout",
     "output_type": "stream",
     "text": [
      "                   all        117       2458      0.891      0.719      0.795      0.492\n"
     ]
    },
    {
     "name": "stderr",
     "output_type": "stream",
     "text": [
      "\n"
     ]
    },
    {
     "name": "stdout",
     "output_type": "stream",
     "text": [
      "\n",
      "      Epoch    GPU_mem   box_loss   cls_loss   dfl_loss  Instances       Size\n"
     ]
    },
    {
     "name": "stderr",
     "output_type": "stream",
     "text": [
      "     81/100      4.11G      3.218      1.869      1.873        213        640: 100%|██████████| 32/32 [00:29<00:00,  1.09it/s]\n",
      "                 Class     Images  Instances      Box(P          R      mAP50  mAP50-95): 100%|██████████| 4/4 [00:06<00:00,  1.56s/it]"
     ]
    },
    {
     "name": "stdout",
     "output_type": "stream",
     "text": [
      "                   all        117       2458      0.884      0.725      0.796      0.503\n"
     ]
    },
    {
     "name": "stderr",
     "output_type": "stream",
     "text": [
      "\n"
     ]
    },
    {
     "name": "stdout",
     "output_type": "stream",
     "text": [
      "\n",
      "      Epoch    GPU_mem   box_loss   cls_loss   dfl_loss  Instances       Size\n"
     ]
    },
    {
     "name": "stderr",
     "output_type": "stream",
     "text": [
      "     82/100      3.89G      3.234      1.893      1.874        213        640: 100%|██████████| 32/32 [00:18<00:00,  1.73it/s]\n",
      "                 Class     Images  Instances      Box(P          R      mAP50  mAP50-95): 100%|██████████| 4/4 [00:04<00:00,  1.12s/it]"
     ]
    },
    {
     "name": "stdout",
     "output_type": "stream",
     "text": [
      "                   all        117       2458      0.892      0.722      0.795      0.489\n"
     ]
    },
    {
     "name": "stderr",
     "output_type": "stream",
     "text": [
      "\n"
     ]
    },
    {
     "name": "stdout",
     "output_type": "stream",
     "text": [
      "\n",
      "      Epoch    GPU_mem   box_loss   cls_loss   dfl_loss  Instances       Size\n"
     ]
    },
    {
     "name": "stderr",
     "output_type": "stream",
     "text": [
      "     83/100       4.7G      3.271      1.912       1.87        345        640: 100%|██████████| 32/32 [00:19<00:00,  1.66it/s]\n",
      "                 Class     Images  Instances      Box(P          R      mAP50  mAP50-95): 100%|██████████| 4/4 [00:04<00:00,  1.13s/it]"
     ]
    },
    {
     "name": "stdout",
     "output_type": "stream",
     "text": [
      "                   all        117       2458       0.89      0.731        0.8      0.499\n"
     ]
    },
    {
     "name": "stderr",
     "output_type": "stream",
     "text": [
      "\n"
     ]
    },
    {
     "name": "stdout",
     "output_type": "stream",
     "text": [
      "\n",
      "      Epoch    GPU_mem   box_loss   cls_loss   dfl_loss  Instances       Size\n"
     ]
    },
    {
     "name": "stderr",
     "output_type": "stream",
     "text": [
      "     84/100       3.5G      3.282      1.917      1.873        282        640: 100%|██████████| 32/32 [00:10<00:00,  3.12it/s]\n",
      "                 Class     Images  Instances      Box(P          R      mAP50  mAP50-95): 100%|██████████| 4/4 [00:04<00:00,  1.13s/it]"
     ]
    },
    {
     "name": "stdout",
     "output_type": "stream",
     "text": [
      "                   all        117       2458      0.875       0.73      0.799      0.514\n"
     ]
    },
    {
     "name": "stderr",
     "output_type": "stream",
     "text": [
      "\n"
     ]
    },
    {
     "name": "stdout",
     "output_type": "stream",
     "text": [
      "\n",
      "      Epoch    GPU_mem   box_loss   cls_loss   dfl_loss  Instances       Size\n"
     ]
    },
    {
     "name": "stderr",
     "output_type": "stream",
     "text": [
      "     85/100      3.88G      3.401      2.076      1.889        129        640: 100%|██████████| 32/32 [00:14<00:00,  2.14it/s]\n",
      "                 Class     Images  Instances      Box(P          R      mAP50  mAP50-95): 100%|██████████| 4/4 [00:03<00:00,  1.01it/s]"
     ]
    },
    {
     "name": "stdout",
     "output_type": "stream",
     "text": [
      "                   all        117       2458      0.897      0.719      0.798      0.515\n"
     ]
    },
    {
     "name": "stderr",
     "output_type": "stream",
     "text": [
      "\n"
     ]
    },
    {
     "name": "stdout",
     "output_type": "stream",
     "text": [
      "\n",
      "      Epoch    GPU_mem   box_loss   cls_loss   dfl_loss  Instances       Size\n"
     ]
    },
    {
     "name": "stderr",
     "output_type": "stream",
     "text": [
      "     86/100       4.2G      3.228      1.891      1.873        148        640: 100%|██████████| 32/32 [00:14<00:00,  2.27it/s]\n",
      "                 Class     Images  Instances      Box(P          R      mAP50  mAP50-95): 100%|██████████| 4/4 [00:04<00:00,  1.10s/it]"
     ]
    },
    {
     "name": "stdout",
     "output_type": "stream",
     "text": [
      "                   all        117       2458      0.898        0.7      0.792      0.508\n"
     ]
    },
    {
     "name": "stderr",
     "output_type": "stream",
     "text": [
      "\n"
     ]
    },
    {
     "name": "stdout",
     "output_type": "stream",
     "text": [
      "\n",
      "      Epoch    GPU_mem   box_loss   cls_loss   dfl_loss  Instances       Size\n"
     ]
    },
    {
     "name": "stderr",
     "output_type": "stream",
     "text": [
      "     87/100      4.25G      3.102      1.774      1.848        183        640: 100%|██████████| 32/32 [00:22<00:00,  1.42it/s]\n",
      "                 Class     Images  Instances      Box(P          R      mAP50  mAP50-95): 100%|██████████| 4/4 [00:02<00:00,  1.60it/s]"
     ]
    },
    {
     "name": "stdout",
     "output_type": "stream",
     "text": [
      "                   all        117       2458      0.886      0.718      0.797       0.51\n"
     ]
    },
    {
     "name": "stderr",
     "output_type": "stream",
     "text": [
      "\n"
     ]
    },
    {
     "name": "stdout",
     "output_type": "stream",
     "text": [
      "\n",
      "      Epoch    GPU_mem   box_loss   cls_loss   dfl_loss  Instances       Size\n"
     ]
    },
    {
     "name": "stderr",
     "output_type": "stream",
     "text": [
      "     88/100      3.91G      3.217      1.904      1.876        123        640: 100%|██████████| 32/32 [00:12<00:00,  2.64it/s]\n",
      "                 Class     Images  Instances      Box(P          R      mAP50  mAP50-95): 100%|██████████| 4/4 [00:04<00:00,  1.02s/it]"
     ]
    },
    {
     "name": "stdout",
     "output_type": "stream",
     "text": [
      "                   all        117       2458      0.897      0.718      0.796       0.51\n"
     ]
    },
    {
     "name": "stderr",
     "output_type": "stream",
     "text": [
      "\n"
     ]
    },
    {
     "name": "stdout",
     "output_type": "stream",
     "text": [
      "\n",
      "      Epoch    GPU_mem   box_loss   cls_loss   dfl_loss  Instances       Size\n"
     ]
    },
    {
     "name": "stderr",
     "output_type": "stream",
     "text": [
      "     89/100       3.8G      3.309      1.967      1.876        190        640: 100%|██████████| 32/32 [00:14<00:00,  2.27it/s]\n",
      "                 Class     Images  Instances      Box(P          R      mAP50  mAP50-95): 100%|██████████| 4/4 [00:04<00:00,  1.03s/it]"
     ]
    },
    {
     "name": "stdout",
     "output_type": "stream",
     "text": [
      "                   all        117       2458      0.897      0.723        0.8      0.514\n"
     ]
    },
    {
     "name": "stderr",
     "output_type": "stream",
     "text": [
      "\n"
     ]
    },
    {
     "name": "stdout",
     "output_type": "stream",
     "text": [
      "\n",
      "      Epoch    GPU_mem   box_loss   cls_loss   dfl_loss  Instances       Size\n"
     ]
    },
    {
     "name": "stderr",
     "output_type": "stream",
     "text": [
      "     90/100      3.84G      3.216      1.876      1.867        147        640: 100%|██████████| 32/32 [00:14<00:00,  2.20it/s]\n",
      "                 Class     Images  Instances      Box(P          R      mAP50  mAP50-95): 100%|██████████| 4/4 [00:03<00:00,  1.04it/s]"
     ]
    },
    {
     "name": "stdout",
     "output_type": "stream",
     "text": [
      "                   all        117       2458      0.913      0.708      0.798      0.505\n"
     ]
    },
    {
     "name": "stderr",
     "output_type": "stream",
     "text": [
      "\n"
     ]
    },
    {
     "name": "stdout",
     "output_type": "stream",
     "text": [
      "Closing dataloader mosaic\n",
      "\n",
      "      Epoch    GPU_mem   box_loss   cls_loss   dfl_loss  Instances       Size\n"
     ]
    },
    {
     "name": "stderr",
     "output_type": "stream",
     "text": [
      "     91/100      3.87G      3.041      1.835      1.893        271        640: 100%|██████████| 32/32 [00:12<00:00,  2.48it/s]\n",
      "                 Class     Images  Instances      Box(P          R      mAP50  mAP50-95): 100%|██████████| 4/4 [00:06<00:00,  1.51s/it]"
     ]
    },
    {
     "name": "stdout",
     "output_type": "stream",
     "text": [
      "                   all        117       2458      0.887      0.723      0.797       0.51\n"
     ]
    },
    {
     "name": "stderr",
     "output_type": "stream",
     "text": [
      "\n"
     ]
    },
    {
     "name": "stdout",
     "output_type": "stream",
     "text": [
      "\n",
      "      Epoch    GPU_mem   box_loss   cls_loss   dfl_loss  Instances       Size\n"
     ]
    },
    {
     "name": "stderr",
     "output_type": "stream",
     "text": [
      "     92/100      3.81G      3.071      1.844      1.889        125        640: 100%|██████████| 32/32 [00:12<00:00,  2.49it/s]\n",
      "                 Class     Images  Instances      Box(P          R      mAP50  mAP50-95): 100%|██████████| 4/4 [00:06<00:00,  1.55s/it]"
     ]
    },
    {
     "name": "stdout",
     "output_type": "stream",
     "text": [
      "                   all        117       2458      0.893      0.722      0.795      0.511\n"
     ]
    },
    {
     "name": "stderr",
     "output_type": "stream",
     "text": [
      "\n"
     ]
    },
    {
     "name": "stdout",
     "output_type": "stream",
     "text": [
      "\n",
      "      Epoch    GPU_mem   box_loss   cls_loss   dfl_loss  Instances       Size\n"
     ]
    },
    {
     "name": "stderr",
     "output_type": "stream",
     "text": [
      "     93/100      3.52G      2.939      1.771      1.882        124        640: 100%|██████████| 32/32 [00:09<00:00,  3.24it/s]\n",
      "                 Class     Images  Instances      Box(P          R      mAP50  mAP50-95): 100%|██████████| 4/4 [00:04<00:00,  1.21s/it]"
     ]
    },
    {
     "name": "stdout",
     "output_type": "stream",
     "text": [
      "                   all        117       2458      0.895      0.728      0.801      0.513\n"
     ]
    },
    {
     "name": "stderr",
     "output_type": "stream",
     "text": [
      "\n"
     ]
    },
    {
     "name": "stdout",
     "output_type": "stream",
     "text": [
      "\n",
      "      Epoch    GPU_mem   box_loss   cls_loss   dfl_loss  Instances       Size\n"
     ]
    },
    {
     "name": "stderr",
     "output_type": "stream",
     "text": [
      "     94/100      3.77G      2.899      1.713      1.882        117        640: 100%|██████████| 32/32 [00:10<00:00,  3.20it/s]\n",
      "                 Class     Images  Instances      Box(P          R      mAP50  mAP50-95): 100%|██████████| 4/4 [00:06<00:00,  1.53s/it]"
     ]
    },
    {
     "name": "stdout",
     "output_type": "stream",
     "text": [
      "                   all        117       2458      0.898      0.727      0.803      0.515\n"
     ]
    },
    {
     "name": "stderr",
     "output_type": "stream",
     "text": [
      "\n"
     ]
    },
    {
     "name": "stdout",
     "output_type": "stream",
     "text": [
      "\n",
      "      Epoch    GPU_mem   box_loss   cls_loss   dfl_loss  Instances       Size\n"
     ]
    },
    {
     "name": "stderr",
     "output_type": "stream",
     "text": [
      "     95/100      3.52G      2.985      1.781      1.885        139        640: 100%|██████████| 32/32 [00:09<00:00,  3.38it/s]\n",
      "                 Class     Images  Instances      Box(P          R      mAP50  mAP50-95): 100%|██████████| 4/4 [00:06<00:00,  1.58s/it]"
     ]
    },
    {
     "name": "stdout",
     "output_type": "stream",
     "text": [
      "                   all        117       2458      0.893      0.729      0.801      0.516\n"
     ]
    },
    {
     "name": "stderr",
     "output_type": "stream",
     "text": [
      "\n"
     ]
    },
    {
     "name": "stdout",
     "output_type": "stream",
     "text": [
      "\n",
      "      Epoch    GPU_mem   box_loss   cls_loss   dfl_loss  Instances       Size\n"
     ]
    },
    {
     "name": "stderr",
     "output_type": "stream",
     "text": [
      "     96/100      3.45G      2.905      1.712      1.869         64        640: 100%|██████████| 32/32 [00:09<00:00,  3.34it/s]\n",
      "                 Class     Images  Instances      Box(P          R      mAP50  mAP50-95): 100%|██████████| 4/4 [00:04<00:00,  1.00s/it]\n"
     ]
    },
    {
     "name": "stdout",
     "output_type": "stream",
     "text": [
      "                   all        117       2458      0.891      0.727      0.799      0.514\n",
      "\n",
      "      Epoch    GPU_mem   box_loss   cls_loss   dfl_loss  Instances       Size\n"
     ]
    },
    {
     "name": "stderr",
     "output_type": "stream",
     "text": [
      "     97/100      4.04G      2.993      1.822       1.88         79        640: 100%|██████████| 32/32 [00:11<00:00,  2.72it/s]\n",
      "                 Class     Images  Instances      Box(P          R      mAP50  mAP50-95): 100%|██████████| 4/4 [00:05<00:00,  1.47s/it]"
     ]
    },
    {
     "name": "stdout",
     "output_type": "stream",
     "text": [
      "                   all        117       2458      0.892      0.727      0.798      0.516\n"
     ]
    },
    {
     "name": "stderr",
     "output_type": "stream",
     "text": [
      "\n"
     ]
    },
    {
     "name": "stdout",
     "output_type": "stream",
     "text": [
      "\n",
      "      Epoch    GPU_mem   box_loss   cls_loss   dfl_loss  Instances       Size\n"
     ]
    },
    {
     "name": "stderr",
     "output_type": "stream",
     "text": [
      "     98/100      3.89G      2.883      1.709      1.856        181        640: 100%|██████████| 32/32 [00:10<00:00,  2.98it/s]\n",
      "                 Class     Images  Instances      Box(P          R      mAP50  mAP50-95): 100%|██████████| 4/4 [00:05<00:00,  1.47s/it]"
     ]
    },
    {
     "name": "stdout",
     "output_type": "stream",
     "text": [
      "                   all        117       2458      0.895      0.723      0.799      0.517\n"
     ]
    },
    {
     "name": "stderr",
     "output_type": "stream",
     "text": [
      "\n"
     ]
    },
    {
     "name": "stdout",
     "output_type": "stream",
     "text": [
      "\n",
      "      Epoch    GPU_mem   box_loss   cls_loss   dfl_loss  Instances       Size\n"
     ]
    },
    {
     "name": "stderr",
     "output_type": "stream",
     "text": [
      "     99/100      3.46G      3.018      1.845      1.882         96        640: 100%|██████████| 32/32 [00:09<00:00,  3.41it/s]\n",
      "                 Class     Images  Instances      Box(P          R      mAP50  mAP50-95): 100%|██████████| 4/4 [00:03<00:00,  1.01it/s]"
     ]
    },
    {
     "name": "stdout",
     "output_type": "stream",
     "text": [
      "                   all        117       2458      0.897      0.721      0.801      0.517\n"
     ]
    },
    {
     "name": "stderr",
     "output_type": "stream",
     "text": [
      "\n"
     ]
    },
    {
     "name": "stdout",
     "output_type": "stream",
     "text": [
      "\n",
      "      Epoch    GPU_mem   box_loss   cls_loss   dfl_loss  Instances       Size\n"
     ]
    },
    {
     "name": "stderr",
     "output_type": "stream",
     "text": [
      "    100/100      3.87G      2.958      1.767      1.886        184        640: 100%|██████████| 32/32 [00:10<00:00,  2.96it/s]\n",
      "                 Class     Images  Instances      Box(P          R      mAP50  mAP50-95): 100%|██████████| 4/4 [00:06<00:00,  1.52s/it]"
     ]
    },
    {
     "name": "stdout",
     "output_type": "stream",
     "text": [
      "                   all        117       2458      0.886      0.728        0.8      0.516\n"
     ]
    },
    {
     "name": "stderr",
     "output_type": "stream",
     "text": [
      "\n"
     ]
    },
    {
     "name": "stdout",
     "output_type": "stream",
     "text": [
      "\n",
      "100 epochs completed in 0.746 hours.\n",
      "Optimizer stripped from runs\\detect\\train35\\weights\\last.pt, 5.8MB\n",
      "Optimizer stripped from runs\\detect\\train35\\weights\\best.pt, 5.8MB\n",
      "\n",
      "Validating runs\\detect\\train35\\weights\\best.pt...\n",
      "Ultralytics YOLOv8.2.101  Python-3.12.0 torch-2.5.1+cu124 CUDA:0 (NVIDIA GeForce RTX 3050 Ti Laptop GPU, 4096MiB)\n",
      "YOLOv10n summary (fused): 285 layers, 2,694,806 parameters, 0 gradients, 8.2 GFLOPs\n"
     ]
    },
    {
     "name": "stderr",
     "output_type": "stream",
     "text": [
      "                 Class     Images  Instances      Box(P          R      mAP50  mAP50-95): 100%|██████████| 4/4 [00:02<00:00,  1.75it/s]\n"
     ]
    },
    {
     "name": "stdout",
     "output_type": "stream",
     "text": [
      "                   all        117       2458      0.898      0.721      0.801      0.518\n",
      "Speed: 0.4ms preprocess, 4.4ms inference, 0.0ms loss, 0.4ms postprocess per image\n",
      "Results saved to \u001b[1mruns\\detect\\train35\u001b[0m\n",
      "Training:\n",
      " ultralytics.utils.metrics.DetMetrics object with attributes:\n",
      "\n",
      "ap_class_index: array([0])\n",
      "box: ultralytics.utils.metrics.Metric object\n",
      "confusion_matrix: <ultralytics.utils.metrics.ConfusionMatrix object at 0x00000205A1ED94C0>\n",
      "curves: ['Precision-Recall(B)', 'F1-Confidence(B)', 'Precision-Confidence(B)', 'Recall-Confidence(B)']\n",
      "curves_results: [[array([          0,    0.001001,    0.002002,    0.003003,    0.004004,    0.005005,    0.006006,    0.007007,    0.008008,    0.009009,     0.01001,    0.011011,    0.012012,    0.013013,    0.014014,    0.015015,    0.016016,    0.017017,    0.018018,    0.019019,     0.02002,    0.021021,    0.022022,    0.023023,\n",
      "          0.024024,    0.025025,    0.026026,    0.027027,    0.028028,    0.029029,     0.03003,    0.031031,    0.032032,    0.033033,    0.034034,    0.035035,    0.036036,    0.037037,    0.038038,    0.039039,     0.04004,    0.041041,    0.042042,    0.043043,    0.044044,    0.045045,    0.046046,    0.047047,\n",
      "          0.048048,    0.049049,     0.05005,    0.051051,    0.052052,    0.053053,    0.054054,    0.055055,    0.056056,    0.057057,    0.058058,    0.059059,     0.06006,    0.061061,    0.062062,    0.063063,    0.064064,    0.065065,    0.066066,    0.067067,    0.068068,    0.069069,     0.07007,    0.071071,\n",
      "          0.072072,    0.073073,    0.074074,    0.075075,    0.076076,    0.077077,    0.078078,    0.079079,     0.08008,    0.081081,    0.082082,    0.083083,    0.084084,    0.085085,    0.086086,    0.087087,    0.088088,    0.089089,     0.09009,    0.091091,    0.092092,    0.093093,    0.094094,    0.095095,\n",
      "          0.096096,    0.097097,    0.098098,    0.099099,      0.1001,      0.1011,      0.1021,      0.1031,      0.1041,     0.10511,     0.10611,     0.10711,     0.10811,     0.10911,     0.11011,     0.11111,     0.11211,     0.11311,     0.11411,     0.11512,     0.11612,     0.11712,     0.11812,     0.11912,\n",
      "           0.12012,     0.12112,     0.12212,     0.12312,     0.12412,     0.12513,     0.12613,     0.12713,     0.12813,     0.12913,     0.13013,     0.13113,     0.13213,     0.13313,     0.13413,     0.13514,     0.13614,     0.13714,     0.13814,     0.13914,     0.14014,     0.14114,     0.14214,     0.14314,\n",
      "           0.14414,     0.14515,     0.14615,     0.14715,     0.14815,     0.14915,     0.15015,     0.15115,     0.15215,     0.15315,     0.15415,     0.15516,     0.15616,     0.15716,     0.15816,     0.15916,     0.16016,     0.16116,     0.16216,     0.16316,     0.16416,     0.16517,     0.16617,     0.16717,\n",
      "           0.16817,     0.16917,     0.17017,     0.17117,     0.17217,     0.17317,     0.17417,     0.17518,     0.17618,     0.17718,     0.17818,     0.17918,     0.18018,     0.18118,     0.18218,     0.18318,     0.18418,     0.18519,     0.18619,     0.18719,     0.18819,     0.18919,     0.19019,     0.19119,\n",
      "           0.19219,     0.19319,     0.19419,      0.1952,      0.1962,      0.1972,      0.1982,      0.1992,      0.2002,      0.2012,      0.2022,      0.2032,      0.2042,     0.20521,     0.20621,     0.20721,     0.20821,     0.20921,     0.21021,     0.21121,     0.21221,     0.21321,     0.21421,     0.21522,\n",
      "           0.21622,     0.21722,     0.21822,     0.21922,     0.22022,     0.22122,     0.22222,     0.22322,     0.22422,     0.22523,     0.22623,     0.22723,     0.22823,     0.22923,     0.23023,     0.23123,     0.23223,     0.23323,     0.23423,     0.23524,     0.23624,     0.23724,     0.23824,     0.23924,\n",
      "           0.24024,     0.24124,     0.24224,     0.24324,     0.24424,     0.24525,     0.24625,     0.24725,     0.24825,     0.24925,     0.25025,     0.25125,     0.25225,     0.25325,     0.25425,     0.25526,     0.25626,     0.25726,     0.25826,     0.25926,     0.26026,     0.26126,     0.26226,     0.26326,\n",
      "           0.26426,     0.26527,     0.26627,     0.26727,     0.26827,     0.26927,     0.27027,     0.27127,     0.27227,     0.27327,     0.27427,     0.27528,     0.27628,     0.27728,     0.27828,     0.27928,     0.28028,     0.28128,     0.28228,     0.28328,     0.28428,     0.28529,     0.28629,     0.28729,\n",
      "           0.28829,     0.28929,     0.29029,     0.29129,     0.29229,     0.29329,     0.29429,      0.2953,      0.2963,      0.2973,      0.2983,      0.2993,      0.3003,      0.3013,      0.3023,      0.3033,      0.3043,     0.30531,     0.30631,     0.30731,     0.30831,     0.30931,     0.31031,     0.31131,\n",
      "           0.31231,     0.31331,     0.31431,     0.31532,     0.31632,     0.31732,     0.31832,     0.31932,     0.32032,     0.32132,     0.32232,     0.32332,     0.32432,     0.32533,     0.32633,     0.32733,     0.32833,     0.32933,     0.33033,     0.33133,     0.33233,     0.33333,     0.33433,     0.33534,\n",
      "           0.33634,     0.33734,     0.33834,     0.33934,     0.34034,     0.34134,     0.34234,     0.34334,     0.34434,     0.34535,     0.34635,     0.34735,     0.34835,     0.34935,     0.35035,     0.35135,     0.35235,     0.35335,     0.35435,     0.35536,     0.35636,     0.35736,     0.35836,     0.35936,\n",
      "           0.36036,     0.36136,     0.36236,     0.36336,     0.36436,     0.36537,     0.36637,     0.36737,     0.36837,     0.36937,     0.37037,     0.37137,     0.37237,     0.37337,     0.37437,     0.37538,     0.37638,     0.37738,     0.37838,     0.37938,     0.38038,     0.38138,     0.38238,     0.38338,\n",
      "           0.38438,     0.38539,     0.38639,     0.38739,     0.38839,     0.38939,     0.39039,     0.39139,     0.39239,     0.39339,     0.39439,      0.3954,      0.3964,      0.3974,      0.3984,      0.3994,      0.4004,      0.4014,      0.4024,      0.4034,      0.4044,     0.40541,     0.40641,     0.40741,\n",
      "           0.40841,     0.40941,     0.41041,     0.41141,     0.41241,     0.41341,     0.41441,     0.41542,     0.41642,     0.41742,     0.41842,     0.41942,     0.42042,     0.42142,     0.42242,     0.42342,     0.42442,     0.42543,     0.42643,     0.42743,     0.42843,     0.42943,     0.43043,     0.43143,\n",
      "           0.43243,     0.43343,     0.43443,     0.43544,     0.43644,     0.43744,     0.43844,     0.43944,     0.44044,     0.44144,     0.44244,     0.44344,     0.44444,     0.44545,     0.44645,     0.44745,     0.44845,     0.44945,     0.45045,     0.45145,     0.45245,     0.45345,     0.45445,     0.45546,\n",
      "           0.45646,     0.45746,     0.45846,     0.45946,     0.46046,     0.46146,     0.46246,     0.46346,     0.46446,     0.46547,     0.46647,     0.46747,     0.46847,     0.46947,     0.47047,     0.47147,     0.47247,     0.47347,     0.47447,     0.47548,     0.47648,     0.47748,     0.47848,     0.47948,\n",
      "           0.48048,     0.48148,     0.48248,     0.48348,     0.48448,     0.48549,     0.48649,     0.48749,     0.48849,     0.48949,     0.49049,     0.49149,     0.49249,     0.49349,     0.49449,      0.4955,      0.4965,      0.4975,      0.4985,      0.4995,      0.5005,      0.5015,      0.5025,      0.5035,\n",
      "            0.5045,     0.50551,     0.50651,     0.50751,     0.50851,     0.50951,     0.51051,     0.51151,     0.51251,     0.51351,     0.51451,     0.51552,     0.51652,     0.51752,     0.51852,     0.51952,     0.52052,     0.52152,     0.52252,     0.52352,     0.52452,     0.52553,     0.52653,     0.52753,\n",
      "           0.52853,     0.52953,     0.53053,     0.53153,     0.53253,     0.53353,     0.53453,     0.53554,     0.53654,     0.53754,     0.53854,     0.53954,     0.54054,     0.54154,     0.54254,     0.54354,     0.54454,     0.54555,     0.54655,     0.54755,     0.54855,     0.54955,     0.55055,     0.55155,\n",
      "           0.55255,     0.55355,     0.55455,     0.55556,     0.55656,     0.55756,     0.55856,     0.55956,     0.56056,     0.56156,     0.56256,     0.56356,     0.56456,     0.56557,     0.56657,     0.56757,     0.56857,     0.56957,     0.57057,     0.57157,     0.57257,     0.57357,     0.57457,     0.57558,\n",
      "           0.57658,     0.57758,     0.57858,     0.57958,     0.58058,     0.58158,     0.58258,     0.58358,     0.58458,     0.58559,     0.58659,     0.58759,     0.58859,     0.58959,     0.59059,     0.59159,     0.59259,     0.59359,     0.59459,      0.5956,      0.5966,      0.5976,      0.5986,      0.5996,\n",
      "            0.6006,      0.6016,      0.6026,      0.6036,      0.6046,     0.60561,     0.60661,     0.60761,     0.60861,     0.60961,     0.61061,     0.61161,     0.61261,     0.61361,     0.61461,     0.61562,     0.61662,     0.61762,     0.61862,     0.61962,     0.62062,     0.62162,     0.62262,     0.62362,\n",
      "           0.62462,     0.62563,     0.62663,     0.62763,     0.62863,     0.62963,     0.63063,     0.63163,     0.63263,     0.63363,     0.63463,     0.63564,     0.63664,     0.63764,     0.63864,     0.63964,     0.64064,     0.64164,     0.64264,     0.64364,     0.64464,     0.64565,     0.64665,     0.64765,\n",
      "           0.64865,     0.64965,     0.65065,     0.65165,     0.65265,     0.65365,     0.65465,     0.65566,     0.65666,     0.65766,     0.65866,     0.65966,     0.66066,     0.66166,     0.66266,     0.66366,     0.66466,     0.66567,     0.66667,     0.66767,     0.66867,     0.66967,     0.67067,     0.67167,\n",
      "           0.67267,     0.67367,     0.67467,     0.67568,     0.67668,     0.67768,     0.67868,     0.67968,     0.68068,     0.68168,     0.68268,     0.68368,     0.68468,     0.68569,     0.68669,     0.68769,     0.68869,     0.68969,     0.69069,     0.69169,     0.69269,     0.69369,     0.69469,      0.6957,\n",
      "            0.6967,      0.6977,      0.6987,      0.6997,      0.7007,      0.7017,      0.7027,      0.7037,      0.7047,     0.70571,     0.70671,     0.70771,     0.70871,     0.70971,     0.71071,     0.71171,     0.71271,     0.71371,     0.71471,     0.71572,     0.71672,     0.71772,     0.71872,     0.71972,\n",
      "           0.72072,     0.72172,     0.72272,     0.72372,     0.72472,     0.72573,     0.72673,     0.72773,     0.72873,     0.72973,     0.73073,     0.73173,     0.73273,     0.73373,     0.73473,     0.73574,     0.73674,     0.73774,     0.73874,     0.73974,     0.74074,     0.74174,     0.74274,     0.74374,\n",
      "           0.74474,     0.74575,     0.74675,     0.74775,     0.74875,     0.74975,     0.75075,     0.75175,     0.75275,     0.75375,     0.75475,     0.75576,     0.75676,     0.75776,     0.75876,     0.75976,     0.76076,     0.76176,     0.76276,     0.76376,     0.76476,     0.76577,     0.76677,     0.76777,\n",
      "           0.76877,     0.76977,     0.77077,     0.77177,     0.77277,     0.77377,     0.77477,     0.77578,     0.77678,     0.77778,     0.77878,     0.77978,     0.78078,     0.78178,     0.78278,     0.78378,     0.78478,     0.78579,     0.78679,     0.78779,     0.78879,     0.78979,     0.79079,     0.79179,\n",
      "           0.79279,     0.79379,     0.79479,      0.7958,      0.7968,      0.7978,      0.7988,      0.7998,      0.8008,      0.8018,      0.8028,      0.8038,      0.8048,     0.80581,     0.80681,     0.80781,     0.80881,     0.80981,     0.81081,     0.81181,     0.81281,     0.81381,     0.81481,     0.81582,\n",
      "           0.81682,     0.81782,     0.81882,     0.81982,     0.82082,     0.82182,     0.82282,     0.82382,     0.82482,     0.82583,     0.82683,     0.82783,     0.82883,     0.82983,     0.83083,     0.83183,     0.83283,     0.83383,     0.83483,     0.83584,     0.83684,     0.83784,     0.83884,     0.83984,\n",
      "           0.84084,     0.84184,     0.84284,     0.84384,     0.84484,     0.84585,     0.84685,     0.84785,     0.84885,     0.84985,     0.85085,     0.85185,     0.85285,     0.85385,     0.85485,     0.85586,     0.85686,     0.85786,     0.85886,     0.85986,     0.86086,     0.86186,     0.86286,     0.86386,\n",
      "           0.86486,     0.86587,     0.86687,     0.86787,     0.86887,     0.86987,     0.87087,     0.87187,     0.87287,     0.87387,     0.87487,     0.87588,     0.87688,     0.87788,     0.87888,     0.87988,     0.88088,     0.88188,     0.88288,     0.88388,     0.88488,     0.88589,     0.88689,     0.88789,\n",
      "           0.88889,     0.88989,     0.89089,     0.89189,     0.89289,     0.89389,     0.89489,      0.8959,      0.8969,      0.8979,      0.8989,      0.8999,      0.9009,      0.9019,      0.9029,      0.9039,      0.9049,     0.90591,     0.90691,     0.90791,     0.90891,     0.90991,     0.91091,     0.91191,\n",
      "           0.91291,     0.91391,     0.91491,     0.91592,     0.91692,     0.91792,     0.91892,     0.91992,     0.92092,     0.92192,     0.92292,     0.92392,     0.92492,     0.92593,     0.92693,     0.92793,     0.92893,     0.92993,     0.93093,     0.93193,     0.93293,     0.93393,     0.93493,     0.93594,\n",
      "           0.93694,     0.93794,     0.93894,     0.93994,     0.94094,     0.94194,     0.94294,     0.94394,     0.94494,     0.94595,     0.94695,     0.94795,     0.94895,     0.94995,     0.95095,     0.95195,     0.95295,     0.95395,     0.95495,     0.95596,     0.95696,     0.95796,     0.95896,     0.95996,\n",
      "           0.96096,     0.96196,     0.96296,     0.96396,     0.96496,     0.96597,     0.96697,     0.96797,     0.96897,     0.96997,     0.97097,     0.97197,     0.97297,     0.97397,     0.97497,     0.97598,     0.97698,     0.97798,     0.97898,     0.97998,     0.98098,     0.98198,     0.98298,     0.98398,\n",
      "           0.98498,     0.98599,     0.98699,     0.98799,     0.98899,     0.98999,     0.99099,     0.99199,     0.99299,     0.99399,     0.99499,       0.996,       0.997,       0.998,       0.999,           1]), array([[          1,           1,           1,           1,           1,           1,           1,           1,           1,           1,           1,           1,           1,           1,           1,           1,           1,           1,           1,           1,           1,           1,           1,\n",
      "                  1,           1,           1,           1,           1,           1,           1,           1,           1,           1,           1,           1,           1,           1,           1,           1,           1,           1,           1,           1,           1,           1,           1,\n",
      "                  1,           1,           1,           1,           1,           1,           1,           1,           1,           1,           1,           1,           1,           1,           1,           1,           1,           1,           1,           1,           1,           1,           1,\n",
      "                  1,           1,           1,           1,           1,           1,           1,           1,           1,           1,           1,           1,           1,           1,           1,           1,           1,           1,           1,           1,           1,           1,           1,\n",
      "                  1,           1,           1,           1,           1,           1,           1,           1,           1,           1,           1,           1,           1,           1,           1,           1,           1,           1,           1,           1,           1,           1,           1,\n",
      "                  1,           1,           1,           1,           1,           1,           1,           1,           1,           1,           1,           1,           1,           1,           1,           1,           1,           1,           1,           1,           1,           1,           1,\n",
      "                  1,           1,           1,           1,           1,           1,           1,           1,           1,           1,           1,           1,           1,           1,           1,           1,           1,           1,           1,           1,           1,           1,           1,\n",
      "                  1,           1,           1,           1,           1,           1,           1,           1,           1,           1,           1,           1,           1,           1,           1,           1,           1,           1,           1,           1,           1,           1,           1,\n",
      "                  1,           1,           1,           1,           1,           1,           1,           1,           1,           1,           1,           1,           1,           1,           1,           1,           1,           1,           1,           1,           1,           1,           1,\n",
      "                  1,           1,           1,           1,           1,           1,           1,           1,           1,           1,           1,           1,           1,           1,           1,           1,           1,           1,           1,           1,           1,           1,           1,\n",
      "                  1,           1,           1,           1,           1,           1,           1,           1,           1,           1,           1,           1,           1,           1,           1,           1,           1,           1,           1,           1,           1,           1,           1,\n",
      "                  1,           1,           1,           1,           1,           1,           1,           1,           1,           1,           1,           1,           1,           1,           1,           1,           1,           1,     0.99876,     0.99876,     0.99876,     0.99876,     0.99876,\n",
      "            0.99876,     0.99876,     0.99876,     0.99876,     0.99876,     0.99876,     0.99876,     0.99876,     0.99876,     0.99876,     0.99876,     0.99876,     0.99876,     0.99876,     0.99876,     0.99876,     0.99876,     0.99876,     0.99876,     0.99876,     0.99876,     0.99876,     0.99876,\n",
      "            0.99876,     0.99876,     0.99876,     0.99876,     0.99876,     0.99876,     0.99876,     0.99876,     0.99876,     0.99876,     0.99876,     0.99876,     0.99876,     0.99876,     0.99876,     0.99876,     0.99876,     0.99876,     0.99876,     0.99876,     0.99876,     0.99876,     0.99876,\n",
      "            0.99876,     0.99876,     0.99876,     0.99876,     0.99876,     0.99876,     0.99759,     0.99759,     0.99759,     0.99759,     0.99759,     0.99759,     0.99759,     0.99759,     0.99759,     0.99655,     0.99655,     0.99655,     0.99655,     0.99655,     0.99655,     0.99655,     0.99655,\n",
      "            0.99655,     0.99655,     0.99655,     0.99655,     0.99655,     0.99655,     0.99655,     0.99544,     0.99544,     0.99544,     0.99544,      0.9944,      0.9944,      0.9944,      0.9944,      0.9944,     0.99372,     0.99372,     0.99372,     0.99372,     0.99372,     0.99372,     0.99372,\n",
      "            0.99372,     0.99372,     0.99372,     0.99372,     0.99372,     0.99372,     0.99372,     0.99372,     0.99372,     0.99372,     0.99372,     0.99372,     0.99372,     0.99372,     0.99372,     0.99372,     0.99372,     0.99372,     0.99372,     0.99284,     0.99284,     0.99284,     0.99284,\n",
      "            0.99284,     0.99284,     0.99284,     0.99284,     0.99186,     0.99186,     0.99136,     0.99136,     0.99136,     0.99136,     0.99136,     0.99136,     0.99136,     0.99136,     0.99136,     0.99136,     0.99136,     0.99136,     0.99136,     0.99136,     0.99136,     0.99136,     0.99136,\n",
      "            0.99136,     0.99136,     0.99136,     0.99136,     0.99136,     0.99136,     0.99055,     0.99055,     0.99055,     0.99055,     0.99055,     0.99055,     0.99007,     0.99007,     0.99007,     0.99007,     0.99007,     0.99007,     0.99007,     0.99007,     0.99007,     0.99007,     0.99007,\n",
      "            0.99007,     0.99007,     0.99007,     0.99007,     0.99007,     0.99007,     0.99007,     0.99007,     0.99007,     0.98961,     0.98961,     0.98961,     0.98961,     0.98961,     0.98961,     0.98961,     0.98961,     0.98961,     0.98961,     0.98961,     0.98961,     0.98961,     0.98961,\n",
      "            0.98961,     0.98961,     0.98961,     0.98961,     0.98961,     0.98914,     0.98914,     0.98914,     0.98914,     0.98914,     0.98914,     0.98914,     0.98914,     0.98914,     0.98914,     0.98914,     0.98914,     0.98914,     0.98914,     0.98914,     0.98914,     0.98914,     0.98691,\n",
      "            0.98691,     0.98691,     0.98691,     0.98691,     0.98691,     0.98691,     0.98691,     0.98691,     0.98617,     0.98617,     0.98553,     0.98553,     0.98553,     0.98553,     0.98553,     0.98553,     0.98476,     0.98441,     0.98441,     0.98441,     0.98441,     0.98441,     0.98441,\n",
      "            0.98441,     0.98441,     0.98441,     0.98441,     0.98441,     0.98441,     0.98441,     0.98441,     0.98372,     0.98372,     0.98299,     0.98225,     0.98161,     0.98161,     0.98161,      0.9812,      0.9812,      0.9812,      0.9812,      0.9812,      0.9812,      0.9812,      0.9812,\n",
      "             0.9812,      0.9812,      0.9808,      0.9808,      0.9808,      0.9808,      0.9808,      0.9808,      0.9808,      0.9808,      0.9808,     0.98012,     0.97956,     0.97956,     0.97956,     0.97956,     0.97956,     0.97902,     0.97902,     0.97902,     0.97902,     0.97845,     0.97845,\n",
      "            0.97845,     0.97845,     0.97778,     0.97729,     0.97729,     0.97729,     0.97729,     0.97729,     0.97687,     0.97687,     0.97687,     0.97687,     0.97687,     0.97687,     0.97687,     0.97637,     0.97637,     0.97637,     0.97637,     0.97637,     0.97536,     0.97536,     0.97536,\n",
      "            0.97536,     0.97536,     0.97536,     0.97536,     0.97536,     0.97481,     0.97481,     0.97481,     0.97425,     0.97425,     0.97372,     0.97372,     0.97372,      0.9725,      0.9725,     0.97222,     0.97222,     0.97222,     0.97222,     0.97222,     0.97222,     0.97222,     0.97222,\n",
      "            0.97101,     0.97101,     0.96982,     0.96928,     0.96928,     0.96877,     0.96877,     0.96877,      0.9676,      0.9671,      0.9671,      0.9671,     0.96654,     0.96624,     0.96624,     0.96624,     0.96624,     0.96624,     0.96624,      0.9651,      0.9651,     0.96478,     0.96478,\n",
      "            0.96478,     0.96478,     0.96478,     0.96451,     0.96451,     0.96451,     0.96451,     0.96451,     0.96451,     0.96349,     0.96349,     0.96349,     0.96303,     0.96303,     0.96303,     0.96265,     0.96265,     0.96265,     0.96208,     0.96154,     0.96061,     0.96061,     0.96061,\n",
      "            0.96061,     0.95957,     0.95957,     0.95793,     0.95743,     0.95743,     0.95696,     0.95663,     0.95663,     0.95663,     0.95663,     0.95562,     0.95562,     0.95527,     0.95527,     0.95527,     0.95439,     0.95439,     0.95439,     0.95439,     0.95388,     0.95341,     0.95183,\n",
      "            0.95078,     0.94974,     0.94819,     0.94667,     0.94667,     0.94568,     0.94521,     0.94429,     0.94429,     0.94385,     0.94231,       0.942,       0.942,     0.94151,     0.93973,     0.93973,     0.93973,     0.93973,     0.93771,     0.93677,     0.93481,     0.93436,     0.93096,\n",
      "            0.93096,       0.929,     0.92838,     0.92838,     0.92838,     0.92838,     0.92795,     0.92753,     0.92619,     0.92573,     0.92539,     0.92497,     0.92406,     0.92316,     0.92185,     0.92091,      0.9186,     0.91781,     0.91693,     0.91605,     0.91423,     0.91341,     0.91255,\n",
      "            0.91027,       0.909,     0.90675,     0.90271,     0.90097,      0.9002,     0.89939,     0.89722,     0.89641,     0.89521,     0.89218,     0.88878,     0.88756,     0.88433,     0.88433,     0.88337,     0.88337,      0.8823,      0.8823,     0.88117,     0.87835,      0.8781,     0.87742,\n",
      "            0.87742,      0.8726,      0.8714,     0.86702,     0.86632,     0.86336,     0.86336,     0.85909,     0.85801,     0.85621,     0.84961,     0.84545,     0.84179,     0.84002,     0.83386,     0.83363,     0.83303,     0.83169,     0.82931,     0.82835,     0.82601,     0.82507,     0.82275,\n",
      "             0.8193,     0.80743,     0.80628,     0.80369,     0.80308,     0.80308,     0.79822,     0.79713,     0.79228,     0.78652,      0.7692,     0.76504,     0.75678,     0.75337,     0.74852,     0.74531,     0.73431,     0.72995,     0.72977,     0.72291,      0.7137,     0.71085,     0.69866,\n",
      "             0.6819,     0.66152,     0.65938,     0.65826,     0.65671,     0.64848,     0.64354,     0.63031,     0.62288,     0.61284,     0.60754,     0.60377,     0.58573,     0.56968,     0.56537,      0.5648,     0.55122,     0.54901,     0.53202,     0.52715,     0.49498,      0.4861,     0.47322,\n",
      "            0.46502,     0.45317,     0.44912,      0.4421,     0.43002,     0.42011,     0.41549,     0.39848,     0.38757,      0.3824,     0.37155,     0.36878,     0.36838,     0.35229,     0.35024,     0.34871,     0.33109,     0.32878,     0.32457,     0.32058,     0.31576,     0.30507,     0.29887,\n",
      "            0.29114,     0.29002,     0.27967,     0.27472,     0.27036,     0.26479,     0.25948,     0.25678,     0.25623,     0.24553,     0.24061,     0.23262,     0.22252,     0.21635,     0.21451,     0.21094,     0.20705,     0.20039,     0.19954,     0.19241,     0.19038,     0.18653,     0.18441,\n",
      "            0.18299,     0.17798,     0.17382,     0.17303,     0.17155,     0.16746,     0.16006,      0.1591,      0.1584,     0.15709,      0.1558,     0.15239,     0.13692,     0.13591,      0.1349,      0.1339,     0.13289,     0.13188,     0.13088,     0.12987,     0.12886,     0.12786,     0.12685,\n",
      "            0.12584,     0.12484,     0.12383,     0.12282,     0.12182,     0.12081,      0.1198,     0.11879,     0.11779,     0.11678,     0.11577,     0.11477,     0.11376,     0.11275,     0.11175,     0.11074,     0.10973,     0.10873,     0.10772,     0.10671,     0.10571,      0.1047,     0.10369,\n",
      "            0.10269,     0.10168,     0.10067,    0.099667,     0.09866,    0.097653,    0.096647,     0.09564,    0.094633,    0.093627,     0.09262,    0.091613,    0.090606,      0.0896,    0.088593,    0.087586,    0.086579,    0.085573,    0.084566,    0.083559,    0.082552,    0.081546,    0.080539,\n",
      "           0.079532,    0.078525,    0.077519,    0.076512,    0.075505,    0.074499,    0.073492,    0.072485,    0.071478,    0.070472,    0.069465,    0.068458,    0.067451,    0.066445,    0.065438,    0.064431,    0.063424,    0.062418,    0.061411,    0.060404,    0.059397,    0.058391,    0.057384,\n",
      "           0.056377,    0.055371,    0.054364,    0.053357,     0.05235,    0.051344,    0.050337,     0.04933,    0.048323,    0.047317,     0.04631,    0.045303,    0.044296,     0.04329,    0.042283,    0.041276,    0.040269,    0.039263,    0.038256,    0.037249,    0.036243,    0.035236,    0.034229,\n",
      "           0.033222,    0.032216,    0.031209,    0.030202,    0.029195,    0.028189,    0.027182,    0.026175,    0.025168,    0.024162,    0.023155,    0.022148,    0.021141,    0.020135,    0.019128,    0.018121,    0.017115,    0.016108,    0.015101,    0.014094,    0.013088,    0.012081,    0.011074,\n",
      "           0.010067,   0.0090606,   0.0080539,   0.0070472,   0.0060404,   0.0050337,   0.0040269,   0.0030202,   0.0020135,   0.0010067,           0]]), 'Recall', 'Precision'], [array([          0,    0.001001,    0.002002,    0.003003,    0.004004,    0.005005,    0.006006,    0.007007,    0.008008,    0.009009,     0.01001,    0.011011,    0.012012,    0.013013,    0.014014,    0.015015,    0.016016,    0.017017,    0.018018,    0.019019,     0.02002,    0.021021,    0.022022,    0.023023,\n",
      "          0.024024,    0.025025,    0.026026,    0.027027,    0.028028,    0.029029,     0.03003,    0.031031,    0.032032,    0.033033,    0.034034,    0.035035,    0.036036,    0.037037,    0.038038,    0.039039,     0.04004,    0.041041,    0.042042,    0.043043,    0.044044,    0.045045,    0.046046,    0.047047,\n",
      "          0.048048,    0.049049,     0.05005,    0.051051,    0.052052,    0.053053,    0.054054,    0.055055,    0.056056,    0.057057,    0.058058,    0.059059,     0.06006,    0.061061,    0.062062,    0.063063,    0.064064,    0.065065,    0.066066,    0.067067,    0.068068,    0.069069,     0.07007,    0.071071,\n",
      "          0.072072,    0.073073,    0.074074,    0.075075,    0.076076,    0.077077,    0.078078,    0.079079,     0.08008,    0.081081,    0.082082,    0.083083,    0.084084,    0.085085,    0.086086,    0.087087,    0.088088,    0.089089,     0.09009,    0.091091,    0.092092,    0.093093,    0.094094,    0.095095,\n",
      "          0.096096,    0.097097,    0.098098,    0.099099,      0.1001,      0.1011,      0.1021,      0.1031,      0.1041,     0.10511,     0.10611,     0.10711,     0.10811,     0.10911,     0.11011,     0.11111,     0.11211,     0.11311,     0.11411,     0.11512,     0.11612,     0.11712,     0.11812,     0.11912,\n",
      "           0.12012,     0.12112,     0.12212,     0.12312,     0.12412,     0.12513,     0.12613,     0.12713,     0.12813,     0.12913,     0.13013,     0.13113,     0.13213,     0.13313,     0.13413,     0.13514,     0.13614,     0.13714,     0.13814,     0.13914,     0.14014,     0.14114,     0.14214,     0.14314,\n",
      "           0.14414,     0.14515,     0.14615,     0.14715,     0.14815,     0.14915,     0.15015,     0.15115,     0.15215,     0.15315,     0.15415,     0.15516,     0.15616,     0.15716,     0.15816,     0.15916,     0.16016,     0.16116,     0.16216,     0.16316,     0.16416,     0.16517,     0.16617,     0.16717,\n",
      "           0.16817,     0.16917,     0.17017,     0.17117,     0.17217,     0.17317,     0.17417,     0.17518,     0.17618,     0.17718,     0.17818,     0.17918,     0.18018,     0.18118,     0.18218,     0.18318,     0.18418,     0.18519,     0.18619,     0.18719,     0.18819,     0.18919,     0.19019,     0.19119,\n",
      "           0.19219,     0.19319,     0.19419,      0.1952,      0.1962,      0.1972,      0.1982,      0.1992,      0.2002,      0.2012,      0.2022,      0.2032,      0.2042,     0.20521,     0.20621,     0.20721,     0.20821,     0.20921,     0.21021,     0.21121,     0.21221,     0.21321,     0.21421,     0.21522,\n",
      "           0.21622,     0.21722,     0.21822,     0.21922,     0.22022,     0.22122,     0.22222,     0.22322,     0.22422,     0.22523,     0.22623,     0.22723,     0.22823,     0.22923,     0.23023,     0.23123,     0.23223,     0.23323,     0.23423,     0.23524,     0.23624,     0.23724,     0.23824,     0.23924,\n",
      "           0.24024,     0.24124,     0.24224,     0.24324,     0.24424,     0.24525,     0.24625,     0.24725,     0.24825,     0.24925,     0.25025,     0.25125,     0.25225,     0.25325,     0.25425,     0.25526,     0.25626,     0.25726,     0.25826,     0.25926,     0.26026,     0.26126,     0.26226,     0.26326,\n",
      "           0.26426,     0.26527,     0.26627,     0.26727,     0.26827,     0.26927,     0.27027,     0.27127,     0.27227,     0.27327,     0.27427,     0.27528,     0.27628,     0.27728,     0.27828,     0.27928,     0.28028,     0.28128,     0.28228,     0.28328,     0.28428,     0.28529,     0.28629,     0.28729,\n",
      "           0.28829,     0.28929,     0.29029,     0.29129,     0.29229,     0.29329,     0.29429,      0.2953,      0.2963,      0.2973,      0.2983,      0.2993,      0.3003,      0.3013,      0.3023,      0.3033,      0.3043,     0.30531,     0.30631,     0.30731,     0.30831,     0.30931,     0.31031,     0.31131,\n",
      "           0.31231,     0.31331,     0.31431,     0.31532,     0.31632,     0.31732,     0.31832,     0.31932,     0.32032,     0.32132,     0.32232,     0.32332,     0.32432,     0.32533,     0.32633,     0.32733,     0.32833,     0.32933,     0.33033,     0.33133,     0.33233,     0.33333,     0.33433,     0.33534,\n",
      "           0.33634,     0.33734,     0.33834,     0.33934,     0.34034,     0.34134,     0.34234,     0.34334,     0.34434,     0.34535,     0.34635,     0.34735,     0.34835,     0.34935,     0.35035,     0.35135,     0.35235,     0.35335,     0.35435,     0.35536,     0.35636,     0.35736,     0.35836,     0.35936,\n",
      "           0.36036,     0.36136,     0.36236,     0.36336,     0.36436,     0.36537,     0.36637,     0.36737,     0.36837,     0.36937,     0.37037,     0.37137,     0.37237,     0.37337,     0.37437,     0.37538,     0.37638,     0.37738,     0.37838,     0.37938,     0.38038,     0.38138,     0.38238,     0.38338,\n",
      "           0.38438,     0.38539,     0.38639,     0.38739,     0.38839,     0.38939,     0.39039,     0.39139,     0.39239,     0.39339,     0.39439,      0.3954,      0.3964,      0.3974,      0.3984,      0.3994,      0.4004,      0.4014,      0.4024,      0.4034,      0.4044,     0.40541,     0.40641,     0.40741,\n",
      "           0.40841,     0.40941,     0.41041,     0.41141,     0.41241,     0.41341,     0.41441,     0.41542,     0.41642,     0.41742,     0.41842,     0.41942,     0.42042,     0.42142,     0.42242,     0.42342,     0.42442,     0.42543,     0.42643,     0.42743,     0.42843,     0.42943,     0.43043,     0.43143,\n",
      "           0.43243,     0.43343,     0.43443,     0.43544,     0.43644,     0.43744,     0.43844,     0.43944,     0.44044,     0.44144,     0.44244,     0.44344,     0.44444,     0.44545,     0.44645,     0.44745,     0.44845,     0.44945,     0.45045,     0.45145,     0.45245,     0.45345,     0.45445,     0.45546,\n",
      "           0.45646,     0.45746,     0.45846,     0.45946,     0.46046,     0.46146,     0.46246,     0.46346,     0.46446,     0.46547,     0.46647,     0.46747,     0.46847,     0.46947,     0.47047,     0.47147,     0.47247,     0.47347,     0.47447,     0.47548,     0.47648,     0.47748,     0.47848,     0.47948,\n",
      "           0.48048,     0.48148,     0.48248,     0.48348,     0.48448,     0.48549,     0.48649,     0.48749,     0.48849,     0.48949,     0.49049,     0.49149,     0.49249,     0.49349,     0.49449,      0.4955,      0.4965,      0.4975,      0.4985,      0.4995,      0.5005,      0.5015,      0.5025,      0.5035,\n",
      "            0.5045,     0.50551,     0.50651,     0.50751,     0.50851,     0.50951,     0.51051,     0.51151,     0.51251,     0.51351,     0.51451,     0.51552,     0.51652,     0.51752,     0.51852,     0.51952,     0.52052,     0.52152,     0.52252,     0.52352,     0.52452,     0.52553,     0.52653,     0.52753,\n",
      "           0.52853,     0.52953,     0.53053,     0.53153,     0.53253,     0.53353,     0.53453,     0.53554,     0.53654,     0.53754,     0.53854,     0.53954,     0.54054,     0.54154,     0.54254,     0.54354,     0.54454,     0.54555,     0.54655,     0.54755,     0.54855,     0.54955,     0.55055,     0.55155,\n",
      "           0.55255,     0.55355,     0.55455,     0.55556,     0.55656,     0.55756,     0.55856,     0.55956,     0.56056,     0.56156,     0.56256,     0.56356,     0.56456,     0.56557,     0.56657,     0.56757,     0.56857,     0.56957,     0.57057,     0.57157,     0.57257,     0.57357,     0.57457,     0.57558,\n",
      "           0.57658,     0.57758,     0.57858,     0.57958,     0.58058,     0.58158,     0.58258,     0.58358,     0.58458,     0.58559,     0.58659,     0.58759,     0.58859,     0.58959,     0.59059,     0.59159,     0.59259,     0.59359,     0.59459,      0.5956,      0.5966,      0.5976,      0.5986,      0.5996,\n",
      "            0.6006,      0.6016,      0.6026,      0.6036,      0.6046,     0.60561,     0.60661,     0.60761,     0.60861,     0.60961,     0.61061,     0.61161,     0.61261,     0.61361,     0.61461,     0.61562,     0.61662,     0.61762,     0.61862,     0.61962,     0.62062,     0.62162,     0.62262,     0.62362,\n",
      "           0.62462,     0.62563,     0.62663,     0.62763,     0.62863,     0.62963,     0.63063,     0.63163,     0.63263,     0.63363,     0.63463,     0.63564,     0.63664,     0.63764,     0.63864,     0.63964,     0.64064,     0.64164,     0.64264,     0.64364,     0.64464,     0.64565,     0.64665,     0.64765,\n",
      "           0.64865,     0.64965,     0.65065,     0.65165,     0.65265,     0.65365,     0.65465,     0.65566,     0.65666,     0.65766,     0.65866,     0.65966,     0.66066,     0.66166,     0.66266,     0.66366,     0.66466,     0.66567,     0.66667,     0.66767,     0.66867,     0.66967,     0.67067,     0.67167,\n",
      "           0.67267,     0.67367,     0.67467,     0.67568,     0.67668,     0.67768,     0.67868,     0.67968,     0.68068,     0.68168,     0.68268,     0.68368,     0.68468,     0.68569,     0.68669,     0.68769,     0.68869,     0.68969,     0.69069,     0.69169,     0.69269,     0.69369,     0.69469,      0.6957,\n",
      "            0.6967,      0.6977,      0.6987,      0.6997,      0.7007,      0.7017,      0.7027,      0.7037,      0.7047,     0.70571,     0.70671,     0.70771,     0.70871,     0.70971,     0.71071,     0.71171,     0.71271,     0.71371,     0.71471,     0.71572,     0.71672,     0.71772,     0.71872,     0.71972,\n",
      "           0.72072,     0.72172,     0.72272,     0.72372,     0.72472,     0.72573,     0.72673,     0.72773,     0.72873,     0.72973,     0.73073,     0.73173,     0.73273,     0.73373,     0.73473,     0.73574,     0.73674,     0.73774,     0.73874,     0.73974,     0.74074,     0.74174,     0.74274,     0.74374,\n",
      "           0.74474,     0.74575,     0.74675,     0.74775,     0.74875,     0.74975,     0.75075,     0.75175,     0.75275,     0.75375,     0.75475,     0.75576,     0.75676,     0.75776,     0.75876,     0.75976,     0.76076,     0.76176,     0.76276,     0.76376,     0.76476,     0.76577,     0.76677,     0.76777,\n",
      "           0.76877,     0.76977,     0.77077,     0.77177,     0.77277,     0.77377,     0.77477,     0.77578,     0.77678,     0.77778,     0.77878,     0.77978,     0.78078,     0.78178,     0.78278,     0.78378,     0.78478,     0.78579,     0.78679,     0.78779,     0.78879,     0.78979,     0.79079,     0.79179,\n",
      "           0.79279,     0.79379,     0.79479,      0.7958,      0.7968,      0.7978,      0.7988,      0.7998,      0.8008,      0.8018,      0.8028,      0.8038,      0.8048,     0.80581,     0.80681,     0.80781,     0.80881,     0.80981,     0.81081,     0.81181,     0.81281,     0.81381,     0.81481,     0.81582,\n",
      "           0.81682,     0.81782,     0.81882,     0.81982,     0.82082,     0.82182,     0.82282,     0.82382,     0.82482,     0.82583,     0.82683,     0.82783,     0.82883,     0.82983,     0.83083,     0.83183,     0.83283,     0.83383,     0.83483,     0.83584,     0.83684,     0.83784,     0.83884,     0.83984,\n",
      "           0.84084,     0.84184,     0.84284,     0.84384,     0.84484,     0.84585,     0.84685,     0.84785,     0.84885,     0.84985,     0.85085,     0.85185,     0.85285,     0.85385,     0.85485,     0.85586,     0.85686,     0.85786,     0.85886,     0.85986,     0.86086,     0.86186,     0.86286,     0.86386,\n",
      "           0.86486,     0.86587,     0.86687,     0.86787,     0.86887,     0.86987,     0.87087,     0.87187,     0.87287,     0.87387,     0.87487,     0.87588,     0.87688,     0.87788,     0.87888,     0.87988,     0.88088,     0.88188,     0.88288,     0.88388,     0.88488,     0.88589,     0.88689,     0.88789,\n",
      "           0.88889,     0.88989,     0.89089,     0.89189,     0.89289,     0.89389,     0.89489,      0.8959,      0.8969,      0.8979,      0.8989,      0.8999,      0.9009,      0.9019,      0.9029,      0.9039,      0.9049,     0.90591,     0.90691,     0.90791,     0.90891,     0.90991,     0.91091,     0.91191,\n",
      "           0.91291,     0.91391,     0.91491,     0.91592,     0.91692,     0.91792,     0.91892,     0.91992,     0.92092,     0.92192,     0.92292,     0.92392,     0.92492,     0.92593,     0.92693,     0.92793,     0.92893,     0.92993,     0.93093,     0.93193,     0.93293,     0.93393,     0.93493,     0.93594,\n",
      "           0.93694,     0.93794,     0.93894,     0.93994,     0.94094,     0.94194,     0.94294,     0.94394,     0.94494,     0.94595,     0.94695,     0.94795,     0.94895,     0.94995,     0.95095,     0.95195,     0.95295,     0.95395,     0.95495,     0.95596,     0.95696,     0.95796,     0.95896,     0.95996,\n",
      "           0.96096,     0.96196,     0.96296,     0.96396,     0.96496,     0.96597,     0.96697,     0.96797,     0.96897,     0.96997,     0.97097,     0.97197,     0.97297,     0.97397,     0.97497,     0.97598,     0.97698,     0.97798,     0.97898,     0.97998,     0.98098,     0.98198,     0.98298,     0.98398,\n",
      "           0.98498,     0.98599,     0.98699,     0.98799,     0.98899,     0.98999,     0.99099,     0.99199,     0.99299,     0.99399,     0.99499,       0.996,       0.997,       0.998,       0.999,           1]), array([[    0.23719,     0.23724,     0.25563,     0.26341,     0.26762,     0.27018,     0.27247,     0.28068,     0.30826,     0.33311,     0.35751,     0.38199,     0.40462,     0.42744,     0.45002,     0.47094,     0.48991,     0.50799,     0.52046,     0.53265,     0.54328,     0.55261,     0.56138,\n",
      "             0.5684,     0.57444,     0.58048,     0.58629,      0.5915,     0.59644,     0.60126,     0.60599,     0.61147,     0.61472,     0.61791,     0.62139,      0.6246,     0.62795,     0.63112,      0.6351,     0.63804,     0.64006,     0.64285,     0.64542,     0.64885,     0.65157,     0.65326,\n",
      "            0.65587,     0.65825,       0.661,     0.66239,     0.66457,     0.66685,     0.66999,     0.67173,     0.67383,     0.67558,     0.67755,     0.67918,     0.68116,     0.68268,     0.68382,     0.68579,     0.68756,      0.6886,     0.69011,     0.69127,     0.69277,     0.69465,     0.69689,\n",
      "            0.69844,     0.69982,     0.70089,      0.7016,     0.70309,     0.70433,     0.70535,     0.70591,     0.70708,     0.70863,      0.7097,     0.71135,     0.71181,     0.71286,     0.71421,     0.71547,     0.71622,     0.71671,     0.71666,     0.71738,     0.71771,     0.71893,     0.71961,\n",
      "            0.72043,     0.72192,      0.7241,     0.72518,       0.726,     0.72695,     0.72834,     0.72892,     0.72949,      0.7307,     0.73152,     0.73288,     0.73368,     0.73462,     0.73515,     0.73666,     0.73731,     0.73777,     0.73864,     0.73951,     0.74116,     0.74178,     0.74261,\n",
      "            0.74316,     0.74429,     0.74469,     0.74526,      0.7455,     0.74586,     0.74649,     0.74746,     0.74811,     0.74875,     0.74916,     0.74985,     0.75027,      0.7512,     0.75195,     0.75216,     0.75268,     0.75292,     0.75312,     0.75359,     0.75406,     0.75421,     0.75442,\n",
      "            0.75551,     0.75602,     0.75708,     0.75817,     0.75849,      0.7594,     0.75977,     0.76014,     0.76075,     0.76093,     0.76087,     0.76135,     0.76217,     0.76285,     0.76315,     0.76319,     0.76412,     0.76449,     0.76493,     0.76554,     0.76568,     0.76692,     0.76773,\n",
      "            0.76779,     0.76815,     0.76848,     0.76962,     0.76945,     0.76981,     0.77003,     0.77094,     0.77111,     0.77113,     0.77224,      0.7728,     0.77306,     0.77328,     0.77375,     0.77476,     0.77521,     0.77565,     0.77597,     0.77637,     0.77695,     0.77756,     0.77822,\n",
      "             0.7788,     0.77948,     0.78031,     0.78106,     0.78132,     0.78134,     0.78187,     0.78156,     0.78172,     0.78207,     0.78234,     0.78258,     0.78334,     0.78281,      0.7824,     0.78254,     0.78335,     0.78327,     0.78316,     0.78338,     0.78345,     0.78388,     0.78412,\n",
      "            0.78446,     0.78489,     0.78546,     0.78571,     0.78584,     0.78657,     0.78681,      0.7879,     0.78815,     0.78837,     0.78849,     0.78873,     0.78897,     0.78945,     0.78946,     0.78992,     0.78988,     0.78989,     0.78997,     0.79001,     0.78981,     0.79032,     0.79032,\n",
      "            0.79054,     0.79053,     0.79051,      0.7908,     0.79093,      0.7908,      0.7908,     0.79049,     0.79031,     0.79012,     0.78991,     0.79003,     0.79032,     0.79055,     0.79095,      0.7917,     0.79221,     0.79224,     0.79257,      0.7929,     0.79301,     0.79333,     0.79357,\n",
      "            0.79354,     0.79394,     0.79435,     0.79484,     0.79516,     0.79549,     0.79598,     0.79638,     0.79747,     0.79722,     0.79734,       0.797,     0.79698,     0.79739,     0.79723,     0.79777,     0.79813,     0.79837,     0.79826,     0.79823,     0.79799,     0.79783,     0.79793,\n",
      "             0.7979,     0.79845,     0.79867,     0.79851,     0.79824,     0.79841,      0.7985,     0.79832,     0.79835,     0.79838,     0.79846,     0.79876,     0.79914,     0.79913,     0.79957,     0.79963,     0.79919,     0.79944,      0.8002,     0.80051,     0.80072,     0.80073,     0.80019,\n",
      "            0.80038,     0.80048,     0.80008,     0.79988,     0.79931,     0.80006,     0.80022,         0.8,     0.79985,     0.79941,     0.79894,     0.79867,     0.79852,     0.79813,     0.79824,     0.79834,     0.79845,     0.79771,     0.79776,     0.79782,     0.79825,     0.79833,     0.79843,\n",
      "            0.79861,     0.79843,     0.79832,     0.79904,     0.79944,     0.79912,     0.79897,     0.79919,     0.79973,     0.79956,     0.79935,     0.79956,     0.79943,     0.79954,      0.7993,     0.79937,     0.79942,     0.79936,     0.79955,     0.79977,      0.7996,     0.79962,     0.79936,\n",
      "            0.79925,     0.79915,     0.79905,     0.79915,     0.79895,     0.79909,     0.79883,      0.7992,     0.79979,     0.79997,     0.79991,         0.8,     0.80022,     0.80045,     0.80054,     0.80021,      0.8002,     0.80003,     0.80014,      0.8002,     0.80047,     0.80016,     0.80027,\n",
      "            0.80045,     0.80019,     0.79986,     0.79965,     0.79951,     0.79972,     0.79993,     0.80012,     0.79973,     0.79975,     0.79963,     0.79927,     0.79872,     0.79904,      0.7992,     0.79929,     0.79926,     0.79908,     0.79902,     0.79907,     0.79889,     0.79875,     0.79862,\n",
      "             0.7987,     0.79861,     0.79851,     0.79836,     0.79841,     0.79832,     0.79831,     0.79793,     0.79783,     0.79722,     0.79691,       0.797,      0.7968,     0.79642,     0.79627,     0.79646,      0.7957,     0.79555,      0.7956,     0.79545,     0.79499,     0.79414,     0.79317,\n",
      "             0.7931,     0.79303,     0.79322,     0.79341,     0.79327,     0.79316,     0.79287,     0.79241,     0.79227,     0.79216,     0.79235,     0.79294,     0.79283,     0.79235,     0.79254,     0.79244,      0.7927,     0.79241,     0.79195,     0.79205,     0.79198,     0.79232,       0.792,\n",
      "            0.79142,     0.79056,     0.78998,     0.78969,     0.78979,     0.79033,     0.79013,     0.78945,     0.78916,     0.78858,     0.78842,     0.78827,     0.78845,     0.78844,     0.78829,     0.78775,     0.78716,     0.78678,     0.78661,     0.78658,      0.7862,     0.78577,     0.78567,\n",
      "            0.78557,     0.78508,     0.78516,     0.78475,     0.78478,     0.78488,     0.78472,     0.78446,     0.78445,      0.7845,     0.78455,     0.78459,     0.78447,     0.78426,     0.78408,     0.78387,     0.78394,       0.784,     0.78406,     0.78413,     0.78419,     0.78389,     0.78375,\n",
      "            0.78348,      0.7832,     0.78305,     0.78279,     0.78264,     0.78246,     0.78187,     0.78157,     0.78073,     0.78058,     0.78075,     0.78016,     0.77956,     0.77858,     0.77827,     0.77767,     0.77752,     0.77737,     0.77654,     0.77595,     0.77517,     0.77506,     0.77496,\n",
      "            0.77492,     0.77402,      0.7739,      0.7733,     0.77315,       0.773,     0.77284,     0.77246,     0.77276,     0.77162,     0.77132,     0.77147,     0.77138,     0.77047,     0.76956,     0.76928,     0.76944,     0.76887,     0.76845,     0.76855,     0.76836,     0.76846,     0.76694,\n",
      "            0.76603,     0.76591,      0.7653,     0.76468,     0.76424,     0.76425,     0.76333,     0.76272,      0.7622,     0.76216,     0.76154,     0.76093,     0.76039,     0.76023,     0.76008,     0.75992,     0.75946,      0.7593,     0.75904,     0.75811,     0.75795,     0.75784,     0.75774,\n",
      "            0.75766,     0.75734,     0.75685,     0.75669,      0.7564,     0.75531,     0.75499,     0.75447,     0.75436,     0.75426,     0.75392,     0.75329,     0.75328,     0.75315,     0.75316,     0.75301,     0.75239,     0.75207,     0.75156,      0.7514,     0.75124,     0.75108,     0.75017,\n",
      "            0.74985,     0.74922,     0.74859,     0.74814,     0.74782,     0.74738,     0.74716,     0.74614,     0.74582,     0.74536,      0.7447,     0.74454,     0.74364,     0.74319,     0.74229,     0.74178,     0.74165,     0.74131,     0.74138,     0.74144,     0.74053,     0.74041,      0.7405,\n",
      "            0.74048,     0.74032,     0.73984,     0.73967,     0.73942,      0.7391,     0.73845,     0.73825,     0.73812,     0.73763,     0.73671,      0.7366,     0.73649,     0.73632,       0.736,     0.73535,      0.7347,     0.73437,     0.73378,     0.73357,     0.73341,     0.73326,      0.7328,\n",
      "            0.73183,     0.73119,     0.73102,     0.73067,     0.73021,     0.72988,     0.72909,     0.72855,     0.72838,     0.72744,     0.72719,     0.72615,     0.72549,     0.72456,      0.7244,     0.72383,     0.72336,     0.72267,     0.72201,     0.72135,      0.7212,     0.72105,     0.72035,\n",
      "            0.71922,     0.71855,     0.71756,     0.71707,      0.7164,     0.71391,     0.71257,     0.71223,     0.71205,     0.71195,     0.71089,      0.7107,     0.71053,     0.70997,     0.70935,     0.70868,     0.70842,     0.70825,     0.70785,     0.70799,     0.70736,     0.70743,     0.70751,\n",
      "            0.70663,     0.70595,     0.70527,     0.70397,     0.70379,     0.70225,     0.70202,     0.70184,     0.70166,     0.70144,     0.70107,      0.7009,     0.69934,     0.69741,      0.6975,     0.69757,     0.69734,     0.69596,     0.69578,     0.69523,     0.69466,     0.69448,     0.69361,\n",
      "            0.69337,     0.69318,     0.69301,     0.69141,     0.69117,     0.69093,     0.69006,     0.68988,     0.68879,     0.68787,     0.68728,      0.6871,     0.68623,     0.68599,     0.68436,     0.68273,     0.68255,     0.68236,     0.68213,     0.68189,     0.68096,     0.68078,     0.68041,\n",
      "            0.68018,     0.67958,     0.67829,     0.67805,     0.67804,     0.67786,      0.6771,     0.67598,      0.6745,     0.67426,      0.6737,     0.67352,     0.67187,     0.67092,     0.67067,     0.66936,     0.66911,     0.66887,     0.66684,     0.66623,     0.66599,     0.66579,     0.66561,\n",
      "            0.66393,     0.66296,     0.66272,     0.66228,      0.6615,     0.66089,     0.66064,     0.66039,     0.65978,     0.65953,     0.65735,      0.6574,     0.65715,     0.65617,     0.65537,     0.65512,     0.65377,     0.65352,     0.65327,     0.65229,     0.65093,     0.65068,     0.64859,\n",
      "            0.64778,     0.64713,     0.64688,     0.64626,     0.64488,      0.6419,     0.64165,     0.63952,     0.63889,     0.63864,      0.6365,     0.63512,     0.63486,     0.63271,     0.63069,      0.6273,     0.62704,     0.62563,     0.62346,      0.6232,     0.62088,     0.61831,     0.61611,\n",
      "            0.61524,     0.61497,     0.61424,     0.61197,     0.61054,     0.61027,     0.60795,     0.60646,     0.60423,     0.60396,      0.6012,     0.59932,      0.5979,     0.59773,     0.59757,     0.59651,     0.59554,      0.5944,     0.59292,     0.59051,     0.59023,     0.58722,     0.58648,\n",
      "            0.58416,     0.58173,     0.58145,     0.57944,     0.57912,     0.57758,     0.57597,     0.57568,     0.57529,     0.57251,     0.57093,     0.56885,     0.56849,      0.5682,     0.56586,     0.56268,     0.56239,     0.56076,     0.55991,     0.55704,     0.55435,     0.55179,     0.55011,\n",
      "            0.54981,     0.54556,     0.54297,     0.54253,     0.54178,      0.5397,     0.53752,     0.53665,     0.53359,     0.53277,     0.53247,     0.52999,      0.5247,     0.52383,     0.52262,     0.51877,     0.51742,     0.51385,     0.51354,     0.51043,     0.50816,     0.50679,     0.50406,\n",
      "            0.50055,     0.49779,     0.49594,      0.4937,     0.49053,     0.48541,     0.48446,     0.48258,     0.47975,     0.47549,     0.47194,     0.46621,     0.45947,     0.45752,     0.45266,     0.44776,      0.4453,     0.43564,     0.43164,     0.42912,      0.4271,     0.42403,     0.41835,\n",
      "            0.41732,     0.41066,     0.40004,     0.39794,     0.39507,     0.39031,     0.38341,     0.38018,     0.37779,     0.37509,     0.36725,      0.3639,     0.36097,     0.35767,     0.34577,     0.34339,     0.33651,     0.32601,     0.32067,     0.31364,     0.30607,     0.29873,     0.29315,\n",
      "            0.28385,     0.28115,      0.2769,     0.26686,     0.26041,     0.25541,      0.2461,     0.24099,     0.23156,     0.22633,     0.22226,     0.21532,     0.20371,     0.19957,     0.19311,     0.18688,     0.17744,     0.17258,     0.16923,     0.16264,     0.15956,     0.15122,     0.14386,\n",
      "            0.13502,      0.1286,     0.12433,     0.11922,     0.11268,     0.10902,     0.10606,     0.10017,    0.093505,    0.090319,    0.085262,    0.082237,    0.076948,    0.073142,    0.066282,     0.06396,    0.060101,    0.058531,    0.053881,    0.049982,     0.04661,    0.042918,    0.041767,\n",
      "           0.038936,    0.037331,    0.034938,    0.033327,    0.032446,    0.030096,    0.027685,    0.024692,    0.022846,    0.020762,    0.020217,     0.01944,    0.018622,    0.016603,      0.0143,    0.013751,    0.012133,    0.011288,   0.0088907,   0.0084773,   0.0080237,    0.007196,    0.006428,\n",
      "          0.0060135,   0.0053571,   0.0044791,   0.0040096,   0.0038019,   0.0035942,   0.0033864,    0.002249,    0.001694,   0.0014799,   0.0013133,   0.0011467,  0.00098008,  0.00081342,           0,           0,           0,           0,           0,           0,           0,           0,           0,\n",
      "                  0,           0,           0,           0,           0,           0,           0,           0,           0,           0,           0]]), 'Confidence', 'F1'], [array([          0,    0.001001,    0.002002,    0.003003,    0.004004,    0.005005,    0.006006,    0.007007,    0.008008,    0.009009,     0.01001,    0.011011,    0.012012,    0.013013,    0.014014,    0.015015,    0.016016,    0.017017,    0.018018,    0.019019,     0.02002,    0.021021,    0.022022,    0.023023,\n",
      "          0.024024,    0.025025,    0.026026,    0.027027,    0.028028,    0.029029,     0.03003,    0.031031,    0.032032,    0.033033,    0.034034,    0.035035,    0.036036,    0.037037,    0.038038,    0.039039,     0.04004,    0.041041,    0.042042,    0.043043,    0.044044,    0.045045,    0.046046,    0.047047,\n",
      "          0.048048,    0.049049,     0.05005,    0.051051,    0.052052,    0.053053,    0.054054,    0.055055,    0.056056,    0.057057,    0.058058,    0.059059,     0.06006,    0.061061,    0.062062,    0.063063,    0.064064,    0.065065,    0.066066,    0.067067,    0.068068,    0.069069,     0.07007,    0.071071,\n",
      "          0.072072,    0.073073,    0.074074,    0.075075,    0.076076,    0.077077,    0.078078,    0.079079,     0.08008,    0.081081,    0.082082,    0.083083,    0.084084,    0.085085,    0.086086,    0.087087,    0.088088,    0.089089,     0.09009,    0.091091,    0.092092,    0.093093,    0.094094,    0.095095,\n",
      "          0.096096,    0.097097,    0.098098,    0.099099,      0.1001,      0.1011,      0.1021,      0.1031,      0.1041,     0.10511,     0.10611,     0.10711,     0.10811,     0.10911,     0.11011,     0.11111,     0.11211,     0.11311,     0.11411,     0.11512,     0.11612,     0.11712,     0.11812,     0.11912,\n",
      "           0.12012,     0.12112,     0.12212,     0.12312,     0.12412,     0.12513,     0.12613,     0.12713,     0.12813,     0.12913,     0.13013,     0.13113,     0.13213,     0.13313,     0.13413,     0.13514,     0.13614,     0.13714,     0.13814,     0.13914,     0.14014,     0.14114,     0.14214,     0.14314,\n",
      "           0.14414,     0.14515,     0.14615,     0.14715,     0.14815,     0.14915,     0.15015,     0.15115,     0.15215,     0.15315,     0.15415,     0.15516,     0.15616,     0.15716,     0.15816,     0.15916,     0.16016,     0.16116,     0.16216,     0.16316,     0.16416,     0.16517,     0.16617,     0.16717,\n",
      "           0.16817,     0.16917,     0.17017,     0.17117,     0.17217,     0.17317,     0.17417,     0.17518,     0.17618,     0.17718,     0.17818,     0.17918,     0.18018,     0.18118,     0.18218,     0.18318,     0.18418,     0.18519,     0.18619,     0.18719,     0.18819,     0.18919,     0.19019,     0.19119,\n",
      "           0.19219,     0.19319,     0.19419,      0.1952,      0.1962,      0.1972,      0.1982,      0.1992,      0.2002,      0.2012,      0.2022,      0.2032,      0.2042,     0.20521,     0.20621,     0.20721,     0.20821,     0.20921,     0.21021,     0.21121,     0.21221,     0.21321,     0.21421,     0.21522,\n",
      "           0.21622,     0.21722,     0.21822,     0.21922,     0.22022,     0.22122,     0.22222,     0.22322,     0.22422,     0.22523,     0.22623,     0.22723,     0.22823,     0.22923,     0.23023,     0.23123,     0.23223,     0.23323,     0.23423,     0.23524,     0.23624,     0.23724,     0.23824,     0.23924,\n",
      "           0.24024,     0.24124,     0.24224,     0.24324,     0.24424,     0.24525,     0.24625,     0.24725,     0.24825,     0.24925,     0.25025,     0.25125,     0.25225,     0.25325,     0.25425,     0.25526,     0.25626,     0.25726,     0.25826,     0.25926,     0.26026,     0.26126,     0.26226,     0.26326,\n",
      "           0.26426,     0.26527,     0.26627,     0.26727,     0.26827,     0.26927,     0.27027,     0.27127,     0.27227,     0.27327,     0.27427,     0.27528,     0.27628,     0.27728,     0.27828,     0.27928,     0.28028,     0.28128,     0.28228,     0.28328,     0.28428,     0.28529,     0.28629,     0.28729,\n",
      "           0.28829,     0.28929,     0.29029,     0.29129,     0.29229,     0.29329,     0.29429,      0.2953,      0.2963,      0.2973,      0.2983,      0.2993,      0.3003,      0.3013,      0.3023,      0.3033,      0.3043,     0.30531,     0.30631,     0.30731,     0.30831,     0.30931,     0.31031,     0.31131,\n",
      "           0.31231,     0.31331,     0.31431,     0.31532,     0.31632,     0.31732,     0.31832,     0.31932,     0.32032,     0.32132,     0.32232,     0.32332,     0.32432,     0.32533,     0.32633,     0.32733,     0.32833,     0.32933,     0.33033,     0.33133,     0.33233,     0.33333,     0.33433,     0.33534,\n",
      "           0.33634,     0.33734,     0.33834,     0.33934,     0.34034,     0.34134,     0.34234,     0.34334,     0.34434,     0.34535,     0.34635,     0.34735,     0.34835,     0.34935,     0.35035,     0.35135,     0.35235,     0.35335,     0.35435,     0.35536,     0.35636,     0.35736,     0.35836,     0.35936,\n",
      "           0.36036,     0.36136,     0.36236,     0.36336,     0.36436,     0.36537,     0.36637,     0.36737,     0.36837,     0.36937,     0.37037,     0.37137,     0.37237,     0.37337,     0.37437,     0.37538,     0.37638,     0.37738,     0.37838,     0.37938,     0.38038,     0.38138,     0.38238,     0.38338,\n",
      "           0.38438,     0.38539,     0.38639,     0.38739,     0.38839,     0.38939,     0.39039,     0.39139,     0.39239,     0.39339,     0.39439,      0.3954,      0.3964,      0.3974,      0.3984,      0.3994,      0.4004,      0.4014,      0.4024,      0.4034,      0.4044,     0.40541,     0.40641,     0.40741,\n",
      "           0.40841,     0.40941,     0.41041,     0.41141,     0.41241,     0.41341,     0.41441,     0.41542,     0.41642,     0.41742,     0.41842,     0.41942,     0.42042,     0.42142,     0.42242,     0.42342,     0.42442,     0.42543,     0.42643,     0.42743,     0.42843,     0.42943,     0.43043,     0.43143,\n",
      "           0.43243,     0.43343,     0.43443,     0.43544,     0.43644,     0.43744,     0.43844,     0.43944,     0.44044,     0.44144,     0.44244,     0.44344,     0.44444,     0.44545,     0.44645,     0.44745,     0.44845,     0.44945,     0.45045,     0.45145,     0.45245,     0.45345,     0.45445,     0.45546,\n",
      "           0.45646,     0.45746,     0.45846,     0.45946,     0.46046,     0.46146,     0.46246,     0.46346,     0.46446,     0.46547,     0.46647,     0.46747,     0.46847,     0.46947,     0.47047,     0.47147,     0.47247,     0.47347,     0.47447,     0.47548,     0.47648,     0.47748,     0.47848,     0.47948,\n",
      "           0.48048,     0.48148,     0.48248,     0.48348,     0.48448,     0.48549,     0.48649,     0.48749,     0.48849,     0.48949,     0.49049,     0.49149,     0.49249,     0.49349,     0.49449,      0.4955,      0.4965,      0.4975,      0.4985,      0.4995,      0.5005,      0.5015,      0.5025,      0.5035,\n",
      "            0.5045,     0.50551,     0.50651,     0.50751,     0.50851,     0.50951,     0.51051,     0.51151,     0.51251,     0.51351,     0.51451,     0.51552,     0.51652,     0.51752,     0.51852,     0.51952,     0.52052,     0.52152,     0.52252,     0.52352,     0.52452,     0.52553,     0.52653,     0.52753,\n",
      "           0.52853,     0.52953,     0.53053,     0.53153,     0.53253,     0.53353,     0.53453,     0.53554,     0.53654,     0.53754,     0.53854,     0.53954,     0.54054,     0.54154,     0.54254,     0.54354,     0.54454,     0.54555,     0.54655,     0.54755,     0.54855,     0.54955,     0.55055,     0.55155,\n",
      "           0.55255,     0.55355,     0.55455,     0.55556,     0.55656,     0.55756,     0.55856,     0.55956,     0.56056,     0.56156,     0.56256,     0.56356,     0.56456,     0.56557,     0.56657,     0.56757,     0.56857,     0.56957,     0.57057,     0.57157,     0.57257,     0.57357,     0.57457,     0.57558,\n",
      "           0.57658,     0.57758,     0.57858,     0.57958,     0.58058,     0.58158,     0.58258,     0.58358,     0.58458,     0.58559,     0.58659,     0.58759,     0.58859,     0.58959,     0.59059,     0.59159,     0.59259,     0.59359,     0.59459,      0.5956,      0.5966,      0.5976,      0.5986,      0.5996,\n",
      "            0.6006,      0.6016,      0.6026,      0.6036,      0.6046,     0.60561,     0.60661,     0.60761,     0.60861,     0.60961,     0.61061,     0.61161,     0.61261,     0.61361,     0.61461,     0.61562,     0.61662,     0.61762,     0.61862,     0.61962,     0.62062,     0.62162,     0.62262,     0.62362,\n",
      "           0.62462,     0.62563,     0.62663,     0.62763,     0.62863,     0.62963,     0.63063,     0.63163,     0.63263,     0.63363,     0.63463,     0.63564,     0.63664,     0.63764,     0.63864,     0.63964,     0.64064,     0.64164,     0.64264,     0.64364,     0.64464,     0.64565,     0.64665,     0.64765,\n",
      "           0.64865,     0.64965,     0.65065,     0.65165,     0.65265,     0.65365,     0.65465,     0.65566,     0.65666,     0.65766,     0.65866,     0.65966,     0.66066,     0.66166,     0.66266,     0.66366,     0.66466,     0.66567,     0.66667,     0.66767,     0.66867,     0.66967,     0.67067,     0.67167,\n",
      "           0.67267,     0.67367,     0.67467,     0.67568,     0.67668,     0.67768,     0.67868,     0.67968,     0.68068,     0.68168,     0.68268,     0.68368,     0.68468,     0.68569,     0.68669,     0.68769,     0.68869,     0.68969,     0.69069,     0.69169,     0.69269,     0.69369,     0.69469,      0.6957,\n",
      "            0.6967,      0.6977,      0.6987,      0.6997,      0.7007,      0.7017,      0.7027,      0.7037,      0.7047,     0.70571,     0.70671,     0.70771,     0.70871,     0.70971,     0.71071,     0.71171,     0.71271,     0.71371,     0.71471,     0.71572,     0.71672,     0.71772,     0.71872,     0.71972,\n",
      "           0.72072,     0.72172,     0.72272,     0.72372,     0.72472,     0.72573,     0.72673,     0.72773,     0.72873,     0.72973,     0.73073,     0.73173,     0.73273,     0.73373,     0.73473,     0.73574,     0.73674,     0.73774,     0.73874,     0.73974,     0.74074,     0.74174,     0.74274,     0.74374,\n",
      "           0.74474,     0.74575,     0.74675,     0.74775,     0.74875,     0.74975,     0.75075,     0.75175,     0.75275,     0.75375,     0.75475,     0.75576,     0.75676,     0.75776,     0.75876,     0.75976,     0.76076,     0.76176,     0.76276,     0.76376,     0.76476,     0.76577,     0.76677,     0.76777,\n",
      "           0.76877,     0.76977,     0.77077,     0.77177,     0.77277,     0.77377,     0.77477,     0.77578,     0.77678,     0.77778,     0.77878,     0.77978,     0.78078,     0.78178,     0.78278,     0.78378,     0.78478,     0.78579,     0.78679,     0.78779,     0.78879,     0.78979,     0.79079,     0.79179,\n",
      "           0.79279,     0.79379,     0.79479,      0.7958,      0.7968,      0.7978,      0.7988,      0.7998,      0.8008,      0.8018,      0.8028,      0.8038,      0.8048,     0.80581,     0.80681,     0.80781,     0.80881,     0.80981,     0.81081,     0.81181,     0.81281,     0.81381,     0.81481,     0.81582,\n",
      "           0.81682,     0.81782,     0.81882,     0.81982,     0.82082,     0.82182,     0.82282,     0.82382,     0.82482,     0.82583,     0.82683,     0.82783,     0.82883,     0.82983,     0.83083,     0.83183,     0.83283,     0.83383,     0.83483,     0.83584,     0.83684,     0.83784,     0.83884,     0.83984,\n",
      "           0.84084,     0.84184,     0.84284,     0.84384,     0.84484,     0.84585,     0.84685,     0.84785,     0.84885,     0.84985,     0.85085,     0.85185,     0.85285,     0.85385,     0.85485,     0.85586,     0.85686,     0.85786,     0.85886,     0.85986,     0.86086,     0.86186,     0.86286,     0.86386,\n",
      "           0.86486,     0.86587,     0.86687,     0.86787,     0.86887,     0.86987,     0.87087,     0.87187,     0.87287,     0.87387,     0.87487,     0.87588,     0.87688,     0.87788,     0.87888,     0.87988,     0.88088,     0.88188,     0.88288,     0.88388,     0.88488,     0.88589,     0.88689,     0.88789,\n",
      "           0.88889,     0.88989,     0.89089,     0.89189,     0.89289,     0.89389,     0.89489,      0.8959,      0.8969,      0.8979,      0.8989,      0.8999,      0.9009,      0.9019,      0.9029,      0.9039,      0.9049,     0.90591,     0.90691,     0.90791,     0.90891,     0.90991,     0.91091,     0.91191,\n",
      "           0.91291,     0.91391,     0.91491,     0.91592,     0.91692,     0.91792,     0.91892,     0.91992,     0.92092,     0.92192,     0.92292,     0.92392,     0.92492,     0.92593,     0.92693,     0.92793,     0.92893,     0.92993,     0.93093,     0.93193,     0.93293,     0.93393,     0.93493,     0.93594,\n",
      "           0.93694,     0.93794,     0.93894,     0.93994,     0.94094,     0.94194,     0.94294,     0.94394,     0.94494,     0.94595,     0.94695,     0.94795,     0.94895,     0.94995,     0.95095,     0.95195,     0.95295,     0.95395,     0.95495,     0.95596,     0.95696,     0.95796,     0.95896,     0.95996,\n",
      "           0.96096,     0.96196,     0.96296,     0.96396,     0.96496,     0.96597,     0.96697,     0.96797,     0.96897,     0.96997,     0.97097,     0.97197,     0.97297,     0.97397,     0.97497,     0.97598,     0.97698,     0.97798,     0.97898,     0.97998,     0.98098,     0.98198,     0.98298,     0.98398,\n",
      "           0.98498,     0.98599,     0.98699,     0.98799,     0.98899,     0.98999,     0.99099,     0.99199,     0.99299,     0.99399,     0.99499,       0.996,       0.997,       0.998,       0.999,           1]), array([[    0.13748,     0.13752,     0.15004,     0.15545,     0.15848,     0.16035,     0.16198,     0.16785,      0.1883,     0.20747,     0.22707,      0.2474,     0.26715,     0.28784,     0.30927,     0.32991,     0.34927,     0.36835,     0.38232,     0.39601,     0.40818,     0.41902,     0.42953,\n",
      "            0.43793,     0.44564,     0.45333,     0.46046,     0.46733,      0.4738,     0.48007,     0.48642,     0.49352,     0.49808,     0.50245,     0.50722,     0.51152,     0.51602,     0.52032,     0.52576,     0.52998,     0.53313,     0.53719,     0.54079,     0.54582,     0.54987,     0.55286,\n",
      "            0.55662,     0.56006,     0.56425,     0.56689,     0.57051,     0.57388,     0.57854,     0.58137,     0.58474,      0.5876,     0.59059,     0.59307,     0.59609,     0.59865,     0.60041,     0.60379,     0.60668,     0.60902,     0.61138,     0.61345,     0.61606,      0.6193,     0.62287,\n",
      "             0.6256,     0.62807,      0.6298,     0.63121,     0.63362,     0.63564,     0.63757,     0.63875,     0.64067,     0.64322,     0.64525,     0.64826,     0.64971,     0.65161,     0.65387,     0.65598,     0.65782,     0.65922,      0.6597,     0.66121,     0.66207,     0.66414,     0.66531,\n",
      "            0.66671,     0.66927,     0.67302,     0.67489,     0.67632,     0.67796,      0.6807,     0.68201,     0.68333,     0.68546,      0.6869,      0.6893,     0.69072,     0.69239,     0.69332,     0.69602,     0.69718,     0.69866,     0.70021,     0.70177,     0.70476,     0.70588,     0.70751,\n",
      "            0.70871,     0.71111,     0.71217,     0.71367,     0.71434,       0.715,     0.71616,      0.7183,     0.71951,     0.72069,     0.72144,     0.72287,     0.72385,     0.72559,     0.72699,     0.72739,     0.72871,     0.72952,     0.73097,     0.73187,     0.73275,     0.73376,     0.73452,\n",
      "            0.73659,     0.73793,     0.73995,     0.74204,     0.74265,      0.7444,     0.74548,     0.74657,     0.74776,     0.74851,     0.74874,     0.74967,     0.75166,     0.75336,     0.75396,     0.75442,     0.75624,     0.75735,     0.75821,     0.75942,      0.7597,     0.76214,     0.76413,\n",
      "            0.76505,     0.76617,     0.76683,     0.76918,     0.76917,      0.7699,     0.77032,     0.77216,     0.77248,     0.77281,     0.77518,      0.7763,     0.77682,      0.7777,     0.77863,     0.78069,      0.7816,      0.7825,     0.78315,     0.78397,     0.78516,     0.78639,     0.78818,\n",
      "            0.78937,      0.7912,     0.79334,     0.79489,     0.79544,      0.7959,     0.79711,     0.79724,      0.7979,     0.79919,     0.79975,     0.80116,     0.80275,     0.80285,     0.80302,      0.8033,     0.80547,     0.80622,     0.80676,     0.80742,     0.80796,     0.80888,      0.8094,\n",
      "            0.81058,     0.81151,     0.81273,     0.81327,     0.81353,     0.81509,     0.81562,     0.81797,     0.81851,     0.81956,     0.82018,      0.8207,     0.82123,     0.82226,     0.82268,     0.82439,     0.82501,     0.82514,     0.82531,     0.82638,     0.82657,     0.82803,     0.82831,\n",
      "            0.82998,     0.83044,     0.83091,     0.83204,     0.83232,     0.83302,     0.83329,     0.83386,     0.83381,     0.83401,     0.83405,     0.83433,     0.83548,       0.836,     0.83689,     0.83856,     0.83998,     0.84029,     0.84153,      0.8428,     0.84358,     0.84481,     0.84535,\n",
      "            0.84581,     0.84673,     0.84765,      0.8493,     0.85055,      0.8513,     0.85242,     0.85336,     0.85587,     0.85582,      0.8561,     0.85682,     0.85795,      0.8589,     0.85903,     0.86032,     0.86117,     0.86173,     0.86256,     0.86327,     0.86321,     0.86317,     0.86399,\n",
      "            0.86448,     0.86577,     0.86629,     0.86628,     0.86621,     0.86679,     0.86701,     0.86697,      0.8672,     0.86783,     0.86802,     0.86873,     0.86963,     0.87015,     0.87122,     0.87192,     0.87243,     0.87318,       0.875,     0.87631,      0.8768,     0.87737,     0.87725,\n",
      "            0.87773,     0.87798,     0.87799,     0.87826,     0.87864,     0.88047,     0.88114,     0.88188,     0.88224,     0.88302,     0.88323,     0.88318,     0.88314,     0.88347,     0.88373,     0.88398,     0.88424,     0.88424,     0.88437,      0.8845,     0.88558,     0.88636,     0.88662,\n",
      "            0.88706,     0.88713,     0.88877,     0.89058,     0.89182,     0.89216,     0.89213,      0.8934,     0.89477,     0.89515,     0.89569,     0.89622,     0.89652,     0.89678,     0.89677,       0.897,     0.89774,     0.89824,     0.89871,     0.89926,     0.89977,      0.9002,     0.90015,\n",
      "            0.90013,     0.90011,     0.90062,     0.90089,     0.90167,     0.90266,     0.90263,     0.90358,     0.90509,     0.90557,     0.90605,     0.90672,     0.90749,     0.90808,     0.90899,     0.90982,     0.91026,     0.91031,     0.91058,     0.91141,     0.91252,     0.91263,     0.91291,\n",
      "            0.91339,     0.91336,     0.91387,     0.91417,     0.91428,     0.91483,     0.91539,     0.91588,     0.91598,     0.91689,     0.91731,     0.91772,     0.91764,     0.91919,     0.91961,     0.91986,     0.92001,     0.92067,     0.92119,     0.92182,     0.92179,     0.92177,     0.92222,\n",
      "            0.92316,     0.92314,     0.92313,     0.92364,     0.92405,     0.92423,      0.9245,     0.92491,     0.92537,     0.92528,     0.92524,     0.92563,     0.92569,     0.92611,     0.92651,     0.92702,     0.92791,     0.92789,     0.92837,     0.92835,     0.92829,     0.92817,      0.9282,\n",
      "            0.92874,     0.92928,     0.92981,     0.93033,     0.93046,     0.93093,     0.93089,     0.93083,     0.93081,     0.93132,     0.93185,     0.93432,      0.9348,     0.93483,     0.93536,     0.93586,     0.93676,     0.93673,     0.93675,     0.93701,     0.93835,     0.93971,     0.93968,\n",
      "            0.93961,     0.93951,     0.93944,     0.93959,     0.93986,     0.94141,     0.94148,     0.94191,     0.94188,     0.94181,     0.94179,     0.94178,      0.9423,     0.94385,     0.94383,     0.94428,     0.94422,      0.9447,     0.94468,     0.94519,     0.94538,     0.94667,     0.94666,\n",
      "            0.94665,      0.9466,     0.94765,     0.94845,     0.94936,     0.94964,     0.94972,     0.95006,     0.95085,     0.95099,     0.95113,     0.95127,     0.95172,      0.9518,     0.95225,     0.95246,     0.95265,     0.95284,     0.95303,     0.95322,     0.95341,     0.95338,     0.95337,\n",
      "            0.95388,     0.95385,     0.95384,     0.95436,     0.95434,     0.95433,     0.95427,     0.95425,     0.95417,     0.95415,     0.95526,     0.95521,     0.95515,     0.95529,     0.95558,     0.95553,     0.95662,     0.95661,     0.95653,     0.95648,     0.95641,      0.9564,      0.9564,\n",
      "            0.95695,     0.95687,     0.95742,     0.95792,     0.95791,      0.9579,     0.95788,     0.95841,     0.95949,     0.95947,     0.95945,     0.95999,     0.96058,     0.96051,     0.96044,     0.96044,       0.961,       0.961,     0.96152,     0.96183,     0.96215,     0.96264,     0.96253,\n",
      "            0.96246,     0.96303,     0.96298,     0.96293,      0.9631,     0.96348,     0.96341,     0.96337,     0.96417,      0.9645,     0.96445,     0.96441,     0.96437,     0.96436,     0.96435,     0.96433,      0.9643,     0.96429,     0.96427,      0.9642,     0.96419,     0.96418,     0.96418,\n",
      "            0.96476,     0.96474,      0.9647,     0.96469,     0.96467,     0.96459,     0.96457,     0.96453,     0.96452,     0.96452,     0.96509,     0.96504,     0.96541,     0.96563,     0.96604,     0.96623,     0.96618,     0.96616,     0.96613,     0.96611,      0.9661,     0.96609,     0.96603,\n",
      "            0.96601,     0.96596,     0.96592,      0.9665,     0.96647,     0.96705,     0.96704,     0.96758,     0.96756,     0.96853,     0.96872,     0.96871,     0.96865,     0.96925,     0.96965,     0.96978,      0.9704,     0.97055,     0.97077,     0.97099,     0.97096,     0.97171,     0.97204,\n",
      "            0.97222,     0.97221,     0.97218,     0.97217,     0.97216,     0.97214,      0.9721,     0.97209,     0.97208,     0.97205,       0.972,     0.97199,     0.97199,     0.97198,     0.97196,     0.97192,     0.97188,     0.97186,     0.97247,     0.97246,     0.97245,     0.97308,      0.9737,\n",
      "            0.97365,     0.97361,      0.9736,     0.97423,     0.97421,     0.97419,      0.9748,     0.97477,     0.97476,     0.97471,     0.97522,      0.9753,     0.97527,     0.97522,     0.97521,     0.97518,     0.97516,     0.97512,     0.97509,     0.97505,     0.97571,     0.97637,     0.97634,\n",
      "            0.97628,     0.97625,      0.9762,     0.97685,     0.97681,     0.97669,     0.97662,     0.97661,     0.97681,     0.97728,     0.97723,     0.97722,     0.97721,     0.97718,     0.97715,     0.97712,     0.97711,      0.9771,     0.97712,     0.97778,     0.97778,     0.97807,     0.97835,\n",
      "            0.97841,     0.97837,     0.97834,     0.97898,     0.97898,     0.97891,      0.9789,     0.97889,     0.97888,     0.97887,     0.97956,     0.97955,     0.97948,      0.9794,     0.97977,     0.98012,     0.98011,     0.98076,     0.98076,     0.98073,     0.98071,      0.9807,     0.98067,\n",
      "            0.98066,     0.98065,     0.98064,     0.98057,     0.98056,     0.98055,     0.98052,     0.98051,     0.98119,     0.98116,     0.98113,     0.98112,     0.98109,     0.98108,     0.98101,     0.98094,     0.98094,     0.98093,     0.98092,     0.98091,     0.98087,     0.98086,     0.98159,\n",
      "            0.98158,     0.98156,     0.98151,      0.9815,     0.98225,     0.98224,     0.98296,     0.98368,     0.98439,     0.98438,     0.98436,     0.98435,      0.9843,     0.98426,     0.98425,     0.98421,      0.9842,     0.98419,     0.98412,      0.9841,     0.98409,     0.98408,     0.98408,\n",
      "            0.98402,     0.98398,     0.98397,     0.98526,      0.9855,     0.98548,     0.98548,     0.98547,     0.98545,     0.98544,     0.98572,     0.98617,     0.98616,     0.98613,      0.9869,      0.9869,     0.98686,     0.98685,     0.98684,     0.98681,     0.98677,     0.98677,      0.9867,\n",
      "            0.98695,     0.98912,     0.98911,      0.9891,     0.98907,     0.98899,     0.98899,     0.98893,     0.98892,     0.98891,     0.98886,     0.98882,     0.98881,     0.98876,     0.98956,     0.98948,     0.98947,     0.98944,     0.98939,     0.98938,     0.98932,     0.98926,     0.98921,\n",
      "            0.99007,     0.99007,     0.99005,        0.99,     0.98996,     0.98996,      0.9899,     0.98987,     0.98981,     0.98981,     0.98974,     0.98969,     0.98966,     0.98966,     0.98965,     0.98963,     0.99054,     0.99051,     0.99048,     0.99042,     0.99041,      0.9913,     0.99128,\n",
      "            0.99124,     0.99118,     0.99118,     0.99114,     0.99113,      0.9911,     0.99106,     0.99105,     0.99105,     0.99099,     0.99095,     0.99091,      0.9909,     0.99089,     0.99185,      0.9928,     0.99279,     0.99276,     0.99275,      0.9927,     0.99369,     0.99365,     0.99362,\n",
      "            0.99362,     0.99355,     0.99351,      0.9935,     0.99349,     0.99345,     0.99342,      0.9934,     0.99335,     0.99334,     0.99333,      0.9944,     0.99432,     0.99436,     0.99543,     0.99653,     0.99652,     0.99649,     0.99648,     0.99646,     0.99643,     0.99642,      0.9964,\n",
      "            0.99757,     0.99755,     0.99754,      0.9986,     0.99875,     0.99873,     0.99873,     0.99872,     0.99871,      0.9987,     0.99868,     0.99866,     0.99864,     0.99863,     0.99861,     0.99859,     0.99858,     0.99854,     0.99852,     0.99851,      0.9985,           1,           1,\n",
      "                  1,           1,           1,           1,           1,           1,           1,           1,           1,           1,           1,           1,           1,           1,           1,           1,           1,           1,           1,           1,           1,           1,           1,\n",
      "                  1,           1,           1,           1,           1,           1,           1,           1,           1,           1,           1,           1,           1,           1,           1,           1,           1,           1,           1,           1,           1,           1,           1,\n",
      "                  1,           1,           1,           1,           1,           1,           1,           1,           1,           1,           1,           1,           1,           1,           1,           1,           1,           1,           1,           1,           1,           1,           1,\n",
      "                  1,           1,           1,           1,           1,           1,           1,           1,           1,           1,           1,           1,           1,           1,           1,           1,           1,           1,           1,           1,           1,           1,           1,\n",
      "                  1,           1,           1,           1,           1,           1,           1,           1,           1,           1,           1,           1,           1,           1,           1,           1,           1,           1,           1,           1,           1,           1,           1,\n",
      "                  1,           1,           1,           1,           1,           1,           1,           1,           1,           1,           1]]), 'Confidence', 'Precision'], [array([          0,    0.001001,    0.002002,    0.003003,    0.004004,    0.005005,    0.006006,    0.007007,    0.008008,    0.009009,     0.01001,    0.011011,    0.012012,    0.013013,    0.014014,    0.015015,    0.016016,    0.017017,    0.018018,    0.019019,     0.02002,    0.021021,    0.022022,    0.023023,\n",
      "          0.024024,    0.025025,    0.026026,    0.027027,    0.028028,    0.029029,     0.03003,    0.031031,    0.032032,    0.033033,    0.034034,    0.035035,    0.036036,    0.037037,    0.038038,    0.039039,     0.04004,    0.041041,    0.042042,    0.043043,    0.044044,    0.045045,    0.046046,    0.047047,\n",
      "          0.048048,    0.049049,     0.05005,    0.051051,    0.052052,    0.053053,    0.054054,    0.055055,    0.056056,    0.057057,    0.058058,    0.059059,     0.06006,    0.061061,    0.062062,    0.063063,    0.064064,    0.065065,    0.066066,    0.067067,    0.068068,    0.069069,     0.07007,    0.071071,\n",
      "          0.072072,    0.073073,    0.074074,    0.075075,    0.076076,    0.077077,    0.078078,    0.079079,     0.08008,    0.081081,    0.082082,    0.083083,    0.084084,    0.085085,    0.086086,    0.087087,    0.088088,    0.089089,     0.09009,    0.091091,    0.092092,    0.093093,    0.094094,    0.095095,\n",
      "          0.096096,    0.097097,    0.098098,    0.099099,      0.1001,      0.1011,      0.1021,      0.1031,      0.1041,     0.10511,     0.10611,     0.10711,     0.10811,     0.10911,     0.11011,     0.11111,     0.11211,     0.11311,     0.11411,     0.11512,     0.11612,     0.11712,     0.11812,     0.11912,\n",
      "           0.12012,     0.12112,     0.12212,     0.12312,     0.12412,     0.12513,     0.12613,     0.12713,     0.12813,     0.12913,     0.13013,     0.13113,     0.13213,     0.13313,     0.13413,     0.13514,     0.13614,     0.13714,     0.13814,     0.13914,     0.14014,     0.14114,     0.14214,     0.14314,\n",
      "           0.14414,     0.14515,     0.14615,     0.14715,     0.14815,     0.14915,     0.15015,     0.15115,     0.15215,     0.15315,     0.15415,     0.15516,     0.15616,     0.15716,     0.15816,     0.15916,     0.16016,     0.16116,     0.16216,     0.16316,     0.16416,     0.16517,     0.16617,     0.16717,\n",
      "           0.16817,     0.16917,     0.17017,     0.17117,     0.17217,     0.17317,     0.17417,     0.17518,     0.17618,     0.17718,     0.17818,     0.17918,     0.18018,     0.18118,     0.18218,     0.18318,     0.18418,     0.18519,     0.18619,     0.18719,     0.18819,     0.18919,     0.19019,     0.19119,\n",
      "           0.19219,     0.19319,     0.19419,      0.1952,      0.1962,      0.1972,      0.1982,      0.1992,      0.2002,      0.2012,      0.2022,      0.2032,      0.2042,     0.20521,     0.20621,     0.20721,     0.20821,     0.20921,     0.21021,     0.21121,     0.21221,     0.21321,     0.21421,     0.21522,\n",
      "           0.21622,     0.21722,     0.21822,     0.21922,     0.22022,     0.22122,     0.22222,     0.22322,     0.22422,     0.22523,     0.22623,     0.22723,     0.22823,     0.22923,     0.23023,     0.23123,     0.23223,     0.23323,     0.23423,     0.23524,     0.23624,     0.23724,     0.23824,     0.23924,\n",
      "           0.24024,     0.24124,     0.24224,     0.24324,     0.24424,     0.24525,     0.24625,     0.24725,     0.24825,     0.24925,     0.25025,     0.25125,     0.25225,     0.25325,     0.25425,     0.25526,     0.25626,     0.25726,     0.25826,     0.25926,     0.26026,     0.26126,     0.26226,     0.26326,\n",
      "           0.26426,     0.26527,     0.26627,     0.26727,     0.26827,     0.26927,     0.27027,     0.27127,     0.27227,     0.27327,     0.27427,     0.27528,     0.27628,     0.27728,     0.27828,     0.27928,     0.28028,     0.28128,     0.28228,     0.28328,     0.28428,     0.28529,     0.28629,     0.28729,\n",
      "           0.28829,     0.28929,     0.29029,     0.29129,     0.29229,     0.29329,     0.29429,      0.2953,      0.2963,      0.2973,      0.2983,      0.2993,      0.3003,      0.3013,      0.3023,      0.3033,      0.3043,     0.30531,     0.30631,     0.30731,     0.30831,     0.30931,     0.31031,     0.31131,\n",
      "           0.31231,     0.31331,     0.31431,     0.31532,     0.31632,     0.31732,     0.31832,     0.31932,     0.32032,     0.32132,     0.32232,     0.32332,     0.32432,     0.32533,     0.32633,     0.32733,     0.32833,     0.32933,     0.33033,     0.33133,     0.33233,     0.33333,     0.33433,     0.33534,\n",
      "           0.33634,     0.33734,     0.33834,     0.33934,     0.34034,     0.34134,     0.34234,     0.34334,     0.34434,     0.34535,     0.34635,     0.34735,     0.34835,     0.34935,     0.35035,     0.35135,     0.35235,     0.35335,     0.35435,     0.35536,     0.35636,     0.35736,     0.35836,     0.35936,\n",
      "           0.36036,     0.36136,     0.36236,     0.36336,     0.36436,     0.36537,     0.36637,     0.36737,     0.36837,     0.36937,     0.37037,     0.37137,     0.37237,     0.37337,     0.37437,     0.37538,     0.37638,     0.37738,     0.37838,     0.37938,     0.38038,     0.38138,     0.38238,     0.38338,\n",
      "           0.38438,     0.38539,     0.38639,     0.38739,     0.38839,     0.38939,     0.39039,     0.39139,     0.39239,     0.39339,     0.39439,      0.3954,      0.3964,      0.3974,      0.3984,      0.3994,      0.4004,      0.4014,      0.4024,      0.4034,      0.4044,     0.40541,     0.40641,     0.40741,\n",
      "           0.40841,     0.40941,     0.41041,     0.41141,     0.41241,     0.41341,     0.41441,     0.41542,     0.41642,     0.41742,     0.41842,     0.41942,     0.42042,     0.42142,     0.42242,     0.42342,     0.42442,     0.42543,     0.42643,     0.42743,     0.42843,     0.42943,     0.43043,     0.43143,\n",
      "           0.43243,     0.43343,     0.43443,     0.43544,     0.43644,     0.43744,     0.43844,     0.43944,     0.44044,     0.44144,     0.44244,     0.44344,     0.44444,     0.44545,     0.44645,     0.44745,     0.44845,     0.44945,     0.45045,     0.45145,     0.45245,     0.45345,     0.45445,     0.45546,\n",
      "           0.45646,     0.45746,     0.45846,     0.45946,     0.46046,     0.46146,     0.46246,     0.46346,     0.46446,     0.46547,     0.46647,     0.46747,     0.46847,     0.46947,     0.47047,     0.47147,     0.47247,     0.47347,     0.47447,     0.47548,     0.47648,     0.47748,     0.47848,     0.47948,\n",
      "           0.48048,     0.48148,     0.48248,     0.48348,     0.48448,     0.48549,     0.48649,     0.48749,     0.48849,     0.48949,     0.49049,     0.49149,     0.49249,     0.49349,     0.49449,      0.4955,      0.4965,      0.4975,      0.4985,      0.4995,      0.5005,      0.5015,      0.5025,      0.5035,\n",
      "            0.5045,     0.50551,     0.50651,     0.50751,     0.50851,     0.50951,     0.51051,     0.51151,     0.51251,     0.51351,     0.51451,     0.51552,     0.51652,     0.51752,     0.51852,     0.51952,     0.52052,     0.52152,     0.52252,     0.52352,     0.52452,     0.52553,     0.52653,     0.52753,\n",
      "           0.52853,     0.52953,     0.53053,     0.53153,     0.53253,     0.53353,     0.53453,     0.53554,     0.53654,     0.53754,     0.53854,     0.53954,     0.54054,     0.54154,     0.54254,     0.54354,     0.54454,     0.54555,     0.54655,     0.54755,     0.54855,     0.54955,     0.55055,     0.55155,\n",
      "           0.55255,     0.55355,     0.55455,     0.55556,     0.55656,     0.55756,     0.55856,     0.55956,     0.56056,     0.56156,     0.56256,     0.56356,     0.56456,     0.56557,     0.56657,     0.56757,     0.56857,     0.56957,     0.57057,     0.57157,     0.57257,     0.57357,     0.57457,     0.57558,\n",
      "           0.57658,     0.57758,     0.57858,     0.57958,     0.58058,     0.58158,     0.58258,     0.58358,     0.58458,     0.58559,     0.58659,     0.58759,     0.58859,     0.58959,     0.59059,     0.59159,     0.59259,     0.59359,     0.59459,      0.5956,      0.5966,      0.5976,      0.5986,      0.5996,\n",
      "            0.6006,      0.6016,      0.6026,      0.6036,      0.6046,     0.60561,     0.60661,     0.60761,     0.60861,     0.60961,     0.61061,     0.61161,     0.61261,     0.61361,     0.61461,     0.61562,     0.61662,     0.61762,     0.61862,     0.61962,     0.62062,     0.62162,     0.62262,     0.62362,\n",
      "           0.62462,     0.62563,     0.62663,     0.62763,     0.62863,     0.62963,     0.63063,     0.63163,     0.63263,     0.63363,     0.63463,     0.63564,     0.63664,     0.63764,     0.63864,     0.63964,     0.64064,     0.64164,     0.64264,     0.64364,     0.64464,     0.64565,     0.64665,     0.64765,\n",
      "           0.64865,     0.64965,     0.65065,     0.65165,     0.65265,     0.65365,     0.65465,     0.65566,     0.65666,     0.65766,     0.65866,     0.65966,     0.66066,     0.66166,     0.66266,     0.66366,     0.66466,     0.66567,     0.66667,     0.66767,     0.66867,     0.66967,     0.67067,     0.67167,\n",
      "           0.67267,     0.67367,     0.67467,     0.67568,     0.67668,     0.67768,     0.67868,     0.67968,     0.68068,     0.68168,     0.68268,     0.68368,     0.68468,     0.68569,     0.68669,     0.68769,     0.68869,     0.68969,     0.69069,     0.69169,     0.69269,     0.69369,     0.69469,      0.6957,\n",
      "            0.6967,      0.6977,      0.6987,      0.6997,      0.7007,      0.7017,      0.7027,      0.7037,      0.7047,     0.70571,     0.70671,     0.70771,     0.70871,     0.70971,     0.71071,     0.71171,     0.71271,     0.71371,     0.71471,     0.71572,     0.71672,     0.71772,     0.71872,     0.71972,\n",
      "           0.72072,     0.72172,     0.72272,     0.72372,     0.72472,     0.72573,     0.72673,     0.72773,     0.72873,     0.72973,     0.73073,     0.73173,     0.73273,     0.73373,     0.73473,     0.73574,     0.73674,     0.73774,     0.73874,     0.73974,     0.74074,     0.74174,     0.74274,     0.74374,\n",
      "           0.74474,     0.74575,     0.74675,     0.74775,     0.74875,     0.74975,     0.75075,     0.75175,     0.75275,     0.75375,     0.75475,     0.75576,     0.75676,     0.75776,     0.75876,     0.75976,     0.76076,     0.76176,     0.76276,     0.76376,     0.76476,     0.76577,     0.76677,     0.76777,\n",
      "           0.76877,     0.76977,     0.77077,     0.77177,     0.77277,     0.77377,     0.77477,     0.77578,     0.77678,     0.77778,     0.77878,     0.77978,     0.78078,     0.78178,     0.78278,     0.78378,     0.78478,     0.78579,     0.78679,     0.78779,     0.78879,     0.78979,     0.79079,     0.79179,\n",
      "           0.79279,     0.79379,     0.79479,      0.7958,      0.7968,      0.7978,      0.7988,      0.7998,      0.8008,      0.8018,      0.8028,      0.8038,      0.8048,     0.80581,     0.80681,     0.80781,     0.80881,     0.80981,     0.81081,     0.81181,     0.81281,     0.81381,     0.81481,     0.81582,\n",
      "           0.81682,     0.81782,     0.81882,     0.81982,     0.82082,     0.82182,     0.82282,     0.82382,     0.82482,     0.82583,     0.82683,     0.82783,     0.82883,     0.82983,     0.83083,     0.83183,     0.83283,     0.83383,     0.83483,     0.83584,     0.83684,     0.83784,     0.83884,     0.83984,\n",
      "           0.84084,     0.84184,     0.84284,     0.84384,     0.84484,     0.84585,     0.84685,     0.84785,     0.84885,     0.84985,     0.85085,     0.85185,     0.85285,     0.85385,     0.85485,     0.85586,     0.85686,     0.85786,     0.85886,     0.85986,     0.86086,     0.86186,     0.86286,     0.86386,\n",
      "           0.86486,     0.86587,     0.86687,     0.86787,     0.86887,     0.86987,     0.87087,     0.87187,     0.87287,     0.87387,     0.87487,     0.87588,     0.87688,     0.87788,     0.87888,     0.87988,     0.88088,     0.88188,     0.88288,     0.88388,     0.88488,     0.88589,     0.88689,     0.88789,\n",
      "           0.88889,     0.88989,     0.89089,     0.89189,     0.89289,     0.89389,     0.89489,      0.8959,      0.8969,      0.8979,      0.8989,      0.8999,      0.9009,      0.9019,      0.9029,      0.9039,      0.9049,     0.90591,     0.90691,     0.90791,     0.90891,     0.90991,     0.91091,     0.91191,\n",
      "           0.91291,     0.91391,     0.91491,     0.91592,     0.91692,     0.91792,     0.91892,     0.91992,     0.92092,     0.92192,     0.92292,     0.92392,     0.92492,     0.92593,     0.92693,     0.92793,     0.92893,     0.92993,     0.93093,     0.93193,     0.93293,     0.93393,     0.93493,     0.93594,\n",
      "           0.93694,     0.93794,     0.93894,     0.93994,     0.94094,     0.94194,     0.94294,     0.94394,     0.94494,     0.94595,     0.94695,     0.94795,     0.94895,     0.94995,     0.95095,     0.95195,     0.95295,     0.95395,     0.95495,     0.95596,     0.95696,     0.95796,     0.95896,     0.95996,\n",
      "           0.96096,     0.96196,     0.96296,     0.96396,     0.96496,     0.96597,     0.96697,     0.96797,     0.96897,     0.96997,     0.97097,     0.97197,     0.97297,     0.97397,     0.97497,     0.97598,     0.97698,     0.97798,     0.97898,     0.97998,     0.98098,     0.98198,     0.98298,     0.98398,\n",
      "           0.98498,     0.98599,     0.98699,     0.98799,     0.98899,     0.98999,     0.99099,     0.99199,     0.99299,     0.99399,     0.99499,       0.996,       0.997,       0.998,       0.999,           1]), array([[     0.8633,      0.8633,      0.8629,     0.86208,     0.85964,     0.85761,      0.8572,     0.85639,     0.84947,     0.84459,     0.84011,     0.83767,      0.8336,     0.82994,     0.82587,     0.82262,     0.82018,     0.81814,     0.81489,     0.81326,     0.81204,     0.81123,     0.81001,\n",
      "             0.8096,     0.80797,     0.80675,     0.80675,     0.80553,     0.80472,     0.80431,      0.8035,      0.8035,     0.80269,     0.80228,     0.80187,     0.80187,     0.80187,     0.80187,     0.80187,     0.80146,     0.80065,     0.80024,     0.80024,     0.79984,     0.79943,     0.79821,\n",
      "            0.79821,     0.79821,      0.7978,     0.79658,     0.79577,     0.79577,     0.79577,     0.79536,     0.79496,     0.79455,     0.79455,     0.79455,     0.79455,     0.79414,     0.79414,     0.79357,     0.79333,     0.79211,     0.79211,      0.7917,     0.79129,     0.79089,     0.79086,\n",
      "            0.79048,     0.79007,     0.79007,     0.78967,     0.78967,     0.78967,     0.78926,     0.78885,     0.78885,     0.78885,     0.78845,     0.78804,     0.78703,     0.78682,     0.78682,     0.78682,       0.786,     0.78519,     0.78438,     0.78397,     0.78356,     0.78356,     0.78356,\n",
      "            0.78356,     0.78356,     0.78356,     0.78356,     0.78356,     0.78356,     0.78316,     0.78275,     0.78234,     0.78234,     0.78234,     0.78234,     0.78234,     0.78234,     0.78234,     0.78234,     0.78234,     0.78153,     0.78153,     0.78153,     0.78153,     0.78153,     0.78138,\n",
      "            0.78112,     0.78072,     0.78031,     0.77977,      0.7795,      0.7795,      0.7795,     0.77909,     0.77909,     0.77909,     0.77909,     0.77892,     0.77868,     0.77868,     0.77868,     0.77868,     0.77828,     0.77787,     0.77665,     0.77665,     0.77665,     0.77583,     0.77543,\n",
      "            0.77543,     0.77502,     0.77502,     0.77502,     0.77502,     0.77502,     0.77461,     0.77421,     0.77421,     0.77376,     0.77339,     0.77339,     0.77299,     0.77258,     0.77258,     0.77217,     0.77217,     0.77177,     0.77177,     0.77177,     0.77177,     0.77177,     0.77136,\n",
      "            0.77055,     0.77014,     0.77014,     0.77006,     0.76973,     0.76973,     0.76973,     0.76973,     0.76973,     0.76946,     0.76932,     0.76932,     0.76932,     0.76892,     0.76892,     0.76892,     0.76892,     0.76892,     0.76892,     0.76892,     0.76892,     0.76892,     0.76851,\n",
      "            0.76851,      0.7681,      0.7677,      0.7677,      0.7677,     0.76729,     0.76721,     0.76648,     0.76617,     0.76566,     0.76566,     0.76485,     0.76485,     0.76376,     0.76282,     0.76282,     0.76241,     0.76159,     0.76091,     0.76073,     0.76037,     0.76037,     0.76037,\n",
      "            0.75997,     0.75997,     0.75997,     0.75997,     0.75997,     0.75997,     0.75997,     0.75997,     0.75997,     0.75946,     0.75915,     0.75915,     0.75915,     0.75915,     0.75881,     0.75822,     0.75762,     0.75753,     0.75753,     0.75671,     0.75618,      0.7559,     0.75567,\n",
      "            0.75468,     0.75427,     0.75386,     0.75346,     0.75346,     0.75264,     0.75242,     0.75141,     0.75113,     0.75061,      0.7502,      0.7502,      0.7498,      0.7498,      0.7498,      0.7498,     0.74958,     0.74939,     0.74898,     0.74858,     0.74817,     0.74776,     0.74776,\n",
      "            0.74736,     0.74736,     0.74736,     0.74695,     0.74654,     0.74654,     0.74654,     0.74654,     0.74653,     0.74614,     0.74614,     0.74499,      0.7441,      0.7441,     0.74373,     0.74369,     0.74369,     0.74369,     0.74288,     0.74231,     0.74193,     0.74169,     0.74125,\n",
      "            0.74085,     0.74085,     0.74085,     0.74058,     0.74016,     0.74003,     0.74002,     0.73974,     0.73963,     0.73922,     0.73922,     0.73922,     0.73922,     0.73882,     0.73881,     0.73841,     0.73729,     0.73718,     0.73718,     0.73678,     0.73678,     0.73641,     0.73557,\n",
      "            0.73556,     0.73556,     0.73486,     0.73434,     0.73312,     0.73312,     0.73291,     0.73204,     0.73153,     0.73027,     0.72933,     0.72893,     0.72869,     0.72783,     0.72783,     0.72783,     0.72783,     0.72661,     0.72661,     0.72661,     0.72661,      0.7262,      0.7262,\n",
      "             0.7262,     0.72586,     0.72457,     0.72457,     0.72441,     0.72366,     0.72342,     0.72295,     0.72295,     0.72242,     0.72172,     0.72172,     0.72132,     0.72132,     0.72095,     0.72091,      0.7205,      0.7201,      0.7201,      0.7201,      0.7195,     0.71925,     0.71886,\n",
      "            0.71871,     0.71856,     0.71806,     0.71806,     0.71725,     0.71684,     0.71644,     0.71644,     0.71644,     0.71644,     0.71603,     0.71576,     0.71562,     0.71562,     0.71522,     0.71417,     0.71388,     0.71359,     0.71359,     0.71318,     0.71292,     0.71237,     0.71237,\n",
      "            0.71237,     0.71197,     0.71115,     0.71062,     0.71033,     0.71033,     0.71033,     0.71033,     0.70966,     0.70915,     0.70871,      0.7079,     0.70708,     0.70667,     0.70667,     0.70667,     0.70653,     0.70586,     0.70545,     0.70517,      0.7049,     0.70469,     0.70423,\n",
      "            0.70382,     0.70368,     0.70354,     0.70301,     0.70285,      0.7026,     0.70243,      0.7016,     0.70119,     0.70029,     0.69984,     0.69976,     0.69942,     0.69859,     0.69813,     0.69813,     0.69646,     0.69626,     0.69605,     0.69584,     0.69516,     0.69393,     0.69243,\n",
      "            0.69203,     0.69162,     0.69162,     0.69162,     0.69133,     0.69091,      0.6905,     0.68983,     0.68962,     0.68918,     0.68918,     0.68872,      0.6883,     0.68755,     0.68755,     0.68714,     0.68704,     0.68662,     0.68592,     0.68592,     0.68511,      0.6849,     0.68443,\n",
      "            0.68361,     0.68238,     0.68156,     0.68104,     0.68104,     0.68104,      0.6807,     0.67947,     0.67905,     0.67823,       0.678,     0.67779,     0.67779,     0.67697,     0.67676,     0.67573,      0.6749,      0.6741,     0.67386,     0.67355,      0.6729,     0.67162,     0.67148,\n",
      "            0.67134,     0.67065,     0.67024,     0.66924,     0.66884,     0.66884,     0.66857,     0.66802,     0.66762,     0.66762,     0.66762,     0.66762,     0.66721,     0.66687,      0.6664,     0.66599,     0.66599,     0.66599,     0.66599,     0.66599,     0.66598,     0.66557,     0.66537,\n",
      "            0.66473,     0.66434,     0.66413,     0.66351,     0.66331,     0.66305,     0.66223,     0.66181,     0.66064,     0.66043,     0.66016,     0.65933,     0.65851,     0.65704,     0.65645,     0.65563,      0.6549,      0.6547,     0.65356,     0.65274,     0.65167,     0.65153,     0.65139,\n",
      "            0.65107,     0.64984,     0.64943,     0.64834,     0.64814,     0.64793,     0.64772,     0.64693,     0.64687,     0.64529,     0.64487,     0.64483,     0.64444,     0.64321,     0.64198,     0.64158,     0.64155,     0.64076,     0.63995,     0.63995,     0.63954,     0.63947,     0.63742,\n",
      "            0.63619,     0.63578,     0.63495,     0.63413,     0.63344,     0.63329,     0.63206,     0.63124,     0.63019,        0.63,     0.62917,     0.62835,     0.62764,     0.62743,     0.62722,     0.62701,      0.6264,     0.62619,     0.62584,     0.62461,     0.62439,     0.62425,     0.62411,\n",
      "            0.62375,     0.62334,     0.62269,     0.62248,     0.62209,     0.62065,     0.62023,     0.61954,      0.6194,     0.61927,     0.61857,     0.61774,     0.61758,     0.61732,     0.61717,     0.61689,     0.61606,     0.61565,     0.61498,     0.61477,     0.61456,     0.61435,     0.61316,\n",
      "            0.61274,     0.61191,     0.61109,     0.61027,     0.60985,     0.60903,     0.60875,     0.60717,     0.60676,     0.60578,     0.60483,     0.60462,     0.60346,     0.60264,      0.6013,     0.60058,     0.60017,     0.59967,     0.59967,     0.59967,      0.5985,     0.59805,     0.59805,\n",
      "            0.59795,     0.59774,     0.59713,     0.59692,      0.5966,     0.59618,     0.59536,      0.5951,     0.59493,     0.59431,     0.59314,       0.593,     0.59286,     0.59264,     0.59222,      0.5914,     0.59058,     0.59016,     0.58917,     0.58891,      0.5887,     0.58828,     0.58746,\n",
      "            0.58623,     0.58542,     0.58521,     0.58453,     0.58395,     0.58354,     0.58231,     0.58163,     0.58142,     0.58024,     0.57974,     0.57839,     0.57757,     0.57641,      0.5762,      0.5755,     0.57491,     0.57406,     0.57323,     0.57241,     0.57199,     0.57158,     0.57072,\n",
      "            0.56932,     0.56849,     0.56726,     0.56644,     0.56562,     0.56255,     0.56092,      0.5605,     0.56021,     0.55993,     0.55864,      0.5584,     0.55819,     0.55752,     0.55677,     0.55594,     0.55563,     0.55542,     0.55492,     0.55489,     0.55411,     0.55411,     0.55411,\n",
      "            0.55301,     0.55219,     0.55137,     0.54958,     0.54937,     0.54751,     0.54724,     0.54702,     0.54681,     0.54654,     0.54588,     0.54567,      0.5438,      0.5415,      0.5415,     0.54148,      0.5412,     0.53934,     0.53913,     0.53847,      0.5378,     0.53759,     0.53655,\n",
      "            0.53627,     0.53605,     0.53584,     0.53395,     0.53367,     0.53339,     0.53236,     0.53215,     0.53066,     0.52957,     0.52888,     0.52867,     0.52765,     0.52737,     0.52546,     0.52357,     0.52336,     0.52314,     0.52286,     0.52258,     0.52151,      0.5213,     0.52066,\n",
      "            0.52038,      0.5197,      0.5182,     0.51792,     0.51771,      0.5175,     0.51641,     0.51491,     0.51301,     0.51273,     0.51208,     0.51188,        0.51,      0.5089,     0.50863,     0.50713,     0.50685,     0.50657,     0.50426,     0.50358,      0.5033,     0.50308,     0.50287,\n",
      "            0.50097,     0.49988,      0.4996,     0.49878,     0.49783,     0.49714,     0.49686,     0.49658,      0.4959,     0.49562,     0.49308,     0.49303,     0.49275,     0.49166,     0.49057,     0.49029,     0.48879,     0.48852,     0.48824,     0.48715,     0.48565,     0.48537,     0.48306,\n",
      "             0.4821,     0.48087,      0.4806,     0.47991,      0.4784,     0.47515,     0.47487,     0.47256,     0.47188,      0.4716,     0.46929,     0.46779,     0.46751,      0.4652,     0.46284,     0.45922,     0.45894,     0.45744,     0.45513,     0.45485,      0.4524,     0.44968,     0.44737,\n",
      "            0.44628,       0.446,     0.44523,     0.44287,     0.44137,     0.44109,     0.43868,     0.43715,     0.43483,     0.43456,     0.43173,      0.4298,     0.42834,     0.42817,       0.428,     0.42692,     0.42576,      0.4246,      0.4231,     0.42065,     0.42038,     0.41717,     0.41643,\n",
      "             0.4141,     0.41167,     0.41139,     0.40939,     0.40907,     0.40754,     0.40594,     0.40566,     0.40527,     0.40253,     0.40098,     0.39893,     0.39858,      0.3983,     0.39585,     0.39259,     0.39231,     0.39074,     0.38991,     0.38714,      0.3844,     0.38195,     0.38034,\n",
      "            0.38006,     0.37602,     0.37357,     0.37315,     0.37244,     0.37049,     0.36844,     0.36762,     0.36476,       0.364,     0.36372,     0.36127,     0.35638,     0.35557,     0.35432,     0.35065,     0.34942,     0.34618,      0.3459,     0.34309,     0.34104,     0.33981,     0.33736,\n",
      "            0.33409,     0.33164,     0.33001,     0.32791,      0.3251,     0.32062,     0.31979,     0.31816,     0.31571,     0.31202,     0.30897,     0.30408,     0.29837,     0.29674,     0.29266,     0.28858,     0.28654,     0.27859,     0.27533,     0.27328,     0.27164,     0.26906,      0.2645,\n",
      "            0.26368,     0.25838,     0.25003,     0.24839,     0.24616,     0.24247,     0.23718,     0.23471,     0.23288,     0.23084,     0.22493,     0.22242,     0.22023,     0.21778,     0.20902,     0.20728,     0.20229,     0.19475,     0.19095,     0.18599,     0.18069,     0.17559,     0.17175,\n",
      "             0.1654,     0.16357,      0.1607,     0.15398,      0.1497,      0.1464,     0.14032,       0.137,     0.13094,     0.12761,     0.12502,     0.12065,     0.11341,     0.11084,     0.10688,     0.10307,    0.097357,    0.094437,    0.092435,    0.088518,    0.086698,    0.081796,    0.077503,\n",
      "           0.072398,    0.068716,    0.066284,    0.063386,    0.059705,     0.05765,    0.056002,    0.052727,    0.049045,    0.047295,    0.044529,    0.042882,    0.040014,    0.037959,    0.034277,    0.033036,    0.030982,    0.030148,    0.027686,    0.025632,    0.023861,     0.02193,    0.021329,\n",
      "           0.019855,    0.019021,     0.01778,    0.016946,    0.016491,    0.015278,    0.014037,      0.0125,    0.011555,     0.01049,    0.010212,   0.0098153,   0.0093983,   0.0083711,   0.0072013,   0.0069233,   0.0061033,   0.0056761,   0.0044652,   0.0042567,    0.004028,    0.003611,   0.0032243,\n",
      "          0.0030158,   0.0026858,   0.0022446,   0.0020088,   0.0019046,   0.0018003,   0.0016961,   0.0011258,  0.00084774,  0.00074049,  0.00065709,  0.00057368,  0.00049028,  0.00040688,           0,           0,           0,           0,           0,           0,           0,           0,           0,\n",
      "                  0,           0,           0,           0,           0,           0,           0,           0,           0,           0,           0]]), 'Confidence', 'Recall']]\n",
      "fitness: 0.5459034726220111\n",
      "keys: ['metrics/precision(B)', 'metrics/recall(B)', 'metrics/mAP50(B)', 'metrics/mAP50-95(B)']\n",
      "maps: array([    0.51761])\n",
      "names: {0: 'bee'}\n",
      "plot: True\n",
      "results_dict: {'metrics/precision(B)': 0.8977443560856998, 'metrics/recall(B)': 0.7205044751830757, 'metrics/mAP50(B)': 0.8005805044686334, 'metrics/mAP50-95(B)': 0.517606024639053, 'fitness': 0.5459034726220111}\n",
      "save_dir: WindowsPath('runs/detect/train35')\n",
      "speed: {'preprocess': 0.4190603892008464, 'inference': 4.354611421242738, 'loss': 0.0, 'postprocess': 0.3753503163655599}\n",
      "task: 'detect'\n",
      "Ultralytics YOLOv8.2.101  Python-3.12.0 torch-2.5.1+cu124 CUDA:0 (NVIDIA GeForce RTX 3050 Ti Laptop GPU, 4096MiB)\n",
      "YOLOv10n summary (fused): 285 layers, 2,694,806 parameters, 0 gradients, 8.2 GFLOPs\n"
     ]
    },
    {
     "name": "stderr",
     "output_type": "stream",
     "text": [
      "\u001b[34m\u001b[1mval: \u001b[0mScanning C:\\Users\\Khaled\\Documents\\GitHub\\Mele-RIMBA\\Datasets\\For YOLO\\Bee\\labels\\val.cache... 117 images, 17 backgrounds, 0 corrupt: 100%|██████████| 117/117 [00:00<?, ?it/s]\n",
      "                 Class     Images  Instances      Box(P          R      mAP50  mAP50-95): 100%|██████████| 8/8 [00:05<00:00,  1.44it/s]\n"
     ]
    },
    {
     "name": "stdout",
     "output_type": "stream",
     "text": [
      "                   all        117       2458      0.898       0.72        0.8      0.518\n",
      "Speed: 0.9ms preprocess, 15.1ms inference, 0.0ms loss, 0.7ms postprocess per image\n",
      "Results saved to \u001b[1mruns\\detect\\train352\u001b[0m\n",
      "Validation:\n",
      " ultralytics.utils.metrics.DetMetrics object with attributes:\n",
      "\n",
      "ap_class_index: array([0])\n",
      "box: ultralytics.utils.metrics.Metric object\n",
      "confusion_matrix: <ultralytics.utils.metrics.ConfusionMatrix object at 0x00000205BEF54F50>\n",
      "curves: ['Precision-Recall(B)', 'F1-Confidence(B)', 'Precision-Confidence(B)', 'Recall-Confidence(B)']\n",
      "curves_results: [[array([          0,    0.001001,    0.002002,    0.003003,    0.004004,    0.005005,    0.006006,    0.007007,    0.008008,    0.009009,     0.01001,    0.011011,    0.012012,    0.013013,    0.014014,    0.015015,    0.016016,    0.017017,    0.018018,    0.019019,     0.02002,    0.021021,    0.022022,    0.023023,\n",
      "          0.024024,    0.025025,    0.026026,    0.027027,    0.028028,    0.029029,     0.03003,    0.031031,    0.032032,    0.033033,    0.034034,    0.035035,    0.036036,    0.037037,    0.038038,    0.039039,     0.04004,    0.041041,    0.042042,    0.043043,    0.044044,    0.045045,    0.046046,    0.047047,\n",
      "          0.048048,    0.049049,     0.05005,    0.051051,    0.052052,    0.053053,    0.054054,    0.055055,    0.056056,    0.057057,    0.058058,    0.059059,     0.06006,    0.061061,    0.062062,    0.063063,    0.064064,    0.065065,    0.066066,    0.067067,    0.068068,    0.069069,     0.07007,    0.071071,\n",
      "          0.072072,    0.073073,    0.074074,    0.075075,    0.076076,    0.077077,    0.078078,    0.079079,     0.08008,    0.081081,    0.082082,    0.083083,    0.084084,    0.085085,    0.086086,    0.087087,    0.088088,    0.089089,     0.09009,    0.091091,    0.092092,    0.093093,    0.094094,    0.095095,\n",
      "          0.096096,    0.097097,    0.098098,    0.099099,      0.1001,      0.1011,      0.1021,      0.1031,      0.1041,     0.10511,     0.10611,     0.10711,     0.10811,     0.10911,     0.11011,     0.11111,     0.11211,     0.11311,     0.11411,     0.11512,     0.11612,     0.11712,     0.11812,     0.11912,\n",
      "           0.12012,     0.12112,     0.12212,     0.12312,     0.12412,     0.12513,     0.12613,     0.12713,     0.12813,     0.12913,     0.13013,     0.13113,     0.13213,     0.13313,     0.13413,     0.13514,     0.13614,     0.13714,     0.13814,     0.13914,     0.14014,     0.14114,     0.14214,     0.14314,\n",
      "           0.14414,     0.14515,     0.14615,     0.14715,     0.14815,     0.14915,     0.15015,     0.15115,     0.15215,     0.15315,     0.15415,     0.15516,     0.15616,     0.15716,     0.15816,     0.15916,     0.16016,     0.16116,     0.16216,     0.16316,     0.16416,     0.16517,     0.16617,     0.16717,\n",
      "           0.16817,     0.16917,     0.17017,     0.17117,     0.17217,     0.17317,     0.17417,     0.17518,     0.17618,     0.17718,     0.17818,     0.17918,     0.18018,     0.18118,     0.18218,     0.18318,     0.18418,     0.18519,     0.18619,     0.18719,     0.18819,     0.18919,     0.19019,     0.19119,\n",
      "           0.19219,     0.19319,     0.19419,      0.1952,      0.1962,      0.1972,      0.1982,      0.1992,      0.2002,      0.2012,      0.2022,      0.2032,      0.2042,     0.20521,     0.20621,     0.20721,     0.20821,     0.20921,     0.21021,     0.21121,     0.21221,     0.21321,     0.21421,     0.21522,\n",
      "           0.21622,     0.21722,     0.21822,     0.21922,     0.22022,     0.22122,     0.22222,     0.22322,     0.22422,     0.22523,     0.22623,     0.22723,     0.22823,     0.22923,     0.23023,     0.23123,     0.23223,     0.23323,     0.23423,     0.23524,     0.23624,     0.23724,     0.23824,     0.23924,\n",
      "           0.24024,     0.24124,     0.24224,     0.24324,     0.24424,     0.24525,     0.24625,     0.24725,     0.24825,     0.24925,     0.25025,     0.25125,     0.25225,     0.25325,     0.25425,     0.25526,     0.25626,     0.25726,     0.25826,     0.25926,     0.26026,     0.26126,     0.26226,     0.26326,\n",
      "           0.26426,     0.26527,     0.26627,     0.26727,     0.26827,     0.26927,     0.27027,     0.27127,     0.27227,     0.27327,     0.27427,     0.27528,     0.27628,     0.27728,     0.27828,     0.27928,     0.28028,     0.28128,     0.28228,     0.28328,     0.28428,     0.28529,     0.28629,     0.28729,\n",
      "           0.28829,     0.28929,     0.29029,     0.29129,     0.29229,     0.29329,     0.29429,      0.2953,      0.2963,      0.2973,      0.2983,      0.2993,      0.3003,      0.3013,      0.3023,      0.3033,      0.3043,     0.30531,     0.30631,     0.30731,     0.30831,     0.30931,     0.31031,     0.31131,\n",
      "           0.31231,     0.31331,     0.31431,     0.31532,     0.31632,     0.31732,     0.31832,     0.31932,     0.32032,     0.32132,     0.32232,     0.32332,     0.32432,     0.32533,     0.32633,     0.32733,     0.32833,     0.32933,     0.33033,     0.33133,     0.33233,     0.33333,     0.33433,     0.33534,\n",
      "           0.33634,     0.33734,     0.33834,     0.33934,     0.34034,     0.34134,     0.34234,     0.34334,     0.34434,     0.34535,     0.34635,     0.34735,     0.34835,     0.34935,     0.35035,     0.35135,     0.35235,     0.35335,     0.35435,     0.35536,     0.35636,     0.35736,     0.35836,     0.35936,\n",
      "           0.36036,     0.36136,     0.36236,     0.36336,     0.36436,     0.36537,     0.36637,     0.36737,     0.36837,     0.36937,     0.37037,     0.37137,     0.37237,     0.37337,     0.37437,     0.37538,     0.37638,     0.37738,     0.37838,     0.37938,     0.38038,     0.38138,     0.38238,     0.38338,\n",
      "           0.38438,     0.38539,     0.38639,     0.38739,     0.38839,     0.38939,     0.39039,     0.39139,     0.39239,     0.39339,     0.39439,      0.3954,      0.3964,      0.3974,      0.3984,      0.3994,      0.4004,      0.4014,      0.4024,      0.4034,      0.4044,     0.40541,     0.40641,     0.40741,\n",
      "           0.40841,     0.40941,     0.41041,     0.41141,     0.41241,     0.41341,     0.41441,     0.41542,     0.41642,     0.41742,     0.41842,     0.41942,     0.42042,     0.42142,     0.42242,     0.42342,     0.42442,     0.42543,     0.42643,     0.42743,     0.42843,     0.42943,     0.43043,     0.43143,\n",
      "           0.43243,     0.43343,     0.43443,     0.43544,     0.43644,     0.43744,     0.43844,     0.43944,     0.44044,     0.44144,     0.44244,     0.44344,     0.44444,     0.44545,     0.44645,     0.44745,     0.44845,     0.44945,     0.45045,     0.45145,     0.45245,     0.45345,     0.45445,     0.45546,\n",
      "           0.45646,     0.45746,     0.45846,     0.45946,     0.46046,     0.46146,     0.46246,     0.46346,     0.46446,     0.46547,     0.46647,     0.46747,     0.46847,     0.46947,     0.47047,     0.47147,     0.47247,     0.47347,     0.47447,     0.47548,     0.47648,     0.47748,     0.47848,     0.47948,\n",
      "           0.48048,     0.48148,     0.48248,     0.48348,     0.48448,     0.48549,     0.48649,     0.48749,     0.48849,     0.48949,     0.49049,     0.49149,     0.49249,     0.49349,     0.49449,      0.4955,      0.4965,      0.4975,      0.4985,      0.4995,      0.5005,      0.5015,      0.5025,      0.5035,\n",
      "            0.5045,     0.50551,     0.50651,     0.50751,     0.50851,     0.50951,     0.51051,     0.51151,     0.51251,     0.51351,     0.51451,     0.51552,     0.51652,     0.51752,     0.51852,     0.51952,     0.52052,     0.52152,     0.52252,     0.52352,     0.52452,     0.52553,     0.52653,     0.52753,\n",
      "           0.52853,     0.52953,     0.53053,     0.53153,     0.53253,     0.53353,     0.53453,     0.53554,     0.53654,     0.53754,     0.53854,     0.53954,     0.54054,     0.54154,     0.54254,     0.54354,     0.54454,     0.54555,     0.54655,     0.54755,     0.54855,     0.54955,     0.55055,     0.55155,\n",
      "           0.55255,     0.55355,     0.55455,     0.55556,     0.55656,     0.55756,     0.55856,     0.55956,     0.56056,     0.56156,     0.56256,     0.56356,     0.56456,     0.56557,     0.56657,     0.56757,     0.56857,     0.56957,     0.57057,     0.57157,     0.57257,     0.57357,     0.57457,     0.57558,\n",
      "           0.57658,     0.57758,     0.57858,     0.57958,     0.58058,     0.58158,     0.58258,     0.58358,     0.58458,     0.58559,     0.58659,     0.58759,     0.58859,     0.58959,     0.59059,     0.59159,     0.59259,     0.59359,     0.59459,      0.5956,      0.5966,      0.5976,      0.5986,      0.5996,\n",
      "            0.6006,      0.6016,      0.6026,      0.6036,      0.6046,     0.60561,     0.60661,     0.60761,     0.60861,     0.60961,     0.61061,     0.61161,     0.61261,     0.61361,     0.61461,     0.61562,     0.61662,     0.61762,     0.61862,     0.61962,     0.62062,     0.62162,     0.62262,     0.62362,\n",
      "           0.62462,     0.62563,     0.62663,     0.62763,     0.62863,     0.62963,     0.63063,     0.63163,     0.63263,     0.63363,     0.63463,     0.63564,     0.63664,     0.63764,     0.63864,     0.63964,     0.64064,     0.64164,     0.64264,     0.64364,     0.64464,     0.64565,     0.64665,     0.64765,\n",
      "           0.64865,     0.64965,     0.65065,     0.65165,     0.65265,     0.65365,     0.65465,     0.65566,     0.65666,     0.65766,     0.65866,     0.65966,     0.66066,     0.66166,     0.66266,     0.66366,     0.66466,     0.66567,     0.66667,     0.66767,     0.66867,     0.66967,     0.67067,     0.67167,\n",
      "           0.67267,     0.67367,     0.67467,     0.67568,     0.67668,     0.67768,     0.67868,     0.67968,     0.68068,     0.68168,     0.68268,     0.68368,     0.68468,     0.68569,     0.68669,     0.68769,     0.68869,     0.68969,     0.69069,     0.69169,     0.69269,     0.69369,     0.69469,      0.6957,\n",
      "            0.6967,      0.6977,      0.6987,      0.6997,      0.7007,      0.7017,      0.7027,      0.7037,      0.7047,     0.70571,     0.70671,     0.70771,     0.70871,     0.70971,     0.71071,     0.71171,     0.71271,     0.71371,     0.71471,     0.71572,     0.71672,     0.71772,     0.71872,     0.71972,\n",
      "           0.72072,     0.72172,     0.72272,     0.72372,     0.72472,     0.72573,     0.72673,     0.72773,     0.72873,     0.72973,     0.73073,     0.73173,     0.73273,     0.73373,     0.73473,     0.73574,     0.73674,     0.73774,     0.73874,     0.73974,     0.74074,     0.74174,     0.74274,     0.74374,\n",
      "           0.74474,     0.74575,     0.74675,     0.74775,     0.74875,     0.74975,     0.75075,     0.75175,     0.75275,     0.75375,     0.75475,     0.75576,     0.75676,     0.75776,     0.75876,     0.75976,     0.76076,     0.76176,     0.76276,     0.76376,     0.76476,     0.76577,     0.76677,     0.76777,\n",
      "           0.76877,     0.76977,     0.77077,     0.77177,     0.77277,     0.77377,     0.77477,     0.77578,     0.77678,     0.77778,     0.77878,     0.77978,     0.78078,     0.78178,     0.78278,     0.78378,     0.78478,     0.78579,     0.78679,     0.78779,     0.78879,     0.78979,     0.79079,     0.79179,\n",
      "           0.79279,     0.79379,     0.79479,      0.7958,      0.7968,      0.7978,      0.7988,      0.7998,      0.8008,      0.8018,      0.8028,      0.8038,      0.8048,     0.80581,     0.80681,     0.80781,     0.80881,     0.80981,     0.81081,     0.81181,     0.81281,     0.81381,     0.81481,     0.81582,\n",
      "           0.81682,     0.81782,     0.81882,     0.81982,     0.82082,     0.82182,     0.82282,     0.82382,     0.82482,     0.82583,     0.82683,     0.82783,     0.82883,     0.82983,     0.83083,     0.83183,     0.83283,     0.83383,     0.83483,     0.83584,     0.83684,     0.83784,     0.83884,     0.83984,\n",
      "           0.84084,     0.84184,     0.84284,     0.84384,     0.84484,     0.84585,     0.84685,     0.84785,     0.84885,     0.84985,     0.85085,     0.85185,     0.85285,     0.85385,     0.85485,     0.85586,     0.85686,     0.85786,     0.85886,     0.85986,     0.86086,     0.86186,     0.86286,     0.86386,\n",
      "           0.86486,     0.86587,     0.86687,     0.86787,     0.86887,     0.86987,     0.87087,     0.87187,     0.87287,     0.87387,     0.87487,     0.87588,     0.87688,     0.87788,     0.87888,     0.87988,     0.88088,     0.88188,     0.88288,     0.88388,     0.88488,     0.88589,     0.88689,     0.88789,\n",
      "           0.88889,     0.88989,     0.89089,     0.89189,     0.89289,     0.89389,     0.89489,      0.8959,      0.8969,      0.8979,      0.8989,      0.8999,      0.9009,      0.9019,      0.9029,      0.9039,      0.9049,     0.90591,     0.90691,     0.90791,     0.90891,     0.90991,     0.91091,     0.91191,\n",
      "           0.91291,     0.91391,     0.91491,     0.91592,     0.91692,     0.91792,     0.91892,     0.91992,     0.92092,     0.92192,     0.92292,     0.92392,     0.92492,     0.92593,     0.92693,     0.92793,     0.92893,     0.92993,     0.93093,     0.93193,     0.93293,     0.93393,     0.93493,     0.93594,\n",
      "           0.93694,     0.93794,     0.93894,     0.93994,     0.94094,     0.94194,     0.94294,     0.94394,     0.94494,     0.94595,     0.94695,     0.94795,     0.94895,     0.94995,     0.95095,     0.95195,     0.95295,     0.95395,     0.95495,     0.95596,     0.95696,     0.95796,     0.95896,     0.95996,\n",
      "           0.96096,     0.96196,     0.96296,     0.96396,     0.96496,     0.96597,     0.96697,     0.96797,     0.96897,     0.96997,     0.97097,     0.97197,     0.97297,     0.97397,     0.97497,     0.97598,     0.97698,     0.97798,     0.97898,     0.97998,     0.98098,     0.98198,     0.98298,     0.98398,\n",
      "           0.98498,     0.98599,     0.98699,     0.98799,     0.98899,     0.98999,     0.99099,     0.99199,     0.99299,     0.99399,     0.99499,       0.996,       0.997,       0.998,       0.999,           1]), array([[          1,           1,           1,           1,           1,           1,           1,           1,           1,           1,           1,           1,           1,           1,           1,           1,           1,           1,           1,           1,           1,           1,           1,\n",
      "                  1,           1,           1,           1,           1,           1,           1,           1,           1,           1,           1,           1,           1,           1,           1,           1,           1,           1,           1,           1,           1,           1,           1,\n",
      "                  1,           1,           1,           1,           1,           1,           1,           1,           1,           1,           1,           1,           1,           1,           1,           1,           1,           1,           1,           1,           1,           1,           1,\n",
      "                  1,           1,           1,           1,           1,           1,           1,           1,           1,           1,           1,           1,           1,           1,           1,           1,           1,           1,           1,           1,           1,           1,           1,\n",
      "                  1,           1,           1,           1,           1,           1,           1,           1,           1,           1,           1,           1,           1,           1,           1,           1,           1,           1,           1,           1,           1,           1,           1,\n",
      "                  1,           1,           1,           1,           1,           1,           1,           1,           1,           1,           1,           1,           1,           1,           1,           1,           1,           1,           1,           1,           1,           1,           1,\n",
      "                  1,           1,           1,           1,           1,           1,           1,           1,           1,           1,           1,           1,           1,           1,           1,           1,           1,           1,           1,           1,           1,           1,           1,\n",
      "                  1,           1,           1,           1,           1,           1,           1,           1,           1,           1,           1,           1,           1,           1,           1,           1,           1,           1,           1,           1,           1,           1,           1,\n",
      "                  1,           1,           1,           1,           1,           1,           1,           1,           1,           1,           1,           1,           1,           1,           1,           1,           1,           1,           1,           1,           1,           1,           1,\n",
      "                  1,           1,           1,           1,           1,           1,           1,           1,           1,           1,           1,           1,           1,           1,           1,           1,           1,           1,           1,           1,           1,           1,           1,\n",
      "                  1,           1,           1,           1,           1,           1,           1,           1,           1,           1,           1,           1,           1,           1,           1,           1,           1,           1,           1,           1,           1,           1,           1,\n",
      "                  1,           1,           1,           1,           1,           1,           1,           1,           1,           1,           1,           1,           1,           1,           1,           1,           1,     0.99876,     0.99876,     0.99876,     0.99876,     0.99876,     0.99876,\n",
      "            0.99876,     0.99876,     0.99876,     0.99876,     0.99876,     0.99876,     0.99876,     0.99876,     0.99876,     0.99876,     0.99876,     0.99876,     0.99876,     0.99876,     0.99876,     0.99876,     0.99876,     0.99876,     0.99876,     0.99876,     0.99876,     0.99876,     0.99876,\n",
      "            0.99876,     0.99876,     0.99876,     0.99876,     0.99876,     0.99876,     0.99876,     0.99876,     0.99876,     0.99876,     0.99876,     0.99876,     0.99876,     0.99876,     0.99876,     0.99876,     0.99876,     0.99876,     0.99876,     0.99876,     0.99876,     0.99876,     0.99876,\n",
      "            0.99876,     0.99876,     0.99876,     0.99876,     0.99876,     0.99876,     0.99876,     0.99758,     0.99758,     0.99758,     0.99758,     0.99758,     0.99758,     0.99758,     0.99655,     0.99655,     0.99655,     0.99655,     0.99655,     0.99655,     0.99655,     0.99655,     0.99655,\n",
      "            0.99655,     0.99655,     0.99655,     0.99655,     0.99655,     0.99655,     0.99655,     0.99545,     0.99545,     0.99545,     0.99545,     0.99441,     0.99441,     0.99441,     0.99441,     0.99441,     0.99441,      0.9937,      0.9937,      0.9937,      0.9937,      0.9937,      0.9937,\n",
      "             0.9937,      0.9937,      0.9937,      0.9937,      0.9937,      0.9937,      0.9937,      0.9937,      0.9937,      0.9937,      0.9937,      0.9937,      0.9937,      0.9937,      0.9937,      0.9937,      0.9937,     0.99281,     0.99281,     0.99281,     0.99281,     0.99281,     0.99281,\n",
      "            0.99281,     0.99281,     0.99281,      0.9919,      0.9919,      0.9919,      0.9919,      0.9919,      0.9913,      0.9913,      0.9913,      0.9913,      0.9913,      0.9913,      0.9913,      0.9913,      0.9913,      0.9913,      0.9913,      0.9913,      0.9913,      0.9913,      0.9913,\n",
      "             0.9913,      0.9913,      0.9913,     0.99055,     0.99055,     0.99055,     0.99055,     0.99055,     0.99055,     0.99055,     0.99055,     0.99055,     0.99008,     0.99008,     0.99008,     0.99008,     0.99008,     0.99008,     0.99008,     0.99008,     0.99008,     0.99008,     0.99008,\n",
      "            0.99008,     0.99008,     0.99008,     0.99008,     0.99008,     0.99008,     0.99008,     0.99008,     0.99008,     0.99008,      0.9896,      0.9896,      0.9896,      0.9896,      0.9896,      0.9896,      0.9896,      0.9896,      0.9896,      0.9896,      0.9896,      0.9896,      0.9896,\n",
      "             0.9896,      0.9896,      0.9896,      0.9896,      0.9896,     0.98911,     0.98911,     0.98911,     0.98911,     0.98911,     0.98911,     0.98911,     0.98911,     0.98911,     0.98911,     0.98911,     0.98911,     0.98911,     0.98911,     0.98911,     0.98829,     0.98752,     0.98752,\n",
      "            0.98691,     0.98691,     0.98691,     0.98691,     0.98691,     0.98691,     0.98691,     0.98691,     0.98627,     0.98627,     0.98627,     0.98627,     0.98627,     0.98627,     0.98558,     0.98558,     0.98558,     0.98439,     0.98439,     0.98439,     0.98439,     0.98439,     0.98439,\n",
      "            0.98439,     0.98439,     0.98439,     0.98439,     0.98439,     0.98439,     0.98439,     0.98367,     0.98367,     0.98297,     0.98297,     0.98225,     0.98161,     0.98161,     0.98161,     0.98122,     0.98122,     0.98122,     0.98122,     0.98122,     0.98122,     0.98122,     0.98122,\n",
      "            0.98122,     0.98122,     0.98087,     0.98087,     0.98087,     0.98087,     0.98087,     0.98087,     0.98087,     0.98087,     0.98087,     0.98087,     0.98087,     0.98025,     0.98025,     0.98025,     0.97958,     0.97906,     0.97906,     0.97906,     0.97906,     0.97906,     0.97906,\n",
      "             0.9784,     0.97778,     0.97778,     0.97729,     0.97729,     0.97729,     0.97729,     0.97729,     0.97684,     0.97684,     0.97684,     0.97684,     0.97684,     0.97684,     0.97634,     0.97634,     0.97634,     0.97634,     0.97634,     0.97569,     0.97541,     0.97541,     0.97541,\n",
      "            0.97541,     0.97541,     0.97541,     0.97541,     0.97541,     0.97541,     0.97481,     0.97481,     0.97424,     0.97424,     0.97376,     0.97376,     0.97376,     0.97376,     0.97228,     0.97228,     0.97228,     0.97228,     0.97228,     0.97228,     0.97228,     0.97228,     0.97228,\n",
      "            0.97228,     0.97167,     0.96993,     0.96993,     0.96993,     0.96993,     0.96814,     0.96814,     0.96768,     0.96768,     0.96768,     0.96712,     0.96624,     0.96624,     0.96624,     0.96624,     0.96624,     0.96624,     0.96624,     0.96508,     0.96476,     0.96476,     0.96476,\n",
      "            0.96476,     0.96476,     0.96476,      0.9646,      0.9646,      0.9646,      0.9646,      0.9646,      0.9646,      0.9646,      0.9646,     0.96411,     0.96411,     0.96308,     0.96308,     0.96308,     0.96265,     0.96265,     0.96213,     0.96213,     0.96102,     0.96051,     0.96012,\n",
      "            0.96012,     0.96012,     0.95957,     0.95906,     0.95694,     0.95694,     0.95694,     0.95663,     0.95663,     0.95663,     0.95663,     0.95575,     0.95575,     0.95575,     0.95575,     0.95529,     0.95529,     0.95436,     0.95436,     0.95383,     0.95338,     0.95288,     0.95238,\n",
      "             0.9498,      0.9498,     0.94873,     0.94716,      0.9467,     0.94568,     0.94467,     0.94422,     0.94321,     0.94184,     0.94184,     0.94138,     0.94088,     0.94048,      0.9395,     0.93904,     0.93868,     0.93868,     0.93823,     0.93674,     0.93529,     0.93282,     0.93092,\n",
      "            0.93092,     0.92873,     0.92873,     0.92873,     0.92834,     0.92803,     0.92803,     0.92803,     0.92619,     0.92577,     0.92543,     0.92543,     0.92406,     0.92267,     0.92189,     0.92189,     0.91909,     0.91825,     0.91737,     0.91697,     0.91562,     0.91336,     0.91298,\n",
      "            0.91169,     0.90712,     0.90675,     0.90313,     0.90189,     0.90025,     0.89939,     0.89732,     0.89732,     0.89252,     0.89178,     0.88745,     0.88668,     0.88422,     0.88346,     0.88212,     0.88212,     0.88149,     0.88149,     0.87902,     0.87877,     0.87773,     0.87773,\n",
      "             0.8753,     0.87086,      0.8689,     0.86543,     0.86467,     0.86282,     0.86051,     0.85869,     0.85801,     0.85342,     0.84765,     0.84428,     0.84256,     0.83545,     0.83371,     0.83371,     0.83266,     0.83206,     0.82709,     0.82638,     0.82638,     0.82324,      0.8195,\n",
      "            0.80936,     0.80482,     0.80352,     0.80274,     0.80094,     0.79966,     0.79754,     0.79569,     0.78699,     0.77269,     0.76423,     0.76166,     0.75049,     0.74833,      0.7453,     0.73439,      0.7329,     0.72929,     0.72921,     0.71535,     0.71079,     0.70485,     0.69713,\n",
      "            0.68142,     0.66197,     0.65848,     0.65536,     0.64955,     0.64653,     0.63804,     0.62991,     0.62388,     0.61284,     0.60906,      0.6034,     0.58714,     0.57039,     0.56618,     0.56415,     0.54937,     0.54205,     0.53116,     0.50448,     0.49399,     0.48148,     0.46466,\n",
      "            0.46242,     0.44968,     0.44489,      0.4421,     0.42863,     0.42189,     0.41583,      0.3996,     0.38533,      0.3835,      0.3695,     0.36824,     0.36737,     0.35223,      0.3497,     0.34823,     0.33218,     0.33126,     0.32556,     0.32033,     0.31778,     0.30548,     0.29865,\n",
      "            0.29035,     0.28826,     0.28246,     0.27391,     0.26911,     0.26748,     0.25968,     0.25713,     0.25578,     0.24697,     0.24597,      0.2387,     0.22202,     0.21657,     0.21563,     0.21122,     0.20793,     0.20378,     0.20048,     0.19247,     0.19129,     0.18709,     0.18324,\n",
      "            0.18311,      0.1782,     0.17425,     0.17242,     0.17155,     0.16721,     0.16016,     0.15906,     0.15836,     0.15715,     0.15234,     0.14947,     0.13702,     0.13602,     0.13501,       0.134,     0.13299,     0.13199,     0.13098,     0.12997,     0.12896,     0.12796,     0.12695,\n",
      "            0.12594,     0.12493,     0.12392,     0.12292,     0.12191,      0.1209,     0.11989,     0.11889,     0.11788,     0.11687,     0.11586,     0.11486,     0.11385,     0.11284,     0.11183,     0.11083,     0.10982,     0.10881,      0.1078,      0.1068,     0.10579,     0.10478,     0.10377,\n",
      "            0.10277,     0.10176,     0.10075,    0.099744,    0.098737,    0.097729,    0.096722,    0.095714,    0.094707,    0.093699,    0.092692,    0.091684,    0.090677,    0.089669,    0.088662,    0.087654,    0.086647,    0.085639,    0.084632,    0.083624,    0.082617,    0.081609,    0.080602,\n",
      "           0.079594,    0.078587,    0.077579,    0.076572,    0.075564,    0.074556,    0.073549,    0.072541,    0.071534,    0.070526,    0.069519,    0.068511,    0.067504,    0.066496,    0.065489,    0.064481,    0.063474,    0.062466,    0.061459,    0.060451,    0.059444,    0.058436,    0.057429,\n",
      "           0.056421,    0.055414,    0.054406,    0.053399,    0.052391,    0.051384,    0.050376,    0.049368,    0.048361,    0.047353,    0.046346,    0.045338,    0.044331,    0.043323,    0.042316,    0.041308,    0.040301,    0.039293,    0.038286,    0.037278,    0.036271,    0.035263,    0.034256,\n",
      "           0.033248,    0.032241,    0.031233,    0.030226,    0.029218,    0.028211,    0.027203,    0.026196,    0.025188,     0.02418,    0.023173,    0.022165,    0.021158,     0.02015,    0.019143,    0.018135,    0.017128,     0.01612,    0.015113,    0.014105,    0.013098,     0.01209,    0.011083,\n",
      "           0.010075,   0.0090677,   0.0080602,   0.0070526,   0.0060451,   0.0050376,   0.0040301,   0.0030226,    0.002015,   0.0010075,           0]]), 'Recall', 'Precision'], [array([          0,    0.001001,    0.002002,    0.003003,    0.004004,    0.005005,    0.006006,    0.007007,    0.008008,    0.009009,     0.01001,    0.011011,    0.012012,    0.013013,    0.014014,    0.015015,    0.016016,    0.017017,    0.018018,    0.019019,     0.02002,    0.021021,    0.022022,    0.023023,\n",
      "          0.024024,    0.025025,    0.026026,    0.027027,    0.028028,    0.029029,     0.03003,    0.031031,    0.032032,    0.033033,    0.034034,    0.035035,    0.036036,    0.037037,    0.038038,    0.039039,     0.04004,    0.041041,    0.042042,    0.043043,    0.044044,    0.045045,    0.046046,    0.047047,\n",
      "          0.048048,    0.049049,     0.05005,    0.051051,    0.052052,    0.053053,    0.054054,    0.055055,    0.056056,    0.057057,    0.058058,    0.059059,     0.06006,    0.061061,    0.062062,    0.063063,    0.064064,    0.065065,    0.066066,    0.067067,    0.068068,    0.069069,     0.07007,    0.071071,\n",
      "          0.072072,    0.073073,    0.074074,    0.075075,    0.076076,    0.077077,    0.078078,    0.079079,     0.08008,    0.081081,    0.082082,    0.083083,    0.084084,    0.085085,    0.086086,    0.087087,    0.088088,    0.089089,     0.09009,    0.091091,    0.092092,    0.093093,    0.094094,    0.095095,\n",
      "          0.096096,    0.097097,    0.098098,    0.099099,      0.1001,      0.1011,      0.1021,      0.1031,      0.1041,     0.10511,     0.10611,     0.10711,     0.10811,     0.10911,     0.11011,     0.11111,     0.11211,     0.11311,     0.11411,     0.11512,     0.11612,     0.11712,     0.11812,     0.11912,\n",
      "           0.12012,     0.12112,     0.12212,     0.12312,     0.12412,     0.12513,     0.12613,     0.12713,     0.12813,     0.12913,     0.13013,     0.13113,     0.13213,     0.13313,     0.13413,     0.13514,     0.13614,     0.13714,     0.13814,     0.13914,     0.14014,     0.14114,     0.14214,     0.14314,\n",
      "           0.14414,     0.14515,     0.14615,     0.14715,     0.14815,     0.14915,     0.15015,     0.15115,     0.15215,     0.15315,     0.15415,     0.15516,     0.15616,     0.15716,     0.15816,     0.15916,     0.16016,     0.16116,     0.16216,     0.16316,     0.16416,     0.16517,     0.16617,     0.16717,\n",
      "           0.16817,     0.16917,     0.17017,     0.17117,     0.17217,     0.17317,     0.17417,     0.17518,     0.17618,     0.17718,     0.17818,     0.17918,     0.18018,     0.18118,     0.18218,     0.18318,     0.18418,     0.18519,     0.18619,     0.18719,     0.18819,     0.18919,     0.19019,     0.19119,\n",
      "           0.19219,     0.19319,     0.19419,      0.1952,      0.1962,      0.1972,      0.1982,      0.1992,      0.2002,      0.2012,      0.2022,      0.2032,      0.2042,     0.20521,     0.20621,     0.20721,     0.20821,     0.20921,     0.21021,     0.21121,     0.21221,     0.21321,     0.21421,     0.21522,\n",
      "           0.21622,     0.21722,     0.21822,     0.21922,     0.22022,     0.22122,     0.22222,     0.22322,     0.22422,     0.22523,     0.22623,     0.22723,     0.22823,     0.22923,     0.23023,     0.23123,     0.23223,     0.23323,     0.23423,     0.23524,     0.23624,     0.23724,     0.23824,     0.23924,\n",
      "           0.24024,     0.24124,     0.24224,     0.24324,     0.24424,     0.24525,     0.24625,     0.24725,     0.24825,     0.24925,     0.25025,     0.25125,     0.25225,     0.25325,     0.25425,     0.25526,     0.25626,     0.25726,     0.25826,     0.25926,     0.26026,     0.26126,     0.26226,     0.26326,\n",
      "           0.26426,     0.26527,     0.26627,     0.26727,     0.26827,     0.26927,     0.27027,     0.27127,     0.27227,     0.27327,     0.27427,     0.27528,     0.27628,     0.27728,     0.27828,     0.27928,     0.28028,     0.28128,     0.28228,     0.28328,     0.28428,     0.28529,     0.28629,     0.28729,\n",
      "           0.28829,     0.28929,     0.29029,     0.29129,     0.29229,     0.29329,     0.29429,      0.2953,      0.2963,      0.2973,      0.2983,      0.2993,      0.3003,      0.3013,      0.3023,      0.3033,      0.3043,     0.30531,     0.30631,     0.30731,     0.30831,     0.30931,     0.31031,     0.31131,\n",
      "           0.31231,     0.31331,     0.31431,     0.31532,     0.31632,     0.31732,     0.31832,     0.31932,     0.32032,     0.32132,     0.32232,     0.32332,     0.32432,     0.32533,     0.32633,     0.32733,     0.32833,     0.32933,     0.33033,     0.33133,     0.33233,     0.33333,     0.33433,     0.33534,\n",
      "           0.33634,     0.33734,     0.33834,     0.33934,     0.34034,     0.34134,     0.34234,     0.34334,     0.34434,     0.34535,     0.34635,     0.34735,     0.34835,     0.34935,     0.35035,     0.35135,     0.35235,     0.35335,     0.35435,     0.35536,     0.35636,     0.35736,     0.35836,     0.35936,\n",
      "           0.36036,     0.36136,     0.36236,     0.36336,     0.36436,     0.36537,     0.36637,     0.36737,     0.36837,     0.36937,     0.37037,     0.37137,     0.37237,     0.37337,     0.37437,     0.37538,     0.37638,     0.37738,     0.37838,     0.37938,     0.38038,     0.38138,     0.38238,     0.38338,\n",
      "           0.38438,     0.38539,     0.38639,     0.38739,     0.38839,     0.38939,     0.39039,     0.39139,     0.39239,     0.39339,     0.39439,      0.3954,      0.3964,      0.3974,      0.3984,      0.3994,      0.4004,      0.4014,      0.4024,      0.4034,      0.4044,     0.40541,     0.40641,     0.40741,\n",
      "           0.40841,     0.40941,     0.41041,     0.41141,     0.41241,     0.41341,     0.41441,     0.41542,     0.41642,     0.41742,     0.41842,     0.41942,     0.42042,     0.42142,     0.42242,     0.42342,     0.42442,     0.42543,     0.42643,     0.42743,     0.42843,     0.42943,     0.43043,     0.43143,\n",
      "           0.43243,     0.43343,     0.43443,     0.43544,     0.43644,     0.43744,     0.43844,     0.43944,     0.44044,     0.44144,     0.44244,     0.44344,     0.44444,     0.44545,     0.44645,     0.44745,     0.44845,     0.44945,     0.45045,     0.45145,     0.45245,     0.45345,     0.45445,     0.45546,\n",
      "           0.45646,     0.45746,     0.45846,     0.45946,     0.46046,     0.46146,     0.46246,     0.46346,     0.46446,     0.46547,     0.46647,     0.46747,     0.46847,     0.46947,     0.47047,     0.47147,     0.47247,     0.47347,     0.47447,     0.47548,     0.47648,     0.47748,     0.47848,     0.47948,\n",
      "           0.48048,     0.48148,     0.48248,     0.48348,     0.48448,     0.48549,     0.48649,     0.48749,     0.48849,     0.48949,     0.49049,     0.49149,     0.49249,     0.49349,     0.49449,      0.4955,      0.4965,      0.4975,      0.4985,      0.4995,      0.5005,      0.5015,      0.5025,      0.5035,\n",
      "            0.5045,     0.50551,     0.50651,     0.50751,     0.50851,     0.50951,     0.51051,     0.51151,     0.51251,     0.51351,     0.51451,     0.51552,     0.51652,     0.51752,     0.51852,     0.51952,     0.52052,     0.52152,     0.52252,     0.52352,     0.52452,     0.52553,     0.52653,     0.52753,\n",
      "           0.52853,     0.52953,     0.53053,     0.53153,     0.53253,     0.53353,     0.53453,     0.53554,     0.53654,     0.53754,     0.53854,     0.53954,     0.54054,     0.54154,     0.54254,     0.54354,     0.54454,     0.54555,     0.54655,     0.54755,     0.54855,     0.54955,     0.55055,     0.55155,\n",
      "           0.55255,     0.55355,     0.55455,     0.55556,     0.55656,     0.55756,     0.55856,     0.55956,     0.56056,     0.56156,     0.56256,     0.56356,     0.56456,     0.56557,     0.56657,     0.56757,     0.56857,     0.56957,     0.57057,     0.57157,     0.57257,     0.57357,     0.57457,     0.57558,\n",
      "           0.57658,     0.57758,     0.57858,     0.57958,     0.58058,     0.58158,     0.58258,     0.58358,     0.58458,     0.58559,     0.58659,     0.58759,     0.58859,     0.58959,     0.59059,     0.59159,     0.59259,     0.59359,     0.59459,      0.5956,      0.5966,      0.5976,      0.5986,      0.5996,\n",
      "            0.6006,      0.6016,      0.6026,      0.6036,      0.6046,     0.60561,     0.60661,     0.60761,     0.60861,     0.60961,     0.61061,     0.61161,     0.61261,     0.61361,     0.61461,     0.61562,     0.61662,     0.61762,     0.61862,     0.61962,     0.62062,     0.62162,     0.62262,     0.62362,\n",
      "           0.62462,     0.62563,     0.62663,     0.62763,     0.62863,     0.62963,     0.63063,     0.63163,     0.63263,     0.63363,     0.63463,     0.63564,     0.63664,     0.63764,     0.63864,     0.63964,     0.64064,     0.64164,     0.64264,     0.64364,     0.64464,     0.64565,     0.64665,     0.64765,\n",
      "           0.64865,     0.64965,     0.65065,     0.65165,     0.65265,     0.65365,     0.65465,     0.65566,     0.65666,     0.65766,     0.65866,     0.65966,     0.66066,     0.66166,     0.66266,     0.66366,     0.66466,     0.66567,     0.66667,     0.66767,     0.66867,     0.66967,     0.67067,     0.67167,\n",
      "           0.67267,     0.67367,     0.67467,     0.67568,     0.67668,     0.67768,     0.67868,     0.67968,     0.68068,     0.68168,     0.68268,     0.68368,     0.68468,     0.68569,     0.68669,     0.68769,     0.68869,     0.68969,     0.69069,     0.69169,     0.69269,     0.69369,     0.69469,      0.6957,\n",
      "            0.6967,      0.6977,      0.6987,      0.6997,      0.7007,      0.7017,      0.7027,      0.7037,      0.7047,     0.70571,     0.70671,     0.70771,     0.70871,     0.70971,     0.71071,     0.71171,     0.71271,     0.71371,     0.71471,     0.71572,     0.71672,     0.71772,     0.71872,     0.71972,\n",
      "           0.72072,     0.72172,     0.72272,     0.72372,     0.72472,     0.72573,     0.72673,     0.72773,     0.72873,     0.72973,     0.73073,     0.73173,     0.73273,     0.73373,     0.73473,     0.73574,     0.73674,     0.73774,     0.73874,     0.73974,     0.74074,     0.74174,     0.74274,     0.74374,\n",
      "           0.74474,     0.74575,     0.74675,     0.74775,     0.74875,     0.74975,     0.75075,     0.75175,     0.75275,     0.75375,     0.75475,     0.75576,     0.75676,     0.75776,     0.75876,     0.75976,     0.76076,     0.76176,     0.76276,     0.76376,     0.76476,     0.76577,     0.76677,     0.76777,\n",
      "           0.76877,     0.76977,     0.77077,     0.77177,     0.77277,     0.77377,     0.77477,     0.77578,     0.77678,     0.77778,     0.77878,     0.77978,     0.78078,     0.78178,     0.78278,     0.78378,     0.78478,     0.78579,     0.78679,     0.78779,     0.78879,     0.78979,     0.79079,     0.79179,\n",
      "           0.79279,     0.79379,     0.79479,      0.7958,      0.7968,      0.7978,      0.7988,      0.7998,      0.8008,      0.8018,      0.8028,      0.8038,      0.8048,     0.80581,     0.80681,     0.80781,     0.80881,     0.80981,     0.81081,     0.81181,     0.81281,     0.81381,     0.81481,     0.81582,\n",
      "           0.81682,     0.81782,     0.81882,     0.81982,     0.82082,     0.82182,     0.82282,     0.82382,     0.82482,     0.82583,     0.82683,     0.82783,     0.82883,     0.82983,     0.83083,     0.83183,     0.83283,     0.83383,     0.83483,     0.83584,     0.83684,     0.83784,     0.83884,     0.83984,\n",
      "           0.84084,     0.84184,     0.84284,     0.84384,     0.84484,     0.84585,     0.84685,     0.84785,     0.84885,     0.84985,     0.85085,     0.85185,     0.85285,     0.85385,     0.85485,     0.85586,     0.85686,     0.85786,     0.85886,     0.85986,     0.86086,     0.86186,     0.86286,     0.86386,\n",
      "           0.86486,     0.86587,     0.86687,     0.86787,     0.86887,     0.86987,     0.87087,     0.87187,     0.87287,     0.87387,     0.87487,     0.87588,     0.87688,     0.87788,     0.87888,     0.87988,     0.88088,     0.88188,     0.88288,     0.88388,     0.88488,     0.88589,     0.88689,     0.88789,\n",
      "           0.88889,     0.88989,     0.89089,     0.89189,     0.89289,     0.89389,     0.89489,      0.8959,      0.8969,      0.8979,      0.8989,      0.8999,      0.9009,      0.9019,      0.9029,      0.9039,      0.9049,     0.90591,     0.90691,     0.90791,     0.90891,     0.90991,     0.91091,     0.91191,\n",
      "           0.91291,     0.91391,     0.91491,     0.91592,     0.91692,     0.91792,     0.91892,     0.91992,     0.92092,     0.92192,     0.92292,     0.92392,     0.92492,     0.92593,     0.92693,     0.92793,     0.92893,     0.92993,     0.93093,     0.93193,     0.93293,     0.93393,     0.93493,     0.93594,\n",
      "           0.93694,     0.93794,     0.93894,     0.93994,     0.94094,     0.94194,     0.94294,     0.94394,     0.94494,     0.94595,     0.94695,     0.94795,     0.94895,     0.94995,     0.95095,     0.95195,     0.95295,     0.95395,     0.95495,     0.95596,     0.95696,     0.95796,     0.95896,     0.95996,\n",
      "           0.96096,     0.96196,     0.96296,     0.96396,     0.96496,     0.96597,     0.96697,     0.96797,     0.96897,     0.96997,     0.97097,     0.97197,     0.97297,     0.97397,     0.97497,     0.97598,     0.97698,     0.97798,     0.97898,     0.97998,     0.98098,     0.98198,     0.98298,     0.98398,\n",
      "           0.98498,     0.98599,     0.98699,     0.98799,     0.98899,     0.98999,     0.99099,     0.99199,     0.99299,     0.99399,     0.99499,       0.996,       0.997,       0.998,       0.999,           1]), array([[    0.23735,     0.23736,     0.25558,     0.26328,     0.26765,      0.2702,     0.27249,     0.28096,     0.30784,     0.33255,     0.35627,     0.38118,     0.40401,     0.42759,     0.44968,     0.47115,     0.49059,     0.50728,     0.52073,     0.53334,     0.54332,     0.55278,     0.56147,\n",
      "            0.56878,     0.57396,     0.58007,      0.5861,     0.59081,     0.59605,     0.60128,     0.60585,      0.6112,     0.61434,     0.61758,     0.62069,     0.62423,      0.6283,     0.63078,     0.63468,     0.63774,     0.63945,     0.64287,     0.64554,     0.64805,      0.6509,     0.65309,\n",
      "            0.65545,     0.65851,     0.66067,     0.66262,     0.66461,     0.66715,     0.66988,     0.67136,     0.67369,     0.67569,     0.67756,     0.67967,      0.6811,     0.68265,     0.68401,     0.68604,     0.68764,     0.68882,     0.69043,     0.69101,     0.69333,     0.69571,     0.69662,\n",
      "              0.698,     0.69942,     0.70073,     0.70193,     0.70341,     0.70427,     0.70493,     0.70542,     0.70635,     0.70774,     0.70895,     0.71074,     0.71175,     0.71268,     0.71385,     0.71478,     0.71537,     0.71638,     0.71663,     0.71731,     0.71786,     0.71849,     0.71928,\n",
      "            0.72066,     0.72191,     0.72317,      0.7246,     0.72615,     0.72652,     0.72824,     0.72879,     0.72947,     0.73067,     0.73178,     0.73241,     0.73328,     0.73429,     0.73455,     0.73611,     0.73707,     0.73839,      0.7389,     0.73979,     0.74085,     0.74136,      0.7422,\n",
      "            0.74324,     0.74368,     0.74383,     0.74482,     0.74535,     0.74566,     0.74619,     0.74712,     0.74785,     0.74826,     0.74842,     0.74905,     0.74978,     0.75041,     0.75122,     0.75194,     0.75238,     0.75231,     0.75243,     0.75316,     0.75363,     0.75358,     0.75401,\n",
      "            0.75452,     0.75534,      0.7562,     0.75691,     0.75826,     0.75875,     0.75923,     0.75954,      0.7599,     0.76017,      0.7606,     0.76106,     0.76108,     0.76178,     0.76221,     0.76298,     0.76328,     0.76425,     0.76455,     0.76475,     0.76517,     0.76615,     0.76674,\n",
      "            0.76679,     0.76701,     0.76811,     0.76856,     0.76894,     0.76942,     0.77002,     0.77024,     0.77068,     0.77092,     0.77142,     0.77157,     0.77205,     0.77231,     0.77253,      0.7738,     0.77412,     0.77517,     0.77542,     0.77569,     0.77632,     0.77711,     0.77734,\n",
      "            0.77833,     0.77902,     0.77999,     0.78018,     0.78098,     0.78087,     0.78122,     0.78123,      0.7815,     0.78144,     0.78175,     0.78207,     0.78186,      0.7823,     0.78207,     0.78199,     0.78242,     0.78244,       0.782,     0.78236,     0.78268,     0.78355,     0.78374,\n",
      "            0.78372,     0.78384,     0.78441,     0.78472,     0.78537,     0.78594,     0.78617,     0.78682,     0.78708,     0.78794,     0.78806,     0.78846,     0.78867,     0.78904,     0.78917,     0.78896,     0.78921,     0.78938,     0.79012,     0.78955,     0.78917,     0.78922,     0.79032,\n",
      "            0.79061,     0.79094,     0.79064,     0.79082,     0.79064,     0.79077,     0.79077,     0.79038,     0.78977,     0.78948,     0.78965,     0.78985,     0.79026,     0.79042,     0.79106,     0.79148,     0.79202,     0.79256,     0.79285,     0.79312,     0.79288,     0.79326,     0.79345,\n",
      "            0.79407,     0.79381,     0.79429,     0.79466,     0.79483,     0.79497,     0.79539,     0.79547,     0.79594,      0.7963,     0.79649,     0.79713,      0.7973,     0.79728,     0.79684,     0.79694,     0.79738,      0.7974,     0.79757,     0.79756,     0.79782,     0.79758,     0.79733,\n",
      "            0.79768,     0.79787,     0.79786,     0.79784,     0.79794,     0.79776,     0.79779,     0.79764,     0.79774,     0.79829,     0.79846,     0.79809,      0.7986,     0.79877,     0.79902,     0.79917,     0.79905,     0.79909,     0.79979,     0.80018,     0.79999,     0.80059,     0.80068,\n",
      "            0.80055,     0.80019,     0.79962,     0.79971,     0.79925,     0.80007,     0.79955,     0.79904,     0.79876,     0.79855,     0.79802,      0.7982,     0.79828,     0.79785,     0.79807,     0.79798,     0.79789,     0.79783,     0.79745,     0.79768,     0.79816,     0.79804,     0.79787,\n",
      "            0.79794,     0.79802,     0.79795,     0.79872,      0.7992,      0.7986,     0.79862,     0.79924,     0.79904,     0.79934,     0.79971,     0.79982,      0.7999,     0.79997,     0.79968,     0.79951,     0.79933,     0.79928,     0.79967,      0.7997,     0.79982,     0.79918,     0.79919,\n",
      "            0.79947,     0.79959,     0.79947,     0.79921,      0.7993,      0.7992,     0.79917,     0.79963,     0.79975,     0.79971,     0.79998,     0.79999,     0.79973,     0.79937,     0.79964,     0.80024,     0.80057,     0.80068,      0.8006,     0.80065,      0.8005,     0.80037,      0.8004,\n",
      "            0.80009,     0.79984,     0.79959,     0.79984,     0.79998,     0.80007,     0.80018,     0.79996,     0.80005,     0.80018,     0.79981,     0.79961,     0.79899,     0.79921,     0.79906,     0.79879,      0.7992,     0.79958,     0.79946,     0.79932,     0.79887,     0.79886,     0.79837,\n",
      "             0.7985,     0.79812,      0.7981,     0.79845,     0.79835,     0.79851,     0.79807,     0.79776,     0.79714,      0.7973,     0.79709,     0.79687,     0.79692,     0.79648,     0.79661,     0.79636,     0.79568,     0.79524,     0.79529,      0.7951,     0.79473,     0.79415,     0.79352,\n",
      "            0.79292,       0.793,     0.79296,     0.79308,     0.79297,      0.7929,     0.79249,      0.7923,     0.79211,     0.79215,     0.79262,     0.79236,      0.7923,     0.79278,     0.79259,     0.79219,     0.79235,     0.79232,     0.79235,     0.79224,     0.79182,     0.79103,      0.7908,\n",
      "            0.79037,     0.79017,     0.79003,     0.79004,      0.7898,      0.7891,     0.78916,     0.78876,     0.78872,     0.78844,      0.7883,     0.78779,     0.78724,       0.787,     0.78719,     0.78704,     0.78672,     0.78635,     0.78623,     0.78596,     0.78609,     0.78551,     0.78535,\n",
      "            0.78541,     0.78529,     0.78514,     0.78537,     0.78518,      0.7853,      0.7849,     0.78445,     0.78415,     0.78448,     0.78458,     0.78444,     0.78467,     0.78437,     0.78421,     0.78394,     0.78372,     0.78376,      0.7838,     0.78384,     0.78388,      0.7837,     0.78335,\n",
      "            0.78309,     0.78281,     0.78291,     0.78258,     0.78186,     0.78132,      0.7812,     0.78108,     0.78113,     0.78099,     0.78039,     0.78004,     0.77946,     0.77875,      0.7777,     0.77769,      0.7774,      0.7767,      0.7765,     0.77571,     0.77503,     0.77479,     0.77442,\n",
      "            0.77386,      0.7737,     0.77344,     0.77289,     0.77336,      0.7734,     0.77329,     0.77308,     0.77253,     0.77239,      0.7712,     0.77092,     0.77043,      0.7699,     0.76967,     0.76932,     0.76906,     0.76899,      0.7688,     0.76866,     0.76838,     0.76846,     0.76815,\n",
      "            0.76699,     0.76647,     0.76518,     0.76489,     0.76479,     0.76461,     0.76388,     0.76359,     0.76327,     0.76258,     0.76191,     0.76078,     0.76056,     0.76015,     0.76002,     0.75989,     0.75963,     0.75892,     0.75858,     0.75841,     0.75768,     0.75756,     0.75744,\n",
      "            0.75749,     0.75698,     0.75672,     0.75608,     0.75544,     0.75447,     0.75439,      0.7543,     0.75422,     0.75398,      0.7536,     0.75317,     0.75313,     0.75315,     0.75305,      0.7527,     0.75227,     0.75209,      0.7516,     0.75126,      0.7507,     0.75057,     0.75041,\n",
      "             0.7498,     0.74913,     0.74803,     0.74817,     0.74757,      0.7474,     0.74648,     0.74586,     0.74514,     0.74447,     0.74438,     0.74449,     0.74437,     0.74324,     0.74178,     0.74167,     0.74167,     0.74181,     0.74183,     0.74141,     0.74085,     0.74074,     0.74063,\n",
      "            0.74044,     0.74002,     0.73985,     0.73975,     0.73965,     0.73919,     0.73862,     0.73828,     0.73805,     0.73738,     0.73713,     0.73605,     0.73578,     0.73561,     0.73542,     0.73478,     0.73451,     0.73387,     0.73369,     0.73343,     0.73345,      0.7333,     0.73315,\n",
      "            0.73214,     0.73152,     0.73121,     0.73003,     0.72937,     0.72927,     0.72907,     0.72803,     0.72813,      0.7271,     0.72611,     0.72582,     0.72564,     0.72468,     0.72392,     0.72369,     0.72316,     0.72282,     0.72195,      0.7213,     0.72073,      0.7207,     0.72025,\n",
      "            0.72006,     0.71922,     0.71808,     0.71697,     0.71652,       0.715,     0.71319,     0.71279,     0.71217,     0.71203,     0.71092,     0.71021,     0.71004,     0.70989,     0.70965,      0.7089,     0.70862,     0.70833,     0.70799,     0.70799,     0.70756,     0.70738,     0.70685,\n",
      "            0.70638,       0.706,      0.7051,     0.70406,     0.70356,     0.70334,     0.70269,     0.70219,     0.70202,     0.70141,     0.70118,     0.70088,     0.70055,         0.7,      0.6991,     0.69832,     0.69726,      0.6963,     0.69593,     0.69566,     0.69447,     0.69405,     0.69359,\n",
      "            0.69349,     0.69338,     0.69308,     0.69224,     0.69199,     0.69011,     0.68922,     0.68912,      0.6881,     0.68787,     0.68771,     0.68744,     0.68655,     0.68629,     0.68473,     0.68412,     0.68293,     0.68231,     0.68196,     0.68182,     0.68166,     0.68132,     0.68065,\n",
      "            0.68027,      0.6792,     0.67856,     0.67805,     0.67819,     0.67753,      0.6769,     0.67571,     0.67449,     0.67385,      0.6736,     0.67294,     0.67158,     0.67116,     0.67011,     0.66938,     0.66807,     0.66782,     0.66721,     0.66643,      0.6658,     0.66527,     0.66461,\n",
      "            0.66428,     0.66343,     0.66303,      0.6627,     0.66161,     0.66132,     0.66058,     0.66063,     0.66067,     0.65931,     0.65791,     0.65763,     0.65697,     0.65599,     0.65536,     0.65463,     0.65369,      0.6534,     0.65309,     0.65185,     0.65087,      0.6501,     0.64863,\n",
      "            0.64731,     0.64692,     0.64646,     0.64526,       0.644,     0.64323,     0.64241,     0.64076,     0.63991,     0.63779,     0.63563,     0.63354,     0.63247,     0.63225,     0.63092,     0.62848,     0.62729,     0.62467,     0.62279,     0.62128,     0.61936,     0.61832,      0.6158,\n",
      "            0.61564,     0.61506,     0.61319,     0.61216,     0.61083,     0.60963,       0.608,     0.60664,     0.60504,     0.60361,     0.60008,     0.59877,      0.5979,     0.59708,     0.59637,       0.596,     0.59532,     0.59451,     0.59267,     0.59078,     0.59016,     0.58759,     0.58671,\n",
      "            0.58452,     0.58247,     0.58054,      0.5796,     0.57898,     0.57771,     0.57655,     0.57583,     0.57387,     0.57142,     0.57025,      0.5694,     0.56864,     0.56677,     0.56339,     0.56214,     0.56083,      0.5602,     0.55883,     0.55642,     0.55464,     0.55238,     0.55072,\n",
      "            0.54781,     0.54557,     0.54322,     0.54248,     0.54184,     0.53963,     0.53786,     0.53503,     0.53391,     0.53272,     0.53045,     0.52797,      0.5255,     0.52449,     0.52192,     0.52019,     0.51749,     0.51423,     0.51253,     0.50993,     0.50763,     0.50471,     0.50216,\n",
      "            0.49872,     0.49665,     0.49407,     0.49191,      0.4863,     0.48502,     0.48314,     0.47985,     0.47711,     0.47514,      0.4713,     0.46424,     0.45992,     0.45629,     0.45174,     0.44644,     0.44081,     0.43625,     0.43155,     0.43027,     0.42636,     0.42282,     0.41839,\n",
      "            0.41422,     0.40759,     0.40017,      0.3988,     0.39192,     0.38849,      0.3847,     0.38116,     0.37745,      0.3726,      0.3663,     0.36243,     0.36009,     0.35494,     0.34588,      0.3417,     0.33296,     0.32904,     0.31991,      0.3114,     0.30165,     0.29669,     0.29099,\n",
      "             0.2844,     0.27927,     0.27263,     0.26797,     0.26124,     0.25298,     0.24757,     0.24213,     0.23311,     0.22646,     0.21984,     0.21385,     0.20448,      0.1989,     0.19221,     0.18447,     0.17683,      0.1707,     0.16912,     0.16248,     0.15639,      0.1491,     0.14265,\n",
      "            0.13423,     0.12951,     0.12432,     0.11895,      0.1124,     0.10899,     0.10594,     0.10072,    0.094823,    0.086591,    0.084999,    0.079854,    0.074402,    0.069804,    0.065126,    0.062351,    0.060129,    0.058323,    0.051922,    0.050073,    0.046582,    0.043661,    0.041504,\n",
      "           0.038711,    0.037372,    0.035024,    0.033016,    0.032382,     0.02995,     0.02706,    0.024745,    0.022717,    0.020835,    0.020359,    0.019452,     0.01858,     0.01621,    0.014211,    0.013346,    0.012418,    0.010945,   0.0098373,   0.0085507,   0.0080783,   0.0070481,   0.0063712,\n",
      "          0.0060194,   0.0055533,   0.0043146,   0.0039381,   0.0037431,   0.0035482,   0.0033532,   0.0023221,   0.0016847,   0.0014698,   0.0012977,   0.0011255,  0.00095336,           0,           0,           0,           0,           0,           0,           0,           0,           0,           0,\n",
      "                  0,           0,           0,           0,           0,           0,           0,           0,           0,           0,           0]]), 'Confidence', 'F1'], [array([          0,    0.001001,    0.002002,    0.003003,    0.004004,    0.005005,    0.006006,    0.007007,    0.008008,    0.009009,     0.01001,    0.011011,    0.012012,    0.013013,    0.014014,    0.015015,    0.016016,    0.017017,    0.018018,    0.019019,     0.02002,    0.021021,    0.022022,    0.023023,\n",
      "          0.024024,    0.025025,    0.026026,    0.027027,    0.028028,    0.029029,     0.03003,    0.031031,    0.032032,    0.033033,    0.034034,    0.035035,    0.036036,    0.037037,    0.038038,    0.039039,     0.04004,    0.041041,    0.042042,    0.043043,    0.044044,    0.045045,    0.046046,    0.047047,\n",
      "          0.048048,    0.049049,     0.05005,    0.051051,    0.052052,    0.053053,    0.054054,    0.055055,    0.056056,    0.057057,    0.058058,    0.059059,     0.06006,    0.061061,    0.062062,    0.063063,    0.064064,    0.065065,    0.066066,    0.067067,    0.068068,    0.069069,     0.07007,    0.071071,\n",
      "          0.072072,    0.073073,    0.074074,    0.075075,    0.076076,    0.077077,    0.078078,    0.079079,     0.08008,    0.081081,    0.082082,    0.083083,    0.084084,    0.085085,    0.086086,    0.087087,    0.088088,    0.089089,     0.09009,    0.091091,    0.092092,    0.093093,    0.094094,    0.095095,\n",
      "          0.096096,    0.097097,    0.098098,    0.099099,      0.1001,      0.1011,      0.1021,      0.1031,      0.1041,     0.10511,     0.10611,     0.10711,     0.10811,     0.10911,     0.11011,     0.11111,     0.11211,     0.11311,     0.11411,     0.11512,     0.11612,     0.11712,     0.11812,     0.11912,\n",
      "           0.12012,     0.12112,     0.12212,     0.12312,     0.12412,     0.12513,     0.12613,     0.12713,     0.12813,     0.12913,     0.13013,     0.13113,     0.13213,     0.13313,     0.13413,     0.13514,     0.13614,     0.13714,     0.13814,     0.13914,     0.14014,     0.14114,     0.14214,     0.14314,\n",
      "           0.14414,     0.14515,     0.14615,     0.14715,     0.14815,     0.14915,     0.15015,     0.15115,     0.15215,     0.15315,     0.15415,     0.15516,     0.15616,     0.15716,     0.15816,     0.15916,     0.16016,     0.16116,     0.16216,     0.16316,     0.16416,     0.16517,     0.16617,     0.16717,\n",
      "           0.16817,     0.16917,     0.17017,     0.17117,     0.17217,     0.17317,     0.17417,     0.17518,     0.17618,     0.17718,     0.17818,     0.17918,     0.18018,     0.18118,     0.18218,     0.18318,     0.18418,     0.18519,     0.18619,     0.18719,     0.18819,     0.18919,     0.19019,     0.19119,\n",
      "           0.19219,     0.19319,     0.19419,      0.1952,      0.1962,      0.1972,      0.1982,      0.1992,      0.2002,      0.2012,      0.2022,      0.2032,      0.2042,     0.20521,     0.20621,     0.20721,     0.20821,     0.20921,     0.21021,     0.21121,     0.21221,     0.21321,     0.21421,     0.21522,\n",
      "           0.21622,     0.21722,     0.21822,     0.21922,     0.22022,     0.22122,     0.22222,     0.22322,     0.22422,     0.22523,     0.22623,     0.22723,     0.22823,     0.22923,     0.23023,     0.23123,     0.23223,     0.23323,     0.23423,     0.23524,     0.23624,     0.23724,     0.23824,     0.23924,\n",
      "           0.24024,     0.24124,     0.24224,     0.24324,     0.24424,     0.24525,     0.24625,     0.24725,     0.24825,     0.24925,     0.25025,     0.25125,     0.25225,     0.25325,     0.25425,     0.25526,     0.25626,     0.25726,     0.25826,     0.25926,     0.26026,     0.26126,     0.26226,     0.26326,\n",
      "           0.26426,     0.26527,     0.26627,     0.26727,     0.26827,     0.26927,     0.27027,     0.27127,     0.27227,     0.27327,     0.27427,     0.27528,     0.27628,     0.27728,     0.27828,     0.27928,     0.28028,     0.28128,     0.28228,     0.28328,     0.28428,     0.28529,     0.28629,     0.28729,\n",
      "           0.28829,     0.28929,     0.29029,     0.29129,     0.29229,     0.29329,     0.29429,      0.2953,      0.2963,      0.2973,      0.2983,      0.2993,      0.3003,      0.3013,      0.3023,      0.3033,      0.3043,     0.30531,     0.30631,     0.30731,     0.30831,     0.30931,     0.31031,     0.31131,\n",
      "           0.31231,     0.31331,     0.31431,     0.31532,     0.31632,     0.31732,     0.31832,     0.31932,     0.32032,     0.32132,     0.32232,     0.32332,     0.32432,     0.32533,     0.32633,     0.32733,     0.32833,     0.32933,     0.33033,     0.33133,     0.33233,     0.33333,     0.33433,     0.33534,\n",
      "           0.33634,     0.33734,     0.33834,     0.33934,     0.34034,     0.34134,     0.34234,     0.34334,     0.34434,     0.34535,     0.34635,     0.34735,     0.34835,     0.34935,     0.35035,     0.35135,     0.35235,     0.35335,     0.35435,     0.35536,     0.35636,     0.35736,     0.35836,     0.35936,\n",
      "           0.36036,     0.36136,     0.36236,     0.36336,     0.36436,     0.36537,     0.36637,     0.36737,     0.36837,     0.36937,     0.37037,     0.37137,     0.37237,     0.37337,     0.37437,     0.37538,     0.37638,     0.37738,     0.37838,     0.37938,     0.38038,     0.38138,     0.38238,     0.38338,\n",
      "           0.38438,     0.38539,     0.38639,     0.38739,     0.38839,     0.38939,     0.39039,     0.39139,     0.39239,     0.39339,     0.39439,      0.3954,      0.3964,      0.3974,      0.3984,      0.3994,      0.4004,      0.4014,      0.4024,      0.4034,      0.4044,     0.40541,     0.40641,     0.40741,\n",
      "           0.40841,     0.40941,     0.41041,     0.41141,     0.41241,     0.41341,     0.41441,     0.41542,     0.41642,     0.41742,     0.41842,     0.41942,     0.42042,     0.42142,     0.42242,     0.42342,     0.42442,     0.42543,     0.42643,     0.42743,     0.42843,     0.42943,     0.43043,     0.43143,\n",
      "           0.43243,     0.43343,     0.43443,     0.43544,     0.43644,     0.43744,     0.43844,     0.43944,     0.44044,     0.44144,     0.44244,     0.44344,     0.44444,     0.44545,     0.44645,     0.44745,     0.44845,     0.44945,     0.45045,     0.45145,     0.45245,     0.45345,     0.45445,     0.45546,\n",
      "           0.45646,     0.45746,     0.45846,     0.45946,     0.46046,     0.46146,     0.46246,     0.46346,     0.46446,     0.46547,     0.46647,     0.46747,     0.46847,     0.46947,     0.47047,     0.47147,     0.47247,     0.47347,     0.47447,     0.47548,     0.47648,     0.47748,     0.47848,     0.47948,\n",
      "           0.48048,     0.48148,     0.48248,     0.48348,     0.48448,     0.48549,     0.48649,     0.48749,     0.48849,     0.48949,     0.49049,     0.49149,     0.49249,     0.49349,     0.49449,      0.4955,      0.4965,      0.4975,      0.4985,      0.4995,      0.5005,      0.5015,      0.5025,      0.5035,\n",
      "            0.5045,     0.50551,     0.50651,     0.50751,     0.50851,     0.50951,     0.51051,     0.51151,     0.51251,     0.51351,     0.51451,     0.51552,     0.51652,     0.51752,     0.51852,     0.51952,     0.52052,     0.52152,     0.52252,     0.52352,     0.52452,     0.52553,     0.52653,     0.52753,\n",
      "           0.52853,     0.52953,     0.53053,     0.53153,     0.53253,     0.53353,     0.53453,     0.53554,     0.53654,     0.53754,     0.53854,     0.53954,     0.54054,     0.54154,     0.54254,     0.54354,     0.54454,     0.54555,     0.54655,     0.54755,     0.54855,     0.54955,     0.55055,     0.55155,\n",
      "           0.55255,     0.55355,     0.55455,     0.55556,     0.55656,     0.55756,     0.55856,     0.55956,     0.56056,     0.56156,     0.56256,     0.56356,     0.56456,     0.56557,     0.56657,     0.56757,     0.56857,     0.56957,     0.57057,     0.57157,     0.57257,     0.57357,     0.57457,     0.57558,\n",
      "           0.57658,     0.57758,     0.57858,     0.57958,     0.58058,     0.58158,     0.58258,     0.58358,     0.58458,     0.58559,     0.58659,     0.58759,     0.58859,     0.58959,     0.59059,     0.59159,     0.59259,     0.59359,     0.59459,      0.5956,      0.5966,      0.5976,      0.5986,      0.5996,\n",
      "            0.6006,      0.6016,      0.6026,      0.6036,      0.6046,     0.60561,     0.60661,     0.60761,     0.60861,     0.60961,     0.61061,     0.61161,     0.61261,     0.61361,     0.61461,     0.61562,     0.61662,     0.61762,     0.61862,     0.61962,     0.62062,     0.62162,     0.62262,     0.62362,\n",
      "           0.62462,     0.62563,     0.62663,     0.62763,     0.62863,     0.62963,     0.63063,     0.63163,     0.63263,     0.63363,     0.63463,     0.63564,     0.63664,     0.63764,     0.63864,     0.63964,     0.64064,     0.64164,     0.64264,     0.64364,     0.64464,     0.64565,     0.64665,     0.64765,\n",
      "           0.64865,     0.64965,     0.65065,     0.65165,     0.65265,     0.65365,     0.65465,     0.65566,     0.65666,     0.65766,     0.65866,     0.65966,     0.66066,     0.66166,     0.66266,     0.66366,     0.66466,     0.66567,     0.66667,     0.66767,     0.66867,     0.66967,     0.67067,     0.67167,\n",
      "           0.67267,     0.67367,     0.67467,     0.67568,     0.67668,     0.67768,     0.67868,     0.67968,     0.68068,     0.68168,     0.68268,     0.68368,     0.68468,     0.68569,     0.68669,     0.68769,     0.68869,     0.68969,     0.69069,     0.69169,     0.69269,     0.69369,     0.69469,      0.6957,\n",
      "            0.6967,      0.6977,      0.6987,      0.6997,      0.7007,      0.7017,      0.7027,      0.7037,      0.7047,     0.70571,     0.70671,     0.70771,     0.70871,     0.70971,     0.71071,     0.71171,     0.71271,     0.71371,     0.71471,     0.71572,     0.71672,     0.71772,     0.71872,     0.71972,\n",
      "           0.72072,     0.72172,     0.72272,     0.72372,     0.72472,     0.72573,     0.72673,     0.72773,     0.72873,     0.72973,     0.73073,     0.73173,     0.73273,     0.73373,     0.73473,     0.73574,     0.73674,     0.73774,     0.73874,     0.73974,     0.74074,     0.74174,     0.74274,     0.74374,\n",
      "           0.74474,     0.74575,     0.74675,     0.74775,     0.74875,     0.74975,     0.75075,     0.75175,     0.75275,     0.75375,     0.75475,     0.75576,     0.75676,     0.75776,     0.75876,     0.75976,     0.76076,     0.76176,     0.76276,     0.76376,     0.76476,     0.76577,     0.76677,     0.76777,\n",
      "           0.76877,     0.76977,     0.77077,     0.77177,     0.77277,     0.77377,     0.77477,     0.77578,     0.77678,     0.77778,     0.77878,     0.77978,     0.78078,     0.78178,     0.78278,     0.78378,     0.78478,     0.78579,     0.78679,     0.78779,     0.78879,     0.78979,     0.79079,     0.79179,\n",
      "           0.79279,     0.79379,     0.79479,      0.7958,      0.7968,      0.7978,      0.7988,      0.7998,      0.8008,      0.8018,      0.8028,      0.8038,      0.8048,     0.80581,     0.80681,     0.80781,     0.80881,     0.80981,     0.81081,     0.81181,     0.81281,     0.81381,     0.81481,     0.81582,\n",
      "           0.81682,     0.81782,     0.81882,     0.81982,     0.82082,     0.82182,     0.82282,     0.82382,     0.82482,     0.82583,     0.82683,     0.82783,     0.82883,     0.82983,     0.83083,     0.83183,     0.83283,     0.83383,     0.83483,     0.83584,     0.83684,     0.83784,     0.83884,     0.83984,\n",
      "           0.84084,     0.84184,     0.84284,     0.84384,     0.84484,     0.84585,     0.84685,     0.84785,     0.84885,     0.84985,     0.85085,     0.85185,     0.85285,     0.85385,     0.85485,     0.85586,     0.85686,     0.85786,     0.85886,     0.85986,     0.86086,     0.86186,     0.86286,     0.86386,\n",
      "           0.86486,     0.86587,     0.86687,     0.86787,     0.86887,     0.86987,     0.87087,     0.87187,     0.87287,     0.87387,     0.87487,     0.87588,     0.87688,     0.87788,     0.87888,     0.87988,     0.88088,     0.88188,     0.88288,     0.88388,     0.88488,     0.88589,     0.88689,     0.88789,\n",
      "           0.88889,     0.88989,     0.89089,     0.89189,     0.89289,     0.89389,     0.89489,      0.8959,      0.8969,      0.8979,      0.8989,      0.8999,      0.9009,      0.9019,      0.9029,      0.9039,      0.9049,     0.90591,     0.90691,     0.90791,     0.90891,     0.90991,     0.91091,     0.91191,\n",
      "           0.91291,     0.91391,     0.91491,     0.91592,     0.91692,     0.91792,     0.91892,     0.91992,     0.92092,     0.92192,     0.92292,     0.92392,     0.92492,     0.92593,     0.92693,     0.92793,     0.92893,     0.92993,     0.93093,     0.93193,     0.93293,     0.93393,     0.93493,     0.93594,\n",
      "           0.93694,     0.93794,     0.93894,     0.93994,     0.94094,     0.94194,     0.94294,     0.94394,     0.94494,     0.94595,     0.94695,     0.94795,     0.94895,     0.94995,     0.95095,     0.95195,     0.95295,     0.95395,     0.95495,     0.95596,     0.95696,     0.95796,     0.95896,     0.95996,\n",
      "           0.96096,     0.96196,     0.96296,     0.96396,     0.96496,     0.96597,     0.96697,     0.96797,     0.96897,     0.96997,     0.97097,     0.97197,     0.97297,     0.97397,     0.97497,     0.97598,     0.97698,     0.97798,     0.97898,     0.97998,     0.98098,     0.98198,     0.98298,     0.98398,\n",
      "           0.98498,     0.98599,     0.98699,     0.98799,     0.98899,     0.98999,     0.99099,     0.99199,     0.99299,     0.99399,     0.99499,       0.996,       0.997,       0.998,       0.999,           1]), array([[    0.13759,      0.1376,     0.15001,     0.15538,      0.1585,     0.16036,     0.16199,     0.16804,     0.18798,     0.20701,     0.22604,     0.24669,     0.26657,     0.28798,     0.30895,     0.33004,     0.35004,     0.36785,     0.38261,     0.39677,     0.40822,     0.41933,     0.42976,\n",
      "            0.43838,     0.44518,     0.45296,     0.46049,     0.46674,     0.47359,     0.48023,     0.48624,     0.49332,      0.4979,     0.50216,     0.50645,     0.51119,     0.51666,     0.52003,     0.52553,     0.52973,     0.53247,     0.53741,     0.54115,     0.54488,      0.5493,     0.55282,\n",
      "            0.55621,     0.56062,     0.56376,     0.56722,     0.57057,     0.57433,     0.57837,     0.58102,     0.58452,     0.58777,      0.5906,     0.59382,       0.596,     0.59861,      0.6007,     0.60408,      0.6068,     0.60913,     0.61188,     0.61329,     0.61695,     0.62073,     0.62243,\n",
      "            0.62515,     0.62742,      0.6298,       0.632,     0.63441,     0.63581,     0.63715,     0.63822,     0.64001,      0.6423,      0.6443,     0.64752,     0.64953,     0.65159,     0.65354,     0.65521,     0.65695,     0.65894,     0.65966,     0.66109,     0.66232,      0.6637,     0.66503,\n",
      "             0.6674,     0.66955,     0.67172,     0.67419,     0.67687,     0.67752,     0.68051,     0.68209,      0.6836,     0.68571,     0.68767,     0.68879,     0.69032,     0.69212,     0.69259,     0.69535,      0.6974,     0.69976,     0.70101,     0.70261,     0.70452,     0.70578,      0.7073,\n",
      "            0.70953,     0.71076,     0.71129,     0.71309,     0.71442,     0.71498,     0.71631,     0.71802,     0.71937,     0.72013,     0.72042,     0.72169,      0.7233,     0.72446,     0.72599,     0.72732,     0.72851,      0.7291,     0.73003,     0.73178,     0.73267,     0.73293,     0.73411,\n",
      "            0.73544,     0.73737,       0.739,     0.74036,     0.74305,     0.74427,     0.74528,     0.74618,     0.74687,     0.74776,     0.74898,     0.75026,     0.75069,     0.75215,     0.75328,     0.75479,     0.75537,     0.75728,     0.75825,     0.75864,     0.75947,     0.76186,     0.76338,\n",
      "            0.76408,     0.76471,      0.7669,     0.76802,     0.76895,     0.76993,     0.77113,     0.77157,     0.77286,     0.77335,     0.77436,     0.77506,     0.77604,     0.77656,       0.777,     0.77959,     0.78024,     0.78237,     0.78287,     0.78343,     0.78472,     0.78634,     0.78723,\n",
      "            0.78927,     0.79111,     0.79313,     0.79394,     0.79561,     0.79581,     0.79654,     0.79774,     0.79845,     0.79866,     0.79942,     0.80052,     0.80098,     0.80191,     0.80277,      0.8035,     0.80442,     0.80476,     0.80491,     0.80612,     0.80679,     0.80865,     0.80951,\n",
      "            0.80993,      0.8102,     0.81141,     0.81206,     0.81347,     0.81468,     0.81518,     0.81657,     0.81715,       0.819,     0.81974,      0.8206,      0.8212,     0.82233,     0.82309,     0.82347,     0.82415,     0.82451,     0.82613,     0.82617,     0.82637,     0.82702,      0.8295,\n",
      "            0.83012,     0.83106,     0.83119,       0.832,     0.83268,     0.83297,     0.83361,      0.8335,     0.83332,     0.83359,     0.83398,     0.83442,     0.83544,     0.83619,     0.83763,     0.83857,     0.83993,     0.84153,     0.84251,     0.84381,     0.84422,     0.84518,     0.84613,\n",
      "            0.84754,       0.848,      0.8491,     0.84994,     0.85032,     0.85064,      0.8516,     0.85179,      0.8534,     0.85451,     0.85521,     0.85722,     0.85833,     0.85868,     0.85871,     0.85895,     0.86015,      0.8611,      0.8615,     0.86202,      0.8628,     0.86274,     0.86313,\n",
      "            0.86396,      0.8644,     0.86464,      0.8649,      0.8654,     0.86581,      0.8661,      0.8661,     0.86688,     0.86817,     0.86858,     0.86878,     0.87005,     0.87082,      0.8716,     0.87205,     0.87202,     0.87233,     0.87401,     0.87494,     0.87565,     0.87708,     0.87736,\n",
      "            0.87771,     0.87763,     0.87765,     0.87869,     0.87909,     0.88106,     0.88139,     0.88153,     0.88201,     0.88196,     0.88201,     0.88245,     0.88269,     0.88278,     0.88344,     0.88343,     0.88341,     0.88392,     0.88419,     0.88476,     0.88596,     0.88624,     0.88705,\n",
      "            0.88723,     0.88742,     0.88824,     0.89039,     0.89157,     0.89194,      0.8926,     0.89416,     0.89421,     0.89503,     0.89595,     0.89687,     0.89706,     0.89725,     0.89726,     0.89722,     0.89751,     0.89802,     0.89901,     0.89937,     0.90024,     0.90012,     0.90034,\n",
      "            0.90105,     0.90135,     0.90169,     0.90231,     0.90256,     0.90293,     0.90351,     0.90467,       0.905,     0.90554,     0.90623,     0.90672,     0.90691,     0.90704,     0.90796,     0.90953,     0.91037,     0.91065,     0.91111,     0.91166,     0.91208,     0.91251,     0.91295,\n",
      "             0.9129,     0.91375,     0.91371,     0.91449,     0.91484,     0.91507,     0.91605,     0.91602,     0.91639,     0.91696,      0.9171,     0.91823,     0.91837,     0.91894,     0.91906,      0.9192,     0.92029,      0.9213,     0.92167,     0.92186,     0.92179,     0.92225,     0.92225,\n",
      "             0.9226,     0.92261,     0.92295,     0.92388,     0.92404,     0.92473,     0.92493,     0.92536,      0.9253,     0.92573,     0.92573,      0.9257,     0.92612,     0.92709,     0.92743,       0.928,     0.92791,     0.92785,     0.92819,      0.9283,     0.92825,     0.92865,     0.92856,\n",
      "            0.92848,      0.9292,     0.92945,     0.93017,     0.93042,      0.9309,     0.93084,     0.93082,     0.93079,     0.93131,     0.93259,     0.93336,     0.93394,     0.93529,     0.93526,     0.93521,     0.93636,     0.93672,     0.93772,      0.9382,     0.93865,     0.93856,     0.93885,\n",
      "            0.93898,     0.93946,     0.93944,      0.9398,     0.94043,     0.94085,     0.94119,     0.94132,     0.94183,     0.94179,     0.94178,     0.94172,     0.94166,     0.94209,     0.94319,     0.94369,     0.94417,       0.945,     0.94515,     0.94617,     0.94667,     0.94664,     0.94662,\n",
      "             0.9471,     0.94714,     0.94713,     0.94873,     0.94871,     0.94924,     0.94974,     0.94969,     0.94996,     0.95093,     0.95123,     0.95166,     0.95238,     0.95235,     0.95287,     0.95285,     0.95286,     0.95297,     0.95309,     0.95321,     0.95332,     0.95336,     0.95333,\n",
      "             0.9533,     0.95348,     0.95378,     0.95434,     0.95427,     0.95422,     0.95421,      0.9542,     0.95475,     0.95482,     0.95523,     0.95539,     0.95569,     0.95563,     0.95553,     0.95607,     0.95661,     0.95655,     0.95653,     0.95646,      0.9564,     0.95638,      0.9569,\n",
      "            0.95685,     0.95684,     0.95682,     0.95677,     0.95866,     0.95905,     0.95904,     0.95903,     0.95954,      0.9601,        0.96,     0.95998,     0.96039,     0.96046,     0.96045,     0.96099,     0.96158,     0.96211,     0.96209,     0.96208,     0.96223,     0.96264,     0.96262,\n",
      "            0.96253,     0.96307,     0.96297,      0.9633,      0.9641,     0.96409,     0.96404,     0.96402,     0.96458,     0.96453,     0.96448,      0.9644,     0.96438,     0.96435,     0.96434,     0.96433,     0.96431,     0.96426,     0.96424,     0.96422,     0.96417,     0.96416,     0.96415,\n",
      "            0.96475,     0.96471,     0.96469,     0.96465,      0.9646,     0.96453,     0.96452,     0.96452,     0.96451,     0.96449,     0.96507,     0.96504,     0.96563,     0.96599,     0.96623,     0.96621,     0.96618,     0.96616,     0.96613,      0.9661,     0.96607,     0.96606,     0.96605,\n",
      "              0.966,     0.96596,     0.96618,     0.96711,     0.96707,     0.96767,     0.96761,     0.96757,     0.96813,     0.96809,     0.96832,      0.9687,     0.96932,     0.96987,     0.96978,      0.9704,      0.9707,     0.97117,     0.97167,     0.97164,     0.97224,     0.97223,     0.97223,\n",
      "            0.97222,     0.97219,     0.97218,     0.97218,     0.97217,     0.97214,     0.97211,     0.97209,     0.97208,     0.97204,     0.97202,     0.97196,     0.97194,     0.97193,     0.97192,     0.97189,     0.97187,     0.97183,     0.97246,     0.97245,     0.97374,     0.97373,     0.97372,\n",
      "            0.97366,     0.97363,     0.97361,      0.9742,     0.97416,     0.97466,      0.9748,     0.97479,     0.97541,     0.97535,      0.9753,     0.97529,     0.97528,     0.97523,     0.97519,     0.97518,     0.97515,     0.97513,     0.97508,     0.97505,     0.97513,     0.97568,     0.97574,\n",
      "            0.97632,     0.97628,     0.97622,     0.97684,     0.97682,     0.97675,     0.97665,     0.97664,      0.9766,     0.97728,     0.97723,     0.97719,     0.97718,     0.97718,     0.97717,     0.97713,     0.97712,      0.9771,     0.97708,     0.97778,     0.97776,     0.97775,     0.97772,\n",
      "            0.97839,     0.97838,     0.97903,     0.97899,     0.97896,     0.97896,     0.97893,      0.9789,      0.9789,     0.97887,     0.97956,     0.97955,     0.97954,     0.98022,     0.98018,     0.98033,     0.98082,     0.98078,     0.98076,     0.98075,      0.9807,     0.98069,     0.98067,\n",
      "            0.98066,     0.98066,     0.98064,     0.98061,      0.9806,     0.98052,     0.98064,     0.98121,     0.98117,     0.98116,     0.98115,     0.98114,      0.9811,     0.98109,     0.98103,       0.981,     0.98095,     0.98093,     0.98091,     0.98091,      0.9809,     0.98089,      0.9816,\n",
      "            0.98159,     0.98154,     0.98152,     0.98159,     0.98219,     0.98223,     0.98296,     0.98367,     0.98363,     0.98436,     0.98436,     0.98433,     0.98429,     0.98427,     0.98423,     0.98421,     0.98416,     0.98415,     0.98413,     0.98411,     0.98408,     0.98407,     0.98404,\n",
      "            0.98403,       0.984,     0.98555,     0.98554,     0.98551,      0.9855,     0.98547,     0.98587,     0.98627,     0.98623,     0.98618,     0.98617,     0.98615,     0.98612,     0.98656,     0.98688,     0.98686,     0.98685,     0.98684,      0.9868,     0.98677,     0.98675,     0.98751,\n",
      "            0.98748,     0.98829,      0.9891,     0.98907,     0.98904,     0.98902,       0.989,     0.98896,     0.98894,     0.98889,     0.98883,     0.98878,     0.98875,     0.98919,     0.98957,     0.98951,     0.98948,     0.98942,     0.98937,     0.98933,     0.98929,     0.98926,      0.9892,\n",
      "            0.99006,     0.99007,     0.99002,        0.99,     0.98997,     0.98994,      0.9899,     0.98987,     0.98983,      0.9898,     0.98971,     0.98968,     0.98966,     0.98964,     0.98962,     0.98961,     0.99053,     0.99051,     0.99047,     0.99043,     0.99041,     0.99035,     0.99129,\n",
      "            0.99124,      0.9912,     0.99116,     0.99114,     0.99113,      0.9911,     0.99107,     0.99106,     0.99102,     0.99096,     0.99094,     0.99092,      0.9909,     0.99186,     0.99281,     0.99279,     0.99277,     0.99275,     0.99273,     0.99269,     0.99369,     0.99366,     0.99363,\n",
      "            0.99359,     0.99355,     0.99351,      0.9935,     0.99349,     0.99345,     0.99342,     0.99338,     0.99336,     0.99334,      0.9933,     0.99437,     0.99434,     0.99432,     0.99542,     0.99654,     0.99652,     0.99649,     0.99647,     0.99645,     0.99643,      0.9964,      0.9966,\n",
      "            0.99756,     0.99755,     0.99876,     0.99875,     0.99874,     0.99873,     0.99872,     0.99871,      0.9987,      0.9987,     0.99868,     0.99866,     0.99864,     0.99863,     0.99861,     0.99859,     0.99856,     0.99854,     0.99852,     0.99852,      0.9985,           1,           1,\n",
      "                  1,           1,           1,           1,           1,           1,           1,           1,           1,           1,           1,           1,           1,           1,           1,           1,           1,           1,           1,           1,           1,           1,           1,\n",
      "                  1,           1,           1,           1,           1,           1,           1,           1,           1,           1,           1,           1,           1,           1,           1,           1,           1,           1,           1,           1,           1,           1,           1,\n",
      "                  1,           1,           1,           1,           1,           1,           1,           1,           1,           1,           1,           1,           1,           1,           1,           1,           1,           1,           1,           1,           1,           1,           1,\n",
      "                  1,           1,           1,           1,           1,           1,           1,           1,           1,           1,           1,           1,           1,           1,           1,           1,           1,           1,           1,           1,           1,           1,           1,\n",
      "                  1,           1,           1,           1,           1,           1,           1,           1,           1,           1,           1,           1,           1,           1,           1,           1,           1,           1,           1,           1,           1,           1,           1,\n",
      "                  1,           1,           1,           1,           1,           1,           1,           1,           1,           1,           1]]), 'Confidence', 'Precision'], [array([          0,    0.001001,    0.002002,    0.003003,    0.004004,    0.005005,    0.006006,    0.007007,    0.008008,    0.009009,     0.01001,    0.011011,    0.012012,    0.013013,    0.014014,    0.015015,    0.016016,    0.017017,    0.018018,    0.019019,     0.02002,    0.021021,    0.022022,    0.023023,\n",
      "          0.024024,    0.025025,    0.026026,    0.027027,    0.028028,    0.029029,     0.03003,    0.031031,    0.032032,    0.033033,    0.034034,    0.035035,    0.036036,    0.037037,    0.038038,    0.039039,     0.04004,    0.041041,    0.042042,    0.043043,    0.044044,    0.045045,    0.046046,    0.047047,\n",
      "          0.048048,    0.049049,     0.05005,    0.051051,    0.052052,    0.053053,    0.054054,    0.055055,    0.056056,    0.057057,    0.058058,    0.059059,     0.06006,    0.061061,    0.062062,    0.063063,    0.064064,    0.065065,    0.066066,    0.067067,    0.068068,    0.069069,     0.07007,    0.071071,\n",
      "          0.072072,    0.073073,    0.074074,    0.075075,    0.076076,    0.077077,    0.078078,    0.079079,     0.08008,    0.081081,    0.082082,    0.083083,    0.084084,    0.085085,    0.086086,    0.087087,    0.088088,    0.089089,     0.09009,    0.091091,    0.092092,    0.093093,    0.094094,    0.095095,\n",
      "          0.096096,    0.097097,    0.098098,    0.099099,      0.1001,      0.1011,      0.1021,      0.1031,      0.1041,     0.10511,     0.10611,     0.10711,     0.10811,     0.10911,     0.11011,     0.11111,     0.11211,     0.11311,     0.11411,     0.11512,     0.11612,     0.11712,     0.11812,     0.11912,\n",
      "           0.12012,     0.12112,     0.12212,     0.12312,     0.12412,     0.12513,     0.12613,     0.12713,     0.12813,     0.12913,     0.13013,     0.13113,     0.13213,     0.13313,     0.13413,     0.13514,     0.13614,     0.13714,     0.13814,     0.13914,     0.14014,     0.14114,     0.14214,     0.14314,\n",
      "           0.14414,     0.14515,     0.14615,     0.14715,     0.14815,     0.14915,     0.15015,     0.15115,     0.15215,     0.15315,     0.15415,     0.15516,     0.15616,     0.15716,     0.15816,     0.15916,     0.16016,     0.16116,     0.16216,     0.16316,     0.16416,     0.16517,     0.16617,     0.16717,\n",
      "           0.16817,     0.16917,     0.17017,     0.17117,     0.17217,     0.17317,     0.17417,     0.17518,     0.17618,     0.17718,     0.17818,     0.17918,     0.18018,     0.18118,     0.18218,     0.18318,     0.18418,     0.18519,     0.18619,     0.18719,     0.18819,     0.18919,     0.19019,     0.19119,\n",
      "           0.19219,     0.19319,     0.19419,      0.1952,      0.1962,      0.1972,      0.1982,      0.1992,      0.2002,      0.2012,      0.2022,      0.2032,      0.2042,     0.20521,     0.20621,     0.20721,     0.20821,     0.20921,     0.21021,     0.21121,     0.21221,     0.21321,     0.21421,     0.21522,\n",
      "           0.21622,     0.21722,     0.21822,     0.21922,     0.22022,     0.22122,     0.22222,     0.22322,     0.22422,     0.22523,     0.22623,     0.22723,     0.22823,     0.22923,     0.23023,     0.23123,     0.23223,     0.23323,     0.23423,     0.23524,     0.23624,     0.23724,     0.23824,     0.23924,\n",
      "           0.24024,     0.24124,     0.24224,     0.24324,     0.24424,     0.24525,     0.24625,     0.24725,     0.24825,     0.24925,     0.25025,     0.25125,     0.25225,     0.25325,     0.25425,     0.25526,     0.25626,     0.25726,     0.25826,     0.25926,     0.26026,     0.26126,     0.26226,     0.26326,\n",
      "           0.26426,     0.26527,     0.26627,     0.26727,     0.26827,     0.26927,     0.27027,     0.27127,     0.27227,     0.27327,     0.27427,     0.27528,     0.27628,     0.27728,     0.27828,     0.27928,     0.28028,     0.28128,     0.28228,     0.28328,     0.28428,     0.28529,     0.28629,     0.28729,\n",
      "           0.28829,     0.28929,     0.29029,     0.29129,     0.29229,     0.29329,     0.29429,      0.2953,      0.2963,      0.2973,      0.2983,      0.2993,      0.3003,      0.3013,      0.3023,      0.3033,      0.3043,     0.30531,     0.30631,     0.30731,     0.30831,     0.30931,     0.31031,     0.31131,\n",
      "           0.31231,     0.31331,     0.31431,     0.31532,     0.31632,     0.31732,     0.31832,     0.31932,     0.32032,     0.32132,     0.32232,     0.32332,     0.32432,     0.32533,     0.32633,     0.32733,     0.32833,     0.32933,     0.33033,     0.33133,     0.33233,     0.33333,     0.33433,     0.33534,\n",
      "           0.33634,     0.33734,     0.33834,     0.33934,     0.34034,     0.34134,     0.34234,     0.34334,     0.34434,     0.34535,     0.34635,     0.34735,     0.34835,     0.34935,     0.35035,     0.35135,     0.35235,     0.35335,     0.35435,     0.35536,     0.35636,     0.35736,     0.35836,     0.35936,\n",
      "           0.36036,     0.36136,     0.36236,     0.36336,     0.36436,     0.36537,     0.36637,     0.36737,     0.36837,     0.36937,     0.37037,     0.37137,     0.37237,     0.37337,     0.37437,     0.37538,     0.37638,     0.37738,     0.37838,     0.37938,     0.38038,     0.38138,     0.38238,     0.38338,\n",
      "           0.38438,     0.38539,     0.38639,     0.38739,     0.38839,     0.38939,     0.39039,     0.39139,     0.39239,     0.39339,     0.39439,      0.3954,      0.3964,      0.3974,      0.3984,      0.3994,      0.4004,      0.4014,      0.4024,      0.4034,      0.4044,     0.40541,     0.40641,     0.40741,\n",
      "           0.40841,     0.40941,     0.41041,     0.41141,     0.41241,     0.41341,     0.41441,     0.41542,     0.41642,     0.41742,     0.41842,     0.41942,     0.42042,     0.42142,     0.42242,     0.42342,     0.42442,     0.42543,     0.42643,     0.42743,     0.42843,     0.42943,     0.43043,     0.43143,\n",
      "           0.43243,     0.43343,     0.43443,     0.43544,     0.43644,     0.43744,     0.43844,     0.43944,     0.44044,     0.44144,     0.44244,     0.44344,     0.44444,     0.44545,     0.44645,     0.44745,     0.44845,     0.44945,     0.45045,     0.45145,     0.45245,     0.45345,     0.45445,     0.45546,\n",
      "           0.45646,     0.45746,     0.45846,     0.45946,     0.46046,     0.46146,     0.46246,     0.46346,     0.46446,     0.46547,     0.46647,     0.46747,     0.46847,     0.46947,     0.47047,     0.47147,     0.47247,     0.47347,     0.47447,     0.47548,     0.47648,     0.47748,     0.47848,     0.47948,\n",
      "           0.48048,     0.48148,     0.48248,     0.48348,     0.48448,     0.48549,     0.48649,     0.48749,     0.48849,     0.48949,     0.49049,     0.49149,     0.49249,     0.49349,     0.49449,      0.4955,      0.4965,      0.4975,      0.4985,      0.4995,      0.5005,      0.5015,      0.5025,      0.5035,\n",
      "            0.5045,     0.50551,     0.50651,     0.50751,     0.50851,     0.50951,     0.51051,     0.51151,     0.51251,     0.51351,     0.51451,     0.51552,     0.51652,     0.51752,     0.51852,     0.51952,     0.52052,     0.52152,     0.52252,     0.52352,     0.52452,     0.52553,     0.52653,     0.52753,\n",
      "           0.52853,     0.52953,     0.53053,     0.53153,     0.53253,     0.53353,     0.53453,     0.53554,     0.53654,     0.53754,     0.53854,     0.53954,     0.54054,     0.54154,     0.54254,     0.54354,     0.54454,     0.54555,     0.54655,     0.54755,     0.54855,     0.54955,     0.55055,     0.55155,\n",
      "           0.55255,     0.55355,     0.55455,     0.55556,     0.55656,     0.55756,     0.55856,     0.55956,     0.56056,     0.56156,     0.56256,     0.56356,     0.56456,     0.56557,     0.56657,     0.56757,     0.56857,     0.56957,     0.57057,     0.57157,     0.57257,     0.57357,     0.57457,     0.57558,\n",
      "           0.57658,     0.57758,     0.57858,     0.57958,     0.58058,     0.58158,     0.58258,     0.58358,     0.58458,     0.58559,     0.58659,     0.58759,     0.58859,     0.58959,     0.59059,     0.59159,     0.59259,     0.59359,     0.59459,      0.5956,      0.5966,      0.5976,      0.5986,      0.5996,\n",
      "            0.6006,      0.6016,      0.6026,      0.6036,      0.6046,     0.60561,     0.60661,     0.60761,     0.60861,     0.60961,     0.61061,     0.61161,     0.61261,     0.61361,     0.61461,     0.61562,     0.61662,     0.61762,     0.61862,     0.61962,     0.62062,     0.62162,     0.62262,     0.62362,\n",
      "           0.62462,     0.62563,     0.62663,     0.62763,     0.62863,     0.62963,     0.63063,     0.63163,     0.63263,     0.63363,     0.63463,     0.63564,     0.63664,     0.63764,     0.63864,     0.63964,     0.64064,     0.64164,     0.64264,     0.64364,     0.64464,     0.64565,     0.64665,     0.64765,\n",
      "           0.64865,     0.64965,     0.65065,     0.65165,     0.65265,     0.65365,     0.65465,     0.65566,     0.65666,     0.65766,     0.65866,     0.65966,     0.66066,     0.66166,     0.66266,     0.66366,     0.66466,     0.66567,     0.66667,     0.66767,     0.66867,     0.66967,     0.67067,     0.67167,\n",
      "           0.67267,     0.67367,     0.67467,     0.67568,     0.67668,     0.67768,     0.67868,     0.67968,     0.68068,     0.68168,     0.68268,     0.68368,     0.68468,     0.68569,     0.68669,     0.68769,     0.68869,     0.68969,     0.69069,     0.69169,     0.69269,     0.69369,     0.69469,      0.6957,\n",
      "            0.6967,      0.6977,      0.6987,      0.6997,      0.7007,      0.7017,      0.7027,      0.7037,      0.7047,     0.70571,     0.70671,     0.70771,     0.70871,     0.70971,     0.71071,     0.71171,     0.71271,     0.71371,     0.71471,     0.71572,     0.71672,     0.71772,     0.71872,     0.71972,\n",
      "           0.72072,     0.72172,     0.72272,     0.72372,     0.72472,     0.72573,     0.72673,     0.72773,     0.72873,     0.72973,     0.73073,     0.73173,     0.73273,     0.73373,     0.73473,     0.73574,     0.73674,     0.73774,     0.73874,     0.73974,     0.74074,     0.74174,     0.74274,     0.74374,\n",
      "           0.74474,     0.74575,     0.74675,     0.74775,     0.74875,     0.74975,     0.75075,     0.75175,     0.75275,     0.75375,     0.75475,     0.75576,     0.75676,     0.75776,     0.75876,     0.75976,     0.76076,     0.76176,     0.76276,     0.76376,     0.76476,     0.76577,     0.76677,     0.76777,\n",
      "           0.76877,     0.76977,     0.77077,     0.77177,     0.77277,     0.77377,     0.77477,     0.77578,     0.77678,     0.77778,     0.77878,     0.77978,     0.78078,     0.78178,     0.78278,     0.78378,     0.78478,     0.78579,     0.78679,     0.78779,     0.78879,     0.78979,     0.79079,     0.79179,\n",
      "           0.79279,     0.79379,     0.79479,      0.7958,      0.7968,      0.7978,      0.7988,      0.7998,      0.8008,      0.8018,      0.8028,      0.8038,      0.8048,     0.80581,     0.80681,     0.80781,     0.80881,     0.80981,     0.81081,     0.81181,     0.81281,     0.81381,     0.81481,     0.81582,\n",
      "           0.81682,     0.81782,     0.81882,     0.81982,     0.82082,     0.82182,     0.82282,     0.82382,     0.82482,     0.82583,     0.82683,     0.82783,     0.82883,     0.82983,     0.83083,     0.83183,     0.83283,     0.83383,     0.83483,     0.83584,     0.83684,     0.83784,     0.83884,     0.83984,\n",
      "           0.84084,     0.84184,     0.84284,     0.84384,     0.84484,     0.84585,     0.84685,     0.84785,     0.84885,     0.84985,     0.85085,     0.85185,     0.85285,     0.85385,     0.85485,     0.85586,     0.85686,     0.85786,     0.85886,     0.85986,     0.86086,     0.86186,     0.86286,     0.86386,\n",
      "           0.86486,     0.86587,     0.86687,     0.86787,     0.86887,     0.86987,     0.87087,     0.87187,     0.87287,     0.87387,     0.87487,     0.87588,     0.87688,     0.87788,     0.87888,     0.87988,     0.88088,     0.88188,     0.88288,     0.88388,     0.88488,     0.88589,     0.88689,     0.88789,\n",
      "           0.88889,     0.88989,     0.89089,     0.89189,     0.89289,     0.89389,     0.89489,      0.8959,      0.8969,      0.8979,      0.8989,      0.8999,      0.9009,      0.9019,      0.9029,      0.9039,      0.9049,     0.90591,     0.90691,     0.90791,     0.90891,     0.90991,     0.91091,     0.91191,\n",
      "           0.91291,     0.91391,     0.91491,     0.91592,     0.91692,     0.91792,     0.91892,     0.91992,     0.92092,     0.92192,     0.92292,     0.92392,     0.92492,     0.92593,     0.92693,     0.92793,     0.92893,     0.92993,     0.93093,     0.93193,     0.93293,     0.93393,     0.93493,     0.93594,\n",
      "           0.93694,     0.93794,     0.93894,     0.93994,     0.94094,     0.94194,     0.94294,     0.94394,     0.94494,     0.94595,     0.94695,     0.94795,     0.94895,     0.94995,     0.95095,     0.95195,     0.95295,     0.95395,     0.95495,     0.95596,     0.95696,     0.95796,     0.95896,     0.95996,\n",
      "           0.96096,     0.96196,     0.96296,     0.96396,     0.96496,     0.96597,     0.96697,     0.96797,     0.96897,     0.96997,     0.97097,     0.97197,     0.97297,     0.97397,     0.97497,     0.97598,     0.97698,     0.97798,     0.97898,     0.97998,     0.98098,     0.98198,     0.98298,     0.98398,\n",
      "           0.98498,     0.98599,     0.98699,     0.98799,     0.98899,     0.98999,     0.99099,     0.99199,     0.99299,     0.99399,     0.99499,       0.996,       0.997,       0.998,       0.999,           1]), array([[     0.8633,      0.8633,     0.86249,     0.86168,     0.85964,     0.85761,      0.8572,     0.85639,     0.84947,       0.845,     0.84052,     0.83808,     0.83401,     0.82994,     0.82587,     0.82303,     0.81977,     0.81692,     0.81489,     0.81326,     0.81204,     0.81082,      0.8096,\n",
      "             0.8096,     0.80757,     0.80635,     0.80594,     0.80472,     0.80391,     0.80391,      0.8035,     0.80309,     0.80187,     0.80187,     0.80146,     0.80146,     0.80146,     0.80146,     0.80106,     0.80106,     0.80024,     0.79984,     0.79984,     0.79943,     0.79862,      0.7978,\n",
      "             0.7978,      0.7978,      0.7978,     0.79658,     0.79577,     0.79577,     0.79577,     0.79496,     0.79496,     0.79455,     0.79455,     0.79455,     0.79455,     0.79414,     0.79414,     0.79373,     0.79333,     0.79251,     0.79211,     0.79129,     0.79129,     0.79129,     0.79089,\n",
      "            0.79007,     0.79007,     0.78967,     0.78926,     0.78926,     0.78926,     0.78885,     0.78845,     0.78804,     0.78804,     0.78804,     0.78763,     0.78716,     0.78641,     0.78641,     0.78627,     0.78519,     0.78478,     0.78438,     0.78397,     0.78356,     0.78316,     0.78316,\n",
      "            0.78316,     0.78316,     0.78316,     0.78316,     0.78316,     0.78316,     0.78316,     0.78234,     0.78194,     0.78194,     0.78194,     0.78194,     0.78194,     0.78194,     0.78194,     0.78194,     0.78153,     0.78153,     0.78112,     0.78112,     0.78112,     0.78072,     0.78072,\n",
      "            0.78031,     0.77979,      0.7795,      0.7795,     0.77909,     0.77909,     0.77868,     0.77868,     0.77868,     0.77868,     0.77868,     0.77856,     0.77828,     0.77828,     0.77828,     0.77828,     0.77787,     0.77705,     0.77624,     0.77583,     0.77583,     0.77543,     0.77502,\n",
      "            0.77461,     0.77421,     0.77421,     0.77421,     0.77412,      0.7738,     0.77372,     0.77339,     0.77339,     0.77299,     0.77258,     0.77217,     0.77177,     0.77166,     0.77136,     0.77136,     0.77136,     0.77136,     0.77095,     0.77095,     0.77095,      0.7705,     0.77014,\n",
      "            0.76951,     0.76932,     0.76932,      0.7691,     0.76892,     0.76892,     0.76892,     0.76892,     0.76851,     0.76851,     0.76851,      0.7681,      0.7681,      0.7681,      0.7681,      0.7681,      0.7681,      0.7681,      0.7681,      0.7681,      0.7681,      0.7681,      0.7677,\n",
      "             0.7677,     0.76729,     0.76729,     0.76688,     0.76688,     0.76648,     0.76648,     0.76539,     0.76526,     0.76494,     0.76485,     0.76444,     0.76363,     0.76363,     0.76241,     0.76159,     0.76159,     0.76132,     0.76035,     0.75997,     0.75997,     0.75997,     0.75956,\n",
      "            0.75915,     0.75915,     0.75915,     0.75915,     0.75915,     0.75915,     0.75915,     0.75915,     0.75915,     0.75915,     0.75875,     0.75875,     0.75862,     0.75834,     0.75793,     0.75722,     0.75712,     0.75712,     0.75712,     0.75603,     0.75517,     0.75472,     0.75468,\n",
      "            0.75468,     0.75451,     0.75386,     0.75352,     0.75264,     0.75264,     0.75212,      0.7515,     0.75055,      0.7498,      0.7498,      0.7498,     0.74973,     0.74939,     0.74939,     0.74939,     0.74928,     0.74898,     0.74871,     0.74817,     0.74742,     0.74736,     0.74695,\n",
      "            0.74695,     0.74614,     0.74614,     0.74614,     0.74614,     0.74614,     0.74614,     0.74614,     0.74573,     0.74551,     0.74532,     0.74491,     0.74438,     0.74408,     0.74329,     0.74329,     0.74315,     0.74247,     0.74247,     0.74207,     0.74194,     0.74157,     0.74085,\n",
      "            0.74085,     0.74085,     0.74065,     0.74044,     0.74023,     0.73963,     0.73946,     0.73922,     0.73881,     0.73881,     0.73881,     0.73803,       0.738,     0.73773,     0.73759,     0.73754,     0.73734,     0.73718,     0.73718,     0.73718,     0.73637,     0.73637,     0.73633,\n",
      "            0.73586,      0.7353,     0.73434,     0.73376,     0.73271,     0.73271,     0.73161,     0.73068,     0.72987,     0.72955,     0.72864,     0.72864,      0.7286,     0.72783,     0.72774,     0.72761,     0.72747,     0.72701,      0.7262,      0.7262,      0.7262,     0.72581,     0.72498,\n",
      "            0.72498,     0.72498,     0.72432,     0.72417,     0.72417,     0.72295,     0.72254,     0.72254,     0.72218,     0.72213,     0.72213,     0.72172,     0.72172,     0.72172,     0.72125,     0.72099,      0.7205,      0.7201,      0.7201,     0.71992,     0.71955,      0.7186,     0.71847,\n",
      "            0.71847,     0.71847,     0.71806,     0.71725,     0.71725,     0.71684,     0.71644,     0.71644,     0.71644,     0.71603,     0.71603,     0.71574,     0.71522,     0.71455,      0.7144,      0.7144,      0.7144,      0.7144,       0.714,     0.71374,     0.71324,     0.71277,     0.71256,\n",
      "            0.71209,     0.71118,     0.71081,     0.71074,     0.71074,     0.71074,     0.71033,        0.71,     0.70993,     0.70979,     0.70911,     0.70814,     0.70708,     0.70708,     0.70677,     0.70627,     0.70627,     0.70627,     0.70586,     0.70554,     0.70487,     0.70459,     0.70382,\n",
      "            0.70382,     0.70323,     0.70301,     0.70301,     0.70276,      0.7026,      0.7018,     0.70109,     0.70016,     0.70016,     0.69984,     0.69951,     0.69935,     0.69813,     0.69813,     0.69742,     0.69644,      0.6958,     0.69569,     0.69533,     0.69478,     0.69368,     0.69276,\n",
      "             0.6919,     0.69162,     0.69143,     0.69121,     0.69091,     0.69053,     0.68994,     0.68967,      0.6894,     0.68918,     0.68918,     0.68836,     0.68796,     0.68795,     0.68768,     0.68711,     0.68674,     0.68649,     0.68601,     0.68558,     0.68471,     0.68358,     0.68308,\n",
      "            0.68238,     0.68182,     0.68162,     0.68145,     0.68077,      0.6795,     0.67941,     0.67876,     0.67844,     0.67803,     0.67783,     0.67711,     0.67634,     0.67575,     0.67546,     0.67499,     0.67427,     0.67331,     0.67306,     0.67215,     0.67209,     0.67126,     0.67103,\n",
      "            0.67087,     0.67068,     0.67047,        0.67,     0.66973,     0.66965,     0.66882,     0.66818,     0.66762,     0.66762,     0.66762,     0.66721,     0.66719,     0.66677,     0.66628,      0.6659,     0.66558,     0.66558,     0.66558,     0.66558,     0.66558,      0.6653,     0.66482,\n",
      "            0.66444,     0.66395,     0.66395,     0.66321,     0.66222,     0.66147,      0.6613,     0.66113,     0.66094,      0.6607,     0.65965,     0.65907,      0.6581,     0.65712,     0.65567,     0.65541,     0.65475,     0.65377,      0.6535,     0.65242,     0.65149,     0.65115,     0.65039,\n",
      "            0.64962,      0.6494,     0.64905,     0.64829,     0.64809,     0.64797,     0.64781,     0.64753,     0.64653,     0.64607,     0.64446,     0.64407,     0.64321,     0.64243,     0.64213,      0.6414,     0.64076,     0.64043,     0.64018,        0.64,     0.63954,     0.63947,     0.63905,\n",
      "            0.63748,     0.63653,      0.6348,     0.63426,     0.63377,     0.63353,     0.63255,     0.63216,     0.63148,     0.63055,     0.62966,     0.62816,     0.62786,     0.62732,     0.62715,     0.62698,     0.62663,     0.62568,     0.62523,       0.625,     0.62404,     0.62388,     0.62372,\n",
      "            0.62354,     0.62285,     0.62251,     0.62167,     0.62082,     0.61954,     0.61943,     0.61932,     0.61921,     0.61889,     0.61815,     0.61759,     0.61729,     0.61717,     0.61693,     0.61648,     0.61591,     0.61568,     0.61503,     0.61458,     0.61386,     0.61368,     0.61347,\n",
      "            0.61267,      0.6118,     0.61025,     0.61007,     0.60928,     0.60881,     0.60762,     0.60681,     0.60564,     0.60477,     0.60456,     0.60456,     0.60417,     0.60246,     0.60057,     0.60019,     0.60008,     0.60008,     0.59993,     0.59939,     0.59843,     0.59829,     0.59815,\n",
      "            0.59789,     0.59736,     0.59714,     0.59702,     0.59689,      0.5963,     0.59558,     0.59513,     0.59484,     0.59399,     0.59367,     0.59229,     0.59195,     0.59173,      0.5915,     0.59068,     0.59034,     0.58952,     0.58906,     0.58873,     0.58828,     0.58809,     0.58789,\n",
      "            0.58662,     0.58584,     0.58545,     0.58373,     0.58289,     0.58259,     0.58229,     0.58096,     0.58087,     0.57958,     0.57834,     0.57798,     0.57776,     0.57655,      0.5756,     0.57533,     0.57467,     0.57424,     0.57316,     0.57235,      0.5716,     0.57137,     0.57079,\n",
      "            0.57035,     0.56931,     0.56791,     0.56631,     0.56576,     0.56389,     0.56167,     0.56118,     0.56043,     0.56003,     0.55868,     0.55781,      0.5576,     0.55742,     0.55713,     0.55622,     0.55587,     0.55553,     0.55511,     0.55488,     0.55436,     0.55415,      0.5535,\n",
      "            0.55271,     0.55225,     0.55094,     0.54969,     0.54909,     0.54883,     0.54804,     0.54745,     0.54724,      0.5465,     0.54601,     0.54564,     0.54526,     0.54438,      0.5433,     0.54231,     0.54088,     0.53975,      0.5393,     0.53898,     0.53757,     0.53708,     0.53653,\n",
      "            0.53641,     0.53629,     0.53592,     0.53494,     0.53463,     0.53242,     0.53133,     0.53104,     0.52984,     0.52957,     0.52938,     0.52907,     0.52802,     0.52771,     0.52589,     0.52518,      0.5238,     0.52307,     0.52266,     0.52251,     0.52232,     0.52192,     0.52094,\n",
      "            0.52049,     0.51926,     0.51851,      0.5179,      0.5179,     0.51711,     0.51618,      0.5146,      0.5132,     0.51226,     0.51198,     0.51122,     0.50966,     0.50918,     0.50798,     0.50715,     0.50566,     0.50538,     0.50469,      0.5038,     0.50309,     0.50248,     0.50174,\n",
      "            0.50137,     0.50041,     0.49955,     0.49918,     0.49796,     0.49763,     0.49679,     0.49675,      0.4967,     0.49517,      0.4936,     0.49329,     0.49255,     0.49146,     0.49064,     0.48975,      0.4887,     0.48838,     0.48804,     0.48666,     0.48558,     0.48472,     0.48291,\n",
      "            0.48146,     0.48084,     0.48013,     0.47882,     0.47744,      0.4766,      0.4757,      0.4739,     0.47298,     0.47068,     0.46835,     0.46608,     0.46494,     0.46461,     0.46308,     0.46047,     0.45921,     0.45641,     0.45442,     0.45282,     0.45079,     0.44969,     0.44705,\n",
      "             0.4467,     0.44609,     0.44414,     0.44306,     0.44167,     0.44042,     0.43874,     0.43733,     0.43567,      0.4342,     0.43058,     0.42923,     0.42834,      0.4275,     0.42678,      0.4264,     0.42554,     0.42471,     0.42285,     0.42093,      0.4203,     0.41771,     0.41666,\n",
      "            0.41446,     0.41241,     0.41049,     0.40955,     0.40893,     0.40767,     0.40652,     0.40581,     0.40387,     0.40145,      0.4003,     0.39947,     0.39872,     0.39674,     0.39329,     0.39207,      0.3908,     0.39019,     0.38886,     0.38654,     0.38467,     0.38251,     0.38093,\n",
      "            0.37815,     0.37603,      0.3738,      0.3731,      0.3725,     0.37042,     0.36875,      0.3661,     0.36506,     0.36395,     0.36184,      0.3594,     0.35712,     0.35618,     0.35368,     0.35195,     0.34949,     0.34653,     0.34498,     0.34264,     0.34056,     0.33795,     0.33564,\n",
      "            0.33247,     0.33063,     0.32822,     0.32631,     0.32139,     0.32028,     0.31864,     0.31579,     0.31342,     0.31172,     0.30843,     0.30241,     0.29875,      0.2957,     0.29189,     0.28748,     0.28284,     0.27909,     0.27526,     0.27421,     0.27105,     0.26808,     0.26453,\n",
      "            0.26121,     0.25596,     0.25013,     0.24906,     0.24372,     0.24107,     0.23816,     0.23545,     0.23263,     0.22896,     0.22422,     0.22132,     0.21958,     0.21576,      0.2091,     0.20605,     0.19973,     0.19692,     0.19041,     0.18441,     0.17761,     0.17418,     0.17027,\n",
      "            0.16577,      0.1623,     0.15783,     0.15471,     0.15024,     0.14481,     0.14127,     0.13774,     0.13193,     0.12769,      0.1235,     0.11973,     0.11388,     0.11043,     0.10632,     0.10161,     0.09699,    0.093312,    0.092369,    0.088421,    0.084831,    0.080553,    0.076802,\n",
      "           0.071943,     0.06924,    0.066281,    0.063236,    0.059547,    0.057636,    0.055931,    0.053031,    0.049771,    0.045255,    0.044386,    0.041587,    0.038638,    0.036164,    0.033659,    0.032179,    0.030996,    0.030038,    0.026653,     0.02568,    0.023846,    0.022318,    0.021192,\n",
      "           0.019738,    0.019042,    0.017824,    0.016785,    0.016458,    0.015203,    0.013715,    0.012527,    0.011489,    0.010527,    0.010284,   0.0098215,    0.009377,    0.008171,   0.0071562,   0.0067181,   0.0062479,   0.0055025,   0.0049429,   0.0042937,   0.0040555,   0.0035365,   0.0031958,\n",
      "          0.0030188,   0.0027844,    0.002162,   0.0019729,   0.0018751,   0.0017772,   0.0016794,   0.0011624,  0.00084307,  0.00073543,  0.00064926,  0.00056308,  0.00047691,           0,           0,           0,           0,           0,           0,           0,           0,           0,           0,\n",
      "                  0,           0,           0,           0,           0,           0,           0,           0,           0,           0,           0]]), 'Confidence', 'Recall']]\n",
      "fitness: 0.5457998905524706\n",
      "keys: ['metrics/precision(B)', 'metrics/recall(B)', 'metrics/mAP50(B)', 'metrics/mAP50-95(B)']\n",
      "maps: array([    0.51751])\n",
      "names: {0: 'bee'}\n",
      "plot: True\n",
      "results_dict: {'metrics/precision(B)': 0.8980160323839871, 'metrics/recall(B)': 0.7200976403580146, 'metrics/mAP50(B)': 0.8003896602544525, 'metrics/mAP50-95(B)': 0.5175121383633614, 'fitness': 0.5457998905524706}\n",
      "save_dir: WindowsPath('runs/detect/train352')\n",
      "speed: {'preprocess': 0.8600450988508697, 'inference': 15.114778127425756, 'loss': 0.0, 'postprocess': 0.6716821947668353}\n",
      "task: 'detect'\n",
      "New https://pypi.org/project/ultralytics/8.3.33 available  Update with 'pip install -U ultralytics'\n",
      "Ultralytics YOLOv8.2.101  Python-3.12.0 torch-2.5.1+cu124 CUDA:0 (NVIDIA GeForce RTX 3050 Ti Laptop GPU, 4096MiB)\n",
      "\u001b[34m\u001b[1mengine\\trainer: \u001b[0mtask=detect, mode=train, model=yolov10n.yaml, data=config.yaml, epochs=100, time=None, patience=100, batch=16, imgsz=640, save=True, save_period=-1, cache=False, device=None, workers=8, project=None, name=train36, exist_ok=False, pretrained=True, optimizer=auto, verbose=True, seed=0, deterministic=True, single_cls=False, rect=False, cos_lr=False, close_mosaic=10, resume=False, amp=True, fraction=1.0, profile=False, freeze=None, multi_scale=False, overlap_mask=True, mask_ratio=4, dropout=0.0, val=True, split=val, save_json=False, save_hybrid=False, conf=None, iou=0.7, max_det=300, half=False, dnn=False, plots=True, source=None, vid_stride=1, stream_buffer=False, visualize=False, augment=False, agnostic_nms=False, classes=None, retina_masks=False, embed=None, show=False, save_frames=False, save_txt=False, save_conf=False, save_crop=False, show_labels=True, show_conf=True, show_boxes=True, line_width=None, format=torchscript, keras=False, optimize=False, int8=False, dynamic=False, simplify=True, opset=None, workspace=4, nms=False, lr0=0.01, lrf=0.01, momentum=0.937, weight_decay=0.0005, warmup_epochs=3.0, warmup_momentum=0.8, warmup_bias_lr=0.1, box=7.5, cls=0.5, dfl=1.5, pose=12.0, kobj=1.0, label_smoothing=0.0, nbs=64, hsv_h=0.015, hsv_s=0.7, hsv_v=0.4, degrees=0.0, translate=0.1, scale=0.5, shear=0.0, perspective=0.0, flipud=0.0, fliplr=0.5, bgr=0.0, mosaic=1.0, mixup=0.0, copy_paste=0.0, auto_augment=randaugment, erasing=0.4, crop_fraction=1.0, cfg=None, tracker=botsort.yaml, save_dir=runs\\detect\\train36\n",
      "Overriding model.yaml nc=80 with nc=1\n",
      "\n",
      "                   from  n    params  module                                       arguments                     \n",
      "  0                  -1  1       464  ultralytics.nn.modules.conv.Conv             [3, 16, 3, 2]                 \n",
      "  1                  -1  1      4672  ultralytics.nn.modules.conv.Conv             [16, 32, 3, 2]                \n",
      "  2                  -1  1      7360  ultralytics.nn.modules.block.C2f             [32, 32, 1, True]             \n",
      "  3                  -1  1     18560  ultralytics.nn.modules.conv.Conv             [32, 64, 3, 2]                \n",
      "  4                  -1  2     49664  ultralytics.nn.modules.block.C2f             [64, 64, 2, True]             \n",
      "  5                  -1  1      9856  ultralytics.nn.modules.block.SCDown          [64, 128, 3, 2]               \n",
      "  6                  -1  2    197632  ultralytics.nn.modules.block.C2f             [128, 128, 2, True]           \n",
      "  7                  -1  1     36096  ultralytics.nn.modules.block.SCDown          [128, 256, 3, 2]              \n",
      "  8                  -1  1    460288  ultralytics.nn.modules.block.C2f             [256, 256, 1, True]           \n",
      "  9                  -1  1    164608  ultralytics.nn.modules.block.SPPF            [256, 256, 5]                 \n",
      " 10                  -1  1    249728  ultralytics.nn.modules.block.PSA             [256, 256]                    \n",
      " 11                  -1  1         0  torch.nn.modules.upsampling.Upsample         [None, 2, 'nearest']          \n",
      " 12             [-1, 6]  1         0  ultralytics.nn.modules.conv.Concat           [1]                           \n",
      " 13                  -1  1    148224  ultralytics.nn.modules.block.C2f             [384, 128, 1]                 \n",
      " 14                  -1  1         0  torch.nn.modules.upsampling.Upsample         [None, 2, 'nearest']          \n",
      " 15             [-1, 4]  1         0  ultralytics.nn.modules.conv.Concat           [1]                           \n",
      " 16                  -1  1     37248  ultralytics.nn.modules.block.C2f             [192, 64, 1]                  \n",
      " 17                  -1  1     36992  ultralytics.nn.modules.conv.Conv             [64, 64, 3, 2]                \n",
      " 18            [-1, 13]  1         0  ultralytics.nn.modules.conv.Concat           [1]                           \n",
      " 19                  -1  1    123648  ultralytics.nn.modules.block.C2f             [192, 128, 1]                 \n",
      " 20                  -1  1     18048  ultralytics.nn.modules.block.SCDown          [128, 128, 3, 2]              \n",
      " 21            [-1, 10]  1         0  ultralytics.nn.modules.conv.Concat           [1]                           \n",
      " 22                  -1  1    282624  ultralytics.nn.modules.block.C2fCIB          [384, 256, 1, True, True]     \n",
      " 23        [16, 19, 22]  1    861718  ultralytics.nn.modules.head.v10Detect        [1, [64, 128, 256]]           \n",
      "YOLOv10n summary: 385 layers, 2,707,430 parameters, 2,707,414 gradients, 8.4 GFLOPs\n",
      "\n",
      "\u001b[34m\u001b[1mTensorBoard: \u001b[0mStart with 'tensorboard --logdir runs\\detect\\train36', view at http://localhost:6006/\n",
      "Freezing layer 'model.23.dfl.conv.weight'\n",
      "\u001b[34m\u001b[1mAMP: \u001b[0mrunning Automatic Mixed Precision (AMP) checks with YOLOv8n...\n",
      "\u001b[34m\u001b[1mAMP: \u001b[0mchecks passed \n"
     ]
    },
    {
     "name": "stderr",
     "output_type": "stream",
     "text": [
      "\u001b[34m\u001b[1mtrain: \u001b[0mScanning C:\\Users\\Khaled\\Documents\\GitHub\\Mele-RIMBA\\Datasets\\For YOLO\\Bee\\labels\\train.cache... 504 images, 144 backgrounds, 0 corrupt: 100%|██████████| 504/504 [00:00<?, ?it/s]\n",
      "\u001b[34m\u001b[1mval: \u001b[0mScanning C:\\Users\\Khaled\\Documents\\GitHub\\Mele-RIMBA\\Datasets\\For YOLO\\Bee\\labels\\val.cache... 117 images, 17 backgrounds, 0 corrupt: 100%|██████████| 117/117 [00:00<?, ?it/s]\n"
     ]
    },
    {
     "name": "stdout",
     "output_type": "stream",
     "text": [
      "Plotting labels to runs\\detect\\train36\\labels.jpg... \n",
      "\u001b[34m\u001b[1moptimizer:\u001b[0m 'optimizer=auto' found, ignoring 'lr0=0.01' and 'momentum=0.937' and determining best 'optimizer', 'lr0' and 'momentum' automatically... \n",
      "\u001b[34m\u001b[1moptimizer:\u001b[0m AdamW(lr=0.002, momentum=0.9) with parameter groups 95 weight(decay=0.0), 108 weight(decay=0.0005), 107 bias(decay=0.0)\n",
      "\u001b[34m\u001b[1mTensorBoard: \u001b[0mmodel graph visualization added \n",
      "Image sizes 640 train, 640 val\n",
      "Using 8 dataloader workers\n",
      "Logging results to \u001b[1mruns\\detect\\train36\u001b[0m\n",
      "Starting training for 100 epochs...\n",
      "\n",
      "      Epoch    GPU_mem   box_loss   cls_loss   dfl_loss  Instances       Size\n"
     ]
    },
    {
     "name": "stderr",
     "output_type": "stream",
     "text": [
      "      1/100      4.06G      13.78      94.56      8.575        578        640:  19%|█▉        | 6/32 [00:05<00:20,  1.26it/s]"
     ]
    }
   ],
   "source": [
    "results = []\n",
    "for model in models:\n",
    "    result = model.train(data='config.yaml')\n",
    "    print(f\"Training:\\n {result}\")\n",
    "    result=model.val()\n",
    "    print(f\"Validation:\\n {result}\")\n",
    "    results.append(result)"
   ]
  }
 ],
 "metadata": {
  "kernelspec": {
   "display_name": "Python 3",
   "language": "python",
   "name": "python3"
  },
  "language_info": {
   "codemirror_mode": {
    "name": "ipython",
    "version": 3
   },
   "file_extension": ".py",
   "mimetype": "text/x-python",
   "name": "python",
   "nbconvert_exporter": "python",
   "pygments_lexer": "ipython3",
   "version": "3.12.0"
  }
 },
 "nbformat": 4,
 "nbformat_minor": 2
}
