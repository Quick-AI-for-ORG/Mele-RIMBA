{
 "cells": [
  {
   "cell_type": "code",
   "execution_count": 1,
   "metadata": {
    "notebookRunGroups": {
     "groupValue": "1"
    }
   },
   "outputs": [
    {
     "name": "stderr",
     "output_type": "stream",
     "text": [
      "C:\\Users\\Khaled\\AppData\\Roaming\\Python\\Python312\\site-packages\\torch\\utils\\_pytree.py:185: FutureWarning: optree is installed but the version is too old to support PyTorch Dynamo in C++ pytree. C++ pytree support is disabled. Please consider upgrading optree using `python3 -m pip install --upgrade 'optree>=0.13.0'`.\n",
      "  warnings.warn(\n"
     ]
    }
   ],
   "source": [
    "import cv2\n",
    "import numpy as np\n",
    "import pyautogui\n",
    "from ultralytics import YOLO"
   ]
  },
  {
   "cell_type": "code",
   "execution_count": 2,
   "metadata": {
    "notebookRunGroups": {
     "groupValue": "1"
    }
   },
   "outputs": [],
   "source": [
    "model_path = 'Yolos/Varroa/3rd dataset/train38/weights/best.pt'  \n",
    "model = YOLO(model_path)"
   ]
  },
  {
   "cell_type": "code",
   "execution_count": 3,
   "metadata": {},
   "outputs": [],
   "source": [
    "threshold = 0.1"
   ]
  },
  {
   "cell_type": "code",
   "execution_count": 4,
   "metadata": {},
   "outputs": [],
   "source": [
    "screen_width, screen_height = pyautogui.size()\n",
    "\n",
    "region = (0, 0, screen_width, screen_height)\n",
    "\n",
    "window_name = \"YOLO Detection on Screen\"\n",
    "cv2.namedWindow(window_name, cv2.WINDOW_NORMAL)  \n",
    "cv2.resizeWindow(window_name, 800, 600)  \n",
    "\n",
    "while True:\n",
    "    screenshot = pyautogui.screenshot(region=region)\n",
    "    frame = np.array(screenshot)\n",
    "\n",
    "    frame = cv2.cvtColor(frame, cv2.COLOR_RGB2BGR)\n",
    "\n",
    "    results = model.predict(source=frame, conf=threshold, verbose=False)\n",
    "\n",
    "    detections = results[0].boxes.data.cpu().numpy()  \n",
    "    class_counts = {}\n",
    "    for detection in detections:\n",
    "        class_id = int(detection[5])  \n",
    "        class_counts[class_id] = class_counts.get(class_id, 0) + 1\n",
    "        \n",
    "    annotated_frame = results[0].plot()\n",
    "    \n",
    "    y_offset = 20\n",
    "    for class_id, count in class_counts.items():\n",
    "        class_name = model.names[class_id]  \n",
    "        text = f\"{class_name}: {count}\"\n",
    "        cv2.putText(\n",
    "            annotated_frame,\n",
    "            text,\n",
    "            (10, y_offset),\n",
    "            cv2.FONT_HERSHEY_SIMPLEX,\n",
    "            0.7,\n",
    "            (0, 255, 0),\n",
    "            2,\n",
    "            cv2.LINE_AA,\n",
    "        )\n",
    "        y_offset += 30\n",
    "    cv2.imshow(window_name, annotated_frame)\n",
    "\n",
    "    if cv2.waitKey(1) & 0xFF == ord('q'):\n",
    "        break\n",
    "\n",
    "cv2.destroyAllWindows()"
   ]
  }
 ],
 "metadata": {
  "kernelspec": {
   "display_name": "Python 3",
   "language": "python",
   "name": "python3"
  },
  "language_info": {
   "codemirror_mode": {
    "name": "ipython",
    "version": 3
   },
   "file_extension": ".py",
   "mimetype": "text/x-python",
   "name": "python",
   "nbconvert_exporter": "python",
   "pygments_lexer": "ipython3",
   "version": "3.12.0"
  }
 },
 "nbformat": 4,
 "nbformat_minor": 2
}
