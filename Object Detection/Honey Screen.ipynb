{
 "cells": [
  {
   "cell_type": "code",
   "execution_count": 1,
   "metadata": {
    "notebookRunGroups": {
     "groupValue": "1"
    }
   },
   "outputs": [],
   "source": [
    "import cv2\n",
    "import numpy as np\n",
    "import pyautogui\n",
    "from ultralytics import YOLO"
   ]
  },
  {
   "cell_type": "code",
   "execution_count": 2,
   "metadata": {
    "notebookRunGroups": {
     "groupValue": "1"
    }
   },
   "outputs": [],
   "source": [
    "# Load your YOLO model\n",
    "model_path = 'Yolos/Honeycomb/train17/weights/best.pt'  # Path to your custom YOLO model\n",
    "model = YOLO(model_path)"
   ]
  },
  {
   "cell_type": "code",
   "execution_count": 3,
   "metadata": {},
   "outputs": [],
   "source": [
    "# Set the detection threshold\n",
    "threshold = 0.2"
   ]
  },
  {
   "cell_type": "code",
   "execution_count": 4,
   "metadata": {},
   "outputs": [],
   "source": [
    "# Get screen dimensions\n",
    "screen_width, screen_height = pyautogui.size()\n",
    "\n",
    "# Define region for screen capture (full screen)\n",
    "region = (0, 0, screen_width, screen_height)\n",
    "\n",
    "# Create an OpenCV window and set its properties\n",
    "window_name = \"YOLO Detection on Screen\"\n",
    "cv2.namedWindow(window_name, cv2.WINDOW_NORMAL)  # Allow manual resizing\n",
    "cv2.resizeWindow(window_name, 800, 600)  # Set the initial size of the window\n",
    "\n",
    "while True:\n",
    "    # Capture the screen\n",
    "    screenshot = pyautogui.screenshot(region=region)\n",
    "    frame = np.array(screenshot)\n",
    "\n",
    "    # Convert colors from PIL to OpenCV (RGB to BGR)\n",
    "    frame = cv2.cvtColor(frame, cv2.COLOR_RGB2BGR)\n",
    "\n",
    "    # Run YOLO model on the frame\n",
    "    results = model.predict(source=frame, conf=threshold, verbose=False)\n",
    "\n",
    "    detections = results[0].boxes.data.cpu().numpy()  # Assuming this returns [x1, y1, x2, y2, confidence, class_id]\n",
    "    class_counts = {}\n",
    "    for detection in detections:\n",
    "        class_id = int(detection[5])  # Get the class ID\n",
    "        class_counts[class_id] = class_counts.get(class_id, 0) + 1\n",
    "        \n",
    "    # Annotate detections on the frame\n",
    "    annotated_frame = results[0].plot()\n",
    "    \n",
    "    y_offset = 20\n",
    "    for class_id, count in class_counts.items():\n",
    "        class_name = model.names[class_id]  # Assuming `model.names` maps class IDs to names\n",
    "        text = f\"{class_name}: {count}\"\n",
    "        cv2.putText(\n",
    "            annotated_frame,\n",
    "            text,\n",
    "            (10, y_offset),\n",
    "            cv2.FONT_HERSHEY_SIMPLEX,\n",
    "            0.7,\n",
    "            (0, 255, 0),\n",
    "            2,\n",
    "            cv2.LINE_AA,\n",
    "        )\n",
    "        y_offset += 30\n",
    "    # Display the frame in the resized window\n",
    "    cv2.imshow(window_name, annotated_frame)\n",
    "\n",
    "    # Exit when 'q' is pressed\n",
    "    if cv2.waitKey(1) & 0xFF == ord('q'):\n",
    "        break\n",
    "\n",
    "# Cleanup\n",
    "cv2.destroyAllWindows()"
   ]
  }
 ],
 "metadata": {
  "kernelspec": {
   "display_name": "Python 3",
   "language": "python",
   "name": "python3"
  },
  "language_info": {
   "codemirror_mode": {
    "name": "ipython",
    "version": 3
   },
   "file_extension": ".py",
   "mimetype": "text/x-python",
   "name": "python",
   "nbconvert_exporter": "python",
   "pygments_lexer": "ipython3",
   "version": "3.12.0"
  }
 },
 "nbformat": 4,
 "nbformat_minor": 2
}
